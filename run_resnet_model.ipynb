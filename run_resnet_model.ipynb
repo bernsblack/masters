{
 "cells": [
  {
   "cell_type": "code",
   "execution_count": 1,
   "metadata": {},
   "outputs": [],
   "source": [
    "import os\n",
    "import logging as log\n",
    "from time import strftime\n",
    "from copy import deepcopy\n",
    "from torch import nn, optim\n",
    "import torch.nn.functional as F\n",
    "from utils.data_processing import *\n",
    "from logger.logger import setup_logging\n",
    "from utils.configs import BaseConf\n",
    "from utils.utils import write_json, Timer\n",
    "from models.st_resnet_models import STResNet, STResNetExtra\n",
    "from dataloaders.grid_loader import GridDataLoaders\n",
    "from datasets.grid_dataset import GridDataGroup\n",
    "from utils.metrics import PRCurvePlotter, ROCCurvePlotter, LossPlotter, best_threshold, get_y_pred\n",
    "from sklearn.metrics import accuracy_score, average_precision_score, roc_auc_score\n",
    "from models.model_result import ModelResult, ModelMetrics\n",
    "from utils.mock_data import mock_fnn_data_classification\n",
    "from trainers.generic_trainer import train_model\n",
    "from utils.plots import im\n",
    "from utils.utils import pshape\n",
    "from models.model_result import save_metrics"
   ]
  },
  {
   "cell_type": "code",
   "execution_count": 2,
   "metadata": {},
   "outputs": [
    {
     "name": "stdout",
     "output_type": "stream",
     "text": [
      "2019-10-31T07:07:32 | root | INFO | =====================================BEGIN=====================================\n",
      "2019-10-31T07:07:32 | root | INFO | Device: cpu\n"
     ]
    }
   ],
   "source": [
    "start_date = \"2013-01-01\"\n",
    "end_date = \"2015-01-01\" \n",
    "\n",
    "data_dim_str = \"T24H-X850M-Y880M\"#\"T1H-X1700M-Y1760M\"  # needs to exist\n",
    "model_name = \"ST-RESNET\"  # needs to be created\n",
    "data_path = f\"./data/processed/{data_dim_str}_{start_date}_{end_date}/\"\n",
    "\n",
    "if not os.path.exists(data_path):\n",
    "    raise Exception(f\"Directory ({data_path}) needs to exist.\")\n",
    "\n",
    "model_path = data_path + f\"models/{model_name}/\"\n",
    "os.makedirs(data_path, exist_ok=True)\n",
    "os.makedirs(model_path, exist_ok=True)\n",
    "\n",
    "# logging config is set globally thus we only need to call this in this file\n",
    "# imported function logs will follow the configuration\n",
    "setup_logging(save_dir=model_path, log_config='./logger/standard_logger_config.json', default_level=log.INFO)\n",
    "log.info(\"=====================================BEGIN=====================================\")\n",
    "\n",
    "timer = Timer()\n",
    "# manually set the config\n",
    "# manually set the config\n",
    "conf_dict = {\n",
    "    \"seed\": 3,\n",
    "    \"use_cuda\": False,\n",
    "    \n",
    "    \"use_crime_types\": False,\n",
    "    \n",
    "    # data group/data set related\n",
    "    \"val_ratio\": 0.1,  # ratio of the total dataset\n",
    "    \"tst_ratio\": 0.3,# ratio of the total dataset\n",
    "    \"seq_len\": 1,\n",
    "    \"flatten_grid\": True,  # if the shaper should be used to squeeze the data\n",
    "    \n",
    "    # shaper related \n",
    "    \"shaper_top_k\": -1,  # if less then 0, top_k will not be applied\n",
    "    \"shaper_threshold\": 0,\n",
    "\n",
    "    \n",
    "    # data loader related\n",
    "    \"sub_sample_train_set\": True,\n",
    "    \"sub_sample_validation_set\": True,\n",
    "    \"sub_sample_test_set\": False,\n",
    "    \n",
    "    # training parameters\n",
    "    \"resume\": False,\n",
    "    \"early_stopping\": False,\n",
    "    \"tolerance\": 1e-8,\n",
    "    \"lr\": 1e-3,\n",
    "    \"weight_decay\": 1e-8,\n",
    "    \"max_epochs\": 1,\n",
    "    \"batch_size\": 64,\n",
    "    \"dropout\": 0.2,\n",
    "    \"shuffle\": False,\n",
    "    \"num_workers\": 6,\n",
    "    \n",
    "    # attached global variables - bad practice -find alternative\n",
    "    \"device\": None,  # pytorch device object [CPU|GPU]\n",
    "    \"timer\": Timer(),\n",
    "    \"model_name\": model_name,\n",
    "    \"model_path\": model_path,\n",
    "    \"checkpoint\": \"best\",\n",
    "    \n",
    "    \"use_seq_loss\": True,\n",
    "}\n",
    "conf = BaseConf(conf_dict=conf_dict)\n",
    "\n",
    "info = deepcopy(conf.__dict__)\n",
    "info[\"start_time\"] = strftime(\"%Y-%m-%dT%H:%M:%S\")\n",
    "\n",
    "# DATA LOADER SETUP\n",
    "np.random.seed(conf.seed)\n",
    "use_cuda = torch.cuda.is_available()\n",
    "if use_cuda:\n",
    "    torch.cuda.manual_seed( conf.seed)\n",
    "else:\n",
    "    torch.manual_seed(conf.seed)\n",
    "\n",
    "device = torch.device(\"cuda:0\" if use_cuda else \"cpu\")\n",
    "log.info(f\"Device: {device}\")\n",
    "info[\"device\"] = device.type\n",
    "conf.device = device"
   ]
  },
  {
   "cell_type": "markdown",
   "metadata": {},
   "source": [
    "### Training loop"
   ]
  },
  {
   "cell_type": "code",
   "execution_count": 3,
   "metadata": {},
   "outputs": [],
   "source": [
    "# fix normal one first then add the extras\n",
    "def train_epoch_for_st_res_net_extra(model, optimiser, batch_loader, loss_fn, total_losses, conf):\n",
    "    \"\"\"\n",
    "    Training the STResNetExtra model for a single epoch\n",
    "    \"\"\"\n",
    "    epoch_losses = []\n",
    "    num_batches = batch_loader.num_batches\n",
    "    \n",
    "    demog_grid = torch.Tensor(batch_loader.dataset.demog_grid).to(conf.device)\n",
    "    street_grid = torch.Tensor(batch_loader.dataset.street_grid).to(conf.device)\n",
    "\n",
    "    for batch_indices, batch_seq_c, batch_seq_p, batch_seq_q, batch_seq_e, batch_seq_t in batch_loader:\n",
    "        current_batch = batch_loader.current_batch\n",
    "\n",
    "        batch_seq_c = torch.Tensor(batch_seq_c).to(conf.device)\n",
    "        batch_seq_p = torch.Tensor(batch_seq_p).to(conf.device)\n",
    "        batch_seq_q = torch.Tensor(batch_seq_q).to(conf.device)\n",
    "        batch_seq_e = torch.Tensor(batch_seq_e).to(conf.device)\n",
    "        batch_seq_t = torch.Tensor(batch_seq_t).to(conf.device)\n",
    "\n",
    "        batch_pred = model(seq_c=batch_seq_c,\n",
    "                           seq_p=batch_seq_p,\n",
    "                           seq_q=batch_seq_q,\n",
    "                           seq_e=batch_seq_e,\n",
    "                           seq_demog=demog_grid,\n",
    "                           seq_gsv=street_grid)\n",
    "        \n",
    "        # might need to flatten\n",
    "        loss = loss_fn(input=batch_pred, target=batch_seq_t)\n",
    "        epoch_losses.append(loss.item())\n",
    "        total_losses.append(epoch_losses[-1])\n",
    "        \n",
    "        if model.training:\n",
    "            optimiser.zero_grad()\n",
    "            loss.backward()\n",
    "            optimiser.step()\n",
    "            log.debug(f\"Batch: {current_batch:04d}/{num_batches:04d} \\t Loss: {epoch_losses[-1]:.4f}\")\n",
    "    mean_epoch_loss = np.mean(epoch_losses)\n",
    "    \n",
    "    return mean_epoch_loss\n",
    "\n",
    "\n",
    "def train_epoch_for_st_res_net(model, optimiser, batch_loader, loss_fn, total_losses, conf):\n",
    "    \"\"\"\n",
    "    Training the STResNet model for a single epoch\n",
    "    \"\"\"\n",
    "    c = 0\n",
    "    epoch_losses = []\n",
    "    num_batches = batch_loader.num_batches\n",
    "    \n",
    "    for batch_indices, batch_seq_c, batch_seq_p, batch_seq_q, batch_seq_e, batch_seq_t in batch_loader:\n",
    "        current_batch = batch_loader.current_batch\n",
    "\n",
    "        batch_seq_c = torch.Tensor(batch_seq_c).to(conf.device)\n",
    "        batch_seq_p = torch.Tensor(batch_seq_p).to(conf.device)\n",
    "        batch_seq_q = torch.Tensor(batch_seq_q).to(conf.device)\n",
    "        batch_seq_e = torch.Tensor(batch_seq_e).to(conf.device)\n",
    "        batch_seq_t = torch.Tensor(batch_seq_t).to(conf.device)\n",
    "\n",
    "        batch_pred = model(seq_c=batch_seq_c,\n",
    "                           seq_p=batch_seq_p,\n",
    "                           seq_q=batch_seq_q,\n",
    "                           seq_e=batch_seq_e)\n",
    "        \n",
    "        # might need to flatten\n",
    "        loss = loss_fn(input=batch_pred, target=batch_seq_t)\n",
    "        epoch_losses.append(loss.item())\n",
    "        total_losses.append(epoch_losses[-1])\n",
    "        \n",
    "        if model.training:\n",
    "            optimiser.zero_grad()\n",
    "            loss.backward()\n",
    "            optimiser.step()\n",
    "            log.debug(f\"Batch: {current_batch:04d}/{num_batches:04d} \\t Loss: {epoch_losses[-1]:.4f}\")\n",
    "        c += 1\n",
    "        if c > 100:\n",
    "            break\n",
    "    mean_epoch_loss = np.mean(epoch_losses)\n",
    "    \n",
    "    return mean_epoch_loss"
   ]
  },
  {
   "cell_type": "code",
   "execution_count": 4,
   "metadata": {},
   "outputs": [
    {
     "name": "stdout",
     "output_type": "stream",
     "text": [
      "2019-10-31T07:07:32 | root | INFO | Data shapes of files in generated_data.npz\n",
      "2019-10-31T07:07:32 | root | INFO | \tcrime_feature_indices shape (10,)\n",
      "2019-10-31T07:07:32 | root | INFO | \tcrime_types_grids shape (730, 10, 47, 33)\n",
      "2019-10-31T07:07:32 | root | INFO | \tcrime_grids shape (730, 1, 47, 33)\n",
      "2019-10-31T07:07:32 | root | INFO | \ttract_count_grids shape (730, 1, 47, 33)\n",
      "2019-10-31T07:07:32 | root | INFO | \tdemog_grid shape (1, 37, 47, 33)\n",
      "2019-10-31T07:07:32 | root | INFO | \tstreet_grid shape (1, 512, 47, 33)\n",
      "2019-10-31T07:07:32 | root | INFO | \ttime_vectors shape (731, 52)\n",
      "2019-10-31T07:07:32 | root | INFO | \tweather_vectors shape (365, 11)\n",
      "2019-10-31T07:07:32 | root | INFO | \tx_range shape (33,)\n",
      "2019-10-31T07:07:32 | root | INFO | \ty_range shape (47,)\n",
      "2019-10-31T07:07:32 | root | INFO | \tt_range shape (731,)\n"
     ]
    }
   ],
   "source": [
    "# SET THE HYPER PARAMETERS\n",
    "conf.early_stopping = False\n",
    "conf.max_epochs = 4\n",
    "conf.dropout = 0 #1e-3\n",
    "conf.weight_decay = 0\n",
    "conf.checkpoint = \"best\" # [\"best\"|\"latest\"]\n",
    "conf.lr = 1e-2\n",
    "conf.batch_size = 32\n",
    "\n",
    "# MOCK = False\n",
    "\n",
    "# CRIME DATA\n",
    "data_group = GridDataGroup(data_path=data_path, conf=conf)\n",
    "loaders = GridDataLoaders(data_group=data_group, conf=conf)"
   ]
  },
  {
   "cell_type": "code",
   "execution_count": 5,
   "metadata": {},
   "outputs": [
    {
     "name": "stdout",
     "output_type": "stream",
     "text": [
      "2019-10-31T07:07:33 | root | INFO | Start Training ST-RESNET\n",
      "2019-10-31T07:07:33 | root | INFO | Using optimiser: \n",
      "Adam (\n",
      "Parameter Group 0\n",
      "    amsgrad: False\n",
      "    betas: (0.9, 0.999)\n",
      "    eps: 1e-08\n",
      "    lr: 0.01\n",
      "    weight_decay: 0\n",
      ")\n",
      "\n",
      "\n",
      "2019-10-31T07:07:33 | root | INFO | Epoch: 0001/0004\n",
      "2019-10-31T07:07:36 | root | INFO | \tLoss (Trn): \t0.03892\n",
      "2019-10-31T07:07:36 | root | INFO | \tLoss (Val): \t0.02190\n",
      "2019-10-31T07:07:36 | root | INFO | \tLoss (Dif): \t0.01702\n",
      "\n",
      "2019-10-31T07:07:36 | root | INFO | Epoch: 0002/0004\n",
      "2019-10-31T07:07:40 | root | INFO | \tLoss (Trn): \t0.02008\n",
      "2019-10-31T07:07:40 | root | INFO | \tLoss (Val): \t0.02027\n",
      "2019-10-31T07:07:40 | root | INFO | \tLoss (Dif): \t0.00018\n",
      "\n",
      "2019-10-31T07:07:40 | root | INFO | Epoch: 0003/0004\n",
      "2019-10-31T07:07:43 | root | INFO | \tLoss (Trn): \t0.01765\n",
      "2019-10-31T07:07:43 | root | INFO | \tLoss (Val): \t0.01857\n",
      "2019-10-31T07:07:43 | root | INFO | \tLoss (Dif): \t0.00092\n",
      "\n",
      "2019-10-31T07:07:43 | root | INFO | Epoch: 0004/0004\n",
      "2019-10-31T07:07:47 | root | INFO | \tLoss (Trn): \t0.01544\n",
      "2019-10-31T07:07:47 | root | INFO | \tLoss (Val): \t0.01826\n",
      "2019-10-31T07:07:47 | root | INFO | \tLoss (Dif): \t0.00282\n",
      "\n",
      "best_val_loss: 0.018262481937805813, stopped_early: False\n"
     ]
    },
    {
     "data": {
      "image/png": "[encoded data removed]",
      "text/plain": [
       "<Figure size 1080x360 with 1 Axes>"
      ]
     },
     "metadata": {
      "needs_background": "light"
     },
     "output_type": "display_data"
    }
   ],
   "source": [
    "conf.resume = False\n",
    "conf.freqstr = data_group.t_range.freqstr    \n",
    "\n",
    "# SET LOSS FUNCTION\n",
    "# size averaged - so more epochs or larger lr for smaller batches\n",
    "loss_function = nn.MSELoss()  \n",
    "\n",
    "# SETUP MODEL\n",
    "dataset = loaders.train_loader.dataset\n",
    "_, h_size, w_size = dataset.crimes.shape\n",
    "_, n_ext_features = dataset.time_vectors.shape\n",
    "\n",
    "USE_EXTRA = True\n",
    "if USE_EXTRA:\n",
    "    train_epoch_fn = train_epoch_for_st_res_net\n",
    "    model = STResNetExtra(n_layers=3,\n",
    "                          n_channels=1,\n",
    "                          y_size=h_size,\n",
    "                          x_size=w_size,\n",
    "\n",
    "                          lc=dataset.n_steps_c,\n",
    "                          lp=dataset.n_steps_p,\n",
    "                          lq=dataset.n_steps_q,\n",
    "\n",
    "                          n_ext_features=n_ext_features,\n",
    "                          n_demog_features=37,\n",
    "                          n_demog_channels=10,\n",
    "                          n_demog_layers=3,\n",
    "\n",
    "                          n_gsv_features=512,\n",
    "                          n_gsv_channels=10,\n",
    "                          n_gsv_layers=3)\n",
    "else:\n",
    "    train_epoch_fn = train_epoch_for_st_res_net\n",
    "    model = STResNet(n_layers=3,\n",
    "                     n_channels=1,\n",
    "                     y_size=h_size,\n",
    "                     x_size=w_size,\n",
    "\n",
    "                     lc=dataset.n_steps_c,\n",
    "                     lp=dataset.n_steps_p,\n",
    "                     lq=dataset.n_steps_q,\n",
    "\n",
    "                     n_ext_features=n_ext_features)    \n",
    "    \n",
    "# todo implement model_arch for res-net\n",
    "model.to(conf.device)\n",
    "\n",
    "# SETUP OPTIMISER\n",
    "parameters = model.parameters()\n",
    "# todo (optional): setup model parameters dynamically \n",
    "\n",
    "optimiser = optim.Adam(params=parameters, lr=conf.lr, weight_decay=conf.weight_decay)\n",
    "\n",
    "if conf.resume:\n",
    "    try:\n",
    "        # resume from previous check point or resume from best validaton score checkpoint\n",
    "        # load model state\n",
    "        model_state_dict = torch.load(f\"{conf.model_path}model_{conf.checkpoint}.pth\",\n",
    "                                      map_location=conf.device.type)\n",
    "        model.load_state_dict(model_state_dict)\n",
    "        \n",
    "        # load optimiser state\n",
    "        optimiser_state_dict = torch.load(f\"{conf.model_path}optimiser_{conf.checkpoint}.pth\",\n",
    "                                          map_location=conf.device.type)\n",
    "        optimiser.load_state_dict(optimiser_state_dict) \n",
    "\n",
    "#         # new optimiser hyper-parameters\n",
    "#         optimiser.param_groups[0]['lr'] = conf.lr\n",
    "#         optimiser.param_groups[0]['weight_decay'] = conf.weight_decay\n",
    "\n",
    "    except Exception as e:\n",
    "        log.error(f\"Nothing to resume from, training from scratch \\n\\t-> {e}\")\n",
    "\n",
    "best_val_loss, stopped_early = train_model(model=model,\n",
    "                                            optimiser=optimiser,\n",
    "                                            loaders=loaders,\n",
    "                                            train_epoch_fn=train_epoch_fn,\n",
    "                                            loss_fn=loss_function,\n",
    "                                            conf=conf)    \n",
    "\n",
    "print(f\"best_val_loss: {best_val_loss}, stopped_early: {stopped_early}\") # use the current epoch instead\n",
    "# if stopped_early -> continue with best_model - new hyper-parameters -> no n "
   ]
  },
  {
   "cell_type": "markdown",
   "metadata": {},
   "source": [
    "### Evaluation Code"
   ]
  },
  {
   "cell_type": "code",
   "execution_count": 6,
   "metadata": {},
   "outputs": [],
   "source": [
    "from utils.metrics import best_threshold"
   ]
  },
  {
   "cell_type": "code",
   "execution_count": 7,
   "metadata": {},
   "outputs": [],
   "source": [
    "\n",
    "# FIX NORMAL ONE FIRST THEN ADD THE EXTRAS\n",
    "def evaluate_st_res_net_extra(model, batch_loader, conf):  \n",
    "    \"\"\"\n",
    "    Only used to get probas in a time and location based format. The hard predictions should be done outside \n",
    "    this function where the threshold is determined using only the training data\n",
    "    \"\"\"\n",
    "    \n",
    "    probas_pred = np.zeros(batch_loader.dataset.target_shape,dtype=np.float)    \n",
    "    y_counts = batch_loader.dataset.targets[-len(probas_pred):]\n",
    "    y_true = np.copy(y_counts)\n",
    "    y_true[y_true > 0] = 1\n",
    "\n",
    "    \n",
    "    t_range = batch_loader.dataset.t_range[-len(probas_pred):]\n",
    "    \n",
    "    with torch.set_grad_enabled(False):\n",
    "        model.eval()\n",
    "            \n",
    "        num_batches = batch_loader.num_batches\n",
    "        \n",
    "        demog_grid = torch.Tensor(batch_loader.dataset.demog_grid).to(conf.device)\n",
    "        street_grid = torch.Tensor(batch_loader.dataset.street_grid).to(conf.device)\n",
    "        \n",
    "        for batch_indices, batch_seq_c, batch_seq_p, batch_seq_q, batch_seq_e, batch_seq_t in batch_loader:\n",
    "            current_batch = batch_loader.current_batch\n",
    "            \n",
    "            batch_seq_c = torch.Tensor(batch_seq_c).to(conf.device)\n",
    "            batch_seq_p = torch.Tensor(batch_seq_p).to(conf.device)\n",
    "            batch_seq_q = torch.Tensor(batch_seq_q).to(conf.device)\n",
    "            batch_seq_e = torch.Tensor(batch_seq_e).to(conf.device)\n",
    "            batch_seq_t = torch.Tensor(batch_seq_t).to(conf.device)\n",
    "\n",
    "            batch_probas_pred = model(seq_c=batch_seq_c,\n",
    "                                      seq_p=batch_seq_p,\n",
    "                                      seq_q=batch_seq_q,\n",
    "                                      seq_e=batch_seq_e,\n",
    "                                      seq_demog=demog_grid,\n",
    "                                      seq_gsv=street_grid)\n",
    "                \n",
    "            for i,p in zip(batch_indices, batch_probas_pred):\n",
    "                probas_pred[i] = p\n",
    "                \n",
    "    \n",
    "    return y_counts, y_true, probas_pred, t_range\n",
    "\n",
    "def evaluate_st_res_net(model, batch_loader, conf):    \n",
    "    \"\"\"\n",
    "    Only used to get probas in a time and location based format. The hard predictions should be done outside \n",
    "    this function where the threshold is determined using only the training data\n",
    "    \"\"\"\n",
    "    \n",
    "    probas_pred = np.zeros(batch_loader.dataset.target_shape,dtype=np.float)    \n",
    "    y_counts = batch_loader.dataset.targets[-len(probas_pred):]\n",
    "    y_true = np.copy(y_counts)\n",
    "    y_true[y_true > 0] = 1\n",
    "    \n",
    "    \n",
    "    t_range = batch_loader.dataset.t_range[-len(probas_pred):]\n",
    "    \n",
    "    with torch.set_grad_enabled(False):\n",
    "        model.eval()\n",
    "            \n",
    "        num_batches = batch_loader.num_batches\n",
    "        \n",
    "        demog_grid = torch.Tensor(batch_loader.dataset.demog_grid).to(conf.device)\n",
    "        street_grid = torch.Tensor(batch_loader.dataset.street_grid).to(conf.device)\n",
    "        \n",
    "        for batch_indices, batch_seq_c, batch_seq_p, batch_seq_q, batch_seq_e, batch_seq_t in batch_loader:\n",
    "            current_batch = batch_loader.current_batch\n",
    "\n",
    "            batch_seq_c = torch.Tensor(batch_seq_c).to(conf.device)\n",
    "            batch_seq_p = torch.Tensor(batch_seq_p).to(conf.device)\n",
    "            batch_seq_q = torch.Tensor(batch_seq_q).to(conf.device)\n",
    "            batch_seq_e = torch.Tensor(batch_seq_e).to(conf.device)\n",
    "            batch_seq_t = torch.Tensor(batch_seq_t).to(conf.device)\n",
    "\n",
    "            batch_probas_pred = model(seq_c=batch_seq_c,\n",
    "                                      seq_p=batch_seq_p,\n",
    "                                      seq_q=batch_seq_q,\n",
    "                                      seq_e=batch_seq_e)                \n",
    "                \n",
    "            for i,p in zip(batch_indices, batch_probas_pred.numpy()):\n",
    "                probas_pred[i] = p           \n",
    "\n",
    "    \n",
    "    return y_counts, y_true, probas_pred, t_range"
   ]
  },
  {
   "cell_type": "code",
   "execution_count": 8,
   "metadata": {},
   "outputs": [],
   "source": [
    "# this is the issue - y_true is continuous and should be 1 or 0\n",
    "# when training y_true is actual count and  "
   ]
  },
  {
   "cell_type": "code",
   "execution_count": 10,
   "metadata": {},
   "outputs": [],
   "source": [
    "from utils.metrics import best_threshold\n",
    "from utils.metrics import PRCurvePlotter, ROCCurvePlotter, PerTimeStepPlotter"
   ]
  },
  {
   "cell_type": "code",
   "execution_count": 11,
   "metadata": {
    "scrolled": false
   },
   "outputs": [
    {
     "name": "stdout",
     "output_type": "stream",
     "text": [
      "2019-10-29T20:37:51 | root | INFO | f1_score: 0.22885357769234574 at index 1855333, new threshold 2.1828467922091477e-08\n",
      "2019-10-29T20:37:56 | root | INFO | f1_score: 0.2181650530198248 at index 1268858, new threshold 7.652405820124386e-09\n",
      "probas_pred\n"
     ]
    },
    {
     "data": {
      "image/png": "[encoded data removed]",
      "text/plain": [
       "<Figure size 720x720 with 2 Axes>"
      ]
     },
     "metadata": {
      "needs_background": "light"
     },
     "output_type": "display_data"
    },
    {
     "name": "stdout",
     "output_type": "stream",
     "text": [
      "y_true\n"
     ]
    },
    {
     "data": {
      "image/png": "[encoded data removed]",
      "text/plain": [
       "<Figure size 720x720 with 2 Axes>"
      ]
     },
     "metadata": {
      "needs_background": "light"
     },
     "output_type": "display_data"
    },
    {
     "name": "stdout",
     "output_type": "stream",
     "text": [
      "y_pred\n"
     ]
    },
    {
     "data": {
      "image/png": "[encoded data removed]",
      "text/plain": [
       "<Figure size 720x720 with 2 Axes>"
      ]
     },
     "metadata": {
      "needs_background": "light"
     },
     "output_type": "display_data"
    },
    {
     "name": "stdout",
     "output_type": "stream",
     "text": [
      "y_counts\n"
     ]
    },
    {
     "data": {
      "image/png": "[encoded data removed]",
      "text/plain": [
       "<Figure size 720x720 with 2 Axes>"
      ]
     },
     "metadata": {
      "needs_background": "light"
     },
     "output_type": "display_data"
    }
   ],
   "source": [
    "trn_y_counts, trn_y_true, trn_probas_pred, trn_t_range = evaluate_st_res_net_extra(model=model,\n",
    "                                                                           batch_loader=loaders.train_loader,\n",
    "                                                                           conf=conf) \n",
    "\n",
    "thresh = best_threshold(trn_y_true, trn_probas_pred) \n",
    "\n",
    "y_counts, y_true, probas_pred, t_range = evaluate_st_res_net(model=model,\n",
    "                                                           batch_loader=loaders.test_loader,\n",
    "                                                           conf=conf)\n",
    "\n",
    "\n",
    "y_pred = get_y_pred(thresh, probas_pred)\n",
    "\n",
    "print(\"probas_pred\")\n",
    "im(probas_pred.mean(0))\n",
    "print(\"y_true\")\n",
    "im(y_true.mean(0))\n",
    "print(\"y_pred\")\n",
    "im(y_pred.mean(0))\n",
    "print(\"y_counts\")\n",
    "im(y_counts.mean(0))\n",
    "\n",
    "y_counts=data_group.shaper.squeeze(np.expand_dims(y_counts,axis=1))    \n",
    "y_true=data_group.shaper.squeeze(np.expand_dims(y_true,axis=1))\n",
    "y_pred=data_group.shaper.squeeze(np.expand_dims(y_pred,axis=1))\n",
    "probas_pred=data_group.shaper.squeeze(np.expand_dims(probas_pred,axis=1))"
   ]
  },
  {
   "cell_type": "code",
   "execution_count": 7,
   "metadata": {
    "scrolled": false
   },
   "outputs": [
    {
     "ename": "NameError",
     "evalue": "name 'PerTimeStepPlotter' is not defined",
     "output_type": "error",
     "traceback": [
      "\u001b[0;31m---------------------------------------------------------------------------\u001b[0m",
      "\u001b[0;31mNameError\u001b[0m                                 Traceback (most recent call last)",
      "\u001b[0;32m<ipython-input-7-496202ef6251>\u001b[0m in \u001b[0;36m<module>\u001b[0;34m\u001b[0m\n\u001b[1;32m      2\u001b[0m \u001b[0;34m\u001b[0m\u001b[0m\n\u001b[1;32m      3\u001b[0m \u001b[0;31m# should be done on the y_count not y_true\u001b[0m\u001b[0;34m\u001b[0m\u001b[0;34m\u001b[0m\u001b[0;34m\u001b[0m\u001b[0m\n\u001b[0;32m----> 4\u001b[0;31m \u001b[0mtotal_crime_plot\u001b[0m \u001b[0;34m=\u001b[0m \u001b[0mPerTimeStepPlotter\u001b[0m\u001b[0;34m(\u001b[0m\u001b[0mtime_step\u001b[0m\u001b[0;34m=\u001b[0m\u001b[0mt_range\u001b[0m\u001b[0;34m.\u001b[0m\u001b[0mfreqstr\u001b[0m\u001b[0;34m,\u001b[0m\u001b[0mylabel\u001b[0m\u001b[0;34m=\u001b[0m\u001b[0;34m\"Total Crimes\"\u001b[0m\u001b[0;34m)\u001b[0m\u001b[0;34m\u001b[0m\u001b[0;34m\u001b[0m\u001b[0m\n\u001b[0m\u001b[1;32m      5\u001b[0m \u001b[0mtotal_crime_plot\u001b[0m\u001b[0;34m.\u001b[0m\u001b[0mplot\u001b[0m\u001b[0;34m(\u001b[0m\u001b[0my_pred\u001b[0m\u001b[0;34m.\u001b[0m\u001b[0msum\u001b[0m\u001b[0;34m(\u001b[0m\u001b[0;34m-\u001b[0m\u001b[0;36m1\u001b[0m\u001b[0;34m)\u001b[0m\u001b[0;34m[\u001b[0m\u001b[0;34m:\u001b[0m\u001b[0mlim\u001b[0m\u001b[0;34m,\u001b[0m\u001b[0;36m0\u001b[0m\u001b[0;34m]\u001b[0m\u001b[0;34m,\u001b[0m\u001b[0mlabel\u001b[0m\u001b[0;34m=\u001b[0m\u001b[0;34m\"Predicted\"\u001b[0m\u001b[0;34m)\u001b[0m\u001b[0;34m\u001b[0m\u001b[0;34m\u001b[0m\u001b[0m\n\u001b[1;32m      6\u001b[0m \u001b[0mtotal_crime_plot\u001b[0m\u001b[0;34m.\u001b[0m\u001b[0mplot\u001b[0m\u001b[0;34m(\u001b[0m\u001b[0my_counts\u001b[0m\u001b[0;34m.\u001b[0m\u001b[0msum\u001b[0m\u001b[0;34m(\u001b[0m\u001b[0;34m-\u001b[0m\u001b[0;36m1\u001b[0m\u001b[0;34m)\u001b[0m\u001b[0;34m[\u001b[0m\u001b[0;34m:\u001b[0m\u001b[0mlim\u001b[0m\u001b[0;34m,\u001b[0m\u001b[0;36m0\u001b[0m\u001b[0;34m]\u001b[0m\u001b[0;34m,\u001b[0m\u001b[0mlabel\u001b[0m\u001b[0;34m=\u001b[0m\u001b[0;34m\"Actual\"\u001b[0m\u001b[0;34m)\u001b[0m\u001b[0;34m\u001b[0m\u001b[0;34m\u001b[0m\u001b[0m\n",
      "\u001b[0;31mNameError\u001b[0m: name 'PerTimeStepPlotter' is not defined"
     ]
    }
   ],
   "source": [
    "lim = 1000\n",
    "\n",
    "# should be done on the y_count not y_true    \n",
    "total_crime_plot = PerTimeStepPlotter(time_step=t_range.freqstr,ylabel=\"Total Crimes\")\n",
    "total_crime_plot.plot(y_pred.sum(-1)[:lim,0],label=\"Predicted\")\n",
    "total_crime_plot.plot(y_counts.sum(-1)[:lim,0],label=\"Actual\")\n",
    "total_crime_plot.show()"
   ]
  },
  {
   "cell_type": "code",
   "execution_count": null,
   "metadata": {},
   "outputs": [],
   "source": []
  },
  {
   "cell_type": "code",
   "execution_count": 6,
   "metadata": {},
   "outputs": [
    {
     "ename": "NameError",
     "evalue": "name 'y_counts' is not defined",
     "output_type": "error",
     "traceback": [
      "\u001b[0;31m---------------------------------------------------------------------------\u001b[0m",
      "\u001b[0;31mNameError\u001b[0m                                 Traceback (most recent call last)",
      "\u001b[0;32m<ipython-input-6-eb5110b7cd14>\u001b[0m in \u001b[0;36m<module>\u001b[0;34m\u001b[0m\n\u001b[1;32m      8\u001b[0m \u001b[0;34m\u001b[0m\u001b[0m\n\u001b[1;32m      9\u001b[0m \u001b[0;34m\u001b[0m\u001b[0m\n\u001b[0;32m---> 10\u001b[0;31m \u001b[0mplot_dist\u001b[0m\u001b[0;34m(\u001b[0m\u001b[0my_counts\u001b[0m\u001b[0;34m)\u001b[0m\u001b[0;34m\u001b[0m\u001b[0;34m\u001b[0m\u001b[0m\n\u001b[0m\u001b[1;32m     11\u001b[0m \u001b[0mplot_dist\u001b[0m\u001b[0;34m(\u001b[0m\u001b[0my_true\u001b[0m\u001b[0;34m)\u001b[0m\u001b[0;34m\u001b[0m\u001b[0;34m\u001b[0m\u001b[0m\n\u001b[1;32m     12\u001b[0m \u001b[0mplot_dist\u001b[0m\u001b[0;34m(\u001b[0m\u001b[0mprobas_pred\u001b[0m\u001b[0;34m)\u001b[0m\u001b[0;34m\u001b[0m\u001b[0;34m\u001b[0m\u001b[0m\n",
      "\u001b[0;31mNameError\u001b[0m: name 'y_counts' is not defined"
     ]
    }
   ],
   "source": [
    "def dist(a):\n",
    "    v,c = np.unique(a.flatten(),return_counts=True)\n",
    "    c = c/np.sum(c)\n",
    "    return v,c\n",
    "\n",
    "def plot_dist(a):\n",
    "    plt.bar(*dist(a),alpha=.2)\n",
    "    \n",
    "\n",
    "plot_dist(y_counts)  \n",
    "plot_dist(y_true)\n",
    "plot_dist(probas_pred)"
   ]
  },
  {
   "cell_type": "code",
   "execution_count": null,
   "metadata": {},
   "outputs": [],
   "source": []
  },
  {
   "cell_type": "code",
   "execution_count": null,
   "metadata": {},
   "outputs": [],
   "source": []
  },
  {
   "cell_type": "code",
   "execution_count": null,
   "metadata": {},
   "outputs": [],
   "source": []
  },
  {
   "cell_type": "code",
   "execution_count": null,
   "metadata": {},
   "outputs": [],
   "source": []
  },
  {
   "cell_type": "code",
   "execution_count": null,
   "metadata": {},
   "outputs": [],
   "source": []
  }
 ],
 "metadata": {
  "kernelspec": {
   "display_name": "Python 3",
   "language": "python",
   "name": "python3"
  },
  "language_info": {
   "codemirror_mode": {
    "name": "ipython",
    "version": 3
   },
   "file_extension": ".py",
   "mimetype": "text/x-python",
   "name": "python",
   "nbconvert_exporter": "python",
   "pygments_lexer": "ipython3",
   "version": "3.7.3"
  }
 },
 "nbformat": 4,
 "nbformat_minor": 1
}
