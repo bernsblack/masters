{
 "cells": [
  {
   "cell_type": "markdown",
   "metadata": {},
   "source": [
    "### All we need is to ensure that our model evaluation output of all loaders are the same so that we could easily compare the models. Currenlty we do not have any proper models, this is quite the problem you see. \n",
    "\n",
    "### Should we iterate over the indexes - yes. We can compare the RNN and FNN - with the FNN. So many different things we wanted to plug."
   ]
  },
  {
   "cell_type": "code",
   "execution_count": 1,
   "metadata": {},
   "outputs": [],
   "source": [
    "import pandas as pd\n",
    "import numpy as np\n",
    "from torch.utils.data import Dataset\n",
    "import logging as log\n",
    "from utils.preprocessing import Shaper, MinMaxScaler, minmax_scale\n",
    "from utils.configs import BaseConf"
   ]
  },
  {
   "cell_type": "code",
   "execution_count": 2,
   "metadata": {},
   "outputs": [],
   "source": [
    "import unittest\n",
    "# from datasets.flat_dataset import FlatDataset\n",
    "from utils.preprocessing import Shaper\n",
    "from utils.mock_data import generate_mock_data\n",
    "import numpy as np"
   ]
  },
  {
   "cell_type": "markdown",
   "metadata": {},
   "source": [
    "# Todo `AUC` over time and if re-training is needed"
   ]
  },
  {
   "cell_type": "markdown",
   "metadata": {},
   "source": [
    "# Sequenced RNN"
   ]
  },
  {
   "cell_type": "code",
   "execution_count": 7,
   "metadata": {},
   "outputs": [
    {
     "name": "stdout",
     "output_type": "stream",
     "text": [
      "['T6H-X850M-Y880M',\n",
      " 'T24H-X85M-Y110M',\n",
      " 'T24H-X850M-Y880M',\n",
      " 'T24H-X425M-Y440M',\n",
      " 'T12H-X850M-Y880M',\n",
      " 'T1H-X1700M-Y1760M',\n",
      " 'T3H-X850M-Y880M']\n"
     ]
    }
   ],
   "source": [
    "\n",
    "# data_dim_strs = [\n",
    "#     \"T12H-X850M-Y880M/\",\n",
    "#     \"T1H-X1700M-Y1760M/\",\n",
    "#     \"T24H-X425M-Y440M/\",\n",
    "#     \"T24H-X850M-Y880M/\",\n",
    "#     \"T24H-X85M-Y110M/\",\n",
    "#     \"T3H-X850M-Y880M/\",\n",
    "#     \"T4H-X850M-Y880M/\",\n",
    "#     \"T6H-X850M-Y880M/\"\n",
    "# ]\n",
    "\n",
    "data_dim_strs = os.listdir(\"./data/processed\")[1:]\n",
    "pprint(data_dim_strs)"
   ]
  },
  {
   "cell_type": "code",
   "execution_count": null,
   "metadata": {
    "scrolled": false
   },
   "outputs": [
    {
     "name": "stdout",
     "output_type": "stream",
     "text": [
      "T6H-X850M-Y880M\n",
      "\tcrime_feature_indices shape (11,)\n",
      "\tcrime_types_grids shape (1460, 11, 47, 33)\n",
      "\tcrime_grids shape (1460, 1, 47, 33)\n",
      "\tdemog_grid shape (1, 37, 47, 33)\n",
      "\tstreet_grid shape (1, 512, 47, 33)\n",
      "\ttime_vectors shape (1461, 46)\n",
      "\tweather_vectors shape (1460, 11)\n",
      "\tx_range shape (33,)\n",
      "\ty_range shape (47,)\n",
      "\tt_range shape (1461,)\n",
      "T24H-X85M-Y110M\n",
      "\tcrime_feature_indices shape (11,)\n"
     ]
    }
   ],
   "source": [
    "for data_dim_str in data_dim_strs:\n",
    "    print(data_dim_str)\n",
    "    data_path = f\"./data/processed/{data_dim_str}/\"\n",
    "    zip_file = np.load(data_path + \"generated_data.npz\")\n",
    "\n",
    "    # print info on the read data\n",
    "    log.info(\"Data shapes of files in generated_data.npz\")\n",
    "    for k in zip_file.keys():\n",
    "        try:\n",
    "            v = zip_file[k]\n",
    "            print(f\"\\t{k} shape {np.shape(v)}\")\n",
    "        except ValueError as e:\n",
    "            print(f\"Issue loading {k} ->{e}\")\n",
    "            \n",
    "        \n",
    "    t_range = pd.read_pickle(data_path + \"t_range.pkl\")\n",
    "    print(f\"\\tt_range shape {np.shape(t_range)}\")"
   ]
  },
  {
   "cell_type": "code",
   "execution_count": 8,
   "metadata": {},
   "outputs": [
    {
     "ename": "NameError",
     "evalue": "name 'zip_file' is not defined",
     "output_type": "error",
     "traceback": [
      "\u001b[0;31m---------------------------------------------------------------------------\u001b[0m",
      "\u001b[0;31mNameError\u001b[0m                                 Traceback (most recent call last)",
      "\u001b[0;32m<ipython-input-8-cc5e48878edf>\u001b[0m in \u001b[0;36m<module>\u001b[0;34m\u001b[0m\n\u001b[0;32m----> 1\u001b[0;31m \u001b[0;32mfor\u001b[0m \u001b[0mk\u001b[0m \u001b[0;32min\u001b[0m \u001b[0mzip_file\u001b[0m\u001b[0;34m.\u001b[0m\u001b[0mkeys\u001b[0m\u001b[0;34m(\u001b[0m\u001b[0;34m)\u001b[0m\u001b[0;34m:\u001b[0m\u001b[0;34m\u001b[0m\u001b[0;34m\u001b[0m\u001b[0m\n\u001b[0m\u001b[1;32m      2\u001b[0m     \u001b[0mprint\u001b[0m\u001b[0;34m(\u001b[0m\u001b[0mk\u001b[0m\u001b[0;34m)\u001b[0m\u001b[0;34m\u001b[0m\u001b[0;34m\u001b[0m\u001b[0m\n",
      "\u001b[0;31mNameError\u001b[0m: name 'zip_file' is not defined"
     ]
    }
   ],
   "source": [
    "for k in zip_file.keys():\n",
    "    print(k)"
   ]
  },
  {
   "cell_type": "code",
   "execution_count": 9,
   "metadata": {},
   "outputs": [],
   "source": [
    "data_dim_str = \"T24H-X850M-Y880M\"\n",
    "data_path = f\"./data/processed/{data_dim_str}/\"\n",
    "\n",
    "\n",
    "conf_dict = {\n",
    "    \"seed\": 3,\n",
    "    \"resume\": False,\n",
    "    \"early_stopping\": False,\n",
    "    \"use_cuda\": False,\n",
    "    \"val_ratio\": 0.1,\n",
    "    \"tst_ratio\": 0.2,\n",
    "    \"sub_sample_train_set\": True,\n",
    "    \"sub_sample_validation_set\": True,\n",
    "    \"sub_sample_test_set\": False,\n",
    "    \"flatten_grid\": True,\n",
    "    \"lr\": 1e-3,\n",
    "    \"weight_decay\": 1e-8,\n",
    "    \"max_epochs\": 10,\n",
    "    \"batch_size\": 64,\n",
    "    \"dropout\": 0,\n",
    "    \"shuffle\": False,\n",
    "    \"num_workers\": 6,\n",
    "    \"seq_len\": 0,\n",
    "    \"top_k_cells\": 20,\n",
    "    \"use_top_k_cells\": False,\n",
    "}\n",
    "\n",
    "\n",
    "conf = BaseConf(conf_dict=conf_dict)\n",
    "\n",
    "data_group = FlatDataGroup(data_path=data_path, conf=conf)"
   ]
  },
  {
   "cell_type": "code",
   "execution_count": 10,
   "metadata": {},
   "outputs": [],
   "source": [
    "test_set = data_group.testing_set\n",
    "# get evaluation of each time step - like evaluate sub-test sets per time and see if the actual accuracy dies off.\n",
    "\n"
   ]
  },
  {
   "cell_type": "code",
   "execution_count": 11,
   "metadata": {},
   "outputs": [
    {
     "data": {
      "text/plain": [
       "((72, 1, 763), (72, 11, 763))"
      ]
     },
     "execution_count": 11,
     "metadata": {},
     "output_type": "execute_result"
    }
   ],
   "source": [
    "test_set.targets.shape,test_set.crimes.shape"
   ]
  },
  {
   "cell_type": "code",
   "execution_count": 12,
   "metadata": {},
   "outputs": [
    {
     "data": {
      "text/plain": [
       "(72, 1, 763)"
      ]
     },
     "execution_count": 12,
     "metadata": {},
     "output_type": "execute_result"
    }
   ],
   "source": [
    "test_set.targets.shape"
   ]
  },
  {
   "cell_type": "markdown",
   "metadata": {},
   "source": [
    "# Try simple crime info only training loop\n",
    "### Check other training loops - already have good examples with checkpointing set up"
   ]
  },
  {
   "cell_type": "code",
   "execution_count": null,
   "metadata": {},
   "outputs": [],
   "source": []
  },
  {
   "cell_type": "markdown",
   "metadata": {},
   "source": [
    "## Useful plotting - when it comes to the per cell level predictions\n",
    "## TODO: add cell index sorting to the dataset/datagroup"
   ]
  },
  {
   "cell_type": "code",
   "execution_count": null,
   "metadata": {},
   "outputs": [],
   "source": []
  },
  {
   "cell_type": "code",
   "execution_count": 1,
   "metadata": {},
   "outputs": [
    {
     "ename": "NameError",
     "evalue": "name 'data_group' is not defined",
     "output_type": "error",
     "traceback": [
      "\u001b[0;31m---------------------------------------------------------------------------\u001b[0m",
      "\u001b[0;31mNameError\u001b[0m                                 Traceback (most recent call last)",
      "\u001b[0;32m<ipython-input-1-b5460e701c6d>\u001b[0m in \u001b[0;36m<module>\u001b[0;34m\u001b[0m\n\u001b[0;32m----> 1\u001b[0;31m \u001b[0mog_crimes\u001b[0m \u001b[0;34m=\u001b[0m \u001b[0mdata_group\u001b[0m\u001b[0;34m.\u001b[0m\u001b[0mcrime_scaler\u001b[0m\u001b[0;34m.\u001b[0m\u001b[0minverse_transform\u001b[0m\u001b[0;34m(\u001b[0m\u001b[0mdata_group\u001b[0m\u001b[0;34m.\u001b[0m\u001b[0mcrimes\u001b[0m\u001b[0;34m)\u001b[0m\u001b[0;34m\u001b[0m\u001b[0;34m\u001b[0m\u001b[0m\n\u001b[0m\u001b[1;32m      2\u001b[0m \u001b[0mog_crimes\u001b[0m \u001b[0;34m=\u001b[0m \u001b[0mnp\u001b[0m\u001b[0;34m.\u001b[0m\u001b[0mexp2\u001b[0m\u001b[0;34m(\u001b[0m\u001b[0mog_crimes\u001b[0m\u001b[0;34m)\u001b[0m \u001b[0;34m-\u001b[0m \u001b[0;36m1\u001b[0m\u001b[0;34m\u001b[0m\u001b[0;34m\u001b[0m\u001b[0m\n",
      "\u001b[0;31mNameError\u001b[0m: name 'data_group' is not defined"
     ]
    }
   ],
   "source": [
    "og_crimes = data_group.crime_scaler.inverse_transform(data_group.crimes)\n",
    "og_crimes = np.exp2(og_crimes) - 1"
   ]
  },
  {
   "cell_type": "code",
   "execution_count": null,
   "metadata": {},
   "outputs": [],
   "source": []
  },
  {
   "cell_type": "code",
   "execution_count": 12,
   "metadata": {},
   "outputs": [
    {
     "data": {
      "image/png": "[encoded data removed]",
      "text/plain": [
       "<Figure size 1440x1440 with 2 Axes>"
      ]
     },
     "metadata": {
      "needs_background": "light"
     },
     "output_type": "display_data"
    },
    {
     "data": {
      "image/png": "[encoded data removed]",
      "text/plain": [
       "<Figure size 720x576 with 2 Axes>"
      ]
     },
     "metadata": {
      "needs_background": "light"
     },
     "output_type": "display_data"
    }
   ],
   "source": [
    "top_k = 10\n",
    "last_n_steps = 150\n",
    "crimes = og_crimes[:,0]\n",
    "s = data_group.shaper.squeeze(crimes)\n",
    "indices = np.argsort(s.mean(0))\n",
    "sorted_s = s[:last_n_steps,indices[-top_k:]]\n",
    "plt.figure(figsize=(20,20))\n",
    "plt.imshow(sorted_s,cmap='viridis')\n",
    "plt.colorbar()\n",
    "plt.show()\n",
    "\n",
    "im(crimes.mean(0))"
   ]
  },
  {
   "cell_type": "code",
   "execution_count": 1,
   "metadata": {
    "scrolled": false
   },
   "outputs": [
    {
     "ename": "NameError",
     "evalue": "name 'sorted_s' is not defined",
     "output_type": "error",
     "traceback": [
      "\u001b[0;31m---------------------------------------------------------------------------\u001b[0m",
      "\u001b[0;31mNameError\u001b[0m                                 Traceback (most recent call last)",
      "\u001b[0;32m<ipython-input-1-b8fa1e44abe6>\u001b[0m in \u001b[0;36m<module>\u001b[0;34m\u001b[0m\n\u001b[1;32m      1\u001b[0m \u001b[0;32mfor\u001b[0m \u001b[0mi\u001b[0m \u001b[0;32min\u001b[0m \u001b[0mrange\u001b[0m\u001b[0;34m(\u001b[0m\u001b[0;36m2\u001b[0m\u001b[0;34m)\u001b[0m\u001b[0;34m:\u001b[0m\u001b[0;34m\u001b[0m\u001b[0;34m\u001b[0m\u001b[0m\n\u001b[0;32m----> 2\u001b[0;31m     \u001b[0mdata\u001b[0m \u001b[0;34m=\u001b[0m \u001b[0msorted_s\u001b[0m\u001b[0;34m[\u001b[0m\u001b[0;34m:\u001b[0m\u001b[0;34m,\u001b[0m\u001b[0;34m-\u001b[0m\u001b[0;34m(\u001b[0m\u001b[0mi\u001b[0m\u001b[0;34m+\u001b[0m\u001b[0;36m1\u001b[0m\u001b[0;34m)\u001b[0m\u001b[0;34m]\u001b[0m\u001b[0;34m\u001b[0m\u001b[0;34m\u001b[0m\u001b[0m\n\u001b[0m\u001b[1;32m      3\u001b[0m     \u001b[0mones\u001b[0m \u001b[0;34m=\u001b[0m \u001b[0mnp\u001b[0m\u001b[0;34m.\u001b[0m\u001b[0mcopy\u001b[0m\u001b[0;34m(\u001b[0m\u001b[0mdata\u001b[0m\u001b[0;34m)\u001b[0m\u001b[0;34m\u001b[0m\u001b[0;34m\u001b[0m\u001b[0m\n\u001b[1;32m      4\u001b[0m     \u001b[0mones\u001b[0m\u001b[0;34m[\u001b[0m\u001b[0mones\u001b[0m \u001b[0;34m==\u001b[0m \u001b[0;34m-\u001b[0m\u001b[0;36m1\u001b[0m\u001b[0;34m]\u001b[0m\u001b[0;34m\u001b[0m\u001b[0;34m\u001b[0m\u001b[0m\n\u001b[1;32m      5\u001b[0m     \u001b[0mmean\u001b[0m \u001b[0;34m=\u001b[0m \u001b[0mnp\u001b[0m\u001b[0;34m.\u001b[0m\u001b[0mones_like\u001b[0m\u001b[0;34m(\u001b[0m\u001b[0mdata\u001b[0m\u001b[0;34m)\u001b[0m\u001b[0;34m*\u001b[0m\u001b[0mnp\u001b[0m\u001b[0;34m.\u001b[0m\u001b[0mmean\u001b[0m\u001b[0;34m(\u001b[0m\u001b[0mdata\u001b[0m\u001b[0;34m)\u001b[0m\u001b[0;34m\u001b[0m\u001b[0;34m\u001b[0m\u001b[0m\n",
      "\u001b[0;31mNameError\u001b[0m: name 'sorted_s' is not defined"
     ]
    }
   ],
   "source": [
    "for i in range(2):\n",
    "    data = sorted_s[:,-(i+1)]\n",
    "    ones = np.copy(data)\n",
    "    ones[ones == -1]\n",
    "    mean = np.ones_like(data)*np.mean(data)\n",
    "    cell_plotter = CellPlotter(\"test\")\n",
    "    cell_plotter.plot_predictions(y_true=[1,0,0,1,0,0,1,0,0,1],\n",
    "                                  y_pred=None,[0,1,0,0,1,0,1,0,0,1],\n",
    "                                  probas_pred=[.1,.01,.06,.6,0,.3,.8,0,0,.1])\n",
    "    cell_plotter.show()"
   ]
  }
 ],
 "metadata": {
  "kernelspec": {
   "display_name": "Python 3",
   "language": "python",
   "name": "python3"
  },
  "language_info": {
   "codemirror_mode": {
    "name": "ipython",
    "version": 3
   },
   "file_extension": ".py",
   "mimetype": "text/x-python",
   "name": "python",
   "nbconvert_exporter": "python",
   "pygments_lexer": "ipython3",
   "version": "3.7.3"
  }
 },
 "nbformat": 4,
 "nbformat_minor": 1
}
