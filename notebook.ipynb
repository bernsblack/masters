{
 "cells": [
  {
   "cell_type": "code",
   "execution_count": 29,
   "metadata": {},
   "outputs": [],
   "source": [
    "data_dim_str = \"T24H-X850M-Y880M\"  # needs to exist\n",
    "data_path = f\"./data/processed/{data_dim_str}/\"    \n",
    "\n",
    "\n",
    "conf_dict = {\n",
    "    \"seed\":3,\n",
    "    \"resume\":False,\n",
    "    \"early_stopping\":False,\n",
    "    \"use_weighted_sampler\":True,\n",
    "    \"use_cuda\":False,\n",
    "    \"val_ratio\":0.1,\n",
    "    \"tst_ratio\":0.2,\n",
    "    \"lr\":1e-3,\n",
    "    \"weight_decay\":1e-8,\n",
    "    \"max_epochs\":10,\n",
    "    \"batch_size\":80,\n",
    "    \"shuffle\":False,\n",
    "    \"num_workers\":6,\n",
    "    \"seq_len\":0,\n",
    "}\n",
    "\n",
    "conf = BaseConf(conf_dict=conf_dict)"
   ]
  },
  {
   "cell_type": "code",
   "execution_count": 30,
   "metadata": {},
   "outputs": [],
   "source": [
    "datagroup = CrimeDataGroup(data_path=data_path, conf=conf)"
   ]
  },
  {
   "cell_type": "code",
   "execution_count": null,
   "metadata": {},
   "outputs": [],
   "source": [
    "datagroup.training_set"
   ]
  },
  {
   "cell_type": "code",
   "execution_count": 4,
   "metadata": {},
   "outputs": [
    {
     "name": "stdout",
     "output_type": "stream",
     "text": [
      "crime_feature_indices shape (11,)\n",
      "crime_types_grids shape (365, 11, 47, 33)\n",
      "crime_grids shape (365, 1, 47, 33)\n",
      "demog_grid shape (1, 37, 47, 33)\n",
      "street_grid shape (1, 512, 47, 33)\n",
      "time_vectors shape (366, 43)\n",
      "weather_vectors shape (365, 11)\n",
      "x_range shape (33,)\n",
      "y_range shape (47,)\n",
      "t_range shape (366,)\n"
     ]
    }
   ],
   "source": [
    "zip_file = np.load(data_path + \"generated_data.npz\")\n",
    "for k,v in zip_file.items():\n",
    "    print(f\"{k} shape {np.shape(v)}\")\n",
    "    \n",
    "t_range = pd.read_pickle(data_path + \"t_range.pkl\")    \n",
    "print(f\"t_range shape {np.shape(t_range)}\")"
   ]
  },
  {
   "cell_type": "code",
   "execution_count": 23,
   "metadata": {},
   "outputs": [
    {
     "data": {
      "text/plain": [
       "(366, 43)"
      ]
     },
     "execution_count": 23,
     "metadata": {},
     "output_type": "execute_result"
    }
   ],
   "source": [
    "time_vectors.shape"
   ]
  },
  {
   "cell_type": "code",
   "execution_count": 27,
   "metadata": {},
   "outputs": [
    {
     "data": {
      "text/plain": [
       "array([1., 1., 1., 1., 1., 1., 1., 1., 1., 1., 1., 1., 1., 1., 1., 1., 1.,\n",
       "       1., 1., 1., 1., 1., 1., 1., 1., 1., 1., 1., 1., 1., 1., 1., 1., 1.,\n",
       "       1., 1., 1., 1., 1., 1., 1., 1., 1.])"
      ]
     },
     "execution_count": 27,
     "metadata": {},
     "output_type": "execute_result"
    }
   ],
   "source": [
    "time_vectors = zip_file[\"time_vectors\"]\n",
    "time_vectors.max(0)"
   ]
  },
  {
   "cell_type": "code",
   "execution_count": null,
   "metadata": {},
   "outputs": [],
   "source": []
  },
  {
   "cell_type": "markdown",
   "metadata": {},
   "source": [
    "### testing data structure and folding"
   ]
  },
  {
   "cell_type": "code",
   "execution_count": null,
   "metadata": {},
   "outputs": [],
   "source": [
    "import numpy as np\n",
    "# use as index testing\n",
    "\n",
    "shape = n,c,h,w = 100,3,12,11\n",
    "\n",
    "flat_list = []\n",
    "for t in range(n):\n",
    "    for y in range(h):\n",
    "        for x in range(w):\n",
    "            flat_list.append([t,y,x])\n",
    "            \n",
    "            \n",
    "flat_arr = np.array(flat_list)\n",
    "arr = np.reshape(flat_arr,newshape=shape)\n",
    "\n",
    "\n",
    "t,y,x = 34,6,7\n",
    "\n",
    "index = np.ravel_multi_index(multi_index=(t,y,x), dims=(n,h,w))\n",
    "np.unravel_index(index,shape=(n,h,w))\n"
   ]
  },
  {
   "cell_type": "markdown",
   "metadata": {},
   "source": [
    "# Todo `AUC` over time and if re-training is needed"
   ]
  },
  {
   "cell_type": "code",
   "execution_count": null,
   "metadata": {},
   "outputs": [],
   "source": [
    "np.stack()"
   ]
  },
  {
   "cell_type": "code",
   "execution_count": null,
   "metadata": {},
   "outputs": [],
   "source": []
  },
  {
   "cell_type": "code",
   "execution_count": null,
   "metadata": {},
   "outputs": [],
   "source": []
  },
  {
   "cell_type": "markdown",
   "metadata": {},
   "source": [
    "### sub_sampling time dataframes"
   ]
  },
  {
   "cell_type": "code",
   "execution_count": 36,
   "metadata": {},
   "outputs": [
    {
     "data": {
      "image/png": "[encoded data removed]",
      "text/plain": [
       "<Figure size 432x288 with 1 Axes>"
      ]
     },
     "metadata": {
      "needs_background": "light"
     },
     "output_type": "display_data"
    }
   ],
   "source": [
    "T = 24\n",
    "f = 1/f\n",
    "x = np.arange(T*7)\n",
    "y = np.sin(2*np.pi*x*f)\n",
    "import matplotlib.pyplot as plt\n",
    "plt.plot(x,y)\n",
    "plt.show()"
   ]
  },
  {
   "cell_type": "code",
   "execution_count": null,
   "metadata": {},
   "outputs": [],
   "source": []
  },
  {
   "cell_type": "code",
   "execution_count": null,
   "metadata": {},
   "outputs": [],
   "source": []
  },
  {
   "cell_type": "code",
   "execution_count": null,
   "metadata": {},
   "outputs": [],
   "source": []
  }
 ],
 "metadata": {
  "kernelspec": {
   "display_name": "Python 3",
   "language": "python",
   "name": "python3"
  },
  "language_info": {
   "codemirror_mode": {
    "name": "ipython",
    "version": 3
   },
   "file_extension": ".py",
   "mimetype": "text/x-python",
   "name": "python",
   "nbconvert_exporter": "python",
   "pygments_lexer": "ipython3",
   "version": "3.7.3"
  }
 },
 "nbformat": 4,
 "nbformat_minor": 1
}
