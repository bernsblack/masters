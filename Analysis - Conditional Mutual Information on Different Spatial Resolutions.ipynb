{
 "cells": [
  {
   "cell_type": "code",
   "execution_count": 1,
   "metadata": {},
   "outputs": [],
   "source": [
    "# % matplotlib inline\n",
    "import logging as log\n",
    "from time import strftime\n",
    "from copy import deepcopy\n",
    "from utils.data_processing import *\n",
    "from logger.logger import setup_logging\n",
    "from utils.configs import BaseConf\n",
    "from dataloaders.grid_loader import GridDataLoaders\n",
    "from datasets.grid_dataset import GridDataGroup\n",
    "from utils.utils import get_data_sub_paths, by_ref\n",
    "import pandas as pd\n",
    "\n",
    "pd.set_option('display.max_columns', None)"
   ]
  },
  {
   "cell_type": "code",
   "execution_count": 2,
   "metadata": {},
   "outputs": [],
   "source": [
    "import os\n",
    "\n",
    "os.environ['NUMEXPR_MAX_THREADS'] = str(os.cpu_count())"
   ]
  },
  {
   "cell_type": "code",
   "execution_count": 3,
   "metadata": {},
   "outputs": [],
   "source": [
    "import pandas as pd\n",
    "import numpy as np\n",
    "from pprint import pprint\n",
    "\n",
    "pd.set_option('mode.chained_assignment', None)"
   ]
  },
  {
   "cell_type": "code",
   "execution_count": 4,
   "metadata": {},
   "outputs": [
    {
     "name": "stdout",
     "output_type": "stream",
     "text": [
      "['T168H-X1275M-Y1320M_2001-01-04_2019-01-03_#1f1',\n",
      " 'T1H-X2550M-Y2640M_2014-01-01_2019-01-01_#7ce',\n",
      " 'T24H-X1275M-Y1320M_2012-01-01_2019-01-01_#939',\n",
      " 'T24H-X1700M-Y1760M_2014-01-01_2019-01-01_#828',\n",
      " 'T24H-X255M-Y220M_2012-01-01_2019-01-01_#c97',\n",
      " 'T24H-X425M-Y440M_2012-01-01_2019-01-01_#827',\n",
      " 'T24H-X850M-Y880M_2012-01-01_2019-01-01_#826',\n",
      " 'Totals_T168H_2001-01-04_2019-01-10_LAT41.641_42.024_LON-87.821_-87.525',\n",
      " 'Totals_T1H_2014-01-01_2019-01-01_LAT41.641_42.024_LON-87.821_-87.525',\n",
      " 'Totals_T24H_2001-01-01_2019-01-02_LAT41.641_42.024_LON-87.821_-87.525']\n"
     ]
    }
   ],
   "source": [
    "data_sub_paths = get_data_sub_paths()\n",
    "pprint(sorted(data_sub_paths))"
   ]
  },
  {
   "cell_type": "code",
   "execution_count": 5,
   "metadata": {},
   "outputs": [
    {
     "name": "stdout",
     "output_type": "stream",
     "text": [
      "using: T1H-X2550M-Y2640M_2014-01-01_2019-01-01_#7ce\n"
     ]
    }
   ],
   "source": [
    "data_sub_path = by_ref(\"7ce\")[0]\n",
    "print(f\"using: {data_sub_path}\")"
   ]
  },
  {
   "cell_type": "code",
   "execution_count": 6,
   "metadata": {},
   "outputs": [
    {
     "name": "stdout",
     "output_type": "stream",
     "text": [
      "2021-09-18T16:58:16 | root | INFO | =====================================BEGIN=====================================\n",
      "2021-09-18T16:58:16 | root | INFO | Device: cpu\n"
     ]
    }
   ],
   "source": [
    "conf = BaseConf()\n",
    "conf.model_name = \"test\"  # needs to be created\n",
    "\n",
    "conf.data_path = f\"./data/processed/{data_sub_path}/\"\n",
    "\n",
    "if not os.path.exists(conf.data_path):\n",
    "    raise Exception(f\"Directory ({conf.data_path}) needs to exist.\")\n",
    "\n",
    "conf.model_path = f\"{conf.data_path}models/{conf.model_name}/\"\n",
    "os.makedirs(conf.data_path, exist_ok=True)\n",
    "os.makedirs(conf.model_path, exist_ok=True)\n",
    "\n",
    "# logging config is set globally thus we only need to call this in this file\n",
    "# imported function logs will follow the configuration\n",
    "setup_logging(save_dir=conf.model_path, log_config='./logger/standard_logger_config.json', default_level=log.INFO)\n",
    "log.info(\"=====================================BEGIN=====================================\")\n",
    "\n",
    "info = deepcopy(conf.__dict__)\n",
    "info[\"start_time\"] = strftime(\"%Y-%m-%dT%H:%M:%S\")\n",
    "\n",
    "# DATA LOADER SETUP\n",
    "np.random.seed(conf.seed)\n",
    "use_cuda = False  # torch.cuda.is_available()\n",
    "torch.manual_seed(conf.seed)\n",
    "if use_cuda:\n",
    "    torch.cuda.manual_seed(conf.seed)\n",
    "    torch.backends.cudnn.deterministic = True\n",
    "    torch.backends.cudnn.benchmark = False\n",
    "\n",
    "device = torch.device(\"cuda:0\" if use_cuda else \"cpu\")\n",
    "log.info(f\"Device: {device}\")\n",
    "info[\"device\"] = device.type\n",
    "conf.device = device"
   ]
  },
  {
   "cell_type": "code",
   "execution_count": 7,
   "metadata": {},
   "outputs": [
    {
     "name": "stdout",
     "output_type": "stream",
     "text": [
      "2021-09-18T16:58:27 | root | INFO | Initialising Grid Data Group\n",
      "2021-09-18T16:58:27 | root | INFO | \tt_range: (43825,) 2014-01-01 00:00:00 -> 2019-01-01 00:00:00\n",
      "2021-09-18T16:58:27 | root | INFO | \ttarget_len:\t43320\t(100.000%)\n",
      "2021-09-18T16:58:27 | root | INFO | \ttrn_val_size:\t34680\t(80.055%)\n",
      "2021-09-18T16:58:27 | root | INFO | \ttrn_size:\t26010\t(60.042%)\n",
      "2021-09-18T16:58:27 | root | INFO | \tval_size:\t8670\t(20.014%)\n",
      "2021-09-18T16:58:27 | root | INFO | \ttst_size:\t8640 \t(19.945%)\n"
     ]
    }
   ],
   "source": [
    "conf.batch_size = 128\n",
    "\n",
    "conf.cap_crime_percentile = 0  # 99.95\n",
    "\n",
    "# CRIME DATA\n",
    "data_group = GridDataGroup(data_path=conf.data_path,\n",
    "                           conf=conf)\n",
    "\n",
    "loaders = GridDataLoaders(data_group=data_group,\n",
    "                          conf=conf)"
   ]
  },
  {
   "cell_type": "code",
   "execution_count": 8,
   "metadata": {},
   "outputs": [],
   "source": [
    "grids = data_group.to_counts(sparse_data=data_group.crimes)"
   ]
  },
  {
   "cell_type": "code",
   "execution_count": 9,
   "metadata": {},
   "outputs": [
    {
     "ename": "ModuleNotFoundError",
     "evalue": "No module named 'geopy'",
     "output_type": "error",
     "traceback": [
      "\u001B[0;31m---------------------------------------------------------------------------\u001B[0m",
      "\u001B[0;31mModuleNotFoundError\u001B[0m                       Traceback (most recent call last)",
      "\u001B[0;32m/tmp/ipykernel_970507/518372825.py\u001B[0m in \u001B[0;36m<module>\u001B[0;34m\u001B[0m\n\u001B[0;32m----> 1\u001B[0;31m \u001B[0;32mfrom\u001B[0m \u001B[0mutils\u001B[0m\u001B[0;34m.\u001B[0m\u001B[0minteractive\u001B[0m \u001B[0;32mimport\u001B[0m \u001B[0mnew_interactive_heatmap\u001B[0m\u001B[0;34m,\u001B[0m \u001B[0mState\u001B[0m\u001B[0;34m,\u001B[0m \u001B[0mInteractiveHeatmapsWithLines\u001B[0m\u001B[0;34m\u001B[0m\u001B[0;34m\u001B[0m\u001B[0m\n\u001B[0m\u001B[1;32m      2\u001B[0m \u001B[0;32mfrom\u001B[0m \u001B[0mipywidgets\u001B[0m \u001B[0;32mimport\u001B[0m \u001B[0mLayout\u001B[0m\u001B[0;34m,\u001B[0m \u001B[0mwidgets\u001B[0m\u001B[0;34m\u001B[0m\u001B[0;34m\u001B[0m\u001B[0m\n\u001B[1;32m      3\u001B[0m \u001B[0;34m\u001B[0m\u001B[0m\n",
      "\u001B[0;32m~/Development/masters/utils/interactive.py\u001B[0m in \u001B[0;36m<module>\u001B[0;34m\u001B[0m\n\u001B[1;32m      1\u001B[0m \u001B[0;32mimport\u001B[0m \u001B[0mnumpy\u001B[0m \u001B[0;32mas\u001B[0m \u001B[0mnp\u001B[0m\u001B[0;34m\u001B[0m\u001B[0;34m\u001B[0m\u001B[0m\n\u001B[1;32m      2\u001B[0m \u001B[0;32mimport\u001B[0m \u001B[0mplotly\u001B[0m\u001B[0;34m.\u001B[0m\u001B[0mgraph_objects\u001B[0m \u001B[0;32mas\u001B[0m \u001B[0mgo\u001B[0m\u001B[0;34m\u001B[0m\u001B[0;34m\u001B[0m\u001B[0m\n\u001B[0;32m----> 3\u001B[0;31m \u001B[0;32mfrom\u001B[0m \u001B[0mgeopy\u001B[0m \u001B[0;32mimport\u001B[0m \u001B[0mdistance\u001B[0m\u001B[0;34m\u001B[0m\u001B[0;34m\u001B[0m\u001B[0m\n\u001B[0m\u001B[1;32m      4\u001B[0m \u001B[0;32mfrom\u001B[0m \u001B[0mipywidgets\u001B[0m \u001B[0;32mimport\u001B[0m \u001B[0mLayout\u001B[0m\u001B[0;34m,\u001B[0m \u001B[0mwidgets\u001B[0m\u001B[0;34m\u001B[0m\u001B[0;34m\u001B[0m\u001B[0m\n\u001B[1;32m      5\u001B[0m \u001B[0;32mfrom\u001B[0m \u001B[0mpandas\u001B[0m \u001B[0;32mimport\u001B[0m \u001B[0mTimedelta\u001B[0m\u001B[0;34m\u001B[0m\u001B[0;34m\u001B[0m\u001B[0m\n",
      "\u001B[0;31mModuleNotFoundError\u001B[0m: No module named 'geopy'"
     ]
    }
   ],
   "source": [
    "from utils.interactive import new_interactive_heatmap, State, InteractiveHeatmapsWithLines\n",
    "from ipywidgets import Layout, widgets"
   ]
  },
  {
   "cell_type": "code",
   "execution_count": 10,
   "metadata": {
    "scrolled": false
   },
   "outputs": [
    {
     "ename": "NameError",
     "evalue": "name 'InteractiveHeatmapsWithLines' is not defined",
     "output_type": "error",
     "traceback": [
      "\u001B[0;31m---------------------------------------------------------------------------\u001B[0m",
      "\u001B[0;31mNameError\u001B[0m                                 Traceback (most recent call last)",
      "\u001B[0;32m/tmp/ipykernel_970507/3620009322.py\u001B[0m in \u001B[0;36m<module>\u001B[0;34m\u001B[0m\n\u001B[1;32m      1\u001B[0m \u001B[0;31m# from utils.interactive import InteractiveHeatmaps\u001B[0m\u001B[0;34m\u001B[0m\u001B[0;34m\u001B[0m\u001B[0;34m\u001B[0m\u001B[0m\n\u001B[1;32m      2\u001B[0m \u001B[0;34m\u001B[0m\u001B[0m\n\u001B[0;32m----> 3\u001B[0;31m InteractiveHeatmapsWithLines(\n\u001B[0m\u001B[1;32m      4\u001B[0m     \u001B[0mdate_range\u001B[0m\u001B[0;34m=\u001B[0m\u001B[0mdata_group\u001B[0m\u001B[0;34m.\u001B[0m\u001B[0mt_range\u001B[0m\u001B[0;34m,\u001B[0m\u001B[0;34m\u001B[0m\u001B[0;34m\u001B[0m\u001B[0m\n\u001B[1;32m      5\u001B[0m     \u001B[0mcol_wrap\u001B[0m\u001B[0;34m=\u001B[0m\u001B[0;36m1\u001B[0m\u001B[0;34m,\u001B[0m\u001B[0;34m\u001B[0m\u001B[0;34m\u001B[0m\u001B[0m\n",
      "\u001B[0;31mNameError\u001B[0m: name 'InteractiveHeatmapsWithLines' is not defined"
     ]
    }
   ],
   "source": [
    "# from utils.interactive import InteractiveHeatmaps\n",
    "\n",
    "InteractiveHeatmapsWithLines(\n",
    "    date_range=data_group.t_range,\n",
    "    col_wrap=1,\n",
    "    Counts=grids[:, 0],  #data_group.crimes[:,0],\n",
    ").app"
   ]
  },
  {
   "cell_type": "code",
   "execution_count": 11,
   "metadata": {},
   "outputs": [],
   "source": [
    "if data_group.t_range.freqstr == 'H':\n",
    "    temporal_variables = [\"Hour\", \"Day of Week\"]  # , \"Time of Month\", \"Time of Year\"],\n",
    "else:\n",
    "    temporal_variables = [\"Day of Week\", \"Time of Month\", \"Time of Year\"]"
   ]
  },
  {
   "cell_type": "code",
   "execution_count": 12,
   "metadata": {
    "scrolled": false
   },
   "outputs": [
    {
     "ename": "ModuleNotFoundError",
     "evalue": "No module named 'geopy'",
     "output_type": "error",
     "traceback": [
      "\u001B[0;31m---------------------------------------------------------------------------\u001B[0m",
      "\u001B[0;31mModuleNotFoundError\u001B[0m                       Traceback (most recent call last)",
      "\u001B[0;32m/tmp/ipykernel_970507/2217028128.py\u001B[0m in \u001B[0;36m<module>\u001B[0;34m\u001B[0m\n\u001B[0;32m----> 1\u001B[0;31m \u001B[0;32mfrom\u001B[0m \u001B[0mutils\u001B[0m\u001B[0;34m.\u001B[0m\u001B[0minteractive\u001B[0m \u001B[0;32mimport\u001B[0m \u001B[0minteractive_grid_visualiser\u001B[0m\u001B[0;34m\u001B[0m\u001B[0;34m\u001B[0m\u001B[0m\n\u001B[0m\u001B[1;32m      2\u001B[0m \u001B[0;34m\u001B[0m\u001B[0m\n\u001B[1;32m      3\u001B[0m interactive_grid_visualiser(\n\u001B[1;32m      4\u001B[0m     \u001B[0mgrids\u001B[0m\u001B[0;34m=\u001B[0m\u001B[0mgrids\u001B[0m\u001B[0;34m[\u001B[0m\u001B[0;34m:\u001B[0m\u001B[0;34m,\u001B[0m \u001B[0;36m0\u001B[0m\u001B[0;34m]\u001B[0m\u001B[0;34m,\u001B[0m\u001B[0;34m\u001B[0m\u001B[0;34m\u001B[0m\u001B[0m\n\u001B[1;32m      5\u001B[0m     \u001B[0mt_range\u001B[0m\u001B[0;34m=\u001B[0m\u001B[0mdata_group\u001B[0m\u001B[0;34m.\u001B[0m\u001B[0mt_range\u001B[0m\u001B[0;34m,\u001B[0m\u001B[0;34m\u001B[0m\u001B[0;34m\u001B[0m\u001B[0m\n",
      "\u001B[0;32m~/Development/masters/utils/interactive.py\u001B[0m in \u001B[0;36m<module>\u001B[0;34m\u001B[0m\n\u001B[1;32m      1\u001B[0m \u001B[0;32mimport\u001B[0m \u001B[0mnumpy\u001B[0m \u001B[0;32mas\u001B[0m \u001B[0mnp\u001B[0m\u001B[0;34m\u001B[0m\u001B[0;34m\u001B[0m\u001B[0m\n\u001B[1;32m      2\u001B[0m \u001B[0;32mimport\u001B[0m \u001B[0mplotly\u001B[0m\u001B[0;34m.\u001B[0m\u001B[0mgraph_objects\u001B[0m \u001B[0;32mas\u001B[0m \u001B[0mgo\u001B[0m\u001B[0;34m\u001B[0m\u001B[0;34m\u001B[0m\u001B[0m\n\u001B[0;32m----> 3\u001B[0;31m \u001B[0;32mfrom\u001B[0m \u001B[0mgeopy\u001B[0m \u001B[0;32mimport\u001B[0m \u001B[0mdistance\u001B[0m\u001B[0;34m\u001B[0m\u001B[0;34m\u001B[0m\u001B[0m\n\u001B[0m\u001B[1;32m      4\u001B[0m \u001B[0;32mfrom\u001B[0m \u001B[0mipywidgets\u001B[0m \u001B[0;32mimport\u001B[0m \u001B[0mLayout\u001B[0m\u001B[0;34m,\u001B[0m \u001B[0mwidgets\u001B[0m\u001B[0;34m\u001B[0m\u001B[0;34m\u001B[0m\u001B[0m\n\u001B[1;32m      5\u001B[0m \u001B[0;32mfrom\u001B[0m \u001B[0mpandas\u001B[0m \u001B[0;32mimport\u001B[0m \u001B[0mTimedelta\u001B[0m\u001B[0;34m\u001B[0m\u001B[0;34m\u001B[0m\u001B[0m\n",
      "\u001B[0;31mModuleNotFoundError\u001B[0m: No module named 'geopy'"
     ]
    }
   ],
   "source": [
    "from utils.interactive import interactive_grid_visualiser\n",
    "\n",
    "interactive_grid_visualiser(\n",
    "    grids=grids[:, 0],\n",
    "    t_range=data_group.t_range,\n",
    "    mutual_info=True,\n",
    "    max_offset=365,\n",
    "    temporal_variables=temporal_variables,\n",
    "    bins=0,\n",
    ")"
   ]
  },
  {
   "cell_type": "code",
   "execution_count": 13,
   "metadata": {},
   "outputs": [],
   "source": [
    "from sparse_discrete_table import conditional_mutual_information_over_grid, mutual_information_over_grid"
   ]
  },
  {
   "cell_type": "code",
   "execution_count": 14,
   "metadata": {},
   "outputs": [],
   "source": [
    "from utils.plots import plot"
   ]
  },
  {
   "cell_type": "code",
   "execution_count": 15,
   "metadata": {},
   "outputs": [
    {
     "name": "stdout",
     "output_type": "stream",
     "text": [
      "2021-09-18T16:58:43 | root | INFO | temporal_variables: ['Day of Week', 'Time of Month', 'Time of Year']\n",
      "2021-09-18T16:58:43 | root | INFO | => 0000/0087 => 0.000\n"
     ]
    },
    {
     "ename": "KeyboardInterrupt",
     "evalue": "",
     "output_type": "error",
     "traceback": [
      "\u001B[0;31m---------------------------------------------------------------------------\u001B[0m",
      "\u001B[0;31mKeyboardInterrupt\u001B[0m                         Traceback (most recent call last)",
      "\u001B[0;32m/tmp/ipykernel_970507/183138720.py\u001B[0m in \u001B[0;36m<module>\u001B[0;34m\u001B[0m\n\u001B[1;32m      5\u001B[0m \u001B[0mlog\u001B[0m\u001B[0;34m.\u001B[0m\u001B[0minfo\u001B[0m\u001B[0;34m(\u001B[0m\u001B[0;34mf\"temporal_variables: {temporal_variables}\"\u001B[0m\u001B[0;34m)\u001B[0m\u001B[0;34m\u001B[0m\u001B[0;34m\u001B[0m\u001B[0m\n\u001B[1;32m      6\u001B[0m \u001B[0;34m\u001B[0m\u001B[0m\n\u001B[0;32m----> 7\u001B[0;31m cmi_grid = conditional_mutual_information_over_grid(\n\u001B[0m\u001B[1;32m      8\u001B[0m     \u001B[0mdense_grid\u001B[0m\u001B[0;34m=\u001B[0m\u001B[0msqueezed_grids\u001B[0m\u001B[0;34m[\u001B[0m\u001B[0;34m:\u001B[0m\u001B[0;34m,\u001B[0m \u001B[0;36m0\u001B[0m\u001B[0;34m]\u001B[0m\u001B[0;34m,\u001B[0m\u001B[0;34m\u001B[0m\u001B[0;34m\u001B[0m\u001B[0m\n\u001B[1;32m      9\u001B[0m     \u001B[0mt_range\u001B[0m\u001B[0;34m=\u001B[0m\u001B[0mdata_group\u001B[0m\u001B[0;34m.\u001B[0m\u001B[0mt_range\u001B[0m\u001B[0;34m,\u001B[0m\u001B[0;34m\u001B[0m\u001B[0;34m\u001B[0m\u001B[0m\n",
      "\u001B[0;32m~/Development/masters/sparse_discrete_table.py\u001B[0m in \u001B[0;36mconditional_mutual_information_over_grid\u001B[0;34m(dense_grid, t_range, max_offset, norm, log_norm, include_self, bins, temporal_variables, month_divisions, year_divisions)\u001B[0m\n\u001B[1;32m    653\u001B[0m         \u001B[0;32mif\u001B[0m \u001B[0mi\u001B[0m \u001B[0;34m%\u001B[0m \u001B[0;36m5\u001B[0m \u001B[0;34m==\u001B[0m \u001B[0;36m0\u001B[0m\u001B[0;34m:\u001B[0m\u001B[0;34m\u001B[0m\u001B[0;34m\u001B[0m\u001B[0m\n\u001B[1;32m    654\u001B[0m             \u001B[0mlogging\u001B[0m\u001B[0;34m.\u001B[0m\u001B[0minfo\u001B[0m\u001B[0;34m(\u001B[0m\u001B[0;34mf\"=> {i:04d}/{l:04d} => {i / l * 100:.3f}\"\u001B[0m\u001B[0;34m)\u001B[0m\u001B[0;34m\u001B[0m\u001B[0;34m\u001B[0m\u001B[0m\n\u001B[0;32m--> 655\u001B[0;31m         cmi_y, cmi_x = conditional_mutual_info_over_time(\n\u001B[0m\u001B[1;32m    656\u001B[0m             \u001B[0ma\u001B[0m\u001B[0;34m=\u001B[0m\u001B[0mdense_grid\u001B[0m\u001B[0;34m[\u001B[0m\u001B[0;34m:\u001B[0m\u001B[0;34m,\u001B[0m \u001B[0mi\u001B[0m\u001B[0;34m]\u001B[0m\u001B[0;34m,\u001B[0m\u001B[0;34m\u001B[0m\u001B[0;34m\u001B[0m\u001B[0m\n\u001B[1;32m    657\u001B[0m             \u001B[0mmax_offset\u001B[0m\u001B[0;34m=\u001B[0m\u001B[0mmax_offset\u001B[0m\u001B[0;34m,\u001B[0m\u001B[0;34m\u001B[0m\u001B[0;34m\u001B[0m\u001B[0m\n",
      "\u001B[0;32m~/Development/masters/sparse_discrete_table.py\u001B[0m in \u001B[0;36mconditional_mutual_info_over_time\u001B[0;34m(a, max_offset, norm, log_norm, include_self, cycles, conds, bins)\u001B[0m\n\u001B[1;32m    567\u001B[0m         \u001B[0mcond\u001B[0m \u001B[0;34m=\u001B[0m \u001B[0mconds\u001B[0m\u001B[0;34m[\u001B[0m\u001B[0;34m-\u001B[0m\u001B[0mn\u001B[0m\u001B[0;34m:\u001B[0m\u001B[0;34m]\u001B[0m  \u001B[0;31m# only the current day time information\u001B[0m\u001B[0;34m\u001B[0m\u001B[0;34m\u001B[0m\u001B[0m\n\u001B[1;32m    568\u001B[0m \u001B[0;34m\u001B[0m\u001B[0m\n\u001B[0;32m--> 569\u001B[0;31m         cmi = quick_cond_mutual_info(\n\u001B[0m\u001B[1;32m    570\u001B[0m             \u001B[0mx\u001B[0m\u001B[0;34m=\u001B[0m\u001B[0ma\u001B[0m\u001B[0;34m[\u001B[0m\u001B[0;34m-\u001B[0m\u001B[0mn\u001B[0m\u001B[0;34m:\u001B[0m\u001B[0;34m]\u001B[0m\u001B[0;34m,\u001B[0m  \u001B[0;31m# current date\u001B[0m\u001B[0;34m\u001B[0m\u001B[0;34m\u001B[0m\u001B[0m\n\u001B[1;32m    571\u001B[0m             \u001B[0my\u001B[0m\u001B[0;34m=\u001B[0m\u001B[0ma\u001B[0m\u001B[0;34m[\u001B[0m\u001B[0;34m-\u001B[0m\u001B[0mn\u001B[0m \u001B[0;34m-\u001B[0m \u001B[0mt\u001B[0m\u001B[0;34m:\u001B[0m\u001B[0;34m-\u001B[0m\u001B[0mt\u001B[0m\u001B[0;34m]\u001B[0m\u001B[0;34m,\u001B[0m  \u001B[0;31m# offset date\u001B[0m\u001B[0;34m\u001B[0m\u001B[0;34m\u001B[0m\u001B[0m\n",
      "\u001B[0;32m~/Development/masters/sparse_discrete_table.py\u001B[0m in \u001B[0;36mquick_cond_mutual_info\u001B[0;34m(x, y, z, norm)\u001B[0m\n\u001B[1;32m    454\u001B[0m         \u001B[0mkwargs\u001B[0m\u001B[0;34m[\u001B[0m\u001B[0mk\u001B[0m\u001B[0;34m]\u001B[0m \u001B[0;34m=\u001B[0m \u001B[0mz\u001B[0m\u001B[0;34m[\u001B[0m\u001B[0;34m:\u001B[0m\u001B[0;34m,\u001B[0m \u001B[0mi\u001B[0m\u001B[0;34m]\u001B[0m\u001B[0;34m\u001B[0m\u001B[0;34m\u001B[0m\u001B[0m\n\u001B[1;32m    455\u001B[0m \u001B[0;34m\u001B[0m\u001B[0m\n\u001B[0;32m--> 456\u001B[0;31m     \u001B[0mp_xyz\u001B[0m \u001B[0;34m=\u001B[0m \u001B[0mnew_discrete_table\u001B[0m\u001B[0;34m(\u001B[0m\u001B[0;34m**\u001B[0m\u001B[0mkwargs\u001B[0m\u001B[0;34m)\u001B[0m\u001B[0;34m\u001B[0m\u001B[0;34m\u001B[0m\u001B[0m\n\u001B[0m\u001B[1;32m    457\u001B[0m     \u001B[0mp_xz\u001B[0m \u001B[0;34m=\u001B[0m \u001B[0mp_xyz\u001B[0m\u001B[0;34m[\u001B[0m\u001B[0;34m[\u001B[0m\u001B[0;34m*\u001B[0m\u001B[0mx_names\u001B[0m\u001B[0;34m,\u001B[0m \u001B[0;34m*\u001B[0m\u001B[0mz_names\u001B[0m\u001B[0;34m]\u001B[0m\u001B[0;34m]\u001B[0m\u001B[0;34m\u001B[0m\u001B[0;34m\u001B[0m\u001B[0m\n\u001B[1;32m    458\u001B[0m     \u001B[0mp_yz\u001B[0m \u001B[0;34m=\u001B[0m \u001B[0mp_xyz\u001B[0m\u001B[0;34m[\u001B[0m\u001B[0;34m[\u001B[0m\u001B[0;34m*\u001B[0m\u001B[0my_names\u001B[0m\u001B[0;34m,\u001B[0m \u001B[0;34m*\u001B[0m\u001B[0mz_names\u001B[0m\u001B[0;34m]\u001B[0m\u001B[0;34m]\u001B[0m\u001B[0;34m\u001B[0m\u001B[0;34m\u001B[0m\u001B[0m\n",
      "\u001B[0;32m~/Development/masters/sparse_discrete_table.py\u001B[0m in \u001B[0;36mnew_discrete_table\u001B[0;34m(**kwargs)\u001B[0m\n\u001B[1;32m    387\u001B[0m \u001B[0;34m\u001B[0m\u001B[0m\n\u001B[1;32m    388\u001B[0m     \u001B[0mobs_arr\u001B[0m \u001B[0;34m=\u001B[0m \u001B[0mnp\u001B[0m\u001B[0;34m.\u001B[0m\u001B[0mstack\u001B[0m\u001B[0;34m(\u001B[0m\u001B[0mstack\u001B[0m\u001B[0;34m,\u001B[0m \u001B[0maxis\u001B[0m\u001B[0;34m=\u001B[0m\u001B[0;36m1\u001B[0m\u001B[0;34m)\u001B[0m\u001B[0;34m\u001B[0m\u001B[0;34m\u001B[0m\u001B[0m\n\u001B[0;32m--> 389\u001B[0;31m     \u001B[0mval\u001B[0m\u001B[0;34m,\u001B[0m \u001B[0mcnt\u001B[0m \u001B[0;34m=\u001B[0m \u001B[0mnp\u001B[0m\u001B[0;34m.\u001B[0m\u001B[0munique\u001B[0m\u001B[0;34m(\u001B[0m\u001B[0mobs_arr\u001B[0m\u001B[0;34m,\u001B[0m \u001B[0mreturn_counts\u001B[0m\u001B[0;34m=\u001B[0m\u001B[0;32mTrue\u001B[0m\u001B[0;34m,\u001B[0m \u001B[0maxis\u001B[0m\u001B[0;34m=\u001B[0m\u001B[0;36m0\u001B[0m\u001B[0;34m)\u001B[0m\u001B[0;34m\u001B[0m\u001B[0;34m\u001B[0m\u001B[0m\n\u001B[0m\u001B[1;32m    390\u001B[0m     \u001B[0mprb\u001B[0m \u001B[0;34m=\u001B[0m \u001B[0mcnt\u001B[0m \u001B[0;34m/\u001B[0m \u001B[0mnp\u001B[0m\u001B[0;34m.\u001B[0m\u001B[0msum\u001B[0m\u001B[0;34m(\u001B[0m\u001B[0mcnt\u001B[0m\u001B[0;34m)\u001B[0m\u001B[0;34m\u001B[0m\u001B[0;34m\u001B[0m\u001B[0m\n\u001B[1;32m    391\u001B[0m     \u001B[0mtable\u001B[0m \u001B[0;34m=\u001B[0m \u001B[0;34m{\u001B[0m\u001B[0;34m}\u001B[0m\u001B[0;34m\u001B[0m\u001B[0;34m\u001B[0m\u001B[0m\n",
      "\u001B[0;32m<__array_function__ internals>\u001B[0m in \u001B[0;36munique\u001B[0;34m(*args, **kwargs)\u001B[0m\n",
      "\u001B[0;32m~/anaconda3/envs/masters/lib/python3.9/site-packages/numpy/lib/arraysetops.py\u001B[0m in \u001B[0;36munique\u001B[0;34m(ar, return_index, return_inverse, return_counts, axis)\u001B[0m\n\u001B[1;32m    302\u001B[0m         \u001B[0;32mreturn\u001B[0m \u001B[0muniq\u001B[0m\u001B[0;34m\u001B[0m\u001B[0;34m\u001B[0m\u001B[0m\n\u001B[1;32m    303\u001B[0m \u001B[0;34m\u001B[0m\u001B[0m\n\u001B[0;32m--> 304\u001B[0;31m     output = _unique1d(consolidated, return_index,\n\u001B[0m\u001B[1;32m    305\u001B[0m                        return_inverse, return_counts)\n\u001B[1;32m    306\u001B[0m     \u001B[0moutput\u001B[0m \u001B[0;34m=\u001B[0m \u001B[0;34m(\u001B[0m\u001B[0mreshape_uniq\u001B[0m\u001B[0;34m(\u001B[0m\u001B[0moutput\u001B[0m\u001B[0;34m[\u001B[0m\u001B[0;36m0\u001B[0m\u001B[0;34m]\u001B[0m\u001B[0;34m)\u001B[0m\u001B[0;34m,\u001B[0m\u001B[0;34m)\u001B[0m \u001B[0;34m+\u001B[0m \u001B[0moutput\u001B[0m\u001B[0;34m[\u001B[0m\u001B[0;36m1\u001B[0m\u001B[0;34m:\u001B[0m\u001B[0;34m]\u001B[0m\u001B[0;34m\u001B[0m\u001B[0;34m\u001B[0m\u001B[0m\n",
      "\u001B[0;32m~/anaconda3/envs/masters/lib/python3.9/site-packages/numpy/lib/arraysetops.py\u001B[0m in \u001B[0;36m_unique1d\u001B[0;34m(ar, return_index, return_inverse, return_counts)\u001B[0m\n\u001B[1;32m    321\u001B[0m         \u001B[0maux\u001B[0m \u001B[0;34m=\u001B[0m \u001B[0mar\u001B[0m\u001B[0;34m[\u001B[0m\u001B[0mperm\u001B[0m\u001B[0;34m]\u001B[0m\u001B[0;34m\u001B[0m\u001B[0;34m\u001B[0m\u001B[0m\n\u001B[1;32m    322\u001B[0m     \u001B[0;32melse\u001B[0m\u001B[0;34m:\u001B[0m\u001B[0;34m\u001B[0m\u001B[0;34m\u001B[0m\u001B[0m\n\u001B[0;32m--> 323\u001B[0;31m         \u001B[0mar\u001B[0m\u001B[0;34m.\u001B[0m\u001B[0msort\u001B[0m\u001B[0;34m(\u001B[0m\u001B[0;34m)\u001B[0m\u001B[0;34m\u001B[0m\u001B[0;34m\u001B[0m\u001B[0m\n\u001B[0m\u001B[1;32m    324\u001B[0m         \u001B[0maux\u001B[0m \u001B[0;34m=\u001B[0m \u001B[0mar\u001B[0m\u001B[0;34m\u001B[0m\u001B[0;34m\u001B[0m\u001B[0m\n\u001B[1;32m    325\u001B[0m     \u001B[0mmask\u001B[0m \u001B[0;34m=\u001B[0m \u001B[0mnp\u001B[0m\u001B[0;34m.\u001B[0m\u001B[0mempty\u001B[0m\u001B[0;34m(\u001B[0m\u001B[0maux\u001B[0m\u001B[0;34m.\u001B[0m\u001B[0mshape\u001B[0m\u001B[0;34m,\u001B[0m \u001B[0mdtype\u001B[0m\u001B[0;34m=\u001B[0m\u001B[0mnp\u001B[0m\u001B[0;34m.\u001B[0m\u001B[0mbool_\u001B[0m\u001B[0;34m)\u001B[0m\u001B[0;34m\u001B[0m\u001B[0;34m\u001B[0m\u001B[0m\n",
      "\u001B[0;31mKeyboardInterrupt\u001B[0m: "
     ]
    }
   ],
   "source": [
    "grids = data_group.to_counts(sparse_data=data_group.crimes)\n",
    "\n",
    "squeezed_grids = data_group.shaper.squeeze(grids)\n",
    "\n",
    "log.info(f\"temporal_variables: {temporal_variables}\")\n",
    "\n",
    "cmi_grid = conditional_mutual_information_over_grid(\n",
    "    dense_grid=squeezed_grids[:, 0],\n",
    "    t_range=data_group.t_range,\n",
    "    max_offset=366,\n",
    "    temporal_variables=temporal_variables\n",
    ")"
   ]
  },
  {
   "cell_type": "code",
   "execution_count": null,
   "metadata": {},
   "outputs": [],
   "source": [
    "cmi_grid_ = np.expand_dims(np.swapaxes(cmi_grid, 0, 1), 1)\n",
    "cmi_grid_ = data_group.shaper.unsqueeze(cmi_grid_)\n",
    "\n",
    "interactive_grid_visualiser(\n",
    "    grids=cmi_grid_[:, 0],\n",
    "    t_range=np.arange(len(cmi_grid_[:, 0])),\n",
    ")"
   ]
  },
  {
   "cell_type": "code",
   "execution_count": null,
   "metadata": {},
   "outputs": [],
   "source": [
    "mi_grid = mutual_information_over_grid(\n",
    "    dense_grid=squeezed_grids[:, 0],\n",
    "    max_offset=366,\n",
    ")"
   ]
  },
  {
   "cell_type": "code",
   "execution_count": null,
   "metadata": {
    "scrolled": false
   },
   "outputs": [],
   "source": [
    "mi_grid_ = np.expand_dims(np.swapaxes(mi_grid, 0, 1), 1)\n",
    "mi_grid_ = data_group.shaper.unsqueeze(mi_grid_)\n",
    "\n",
    "interactive_grid_visualiser(\n",
    "    grids=mi_grid_[:, 0],\n",
    "    t_range=np.arange(len(mi_grid_[:, 0])),\n",
    ")"
   ]
  },
  {
   "cell_type": "code",
   "execution_count": null,
   "metadata": {},
   "outputs": [],
   "source": [
    "isinstance(data_group.t_range, pd.core.indexes.datetimes.DatetimeIndex)"
   ]
  },
  {
   "cell_type": "code",
   "execution_count": null,
   "metadata": {},
   "outputs": [],
   "source": [
    "kwargs = {\n",
    "    \"MI\": mi_grid_[:, 0],\n",
    "    \"CMI\": cmi_grid_[:, 0],\n",
    "}\n",
    "\n",
    "InteractiveHeatmapsWithLines(\n",
    "    date_range=np.arange(1, 1 + len(mi_grid_[:, 0])),\n",
    "    col_wrap=2,\n",
    "    **kwargs,\n",
    ").app"
   ]
  },
  {
   "cell_type": "code",
   "execution_count": null,
   "metadata": {
    "scrolled": true
   },
   "outputs": [],
   "source": [
    "# (l, max_offset)\n",
    "mu_grid = np.mean(cmi_grid, axis=1, keepdims=True)\n",
    "std_grid = np.std(cmi_grid, axis=1, keepdims=True)\n",
    "dev_grid = np.abs(cmi_grid - mu_grid) / std_grid\n",
    "# dev_grid = (cmi_grid - mu_grid)/std_grid"
   ]
  },
  {
   "cell_type": "code",
   "execution_count": null,
   "metadata": {},
   "outputs": [],
   "source": [
    "plot(a=dev_grid[0, :])"
   ]
  },
  {
   "cell_type": "code",
   "execution_count": null,
   "metadata": {},
   "outputs": [],
   "source": [
    "dev2weeks = dev_grid[:, :14].mean(1)\n",
    "dev2weeks = np.reshape(dev2weeks, (1, 1, -1))\n",
    "dev2weeks_grid = data_group.shaper.unsqueeze(dev2weeks)[0, 0]\n",
    "new_interactive_heatmap(z=dev2weeks_grid)"
   ]
  },
  {
   "cell_type": "code",
   "execution_count": null,
   "metadata": {},
   "outputs": [],
   "source": [
    "def gradient(data):\n",
    "    x = np.arange(0, len(data))\n",
    "    y = np.array(data)\n",
    "    grad, bias = np.polyfit(x, y, deg=1)\n",
    "    return grad"
   ]
  },
  {
   "cell_type": "code",
   "execution_count": null,
   "metadata": {},
   "outputs": [],
   "source": [
    "dev_sum = []\n",
    "for dev in dev_grid:\n",
    "    #     dev_sum.append(dev[0])\n",
    "    #     dev_sum.append(dev[:10].sum())\n",
    "    dev_sum.append(len(dev[dev > 3]))\n",
    "#     dev_sum.append(gradient(dev[:10]))\n",
    "dev_sum = np.array(dev_sum)\n",
    "dev_sum = np.reshape(dev_sum, (1, 1, -1))\n",
    "dev_sum_grid = data_group.shaper.unsqueeze(dev_sum)[0, 0]\n",
    "\n",
    "new_interactive_heatmap(z=dev_sum_grid)"
   ]
  },
  {
   "cell_type": "code",
   "execution_count": null,
   "metadata": {
    "scrolled": false,
    "pycharm": {
     "name": "#%%\n"
    }
   },
   "outputs": [],
   "source": [
    "from utils.interactive import interactive_grid_visualiser\n",
    "\n",
    "interactive_grid_visualiser(\n",
    "    grids=grids[:, 0],\n",
    "    t_range=data_group.t_range,\n",
    "    mutual_info=True,\n",
    "    max_offset=365,\n",
    "    temporal_variables=[\"Hour\"],  # \"Day of Week\", \"Time of Month\", \"Time of Year\"],\n",
    ")"
   ]
  },
  {
   "cell_type": "code",
   "execution_count": null,
   "outputs": [],
   "source": [],
   "metadata": {
    "collapsed": false,
    "pycharm": {
     "name": "#%%\n"
    }
   }
  }
 ],
 "metadata": {
  "kernelspec": {
   "display_name": "Python 3",
   "language": "python",
   "name": "python3"
  },
  "language_info": {
   "codemirror_mode": {
    "name": "ipython",
    "version": 3
   },
   "file_extension": ".py",
   "mimetype": "text/x-python",
   "name": "python",
   "nbconvert_exporter": "python",
   "pygments_lexer": "ipython3",
   "version": "3.8.3"
  }
 },
 "nbformat": 4,
 "nbformat_minor": 4
}