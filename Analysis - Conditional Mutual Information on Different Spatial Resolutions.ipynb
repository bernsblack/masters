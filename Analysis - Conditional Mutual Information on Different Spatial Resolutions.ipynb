{
 "cells": [
  {
   "cell_type": "code",
   "execution_count": 1,
   "metadata": {},
   "outputs": [],
   "source": [
    "import matplotlib.pyplot as plt\n",
    "%matplotlib inline\n",
    "import os\n",
    "import logging as log\n",
    "from time import strftime\n",
    "from copy import deepcopy\n",
    "from torch import nn, optim\n",
    "import torch.nn.functional as F\n",
    "from utils.data_processing import *\n",
    "from logger.logger import setup_logging\n",
    "from utils.configs import BaseConf\n",
    "from utils.metrics import best_threshold\n",
    "from utils.utils import write_json, Timer\n",
    "from dataloaders.grid_loader import GridDataLoaders\n",
    "from datasets.grid_dataset import GridDataGroup\n",
    "from utils.metrics import PRCurvePlotter, ROCCurvePlotter, LossPlotter, best_threshold, get_y_pred, \\\n",
    "                                get_y_pred_by_thresholds, best_thresholds\n",
    "from sklearn.metrics import accuracy_score, average_precision_score, roc_auc_score\n",
    "from models.model_result import ModelResult, ModelMetrics\n",
    "from trainers.generic_trainer import train_model\n",
    "from utils.plots import im\n",
    "from utils.utils import pshape, get_data_sub_paths, by_ref\n",
    "from models.model_result import save_metrics,save_results, compare_models, compare_all_models, get_metrics_table, \\\n",
    "                            get_models_metrics, get_models_results\n",
    "from models.st_resnet_models import STResNet, STResNetExtra\n",
    "from models.st_resnet_models import train_epoch_for_st_res_net, train_epoch_for_st_res_net_extra\n",
    "from models.st_resnet_models import evaluate_st_res_net, evaluate_st_res_net_extra\n",
    "import pandas as pd\n",
    "from pprint import pprint\n",
    "from torch.optim import lr_scheduler\n",
    "pd.set_option('display.max_columns', None)\n",
    "\n",
    "from sparse_discrete_table import construct_temporal_information\n",
    "from utils.interactive import new_interactive_heatmap"
   ]
  },
  {
   "cell_type": "code",
   "execution_count": 2,
   "metadata": {},
   "outputs": [],
   "source": [
    "import os\n",
    "\n",
    "os.environ['NUMEXPR_MAX_THREADS']  = str(os.cpu_count())"
   ]
  },
  {
   "cell_type": "code",
   "execution_count": 3,
   "metadata": {},
   "outputs": [],
   "source": [
    "from sparse_discrete_table import SparseDiscreteTable, build_discrete_table\n",
    "from ipywidgets import widgets\n",
    "import pandas as pd\n",
    "import numpy as np\n",
    "\n",
    "import plotly.graph_objs as go\n",
    "import plotly.express as px\n",
    "from utils.data_processing import time_series_to_time_index\n",
    "from pprint import pprint\n",
    "from sparse_discrete_table import quick_mutual_info, quick_cond_mutual_info\n",
    "from sparse_discrete_table import mutual_info_over_time, conditional_mutual_info_over_time\n",
    "from utils.interactive import filter_frame, get_total_counts, new_bins, new_int_bins\n",
    "from utils.interactive import get_mean_map, bin_data_frame, State\n",
    "\n",
    "pd.set_option('mode.chained_assignment', None)"
   ]
  },
  {
   "cell_type": "code",
   "execution_count": 4,
   "metadata": {},
   "outputs": [
    {
     "name": "stdout",
     "output_type": "stream",
     "text": [
      "['T1H-X3400M-Y3520M_2014-01-01_2016-01-01_#7cd',\n",
      " 'T24H-X1700M-Y1760M_2014-01-01_2019-01-01_#828',\n",
      " 'T24H-X255M-Y220M_2012-01-01_2019-01-01_#c97',\n",
      " 'T24H-X425M-Y440M_2012-01-01_2019-01-01_#827',\n",
      " 'T24H-X850M-Y880M_2012-01-01_2019-01-01_#826']\n"
     ]
    }
   ],
   "source": [
    "data_sub_paths = get_data_sub_paths()\n",
    "pprint(sorted(data_sub_paths))"
   ]
  },
  {
   "cell_type": "code",
   "execution_count": 5,
   "metadata": {},
   "outputs": [
    {
     "name": "stdout",
     "output_type": "stream",
     "text": [
      "using: T1H-X3400M-Y3520M_2014-01-01_2016-01-01_#7cd\n"
     ]
    }
   ],
   "source": [
    "data_sub_path = by_ref(\"7cd\")[0]\n",
    "print(f\"using: {data_sub_path}\")"
   ]
  },
  {
   "cell_type": "code",
   "execution_count": 6,
   "metadata": {},
   "outputs": [
    {
     "name": "stdout",
     "output_type": "stream",
     "text": [
      "2020-10-30T09:44:12 | root | INFO | =====================================BEGIN=====================================\n",
      "2020-10-30T09:44:12 | root | INFO | Device: cpu\n"
     ]
    }
   ],
   "source": [
    "conf = BaseConf()\n",
    "conf.model_name = \"test\"  # needs to be created\n",
    "\n",
    "conf.data_path = f\"./data/processed/{data_sub_path}/\"\n",
    "\n",
    "if not os.path.exists(conf.data_path):\n",
    "    raise Exception(f\"Directory ({conf.data_path}) needs to exist.\")\n",
    "\n",
    "conf.model_path =  f\"{conf.data_path}models/{conf.model_name}/\"\n",
    "os.makedirs(conf.data_path, exist_ok=True)\n",
    "os.makedirs(conf.model_path, exist_ok=True)\n",
    "\n",
    "# logging config is set globally thus we only need to call this in this file\n",
    "# imported function logs will follow the configuration\n",
    "setup_logging(save_dir=conf.model_path, log_config='./logger/standard_logger_config.json', default_level=log.INFO)\n",
    "log.info(\"=====================================BEGIN=====================================\")\n",
    "\n",
    "info = deepcopy(conf.__dict__)\n",
    "info[\"start_time\"] = strftime(\"%Y-%m-%dT%H:%M:%S\")\n",
    "\n",
    "# DATA LOADER SETUP\n",
    "np.random.seed(conf.seed)\n",
    "use_cuda = False # torch.cuda.is_available()\n",
    "torch.manual_seed(conf.seed)\n",
    "if use_cuda:\n",
    "    torch.cuda.manual_seed(conf.seed)\n",
    "    torch.backends.cudnn.deterministic = True\n",
    "    torch.backends.cudnn.benchmark = False\n",
    "    \n",
    "\n",
    "device = torch.device(\"cuda:0\" if use_cuda else \"cpu\")\n",
    "log.info(f\"Device: {device}\")\n",
    "info[\"device\"] = device.type\n",
    "conf.device = device"
   ]
  },
  {
   "cell_type": "code",
   "execution_count": 7,
   "metadata": {},
   "outputs": [
    {
     "name": "stdout",
     "output_type": "stream",
     "text": [
      "2020-10-30T09:44:13 | root | INFO | Initialising Grid Data Group\n",
      "2020-10-30T09:44:13 | root | INFO | \tt_range: (17521,) 2014-01-01 00:00:00 -> 2016-01-01 00:00:00\n",
      "2020-10-30T09:44:13 | root | INFO | \ttarget_len:\t17016\t(100.000%)\n",
      "2020-10-30T09:44:13 | root | INFO | \ttrn_val_size:\t8376\t(49.224%)\n",
      "2020-10-30T09:44:13 | root | INFO | \ttrn_size:\t6282\t(36.918%)\n",
      "2020-10-30T09:44:13 | root | INFO | \tval_size:\t2094\t(12.306%)\n",
      "2020-10-30T09:44:13 | root | INFO | \ttst_size:\t8640 \t(50.776%)\n"
     ]
    }
   ],
   "source": [
    "conf.batch_size = 128\n",
    "\n",
    "conf.cap_crime_percentile = 0 # 99.95\n",
    "\n",
    "# CRIME DATA\n",
    "data_group = GridDataGroup(data_path=conf.data_path,\n",
    "                           conf=conf)\n",
    "\n",
    "loaders = GridDataLoaders(data_group=data_group,\n",
    "                          conf=conf)"
   ]
  },
  {
   "cell_type": "code",
   "execution_count": 8,
   "metadata": {},
   "outputs": [],
   "source": [
    "grids = data_group.to_counts(sparse_data=data_group.crimes)"
   ]
  },
  {
   "cell_type": "code",
   "execution_count": 9,
   "metadata": {},
   "outputs": [],
   "source": [
    "from utils.interactive import new_interactive_heatmap, State, InteractiveHeatmapsWithLines\n",
    "from ipywidgets import Layout, widgets"
   ]
  },
  {
   "cell_type": "code",
   "execution_count": 10,
   "metadata": {
    "scrolled": false
   },
   "outputs": [
    {
     "data": {
      "application/vnd.jupyter.widget-view+json": {
       "model_id": "16a6eb0a9dbe40aebb10b6f01731b217",
       "version_major": 2,
       "version_minor": 0
      },
      "text/plain": [
       "VBox(children=(Label(value='Date: Wed Jan  1 01:00:00 2014'), HBox(children=(Play(value=0, description='Press …"
      ]
     },
     "metadata": {},
     "output_type": "display_data"
    }
   ],
   "source": [
    "# from utils.interactive import InteractiveHeatmaps\n",
    "\n",
    "InteractiveHeatmapsWithLines(\n",
    "    date_range=data_group.t_range, \n",
    "    col_wrap=1,\n",
    "    Counts=grids[:,0], #data_group.crimes[:,0],\n",
    ").app"
   ]
  },
  {
   "cell_type": "code",
   "execution_count": 11,
   "metadata": {},
   "outputs": [],
   "source": [
    "if data_group.t_range.freqstr == 'H':\n",
    "    temporal_variables=[\"Hour\",\"Day of Week\"]# , \"Time of Month\", \"Time of Year\"],\n",
    "else:\n",
    "    temporal_variables=[\"Day of Week\", \"Time of Month\", \"Time of Year\"]"
   ]
  },
  {
   "cell_type": "code",
   "execution_count": 13,
   "metadata": {
    "scrolled": false
   },
   "outputs": [
    {
     "data": {
      "application/vnd.jupyter.widget-view+json": {
       "model_id": "c00ec1c468aa4202add75f106dca7fbb",
       "version_major": 2,
       "version_minor": 0
      },
      "text/plain": [
       "Box(children=(FigureWidget({\n",
       "    'data': [{'type': 'heatmap',\n",
       "              'uid': 'fdd48014-f160-489b-b3b7-af…"
      ]
     },
     "metadata": {},
     "output_type": "display_data"
    }
   ],
   "source": [
    "from utils.interactive import interactive_grid_visualiser\n",
    "\n",
    "interactive_grid_visualiser(\n",
    "    grids=grids[:,0],\n",
    "    t_range=data_group.t_range, \n",
    "    mutual_info=True,\n",
    "    max_offset=365,\n",
    "    temporal_variables=temporal_variables,\n",
    "    bins=0,\n",
    ")"
   ]
  },
  {
   "cell_type": "code",
   "execution_count": 14,
   "metadata": {},
   "outputs": [],
   "source": [
    "from sparse_discrete_table import conditional_mutual_information_over_grid, mutual_information_over_grid"
   ]
  },
  {
   "cell_type": "code",
   "execution_count": 15,
   "metadata": {},
   "outputs": [],
   "source": [
    "from utils.plots import plot"
   ]
  },
  {
   "cell_type": "code",
   "execution_count": 16,
   "metadata": {},
   "outputs": [
    {
     "name": "stdout",
     "output_type": "stream",
     "text": [
      "2020-10-30T09:48:00 | root | INFO | temporal_variables: ['Hour', 'Day of Week']\n",
      "2020-10-30T09:48:00 | root | INFO | => 0000/0050 => 0.000\n",
      "2020-10-30T09:49:03 | root | INFO | => 0010/0050 => 20.000\n",
      "2020-10-30T09:50:10 | root | INFO | => 0020/0050 => 40.000\n",
      "2020-10-30T09:51:15 | root | INFO | => 0030/0050 => 60.000\n",
      "2020-10-30T09:52:23 | root | INFO | => 0040/0050 => 80.000\n",
      "2020-10-30T09:53:24 | root | INFO | done\n"
     ]
    }
   ],
   "source": [
    "grids = data_group.to_counts(sparse_data=data_group.crimes)\n",
    "\n",
    "squezed_grids = data_group.shaper.squeeze(grids)\n",
    "\n",
    "log.info(f\"temporal_variables: {temporal_variables}\")\n",
    "\n",
    "cmi_grid = conditional_mutual_information_over_grid(\n",
    "    dense_grid=squezed_grids[:, 0],\n",
    "    t_range=data_group.t_range,\n",
    "    max_offset=366,\n",
    "    temporal_variables=temporal_variables\n",
    ")"
   ]
  },
  {
   "cell_type": "code",
   "execution_count": 17,
   "metadata": {},
   "outputs": [
    {
     "data": {
      "application/vnd.jupyter.widget-view+json": {
       "model_id": "32a2a2855bb541d0b6b4a0e77a0e0f44",
       "version_major": 2,
       "version_minor": 0
      },
      "text/plain": [
       "Box(children=(FigureWidget({\n",
       "    'data': [{'type': 'heatmap',\n",
       "              'uid': 'bb5e37b8-81bc-4bf2-a4bf-ea…"
      ]
     },
     "metadata": {},
     "output_type": "display_data"
    }
   ],
   "source": [
    "cmi_grid_ = np.expand_dims(np.swapaxes(cmi_grid, 0,1), 1)\n",
    "cmi_grid_ = data_group.shaper.unsqueeze(cmi_grid_)\n",
    "\n",
    "interactive_grid_visualiser(\n",
    "    grids=cmi_grid_[:,0],\n",
    "    t_range=np.arange(len(cmi_grid_[:,0])), \n",
    ")"
   ]
  },
  {
   "cell_type": "code",
   "execution_count": 41,
   "metadata": {},
   "outputs": [
    {
     "name": "stdout",
     "output_type": "stream",
     "text": [
      "2020-10-30T10:55:06 | root | INFO | => 0000/0050 => 0.000\n",
      "2020-10-30T10:55:33 | root | INFO | => 0010/0050 => 20.000\n",
      "2020-10-30T10:56:01 | root | INFO | => 0020/0050 => 40.000\n",
      "2020-10-30T10:56:28 | root | INFO | => 0030/0050 => 60.000\n",
      "2020-10-30T10:56:55 | root | INFO | => 0040/0050 => 80.000\n",
      "2020-10-30T10:57:21 | root | INFO | done\n"
     ]
    }
   ],
   "source": [
    "mi_grid = mutual_information_over_grid(\n",
    "    dense_grid=squezed_grids[:, 0],\n",
    "    max_offset=366,\n",
    ")"
   ]
  },
  {
   "cell_type": "code",
   "execution_count": 42,
   "metadata": {
    "scrolled": false
   },
   "outputs": [
    {
     "data": {
      "application/vnd.jupyter.widget-view+json": {
       "model_id": "63cb1c9b2e1445cdbdf2b46cbdc96469",
       "version_major": 2,
       "version_minor": 0
      },
      "text/plain": [
       "Box(children=(FigureWidget({\n",
       "    'data': [{'type': 'heatmap',\n",
       "              'uid': '3a43c24e-a527-4f7d-bb0e-d6…"
      ]
     },
     "metadata": {},
     "output_type": "display_data"
    }
   ],
   "source": [
    "mi_grid_ = np.expand_dims(np.swapaxes(mi_grid, 0,1), 1)\n",
    "mi_grid_ = data_group.shaper.unsqueeze(mi_grid_)\n",
    "\n",
    "interactive_grid_visualiser(\n",
    "    grids=mi_grid_[:,0],\n",
    "    t_range=np.arange(len(mi_grid_[:,0])), \n",
    ")"
   ]
  },
  {
   "cell_type": "code",
   "execution_count": 43,
   "metadata": {},
   "outputs": [
    {
     "data": {
      "text/plain": [
       "True"
      ]
     },
     "execution_count": 43,
     "metadata": {},
     "output_type": "execute_result"
    }
   ],
   "source": [
    "isinstance(data_group.t_range, pd.core.indexes.datetimes.DatetimeIndex)"
   ]
  },
  {
   "cell_type": "code",
   "execution_count": 44,
   "metadata": {},
   "outputs": [
    {
     "data": {
      "application/vnd.jupyter.widget-view+json": {
       "model_id": "b710e8c6384c4a5e823d630cd46f6457",
       "version_major": 2,
       "version_minor": 0
      },
      "text/plain": [
       "VBox(children=(Label(value='Index: 0'), HBox(children=(Play(value=0, description='Press play', interval=1000, …"
      ]
     },
     "metadata": {},
     "output_type": "display_data"
    }
   ],
   "source": [
    "kwargs = {\n",
    "    \"MI\":mi_grid_[:,0], \n",
    "    \"CMI\":cmi_grid_[:,0],\n",
    "}\n",
    "\n",
    "InteractiveHeatmapsWithLines(\n",
    "    date_range=np.arange(1,1+len(mi_grid_[:,0])), \n",
    "    col_wrap=2,\n",
    "    **kwargs,\n",
    ").app"
   ]
  },
  {
   "cell_type": "code",
   "execution_count": 30,
   "metadata": {
    "scrolled": true
   },
   "outputs": [],
   "source": [
    "# (l, max_offset)\n",
    "mu_grid = np.mean(cmi_grid, axis=1, keepdims=True)  \n",
    "std_grid = np.std(cmi_grid, axis=1, keepdims=True)\n",
    "dev_grid = np.abs(cmi_grid - mu_grid)/std_grid\n",
    "# dev_grid = (cmi_grid - mu_grid)/std_grid"
   ]
  },
  {
   "cell_type": "code",
   "execution_count": 31,
   "metadata": {},
   "outputs": [
    {
     "data": {
      "application/vnd.plotly.v1+json": {
       "config": {
        "plotlyServerURL": "https://plot.ly"
       },
       "data": [
        {
         "name": "a",
         "type": "scatter",
         "y": [
          1.4579352753146138,
          0.4665351829369949,
          0.3729795854336545,
          0.1361013625792664,
          0.8691223441229131,
          1.0597657994552312,
          0.4648463629576782,
          0.972053399954015,
          0.6930698300729584,
          0.7674727107840487,
          0.6533580775585045,
          0.06065115414724905,
          0.46534151219674946,
          1.0858924710728453,
          0.002787732774799408,
          0.04804878881546868,
          0.5279466538173024,
          0.01229163923685774,
          0.11168759688406882,
          0.18589240074533378,
          0.32973313881697663,
          1.691196649676037,
          0.4100941337574883,
          1.616636652805247,
          0.8515696760332807,
          0.2935815795703655,
          0.08218102469430426,
          0.23717781677190367,
          0.02104211244318647,
          0.05109572844690917,
          2.407146341911214,
          1.0451295118037174,
          0.2012543100033114,
          0.39677635215632145,
          1.7268165154231456,
          1.8764149215099386,
          0.28225901799746,
          0.5644584324371815,
          1.4746071470456692,
          0.9451435582403882,
          0.9233342642999365,
          0.19497964474195648,
          0.22629395333680447,
          0.36548500142690504,
          0.5119171366048306,
          1.0479137017025848,
          1.5401033201844752,
          0.7473351880420726,
          2.156009635495795,
          2.339708280983935,
          1.507153598152942,
          0.3093462558584936,
          0.8775103495835518,
          0.37669188204526594,
          1.9916404741282117,
          0.9192232303541359,
          0.9765982986383809,
          0.18640914409397824,
          0.5041010175316816,
          1.201140607217958,
          0.9304016790692852,
          0.48589861620295577,
          0.5647441878755616,
          2.323836975370114,
          1.2120159036095204,
          0.6369134686626102,
          0.923655624865152,
          0.2866129743583462,
          2.1470868853791147,
          0.5153436611352791,
          1.110738779734984,
          0.913058758927899,
          0.43120433507457984,
          0.6253700760183006,
          1.581429978162584,
          1.893423759976035,
          0.36560951586496493,
          1.266614407272206,
          1.4436871053869196,
          0.6908265742639436,
          0.5711762136922297,
          0.48562414987026536,
          0.44642752344909964,
          0.13972248064091086,
          0.9842871475255316,
          0.7103767536421057,
          0.4656604810853472,
          0.2270931956466303,
          0.09031515897288261,
          0.5280185996172543,
          2.24320606319639,
          1.1779017515753725,
          1.4386354773542522,
          0.7059707543467165,
          0.3255316591463652,
          1.2336041906897013,
          0.5515508662554567,
          0.15609376809323827,
          0.6702050655693971,
          2.4304451331517476,
          0.6436911900378335,
          0.07478004326581422,
          0.11560492346296856,
          0.44406376183740015,
          0.25650564455054836,
          2.7173908437609287,
          2.207525821486677,
          0.04786261963901902,
          2.1723669543910447,
          0.8195376324696944,
          0.9186991566103283,
          0.3396719713331723,
          1.7103596333400484,
          0.3325470385373709,
          0.4228764994516127,
          0.9910245179584741,
          0.45521817778227686,
          0.4109375766793454,
          1.918914406869297,
          1.1361038884746844,
          0.7021039659924204,
          0.06931588731569717,
          2.215019119301133,
          0.15745462670775012,
          0.4810844015714466,
          1.5162410982407992,
          1.0217349443764916,
          1.043062558412918,
          0.018863095885219196,
          0.6242648700497857,
          0.7715441123638824,
          0.9742546801171595,
          1.38835076497238,
          0.20493825522048145,
          0.11333510444996556,
          1.9581573364014637,
          0.4209857068846621,
          0.6936866949782565,
          1.1109510269324736,
          2.196676641981972,
          0.6236894564127651,
          0.7176130478482055,
          0.8360678296573898,
          0.7987415493688849,
          1.2865784611444238,
          1.2119151147230736,
          0.49175979378220575,
          1.4839066471819327,
          1.564332510117642,
          0.7344055322957256,
          1.0677885769245277,
          1.240914085737761,
          0.03840779298756678,
          1.2709383144664348,
          0.16252205961582886,
          0.4687495921503434,
          0.07452183715917518,
          0.4418562726539481,
          0.6728712517059753,
          0.14242163786646597,
          0.3114156768106443,
          0.8201704146661221,
          0.10051189341260111,
          1.4753081381814874,
          0.0938813633553903,
          1.065931616416549,
          0.22773501727884451,
          0.49109535000753185,
          1.2817697800135868,
          0.8464739893221581,
          1.1333515306062525,
          0.30286154598337545,
          0.8002376451802999,
          1.5136451971379674,
          1.4354745426795508,
          1.0852043790733663,
          0.589414190508282,
          0.08831052475213934,
          0.25331575874747014,
          0.18031111618420168,
          0.08350516655575342,
          0.1325181798897329,
          1.5020072938505673,
          0.8823643837229206,
          0.030568758967104474,
          0.6190911495653414,
          1.6184888056379847,
          0.2507970518724956,
          1.2070162269937308,
          0.19005255686384487,
          0.06391752530952909,
          1.5784526035449393,
          0.9779966898539453,
          0.7911447985771211,
          0.9669465185851417,
          0.8638780116428503,
          0.2955414728796497,
          0.7833416120923531,
          0.2983412572477481,
          0.8663889136024802,
          1.300093569528999,
          1.9413902305455757,
          0.6309917502117556,
          1.0588928945923657,
          0.3011550558858757,
          0.24984626383091166,
          1.3880850157309579,
          0.6547480419816644,
          1.2943106729168026,
          2.8870018302603513,
          0.17796138153990396,
          0.8716520011022334,
          0.7556709952549593,
          1.344147228351803,
          0.33133650384302343,
          0.3634008725670139,
          2.83166171683018,
          0.6004256611468585,
          1.08549705132786,
          3.357953782393738,
          1.7031812100027972,
          0.12936269500925443,
          0.07412054787547748,
          0.9126629539657268,
          0.35192204244930186,
          1.3395223441465816,
          1.9604780599468377,
          0.8821235055143869,
          0.13855909691500257,
          1.6565021337602026,
          0.05846856730933362,
          0.2623088939977048,
          0.10326830636228412,
          1.1263510544001012,
          2.141615631354607,
          1.347009442868376,
          0.9213515968459557,
          0.3252321892441359,
          0.396904723079488,
          1.2220068398165567,
          0.7982317446253484,
          0.5773076039101993,
          1.100671397418437,
          0.04819543113302415,
          0.6576766757698869,
          0.7707169309325632,
          0.5837362140572022,
          0.17179101129533664,
          0.9438366740839848,
          0.4675049524089564,
          0.26967546237540496,
          0.4044915973761785,
          0.14059747460945185,
          0.001782827520734537,
          0.42992895148900123,
          0.9373453277305303,
          0.5923233240447412,
          0.7763580920470993,
          0.4224621138452978,
          0.14858874838802477,
          0.6043797876406724,
          0.2378647820653932,
          2.002164014259594,
          1.1275806815397855,
          0.07811144753300214,
          0.16179802968097692,
          1.088140088074808,
          0.1962440771895182,
          0.2628068255365687,
          0.3190085742078982,
          1.2191663823306926,
          0.11164042909977508,
          0.22660056836641676,
          0.9571460236293914,
          0.18446715467950311,
          0.2717660328922197,
          0.32383607277207543,
          1.001783466102919,
          0.7726284054086133,
          1.0687024515346775,
          0.17635339384631754,
          0.2278205266900366,
          0.8340984822394065,
          1.322235758505708,
          1.3758285197593392,
          1.5075334878385451,
          0.9239524966498677,
          0.8293359826036563,
          0.06173729791546013,
          0.2827370980223118,
          0.19735270123223142,
          0.014616361673577181,
          0.6181558421585588,
          1.9984232528861146,
          0.8239056361764238,
          0.49970871485896645,
          1.5629074764339042,
          0.017884353780377168,
          0.3577205303641596,
          0.12874818987012093,
          0.8554589448426294,
          0.9564409492601788,
          0.4938604078069762,
          0.19880082416261904,
          0.2701977123490783,
          0.8730426228238876,
          0.9302655223007622,
          0.2649215768764469,
          0.32961031539428687,
          0.29626570715526684,
          0.6055977858569673,
          1.814796479147722,
          0.20553662808029777,
          0.6842377838283522,
          0.38060828689383847,
          0.17786846211551752,
          0.6299012911048948,
          0.5672092822161986,
          0.5069674638679144,
          0.928968161377633,
          0.6648914419095293,
          0.5719616897310181,
          1.1592017600339508,
          0.21493380200367337,
          0.44838219959592696,
          0.6471187998431596,
          1.016945528518014,
          1.137263109656443,
          0.03742477474565404,
          0.7282122764858673,
          1.9536091938469793,
          1.5883783475358273,
          0.48572461693571867,
          0.030662424799915305,
          0.2419580211739145,
          0.7779891321413265,
          0.4868833053752914,
          2.110770032681982,
          2.302493354868899,
          1.0799983368718582,
          0.5975667505941552,
          0.572105213655191,
          1.3476728413662238,
          0.34449526816373016,
          0.1925917002368795,
          0.15176874999618267,
          0.023091031412451484,
          0.2702352023179707,
          0.900955245595989,
          1.3222180983935232,
          0.492406643038321,
          1.4542521248958837,
          0.7634076135432623,
          0.10774859875639763,
          0.7047770399486014,
          1.527294975899946,
          0.9229807997950978,
          0.9625587595061621,
          0.46387108299385643,
          1.3953819303418644,
          1.4077840344067345,
          1.0658540347811802,
          0.3708515612723465,
          1.7967272887539059,
          0.24771435376338555,
          1.314098647146146
         ]
        }
       ],
       "layout": {
        "template": {
         "data": {
          "bar": [
           {
            "error_x": {
             "color": "#2a3f5f"
            },
            "error_y": {
             "color": "#2a3f5f"
            },
            "marker": {
             "line": {
              "color": "#E5ECF6",
              "width": 0.5
             }
            },
            "type": "bar"
           }
          ],
          "barpolar": [
           {
            "marker": {
             "line": {
              "color": "#E5ECF6",
              "width": 0.5
             }
            },
            "type": "barpolar"
           }
          ],
          "carpet": [
           {
            "aaxis": {
             "endlinecolor": "#2a3f5f",
             "gridcolor": "white",
             "linecolor": "white",
             "minorgridcolor": "white",
             "startlinecolor": "#2a3f5f"
            },
            "baxis": {
             "endlinecolor": "#2a3f5f",
             "gridcolor": "white",
             "linecolor": "white",
             "minorgridcolor": "white",
             "startlinecolor": "#2a3f5f"
            },
            "type": "carpet"
           }
          ],
          "choropleth": [
           {
            "colorbar": {
             "outlinewidth": 0,
             "ticks": ""
            },
            "type": "choropleth"
           }
          ],
          "contour": [
           {
            "colorbar": {
             "outlinewidth": 0,
             "ticks": ""
            },
            "colorscale": [
             [
              0,
              "#0d0887"
             ],
             [
              0.1111111111111111,
              "#46039f"
             ],
             [
              0.2222222222222222,
              "#7201a8"
             ],
             [
              0.3333333333333333,
              "#9c179e"
             ],
             [
              0.4444444444444444,
              "#bd3786"
             ],
             [
              0.5555555555555556,
              "#d8576b"
             ],
             [
              0.6666666666666666,
              "#ed7953"
             ],
             [
              0.7777777777777778,
              "#fb9f3a"
             ],
             [
              0.8888888888888888,
              "#fdca26"
             ],
             [
              1,
              "#f0f921"
             ]
            ],
            "type": "contour"
           }
          ],
          "contourcarpet": [
           {
            "colorbar": {
             "outlinewidth": 0,
             "ticks": ""
            },
            "type": "contourcarpet"
           }
          ],
          "heatmap": [
           {
            "colorbar": {
             "outlinewidth": 0,
             "ticks": ""
            },
            "colorscale": [
             [
              0,
              "#0d0887"
             ],
             [
              0.1111111111111111,
              "#46039f"
             ],
             [
              0.2222222222222222,
              "#7201a8"
             ],
             [
              0.3333333333333333,
              "#9c179e"
             ],
             [
              0.4444444444444444,
              "#bd3786"
             ],
             [
              0.5555555555555556,
              "#d8576b"
             ],
             [
              0.6666666666666666,
              "#ed7953"
             ],
             [
              0.7777777777777778,
              "#fb9f3a"
             ],
             [
              0.8888888888888888,
              "#fdca26"
             ],
             [
              1,
              "#f0f921"
             ]
            ],
            "type": "heatmap"
           }
          ],
          "heatmapgl": [
           {
            "colorbar": {
             "outlinewidth": 0,
             "ticks": ""
            },
            "colorscale": [
             [
              0,
              "#0d0887"
             ],
             [
              0.1111111111111111,
              "#46039f"
             ],
             [
              0.2222222222222222,
              "#7201a8"
             ],
             [
              0.3333333333333333,
              "#9c179e"
             ],
             [
              0.4444444444444444,
              "#bd3786"
             ],
             [
              0.5555555555555556,
              "#d8576b"
             ],
             [
              0.6666666666666666,
              "#ed7953"
             ],
             [
              0.7777777777777778,
              "#fb9f3a"
             ],
             [
              0.8888888888888888,
              "#fdca26"
             ],
             [
              1,
              "#f0f921"
             ]
            ],
            "type": "heatmapgl"
           }
          ],
          "histogram": [
           {
            "marker": {
             "colorbar": {
              "outlinewidth": 0,
              "ticks": ""
             }
            },
            "type": "histogram"
           }
          ],
          "histogram2d": [
           {
            "colorbar": {
             "outlinewidth": 0,
             "ticks": ""
            },
            "colorscale": [
             [
              0,
              "#0d0887"
             ],
             [
              0.1111111111111111,
              "#46039f"
             ],
             [
              0.2222222222222222,
              "#7201a8"
             ],
             [
              0.3333333333333333,
              "#9c179e"
             ],
             [
              0.4444444444444444,
              "#bd3786"
             ],
             [
              0.5555555555555556,
              "#d8576b"
             ],
             [
              0.6666666666666666,
              "#ed7953"
             ],
             [
              0.7777777777777778,
              "#fb9f3a"
             ],
             [
              0.8888888888888888,
              "#fdca26"
             ],
             [
              1,
              "#f0f921"
             ]
            ],
            "type": "histogram2d"
           }
          ],
          "histogram2dcontour": [
           {
            "colorbar": {
             "outlinewidth": 0,
             "ticks": ""
            },
            "colorscale": [
             [
              0,
              "#0d0887"
             ],
             [
              0.1111111111111111,
              "#46039f"
             ],
             [
              0.2222222222222222,
              "#7201a8"
             ],
             [
              0.3333333333333333,
              "#9c179e"
             ],
             [
              0.4444444444444444,
              "#bd3786"
             ],
             [
              0.5555555555555556,
              "#d8576b"
             ],
             [
              0.6666666666666666,
              "#ed7953"
             ],
             [
              0.7777777777777778,
              "#fb9f3a"
             ],
             [
              0.8888888888888888,
              "#fdca26"
             ],
             [
              1,
              "#f0f921"
             ]
            ],
            "type": "histogram2dcontour"
           }
          ],
          "mesh3d": [
           {
            "colorbar": {
             "outlinewidth": 0,
             "ticks": ""
            },
            "type": "mesh3d"
           }
          ],
          "parcoords": [
           {
            "line": {
             "colorbar": {
              "outlinewidth": 0,
              "ticks": ""
             }
            },
            "type": "parcoords"
           }
          ],
          "pie": [
           {
            "automargin": true,
            "type": "pie"
           }
          ],
          "scatter": [
           {
            "marker": {
             "colorbar": {
              "outlinewidth": 0,
              "ticks": ""
             }
            },
            "type": "scatter"
           }
          ],
          "scatter3d": [
           {
            "line": {
             "colorbar": {
              "outlinewidth": 0,
              "ticks": ""
             }
            },
            "marker": {
             "colorbar": {
              "outlinewidth": 0,
              "ticks": ""
             }
            },
            "type": "scatter3d"
           }
          ],
          "scattercarpet": [
           {
            "marker": {
             "colorbar": {
              "outlinewidth": 0,
              "ticks": ""
             }
            },
            "type": "scattercarpet"
           }
          ],
          "scattergeo": [
           {
            "marker": {
             "colorbar": {
              "outlinewidth": 0,
              "ticks": ""
             }
            },
            "type": "scattergeo"
           }
          ],
          "scattergl": [
           {
            "marker": {
             "colorbar": {
              "outlinewidth": 0,
              "ticks": ""
             }
            },
            "type": "scattergl"
           }
          ],
          "scattermapbox": [
           {
            "marker": {
             "colorbar": {
              "outlinewidth": 0,
              "ticks": ""
             }
            },
            "type": "scattermapbox"
           }
          ],
          "scatterpolar": [
           {
            "marker": {
             "colorbar": {
              "outlinewidth": 0,
              "ticks": ""
             }
            },
            "type": "scatterpolar"
           }
          ],
          "scatterpolargl": [
           {
            "marker": {
             "colorbar": {
              "outlinewidth": 0,
              "ticks": ""
             }
            },
            "type": "scatterpolargl"
           }
          ],
          "scatterternary": [
           {
            "marker": {
             "colorbar": {
              "outlinewidth": 0,
              "ticks": ""
             }
            },
            "type": "scatterternary"
           }
          ],
          "surface": [
           {
            "colorbar": {
             "outlinewidth": 0,
             "ticks": ""
            },
            "colorscale": [
             [
              0,
              "#0d0887"
             ],
             [
              0.1111111111111111,
              "#46039f"
             ],
             [
              0.2222222222222222,
              "#7201a8"
             ],
             [
              0.3333333333333333,
              "#9c179e"
             ],
             [
              0.4444444444444444,
              "#bd3786"
             ],
             [
              0.5555555555555556,
              "#d8576b"
             ],
             [
              0.6666666666666666,
              "#ed7953"
             ],
             [
              0.7777777777777778,
              "#fb9f3a"
             ],
             [
              0.8888888888888888,
              "#fdca26"
             ],
             [
              1,
              "#f0f921"
             ]
            ],
            "type": "surface"
           }
          ],
          "table": [
           {
            "cells": {
             "fill": {
              "color": "#EBF0F8"
             },
             "line": {
              "color": "white"
             }
            },
            "header": {
             "fill": {
              "color": "#C8D4E3"
             },
             "line": {
              "color": "white"
             }
            },
            "type": "table"
           }
          ]
         },
         "layout": {
          "annotationdefaults": {
           "arrowcolor": "#2a3f5f",
           "arrowhead": 0,
           "arrowwidth": 1
          },
          "coloraxis": {
           "colorbar": {
            "outlinewidth": 0,
            "ticks": ""
           }
          },
          "colorscale": {
           "diverging": [
            [
             0,
             "#8e0152"
            ],
            [
             0.1,
             "#c51b7d"
            ],
            [
             0.2,
             "#de77ae"
            ],
            [
             0.3,
             "#f1b6da"
            ],
            [
             0.4,
             "#fde0ef"
            ],
            [
             0.5,
             "#f7f7f7"
            ],
            [
             0.6,
             "#e6f5d0"
            ],
            [
             0.7,
             "#b8e186"
            ],
            [
             0.8,
             "#7fbc41"
            ],
            [
             0.9,
             "#4d9221"
            ],
            [
             1,
             "#276419"
            ]
           ],
           "sequential": [
            [
             0,
             "#0d0887"
            ],
            [
             0.1111111111111111,
             "#46039f"
            ],
            [
             0.2222222222222222,
             "#7201a8"
            ],
            [
             0.3333333333333333,
             "#9c179e"
            ],
            [
             0.4444444444444444,
             "#bd3786"
            ],
            [
             0.5555555555555556,
             "#d8576b"
            ],
            [
             0.6666666666666666,
             "#ed7953"
            ],
            [
             0.7777777777777778,
             "#fb9f3a"
            ],
            [
             0.8888888888888888,
             "#fdca26"
            ],
            [
             1,
             "#f0f921"
            ]
           ],
           "sequentialminus": [
            [
             0,
             "#0d0887"
            ],
            [
             0.1111111111111111,
             "#46039f"
            ],
            [
             0.2222222222222222,
             "#7201a8"
            ],
            [
             0.3333333333333333,
             "#9c179e"
            ],
            [
             0.4444444444444444,
             "#bd3786"
            ],
            [
             0.5555555555555556,
             "#d8576b"
            ],
            [
             0.6666666666666666,
             "#ed7953"
            ],
            [
             0.7777777777777778,
             "#fb9f3a"
            ],
            [
             0.8888888888888888,
             "#fdca26"
            ],
            [
             1,
             "#f0f921"
            ]
           ]
          },
          "colorway": [
           "#636efa",
           "#EF553B",
           "#00cc96",
           "#ab63fa",
           "#FFA15A",
           "#19d3f3",
           "#FF6692",
           "#B6E880",
           "#FF97FF",
           "#FECB52"
          ],
          "font": {
           "color": "#2a3f5f"
          },
          "geo": {
           "bgcolor": "white",
           "lakecolor": "white",
           "landcolor": "#E5ECF6",
           "showlakes": true,
           "showland": true,
           "subunitcolor": "white"
          },
          "hoverlabel": {
           "align": "left"
          },
          "hovermode": "closest",
          "mapbox": {
           "style": "light"
          },
          "paper_bgcolor": "white",
          "plot_bgcolor": "#E5ECF6",
          "polar": {
           "angularaxis": {
            "gridcolor": "white",
            "linecolor": "white",
            "ticks": ""
           },
           "bgcolor": "#E5ECF6",
           "radialaxis": {
            "gridcolor": "white",
            "linecolor": "white",
            "ticks": ""
           }
          },
          "scene": {
           "xaxis": {
            "backgroundcolor": "#E5ECF6",
            "gridcolor": "white",
            "gridwidth": 2,
            "linecolor": "white",
            "showbackground": true,
            "ticks": "",
            "zerolinecolor": "white"
           },
           "yaxis": {
            "backgroundcolor": "#E5ECF6",
            "gridcolor": "white",
            "gridwidth": 2,
            "linecolor": "white",
            "showbackground": true,
            "ticks": "",
            "zerolinecolor": "white"
           },
           "zaxis": {
            "backgroundcolor": "#E5ECF6",
            "gridcolor": "white",
            "gridwidth": 2,
            "linecolor": "white",
            "showbackground": true,
            "ticks": "",
            "zerolinecolor": "white"
           }
          },
          "shapedefaults": {
           "line": {
            "color": "#2a3f5f"
           }
          },
          "ternary": {
           "aaxis": {
            "gridcolor": "white",
            "linecolor": "white",
            "ticks": ""
           },
           "baxis": {
            "gridcolor": "white",
            "linecolor": "white",
            "ticks": ""
           },
           "bgcolor": "#E5ECF6",
           "caxis": {
            "gridcolor": "white",
            "linecolor": "white",
            "ticks": ""
           }
          },
          "title": {
           "x": 0.05
          },
          "xaxis": {
           "automargin": true,
           "gridcolor": "white",
           "linecolor": "white",
           "ticks": "",
           "title": {
            "standoff": 15
           },
           "zerolinecolor": "white",
           "zerolinewidth": 2
          },
          "yaxis": {
           "automargin": true,
           "gridcolor": "white",
           "linecolor": "white",
           "ticks": "",
           "title": {
            "standoff": 15
           },
           "zerolinecolor": "white",
           "zerolinewidth": 2
          }
         }
        }
       }
      },
      "text/html": [
       "<div>\n",
       "        \n",
       "        \n",
       "            <div id=\"209c1da5-466e-4c5d-a3bf-69783d1ba3e8\" class=\"plotly-graph-div\" style=\"height:525px; width:100%;\"></div>\n",
       "            <script type=\"text/javascript\">\n",
       "                require([\"plotly\"], function(Plotly) {\n",
       "                    window.PLOTLYENV=window.PLOTLYENV || {};\n",
       "                    \n",
       "                if (document.getElementById(\"209c1da5-466e-4c5d-a3bf-69783d1ba3e8\")) {\n",
       "                    Plotly.newPlot(\n",
       "                        '209c1da5-466e-4c5d-a3bf-69783d1ba3e8',\n",
       "                        [{\"name\": \"a\", \"type\": \"scatter\", \"y\": [1.4579352753146138, 0.4665351829369949, 0.3729795854336545, 0.1361013625792664, 0.8691223441229131, 1.0597657994552312, 0.4648463629576782, 0.972053399954015, 0.6930698300729584, 0.7674727107840487, 0.6533580775585045, 0.06065115414724905, 0.46534151219674946, 1.0858924710728453, 0.002787732774799408, 0.04804878881546868, 0.5279466538173024, 0.01229163923685774, 0.11168759688406882, 0.18589240074533378, 0.32973313881697663, 1.691196649676037, 0.4100941337574883, 1.616636652805247, 0.8515696760332807, 0.2935815795703655, 0.08218102469430426, 0.23717781677190367, 0.02104211244318647, 0.05109572844690917, 2.407146341911214, 1.0451295118037174, 0.2012543100033114, 0.39677635215632145, 1.7268165154231456, 1.8764149215099386, 0.28225901799746, 0.5644584324371815, 1.4746071470456692, 0.9451435582403882, 0.9233342642999365, 0.19497964474195648, 0.22629395333680447, 0.36548500142690504, 0.5119171366048306, 1.0479137017025848, 1.5401033201844752, 0.7473351880420726, 2.156009635495795, 2.339708280983935, 1.507153598152942, 0.3093462558584936, 0.8775103495835518, 0.37669188204526594, 1.9916404741282117, 0.9192232303541359, 0.9765982986383809, 0.18640914409397824, 0.5041010175316816, 1.201140607217958, 0.9304016790692852, 0.48589861620295577, 0.5647441878755616, 2.323836975370114, 1.2120159036095204, 0.6369134686626102, 0.923655624865152, 0.2866129743583462, 2.1470868853791147, 0.5153436611352791, 1.110738779734984, 0.913058758927899, 0.43120433507457984, 0.6253700760183006, 1.581429978162584, 1.893423759976035, 0.36560951586496493, 1.266614407272206, 1.4436871053869196, 0.6908265742639436, 0.5711762136922297, 0.48562414987026536, 0.44642752344909964, 0.13972248064091086, 0.9842871475255316, 0.7103767536421057, 0.4656604810853472, 0.2270931956466303, 0.09031515897288261, 0.5280185996172543, 2.24320606319639, 1.1779017515753725, 1.4386354773542522, 0.7059707543467165, 0.3255316591463652, 1.2336041906897013, 0.5515508662554567, 0.15609376809323827, 0.6702050655693971, 2.4304451331517476, 0.6436911900378335, 0.07478004326581422, 0.11560492346296856, 0.44406376183740015, 0.25650564455054836, 2.7173908437609287, 2.207525821486677, 0.04786261963901902, 2.1723669543910447, 0.8195376324696944, 0.9186991566103283, 0.3396719713331723, 1.7103596333400484, 0.3325470385373709, 0.4228764994516127, 0.9910245179584741, 0.45521817778227686, 0.4109375766793454, 1.918914406869297, 1.1361038884746844, 0.7021039659924204, 0.06931588731569717, 2.215019119301133, 0.15745462670775012, 0.4810844015714466, 1.5162410982407992, 1.0217349443764916, 1.043062558412918, 0.018863095885219196, 0.6242648700497857, 0.7715441123638824, 0.9742546801171595, 1.38835076497238, 0.20493825522048145, 0.11333510444996556, 1.9581573364014637, 0.4209857068846621, 0.6936866949782565, 1.1109510269324736, 2.196676641981972, 0.6236894564127651, 0.7176130478482055, 0.8360678296573898, 0.7987415493688849, 1.2865784611444238, 1.2119151147230736, 0.49175979378220575, 1.4839066471819327, 1.564332510117642, 0.7344055322957256, 1.0677885769245277, 1.240914085737761, 0.03840779298756678, 1.2709383144664348, 0.16252205961582886, 0.4687495921503434, 0.07452183715917518, 0.4418562726539481, 0.6728712517059753, 0.14242163786646597, 0.3114156768106443, 0.8201704146661221, 0.10051189341260111, 1.4753081381814874, 0.0938813633553903, 1.065931616416549, 0.22773501727884451, 0.49109535000753185, 1.2817697800135868, 0.8464739893221581, 1.1333515306062525, 0.30286154598337545, 0.8002376451802999, 1.5136451971379674, 1.4354745426795508, 1.0852043790733663, 0.589414190508282, 0.08831052475213934, 0.25331575874747014, 0.18031111618420168, 0.08350516655575342, 0.1325181798897329, 1.5020072938505673, 0.8823643837229206, 0.030568758967104474, 0.6190911495653414, 1.6184888056379847, 0.2507970518724956, 1.2070162269937308, 0.19005255686384487, 0.06391752530952909, 1.5784526035449393, 0.9779966898539453, 0.7911447985771211, 0.9669465185851417, 0.8638780116428503, 0.2955414728796497, 0.7833416120923531, 0.2983412572477481, 0.8663889136024802, 1.300093569528999, 1.9413902305455757, 0.6309917502117556, 1.0588928945923657, 0.3011550558858757, 0.24984626383091166, 1.3880850157309579, 0.6547480419816644, 1.2943106729168026, 2.8870018302603513, 0.17796138153990396, 0.8716520011022334, 0.7556709952549593, 1.344147228351803, 0.33133650384302343, 0.3634008725670139, 2.83166171683018, 0.6004256611468585, 1.08549705132786, 3.357953782393738, 1.7031812100027972, 0.12936269500925443, 0.07412054787547748, 0.9126629539657268, 0.35192204244930186, 1.3395223441465816, 1.9604780599468377, 0.8821235055143869, 0.13855909691500257, 1.6565021337602026, 0.05846856730933362, 0.2623088939977048, 0.10326830636228412, 1.1263510544001012, 2.141615631354607, 1.347009442868376, 0.9213515968459557, 0.3252321892441359, 0.396904723079488, 1.2220068398165567, 0.7982317446253484, 0.5773076039101993, 1.100671397418437, 0.04819543113302415, 0.6576766757698869, 0.7707169309325632, 0.5837362140572022, 0.17179101129533664, 0.9438366740839848, 0.4675049524089564, 0.26967546237540496, 0.4044915973761785, 0.14059747460945185, 0.001782827520734537, 0.42992895148900123, 0.9373453277305303, 0.5923233240447412, 0.7763580920470993, 0.4224621138452978, 0.14858874838802477, 0.6043797876406724, 0.2378647820653932, 2.002164014259594, 1.1275806815397855, 0.07811144753300214, 0.16179802968097692, 1.088140088074808, 0.1962440771895182, 0.2628068255365687, 0.3190085742078982, 1.2191663823306926, 0.11164042909977508, 0.22660056836641676, 0.9571460236293914, 0.18446715467950311, 0.2717660328922197, 0.32383607277207543, 1.001783466102919, 0.7726284054086133, 1.0687024515346775, 0.17635339384631754, 0.2278205266900366, 0.8340984822394065, 1.322235758505708, 1.3758285197593392, 1.5075334878385451, 0.9239524966498677, 0.8293359826036563, 0.06173729791546013, 0.2827370980223118, 0.19735270123223142, 0.014616361673577181, 0.6181558421585588, 1.9984232528861146, 0.8239056361764238, 0.49970871485896645, 1.5629074764339042, 0.017884353780377168, 0.3577205303641596, 0.12874818987012093, 0.8554589448426294, 0.9564409492601788, 0.4938604078069762, 0.19880082416261904, 0.2701977123490783, 0.8730426228238876, 0.9302655223007622, 0.2649215768764469, 0.32961031539428687, 0.29626570715526684, 0.6055977858569673, 1.814796479147722, 0.20553662808029777, 0.6842377838283522, 0.38060828689383847, 0.17786846211551752, 0.6299012911048948, 0.5672092822161986, 0.5069674638679144, 0.928968161377633, 0.6648914419095293, 0.5719616897310181, 1.1592017600339508, 0.21493380200367337, 0.44838219959592696, 0.6471187998431596, 1.016945528518014, 1.137263109656443, 0.03742477474565404, 0.7282122764858673, 1.9536091938469793, 1.5883783475358273, 0.48572461693571867, 0.030662424799915305, 0.2419580211739145, 0.7779891321413265, 0.4868833053752914, 2.110770032681982, 2.302493354868899, 1.0799983368718582, 0.5975667505941552, 0.572105213655191, 1.3476728413662238, 0.34449526816373016, 0.1925917002368795, 0.15176874999618267, 0.023091031412451484, 0.2702352023179707, 0.900955245595989, 1.3222180983935232, 0.492406643038321, 1.4542521248958837, 0.7634076135432623, 0.10774859875639763, 0.7047770399486014, 1.527294975899946, 0.9229807997950978, 0.9625587595061621, 0.46387108299385643, 1.3953819303418644, 1.4077840344067345, 1.0658540347811802, 0.3708515612723465, 1.7967272887539059, 0.24771435376338555, 1.314098647146146]}],\n",
       "                        {\"template\": {\"data\": {\"bar\": [{\"error_x\": {\"color\": \"#2a3f5f\"}, \"error_y\": {\"color\": \"#2a3f5f\"}, \"marker\": {\"line\": {\"color\": \"#E5ECF6\", \"width\": 0.5}}, \"type\": \"bar\"}], \"barpolar\": [{\"marker\": {\"line\": {\"color\": \"#E5ECF6\", \"width\": 0.5}}, \"type\": \"barpolar\"}], \"carpet\": [{\"aaxis\": {\"endlinecolor\": \"#2a3f5f\", \"gridcolor\": \"white\", \"linecolor\": \"white\", \"minorgridcolor\": \"white\", \"startlinecolor\": \"#2a3f5f\"}, \"baxis\": {\"endlinecolor\": \"#2a3f5f\", \"gridcolor\": \"white\", \"linecolor\": \"white\", \"minorgridcolor\": \"white\", \"startlinecolor\": \"#2a3f5f\"}, \"type\": \"carpet\"}], \"choropleth\": [{\"colorbar\": {\"outlinewidth\": 0, \"ticks\": \"\"}, \"type\": \"choropleth\"}], \"contour\": [{\"colorbar\": {\"outlinewidth\": 0, \"ticks\": \"\"}, \"colorscale\": [[0.0, \"#0d0887\"], [0.1111111111111111, \"#46039f\"], [0.2222222222222222, \"#7201a8\"], [0.3333333333333333, \"#9c179e\"], [0.4444444444444444, \"#bd3786\"], [0.5555555555555556, \"#d8576b\"], [0.6666666666666666, \"#ed7953\"], [0.7777777777777778, \"#fb9f3a\"], [0.8888888888888888, \"#fdca26\"], [1.0, \"#f0f921\"]], \"type\": \"contour\"}], \"contourcarpet\": [{\"colorbar\": {\"outlinewidth\": 0, \"ticks\": \"\"}, \"type\": \"contourcarpet\"}], \"heatmap\": [{\"colorbar\": {\"outlinewidth\": 0, \"ticks\": \"\"}, \"colorscale\": [[0.0, \"#0d0887\"], [0.1111111111111111, \"#46039f\"], [0.2222222222222222, \"#7201a8\"], [0.3333333333333333, \"#9c179e\"], [0.4444444444444444, \"#bd3786\"], [0.5555555555555556, \"#d8576b\"], [0.6666666666666666, \"#ed7953\"], [0.7777777777777778, \"#fb9f3a\"], [0.8888888888888888, \"#fdca26\"], [1.0, \"#f0f921\"]], \"type\": \"heatmap\"}], \"heatmapgl\": [{\"colorbar\": {\"outlinewidth\": 0, \"ticks\": \"\"}, \"colorscale\": [[0.0, \"#0d0887\"], [0.1111111111111111, \"#46039f\"], [0.2222222222222222, \"#7201a8\"], [0.3333333333333333, \"#9c179e\"], [0.4444444444444444, \"#bd3786\"], [0.5555555555555556, \"#d8576b\"], [0.6666666666666666, \"#ed7953\"], [0.7777777777777778, \"#fb9f3a\"], [0.8888888888888888, \"#fdca26\"], [1.0, \"#f0f921\"]], \"type\": \"heatmapgl\"}], \"histogram\": [{\"marker\": {\"colorbar\": {\"outlinewidth\": 0, \"ticks\": \"\"}}, \"type\": \"histogram\"}], \"histogram2d\": [{\"colorbar\": {\"outlinewidth\": 0, \"ticks\": \"\"}, \"colorscale\": [[0.0, \"#0d0887\"], [0.1111111111111111, \"#46039f\"], [0.2222222222222222, \"#7201a8\"], [0.3333333333333333, \"#9c179e\"], [0.4444444444444444, \"#bd3786\"], [0.5555555555555556, \"#d8576b\"], [0.6666666666666666, \"#ed7953\"], [0.7777777777777778, \"#fb9f3a\"], [0.8888888888888888, \"#fdca26\"], [1.0, \"#f0f921\"]], \"type\": \"histogram2d\"}], \"histogram2dcontour\": [{\"colorbar\": {\"outlinewidth\": 0, \"ticks\": \"\"}, \"colorscale\": [[0.0, \"#0d0887\"], [0.1111111111111111, \"#46039f\"], [0.2222222222222222, \"#7201a8\"], [0.3333333333333333, \"#9c179e\"], [0.4444444444444444, \"#bd3786\"], [0.5555555555555556, \"#d8576b\"], [0.6666666666666666, \"#ed7953\"], [0.7777777777777778, \"#fb9f3a\"], [0.8888888888888888, \"#fdca26\"], [1.0, \"#f0f921\"]], \"type\": \"histogram2dcontour\"}], \"mesh3d\": [{\"colorbar\": {\"outlinewidth\": 0, \"ticks\": \"\"}, \"type\": \"mesh3d\"}], \"parcoords\": [{\"line\": {\"colorbar\": {\"outlinewidth\": 0, \"ticks\": \"\"}}, \"type\": \"parcoords\"}], \"pie\": [{\"automargin\": true, \"type\": \"pie\"}], \"scatter\": [{\"marker\": {\"colorbar\": {\"outlinewidth\": 0, \"ticks\": \"\"}}, \"type\": \"scatter\"}], \"scatter3d\": [{\"line\": {\"colorbar\": {\"outlinewidth\": 0, \"ticks\": \"\"}}, \"marker\": {\"colorbar\": {\"outlinewidth\": 0, \"ticks\": \"\"}}, \"type\": \"scatter3d\"}], \"scattercarpet\": [{\"marker\": {\"colorbar\": {\"outlinewidth\": 0, \"ticks\": \"\"}}, \"type\": \"scattercarpet\"}], \"scattergeo\": [{\"marker\": {\"colorbar\": {\"outlinewidth\": 0, \"ticks\": \"\"}}, \"type\": \"scattergeo\"}], \"scattergl\": [{\"marker\": {\"colorbar\": {\"outlinewidth\": 0, \"ticks\": \"\"}}, \"type\": \"scattergl\"}], \"scattermapbox\": [{\"marker\": {\"colorbar\": {\"outlinewidth\": 0, \"ticks\": \"\"}}, \"type\": \"scattermapbox\"}], \"scatterpolar\": [{\"marker\": {\"colorbar\": {\"outlinewidth\": 0, \"ticks\": \"\"}}, \"type\": \"scatterpolar\"}], \"scatterpolargl\": [{\"marker\": {\"colorbar\": {\"outlinewidth\": 0, \"ticks\": \"\"}}, \"type\": \"scatterpolargl\"}], \"scatterternary\": [{\"marker\": {\"colorbar\": {\"outlinewidth\": 0, \"ticks\": \"\"}}, \"type\": \"scatterternary\"}], \"surface\": [{\"colorbar\": {\"outlinewidth\": 0, \"ticks\": \"\"}, \"colorscale\": [[0.0, \"#0d0887\"], [0.1111111111111111, \"#46039f\"], [0.2222222222222222, \"#7201a8\"], [0.3333333333333333, \"#9c179e\"], [0.4444444444444444, \"#bd3786\"], [0.5555555555555556, \"#d8576b\"], [0.6666666666666666, \"#ed7953\"], [0.7777777777777778, \"#fb9f3a\"], [0.8888888888888888, \"#fdca26\"], [1.0, \"#f0f921\"]], \"type\": \"surface\"}], \"table\": [{\"cells\": {\"fill\": {\"color\": \"#EBF0F8\"}, \"line\": {\"color\": \"white\"}}, \"header\": {\"fill\": {\"color\": \"#C8D4E3\"}, \"line\": {\"color\": \"white\"}}, \"type\": \"table\"}]}, \"layout\": {\"annotationdefaults\": {\"arrowcolor\": \"#2a3f5f\", \"arrowhead\": 0, \"arrowwidth\": 1}, \"coloraxis\": {\"colorbar\": {\"outlinewidth\": 0, \"ticks\": \"\"}}, \"colorscale\": {\"diverging\": [[0, \"#8e0152\"], [0.1, \"#c51b7d\"], [0.2, \"#de77ae\"], [0.3, \"#f1b6da\"], [0.4, \"#fde0ef\"], [0.5, \"#f7f7f7\"], [0.6, \"#e6f5d0\"], [0.7, \"#b8e186\"], [0.8, \"#7fbc41\"], [0.9, \"#4d9221\"], [1, \"#276419\"]], \"sequential\": [[0.0, \"#0d0887\"], [0.1111111111111111, \"#46039f\"], [0.2222222222222222, \"#7201a8\"], [0.3333333333333333, \"#9c179e\"], [0.4444444444444444, \"#bd3786\"], [0.5555555555555556, \"#d8576b\"], [0.6666666666666666, \"#ed7953\"], [0.7777777777777778, \"#fb9f3a\"], [0.8888888888888888, \"#fdca26\"], [1.0, \"#f0f921\"]], \"sequentialminus\": [[0.0, \"#0d0887\"], [0.1111111111111111, \"#46039f\"], [0.2222222222222222, \"#7201a8\"], [0.3333333333333333, \"#9c179e\"], [0.4444444444444444, \"#bd3786\"], [0.5555555555555556, \"#d8576b\"], [0.6666666666666666, \"#ed7953\"], [0.7777777777777778, \"#fb9f3a\"], [0.8888888888888888, \"#fdca26\"], [1.0, \"#f0f921\"]]}, \"colorway\": [\"#636efa\", \"#EF553B\", \"#00cc96\", \"#ab63fa\", \"#FFA15A\", \"#19d3f3\", \"#FF6692\", \"#B6E880\", \"#FF97FF\", \"#FECB52\"], \"font\": {\"color\": \"#2a3f5f\"}, \"geo\": {\"bgcolor\": \"white\", \"lakecolor\": \"white\", \"landcolor\": \"#E5ECF6\", \"showlakes\": true, \"showland\": true, \"subunitcolor\": \"white\"}, \"hoverlabel\": {\"align\": \"left\"}, \"hovermode\": \"closest\", \"mapbox\": {\"style\": \"light\"}, \"paper_bgcolor\": \"white\", \"plot_bgcolor\": \"#E5ECF6\", \"polar\": {\"angularaxis\": {\"gridcolor\": \"white\", \"linecolor\": \"white\", \"ticks\": \"\"}, \"bgcolor\": \"#E5ECF6\", \"radialaxis\": {\"gridcolor\": \"white\", \"linecolor\": \"white\", \"ticks\": \"\"}}, \"scene\": {\"xaxis\": {\"backgroundcolor\": \"#E5ECF6\", \"gridcolor\": \"white\", \"gridwidth\": 2, \"linecolor\": \"white\", \"showbackground\": true, \"ticks\": \"\", \"zerolinecolor\": \"white\"}, \"yaxis\": {\"backgroundcolor\": \"#E5ECF6\", \"gridcolor\": \"white\", \"gridwidth\": 2, \"linecolor\": \"white\", \"showbackground\": true, \"ticks\": \"\", \"zerolinecolor\": \"white\"}, \"zaxis\": {\"backgroundcolor\": \"#E5ECF6\", \"gridcolor\": \"white\", \"gridwidth\": 2, \"linecolor\": \"white\", \"showbackground\": true, \"ticks\": \"\", \"zerolinecolor\": \"white\"}}, \"shapedefaults\": {\"line\": {\"color\": \"#2a3f5f\"}}, \"ternary\": {\"aaxis\": {\"gridcolor\": \"white\", \"linecolor\": \"white\", \"ticks\": \"\"}, \"baxis\": {\"gridcolor\": \"white\", \"linecolor\": \"white\", \"ticks\": \"\"}, \"bgcolor\": \"#E5ECF6\", \"caxis\": {\"gridcolor\": \"white\", \"linecolor\": \"white\", \"ticks\": \"\"}}, \"title\": {\"x\": 0.05}, \"xaxis\": {\"automargin\": true, \"gridcolor\": \"white\", \"linecolor\": \"white\", \"ticks\": \"\", \"title\": {\"standoff\": 15}, \"zerolinecolor\": \"white\", \"zerolinewidth\": 2}, \"yaxis\": {\"automargin\": true, \"gridcolor\": \"white\", \"linecolor\": \"white\", \"ticks\": \"\", \"title\": {\"standoff\": 15}, \"zerolinecolor\": \"white\", \"zerolinewidth\": 2}}}},\n",
       "                        {\"responsive\": true}\n",
       "                    ).then(function(){\n",
       "                            \n",
       "var gd = document.getElementById('209c1da5-466e-4c5d-a3bf-69783d1ba3e8');\n",
       "var x = new MutationObserver(function (mutations, observer) {{\n",
       "        var display = window.getComputedStyle(gd).display;\n",
       "        if (!display || display === 'none') {{\n",
       "            console.log([gd, 'removed!']);\n",
       "            Plotly.purge(gd);\n",
       "            observer.disconnect();\n",
       "        }}\n",
       "}});\n",
       "\n",
       "// Listen for the removal of the full notebook cells\n",
       "var notebookContainer = gd.closest('#notebook-container');\n",
       "if (notebookContainer) {{\n",
       "    x.observe(notebookContainer, {childList: true});\n",
       "}}\n",
       "\n",
       "// Listen for the clearing of the current output cell\n",
       "var outputEl = gd.closest('.output');\n",
       "if (outputEl) {{\n",
       "    x.observe(outputEl, {childList: true});\n",
       "}}\n",
       "\n",
       "                        })\n",
       "                };\n",
       "                });\n",
       "            </script>\n",
       "        </div>"
      ]
     },
     "metadata": {},
     "output_type": "display_data"
    }
   ],
   "source": [
    "plot(a=dev_grid[0,:])"
   ]
  },
  {
   "cell_type": "code",
   "execution_count": 34,
   "metadata": {},
   "outputs": [
    {
     "data": {
      "application/vnd.jupyter.widget-view+json": {
       "model_id": "72ce8ff4442445c5bb8d7a7d57a19051",
       "version_major": 2,
       "version_minor": 0
      },
      "text/plain": [
       "FigureWidget({\n",
       "    'data': [{'type': 'heatmap',\n",
       "              'uid': '83de7bee-1bb1-4170-a834-3ad1a4a932b8',\n",
       " …"
      ]
     },
     "metadata": {},
     "output_type": "display_data"
    }
   ],
   "source": [
    "dev2weeks = dev_grid[:,:14].mean(1)\n",
    "dev2weeks = np.reshape(dev2weeks,(1,1,-1))\n",
    "dev2weeks_grid = data_group.shaper.unsqueeze(dev2weeks)[0,0]\n",
    "new_interactive_heatmap(z=dev2weeks_grid)"
   ]
  },
  {
   "cell_type": "code",
   "execution_count": 35,
   "metadata": {},
   "outputs": [],
   "source": [
    "def gradient(data):\n",
    "    x = np.arange(0,len(data))\n",
    "    y=np.array(data)\n",
    "    grad, bias = np.polyfit(x,y,deg=1)\n",
    "    return grad"
   ]
  },
  {
   "cell_type": "code",
   "execution_count": 45,
   "metadata": {},
   "outputs": [
    {
     "data": {
      "application/vnd.jupyter.widget-view+json": {
       "model_id": "dd604a1d22ec4677b5ba8a2cb71ab886",
       "version_major": 2,
       "version_minor": 0
      },
      "text/plain": [
       "FigureWidget({\n",
       "    'data': [{'type': 'heatmap',\n",
       "              'uid': 'a2297eee-bfad-4723-9b7b-980c69691e95',\n",
       " …"
      ]
     },
     "metadata": {},
     "output_type": "display_data"
    }
   ],
   "source": [
    "dev_sum = []\n",
    "for dev in dev_grid:\n",
    "#     dev_sum.append(dev[0])\n",
    "#     dev_sum.append(dev[:10].sum())\n",
    "    dev_sum.append(len(dev[dev > 3]))\n",
    "#     dev_sum.append(gradient(dev[:10]))\n",
    "dev_sum = np.array(dev_sum)\n",
    "dev_sum = np.reshape(dev_sum, (1,1,-1))\n",
    "dev_sum_grid = data_group.shaper.unsqueeze(dev_sum)[0,0]\n",
    "\n",
    "new_interactive_heatmap(z=dev_sum_grid)"
   ]
  },
  {
   "cell_type": "code",
   "execution_count": 46,
   "metadata": {
    "scrolled": false
   },
   "outputs": [
    {
     "data": {
      "application/vnd.jupyter.widget-view+json": {
       "model_id": "ac198ed9498442d5ad1df833804f38ee",
       "version_major": 2,
       "version_minor": 0
      },
      "text/plain": [
       "Box(children=(FigureWidget({\n",
       "    'data': [{'type': 'heatmap',\n",
       "              'uid': 'a4469671-1322-475f-8d35-46…"
      ]
     },
     "metadata": {},
     "output_type": "display_data"
    }
   ],
   "source": [
    "from utils.interactive import interactive_grid_visualiser\n",
    "\n",
    "interactive_grid_visualiser(\n",
    "    grids=grids[:,0],\n",
    "    t_range=data_group.t_range, \n",
    "    mutual_info=True,\n",
    "    max_offset=365,\n",
    "    temporal_variables=[\"Hour\"],# \"Day of Week\", \"Time of Month\", \"Time of Year\"],\n",
    ")"
   ]
  },
  {
   "cell_type": "code",
   "execution_count": null,
   "metadata": {},
   "outputs": [],
   "source": []
  }
 ],
 "metadata": {
  "kernelspec": {
   "display_name": "Python 3",
   "language": "python",
   "name": "python3"
  },
  "language_info": {
   "codemirror_mode": {
    "name": "ipython",
    "version": 3
   },
   "file_extension": ".py",
   "mimetype": "text/x-python",
   "name": "python",
   "nbconvert_exporter": "python",
   "pygments_lexer": "ipython3",
   "version": "3.8.3"
  }
 },
 "nbformat": 4,
 "nbformat_minor": 4
}
