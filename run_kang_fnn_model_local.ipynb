{
 "cells": [
  {
   "cell_type": "code",
   "execution_count": 1,
   "metadata": {
    "colab": {
     "base_uri": "https://localhost:8080/",
     "height": 139
    },
    "colab_type": "code",
    "executionInfo": {
     "elapsed": 38501,
     "status": "ok",
     "timestamp": 1575549782699,
     "user": {
      "displayName": "Bernard Swart",
      "photoUrl": "https://lh3.googleusercontent.com/a-/AAuE7mA7uSA62RDxMrL_HdFxD2SxWswIX97G3OjMRiFvmMU=s64",
      "userId": "00293673988406756138"
     },
     "user_tz": -120
    },
    "id": "EIP3ykajpZPk",
    "outputId": "c0c6db47-f28c-4a45-bb92-fa513801db07"
   },
   "outputs": [],
   "source": [
    "# from google.colab import drive\n",
    "# drive.mount('/content/gdrive')\n",
    "# %cd /content/gdrive/My\\ Drive/masters"
   ]
  },
  {
   "cell_type": "code",
   "execution_count": 1,
   "metadata": {
    "colab": {
     "base_uri": "https://localhost:8080/",
     "height": 368
    },
    "colab_type": "code",
    "executionInfo": {
     "elapsed": 2872,
     "status": "error",
     "timestamp": 1573546837354,
     "user": {
      "displayName": "Bernard Swart",
      "photoUrl": "https://lh3.googleusercontent.com/a-/AAuE7mA7uSA62RDxMrL_HdFxD2SxWswIX97G3OjMRiFvmMU=s64",
      "userId": "00293673988406756138"
     },
     "user_tz": -120
    },
    "id": "JNulAac9o8gl",
    "outputId": "68f90833-6270-4c5d-937b-f229f5822671"
   },
   "outputs": [],
   "source": [
    "import os\n",
    "import logging as log\n",
    "from time import strftime\n",
    "from copy import deepcopy\n",
    "from torch import nn, optim\n",
    "import torch.nn.functional as F\n",
    "from utils.data_processing import *\n",
    "from logger.logger import setup_logging\n",
    "from utils.configs import BaseConf\n",
    "from utils.utils import write_json, Timer\n",
    "from models.kangkang_fnn_models import KangFeedForwardNetwork, SimpleKangFNN, evaluate_fnn\n",
    "from dataloaders.flat_loader import FlatDataLoaders, MockLoader, MockLoaders\n",
    "from datasets.flat_dataset import FlatDataGroup\n",
    "from utils.metrics import PRCurvePlotter, ROCCurvePlotter, LossPlotter, PerTimeStepPlotter\n",
    "from sklearn.metrics import accuracy_score, average_precision_score, roc_auc_score\n",
    "from models.model_result import ModelResult, ModelMetrics, save_results, save_metrics, compare_all_models, get_models_metrics\n",
    "from utils.mock_data import mock_fnn_data_classification\n",
    "from utils.plots import im\n",
    "from utils.utils import pshape, get_data_sub_paths, by_ref\n",
    "from trainers.generic_trainer import train_model\n",
    "from models.kangkang_fnn_models import train_epoch_for_fnn\n",
    "\n",
    "from utils.metrics import best_threshold, get_y_pred, get_y_pred_by_thresholds, best_thresholds\n",
    "from time import time\n",
    "from torch.optim import lr_scheduler\n"
   ]
  },
  {
   "cell_type": "code",
   "execution_count": 2,
   "metadata": {},
   "outputs": [
    {
     "name": "stdout",
     "output_type": "stream",
     "text": [
      "['T1H-X3400M-Y3520M_2014-01-01_2016-01-01_#7cd'\n",
      " 'T24H-X1700M-Y1760M_2014-01-01_2019-01-01_#828'\n",
      " 'T24H-X255M-Y220M_2012-01-01_2019-01-01_#c97'\n",
      " 'T24H-X425M-Y440M_2012-01-01_2019-01-01_#827'\n",
      " 'T24H-X850M-Y880M_2012-01-01_2019-01-01_#826']\n"
     ]
    }
   ],
   "source": [
    "data_sub_paths = get_data_sub_paths()\n",
    "print(np.sort(data_sub_paths))"
   ]
  },
  {
   "cell_type": "code",
   "execution_count": 3,
   "metadata": {},
   "outputs": [
    {
     "data": {
      "text/plain": [
       "['T24H-X255M-Y220M_2012-01-01_2019-01-01_#c97']"
      ]
     },
     "execution_count": 3,
     "metadata": {},
     "output_type": "execute_result"
    }
   ],
   "source": [
    "data_sub_paths = by_ref(\"c97\")\n",
    "data_sub_paths"
   ]
  },
  {
   "cell_type": "code",
   "execution_count": 4,
   "metadata": {},
   "outputs": [],
   "source": [
    "from pprint import pprint\n",
    "conf = BaseConf()"
   ]
  },
  {
   "cell_type": "code",
   "execution_count": 5,
   "metadata": {
    "colab": {},
    "colab_type": "code",
    "id": "MlGDYBWmQz_1"
   },
   "outputs": [],
   "source": [
    "log.getLogger().setLevel(\"INFO\")"
   ]
  },
  {
   "cell_type": "code",
   "execution_count": 6,
   "metadata": {
    "colab": {},
    "colab_type": "code",
    "id": "-TBN_1gYo8go",
    "scrolled": false
   },
   "outputs": [
    {
     "name": "stdout",
     "output_type": "stream",
     "text": [
      "2020-10-29T18:27:10 | root | INFO | =====================================BEGIN=====================================\n",
      "2020-10-29T18:27:10 | root | INFO | Device: cuda:0\n"
     ]
    }
   ],
   "source": [
    "# T24H-X850M-Y880M_2012-01-01_2019-01-01\n",
    "\n",
    "data_sub_path = data_sub_paths[0]\n",
    "\n",
    "# manually set\n",
    "conf = BaseConf()\n",
    "conf.seed = int(time()) # 3\n",
    "conf.model_name = \"KangFNN\" # \"SimpleKangFNN\" # \"KangFNN\"  # needs to be created\n",
    "conf.data_path = f\"./data/processed/{data_sub_path}/\"\n",
    "\n",
    "if not os.path.exists(conf.data_path):\n",
    "    raise Exception(f\"Directory ({conf.data_path}) needs to exist.\")\n",
    "\n",
    "conf.model_path = f\"{conf.data_path}models/{conf.model_name}/\"\n",
    "os.makedirs(conf.data_path, exist_ok=True)\n",
    "os.makedirs(conf.model_path, exist_ok=True)\n",
    "\n",
    "# logging config is set globally thus we only need to call this in this file\n",
    "# imported function logs will follow the configuration\n",
    "setup_logging(save_dir=conf.model_path, log_config='./logger/standard_logger_config.json', default_level=log.INFO)\n",
    "log.info(\"=====================================BEGIN=====================================\")\n",
    "\n",
    "info = deepcopy(conf.__dict__)\n",
    "info[\"start_time\"] = strftime(\"%Y-%m-%dT%H:%M:%S\")\n",
    "\n",
    "# DATA LOADER SETUP\n",
    "np.random.seed(conf.seed)\n",
    "use_cuda = True # torch.cuda.is_available()\n",
    "if use_cuda:\n",
    "    torch.cuda.manual_seed(conf.seed)\n",
    "else:\n",
    "    torch.manual_seed(conf.seed)\n",
    "\n",
    "device = torch.device(\"cuda:0\" if use_cuda else \"cpu\")\n",
    "log.info(f\"Device: {device}\")\n",
    "info[\"device\"] = device.type\n",
    "conf.device = device"
   ]
  },
  {
   "cell_type": "code",
   "execution_count": 7,
   "metadata": {
    "colab": {},
    "colab_type": "code",
    "id": "i15tiMhOQz_3"
   },
   "outputs": [
    {
     "name": "stdout",
     "output_type": "stream",
     "text": [
      "2020-10-29T18:27:10 | root | INFO | Initialising Flat Data Group\n",
      "2020-10-29T18:27:10 | root | INFO | loading crimes grids WITHOUT crime types\n",
      "2020-10-29T18:27:10 | root | INFO | \tt_range: (2558,) 2012-01-01 00:00:00 -> 2019-01-01 00:00:00\n",
      "2020-10-29T18:27:10 | root | INFO | \ttarget_len:\t2191\t(100.000%)\n",
      "2020-10-29T18:27:10 | root | INFO | \ttrn_val_size:\t1831\t(83.569%)\n",
      "2020-10-29T18:27:10 | root | INFO | \ttrn_size:\t1374\t(62.711%)\n",
      "2020-10-29T18:27:10 | root | INFO | \tval_size:\t457\t(20.858%)\n",
      "2020-10-29T18:27:10 | root | INFO | \ttst_size:\t360 \t(16.431%)\n",
      "fitted historic average: step (1) and max_steps (-1)\n",
      "{'batch_size': 128,\n",
      " 'cap_crime_percentile': 0,\n",
      " 'checkpoint': 'latest',\n",
      " 'data_path': './data/processed/T24H-X255M-Y220M_2012-01-01_2019-01-01_#c97/',\n",
      " 'device': device(type='cuda', index=0),\n",
      " 'dropout': 0,\n",
      " 'early_stopping': True,\n",
      " 'flatten_grid': True,\n",
      " 'freqstr': '24H',\n",
      " 'lr': 0.001,\n",
      " 'max_epochs': 50,\n",
      " 'min_epochs': 800,\n",
      " 'model_name': 'KangFNN',\n",
      " 'model_path': './data/processed/T24H-X255M-Y220M_2012-01-01_2019-01-01_#c97/models/KangFNN/',\n",
      " 'n_channels': 3,\n",
      " 'n_layers': 3,\n",
      " 'n_steps_c': 3,\n",
      " 'n_steps_p': 3,\n",
      " 'n_steps_q': 3,\n",
      " 'num_workers': 12,\n",
      " 'pad_width': 0,\n",
      " 'patience': 1000,\n",
      " 'resume': False,\n",
      " 'seed': 1603988830,\n",
      " 'seq_len': 1,\n",
      " 'shaper_threshold': 0,\n",
      " 'shaper_top_k': -1,\n",
      " 'shuffle': True,\n",
      " 'sub_sample_test_set': 0,\n",
      " 'sub_sample_train_set': 2,\n",
      " 'sub_sample_validation_set': 2,\n",
      " 'test_set_size_days': 360,\n",
      " 'timer': <utils.utils.Timer object at 0x7fd9f9f9ba60>,\n",
      " 'tolerance': 1e-08,\n",
      " 'train_set_first': True,\n",
      " 'tst_ratio': 0.25,\n",
      " 'use_classification': True,\n",
      " 'use_crime_types': False,\n",
      " 'use_historic_average': True,\n",
      " 'use_seq_loss': True,\n",
      " 'val_ratio': 0.25,\n",
      " 'weight_decay': 0}\n"
     ]
    }
   ],
   "source": [
    "# SET THE HYPER PARAMETERS\n",
    "conf.resume = False\n",
    "conf.early_stopping = True\n",
    "conf.patience = 1000\n",
    "conf.min_epochs = 800\n",
    "conf.max_epochs = 50 # conf.min_epochs + conf.patience + 100\n",
    "conf.dropout = 0 # 0.5 # should be between 0.5 and 0.8 for input dropout rates\n",
    "conf.weight_decay = 0  # [0, 1e-8, 1e-6, 1e-4, 1e-2]\n",
    "conf.checkpoint = \"latest\" #\"latest\" # [\"best_val\", \"best_trn\", \"best_trn_val\"]\n",
    "conf.lr = 1e-3\n",
    "conf.shaper_top_k = -1\n",
    "conf.batch_size = 128\n",
    "conf.use_classification = True\n",
    "conf.train_set_first = True\n",
    "\n",
    "MOCK = False\n",
    "\n",
    "if MOCK:\n",
    "    # MOCK THE DATA\n",
    "    vector_size= [5,5,5]#[37,65,512]    \n",
    "    class_split=0.5\n",
    "    train_loader = MockLoader(vector_size, conf.batch_size, n_samples=1000, class_split=class_split)\n",
    "    validation_loader = MockLoader(vector_size, conf.batch_size, n_samples=200, class_split=class_split)\n",
    "    test_loader = MockLoader(vector_size, conf.batch_size, n_samples=300, class_split=class_split)\n",
    "    loaders = MockLoaders(train_loader,validation_loader,test_loader)\n",
    "else:\n",
    "    # CRIME DATA - sub-sample classes to even out class label ratios\n",
    "    conf.sub_sample_test_set = 0\n",
    "    conf.sub_sample_train_set = 2 # 1 # 2 # 5 # 10\n",
    "    conf.sub_sample_validation_set = 2 # 1 # 2 # 5 # 10\n",
    "\n",
    "    data_group = FlatDataGroup(data_path=conf.data_path, conf=conf)\n",
    "    loaders = FlatDataLoaders(data_group=data_group, conf=conf)\n",
    "\n",
    "conf.freqstr = data_group.t_range.freqstr    \n",
    "\n",
    "# SET LOSS FUNCTION\n",
    "# size averaged - so more epochs or larger lr for smaller batches\n",
    "loss_function = nn.CrossEntropyLoss()\n",
    "# if conf.use_classification:\n",
    "#     loss_function = nn.CrossEntropyLoss()\n",
    "#     log.info(\"loss function: cross entropy loss\")\n",
    "# else:\n",
    "#     loss_function = nn.MSELoss()\n",
    "#     log.info(\"loss function: mean square error loss\")\n",
    "\n",
    "# SETUP MODEL\n",
    "train_set = loaders.train_loader.dataset\n",
    "indices, spc_feats, tmp_feats, env_feats, target, labels = train_set[train_set.min_index]\n",
    "spc_size, tmp_size, env_size = spc_feats.shape[-1], tmp_feats.shape[-1], env_feats.shape[-1]\n",
    "\n",
    "\n",
    "if conf.model_name == \"SimpleKangFNN\":\n",
    "    model_arch = {\n",
    "        \"h_size0\": 10,\n",
    "        \"h_size1\": 10,\n",
    "        \"h_size2\": 10,\n",
    "    }\n",
    "    model = SimpleKangFNN(spc_size=spc_size,\n",
    "                          tmp_size=tmp_size,\n",
    "                          env_size=env_size,\n",
    "                          dropout_p=conf.dropout,\n",
    "                          model_arch=model_arch)\n",
    "else:\n",
    "#     model_arch = {\n",
    "#         \"scp_net_h0\": 64,\n",
    "#         \"scp_net_h1\": 32,\n",
    "#         \"tmp_net_h0\": 64,\n",
    "#         \"tmp_net_h1\": 32,\n",
    "#         \"env_net_h0\": 64,\n",
    "#         \"env_net_h1\": 32,\n",
    "#         \"final_net_h1\": 64,\n",
    "#     }\n",
    "    \n",
    "    model_arch = None # if none will use default architechture\n",
    "    \n",
    "    model = KangFeedForwardNetwork(spc_size=spc_size,\n",
    "                                   tmp_size=tmp_size,\n",
    "                                   env_size=env_size,\n",
    "                                   dropout_p=conf.dropout,\n",
    "                                   model_arch=model_arch)\n",
    "\n",
    "    \n",
    "pprint(conf)\n",
    "model.to(conf.device)\n",
    "\n",
    "# SETUP OPTIMISER\n",
    "parameters = model.parameters()\n",
    "\n",
    "# important note: using weight decay (l2 penalty) can prohibit long term memory in LSTM networks\n",
    "# - use gradient clipping instead\n",
    "optimiser = optim.Adam(params=parameters, lr=conf.lr, weight_decay=conf.weight_decay, amsgrad=False)\n",
    "# optimiser = optim.SGD(params=parameters, lr=conf.lr)\n",
    "scheduler = None\n",
    "# scheduler = lr_scheduler.CosineAnnealingLR(optimizer=optimiser, T_max=10)#conf.max_epochs//5)\n",
    "# scheduler = lr_scheduler.ReduceLROnPlateau(optimiser, mode='min', factor=0.1, patience=10,\n",
    "#                                            threshold=0.0001, threshold_mode='rel', cooldown=0,\n",
    "#                                            min_lr=0, eps=1e-08, verbose=False)\n",
    "\n",
    "\n",
    "##### RESUME LOGIC\n",
    "if conf.resume:  # todo check if the files actually exist\n",
    "    try:\n",
    "        # resume from previous check point or resume from best validaton score checkpoint\n",
    "        # load model state\n",
    "        model_state_dict = torch.load(f\"{conf.model_path}model_{conf.checkpoint}.pth\",\n",
    "                                      map_location=conf.device.type)\n",
    "        model.load_state_dict(model_state_dict)\n",
    "        \n",
    "        # load optimiser state\n",
    "        optimiser_state_dict = torch.load(f\"{conf.model_path}optimiser_{conf.checkpoint}.pth\",\n",
    "                                          map_location=conf.device.type)\n",
    "        optimiser.load_state_dict(optimiser_state_dict) \n",
    "\n",
    "        # new optimiser hyper-parameters\n",
    "        optimiser.param_groups[0]['lr'] = conf.lr\n",
    "        optimiser.param_groups[0]['weight_decay'] = conf.weight_decay\n",
    "\n",
    "        # new model hyper-parameters\n",
    "        model.dropout.p = conf.dropout # note that drop out is not part of the saved state dict\n",
    "\n",
    "    except Exception as e:\n",
    "        log.error(f\"Nothing to resume from, training from scratch \\n\\t-> {e}\")"
   ]
  },
  {
   "cell_type": "code",
   "execution_count": 8,
   "metadata": {
    "colab": {},
    "colab_type": "code",
    "id": "pEP8Ro-7ktLt",
    "outputId": "078ab7a1-6bba-40ac-e3cc-df92c7ea0a2a"
   },
   "outputs": [
    {
     "name": "stdout",
     "output_type": "stream",
     "text": [
      "2020-10-29T18:27:12 | root | INFO | \n",
      " ====================== Training KangFNN ====================== \n",
      "\n",
      "2020-10-29T18:27:12 | root | INFO | \n",
      " ====================== Config Values ====================== \n",
      "{'batch_size': 128,\n",
      " 'cap_crime_percentile': 0,\n",
      " 'checkpoint': 'latest',\n",
      " 'data_path': './data/processed/T24H-X255M-Y220M_2012-01-01_2019-01-01_#c97/',\n",
      " 'device': device(type='cuda', index=0),\n",
      " 'dropout': 0,\n",
      " 'early_stopping': True,\n",
      " 'flatten_grid': True,\n",
      " 'freqstr': '24H',\n",
      " 'lr': 0.001,\n",
      " 'max_epochs': 50,\n",
      " 'min_epochs': 800,\n",
      " 'model_name': 'KangFNN',\n",
      " 'model_path': './data/processed/T24H-X255M-Y220M_2012-01-01_2019-01-01_#c97/models/KangFNN/',\n",
      " 'n_channels': 3,\n",
      " 'n_layers': 3,\n",
      " 'n_steps_c': 3,\n",
      " 'n_steps_p': 3,\n",
      " 'n_steps_q': 3,\n",
      " 'num_workers': 12,\n",
      " 'pad_width': 0,\n",
      " 'patience': 1000,\n",
      " 'resume': False,\n",
      " 'seed': 1603988830,\n",
      " 'seq_len': 1,\n",
      " 'shaper_threshold': 0,\n",
      " 'shaper_top_k': -1,\n",
      " 'shuffle': True,\n",
      " 'sub_sample_test_set': 0,\n",
      " 'sub_sample_train_set': 2,\n",
      " 'sub_sample_validation_set': 2,\n",
      " 'test_set_size_days': 360,\n",
      " 'timer': <utils.utils.Timer object at 0x7fd9f9f9ba60>,\n",
      " 'tolerance': 1e-08,\n",
      " 'train_set_first': True,\n",
      " 'tst_ratio': 0.25,\n",
      " 'use_classification': True,\n",
      " 'use_crime_types': False,\n",
      " 'use_historic_average': True,\n",
      " 'use_seq_loss': True,\n",
      " 'val_ratio': 0.25,\n",
      " 'weight_decay': 0}\n",
      " ====================== Config Values ====================== \n",
      "\n",
      "2020-10-29T18:27:12 | root | INFO | Start Training KangFNN\n",
      "2020-10-29T18:27:12 | root | INFO | Using optimiser: \n",
      "Adam (\n",
      "Parameter Group 0\n",
      "    amsgrad: False\n",
      "    betas: (0.9, 0.999)\n",
      "    eps: 1e-08\n",
      "    lr: 0.001\n",
      "    weight_decay: 0\n",
      ")\n",
      "\n",
      "\n",
      "2020-10-29T18:27:12 | root | INFO | Epoch: 0001/0050\n",
      "2020-10-29T18:27:16 | root | INFO | \tLoss (Trn): \t\t0.55302039\n",
      "2020-10-29T18:27:16 | root | INFO | \tLoss (Best Trn): \t0.55302039\n",
      "2020-10-29T18:27:16 | root | INFO | \tLoss (Val): \t\t0.51936423\n",
      "2020-10-29T18:27:16 | root | INFO | \tLoss (Best Val): \t0.51936423\n",
      "2020-10-29T18:27:16 | root | INFO | \tLoss (Trn Val Dif): \t0.03365616\n",
      "\n",
      "2020-10-29T18:27:17 | root | INFO | Epoch: 0002/0050\n",
      "2020-10-29T18:27:20 | root | INFO | \tLoss (Trn): \t\t0.53514159\n",
      "2020-10-29T18:27:20 | root | INFO | \tLoss (Best Trn): \t0.53514159\n",
      "2020-10-29T18:27:20 | root | INFO | \tLoss (Val): \t\t0.51860461\n",
      "2020-10-29T18:27:20 | root | INFO | \tLoss (Best Val): \t0.51860461\n",
      "2020-10-29T18:27:20 | root | INFO | \tLoss (Trn Val Dif): \t0.01653698\n",
      "\n",
      "2020-10-29T18:27:21 | root | INFO | Epoch: 0003/0050\n",
      "2020-10-29T18:27:25 | root | INFO | \tLoss (Trn): \t\t0.52703347\n",
      "2020-10-29T18:27:25 | root | INFO | \tLoss (Best Trn): \t0.52703347\n",
      "2020-10-29T18:27:25 | root | INFO | \tLoss (Val): \t\t0.51729534\n",
      "2020-10-29T18:27:25 | root | INFO | \tLoss (Best Val): \t0.51729534\n",
      "2020-10-29T18:27:25 | root | INFO | \tLoss (Trn Val Dif): \t0.00973813\n",
      "\n",
      "2020-10-29T18:27:25 | root | INFO | Epoch: 0004/0050\n",
      "2020-10-29T18:27:29 | root | INFO | \tLoss (Trn): \t\t0.52438429\n",
      "2020-10-29T18:27:29 | root | INFO | \tLoss (Best Trn): \t0.52438429\n",
      "2020-10-29T18:27:29 | root | INFO | \tLoss (Val): \t\t0.51255375\n",
      "2020-10-29T18:27:29 | root | INFO | \tLoss (Best Val): \t0.51255375\n",
      "2020-10-29T18:27:29 | root | INFO | \tLoss (Trn Val Dif): \t0.01183054\n",
      "\n",
      "2020-10-29T18:27:29 | root | INFO | Epoch: 0005/0050\n",
      "2020-10-29T18:27:33 | root | INFO | \tLoss (Trn): \t\t0.52346515\n",
      "2020-10-29T18:27:33 | root | INFO | \tLoss (Best Trn): \t0.52346515\n",
      "2020-10-29T18:27:33 | root | INFO | \tLoss (Val): \t\t0.51185326\n",
      "2020-10-29T18:27:33 | root | INFO | \tLoss (Best Val): \t0.51185326\n",
      "2020-10-29T18:27:33 | root | INFO | \tLoss (Trn Val Dif): \t0.01161189\n",
      "\n",
      "2020-10-29T18:27:33 | root | INFO | Epoch: 0006/0050\n",
      "2020-10-29T18:27:38 | root | INFO | \tLoss (Trn): \t\t0.52078591\n",
      "2020-10-29T18:27:38 | root | INFO | \tLoss (Best Trn): \t0.52078591\n",
      "2020-10-29T18:27:38 | root | INFO | \tLoss (Val): \t\t0.51058449\n",
      "2020-10-29T18:27:38 | root | INFO | \tLoss (Best Val): \t0.51058449\n",
      "2020-10-29T18:27:38 | root | INFO | \tLoss (Trn Val Dif): \t0.01020142\n",
      "\n",
      "2020-10-29T18:27:38 | root | INFO | Epoch: 0007/0050\n",
      "2020-10-29T18:27:41 | root | INFO | \tLoss (Trn): \t\t0.51930218\n",
      "2020-10-29T18:27:41 | root | INFO | \tLoss (Best Trn): \t0.51930218\n",
      "2020-10-29T18:27:41 | root | INFO | \tLoss (Val): \t\t0.51154455\n",
      "2020-10-29T18:27:41 | root | INFO | \tLoss (Best Val): \t0.51058449\n",
      "2020-10-29T18:27:41 | root | INFO | \tLoss (Trn Val Dif): \t0.00775763\n",
      "\n",
      "2020-10-29T18:27:42 | root | INFO | Epoch: 0008/0050\n",
      "2020-10-29T18:27:45 | root | INFO | \tLoss (Trn): \t\t0.51812701\n",
      "2020-10-29T18:27:45 | root | INFO | \tLoss (Best Trn): \t0.51812701\n",
      "2020-10-29T18:27:45 | root | INFO | \tLoss (Val): \t\t0.51239526\n",
      "2020-10-29T18:27:45 | root | INFO | \tLoss (Best Val): \t0.51058449\n",
      "2020-10-29T18:27:45 | root | INFO | \tLoss (Trn Val Dif): \t0.00573175\n",
      "\n",
      "2020-10-29T18:27:46 | root | INFO | Epoch: 0009/0050\n",
      "2020-10-29T18:27:50 | root | INFO | \tLoss (Trn): \t\t0.51678701\n",
      "2020-10-29T18:27:50 | root | INFO | \tLoss (Best Trn): \t0.51678701\n",
      "2020-10-29T18:27:50 | root | INFO | \tLoss (Val): \t\t0.51457720\n",
      "2020-10-29T18:27:50 | root | INFO | \tLoss (Best Val): \t0.51058449\n",
      "2020-10-29T18:27:50 | root | INFO | \tLoss (Trn Val Dif): \t0.00220981\n",
      "\n",
      "2020-10-29T18:27:50 | root | INFO | Epoch: 0010/0050\n",
      "2020-10-29T18:27:54 | root | INFO | \tLoss (Trn): \t\t0.51541653\n",
      "2020-10-29T18:27:54 | root | INFO | \tLoss (Best Trn): \t0.51541653\n",
      "2020-10-29T18:27:54 | root | INFO | \tLoss (Val): \t\t0.51394588\n",
      "2020-10-29T18:27:54 | root | INFO | \tLoss (Best Val): \t0.51058449\n",
      "2020-10-29T18:27:54 | root | INFO | \tLoss (Trn Val Dif): \t0.00147065\n",
      "\n",
      "2020-10-29T18:27:54 | root | INFO | Epoch: 0011/0050\n",
      "2020-10-29T18:27:58 | root | INFO | \tLoss (Trn): \t\t0.51316604\n",
      "2020-10-29T18:27:58 | root | INFO | \tLoss (Best Trn): \t0.51316604\n",
      "2020-10-29T18:27:58 | root | INFO | \tLoss (Val): \t\t0.51385329\n",
      "2020-10-29T18:27:58 | root | INFO | \tLoss (Best Val): \t0.51058449\n",
      "2020-10-29T18:27:58 | root | INFO | \tLoss (Trn Val Dif): \t0.00068724\n",
      "\n",
      "2020-10-29T18:27:58 | root | INFO | Epoch: 0012/0050\n",
      "2020-10-29T18:28:05 | root | INFO | \tLoss (Trn): \t\t0.51357356\n",
      "2020-10-29T18:28:05 | root | INFO | \tLoss (Best Trn): \t0.51316604\n",
      "2020-10-29T18:28:05 | root | INFO | \tLoss (Val): \t\t0.51344609\n",
      "2020-10-29T18:28:05 | root | INFO | \tLoss (Best Val): \t0.51058449\n",
      "2020-10-29T18:28:05 | root | INFO | \tLoss (Trn Val Dif): \t0.00012747\n",
      "\n",
      "2020-10-29T18:28:05 | root | INFO | Epoch: 0013/0050\n",
      "2020-10-29T18:28:12 | root | INFO | \tLoss (Trn): \t\t0.51205686\n",
      "2020-10-29T18:28:12 | root | INFO | \tLoss (Best Trn): \t0.51205686\n",
      "2020-10-29T18:28:12 | root | INFO | \tLoss (Val): \t\t0.53263506\n",
      "2020-10-29T18:28:12 | root | INFO | \tLoss (Best Val): \t0.51058449\n",
      "2020-10-29T18:28:12 | root | INFO | \tLoss (Trn Val Dif): \t0.02057820\n",
      "\n",
      "2020-10-29T18:28:12 | root | INFO | Epoch: 0014/0050\n",
      "2020-10-29T18:28:20 | root | INFO | \tLoss (Trn): \t\t0.51020965\n",
      "2020-10-29T18:28:20 | root | INFO | \tLoss (Best Trn): \t0.51020965\n",
      "2020-10-29T18:28:20 | root | INFO | \tLoss (Val): \t\t0.52275235\n",
      "2020-10-29T18:28:20 | root | INFO | \tLoss (Best Val): \t0.51058449\n",
      "2020-10-29T18:28:20 | root | INFO | \tLoss (Trn Val Dif): \t0.01254270\n",
      "\n",
      "2020-10-29T18:28:20 | root | INFO | Epoch: 0015/0050\n",
      "2020-10-29T18:28:27 | root | INFO | \tLoss (Trn): \t\t0.50939386\n",
      "2020-10-29T18:28:27 | root | INFO | \tLoss (Best Trn): \t0.50939386\n",
      "2020-10-29T18:28:27 | root | INFO | \tLoss (Val): \t\t0.51916783\n",
      "2020-10-29T18:28:27 | root | INFO | \tLoss (Best Val): \t0.51058449\n",
      "2020-10-29T18:28:27 | root | INFO | \tLoss (Trn Val Dif): \t0.00977397\n",
      "\n",
      "2020-10-29T18:28:27 | root | INFO | Epoch: 0016/0050\n",
      "2020-10-29T18:28:36 | root | INFO | \tLoss (Trn): \t\t0.50751889\n",
      "2020-10-29T18:28:36 | root | INFO | \tLoss (Best Trn): \t0.50751889\n",
      "2020-10-29T18:28:36 | root | INFO | \tLoss (Val): \t\t0.52135598\n",
      "2020-10-29T18:28:36 | root | INFO | \tLoss (Best Val): \t0.51058449\n",
      "2020-10-29T18:28:36 | root | INFO | \tLoss (Trn Val Dif): \t0.01383709\n",
      "\n",
      "2020-10-29T18:28:36 | root | INFO | Epoch: 0017/0050\n",
      "2020-10-29T18:28:43 | root | INFO | \tLoss (Trn): \t\t0.50463136\n",
      "2020-10-29T18:28:43 | root | INFO | \tLoss (Best Trn): \t0.50463136\n",
      "2020-10-29T18:28:43 | root | INFO | \tLoss (Val): \t\t0.51844605\n",
      "2020-10-29T18:28:43 | root | INFO | \tLoss (Best Val): \t0.51058449\n",
      "2020-10-29T18:28:43 | root | INFO | \tLoss (Trn Val Dif): \t0.01381469\n",
      "\n",
      "2020-10-29T18:28:43 | root | INFO | Epoch: 0018/0050\n",
      "2020-10-29T18:28:49 | root | INFO | \tLoss (Trn): \t\t0.50407837\n",
      "2020-10-29T18:28:49 | root | INFO | \tLoss (Best Trn): \t0.50407837\n"
     ]
    },
    {
     "name": "stdout",
     "output_type": "stream",
     "text": [
      "2020-10-29T18:28:49 | root | INFO | \tLoss (Val): \t\t0.52337347\n",
      "2020-10-29T18:28:49 | root | INFO | \tLoss (Best Val): \t0.51058449\n",
      "2020-10-29T18:28:49 | root | INFO | \tLoss (Trn Val Dif): \t0.01929510\n",
      "\n",
      "2020-10-29T18:28:49 | root | INFO | Epoch: 0019/0050\n",
      "2020-10-29T18:28:53 | root | INFO | \tLoss (Trn): \t\t0.50264266\n",
      "2020-10-29T18:28:53 | root | INFO | \tLoss (Best Trn): \t0.50264266\n",
      "2020-10-29T18:28:53 | root | INFO | \tLoss (Val): \t\t0.52004763\n",
      "2020-10-29T18:28:53 | root | INFO | \tLoss (Best Val): \t0.51058449\n",
      "2020-10-29T18:28:53 | root | INFO | \tLoss (Trn Val Dif): \t0.01740496\n",
      "\n",
      "2020-10-29T18:28:53 | root | INFO | Epoch: 0020/0050\n",
      "2020-10-29T18:28:58 | root | INFO | \tLoss (Trn): \t\t0.50006246\n",
      "2020-10-29T18:28:58 | root | INFO | \tLoss (Best Trn): \t0.50006246\n",
      "2020-10-29T18:28:58 | root | INFO | \tLoss (Val): \t\t0.52186232\n",
      "2020-10-29T18:28:58 | root | INFO | \tLoss (Best Val): \t0.51058449\n",
      "2020-10-29T18:28:58 | root | INFO | \tLoss (Trn Val Dif): \t0.02179987\n",
      "\n",
      "2020-10-29T18:28:58 | root | INFO | Epoch: 0021/0050\n",
      "2020-10-29T18:29:02 | root | INFO | \tLoss (Trn): \t\t0.49871005\n",
      "2020-10-29T18:29:02 | root | INFO | \tLoss (Best Trn): \t0.49871005\n",
      "2020-10-29T18:29:02 | root | INFO | \tLoss (Val): \t\t0.52132335\n",
      "2020-10-29T18:29:02 | root | INFO | \tLoss (Best Val): \t0.51058449\n",
      "2020-10-29T18:29:02 | root | INFO | \tLoss (Trn Val Dif): \t0.02261330\n",
      "\n",
      "2020-10-29T18:29:02 | root | INFO | Epoch: 0022/0050\n",
      "2020-10-29T18:29:06 | root | INFO | \tLoss (Trn): \t\t0.49647020\n",
      "2020-10-29T18:29:06 | root | INFO | \tLoss (Best Trn): \t0.49647020\n",
      "2020-10-29T18:29:06 | root | INFO | \tLoss (Val): \t\t0.53698651\n",
      "2020-10-29T18:29:06 | root | INFO | \tLoss (Best Val): \t0.51058449\n",
      "2020-10-29T18:29:06 | root | INFO | \tLoss (Trn Val Dif): \t0.04051631\n",
      "\n",
      "2020-10-29T18:29:06 | root | INFO | Epoch: 0023/0050\n",
      "2020-10-29T18:29:10 | root | INFO | \tLoss (Trn): \t\t0.49471642\n",
      "2020-10-29T18:29:10 | root | INFO | \tLoss (Best Trn): \t0.49471642\n",
      "2020-10-29T18:29:10 | root | INFO | \tLoss (Val): \t\t0.53501886\n",
      "2020-10-29T18:29:10 | root | INFO | \tLoss (Best Val): \t0.51058449\n",
      "2020-10-29T18:29:10 | root | INFO | \tLoss (Trn Val Dif): \t0.04030244\n",
      "\n",
      "2020-10-29T18:29:10 | root | INFO | Epoch: 0024/0050\n",
      "2020-10-29T18:29:14 | root | INFO | \tLoss (Trn): \t\t0.49145868\n",
      "2020-10-29T18:29:14 | root | INFO | \tLoss (Best Trn): \t0.49145868\n",
      "2020-10-29T18:29:14 | root | INFO | \tLoss (Val): \t\t0.52774144\n",
      "2020-10-29T18:29:14 | root | INFO | \tLoss (Best Val): \t0.51058449\n",
      "2020-10-29T18:29:15 | root | INFO | \tLoss (Trn Val Dif): \t0.03628276\n",
      "\n",
      "2020-10-29T18:29:15 | root | INFO | Epoch: 0025/0050\n",
      "2020-10-29T18:29:19 | root | INFO | \tLoss (Trn): \t\t0.48859203\n",
      "2020-10-29T18:29:19 | root | INFO | \tLoss (Best Trn): \t0.48859203\n",
      "2020-10-29T18:29:19 | root | INFO | \tLoss (Val): \t\t0.53414177\n",
      "2020-10-29T18:29:19 | root | INFO | \tLoss (Best Val): \t0.51058449\n",
      "2020-10-29T18:29:19 | root | INFO | \tLoss (Trn Val Dif): \t0.04554975\n",
      "\n",
      "2020-10-29T18:29:19 | root | INFO | Epoch: 0026/0050\n",
      "2020-10-29T18:29:23 | root | INFO | \tLoss (Trn): \t\t0.48589455\n",
      "2020-10-29T18:29:23 | root | INFO | \tLoss (Best Trn): \t0.48589455\n",
      "2020-10-29T18:29:23 | root | INFO | \tLoss (Val): \t\t0.54560596\n",
      "2020-10-29T18:29:23 | root | INFO | \tLoss (Best Val): \t0.51058449\n",
      "2020-10-29T18:29:23 | root | INFO | \tLoss (Trn Val Dif): \t0.05971141\n",
      "\n",
      "2020-10-29T18:29:23 | root | INFO | Epoch: 0027/0050\n",
      "2020-10-29T18:29:27 | root | INFO | \tLoss (Trn): \t\t0.48267337\n",
      "2020-10-29T18:29:27 | root | INFO | \tLoss (Best Trn): \t0.48267337\n",
      "2020-10-29T18:29:27 | root | INFO | \tLoss (Val): \t\t0.54023402\n",
      "2020-10-29T18:29:27 | root | INFO | \tLoss (Best Val): \t0.51058449\n",
      "2020-10-29T18:29:27 | root | INFO | \tLoss (Trn Val Dif): \t0.05756066\n",
      "\n",
      "2020-10-29T18:29:27 | root | INFO | Epoch: 0028/0050\n",
      "2020-10-29T18:29:32 | root | INFO | \tLoss (Trn): \t\t0.48098571\n",
      "2020-10-29T18:29:32 | root | INFO | \tLoss (Best Trn): \t0.48098571\n",
      "2020-10-29T18:29:32 | root | INFO | \tLoss (Val): \t\t0.54914296\n",
      "2020-10-29T18:29:32 | root | INFO | \tLoss (Best Val): \t0.51058449\n",
      "2020-10-29T18:29:32 | root | INFO | \tLoss (Trn Val Dif): \t0.06815725\n",
      "\n",
      "2020-10-29T18:29:32 | root | INFO | Epoch: 0029/0050\n",
      "2020-10-29T18:29:37 | root | INFO | \tLoss (Trn): \t\t0.47686477\n",
      "2020-10-29T18:29:37 | root | INFO | \tLoss (Best Trn): \t0.47686477\n",
      "2020-10-29T18:29:37 | root | INFO | \tLoss (Val): \t\t0.56200069\n",
      "2020-10-29T18:29:37 | root | INFO | \tLoss (Best Val): \t0.51058449\n",
      "2020-10-29T18:29:37 | root | INFO | \tLoss (Trn Val Dif): \t0.08513592\n",
      "\n",
      "2020-10-29T18:29:37 | root | INFO | Epoch: 0030/0050\n",
      "2020-10-29T18:29:42 | root | INFO | \tLoss (Trn): \t\t0.47324053\n",
      "2020-10-29T18:29:42 | root | INFO | \tLoss (Best Trn): \t0.47324053\n",
      "2020-10-29T18:29:42 | root | INFO | \tLoss (Val): \t\t0.54976850\n",
      "2020-10-29T18:29:42 | root | INFO | \tLoss (Best Val): \t0.51058449\n",
      "2020-10-29T18:29:42 | root | INFO | \tLoss (Trn Val Dif): \t0.07652797\n",
      "\n",
      "2020-10-29T18:29:42 | root | INFO | Epoch: 0031/0050\n",
      "2020-10-29T18:29:46 | root | INFO | \tLoss (Trn): \t\t0.46890787\n",
      "2020-10-29T18:29:46 | root | INFO | \tLoss (Best Trn): \t0.46890787\n",
      "2020-10-29T18:29:46 | root | INFO | \tLoss (Val): \t\t0.55877102\n",
      "2020-10-29T18:29:46 | root | INFO | \tLoss (Best Val): \t0.51058449\n",
      "2020-10-29T18:29:46 | root | INFO | \tLoss (Trn Val Dif): \t0.08986315\n",
      "\n",
      "2020-10-29T18:29:47 | root | INFO | Epoch: 0032/0050\n",
      "2020-10-29T18:29:51 | root | INFO | \tLoss (Trn): \t\t0.46494037\n",
      "2020-10-29T18:29:51 | root | INFO | \tLoss (Best Trn): \t0.46494037\n",
      "2020-10-29T18:29:51 | root | INFO | \tLoss (Val): \t\t0.56327366\n",
      "2020-10-29T18:29:51 | root | INFO | \tLoss (Best Val): \t0.51058449\n",
      "2020-10-29T18:29:51 | root | INFO | \tLoss (Trn Val Dif): \t0.09833330\n",
      "\n",
      "2020-10-29T18:29:51 | root | INFO | Epoch: 0033/0050\n",
      "2020-10-29T18:29:56 | root | INFO | \tLoss (Trn): \t\t0.46053139\n",
      "2020-10-29T18:29:56 | root | INFO | \tLoss (Best Trn): \t0.46053139\n",
      "2020-10-29T18:29:56 | root | INFO | \tLoss (Val): \t\t0.57212871\n",
      "2020-10-29T18:29:56 | root | INFO | \tLoss (Best Val): \t0.51058449\n",
      "2020-10-29T18:29:56 | root | INFO | \tLoss (Trn Val Dif): \t0.11159732\n",
      "\n",
      "2020-10-29T18:29:56 | root | INFO | Epoch: 0034/0050\n",
      "2020-10-29T18:30:01 | root | INFO | \tLoss (Trn): \t\t0.45577736\n",
      "2020-10-29T18:30:01 | root | INFO | \tLoss (Best Trn): \t0.45577736\n",
      "2020-10-29T18:30:01 | root | INFO | \tLoss (Val): \t\t0.59785353\n",
      "2020-10-29T18:30:01 | root | INFO | \tLoss (Best Val): \t0.51058449\n",
      "2020-10-29T18:30:01 | root | INFO | \tLoss (Trn Val Dif): \t0.14207617\n",
      "\n",
      "2020-10-29T18:30:01 | root | INFO | Epoch: 0035/0050\n",
      "2020-10-29T18:30:05 | root | INFO | \tLoss (Trn): \t\t0.45152014\n",
      "2020-10-29T18:30:05 | root | INFO | \tLoss (Best Trn): \t0.45152014\n",
      "2020-10-29T18:30:05 | root | INFO | \tLoss (Val): \t\t0.58656008\n",
      "2020-10-29T18:30:05 | root | INFO | \tLoss (Best Val): \t0.51058449\n",
      "2020-10-29T18:30:05 | root | INFO | \tLoss (Trn Val Dif): \t0.13503993\n",
      "\n",
      "2020-10-29T18:30:05 | root | INFO | Epoch: 0036/0050\n",
      "2020-10-29T18:30:10 | root | INFO | \tLoss (Trn): \t\t0.44526943\n",
      "2020-10-29T18:30:10 | root | INFO | \tLoss (Best Trn): \t0.44526943\n",
      "2020-10-29T18:30:10 | root | INFO | \tLoss (Val): \t\t0.59153195\n",
      "2020-10-29T18:30:10 | root | INFO | \tLoss (Best Val): \t0.51058449\n",
      "2020-10-29T18:30:10 | root | INFO | \tLoss (Trn Val Dif): \t0.14626252\n",
      "\n",
      "2020-10-29T18:30:10 | root | INFO | Epoch: 0037/0050\n",
      "2020-10-29T18:30:14 | root | INFO | \tLoss (Trn): \t\t0.43987310\n",
      "2020-10-29T18:30:14 | root | INFO | \tLoss (Best Trn): \t0.43987310\n",
      "2020-10-29T18:30:14 | root | INFO | \tLoss (Val): \t\t0.60850200\n",
      "2020-10-29T18:30:14 | root | INFO | \tLoss (Best Val): \t0.51058449\n",
      "2020-10-29T18:30:14 | root | INFO | \tLoss (Trn Val Dif): \t0.16862890\n",
      "\n",
      "2020-10-29T18:30:15 | root | INFO | Epoch: 0038/0050\n",
      "2020-10-29T18:30:19 | root | INFO | \tLoss (Trn): \t\t0.43406687\n",
      "2020-10-29T18:30:19 | root | INFO | \tLoss (Best Trn): \t0.43406687\n",
      "2020-10-29T18:30:19 | root | INFO | \tLoss (Val): \t\t0.61394159\n",
      "2020-10-29T18:30:19 | root | INFO | \tLoss (Best Val): \t0.51058449\n",
      "2020-10-29T18:30:19 | root | INFO | \tLoss (Trn Val Dif): \t0.17987472\n",
      "\n",
      "2020-10-29T18:30:20 | root | INFO | Epoch: 0039/0050\n",
      "2020-10-29T18:30:25 | root | INFO | \tLoss (Trn): \t\t0.42806328\n",
      "2020-10-29T18:30:25 | root | INFO | \tLoss (Best Trn): \t0.42806328\n",
      "2020-10-29T18:30:25 | root | INFO | \tLoss (Val): \t\t0.61496004\n",
      "2020-10-29T18:30:25 | root | INFO | \tLoss (Best Val): \t0.51058449\n",
      "2020-10-29T18:30:25 | root | INFO | \tLoss (Trn Val Dif): \t0.18689676\n",
      "\n",
      "2020-10-29T18:30:25 | root | INFO | Epoch: 0040/0050\n"
     ]
    },
    {
     "name": "stdout",
     "output_type": "stream",
     "text": [
      "2020-10-29T18:30:29 | root | INFO | \tLoss (Trn): \t\t0.42276375\n",
      "2020-10-29T18:30:29 | root | INFO | \tLoss (Best Trn): \t0.42276375\n",
      "2020-10-29T18:30:29 | root | INFO | \tLoss (Val): \t\t0.63586809\n",
      "2020-10-29T18:30:29 | root | INFO | \tLoss (Best Val): \t0.51058449\n",
      "2020-10-29T18:30:29 | root | INFO | \tLoss (Trn Val Dif): \t0.21310434\n",
      "\n",
      "2020-10-29T18:30:29 | root | INFO | Epoch: 0041/0050\n",
      "2020-10-29T18:30:34 | root | INFO | \tLoss (Trn): \t\t0.41549239\n",
      "2020-10-29T18:30:34 | root | INFO | \tLoss (Best Trn): \t0.41549239\n",
      "2020-10-29T18:30:34 | root | INFO | \tLoss (Val): \t\t0.65131139\n",
      "2020-10-29T18:30:34 | root | INFO | \tLoss (Best Val): \t0.51058449\n",
      "2020-10-29T18:30:34 | root | INFO | \tLoss (Trn Val Dif): \t0.23581901\n",
      "\n",
      "2020-10-29T18:30:34 | root | INFO | Epoch: 0042/0050\n",
      "2020-10-29T18:30:39 | root | INFO | \tLoss (Trn): \t\t0.40779848\n",
      "2020-10-29T18:30:39 | root | INFO | \tLoss (Best Trn): \t0.40779848\n",
      "2020-10-29T18:30:39 | root | INFO | \tLoss (Val): \t\t0.67724723\n",
      "2020-10-29T18:30:39 | root | INFO | \tLoss (Best Val): \t0.51058449\n",
      "2020-10-29T18:30:39 | root | INFO | \tLoss (Trn Val Dif): \t0.26944875\n",
      "\n",
      "2020-10-29T18:30:39 | root | INFO | Epoch: 0043/0050\n",
      "2020-10-29T18:30:44 | root | INFO | \tLoss (Trn): \t\t0.39993986\n",
      "2020-10-29T18:30:44 | root | INFO | \tLoss (Best Trn): \t0.39993986\n",
      "2020-10-29T18:30:44 | root | INFO | \tLoss (Val): \t\t0.65899122\n",
      "2020-10-29T18:30:44 | root | INFO | \tLoss (Best Val): \t0.51058449\n",
      "2020-10-29T18:30:44 | root | INFO | \tLoss (Trn Val Dif): \t0.25905136\n",
      "\n",
      "2020-10-29T18:30:44 | root | INFO | Epoch: 0044/0050\n",
      "2020-10-29T18:30:49 | root | INFO | \tLoss (Trn): \t\t0.39381561\n",
      "2020-10-29T18:30:49 | root | INFO | \tLoss (Best Trn): \t0.39381561\n",
      "2020-10-29T18:30:49 | root | INFO | \tLoss (Val): \t\t0.76048299\n",
      "2020-10-29T18:30:49 | root | INFO | \tLoss (Best Val): \t0.51058449\n",
      "2020-10-29T18:30:49 | root | INFO | \tLoss (Trn Val Dif): \t0.36666738\n",
      "\n",
      "2020-10-29T18:30:49 | root | INFO | Epoch: 0045/0050\n",
      "2020-10-29T18:30:53 | root | INFO | \tLoss (Trn): \t\t0.38416668\n",
      "2020-10-29T18:30:53 | root | INFO | \tLoss (Best Trn): \t0.38416668\n",
      "2020-10-29T18:30:53 | root | INFO | \tLoss (Val): \t\t0.73259970\n",
      "2020-10-29T18:30:53 | root | INFO | \tLoss (Best Val): \t0.51058449\n",
      "2020-10-29T18:30:53 | root | INFO | \tLoss (Trn Val Dif): \t0.34843302\n",
      "\n",
      "2020-10-29T18:30:54 | root | INFO | Epoch: 0046/0050\n",
      "2020-10-29T18:30:58 | root | INFO | \tLoss (Trn): \t\t0.37715847\n",
      "2020-10-29T18:30:58 | root | INFO | \tLoss (Best Trn): \t0.37715847\n",
      "2020-10-29T18:30:58 | root | INFO | \tLoss (Val): \t\t0.77415286\n",
      "2020-10-29T18:30:58 | root | INFO | \tLoss (Best Val): \t0.51058449\n",
      "2020-10-29T18:30:58 | root | INFO | \tLoss (Trn Val Dif): \t0.39699438\n",
      "\n",
      "2020-10-29T18:30:58 | root | INFO | Epoch: 0047/0050\n",
      "2020-10-29T18:31:03 | root | INFO | \tLoss (Trn): \t\t0.36744810\n",
      "2020-10-29T18:31:03 | root | INFO | \tLoss (Best Trn): \t0.36744810\n",
      "2020-10-29T18:31:03 | root | INFO | \tLoss (Val): \t\t0.77692635\n",
      "2020-10-29T18:31:03 | root | INFO | \tLoss (Best Val): \t0.51058449\n",
      "2020-10-29T18:31:03 | root | INFO | \tLoss (Trn Val Dif): \t0.40947825\n",
      "\n",
      "2020-10-29T18:31:03 | root | INFO | Epoch: 0048/0050\n",
      "2020-10-29T18:31:08 | root | INFO | \tLoss (Trn): \t\t0.36004454\n",
      "2020-10-29T18:31:08 | root | INFO | \tLoss (Best Trn): \t0.36004454\n",
      "2020-10-29T18:31:08 | root | INFO | \tLoss (Val): \t\t0.79753702\n",
      "2020-10-29T18:31:08 | root | INFO | \tLoss (Best Val): \t0.51058449\n",
      "2020-10-29T18:31:08 | root | INFO | \tLoss (Trn Val Dif): \t0.43749248\n",
      "\n",
      "2020-10-29T18:31:08 | root | INFO | Epoch: 0049/0050\n",
      "2020-10-29T18:31:13 | root | INFO | \tLoss (Trn): \t\t0.35093722\n",
      "2020-10-29T18:31:13 | root | INFO | \tLoss (Best Trn): \t0.35093722\n",
      "2020-10-29T18:31:13 | root | INFO | \tLoss (Val): \t\t0.87083887\n",
      "2020-10-29T18:31:13 | root | INFO | \tLoss (Best Val): \t0.51058449\n",
      "2020-10-29T18:31:13 | root | INFO | \tLoss (Trn Val Dif): \t0.51990165\n",
      "\n",
      "2020-10-29T18:31:13 | root | INFO | Epoch: 0050/0050\n",
      "2020-10-29T18:31:18 | root | INFO | \tLoss (Trn): \t\t0.34359888\n",
      "2020-10-29T18:31:18 | root | INFO | \tLoss (Best Trn): \t0.34359888\n",
      "2020-10-29T18:31:18 | root | INFO | \tLoss (Val): \t\t0.85085560\n",
      "2020-10-29T18:31:18 | root | INFO | \tLoss (Best Val): \t0.51058449\n",
      "2020-10-29T18:31:18 | root | INFO | \tLoss (Trn Val Dif): \t0.50725671\n",
      "\n",
      "stopped_early: False\n"
     ]
    },
    {
     "data": {
      "image/png": "[encoded data removed]",
      "text/plain": [
       "<Figure size 1080x360 with 1 Axes>"
      ]
     },
     "metadata": {
      "needs_background": "light"
     },
     "output_type": "display_data"
    }
   ],
   "source": [
    "trn_epoch_losses, val_epoch_losses, stopped_early = train_model(\n",
    "    model=model,\n",
    "    optimiser=optimiser,\n",
    "    loaders=loaders,\n",
    "    train_epoch_fn=train_epoch_for_fnn,\n",
    "    loss_fn=loss_function,\n",
    "    conf=conf,\n",
    "    scheduler=scheduler,\n",
    ")    \n",
    "\n",
    "print(f\"stopped_early: {stopped_early}\") # use the current epoch instead\n",
    "# if stopped_early -> continue with best_model - new hyper-parameters -> no n "
   ]
  },
  {
   "cell_type": "code",
   "execution_count": 10,
   "metadata": {},
   "outputs": [
    {
     "data": {
      "application/vnd.plotly.v1+json": {
       "config": {
        "plotlyServerURL": "https://plot.ly"
       },
       "data": [
        {
         "mode": "lines+markers",
         "name": "Train Losses",
         "type": "scatter",
         "y": [
          0.5530203854734147,
          0.5351415938111367,
          0.5270334654660137,
          0.5243842865995787,
          0.5234651548305044,
          0.5207859143890716,
          0.5193021833482716,
          0.5181270116181286,
          0.5167870122111506,
          0.5154165254422912,
          0.513166042941588,
          0.5135735618985362,
          0.5120568605898707,
          0.5102096508360572,
          0.509393863517929,
          0.5075188878647707,
          0.5046313633383425,
          0.504078374347753,
          0.5026426605742287,
          0.500062456285512,
          0.4987100451770756,
          0.4964701980352402,
          0.4947164153197297,
          0.4914586825503243,
          0.4885920253754766,
          0.4858945497760066,
          0.4826733663816143,
          0.4809857144675873,
          0.47686476605357947,
          0.47324053170504393,
          0.46890786814468877,
          0.46494036726653576,
          0.46053138851291603,
          0.4557773575048756,
          0.4515201416970403,
          0.4452694335055572,
          0.43987310201757485,
          0.4340668737336441,
          0.4280632767412398,
          0.42276374981911097,
          0.41549238603976035,
          0.40779848445068906,
          0.39993985604356835,
          0.393815611799558,
          0.38416668241498647,
          0.3771584738666813,
          0.3674480956461694,
          0.3600445392852028,
          0.35093722326887977,
          0.34359888187437143
         ]
        },
        {
         "mode": "lines+markers",
         "name": "Validation Losses",
         "type": "scatter",
         "y": [
          0.5193642256941114,
          0.5186046096256801,
          0.5172953397887093,
          0.5125537514686584,
          0.5118532645702362,
          0.5105844911507198,
          0.5115445535523551,
          0.5123952577795301,
          0.5145772021157401,
          0.5139458761896406,
          0.5138532868453435,
          0.5134460881778172,
          0.5326350586754935,
          0.522752354315349,
          0.5191678290707724,
          0.5213559799534934,
          0.5184460491793497,
          0.5233734714984893,
          0.5200476251329694,
          0.5218623229435512,
          0.521323345388685,
          0.5369865116051266,
          0.5350188568660191,
          0.5277414386613029,
          0.5341417707715715,
          0.545605958529881,
          0.5402340229919979,
          0.5491429630347661,
          0.5620006855896541,
          0.5497684979438782,
          0.5587710184710366,
          0.5632736647129059,
          0.5721287068298885,
          0.5978535253661019,
          0.5865600754533495,
          0.5915319529601506,
          0.6085019990376064,
          0.6139415929998671,
          0.6149600355965751,
          0.6358680857930865,
          0.6513113949980055,
          0.6772472330502102,
          0.6589912172726222,
          0.7604829905714308,
          0.7325997046061925,
          0.7741528582572937,
          0.7769263458251953,
          0.7975370173794882,
          0.870838874408177,
          0.8508555950437273
         ]
        },
        {
         "marker": {
          "size": 10,
          "symbol": "x"
         },
         "mode": "markers",
         "name": "Best Validation Loss",
         "type": "scatter",
         "x": [
          5
         ],
         "y": [
          0.5105844911507198
         ]
        },
        {
         "marker": {
          "size": 10,
          "symbol": "x"
         },
         "mode": "markers",
         "name": "Best Train Loss",
         "type": "scatter",
         "x": [
          49
         ],
         "y": [
          0.34359888187437143
         ]
        }
       ],
       "layout": {
        "template": {
         "data": {
          "bar": [
           {
            "error_x": {
             "color": "#2a3f5f"
            },
            "error_y": {
             "color": "#2a3f5f"
            },
            "marker": {
             "line": {
              "color": "#E5ECF6",
              "width": 0.5
             }
            },
            "type": "bar"
           }
          ],
          "barpolar": [
           {
            "marker": {
             "line": {
              "color": "#E5ECF6",
              "width": 0.5
             }
            },
            "type": "barpolar"
           }
          ],
          "carpet": [
           {
            "aaxis": {
             "endlinecolor": "#2a3f5f",
             "gridcolor": "white",
             "linecolor": "white",
             "minorgridcolor": "white",
             "startlinecolor": "#2a3f5f"
            },
            "baxis": {
             "endlinecolor": "#2a3f5f",
             "gridcolor": "white",
             "linecolor": "white",
             "minorgridcolor": "white",
             "startlinecolor": "#2a3f5f"
            },
            "type": "carpet"
           }
          ],
          "choropleth": [
           {
            "colorbar": {
             "outlinewidth": 0,
             "ticks": ""
            },
            "type": "choropleth"
           }
          ],
          "contour": [
           {
            "colorbar": {
             "outlinewidth": 0,
             "ticks": ""
            },
            "colorscale": [
             [
              0,
              "#0d0887"
             ],
             [
              0.1111111111111111,
              "#46039f"
             ],
             [
              0.2222222222222222,
              "#7201a8"
             ],
             [
              0.3333333333333333,
              "#9c179e"
             ],
             [
              0.4444444444444444,
              "#bd3786"
             ],
             [
              0.5555555555555556,
              "#d8576b"
             ],
             [
              0.6666666666666666,
              "#ed7953"
             ],
             [
              0.7777777777777778,
              "#fb9f3a"
             ],
             [
              0.8888888888888888,
              "#fdca26"
             ],
             [
              1,
              "#f0f921"
             ]
            ],
            "type": "contour"
           }
          ],
          "contourcarpet": [
           {
            "colorbar": {
             "outlinewidth": 0,
             "ticks": ""
            },
            "type": "contourcarpet"
           }
          ],
          "heatmap": [
           {
            "colorbar": {
             "outlinewidth": 0,
             "ticks": ""
            },
            "colorscale": [
             [
              0,
              "#0d0887"
             ],
             [
              0.1111111111111111,
              "#46039f"
             ],
             [
              0.2222222222222222,
              "#7201a8"
             ],
             [
              0.3333333333333333,
              "#9c179e"
             ],
             [
              0.4444444444444444,
              "#bd3786"
             ],
             [
              0.5555555555555556,
              "#d8576b"
             ],
             [
              0.6666666666666666,
              "#ed7953"
             ],
             [
              0.7777777777777778,
              "#fb9f3a"
             ],
             [
              0.8888888888888888,
              "#fdca26"
             ],
             [
              1,
              "#f0f921"
             ]
            ],
            "type": "heatmap"
           }
          ],
          "heatmapgl": [
           {
            "colorbar": {
             "outlinewidth": 0,
             "ticks": ""
            },
            "colorscale": [
             [
              0,
              "#0d0887"
             ],
             [
              0.1111111111111111,
              "#46039f"
             ],
             [
              0.2222222222222222,
              "#7201a8"
             ],
             [
              0.3333333333333333,
              "#9c179e"
             ],
             [
              0.4444444444444444,
              "#bd3786"
             ],
             [
              0.5555555555555556,
              "#d8576b"
             ],
             [
              0.6666666666666666,
              "#ed7953"
             ],
             [
              0.7777777777777778,
              "#fb9f3a"
             ],
             [
              0.8888888888888888,
              "#fdca26"
             ],
             [
              1,
              "#f0f921"
             ]
            ],
            "type": "heatmapgl"
           }
          ],
          "histogram": [
           {
            "marker": {
             "colorbar": {
              "outlinewidth": 0,
              "ticks": ""
             }
            },
            "type": "histogram"
           }
          ],
          "histogram2d": [
           {
            "colorbar": {
             "outlinewidth": 0,
             "ticks": ""
            },
            "colorscale": [
             [
              0,
              "#0d0887"
             ],
             [
              0.1111111111111111,
              "#46039f"
             ],
             [
              0.2222222222222222,
              "#7201a8"
             ],
             [
              0.3333333333333333,
              "#9c179e"
             ],
             [
              0.4444444444444444,
              "#bd3786"
             ],
             [
              0.5555555555555556,
              "#d8576b"
             ],
             [
              0.6666666666666666,
              "#ed7953"
             ],
             [
              0.7777777777777778,
              "#fb9f3a"
             ],
             [
              0.8888888888888888,
              "#fdca26"
             ],
             [
              1,
              "#f0f921"
             ]
            ],
            "type": "histogram2d"
           }
          ],
          "histogram2dcontour": [
           {
            "colorbar": {
             "outlinewidth": 0,
             "ticks": ""
            },
            "colorscale": [
             [
              0,
              "#0d0887"
             ],
             [
              0.1111111111111111,
              "#46039f"
             ],
             [
              0.2222222222222222,
              "#7201a8"
             ],
             [
              0.3333333333333333,
              "#9c179e"
             ],
             [
              0.4444444444444444,
              "#bd3786"
             ],
             [
              0.5555555555555556,
              "#d8576b"
             ],
             [
              0.6666666666666666,
              "#ed7953"
             ],
             [
              0.7777777777777778,
              "#fb9f3a"
             ],
             [
              0.8888888888888888,
              "#fdca26"
             ],
             [
              1,
              "#f0f921"
             ]
            ],
            "type": "histogram2dcontour"
           }
          ],
          "mesh3d": [
           {
            "colorbar": {
             "outlinewidth": 0,
             "ticks": ""
            },
            "type": "mesh3d"
           }
          ],
          "parcoords": [
           {
            "line": {
             "colorbar": {
              "outlinewidth": 0,
              "ticks": ""
             }
            },
            "type": "parcoords"
           }
          ],
          "pie": [
           {
            "automargin": true,
            "type": "pie"
           }
          ],
          "scatter": [
           {
            "marker": {
             "colorbar": {
              "outlinewidth": 0,
              "ticks": ""
             }
            },
            "type": "scatter"
           }
          ],
          "scatter3d": [
           {
            "line": {
             "colorbar": {
              "outlinewidth": 0,
              "ticks": ""
             }
            },
            "marker": {
             "colorbar": {
              "outlinewidth": 0,
              "ticks": ""
             }
            },
            "type": "scatter3d"
           }
          ],
          "scattercarpet": [
           {
            "marker": {
             "colorbar": {
              "outlinewidth": 0,
              "ticks": ""
             }
            },
            "type": "scattercarpet"
           }
          ],
          "scattergeo": [
           {
            "marker": {
             "colorbar": {
              "outlinewidth": 0,
              "ticks": ""
             }
            },
            "type": "scattergeo"
           }
          ],
          "scattergl": [
           {
            "marker": {
             "colorbar": {
              "outlinewidth": 0,
              "ticks": ""
             }
            },
            "type": "scattergl"
           }
          ],
          "scattermapbox": [
           {
            "marker": {
             "colorbar": {
              "outlinewidth": 0,
              "ticks": ""
             }
            },
            "type": "scattermapbox"
           }
          ],
          "scatterpolar": [
           {
            "marker": {
             "colorbar": {
              "outlinewidth": 0,
              "ticks": ""
             }
            },
            "type": "scatterpolar"
           }
          ],
          "scatterpolargl": [
           {
            "marker": {
             "colorbar": {
              "outlinewidth": 0,
              "ticks": ""
             }
            },
            "type": "scatterpolargl"
           }
          ],
          "scatterternary": [
           {
            "marker": {
             "colorbar": {
              "outlinewidth": 0,
              "ticks": ""
             }
            },
            "type": "scatterternary"
           }
          ],
          "surface": [
           {
            "colorbar": {
             "outlinewidth": 0,
             "ticks": ""
            },
            "colorscale": [
             [
              0,
              "#0d0887"
             ],
             [
              0.1111111111111111,
              "#46039f"
             ],
             [
              0.2222222222222222,
              "#7201a8"
             ],
             [
              0.3333333333333333,
              "#9c179e"
             ],
             [
              0.4444444444444444,
              "#bd3786"
             ],
             [
              0.5555555555555556,
              "#d8576b"
             ],
             [
              0.6666666666666666,
              "#ed7953"
             ],
             [
              0.7777777777777778,
              "#fb9f3a"
             ],
             [
              0.8888888888888888,
              "#fdca26"
             ],
             [
              1,
              "#f0f921"
             ]
            ],
            "type": "surface"
           }
          ],
          "table": [
           {
            "cells": {
             "fill": {
              "color": "#EBF0F8"
             },
             "line": {
              "color": "white"
             }
            },
            "header": {
             "fill": {
              "color": "#C8D4E3"
             },
             "line": {
              "color": "white"
             }
            },
            "type": "table"
           }
          ]
         },
         "layout": {
          "annotationdefaults": {
           "arrowcolor": "#2a3f5f",
           "arrowhead": 0,
           "arrowwidth": 1
          },
          "coloraxis": {
           "colorbar": {
            "outlinewidth": 0,
            "ticks": ""
           }
          },
          "colorscale": {
           "diverging": [
            [
             0,
             "#8e0152"
            ],
            [
             0.1,
             "#c51b7d"
            ],
            [
             0.2,
             "#de77ae"
            ],
            [
             0.3,
             "#f1b6da"
            ],
            [
             0.4,
             "#fde0ef"
            ],
            [
             0.5,
             "#f7f7f7"
            ],
            [
             0.6,
             "#e6f5d0"
            ],
            [
             0.7,
             "#b8e186"
            ],
            [
             0.8,
             "#7fbc41"
            ],
            [
             0.9,
             "#4d9221"
            ],
            [
             1,
             "#276419"
            ]
           ],
           "sequential": [
            [
             0,
             "#0d0887"
            ],
            [
             0.1111111111111111,
             "#46039f"
            ],
            [
             0.2222222222222222,
             "#7201a8"
            ],
            [
             0.3333333333333333,
             "#9c179e"
            ],
            [
             0.4444444444444444,
             "#bd3786"
            ],
            [
             0.5555555555555556,
             "#d8576b"
            ],
            [
             0.6666666666666666,
             "#ed7953"
            ],
            [
             0.7777777777777778,
             "#fb9f3a"
            ],
            [
             0.8888888888888888,
             "#fdca26"
            ],
            [
             1,
             "#f0f921"
            ]
           ],
           "sequentialminus": [
            [
             0,
             "#0d0887"
            ],
            [
             0.1111111111111111,
             "#46039f"
            ],
            [
             0.2222222222222222,
             "#7201a8"
            ],
            [
             0.3333333333333333,
             "#9c179e"
            ],
            [
             0.4444444444444444,
             "#bd3786"
            ],
            [
             0.5555555555555556,
             "#d8576b"
            ],
            [
             0.6666666666666666,
             "#ed7953"
            ],
            [
             0.7777777777777778,
             "#fb9f3a"
            ],
            [
             0.8888888888888888,
             "#fdca26"
            ],
            [
             1,
             "#f0f921"
            ]
           ]
          },
          "colorway": [
           "#636efa",
           "#EF553B",
           "#00cc96",
           "#ab63fa",
           "#FFA15A",
           "#19d3f3",
           "#FF6692",
           "#B6E880",
           "#FF97FF",
           "#FECB52"
          ],
          "font": {
           "color": "#2a3f5f"
          },
          "geo": {
           "bgcolor": "white",
           "lakecolor": "white",
           "landcolor": "#E5ECF6",
           "showlakes": true,
           "showland": true,
           "subunitcolor": "white"
          },
          "hoverlabel": {
           "align": "left"
          },
          "hovermode": "closest",
          "mapbox": {
           "style": "light"
          },
          "paper_bgcolor": "white",
          "plot_bgcolor": "#E5ECF6",
          "polar": {
           "angularaxis": {
            "gridcolor": "white",
            "linecolor": "white",
            "ticks": ""
           },
           "bgcolor": "#E5ECF6",
           "radialaxis": {
            "gridcolor": "white",
            "linecolor": "white",
            "ticks": ""
           }
          },
          "scene": {
           "xaxis": {
            "backgroundcolor": "#E5ECF6",
            "gridcolor": "white",
            "gridwidth": 2,
            "linecolor": "white",
            "showbackground": true,
            "ticks": "",
            "zerolinecolor": "white"
           },
           "yaxis": {
            "backgroundcolor": "#E5ECF6",
            "gridcolor": "white",
            "gridwidth": 2,
            "linecolor": "white",
            "showbackground": true,
            "ticks": "",
            "zerolinecolor": "white"
           },
           "zaxis": {
            "backgroundcolor": "#E5ECF6",
            "gridcolor": "white",
            "gridwidth": 2,
            "linecolor": "white",
            "showbackground": true,
            "ticks": "",
            "zerolinecolor": "white"
           }
          },
          "shapedefaults": {
           "line": {
            "color": "#2a3f5f"
           }
          },
          "ternary": {
           "aaxis": {
            "gridcolor": "white",
            "linecolor": "white",
            "ticks": ""
           },
           "baxis": {
            "gridcolor": "white",
            "linecolor": "white",
            "ticks": ""
           },
           "bgcolor": "#E5ECF6",
           "caxis": {
            "gridcolor": "white",
            "linecolor": "white",
            "ticks": ""
           }
          },
          "title": {
           "x": 0.05
          },
          "xaxis": {
           "automargin": true,
           "gridcolor": "white",
           "linecolor": "white",
           "ticks": "",
           "title": {
            "standoff": 15
           },
           "zerolinecolor": "white",
           "zerolinewidth": 2
          },
          "yaxis": {
           "automargin": true,
           "gridcolor": "white",
           "linecolor": "white",
           "ticks": "",
           "title": {
            "standoff": 15
           },
           "zerolinecolor": "white",
           "zerolinewidth": 2
          }
         }
        },
        "title": {
         "text": "Train and Validation Losses per epoch",
         "x": 0.5
        }
       }
      },
      "text/html": [
       "<div>\n",
       "        \n",
       "        \n",
       "            <div id=\"ebedf9a2-16d1-499c-8530-b6080d83408b\" class=\"plotly-graph-div\" style=\"height:525px; width:100%;\"></div>\n",
       "            <script type=\"text/javascript\">\n",
       "                require([\"plotly\"], function(Plotly) {\n",
       "                    window.PLOTLYENV=window.PLOTLYENV || {};\n",
       "                    \n",
       "                if (document.getElementById(\"ebedf9a2-16d1-499c-8530-b6080d83408b\")) {\n",
       "                    Plotly.newPlot(\n",
       "                        'ebedf9a2-16d1-499c-8530-b6080d83408b',\n",
       "                        [{\"mode\": \"lines+markers\", \"name\": \"Train Losses\", \"type\": \"scatter\", \"y\": [0.5530203854734147, 0.5351415938111367, 0.5270334654660137, 0.5243842865995787, 0.5234651548305044, 0.5207859143890716, 0.5193021833482716, 0.5181270116181286, 0.5167870122111506, 0.5154165254422912, 0.513166042941588, 0.5135735618985362, 0.5120568605898707, 0.5102096508360572, 0.509393863517929, 0.5075188878647707, 0.5046313633383425, 0.504078374347753, 0.5026426605742287, 0.500062456285512, 0.4987100451770756, 0.4964701980352402, 0.4947164153197297, 0.4914586825503243, 0.4885920253754766, 0.4858945497760066, 0.4826733663816143, 0.4809857144675873, 0.47686476605357947, 0.47324053170504393, 0.46890786814468877, 0.46494036726653576, 0.46053138851291603, 0.4557773575048756, 0.4515201416970403, 0.4452694335055572, 0.43987310201757485, 0.4340668737336441, 0.4280632767412398, 0.42276374981911097, 0.41549238603976035, 0.40779848445068906, 0.39993985604356835, 0.393815611799558, 0.38416668241498647, 0.3771584738666813, 0.3674480956461694, 0.3600445392852028, 0.35093722326887977, 0.34359888187437143]}, {\"mode\": \"lines+markers\", \"name\": \"Validation Losses\", \"type\": \"scatter\", \"y\": [0.5193642256941114, 0.5186046096256801, 0.5172953397887093, 0.5125537514686584, 0.5118532645702362, 0.5105844911507198, 0.5115445535523551, 0.5123952577795301, 0.5145772021157401, 0.5139458761896406, 0.5138532868453435, 0.5134460881778172, 0.5326350586754935, 0.522752354315349, 0.5191678290707724, 0.5213559799534934, 0.5184460491793497, 0.5233734714984893, 0.5200476251329694, 0.5218623229435512, 0.521323345388685, 0.5369865116051266, 0.5350188568660191, 0.5277414386613029, 0.5341417707715715, 0.545605958529881, 0.5402340229919979, 0.5491429630347661, 0.5620006855896541, 0.5497684979438782, 0.5587710184710366, 0.5632736647129059, 0.5721287068298885, 0.5978535253661019, 0.5865600754533495, 0.5915319529601506, 0.6085019990376064, 0.6139415929998671, 0.6149600355965751, 0.6358680857930865, 0.6513113949980055, 0.6772472330502102, 0.6589912172726222, 0.7604829905714308, 0.7325997046061925, 0.7741528582572937, 0.7769263458251953, 0.7975370173794882, 0.870838874408177, 0.8508555950437273]}, {\"marker\": {\"size\": 10, \"symbol\": \"x\"}, \"mode\": \"markers\", \"name\": \"Best Validation Loss\", \"type\": \"scatter\", \"x\": [5], \"y\": [0.5105844911507198]}, {\"marker\": {\"size\": 10, \"symbol\": \"x\"}, \"mode\": \"markers\", \"name\": \"Best Train Loss\", \"type\": \"scatter\", \"x\": [49], \"y\": [0.34359888187437143]}],\n",
       "                        {\"template\": {\"data\": {\"bar\": [{\"error_x\": {\"color\": \"#2a3f5f\"}, \"error_y\": {\"color\": \"#2a3f5f\"}, \"marker\": {\"line\": {\"color\": \"#E5ECF6\", \"width\": 0.5}}, \"type\": \"bar\"}], \"barpolar\": [{\"marker\": {\"line\": {\"color\": \"#E5ECF6\", \"width\": 0.5}}, \"type\": \"barpolar\"}], \"carpet\": [{\"aaxis\": {\"endlinecolor\": \"#2a3f5f\", \"gridcolor\": \"white\", \"linecolor\": \"white\", \"minorgridcolor\": \"white\", \"startlinecolor\": \"#2a3f5f\"}, \"baxis\": {\"endlinecolor\": \"#2a3f5f\", \"gridcolor\": \"white\", \"linecolor\": \"white\", \"minorgridcolor\": \"white\", \"startlinecolor\": \"#2a3f5f\"}, \"type\": \"carpet\"}], \"choropleth\": [{\"colorbar\": {\"outlinewidth\": 0, \"ticks\": \"\"}, \"type\": \"choropleth\"}], \"contour\": [{\"colorbar\": {\"outlinewidth\": 0, \"ticks\": \"\"}, \"colorscale\": [[0.0, \"#0d0887\"], [0.1111111111111111, \"#46039f\"], [0.2222222222222222, \"#7201a8\"], [0.3333333333333333, \"#9c179e\"], [0.4444444444444444, \"#bd3786\"], [0.5555555555555556, \"#d8576b\"], [0.6666666666666666, \"#ed7953\"], [0.7777777777777778, \"#fb9f3a\"], [0.8888888888888888, \"#fdca26\"], [1.0, \"#f0f921\"]], \"type\": \"contour\"}], \"contourcarpet\": [{\"colorbar\": {\"outlinewidth\": 0, \"ticks\": \"\"}, \"type\": \"contourcarpet\"}], \"heatmap\": [{\"colorbar\": {\"outlinewidth\": 0, \"ticks\": \"\"}, \"colorscale\": [[0.0, \"#0d0887\"], [0.1111111111111111, \"#46039f\"], [0.2222222222222222, \"#7201a8\"], [0.3333333333333333, \"#9c179e\"], [0.4444444444444444, \"#bd3786\"], [0.5555555555555556, \"#d8576b\"], [0.6666666666666666, \"#ed7953\"], [0.7777777777777778, \"#fb9f3a\"], [0.8888888888888888, \"#fdca26\"], [1.0, \"#f0f921\"]], \"type\": \"heatmap\"}], \"heatmapgl\": [{\"colorbar\": {\"outlinewidth\": 0, \"ticks\": \"\"}, \"colorscale\": [[0.0, \"#0d0887\"], [0.1111111111111111, \"#46039f\"], [0.2222222222222222, \"#7201a8\"], [0.3333333333333333, \"#9c179e\"], [0.4444444444444444, \"#bd3786\"], [0.5555555555555556, \"#d8576b\"], [0.6666666666666666, \"#ed7953\"], [0.7777777777777778, \"#fb9f3a\"], [0.8888888888888888, \"#fdca26\"], [1.0, \"#f0f921\"]], \"type\": \"heatmapgl\"}], \"histogram\": [{\"marker\": {\"colorbar\": {\"outlinewidth\": 0, \"ticks\": \"\"}}, \"type\": \"histogram\"}], \"histogram2d\": [{\"colorbar\": {\"outlinewidth\": 0, \"ticks\": \"\"}, \"colorscale\": [[0.0, \"#0d0887\"], [0.1111111111111111, \"#46039f\"], [0.2222222222222222, \"#7201a8\"], [0.3333333333333333, \"#9c179e\"], [0.4444444444444444, \"#bd3786\"], [0.5555555555555556, \"#d8576b\"], [0.6666666666666666, \"#ed7953\"], [0.7777777777777778, \"#fb9f3a\"], [0.8888888888888888, \"#fdca26\"], [1.0, \"#f0f921\"]], \"type\": \"histogram2d\"}], \"histogram2dcontour\": [{\"colorbar\": {\"outlinewidth\": 0, \"ticks\": \"\"}, \"colorscale\": [[0.0, \"#0d0887\"], [0.1111111111111111, \"#46039f\"], [0.2222222222222222, \"#7201a8\"], [0.3333333333333333, \"#9c179e\"], [0.4444444444444444, \"#bd3786\"], [0.5555555555555556, \"#d8576b\"], [0.6666666666666666, \"#ed7953\"], [0.7777777777777778, \"#fb9f3a\"], [0.8888888888888888, \"#fdca26\"], [1.0, \"#f0f921\"]], \"type\": \"histogram2dcontour\"}], \"mesh3d\": [{\"colorbar\": {\"outlinewidth\": 0, \"ticks\": \"\"}, \"type\": \"mesh3d\"}], \"parcoords\": [{\"line\": {\"colorbar\": {\"outlinewidth\": 0, \"ticks\": \"\"}}, \"type\": \"parcoords\"}], \"pie\": [{\"automargin\": true, \"type\": \"pie\"}], \"scatter\": [{\"marker\": {\"colorbar\": {\"outlinewidth\": 0, \"ticks\": \"\"}}, \"type\": \"scatter\"}], \"scatter3d\": [{\"line\": {\"colorbar\": {\"outlinewidth\": 0, \"ticks\": \"\"}}, \"marker\": {\"colorbar\": {\"outlinewidth\": 0, \"ticks\": \"\"}}, \"type\": \"scatter3d\"}], \"scattercarpet\": [{\"marker\": {\"colorbar\": {\"outlinewidth\": 0, \"ticks\": \"\"}}, \"type\": \"scattercarpet\"}], \"scattergeo\": [{\"marker\": {\"colorbar\": {\"outlinewidth\": 0, \"ticks\": \"\"}}, \"type\": \"scattergeo\"}], \"scattergl\": [{\"marker\": {\"colorbar\": {\"outlinewidth\": 0, \"ticks\": \"\"}}, \"type\": \"scattergl\"}], \"scattermapbox\": [{\"marker\": {\"colorbar\": {\"outlinewidth\": 0, \"ticks\": \"\"}}, \"type\": \"scattermapbox\"}], \"scatterpolar\": [{\"marker\": {\"colorbar\": {\"outlinewidth\": 0, \"ticks\": \"\"}}, \"type\": \"scatterpolar\"}], \"scatterpolargl\": [{\"marker\": {\"colorbar\": {\"outlinewidth\": 0, \"ticks\": \"\"}}, \"type\": \"scatterpolargl\"}], \"scatterternary\": [{\"marker\": {\"colorbar\": {\"outlinewidth\": 0, \"ticks\": \"\"}}, \"type\": \"scatterternary\"}], \"surface\": [{\"colorbar\": {\"outlinewidth\": 0, \"ticks\": \"\"}, \"colorscale\": [[0.0, \"#0d0887\"], [0.1111111111111111, \"#46039f\"], [0.2222222222222222, \"#7201a8\"], [0.3333333333333333, \"#9c179e\"], [0.4444444444444444, \"#bd3786\"], [0.5555555555555556, \"#d8576b\"], [0.6666666666666666, \"#ed7953\"], [0.7777777777777778, \"#fb9f3a\"], [0.8888888888888888, \"#fdca26\"], [1.0, \"#f0f921\"]], \"type\": \"surface\"}], \"table\": [{\"cells\": {\"fill\": {\"color\": \"#EBF0F8\"}, \"line\": {\"color\": \"white\"}}, \"header\": {\"fill\": {\"color\": \"#C8D4E3\"}, \"line\": {\"color\": \"white\"}}, \"type\": \"table\"}]}, \"layout\": {\"annotationdefaults\": {\"arrowcolor\": \"#2a3f5f\", \"arrowhead\": 0, \"arrowwidth\": 1}, \"coloraxis\": {\"colorbar\": {\"outlinewidth\": 0, \"ticks\": \"\"}}, \"colorscale\": {\"diverging\": [[0, \"#8e0152\"], [0.1, \"#c51b7d\"], [0.2, \"#de77ae\"], [0.3, \"#f1b6da\"], [0.4, \"#fde0ef\"], [0.5, \"#f7f7f7\"], [0.6, \"#e6f5d0\"], [0.7, \"#b8e186\"], [0.8, \"#7fbc41\"], [0.9, \"#4d9221\"], [1, \"#276419\"]], \"sequential\": [[0.0, \"#0d0887\"], [0.1111111111111111, \"#46039f\"], [0.2222222222222222, \"#7201a8\"], [0.3333333333333333, \"#9c179e\"], [0.4444444444444444, \"#bd3786\"], [0.5555555555555556, \"#d8576b\"], [0.6666666666666666, \"#ed7953\"], [0.7777777777777778, \"#fb9f3a\"], [0.8888888888888888, \"#fdca26\"], [1.0, \"#f0f921\"]], \"sequentialminus\": [[0.0, \"#0d0887\"], [0.1111111111111111, \"#46039f\"], [0.2222222222222222, \"#7201a8\"], [0.3333333333333333, \"#9c179e\"], [0.4444444444444444, \"#bd3786\"], [0.5555555555555556, \"#d8576b\"], [0.6666666666666666, \"#ed7953\"], [0.7777777777777778, \"#fb9f3a\"], [0.8888888888888888, \"#fdca26\"], [1.0, \"#f0f921\"]]}, \"colorway\": [\"#636efa\", \"#EF553B\", \"#00cc96\", \"#ab63fa\", \"#FFA15A\", \"#19d3f3\", \"#FF6692\", \"#B6E880\", \"#FF97FF\", \"#FECB52\"], \"font\": {\"color\": \"#2a3f5f\"}, \"geo\": {\"bgcolor\": \"white\", \"lakecolor\": \"white\", \"landcolor\": \"#E5ECF6\", \"showlakes\": true, \"showland\": true, \"subunitcolor\": \"white\"}, \"hoverlabel\": {\"align\": \"left\"}, \"hovermode\": \"closest\", \"mapbox\": {\"style\": \"light\"}, \"paper_bgcolor\": \"white\", \"plot_bgcolor\": \"#E5ECF6\", \"polar\": {\"angularaxis\": {\"gridcolor\": \"white\", \"linecolor\": \"white\", \"ticks\": \"\"}, \"bgcolor\": \"#E5ECF6\", \"radialaxis\": {\"gridcolor\": \"white\", \"linecolor\": \"white\", \"ticks\": \"\"}}, \"scene\": {\"xaxis\": {\"backgroundcolor\": \"#E5ECF6\", \"gridcolor\": \"white\", \"gridwidth\": 2, \"linecolor\": \"white\", \"showbackground\": true, \"ticks\": \"\", \"zerolinecolor\": \"white\"}, \"yaxis\": {\"backgroundcolor\": \"#E5ECF6\", \"gridcolor\": \"white\", \"gridwidth\": 2, \"linecolor\": \"white\", \"showbackground\": true, \"ticks\": \"\", \"zerolinecolor\": \"white\"}, \"zaxis\": {\"backgroundcolor\": \"#E5ECF6\", \"gridcolor\": \"white\", \"gridwidth\": 2, \"linecolor\": \"white\", \"showbackground\": true, \"ticks\": \"\", \"zerolinecolor\": \"white\"}}, \"shapedefaults\": {\"line\": {\"color\": \"#2a3f5f\"}}, \"ternary\": {\"aaxis\": {\"gridcolor\": \"white\", \"linecolor\": \"white\", \"ticks\": \"\"}, \"baxis\": {\"gridcolor\": \"white\", \"linecolor\": \"white\", \"ticks\": \"\"}, \"bgcolor\": \"#E5ECF6\", \"caxis\": {\"gridcolor\": \"white\", \"linecolor\": \"white\", \"ticks\": \"\"}}, \"title\": {\"x\": 0.05}, \"xaxis\": {\"automargin\": true, \"gridcolor\": \"white\", \"linecolor\": \"white\", \"ticks\": \"\", \"title\": {\"standoff\": 15}, \"zerolinecolor\": \"white\", \"zerolinewidth\": 2}, \"yaxis\": {\"automargin\": true, \"gridcolor\": \"white\", \"linecolor\": \"white\", \"ticks\": \"\", \"title\": {\"standoff\": 15}, \"zerolinecolor\": \"white\", \"zerolinewidth\": 2}}}, \"title\": {\"text\": \"Train and Validation Losses per epoch\", \"x\": 0.5}},\n",
       "                        {\"responsive\": true}\n",
       "                    ).then(function(){\n",
       "                            \n",
       "var gd = document.getElementById('ebedf9a2-16d1-499c-8530-b6080d83408b');\n",
       "var x = new MutationObserver(function (mutations, observer) {{\n",
       "        var display = window.getComputedStyle(gd).display;\n",
       "        if (!display || display === 'none') {{\n",
       "            console.log([gd, 'removed!']);\n",
       "            Plotly.purge(gd);\n",
       "            observer.disconnect();\n",
       "        }}\n",
       "}});\n",
       "\n",
       "// Listen for the removal of the full notebook cells\n",
       "var notebookContainer = gd.closest('#notebook-container');\n",
       "if (notebookContainer) {{\n",
       "    x.observe(notebookContainer, {childList: true});\n",
       "}}\n",
       "\n",
       "// Listen for the clearing of the current output cell\n",
       "var outputEl = gd.closest('.output');\n",
       "if (outputEl) {{\n",
       "    x.observe(outputEl, {childList: true});\n",
       "}}\n",
       "\n",
       "                        })\n",
       "                };\n",
       "                });\n",
       "            </script>\n",
       "        </div>"
      ]
     },
     "metadata": {},
     "output_type": "display_data"
    }
   ],
   "source": [
    "from utils.interactive import plot_interactive_epoch_losses\n",
    "plot_interactive_epoch_losses(trn_epoch_losses, val_epoch_losses)"
   ]
  },
  {
   "cell_type": "markdown",
   "metadata": {
    "colab_type": "text",
    "id": "6n5nE-CKQz_8"
   },
   "source": [
    "# Evaluation"
   ]
  },
  {
   "cell_type": "code",
   "execution_count": 16,
   "metadata": {
    "colab": {
     "base_uri": "https://localhost:8080/",
     "height": 51
    },
    "colab_type": "code",
    "executionInfo": {
     "elapsed": 1853,
     "status": "ok",
     "timestamp": 1572971602911,
     "user": {
      "displayName": "Bernard Swart",
      "photoUrl": "https://lh3.googleusercontent.com/a-/AAuE7mA7uSA62RDxMrL_HdFxD2SxWswIX97G3OjMRiFvmMU=s64",
      "userId": "00293673988406756138"
     },
     "user_tz": -120
    },
    "id": "G_tVBsxynfax",
    "outputId": "816baf10-7b93-42e8-9f86-af432e77144b"
   },
   "outputs": [
    {
     "name": "stdout",
     "output_type": "stream",
     "text": [
      "2020-10-29T18:36:27 | root | INFO | Loading model from checkpoint (best_val) for evaluation\n"
     ]
    },
    {
     "data": {
      "text/plain": [
       "<All keys matched successfully>"
      ]
     },
     "execution_count": 16,
     "metadata": {},
     "output_type": "execute_result"
    }
   ],
   "source": [
    "# Load latest or best validation model\n",
    "# conf.checkpoint = \"latest\"\n",
    "conf.checkpoint = \"best_val\"\n",
    "# conf.checkpoint = \"best_trn\"\n",
    "\n",
    "conf.model_name = f\"{model.name}\"\n",
    "\n",
    "log.info(f\"Loading model from checkpoint ({conf.checkpoint}) for evaluation\")\n",
    "\n",
    "# resume from previous check point or resume from best validaton score checkpoint\n",
    "# load model state\n",
    "model_state_dict = torch.load(f\"{conf.model_path}model_{conf.checkpoint}.pth\",\n",
    "                                map_location=conf.device.type)\n",
    "model.load_state_dict(model_state_dict)\n"
   ]
  },
  {
   "cell_type": "code",
   "execution_count": 17,
   "metadata": {
    "colab": {},
    "colab_type": "code",
    "id": "2_M5lhF-iBkV"
   },
   "outputs": [],
   "source": [
    "conf.sub_sample_test_set = 0\n",
    "conf.sub_sample_train_set = 0\n",
    "conf.sub_sample_validation_set = 0\n",
    "\n",
    "loaders = FlatDataLoaders(data_group=data_group, conf=conf)"
   ]
  },
  {
   "cell_type": "code",
   "execution_count": 18,
   "metadata": {
    "colab": {
     "base_uri": "https://localhost:8080/",
     "height": 1000
    },
    "colab_type": "code",
    "executionInfo": {
     "elapsed": 11966,
     "status": "ok",
     "timestamp": 1572971617035,
     "user": {
      "displayName": "Bernard Swart",
      "photoUrl": "https://lh3.googleusercontent.com/a-/AAuE7mA7uSA62RDxMrL_HdFxD2SxWswIX97G3OjMRiFvmMU=s64",
      "userId": "00293673988406756138"
     },
     "user_tz": -120
    },
    "id": "SwjL3yAxQz_8",
    "outputId": "bcd4f634-3a71-4ff5-8ce9-7c2b3dcb4b6f"
   },
   "outputs": [
    {
     "name": "stdout",
     "output_type": "stream",
     "text": [
      "2020-10-29T18:36:38 | root | INFO | f1_score: 0.3976658950617284 at index 257622, new threshold 0.7318394780158997\n",
      "2020-10-29T18:36:40 | root | INFO | \n",
      "            MODEL METRICS (Over All Samples)\n",
      "            Class Balance (Crime:No-Crime) - 1:7.575\n",
      "                Model Name: KangFNN\n",
      "                    ROC AUC:            0.82369                \n",
      "                    Average Precision:  0.43920\n",
      "                    Precision:          0.42465\n",
      "                    Recall:             0.46489\n",
      "                    Accuracy:           0.86414\n",
      "                    MCC:                0.36715\n",
      "                    PAI:                4.23991\n",
      "                    MAE:                0.37351\n",
      "                    RMSE:               0.54081      \n",
      "            \n"
     ]
    }
   ],
   "source": [
    "# todo set the train_loader to eval so that it does not subsample\n",
    "trn_y_count, trn_y_class, trn_y_score, trn_t_range = evaluate_fnn(model=model,\n",
    "                                                        batch_loader=loaders.train_loader,\n",
    "                                                        conf=conf)\n",
    "\n",
    "tst_y_count, tst_y_class, tst_y_score, tst_t_range = evaluate_fnn(model=model,\n",
    "                                                        batch_loader=loaders.test_loader,\n",
    "                                                        conf=conf)\n",
    "\n",
    "thresh = best_threshold(y_class=trn_y_class,\n",
    "                        y_score=trn_y_score)\n",
    "\n",
    "tst_y_pred = get_y_pred(thresh=thresh,\n",
    "                        y_score=tst_y_score)    \n",
    "\n",
    "tst_y_count = loaders.data_group.to_counts(tst_y_count)     \n",
    "        \n",
    "save_metrics(y_count=tst_y_count,\n",
    "             y_pred=tst_y_pred,\n",
    "             y_score=tst_y_score,\n",
    "             t_range=tst_t_range,\n",
    "             shaper=data_group.shaper,                \n",
    "             conf=conf)   \n",
    "\n",
    "# save_results(y_true=tst_y_true,\n",
    "#              y_pred=tst_y_pred,\n",
    "#              probas_pred=tst_probas_pred,\n",
    "#              t_range=tst_t_range,\n",
    "#              shaper=data_group.shaper,                \n",
    "#              conf=conf)"
   ]
  },
  {
   "cell_type": "code",
   "execution_count": 19,
   "metadata": {
    "colab": {},
    "colab_type": "code",
    "id": "ionwwS_IAfUi",
    "outputId": "b59a98eb-6425-4c09-8cae-21df7dfea865",
    "scrolled": false
   },
   "outputs": [
    {
     "name": "stdout",
     "output_type": "stream",
     "text": [
      "2020-10-29T18:36:43 | root | INFO | \n",
      "                     ROC AUC  Avg. Precision  Precision    Recall  F1 Score  \\\n",
      "Model Name                                                                    \n",
      "Uni. Mov. Avg.      0.828901        0.443627   0.352204  0.615725  0.448093   \n",
      "Ind-Hawkes Model    0.826035        0.439863   0.402802  0.505474  0.448335   \n",
      "KangFNN             0.823695        0.439203   0.424646  0.464890  0.443858   \n",
      "Historic Average    0.825739        0.437915   0.404360  0.506580  0.449735   \n",
      "Global Average      0.824705        0.431115   0.407428  0.485237  0.442942   \n",
      "ST-RESNET           0.805127        0.430035   0.394377  0.491762  0.437718   \n",
      "Previous Time Step  0.614230        0.204356   0.314049  0.313944  0.313997   \n",
      "\n",
      "                    Accuracy       MCC       PAI      RMSE       MAE  \n",
      "Model Name                                                            \n",
      "Uni. Mov. Avg.      0.823120  0.371433  3.318306  0.523886  0.161364  \n",
      "Ind-Hawkes Model    0.854934  0.369176  3.952215  0.488214  0.181277  \n",
      "KangFNN             0.864142  0.367145  4.239908  0.540809  0.373514  \n",
      "Historic Average    0.855437  0.370822  3.941047  0.527602  0.160331  \n",
      "Global Average      0.857668  0.363879  4.004898  0.527873  0.160280  \n",
      "ST-RESNET           0.852664  0.356976  3.854598  0.527998  0.162866  \n",
      "Previous Time Step  0.840026  0.223452  3.236038  0.523992  0.160517  \n"
     ]
    },
    {
     "data": {
      "image/png": "[encoded data removed]",
      "text/plain": [
       "<Figure size 720x720 with 1 Axes>"
      ]
     },
     "metadata": {
      "needs_background": "light"
     },
     "output_type": "display_data"
    },
    {
     "data": {
      "image/png": "[encoded data removed]",
      "text/plain": [
       "<Figure size 720x720 with 1 Axes>"
      ]
     },
     "metadata": {
      "needs_background": "light"
     },
     "output_type": "display_data"
    },
    {
     "data": {
      "image/png": "[encoded data removed]",
      "text/plain": [
       "<Figure size 720x720 with 1 Axes>"
      ]
     },
     "metadata": {
      "needs_background": "light"
     },
     "output_type": "display_data"
    },
    {
     "data": {
      "text/html": [
       "<div>\n",
       "<style scoped>\n",
       "    .dataframe tbody tr th:only-of-type {\n",
       "        vertical-align: middle;\n",
       "    }\n",
       "\n",
       "    .dataframe tbody tr th {\n",
       "        vertical-align: top;\n",
       "    }\n",
       "\n",
       "    .dataframe thead th {\n",
       "        text-align: right;\n",
       "    }\n",
       "</style>\n",
       "<table border=\"1\" class=\"dataframe\">\n",
       "  <thead>\n",
       "    <tr style=\"text-align: right;\">\n",
       "      <th></th>\n",
       "      <th>ROC AUC</th>\n",
       "      <th>Avg. Precision</th>\n",
       "      <th>Precision</th>\n",
       "      <th>Recall</th>\n",
       "      <th>F1 Score</th>\n",
       "      <th>Accuracy</th>\n",
       "      <th>MCC</th>\n",
       "      <th>PAI</th>\n",
       "      <th>RMSE</th>\n",
       "      <th>MAE</th>\n",
       "    </tr>\n",
       "    <tr>\n",
       "      <th>Model Name</th>\n",
       "      <th></th>\n",
       "      <th></th>\n",
       "      <th></th>\n",
       "      <th></th>\n",
       "      <th></th>\n",
       "      <th></th>\n",
       "      <th></th>\n",
       "      <th></th>\n",
       "      <th></th>\n",
       "      <th></th>\n",
       "    </tr>\n",
       "  </thead>\n",
       "  <tbody>\n",
       "    <tr>\n",
       "      <th>Uni. Mov. Avg.</th>\n",
       "      <td>0.828901</td>\n",
       "      <td>0.443627</td>\n",
       "      <td>0.352204</td>\n",
       "      <td>0.615725</td>\n",
       "      <td>0.448093</td>\n",
       "      <td>0.823120</td>\n",
       "      <td>0.371433</td>\n",
       "      <td>3.318306</td>\n",
       "      <td>0.523886</td>\n",
       "      <td>0.161364</td>\n",
       "    </tr>\n",
       "    <tr>\n",
       "      <th>Ind-Hawkes Model</th>\n",
       "      <td>0.826035</td>\n",
       "      <td>0.439863</td>\n",
       "      <td>0.402802</td>\n",
       "      <td>0.505474</td>\n",
       "      <td>0.448335</td>\n",
       "      <td>0.854934</td>\n",
       "      <td>0.369176</td>\n",
       "      <td>3.952215</td>\n",
       "      <td>0.488214</td>\n",
       "      <td>0.181277</td>\n",
       "    </tr>\n",
       "    <tr>\n",
       "      <th>KangFNN</th>\n",
       "      <td>0.823695</td>\n",
       "      <td>0.439203</td>\n",
       "      <td>0.424646</td>\n",
       "      <td>0.464890</td>\n",
       "      <td>0.443858</td>\n",
       "      <td>0.864142</td>\n",
       "      <td>0.367145</td>\n",
       "      <td>4.239908</td>\n",
       "      <td>0.540809</td>\n",
       "      <td>0.373514</td>\n",
       "    </tr>\n",
       "    <tr>\n",
       "      <th>Historic Average</th>\n",
       "      <td>0.825739</td>\n",
       "      <td>0.437915</td>\n",
       "      <td>0.404360</td>\n",
       "      <td>0.506580</td>\n",
       "      <td>0.449735</td>\n",
       "      <td>0.855437</td>\n",
       "      <td>0.370822</td>\n",
       "      <td>3.941047</td>\n",
       "      <td>0.527602</td>\n",
       "      <td>0.160331</td>\n",
       "    </tr>\n",
       "    <tr>\n",
       "      <th>Global Average</th>\n",
       "      <td>0.824705</td>\n",
       "      <td>0.431115</td>\n",
       "      <td>0.407428</td>\n",
       "      <td>0.485237</td>\n",
       "      <td>0.442942</td>\n",
       "      <td>0.857668</td>\n",
       "      <td>0.363879</td>\n",
       "      <td>4.004898</td>\n",
       "      <td>0.527873</td>\n",
       "      <td>0.160280</td>\n",
       "    </tr>\n",
       "    <tr>\n",
       "      <th>ST-RESNET</th>\n",
       "      <td>0.805127</td>\n",
       "      <td>0.430035</td>\n",
       "      <td>0.394377</td>\n",
       "      <td>0.491762</td>\n",
       "      <td>0.437718</td>\n",
       "      <td>0.852664</td>\n",
       "      <td>0.356976</td>\n",
       "      <td>3.854598</td>\n",
       "      <td>0.527998</td>\n",
       "      <td>0.162866</td>\n",
       "    </tr>\n",
       "    <tr>\n",
       "      <th>Previous Time Step</th>\n",
       "      <td>0.614230</td>\n",
       "      <td>0.204356</td>\n",
       "      <td>0.314049</td>\n",
       "      <td>0.313944</td>\n",
       "      <td>0.313997</td>\n",
       "      <td>0.840026</td>\n",
       "      <td>0.223452</td>\n",
       "      <td>3.236038</td>\n",
       "      <td>0.523992</td>\n",
       "      <td>0.160517</td>\n",
       "    </tr>\n",
       "  </tbody>\n",
       "</table>\n",
       "</div>"
      ],
      "text/plain": [
       "                     ROC AUC  Avg. Precision  Precision    Recall  F1 Score  \\\n",
       "Model Name                                                                    \n",
       "Uni. Mov. Avg.      0.828901        0.443627   0.352204  0.615725  0.448093   \n",
       "Ind-Hawkes Model    0.826035        0.439863   0.402802  0.505474  0.448335   \n",
       "KangFNN             0.823695        0.439203   0.424646  0.464890  0.443858   \n",
       "Historic Average    0.825739        0.437915   0.404360  0.506580  0.449735   \n",
       "Global Average      0.824705        0.431115   0.407428  0.485237  0.442942   \n",
       "ST-RESNET           0.805127        0.430035   0.394377  0.491762  0.437718   \n",
       "Previous Time Step  0.614230        0.204356   0.314049  0.313944  0.313997   \n",
       "\n",
       "                    Accuracy       MCC       PAI      RMSE       MAE  \n",
       "Model Name                                                            \n",
       "Uni. Mov. Avg.      0.823120  0.371433  3.318306  0.523886  0.161364  \n",
       "Ind-Hawkes Model    0.854934  0.369176  3.952215  0.488214  0.181277  \n",
       "KangFNN             0.864142  0.367145  4.239908  0.540809  0.373514  \n",
       "Historic Average    0.855437  0.370822  3.941047  0.527602  0.160331  \n",
       "Global Average      0.857668  0.363879  4.004898  0.527873  0.160280  \n",
       "ST-RESNET           0.852664  0.356976  3.854598  0.527998  0.162866  \n",
       "Previous Time Step  0.840026  0.223452  3.236038  0.523992  0.160517  "
      ]
     },
     "execution_count": 19,
     "metadata": {},
     "output_type": "execute_result"
    }
   ],
   "source": [
    "compare_all_models(data_path=conf.data_path)"
   ]
  },
  {
   "cell_type": "code",
   "execution_count": 66,
   "metadata": {
    "scrolled": false
   },
   "outputs": [],
   "source": [
    "# from utils.interactive import plot_interactive_roc, plot_interactive_pr, plot_interactive_det\n",
    "# plot_interactive_pr(conf.data_path,beta=1).show()\n",
    "# plot_interactive_roc(conf.data_path).show()\n",
    "# plot_interactive_det(conf.data_path).show()"
   ]
  },
  {
   "cell_type": "markdown",
   "metadata": {},
   "source": [
    "### View Training Predictions"
   ]
  },
  {
   "cell_type": "code",
   "execution_count": 20,
   "metadata": {
    "scrolled": false
   },
   "outputs": [
    {
     "data": {
      "application/vnd.jupyter.widget-view+json": {
       "model_id": "0d0fbc94e363417dad731402f356fab9",
       "version_major": 2,
       "version_minor": 0
      },
      "text/plain": [
       "VBox(children=(Label(value='Date: Wed Jan  2 00:00:00 2013'), HBox(children=(Play(value=0, description='Press …"
      ]
     },
     "metadata": {},
     "output_type": "display_data"
    }
   ],
   "source": [
    "trn_y_count, trn_y_class, trn_y_score, trn_t_range = evaluate_fnn(model=model,\n",
    "                                                                  batch_loader=loaders.train_loader,\n",
    "                                                                  conf=conf)\n",
    "\n",
    "trn_y_count = data_group.shaper.unsqueeze(trn_y_count)\n",
    "trn_y_class = data_group.shaper.unsqueeze(trn_y_class)\n",
    "trn_y_score = data_group.shaper.unsqueeze(trn_y_score)\n",
    "\n",
    "from utils.interactive import InteractiveHeatmapsWithLines\n",
    "\n",
    "InteractiveHeatmapsWithLines(\n",
    "    date_range=trn_t_range, \n",
    "    col_wrap=3,\n",
    "    Counts=trn_y_count[:,0], \n",
    "    Hotspots=trn_y_class[:,0],\n",
    "    Probabilities=trn_y_score[:,0],\n",
    ").app"
   ]
  },
  {
   "cell_type": "markdown",
   "metadata": {},
   "source": [
    "### View testing predictions"
   ]
  },
  {
   "cell_type": "code",
   "execution_count": 31,
   "metadata": {
    "scrolled": false
   },
   "outputs": [
    {
     "name": "stdout",
     "output_type": "stream",
     "text": [
      "2020-10-29T19:13:42 | root | INFO | f1_score: 0.44895358525707013 at index 65551, new threshold 0.7093508839607239\n"
     ]
    },
    {
     "data": {
      "application/vnd.jupyter.widget-view+json": {
       "model_id": "b70832c037984ab090deeb6f30db865a",
       "version_major": 2,
       "version_minor": 0
      },
      "text/plain": [
       "VBox(children=(Label(value='Date: Mon Jan  8 00:00:00 2018'), HBox(children=(Play(value=0, description='Press …"
      ]
     },
     "metadata": {},
     "output_type": "display_data"
    }
   ],
   "source": [
    "from utils.interactive import InteractiveHeatmapsWithLines\n",
    "\n",
    "tst_y_count, tst_y_class, tst_y_score, tst_t_range = evaluate_fnn(model=model,\n",
    "                                                                  batch_loader=loaders.test_loader,\n",
    "                                                                  conf=conf)\n",
    "\n",
    "# thresh = best_threshold(y_class=trn_y_class,\n",
    "#                         y_score=trn_y_score)\n",
    "\n",
    "thresh = best_threshold(y_class=tst_y_class,\n",
    "                        y_score=tst_y_score)\n",
    "\n",
    "tst_y_pred = get_y_pred(thresh=thresh,\n",
    "                        y_score=tst_y_score) \n",
    "\n",
    "tst_y_count = data_group.shaper.unsqueeze(tst_y_count)\n",
    "tst_y_class = data_group.shaper.unsqueeze(tst_y_class)\n",
    "tst_y_score = data_group.shaper.unsqueeze(tst_y_score)\n",
    "tst_y_pred = data_group.shaper.unsqueeze(tst_y_pred)\n",
    "\n",
    "\n",
    "kwargs = {\n",
    "    \"True Counts\":tst_y_count[:,0], \n",
    "    \"True Hotspots\":tst_y_class[:,0],\n",
    "    \"Predicted Probabilities\":tst_y_score[:,0],\n",
    "    \"Predicted Hotspots\":tst_y_pred[:,0],\n",
    "}\n",
    "\n",
    "InteractiveHeatmapsWithLines(\n",
    "    date_range=tst_t_range, \n",
    "    col_wrap=4,\n",
    "    **kwargs,\n",
    ").app"
   ]
  },
  {
   "cell_type": "code",
   "execution_count": null,
   "metadata": {},
   "outputs": [],
   "source": []
  },
  {
   "cell_type": "markdown",
   "metadata": {
    "colab": {},
    "colab_type": "code",
    "id": "_TMrB2MJAfSX"
   },
   "source": [
    "-----"
   ]
  },
  {
   "cell_type": "markdown",
   "metadata": {
    "colab_type": "text",
    "id": "ZOnJiXDxAf1O"
   },
   "source": [
    "## All in one code"
   ]
  },
  {
   "cell_type": "code",
   "execution_count": null,
   "metadata": {
    "colab": {},
    "colab_type": "code",
    "id": "BVMREIpVBXxi"
   },
   "outputs": [],
   "source": [
    "import os\n",
    "import logging as log\n",
    "from time import strftime\n",
    "from copy import deepcopy\n",
    "from torch import nn, optim\n",
    "import torch.nn.functional as F\n",
    "from utils.data_processing import *\n",
    "from logger.logger import setup_logging\n",
    "from utils.configs import BaseConf\n",
    "from utils.utils import write_json, Timer\n",
    "from models.kangkang_fnn_models import KangFeedForwardNetwork, SimpleKangFNN\n",
    "\n",
    "from dataloaders.flat_loader import FlatDataLoaders, MockLoader, MockLoaders\n",
    "from datasets.flat_dataset import FlatDataGroup\n",
    "from utils.metrics import PRCurvePlotter, ROCCurvePlotter, LossPlotter, PerTimeStepPlotter\n",
    "from sklearn.metrics import accuracy_score, average_precision_score, roc_auc_score\n",
    "from models.model_result import ModelResult, ModelMetrics, save_metrics, compare_all_models, get_models_metrics\n",
    "from utils.mock_data import mock_fnn_data_classification\n",
    "from utils.plots import im\n",
    "from utils.utils import pshape\n",
    "from trainers.generic_trainer import train_model\n",
    "\n",
    "from models.kangkang_fnn_models import train_epoch_for_fnn\n",
    "\n",
    "from utils.metrics import best_threshold, get_y_pred"
   ]
  },
  {
   "cell_type": "code",
   "execution_count": null,
   "metadata": {
    "colab": {
     "base_uri": "https://localhost:8080/",
     "height": 153
    },
    "colab_type": "code",
    "executionInfo": {
     "elapsed": 17129,
     "status": "ok",
     "timestamp": 1575549809167,
     "user": {
      "displayName": "Bernard Swart",
      "photoUrl": "https://lh3.googleusercontent.com/a-/AAuE7mA7uSA62RDxMrL_HdFxD2SxWswIX97G3OjMRiFvmMU=s64",
      "userId": "00293673988406756138"
     },
     "user_tz": -120
    },
    "id": "jLNw3nBaCRDf",
    "outputId": "55f76bed-5008-46ed-cf44-20a46d5f09e8"
   },
   "outputs": [],
   "source": [
    "data_sub_paths = os.listdir(\"./data/processed/\")\n",
    "data_sub_paths"
   ]
  },
  {
   "cell_type": "code",
   "execution_count": null,
   "metadata": {},
   "outputs": [],
   "source": [
    "data_sub_paths = ['T24H-X255M-Y220M_2012-01-01_2019-01-01_#c97']"
   ]
  },
  {
   "cell_type": "code",
   "execution_count": null,
   "metadata": {
    "colab": {
     "base_uri": "https://localhost:8080/",
     "height": 1000
    },
    "colab_type": "code",
    "executionInfo": {
     "elapsed": 10742,
     "status": "error",
     "timestamp": 1575552789748,
     "user": {
      "displayName": "Bernard Swart",
      "photoUrl": "https://lh3.googleusercontent.com/a-/AAuE7mA7uSA62RDxMrL_HdFxD2SxWswIX97G3OjMRiFvmMU=s64",
      "userId": "00293673988406756138"
     },
     "user_tz": -120
    },
    "id": "Rj4hCcmrAfRa",
    "outputId": "4ecc386d-9b1c-4200-f899-0b0c154ea32c"
   },
   "outputs": [],
   "source": [
    "\n",
    "# data_dim_str = \"T24H-X255M-Y220M\"#\"T24H-X850M-Y880M\" # \"T24H-X85M-Y110M\" #\"T1H-X1700M-Y1760M\"  # needs to exist  \n",
    "for data_sub_path in data_sub_paths:\n",
    "    model_name = \"Kang FNN\"  # needs to be created    \n",
    "    data_path = f\"./data/processed/{data_sub_path}/\"\n",
    "    compare_all_models(data_path=data_path)\n",
    "\n",
    "    if not os.path.exists(data_path):\n",
    "        raise Exception(f\"Directory ({data_path}) needs to exist.\")\n",
    "\n",
    "    model_path = data_path + f\"models/{model_name}/\"\n",
    "    os.makedirs(data_path, exist_ok=True)\n",
    "    os.makedirs(model_path, exist_ok=True)\n",
    "\n",
    "    # logging config is set globally thus we only need to call this in this file\n",
    "    # imported function logs will follow the configuration\n",
    "    setup_logging(save_dir=model_path, log_config='./logger/standard_logger_config.json', default_level=log.INFO)\n",
    "    log.info(\"=====================================BEGIN=====================================\")\n",
    "\n",
    "    timer = Timer()\n",
    "    # manually set the config\n",
    "    conf_dict = {\n",
    "        \"seed\": 3,\n",
    "        \"use_cuda\": True,\n",
    "        \n",
    "        \"use_crime_types\": False,\n",
    "        \n",
    "        # data group/data set related\n",
    "        \"val_ratio\": 0.1,  # ratio of the total dataset\n",
    "        \"tst_ratio\": 0.3,# ratio of the total dataset\n",
    "        \"seq_len\": 1,\n",
    "        \"flatten_grid\": True,  # if the shaper should be used to squeeze the data\n",
    "        \n",
    "        # shaper related \n",
    "        \"shaper_top_k\": -1,  # if less then 0, top_k will not be applied\n",
    "        \"shaper_threshold\": 0,\n",
    "\n",
    "        \n",
    "        # data loader related\n",
    "        \"sub_sample_train_set\": 1,\n",
    "        \"sub_sample_validation_set\": 1,\n",
    "        \"sub_sample_validation_set\": 0,\n",
    "        \n",
    "        # training parameters\n",
    "        \"resume\": False,\n",
    "        \"early_stopping\": False,\n",
    "        \"tolerance\": 1e-8,\n",
    "        \"lr\": 1e-3,\n",
    "        \"weight_decay\": 1e-8,\n",
    "        \"max_epochs\": 1,\n",
    "        \"batch_size\": 64,\n",
    "        \"dropout\": 0.2,\n",
    "        \"shuffle\": False,\n",
    "        \"num_workers\": 6,\n",
    "        \n",
    "        # attached global variables - bad practice -find alternative\n",
    "        \"device\": None,  # pytorch device object [CPU|GPU]\n",
    "        \"timer\": Timer(),\n",
    "        \"model_name\": model_name,\n",
    "        \"model_path\": model_path,\n",
    "        \"checkpoint\": \"best\",\n",
    "\n",
    "        \"pad_width\": 0,\n",
    "        \n",
    "        \"use_seq_loss\": True,\n",
    "        \"use_classification\": True,\n",
    "        \"use_historic_average\": True,\n",
    "    }\n",
    "    conf = BaseConf(conf_dict=conf_dict)\n",
    "\n",
    "    info = deepcopy(conf.__dict__)\n",
    "    info[\"start_time\"] = strftime(\"%Y-%m-%dT%H:%M:%S\")\n",
    "\n",
    "    # DATA LOADER SETUP\n",
    "    np.random.seed(conf.seed)\n",
    "    use_cuda = torch.cuda.is_available()\n",
    "    if use_cuda:\n",
    "        torch.cuda.manual_seed( conf.seed)\n",
    "    else:\n",
    "        torch.manual_seed(conf.seed)\n",
    "\n",
    "    device = torch.device(\"cuda:0\" if use_cuda else \"cpu\")\n",
    "    log.info(f\"Device: {device}\")\n",
    "    info[\"device\"] = device.type\n",
    "    conf.device = device\n",
    "\n",
    "    log.getLogger().setLevel(\"INFO\")\n",
    "\n",
    "    # SET THE HYPER PARAMETERS\n",
    "    conf.resume = False\n",
    "    conf.early_stopping = False\n",
    "    conf.max_epochs = 1\n",
    "    conf.dropout = 0#0.2\n",
    "    conf.weight_decay = 1e-8\n",
    "    conf.checkpoint = \"best\" # [\"best\"|\"latest\"]\n",
    "    conf.lr = 5e-4\n",
    "    conf.shaper_top_k = -1\n",
    "    conf.batch_size =  256\n",
    "\n",
    "    MOCK = False\n",
    "\n",
    "    if MOCK:\n",
    "        # MOCK THE DATA\n",
    "        vector_size= [5,5,5]#[37,65,512]    \n",
    "        class_split=0.5\n",
    "        train_loader = MockLoader(vector_size, conf.batch_size, n_samples=1000, class_split=class_split)\n",
    "        validation_loader = MockLoader(vector_size, conf.batch_size, n_samples=200, class_split=class_split)\n",
    "        test_loader = MockLoader(vector_size, conf.batch_size, n_samples=300, class_split=class_split)\n",
    "        loaders = MockLoaders(train_loader,validation_loader,test_loader)\n",
    "    else:\n",
    "        # CRIME DATA\n",
    "        conf.sub_sample_test_set = False\n",
    "        conf.sub_sample_train_set = True\n",
    "        conf.sub_sample_validation_set = True\n",
    "\n",
    "        data_group = FlatDataGroup(data_path=data_path, conf=conf)\n",
    "        loaders = FlatDataLoaders(data_group=data_group, conf=conf)\n",
    "\n",
    "    conf.freqstr = data_group.t_range.freqstr    \n",
    "\n",
    "    # SET LOSS FUNCTION\n",
    "    # size averaged - so more epochs or larger lr for smaller batches\n",
    "    loss_function = nn.CrossEntropyLoss()  \n",
    "\n",
    "    # SETUP MODEL\n",
    "    train_set = loaders.train_loader.dataset\n",
    "    indices, spc_feats, tmp_feats, env_feats, target = train_set[train_set.min_index]\n",
    "    spc_size, tmp_size, env_size = spc_feats.shape[-1], tmp_feats.shape[-1], env_feats.shape[-1]\n",
    "\n",
    "\n",
    "    model_arch = {\n",
    "        \"h_size0\": 100,\n",
    "        \"h_size1\": 100,\n",
    "        \"h_size2\": 100,\n",
    "    }\n",
    "    model = SimpleKangFNN(spc_size=spc_size,\n",
    "                        tmp_size=tmp_size,\n",
    "                        env_size=env_size,\n",
    "                        dropout_p=conf.dropout,\n",
    "                        model_arch=model_arch)\n",
    "\n",
    "    # model_arch = {\n",
    "    #     \"scp_net_h0\": 64,\n",
    "    #     \"scp_net_h1\": 32,\n",
    "    #     \"tmp_net_h0\": 64,\n",
    "    #     \"tmp_net_h1\": 32,\n",
    "    #     \"env_net_h0\": 64,\n",
    "    #     \"env_net_h1\": 32,\n",
    "    #     \"final_net_h1\": 64,\n",
    "    # }\n",
    "    # model = KangFeedForwardNetwork(spc_size=spc_size,\n",
    "    #                                  tmp_size=tmp_size,\n",
    "    #                                  env_size=env_size,\n",
    "    #                                  dropout_p=conf.dropout,\n",
    "    #                                  model_arch=model_arch)\n",
    "\n",
    "    model.to(conf.device)\n",
    "\n",
    "    # SETUP OPTIMISER\n",
    "    parameters = model.parameters()\n",
    "\n",
    "    # important note: using weight decay (l2 penalty) can prohibit long term memory in LSTM networks\n",
    "    # - use gradient clipping instead\n",
    "    optimiser = optim.Adam(params=parameters, lr=conf.lr, weight_decay=conf.weight_decay)\n",
    "\n",
    "    ##### RESUME LOGIC\n",
    "    if conf.resume:  # todo check if the files actually exist\n",
    "        try:\n",
    "            # resume from previous check point or resume from best validaton score checkpoint\n",
    "            # load model state\n",
    "            model_state_dict = torch.load(f\"{conf.model_path}model_{conf.checkpoint}.pth\",\n",
    "                                        map_location=conf.device.type)\n",
    "            model.load_state_dict(model_state_dict)\n",
    "            \n",
    "            # load optimiser state\n",
    "            optimiser_state_dict = torch.load(f\"{conf.model_path}optimiser_{conf.checkpoint}.pth\",\n",
    "                                            map_location=conf.device.type)\n",
    "            optimiser.load_state_dict(optimiser_state_dict) \n",
    "\n",
    "            # new optimiser hyper-parameters\n",
    "            optimiser.param_groups[0]['lr'] = conf.lr\n",
    "            optimiser.param_groups[0]['weight_decay'] = conf.weight_decay\n",
    "\n",
    "            # new model hyper-parameters\n",
    "            model.dropout.p = conf.dropout # note that drop out is not part of the saved state dict\n",
    "\n",
    "        except Exception as e:\n",
    "            log.error(f\"Nothing to resume from, training from scratch \\n\\t-> {e}\")\n",
    "\n",
    "    trn_epoch_losses, val_epoch_losses, stopped_early = train_model(model=model,\n",
    "                                                                        optimiser=optimiser,\n",
    "                                                                        loaders=loaders,\n",
    "                                                                        train_epoch_fn=train_epoch_for_fnn,\n",
    "                                                                        loss_fn=loss_function,\n",
    "                                                                        conf=conf)    \n",
    "\n",
    "    print(f\"stopped_early: {stopped_early}\") # use the current epoch instead\n",
    "    # if stopped_early -> continue with best_model - new hyper-parameters -> no n \n",
    "\n",
    "    # Load latest or best validation model\n",
    "    # conf.checkpoint = \"best\"\n",
    "    conf.checkpoint = \"best\"\n",
    "\n",
    "    log.info(f\"Loading model from checkpoint ({conf.checkpoint}) for evaluation\")\n",
    "\n",
    "    # resume from previous check point or resume from best validaton score checkpoint\n",
    "    # load model state\n",
    "    model_state_dict = torch.load(f\"{conf.model_path}model_{conf.checkpoint}.pth\",\n",
    "                                    map_location=conf.device.type)\n",
    "    model.load_state_dict(model_state_dict)\n",
    "\n",
    "\n",
    "    conf.sub_sample_test_set = False\n",
    "    conf.sub_sample_train_set = False\n",
    "    conf.sub_sample_validation_set = False\n",
    "\n",
    "    loaders = FlatDataLoaders(data_group=data_group, conf=conf)\n",
    "\n",
    "    def evaluate_fnn(model, batch_loader, conf):    \n",
    "        \"\"\"\n",
    "        Only used to get probas in a time and location based format. The hard predictions should be done outside \n",
    "        this function where the threshold is determined using only the training data\n",
    "        \"\"\"\n",
    "        probas_pred = np.zeros(batch_loader.dataset.target_shape,dtype=np.float)\n",
    "        y_true = batch_loader.dataset.targets[-len(probas_pred):]\n",
    "        t_range = batch_loader.dataset.t_range[-len(probas_pred):]\n",
    "        \n",
    "        \n",
    "        with torch.set_grad_enabled(False):\n",
    "            model.eval()\n",
    "                \n",
    "            num_batches = batch_loader.num_batches\n",
    "            for indices, spc_feats, tmp_feats, env_feats, targets in batch_loader:\n",
    "                current_batch = batch_loader.current_batch\n",
    "\n",
    "                # Transfer to PyTorch Tensor and GPU\n",
    "                spc_feats = torch.Tensor(spc_feats[0]).to(conf.device) # only taking [0] for fnn\n",
    "                tmp_feats = torch.Tensor(tmp_feats[0]).to(conf.device) # only taking [0] for fnn\n",
    "                env_feats = torch.Tensor(env_feats[0]).to(conf.device) # only taking [0] for fnn\n",
    "                targets = torch.LongTensor(targets[0,:,0]).to(conf.device) # only taking [0] for fnn\n",
    "                out = model(spc_feats, tmp_feats, env_feats)\n",
    "\n",
    "                batch_probas_pred = F.softmax(out,dim=-1)[:,1].cpu().numpy() # select class1 prediction\n",
    "                \n",
    "                for i, p in zip(indices,batch_probas_pred):\n",
    "                    n,c,l = i   \n",
    "                    probas_pred[n,c,l] = p\n",
    "\n",
    "        \n",
    "        return y_true, probas_pred, t_range\n",
    "\n",
    "\n",
    "    # todo set the train_loader to eval so that it does not subsample\n",
    "    trn_y_true, trn_probas_pred, trn_t_range = evaluate_fnn(model=model,\n",
    "                                                            batch_loader=loaders.train_loader,\n",
    "                                                            conf=conf)\n",
    "\n",
    "    thresh = best_threshold(y_true=trn_y_true,\n",
    "                        probas_pred=trn_probas_pred)\n",
    "\n",
    "    tst_y_true, tst_probas_pred, tst_t_range = evaluate_fnn(model=model,\n",
    "                                                            batch_loader=loaders.test_loader,\n",
    "                                                            conf=conf)    \n",
    "        \n",
    "        \n",
    "\n",
    "    tst_y_pred = get_y_pred(thresh, tst_probas_pred)    \n",
    "        \n",
    "        \n",
    "    save_metrics(y_true=tst_y_true,\n",
    "                y_pred=tst_y_pred,\n",
    "                probas_pred=tst_probas_pred,\n",
    "                t_range=tst_t_range,\n",
    "                shaper=data_group.shaper,                \n",
    "                conf=conf)   \n",
    "\n",
    "    compare_all_models(data_path=data_path)"
   ]
  },
  {
   "cell_type": "code",
   "execution_count": null,
   "metadata": {
    "colab": {},
    "colab_type": "code",
    "id": "wuHJzAl9AfOW"
   },
   "outputs": [],
   "source": []
  },
  {
   "cell_type": "code",
   "execution_count": null,
   "metadata": {
    "colab": {},
    "colab_type": "code",
    "id": "nF7EKOLIAfJS"
   },
   "outputs": [],
   "source": []
  },
  {
   "cell_type": "code",
   "execution_count": null,
   "metadata": {
    "colab": {},
    "colab_type": "code",
    "id": "E-ENJTuuAfGF"
   },
   "outputs": [],
   "source": []
  },
  {
   "cell_type": "code",
   "execution_count": null,
   "metadata": {
    "colab": {
     "base_uri": "https://localhost:8080/",
     "height": 68
    },
    "colab_type": "code",
    "executionInfo": {
     "elapsed": 6604,
     "status": "ok",
     "timestamp": 1572962084556,
     "user": {
      "displayName": "Bernard Swart",
      "photoUrl": "https://lh3.googleusercontent.com/a-/AAuE7mA7uSA62RDxMrL_HdFxD2SxWswIX97G3OjMRiFvmMU=s64",
      "userId": "00293673988406756138"
     },
     "user_tz": -120
    },
    "id": "VQURtJxoP4Dd",
    "outputId": "4dc9be4f-dfe3-41a2-e40a-997656debec9"
   },
   "outputs": [],
   "source": [
    "from time import sleep\n",
    "timer = Timer()\n",
    "timer.reset()\n",
    "i = 0\n",
    "for v in loaders.train_loader:\n",
    "    i += 1\n",
    "print(f\"i: {i} and train loader time {timer.check()}\")    \n",
    "\n",
    "timer.reset()\n",
    "i = 0\n",
    "for v in loaders.validation_loader:\n",
    "    i += 1\n",
    "print(f\"i: {i} and val loader time {timer.check()}\")    \n",
    "\n",
    "timer.reset()\n",
    "i = 0\n",
    "for v in loaders.test_loader:\n",
    "    i += 1\n",
    "print(f\"i: {i} and test loader time {timer.check()}\")    "
   ]
  },
  {
   "cell_type": "code",
   "execution_count": null,
   "metadata": {
    "colab": {},
    "colab_type": "code",
    "id": "A_frDTLUb87D"
   },
   "outputs": [],
   "source": [
    "from sklearn.metrics import precision_recall_curve\n",
    "\n",
    "\n",
    "def safe_f1_score(pr):\n",
    "    p, r = pr\n",
    "    if p + r == 0:\n",
    "        return 0\n",
    "    else:\n",
    "        return 2 * (p * r) / (p + r)\n",
    "\n",
    "precision, recall, thresholds = precision_recall_curve(trn_y_true.flatten(), trn_probas_pred.flatten())\n",
    "precision, recall, thresholds = precision_recall_curve(tst_y_true.flatten(), tst_probas_pred.flatten())\n",
    "scores = np.array(list(map(safe_f1_score, zip(precision, recall))))\n",
    "index_array = np.argmax(scores)  # almost always a singular int, and not an array"
   ]
  },
  {
   "cell_type": "code",
   "execution_count": null,
   "metadata": {
    "colab": {
     "base_uri": "https://localhost:8080/",
     "height": 525
    },
    "colab_type": "code",
    "executionInfo": {
     "elapsed": 5672,
     "status": "ok",
     "timestamp": 1572536246817,
     "user": {
      "displayName": "Bernard Swart",
      "photoUrl": "https://lh3.googleusercontent.com/a-/AAuE7mA7uSA62RDxMrL_HdFxD2SxWswIX97G3OjMRiFvmMU=s64",
      "userId": "00293673988406756138"
     },
     "user_tz": -120
    },
    "id": "rXdC-wrgcly3",
    "outputId": "bd77ee21-1c55-417d-8358-19212846eab8"
   },
   "outputs": [],
   "source": [
    "plt.plot(scores)\n",
    "plt.scatter(index_array,scores[index_array])\n",
    "plt.show()\n",
    "\n",
    "plt.plot(recall, precision)\n",
    "plt.scatter(recall, precision, s=scores*5,alpha=.1)\n",
    "plt.show()"
   ]
  },
  {
   "cell_type": "markdown",
   "metadata": {
    "colab_type": "text",
    "id": "uj6S4o_bQz_-"
   },
   "source": [
    "**Metrics per cell**"
   ]
  },
  {
   "cell_type": "code",
   "execution_count": null,
   "metadata": {
    "colab": {
     "base_uri": "https://localhost:8080/",
     "height": 1000
    },
    "colab_type": "code",
    "executionInfo": {
     "elapsed": 112385,
     "status": "ok",
     "timestamp": 1572534296792,
     "user": {
      "displayName": "Bernard Swart",
      "photoUrl": "https://lh3.googleusercontent.com/a-/AAuE7mA7uSA62RDxMrL_HdFxD2SxWswIX97G3OjMRiFvmMU=s64",
      "userId": "00293673988406756138"
     },
     "user_tz": -120
    },
    "id": "JII1fubnQz__",
    "outputId": "358f1c22-11b8-4f75-f3d6-523cf08649a6",
    "scrolled": true
   },
   "outputs": [],
   "source": [
    "print(\"ap_per_cell\\n\")\n",
    "ap_per_cell = average_precision_score_per_cell(tst_y_true, tst_probas_pred)\n",
    "ap_per_cell = np.nan_to_num(ap_per_cell)\n",
    "ap_per_cell = data_group.shaper.unsqueeze(ap_per_cell)[0,0]\n",
    "im(ap_per_cell)\n",
    "\n",
    "print(\"roc_per_cell\\n\")\n",
    "roc_per_cell = roc_auc_score_per_cell(tst_y_true, tst_probas_pred)\n",
    "roc_per_cell = np.nan_to_num(roc_per_cell)\n",
    "roc_per_cell = data_group.shaper.unsqueeze(roc_per_cell)[0,0]\n",
    "im(roc_per_cell)\n",
    "\n",
    "print(\"p_per_cell\\n\")\n",
    "p_per_cell = precision_score_per_cell(tst_y_true, tst_y_pred)\n",
    "p_per_cell = data_group.shaper.unsqueeze(p_per_cell)[0,0]\n",
    "im(p_per_cell)\n",
    "\n",
    "print(\"r_per_cell\\n\")\n",
    "r_per_cell = precision_score_per_cell(tst_y_true, tst_y_pred)\n",
    "r_per_cell = data_group.shaper.unsqueeze(r_per_cell)[0,0]\n",
    "im(r_per_cell)"
   ]
  },
  {
   "cell_type": "markdown",
   "metadata": {
    "colab_type": "text",
    "id": "D5R9BEaXQ0AB"
   },
   "source": [
    "**Metrics per time slot**: should be one plot per metric - with multiple models"
   ]
  },
  {
   "cell_type": "code",
   "execution_count": null,
   "metadata": {
    "colab": {},
    "colab_type": "code",
    "id": "jZ8SPDB2Q0AC"
   },
   "outputs": [],
   "source": [
    "import matplotlib.pyplot as plt"
   ]
  },
  {
   "cell_type": "code",
   "execution_count": null,
   "metadata": {
    "colab": {
     "base_uri": "https://localhost:8080/",
     "height": 312
    },
    "colab_type": "code",
    "executionInfo": {
     "elapsed": 7226,
     "status": "ok",
     "timestamp": 1572533895011,
     "user": {
      "displayName": "Bernard Swart",
      "photoUrl": "https://lh3.googleusercontent.com/a-/AAuE7mA7uSA62RDxMrL_HdFxD2SxWswIX97G3OjMRiFvmMU=s64",
      "userId": "00293673988406756138"
     },
     "user_tz": -120
    },
    "id": "VeXhlKKMQ0AD",
    "outputId": "232bd95a-c48f-4223-aee2-9f2e246c6e3a"
   },
   "outputs": [],
   "source": [
    "freqstr = data_group.t_range.freqstr\n",
    "\n",
    "N = tst_y_true.shape[0]\n",
    "\n",
    "ap_per_time = average_precision_score_per_time_slot(y_true=tst_y_true,\n",
    "                                                    probas_pred=tst_probas_pred)\n",
    "\n",
    "ap_per_time = np.nan_to_num(ap_per_time)\n",
    "\n",
    "roc_per_time = roc_auc_score_per_time_slot(y_true=tst_y_true,\n",
    "                                           probas_pred=tst_probas_pred)\n",
    "roc_per_time = np.nan_to_num(roc_per_time)\n",
    "\n",
    "acc_per_time = accuracy_score_per_time_slot(y_true=tst_y_true,\n",
    "                                           y_pred=tst_y_pred)\n",
    "acc_per_time = np.nan_to_num(acc_per_time)\n",
    "\n",
    "p_per_time = precision_score_per_time_slot(y_true=tst_y_true,\n",
    "                                           y_pred=tst_y_pred)\n",
    "p_per_time = np.nan_to_num(p_per_time)\n",
    "\n",
    "r_per_time = recall_score_per_time_slot(y_true=tst_y_true,\n",
    "                                           y_pred=tst_y_pred)\n",
    "r_per_time = np.nan_to_num(r_per_time)\n",
    "\n",
    "\n",
    "plt.figure(figsize=(15,4))\n",
    "plt.plot(acc_per_time[:,0,0],label=\"Accuracy\")\n",
    "plt.plot(roc_per_time[:,0,0],label=\"ROC-AUC\")\n",
    "plt.plot(ap_per_time[:,0,0],label=\"Average Precision\")\n",
    "plt.plot(p_per_time[:,0,0],label=\"Precision\")\n",
    "plt.plot(r_per_time[:,0,0],label=\"Recall\")\n",
    "plt.title(\"Metrics per time step\")\n",
    "plt.ylabel(\"Score\")\n",
    "plt.xlabel(f\"Time (step={freqstr})\")\n",
    "plt.ylim([0,1])\n",
    "# plt.xlim([0,N-1])\n",
    "plt.yticks(np.arange(11)/10)\n",
    "\n",
    "\n",
    "\n",
    "plt.legend()\n",
    "plt.grid(True,alpha=0.5)\n",
    "plt.show()"
   ]
  },
  {
   "cell_type": "code",
   "execution_count": null,
   "metadata": {
    "colab": {},
    "colab_type": "code",
    "id": "Gw0syNo6Q0AF"
   },
   "outputs": [],
   "source": []
  },
  {
   "cell_type": "code",
   "execution_count": null,
   "metadata": {
    "colab": {},
    "colab_type": "code",
    "id": "LZVozhnCQ0AH"
   },
   "outputs": [],
   "source": []
  },
  {
   "cell_type": "code",
   "execution_count": null,
   "metadata": {
    "colab": {},
    "colab_type": "code",
    "id": "HCvX66iUQ0AI"
   },
   "outputs": [],
   "source": [
    "from sklearn.metrics import accuracy_score, average_precision_score, roc_auc_score, recall_score, precision_score, accuracy_score"
   ]
  },
  {
   "cell_type": "code",
   "execution_count": null,
   "metadata": {
    "colab": {},
    "colab_type": "code",
    "id": "n_XlPeFHQ0AK"
   },
   "outputs": [],
   "source": []
  },
  {
   "cell_type": "code",
   "execution_count": null,
   "metadata": {
    "colab": {
     "base_uri": "https://localhost:8080/",
     "height": 1000
    },
    "colab_type": "code",
    "executionInfo": {
     "elapsed": 3395,
     "status": "ok",
     "timestamp": 1572533985727,
     "user": {
      "displayName": "Bernard Swart",
      "photoUrl": "https://lh3.googleusercontent.com/a-/AAuE7mA7uSA62RDxMrL_HdFxD2SxWswIX97G3OjMRiFvmMU=s64",
      "userId": "00293673988406756138"
     },
     "user_tz": -120
    },
    "id": "L5jdMvmlQ0AM",
    "outputId": "d2a3a30c-b71c-4d88-d0fa-e95abbdf71e6"
   },
   "outputs": [],
   "source": [
    "im(data_group.shaper.unsqueeze(tst_probas_pred)[40][0])\n",
    "im(data_group.shaper.unsqueeze(tst_y_pred)[40][0])\n",
    "im(data_group.shaper.unsqueeze(tst_y_true)[40][0])\n",
    "# im(data_group.shaper.unsqueeze(loaders.test_loader.dataset.targets)[40][0])"
   ]
  },
  {
   "cell_type": "code",
   "execution_count": null,
   "metadata": {
    "colab": {},
    "colab_type": "code",
    "id": "n7pQF1xKQ0AN"
   },
   "outputs": [],
   "source": [
    "loaders.test_loader.dataset.targets.shape"
   ]
  },
  {
   "cell_type": "code",
   "execution_count": null,
   "metadata": {
    "colab": {},
    "colab_type": "code",
    "id": "Damf22UiQ0AQ"
   },
   "outputs": [],
   "source": []
  },
  {
   "cell_type": "code",
   "execution_count": null,
   "metadata": {
    "colab": {},
    "colab_type": "code",
    "id": "NNwSMXK_Q0AS"
   },
   "outputs": [],
   "source": []
  },
  {
   "cell_type": "code",
   "execution_count": null,
   "metadata": {
    "colab": {},
    "colab_type": "code",
    "id": "lv45JgU3Q0AU"
   },
   "outputs": [],
   "source": [
    "targets = loaders.data_group.testing_set.targets\n",
    "\n",
    "# todo get better name\n",
    "probas_grid = np.zeros_like(targets)"
   ]
  },
  {
   "cell_type": "code",
   "execution_count": null,
   "metadata": {
    "colab": {},
    "colab_type": "code",
    "id": "ZwkB1D_QQ0AX"
   },
   "outputs": [],
   "source": [
    "\n",
    "###### testing ###### torch outputs to see if we're actually getting valuable things out\n",
    "out = torch.Tensor([[-3,2],[2,-1],[0.5,0.4]])\n",
    "print(out.shape)\n",
    "print(out)\n",
    "out_soft = F.softmax(out, dim=-1)\n",
    "print(out_soft)\n",
    "out_label = torch.argmax(out_soft, dim=-1)\n",
    "print(out_label)"
   ]
  },
  {
   "cell_type": "code",
   "execution_count": null,
   "metadata": {
    "colab": {},
    "colab_type": "code",
    "id": "SfZh9USWo8g2"
   },
   "outputs": [],
   "source": [
    "model.load_state_dict(torch.load(model_path + \"model_best.pth\"))\n",
    "conf = BaseConf(conf_dict=conf_dict)\n",
    "conf.batch_size = 4\n",
    "loaders = FlatDataLoaders(data_path=data_path, conf=conf)\n",
    "\n",
    "# EVALUATE MODEL\n",
    "with torch.set_grad_enabled(False):\n",
    "    # Transfer to GPU\n",
    "    testing_losses = []\n",
    "    y_true = []\n",
    "    y_pred = []\n",
    "    probas_pred = []\n",
    "    \n",
    "    \n",
    "    # loop through is set does not fit in batch\n",
    "    for indices, spc_feats, tmp_feats, env_feats, targets in loaders.test_loader: \n",
    "        \"\"\"\n",
    "        IMPORTNANT NOTE: WHEN DOING LSTM - ONLY FEED THE TEMPORAL VECTORS IN THE LSTM\n",
    "        FEED THE REST INTO THE NORMAL LINEAR NETWORKS\n",
    "        \"\"\"\n",
    "        \n",
    "        \n",
    "        # Transfer to GPU\n",
    "        spc_feats = torch.Tensor(spc_feats).to(conf.device)\n",
    "        tmp_feats = torch.Tensor(tmp_feats).to(conf.device)\n",
    "        env_feats = torch.Tensor(env_feats).to(conf.device)\n",
    "        targets = torch.LongTensor(targets).to(conf.device)\n",
    "        \n",
    "        y_true.extend(targets.tolist())\n",
    "        out = model(spc_feats, tmp_feats, env_feats)\n",
    "                        \n",
    "        out = F.softmax(out, dim=-1)\n",
    "        \n",
    "        log.info(f\"out: {out}\")\n",
    "        log.info(f\"indices: {indices}\")\n",
    "        log.info(f\"indices: {targets}\")\n",
    "    \n",
    "        out_label = torch.argmax(out, dim=-1)\n",
    "        log.info(f\"out_label: {out_label}\")\n",
    "        y_pred.extend(out_label.tolist())\n",
    "        out_proba = out[:, 1]  # likelihood of crime is more general form - when comparing to moving averages\n",
    "        probas_pred.extend(out_proba.tolist())\n",
    "        \n",
    "        break  # !! remove\n",
    "\n",
    "\n",
    "# todo change to be the shape (N,L) of the original prediction.        \n",
    "model_result = ModelResult(model_name=\"FNN (Kang and Kang)\",\n",
    "                            y_true=y_true,\n",
    "                            y_pred=y_pred,\n",
    "                            probas_pred=probas_pred,\n",
    "                            t_range=loaders.test_loader.dataset.t_range,\n",
    "                            shaper=loaders.data_group.shaper)\n",
    "                        \n",
    "# log.info(model_result)\n",
    "\n",
    "np.savez_compressed(model_path + \"evaluation_results.npz\", model_result)"
   ]
  },
  {
   "cell_type": "code",
   "execution_count": null,
   "metadata": {
    "colab": {},
    "colab_type": "code",
    "id": "-DRCri5po8g3"
   },
   "outputs": [],
   "source": [
    "pr_plotter = PRCurvePlotter()\n",
    "pr_plotter.add_curve(y_true, probas_pred, label_name=\"FNN (Kang and Kang)\")\n",
    "pr_plotter.savefig(model_path + \"plot_pr_curve.png\")\n",
    "\n",
    "roc_plotter = ROCCurvePlotter()\n",
    "roc_plotter.add_curve(y_true, probas_pred, label_name=\"FNN (Kang and Kang)\")\n",
    "roc_plotter.savefig(model_path + \"plot_roc_curve.png\")\n",
    "\n",
    "info[\"stop_time\"] = strftime(\"%Y-%m-%dT%H:%M:%S\")\n",
    "write_json(info, model_path + \"info.json\")\n",
    "\n",
    "log.info(\"=====================================END=====================================\")targets.shape"
   ]
  },
  {
   "cell_type": "code",
   "execution_count": null,
   "metadata": {
    "colab": {},
    "colab_type": "code",
    "id": "K17LWEnyo8g5"
   },
   "outputs": [],
   "source": []
  },
  {
   "cell_type": "code",
   "execution_count": null,
   "metadata": {
    "colab": {},
    "colab_type": "code",
    "id": "0hpqNyfVo8g7"
   },
   "outputs": [],
   "source": []
  }
 ],
 "metadata": {
  "accelerator": "GPU",
  "colab": {
   "collapsed_sections": [],
   "name": "run_kang_fnn_model.ipynb",
   "provenance": [],
   "toc_visible": true
  },
  "kernelspec": {
   "display_name": "Python 3",
   "language": "python",
   "name": "python3"
  },
  "language_info": {
   "codemirror_mode": {
    "name": "ipython",
    "version": 3
   },
   "file_extension": ".py",
   "mimetype": "text/x-python",
   "name": "python",
   "nbconvert_exporter": "python",
   "pygments_lexer": "ipython3",
   "version": "3.8.3"
  }
 },
 "nbformat": 4,
 "nbformat_minor": 4
}
