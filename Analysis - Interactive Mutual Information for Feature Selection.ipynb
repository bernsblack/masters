{
 "cells": [
  {
   "cell_type": "markdown",
   "metadata": {},
   "source": [
    "## Mutual Information Feature Selection\n",
    "\n",
    "The aim of this notebook:\n",
    "- Look at column features and how they influence a cell's self-exciting property (mutual info)"
   ]
  },
  {
   "cell_type": "markdown",
   "metadata": {},
   "source": [
    "# Why conditional mutual information is larger than mutual information\n",
    "The conditional variable has more possible states and therfore the join has a higher entropy - the maximum value it can take on can therefore be higher - to make plots easier to read we can normalize the mutual information with the mutual information of the target signal with itself.\n",
    "\n",
    "$I(X;Y) = H(X) + H(Y) - H(X,Y)$\n",
    "\n",
    "\n",
    "$I(X;Y|Z) = H(X,Z) + H(Y,Z) - H(X,Y,Z) - H(Z)$"
   ]
  },
  {
   "cell_type": "markdown",
   "metadata": {},
   "source": [
    "# Interactive Plotly Plots"
   ]
  },
  {
   "cell_type": "code",
   "execution_count": 30,
   "metadata": {},
   "outputs": [],
   "source": [
    "from sparse_discrete_table import SparseDiscreteTable, build_discrete_table\n",
    "from ipywidgets import widgets\n",
    "import pandas as pd\n",
    "import numpy as np\n",
    "\n",
    "import plotly.graph_objs as go\n",
    "import plotly.express as px\n",
    "from utils.data_processing import time_series_to_time_index\n",
    "from pprint import pprint\n",
    "from sparse_discrete_table import quick_mutual_info, quick_cond_mutual_info\n",
    "from sparse_discrete_table import mutual_info_over_time, conditional_mutual_info_over_time\n",
    "from utils.interactive import filter_frame, get_total_counts, new_bins, new_int_bins\n",
    "from utils.interactive import get_mean_map, bin_data_frame, State\n",
    "\n",
    "pd.set_option('mode.chained_assignment', None)"
   ]
  },
  {
   "cell_type": "markdown",
   "metadata": {},
   "source": [
    "`Just for reference where Crimes_Chicago_2001_to_2019_datetime_fmt came from:`\n",
    "```python\n",
    "# was used to convert original csv to dataframe and string dates to datetime format\n",
    "df = pd.read_csv(\"data/original/Crimes_Chicago_2001_to_2019.csv\")\n",
    "df['Date'] = pd.DatetimeIndex(pd.to_datetime(df['Date']))\n",
    "df = df[[\n",
    "    'ID',\n",
    "    'Date',\n",
    "    'Primary Type',\n",
    "    'Arrest',\n",
    "    'Latitude',\n",
    "    'Longitude',\n",
    "]].dropna()\n",
    "df.to_pickle(\"data/raw/Crimes_Chicago_2001_to_2019_datetime_fmt.pkl\") # Dates are type datetime not string\n",
    "```"
   ]
  },
  {
   "cell_type": "code",
   "execution_count": 31,
   "metadata": {},
   "outputs": [],
   "source": [
    "df = pd.read_pickle(\"data/raw/Crimes_Chicago_2001_to_2019_datetime_fmt.pkl\")"
   ]
  },
  {
   "cell_type": "code",
   "execution_count": 32,
   "metadata": {},
   "outputs": [],
   "source": [
    "from utils.data_processing import encode_category"
   ]
  },
  {
   "cell_type": "code",
   "execution_count": 33,
   "metadata": {},
   "outputs": [],
   "source": [
    "from pandas.api.types import CategoricalDtype\n",
    "\n",
    "crime_categories = [\n",
    "        \"THEFT\",\n",
    "        \"BATTERY\",\n",
    "        \"CRIMINAL DAMAGE\",\n",
    "        \"NARCOTICS\",\n",
    "        \"ASSAULT\",\n",
    "        \"BURGLARY\",\n",
    "        \"MOTOR VEHICLE THEFT\",\n",
    "        \"ROBBERY\",\n",
    "]\n",
    "\n",
    "category_mask = df['Primary Type'].isin(crime_categories)"
   ]
  },
  {
   "cell_type": "code",
   "execution_count": 34,
   "metadata": {},
   "outputs": [],
   "source": [
    "# used to remove the anomalies\n",
    "LAT_MIN, LAT_MAX = 41.645, 42.022\n",
    "\n",
    "LON_MIN, LON_MAX = -87.934, -87.525\n",
    "\n",
    "FREQ = '24H' # '1H' #\n",
    "\n",
    "if FREQ == '24H':\n",
    "    DATE_MIN, DATE_MAX = '2014-01-01', '2019-01-01'\n",
    "elif '1H':\n",
    "    DATE_MIN, DATE_MAX = '2014-01-01', '2016-01-01'\n",
    "elif '1W':\n",
    "    DATE_MIN, DATE_MAX = '2001-01-01', '2019-01-01'\n",
    "\n",
    "\n",
    "lon_mask = (df.Longitude > LON_MIN) & (df.Longitude < LON_MAX)\n",
    "lat_mask = (df.Latitude > LAT_MIN) & (df.Latitude < LAT_MAX)\n",
    "date_mask = (df.Date >= DATE_MIN) & (df.Date < DATE_MAX)"
   ]
  },
  {
   "cell_type": "code",
   "execution_count": 35,
   "metadata": {},
   "outputs": [],
   "source": [
    "df = df[lon_mask & lat_mask & date_mask & category_mask]"
   ]
  },
  {
   "cell_type": "markdown",
   "metadata": {},
   "source": [
    "```python\n",
    "pd.to_pickle(\n",
    "    df,\n",
    "    f\"data/raw/crimes_{DATE_MIN}_{DATE_MAX}_min{LAT_MIN}{LON_MIN}_max{LAT_MAX}{LON_MAX}.pkl\",\n",
    ")\n",
    "```"
   ]
  },
  {
   "cell_type": "code",
   "execution_count": 36,
   "metadata": {},
   "outputs": [],
   "source": [
    "# Label encode the crime catgegories - makes histograms faster\n",
    "# CrimeType = CategoricalDtype(categories=crime_categories, ordered=True)\n",
    "# df['Primary Type'] = df['Primary Type'].astype(CrimeType)\n",
    "\n",
    "# df['c'] = df['Primary Type'].cat.codes\n",
    "\n",
    "df['t'] = time_series_to_time_index(t_series=df.Date, t_step=FREQ, floor=True)\n",
    "df['c'] = encode_category(series=df['Primary Type'],categories=crime_categories)"
   ]
  },
  {
   "cell_type": "code",
   "execution_count": 37,
   "metadata": {},
   "outputs": [],
   "source": [
    "# date selectors\n",
    "date_range = pd.date_range(df.Date.min().ceil(FREQ), df.Date.max().floor(FREQ), freq=FREQ)"
   ]
  },
  {
   "cell_type": "code",
   "execution_count": 38,
   "metadata": {},
   "outputs": [],
   "source": [
    "from utils.interactive import get_ratio_xy\n",
    "    \n",
    "ratio_xy = get_ratio_xy(df)"
   ]
  },
  {
   "cell_type": "markdown",
   "metadata": {},
   "source": [
    "### Very important  - all the meta data is mapped from intervals of 0.001 in the lat and lon space with ratios of 8 and 11 to ensure that the grids cels are square"
   ]
  },
  {
   "cell_type": "markdown",
   "metadata": {},
   "source": [
    "#### Confirm the make_grid technique and hist product the same output"
   ]
  },
  {
   "cell_type": "code",
   "execution_count": 39,
   "metadata": {},
   "outputs": [
    {
     "name": "stdout",
     "output_type": "stream",
     "text": [
      "{'dlat': 0.008,\n",
      " 'dlon': 0.01,\n",
      " 'x in metres': 850.0,\n",
      " 'x_scale': 10,\n",
      " 'y in metres': 880.0,\n",
      " 'y_scale': 8}\n"
     ]
    },
    {
     "data": {
      "text/plain": [
       "'\\nall the meta data is mapped from intervals of 0.001 in \\nthe lat and lon space with ratios of 8 and 11 to ensure that the grids cels are square\\n'"
      ]
     },
     "execution_count": 39,
     "metadata": {},
     "output_type": "execute_result"
    }
   ],
   "source": [
    "# [20,16] - [10,8] - [5,4] - [3,2] - [1,1]\n",
    "x_scale, y_scale = 10,8 #3,2\n",
    "xy_scale = np.array([x_scale, y_scale])  # must be integer so that we can easily sample demographic data\n",
    "dlon, dlat = xy_scale * np.array([0.001, 0.001])\n",
    "meta_info = {}\n",
    "meta_info[\"x_scale\"] = x_scale\n",
    "meta_info[\"y_scale\"] = y_scale\n",
    "meta_info[\"dlon\"] = float(dlon)\n",
    "meta_info[\"dlat\"] = float(dlat)\n",
    "meta_info[\"x in metres\"] = 85000 * float(dlon)\n",
    "meta_info[\"y in metres\"] = 110000 * float(dlat)\n",
    "\n",
    "pprint(meta_info)\n",
    "\n",
    "# use perfect squares perfect squares\n",
    "\"\"\"\n",
    "all the meta data is mapped from intervals of 0.001 in \n",
    "the lat and lon space with ratios of 8 and 11 to ensure that the grids cels are square\n",
    "\"\"\"\n",
    "# cell_size_m = 430\n",
    "# dlat = cell_size_m*lat_per_metre\n",
    "# dlon = cell_size_m*lon_per_metre\n",
    " \n",
    "# use increments of 0.001"
   ]
  },
  {
   "cell_type": "code",
   "execution_count": 40,
   "metadata": {},
   "outputs": [],
   "source": [
    "from pprint import pformat        \n",
    "        \n",
    "def default_state():\n",
    "    return  State(\n",
    "        dlon=dlon,\n",
    "        dlat=dlat,\n",
    "        lon_max = LON_MAX,\n",
    "        lon_min = LON_MIN,\n",
    "        lat_max = LAT_MAX,\n",
    "        lat_min = LAT_MIN,     \n",
    "        total_lon_max = LON_MAX,\n",
    "        total_lon_min = LON_MIN,\n",
    "        total_lat_max = LAT_MAX,\n",
    "        total_lat_min = LAT_MIN,         \n",
    "        date_min = DATE_MIN,\n",
    "        date_max = DATE_MAX,                \n",
    "        time_index = 0,\n",
    "        date_indices = (0,len(date_range)-1),\n",
    "        date_range = pd.date_range(df.Date.min().ceil(FREQ), df.Date.max().floor(FREQ), freq=FREQ),\n",
    "        freq=FREQ,\n",
    "        crime_types = [*crime_categories],    \n",
    "        mi_max_offset = 35,\n",
    "        block_size_index=2,    \n",
    "        conditional_temporal_variables= [\"Day of Week\"],# [\"Hour\", \"Day of Week\", \"Time of Month\", \"Time of Year\"],\n",
    "        mutual_info_bins=10,\n",
    "        log_norm=True,\n",
    "    )\n",
    "    \n",
    "state = default_state()"
   ]
  },
  {
   "cell_type": "code",
   "execution_count": 41,
   "metadata": {},
   "outputs": [
    {
     "data": {
      "text/html": [
       "<div>\n",
       "<style scoped>\n",
       "    .dataframe tbody tr th:only-of-type {\n",
       "        vertical-align: middle;\n",
       "    }\n",
       "\n",
       "    .dataframe tbody tr th {\n",
       "        vertical-align: top;\n",
       "    }\n",
       "\n",
       "    .dataframe thead th {\n",
       "        text-align: right;\n",
       "    }\n",
       "</style>\n",
       "<table border=\"1\" class=\"dataframe\">\n",
       "  <thead>\n",
       "    <tr style=\"text-align: right;\">\n",
       "      <th></th>\n",
       "      <th>ID</th>\n",
       "      <th>Date</th>\n",
       "      <th>Primary Type</th>\n",
       "      <th>Arrest</th>\n",
       "      <th>Latitude</th>\n",
       "      <th>Longitude</th>\n",
       "      <th>t</th>\n",
       "      <th>c</th>\n",
       "    </tr>\n",
       "  </thead>\n",
       "  <tbody>\n",
       "    <tr>\n",
       "      <th>145304</th>\n",
       "      <td>11556487</td>\n",
       "      <td>2018-12-31 23:59:00</td>\n",
       "      <td>CRIMINAL DAMAGE</td>\n",
       "      <td>False</td>\n",
       "      <td>41.689079</td>\n",
       "      <td>-87.696064</td>\n",
       "      <td>1825</td>\n",
       "      <td>2</td>\n",
       "    </tr>\n",
       "    <tr>\n",
       "      <th>145306</th>\n",
       "      <td>11552699</td>\n",
       "      <td>2018-12-31 23:57:00</td>\n",
       "      <td>CRIMINAL DAMAGE</td>\n",
       "      <td>False</td>\n",
       "      <td>41.740521</td>\n",
       "      <td>-87.647391</td>\n",
       "      <td>1825</td>\n",
       "      <td>2</td>\n",
       "    </tr>\n",
       "    <tr>\n",
       "      <th>145307</th>\n",
       "      <td>11552724</td>\n",
       "      <td>2018-12-31 23:56:00</td>\n",
       "      <td>BATTERY</td>\n",
       "      <td>True</td>\n",
       "      <td>41.857068</td>\n",
       "      <td>-87.657625</td>\n",
       "      <td>1825</td>\n",
       "      <td>1</td>\n",
       "    </tr>\n",
       "    <tr>\n",
       "      <th>145308</th>\n",
       "      <td>11552731</td>\n",
       "      <td>2018-12-31 23:55:00</td>\n",
       "      <td>BATTERY</td>\n",
       "      <td>False</td>\n",
       "      <td>41.751914</td>\n",
       "      <td>-87.647717</td>\n",
       "      <td>1825</td>\n",
       "      <td>1</td>\n",
       "    </tr>\n",
       "    <tr>\n",
       "      <th>145309</th>\n",
       "      <td>11552715</td>\n",
       "      <td>2018-12-31 23:49:00</td>\n",
       "      <td>BATTERY</td>\n",
       "      <td>False</td>\n",
       "      <td>41.875684</td>\n",
       "      <td>-87.760479</td>\n",
       "      <td>1825</td>\n",
       "      <td>1</td>\n",
       "    </tr>\n",
       "    <tr>\n",
       "      <th>...</th>\n",
       "      <td>...</td>\n",
       "      <td>...</td>\n",
       "      <td>...</td>\n",
       "      <td>...</td>\n",
       "      <td>...</td>\n",
       "      <td>...</td>\n",
       "      <td>...</td>\n",
       "      <td>...</td>\n",
       "    </tr>\n",
       "    <tr>\n",
       "      <th>1489435</th>\n",
       "      <td>9446846</td>\n",
       "      <td>2014-01-01 00:00:00</td>\n",
       "      <td>CRIMINAL DAMAGE</td>\n",
       "      <td>False</td>\n",
       "      <td>41.870639</td>\n",
       "      <td>-87.710679</td>\n",
       "      <td>0</td>\n",
       "      <td>2</td>\n",
       "    </tr>\n",
       "    <tr>\n",
       "      <th>1489437</th>\n",
       "      <td>9456816</td>\n",
       "      <td>2014-01-01 00:00:00</td>\n",
       "      <td>CRIMINAL DAMAGE</td>\n",
       "      <td>False</td>\n",
       "      <td>41.939001</td>\n",
       "      <td>-87.805537</td>\n",
       "      <td>0</td>\n",
       "      <td>2</td>\n",
       "    </tr>\n",
       "    <tr>\n",
       "      <th>1489441</th>\n",
       "      <td>9447387</td>\n",
       "      <td>2014-01-01 00:00:00</td>\n",
       "      <td>THEFT</td>\n",
       "      <td>False</td>\n",
       "      <td>41.901569</td>\n",
       "      <td>-87.698095</td>\n",
       "      <td>0</td>\n",
       "      <td>0</td>\n",
       "    </tr>\n",
       "    <tr>\n",
       "      <th>1489443</th>\n",
       "      <td>9458567</td>\n",
       "      <td>2014-01-01 00:00:00</td>\n",
       "      <td>MOTOR VEHICLE THEFT</td>\n",
       "      <td>False</td>\n",
       "      <td>41.967011</td>\n",
       "      <td>-87.715769</td>\n",
       "      <td>0</td>\n",
       "      <td>6</td>\n",
       "    </tr>\n",
       "    <tr>\n",
       "      <th>1489447</th>\n",
       "      <td>9447395</td>\n",
       "      <td>2014-01-01 00:00:00</td>\n",
       "      <td>CRIMINAL DAMAGE</td>\n",
       "      <td>False</td>\n",
       "      <td>41.886497</td>\n",
       "      <td>-87.699916</td>\n",
       "      <td>0</td>\n",
       "      <td>2</td>\n",
       "    </tr>\n",
       "  </tbody>\n",
       "</table>\n",
       "<p>1049587 rows × 8 columns</p>\n",
       "</div>"
      ],
      "text/plain": [
       "               ID                Date         Primary Type  Arrest   Latitude  \\\n",
       "145304   11556487 2018-12-31 23:59:00      CRIMINAL DAMAGE   False  41.689079   \n",
       "145306   11552699 2018-12-31 23:57:00      CRIMINAL DAMAGE   False  41.740521   \n",
       "145307   11552724 2018-12-31 23:56:00              BATTERY    True  41.857068   \n",
       "145308   11552731 2018-12-31 23:55:00              BATTERY   False  41.751914   \n",
       "145309   11552715 2018-12-31 23:49:00              BATTERY   False  41.875684   \n",
       "...           ...                 ...                  ...     ...        ...   \n",
       "1489435   9446846 2014-01-01 00:00:00      CRIMINAL DAMAGE   False  41.870639   \n",
       "1489437   9456816 2014-01-01 00:00:00      CRIMINAL DAMAGE   False  41.939001   \n",
       "1489441   9447387 2014-01-01 00:00:00                THEFT   False  41.901569   \n",
       "1489443   9458567 2014-01-01 00:00:00  MOTOR VEHICLE THEFT   False  41.967011   \n",
       "1489447   9447395 2014-01-01 00:00:00      CRIMINAL DAMAGE   False  41.886497   \n",
       "\n",
       "         Longitude     t  c  \n",
       "145304  -87.696064  1825  2  \n",
       "145306  -87.647391  1825  2  \n",
       "145307  -87.657625  1825  1  \n",
       "145308  -87.647717  1825  1  \n",
       "145309  -87.760479  1825  1  \n",
       "...            ...   ... ..  \n",
       "1489435 -87.710679     0  2  \n",
       "1489437 -87.805537     0  2  \n",
       "1489441 -87.698095     0  0  \n",
       "1489443 -87.715769     0  6  \n",
       "1489447 -87.699916     0  2  \n",
       "\n",
       "[1049587 rows x 8 columns]"
      ]
     },
     "execution_count": 41,
     "metadata": {},
     "output_type": "execute_result"
    }
   ],
   "source": [
    "df"
   ]
  },
  {
   "cell_type": "markdown",
   "metadata": {},
   "source": [
    "`Reference for code to compare grids with previous generation techniques:`\n",
    "```python\n",
    "file_location = \"data/processed/T24H-X425M-Y440M_2013-01-01_2017-01-01/\"\n",
    "\n",
    "generated_data = np.load(file_location + \"generated_data.npz\")\n",
    "x_range = generated_data['x_range']\n",
    "y_range = generated_data['y_range']\n",
    "t_range = pd.read_pickle(file_location + \"t_range.pkl\")\n",
    "\n",
    "crime_types_grids = generated_data['crime_types_grids'] \n",
    "\n",
    "xbins  = x_range - dlon/2\n",
    "xbins = np.array([*xbins,xbins[-1]+dlon])\n",
    "\n",
    "ybins  = y_range - dlat/2\n",
    "ybins = np.array([*ybins,ybins[-1]+dlat])\n",
    "\n",
    "import json\n",
    "\n",
    "with open(file_location + \"info.json\", \"r\") as f:\n",
    "    meta_info = json.load(f)\n",
    "         \n",
    "meta_info\n",
    "```"
   ]
  },
  {
   "cell_type": "markdown",
   "metadata": {},
   "source": [
    "### Widget Plot"
   ]
  },
  {
   "cell_type": "code",
   "execution_count": 42,
   "metadata": {},
   "outputs": [],
   "source": [
    "# reset state\n",
    "state.crime_types = [*crime_categories]\n",
    "\n",
    "state.date_indices = (0,len(date_range)-1)\n",
    "state.date_min, state.date_max = date_range[[*state.date_indices]]\n",
    "\n",
    "state.date_range = pd.date_range(\n",
    "    state.date_min.ceil(state.freq), \n",
    "    state.date_max.floor(state.freq), \n",
    "    freq=state.freq, \n",
    ")\n",
    "\n",
    "tbins, cbins, ybins, xbins = new_bins(df, state)"
   ]
  },
  {
   "cell_type": "code",
   "execution_count": 43,
   "metadata": {},
   "outputs": [],
   "source": [
    "font_dict = dict(\n",
    "    family=\"Time New Roman\",     \n",
    "    size=14,\n",
    "#     color=\"RebeccaPurple\",\n",
    ")\n",
    "\n",
    "# quick plotly plot builders\n",
    "def new_scatter(title, ylabel, xlabel, font_dict=None):\n",
    "    return go.FigureWidget(\n",
    "        data=go.Scatter(),\n",
    "        layout=dict(\n",
    "            title_text=title,\n",
    "            title_x=0.5,        \n",
    "            xaxis_title=xlabel,\n",
    "            yaxis_title=ylabel,\n",
    "            legend_title=\"Legend Title\",\n",
    "            font=font_dict,\n",
    "        ),\n",
    "    )\n",
    "\n",
    "\n",
    "def new_heatmap(z):\n",
    "    return go.Figure(\n",
    "        data=go.Heatmap(z=z),\n",
    "        layout=dict(\n",
    "            height=600,\n",
    "#             width=ratio_xy*fig_height,\n",
    "            yaxis=dict(scaleanchor=\"x\", scaleratio=1/ratio_xy),\n",
    "        ),    \n",
    "    )"
   ]
  },
  {
   "cell_type": "code",
   "execution_count": 44,
   "metadata": {},
   "outputs": [],
   "source": [
    "fig_total_counts = new_scatter(title=\"Total Crimes\",ylabel=\"Total Counts\",xlabel=\"Date Time\")"
   ]
  },
  {
   "cell_type": "code",
   "execution_count": 45,
   "metadata": {},
   "outputs": [],
   "source": [
    "# MI Plots on a single curve\n",
    "fig_mi_cmi = go.FigureWidget(\n",
    "        data=[\n",
    "            go.Scatter(\n",
    "                name=\"$I(C_t;C_{t-k})$\",#\"Mutual Information\",\n",
    "            ),\n",
    "            go.Scatter(\n",
    "                name=\"$I(C_t;C_{t-k}|D_t;D_{t-k})$\", #\"Condtional Mutual Information\",\n",
    "            ),\n",
    "        ],\n",
    "        layout=dict(\n",
    "            title_text=\"Mutual and Condtional Mutual Information\",\n",
    "            title_x=0.5,        \n",
    "            xaxis_title=\"Offest in days (k)\",\n",
    "            yaxis_title=\"Normalised Score [0,1]\",\n",
    "            legend_title=\"Curves\",\n",
    "#             font=font_dict,\n",
    "        ),\n",
    "    )\n",
    "\n",
    "line_mi, line_cmi = fig_mi_cmi.data"
   ]
  },
  {
   "cell_type": "code",
   "execution_count": 46,
   "metadata": {},
   "outputs": [],
   "source": [
    "counts_mean = get_mean_map(df, state)"
   ]
  },
  {
   "cell_type": "code",
   "execution_count": 47,
   "metadata": {},
   "outputs": [],
   "source": [
    "scattergl = go.Scattergl(\n",
    "    hoverinfo='skip',\n",
    "    mode='markers',\n",
    "    name='scattergl',\n",
    "    marker_color='red',\n",
    ")\n",
    "\n",
    "heatmapgl = go.Heatmap(\n",
    "    z=counts_mean,\n",
    "    x=xbins,\n",
    "    y=ybins, \n",
    "    hoverinfo='skip',\n",
    "    colorscale='viridis',\n",
    "    opacity=1,\n",
    "    name='heatmapgl',\n",
    ")\n",
    "\n",
    "\n",
    "fig_height = 600\n",
    "fig_app = go.FigureWidget(\n",
    "    data=[heatmapgl, scattergl],\n",
    "    layout=dict(\n",
    "        margin={\"r\":50,\"t\":30,\"l\":0,\"b\":0},\n",
    "        height=fig_height,\n",
    "#         width=fig_height*ratio_xy,\n",
    "        yaxis=dict(scaleanchor=\"x\", scaleratio=1/ratio_xy),\n",
    "        clickmode='event+select',\n",
    "    ),\n",
    ")\n",
    "\n",
    "scattergl = fig_app.data[1]\n",
    "heatmapgl = fig_app.data[0]"
   ]
  },
  {
   "cell_type": "markdown",
   "metadata": {},
   "source": [
    "#### Update figures based on state"
   ]
  },
  {
   "cell_type": "code",
   "execution_count": 48,
   "metadata": {},
   "outputs": [],
   "source": [
    "block_size_changed = True"
   ]
  },
  {
   "cell_type": "code",
   "execution_count": 49,
   "metadata": {},
   "outputs": [],
   "source": [
    "from utils.utils import cut"
   ]
  },
  {
   "cell_type": "code",
   "execution_count": 50,
   "metadata": {},
   "outputs": [],
   "source": [
    "def construct_temporal_information(\n",
    "    date_range,\n",
    "    temporal_variables=[\"Hour\", \"Day of Week\", \"Time of Month\", \"Time of Year\"],\n",
    "    month_divisions=4,\n",
    "    year_divisions=4,\n",
    "):\n",
    "    df_dict = dict(Date=date_range)\n",
    "    \n",
    "    if \"Hour\" in temporal_variables:\n",
    "        df_dict[\"Hour\"] = date_range.hour\n",
    "                \n",
    "    if \"Day of Week\" in temporal_variables:\n",
    "        df_dict[\"Day of Week\"] = date_range.dayofweek\n",
    "\n",
    "    if \"Time of Month\" in temporal_variables:\n",
    "        df_dict[\"Time of Month\"] = cut(date_range.day/date_range.days_in_month, month_divisions)\n",
    "\n",
    "    if \"Time of Year\" in temporal_variables:\n",
    "        df_dict[\"Time of Year\"] = cut(date_range.dayofyear/(366), year_divisions)\n",
    "    \n",
    "    temp_info = pd.DataFrame(df_dict).set_index('Date')\n",
    "    \n",
    "    return temp_info"
   ]
  },
  {
   "cell_type": "code",
   "execution_count": 51,
   "metadata": {},
   "outputs": [],
   "source": [
    "if FREQ == '24H':\n",
    "    cycles = 7,\n",
    "elif FREQ == '1H':\n",
    "    cycles = 7,7*24\n",
    "else:\n",
    "    raise Exception(f\"FREQ={FREQ} is not a valid value: 24H\")\n",
    "\n",
    "# global updater\n",
    "def draw(state):  \n",
    "    global block_size_changed\n",
    "    if len(state.crime_types) == 0:\n",
    "        return\n",
    "    \n",
    "    sub = filter_frame(df, state)\n",
    "    sub_dt = date_range[sub.t.min():sub.t.max()+1]\n",
    "    \n",
    "    total_counts_y, total_counts_x = get_total_counts(sub, state, date_range)\n",
    "  \n",
    "    cycles = 1,\n",
    "    conds = construct_temporal_information(\n",
    "        date_range=sub_dt,\n",
    "        temporal_variables=state.conditional_temporal_variables,\n",
    "        month_divisions=10,\n",
    "        year_divisions=10,\n",
    "    ).values\n",
    "    \n",
    "    mi_y, mi_x = mutual_info_over_time(\n",
    "        a=total_counts_y, \n",
    "        max_offset=state.mi_max_offset,\n",
    "        norm=True, \n",
    "        log_norm=state.log_norm,\n",
    "        include_self=False,\n",
    "        bins=state.mutual_info_bins,\n",
    "    )\n",
    "    cmi_y, cmi_x = conditional_mutual_info_over_time(\n",
    "        a=total_counts_y,\n",
    "        max_offset=state.mi_max_offset,\n",
    "        norm=True, \n",
    "        log_norm=state.log_norm,\n",
    "        include_self=False,\n",
    "        cycles=cycles,\n",
    "        conds=conds,\n",
    "        bins=state.mutual_info_bins,\n",
    "    )\n",
    "    \n",
    "    slide = sub[sub.t == state.time_index]\n",
    "    \n",
    "    with fig_app.batch_update():\n",
    "        if block_size_changed:\n",
    "            mean_map, xbins, ybins = get_mean_map(df, state)\n",
    "            block_size_changed = False\n",
    "            \n",
    "            heatmapgl.x = xbins\n",
    "            heatmapgl.y = ybins\n",
    "            heatmapgl.z = mean_map\n",
    "        \n",
    "        \n",
    "        scattergl.x=slide.Longitude\n",
    "        scattergl.y=slide.Latitude\n",
    "        \n",
    "        fig_total_counts.data[0].x = total_counts_x\n",
    "        fig_total_counts.data[0].y = total_counts_y\n",
    "        \n",
    "        line_mi.x = mi_x\n",
    "        line_mi.y = mi_y\n",
    "        \n",
    "        line_cmi.x = cmi_x\n",
    "        line_cmi.y = cmi_y\n",
    "        \n",
    "        fig_mi_cmi.update_layout(\n",
    "            title_text=f\"Mutual and Condtional Mutual Information\\ncondtioned on {state.conditional_temporal_variables}\")"
   ]
  },
  {
   "cell_type": "code",
   "execution_count": 52,
   "metadata": {},
   "outputs": [],
   "source": [
    "def scattergl_on_select(trace,points,selector):\n",
    "    global lat_filter, lon_filter\n",
    "    if trace.name == 'scattergl':                \n",
    "        state.lon_min, state.lon_max = selector.xrange\n",
    "        state.lat_min, state.lat_max = selector.yrange\n",
    "        \n",
    "        draw(state)\n",
    "            \n",
    "scattergl.on_selection(scattergl_on_select)"
   ]
  },
  {
   "cell_type": "code",
   "execution_count": 53,
   "metadata": {},
   "outputs": [],
   "source": [
    "# widget setup\n",
    "from ipywidgets import Layout, widgets\n",
    "\n",
    "# helper functions\n",
    "def get_widget_index(change):\n",
    "    if isinstance(change, dict) and change.get('name') == 'index':\n",
    "        return change.get('new')\n",
    "    return None\n",
    "\n",
    "def get_widget_value(change):\n",
    "    if isinstance(change, dict) and change.get('name') == 'value':\n",
    "        return change.get('new')\n",
    "    return None"
   ]
  },
  {
   "cell_type": "markdown",
   "metadata": {},
   "source": [
    "#### Widgets and how they should update state"
   ]
  },
  {
   "cell_type": "code",
   "execution_count": 54,
   "metadata": {},
   "outputs": [],
   "source": [
    "# time index date display label\n",
    "current_date_label = widgets.Label(f'Date: {date_range[state.time_index].strftime(\"%c\")}')\n",
    "\n",
    "# time index selector\n",
    "time_index_slider = widgets.IntSlider(\n",
    "    value=0,\n",
    "    min=0,\n",
    "    max=len(date_range)-1,\n",
    "    step=1,\n",
    "    description='Time Index:',\n",
    "    continuous_update=False,\n",
    "    layout=Layout(width='80%'),\n",
    ")\n",
    "\n",
    "def on_change_time_index(change):\n",
    "    global current_date_label, state\n",
    "    time_index = get_widget_value(change)\n",
    "    if time_index is not None:\n",
    "        current_date_label.value = f'Date: {date_range[time_index].strftime(\"%c\")}'\n",
    "        state.time_index = time_index\n",
    "        draw(state)\n",
    "        \n",
    "time_index_slider.observe(on_change_time_index)\n",
    "\n",
    "play_button = widgets.Play(\n",
    "    value=0,\n",
    "    min=time_index_slider.min,\n",
    "    max=time_index_slider.max,\n",
    "    step=1,\n",
    "    interval=800,\n",
    "    description=\"Press play\",\n",
    "    disabled=False\n",
    ")\n",
    "widgets.jslink((play_button, 'value'), (time_index_slider, 'value'))\n",
    "\n",
    "\n",
    "# Date Slider\n",
    "date_range_slider = widgets.SelectionRangeSlider(\n",
    "    options=[d.strftime('%y/%m/%d') for d in date_range],\n",
    "    index=(0, len(date_range)-1),\n",
    "    description='Date Range:',\n",
    "    disabled=False,\n",
    "    orientation = 'horizontal',\n",
    "    layout=Layout(width='95%'),\n",
    "    continuous_update=False,\n",
    ")\n",
    "\n",
    "def on_change_date_range_slider(change):\n",
    "    global state, time_index_slider\n",
    "    \n",
    "    index = get_widget_index(change)\n",
    "    if index is not None:        \n",
    "        i, j = index\n",
    "        \n",
    "        time_index_slider.value = i \n",
    "        time_index_slider.min = i\n",
    "        time_index_slider.max = j\n",
    "                \n",
    "        state.update(\n",
    "            date_range_indices=(i,j),  \n",
    "            date_min=date_range[i],\n",
    "            date_max=date_range[j],        \n",
    "        )\n",
    "        draw(state)\n",
    "\n",
    "date_range_slider.observe(on_change_date_range_slider)\n",
    "\n",
    "\n",
    "# crime type selector\n",
    "def on_change_crime_types(button):\n",
    "    global state\n",
    "    if button.button_style == \"\":\n",
    "        button.button_style = \"success\"\n",
    "        state.crime_types.append(button.description)\n",
    "    else:\n",
    "        button.button_style = \"\"\n",
    "        state.crime_types.remove(button.description)\n",
    "        \n",
    "    \n",
    "    draw(state)\n",
    "    \n",
    "def new_buttons(names,all_selected=False):\n",
    "    global state\n",
    "    buttons = []\n",
    "    \n",
    "    if all_selected:\n",
    "        state.crime_types = [*names]\n",
    "        button_style = \"success\"\n",
    "    else:\n",
    "        state.crime_types = []\n",
    "        button_style = \"\"\n",
    "        \n",
    "    for name in names:\n",
    "        button = widgets.Button(\n",
    "            description=name,\n",
    "            tooltip=name,\n",
    "            disabled=False,\n",
    "            button_style=button_style, # 'success', 'info', 'warning', 'danger' or ''\n",
    "        )\n",
    "        \n",
    "        button.on_click(on_change_crime_types)\n",
    "        \n",
    "        buttons.append(button)\n",
    "    return buttons\n",
    "    \n",
    "    \n",
    "time_selectors = widgets.VBox([\n",
    "    widgets.HBox([date_range_slider]),\n",
    "    widgets.HBox([time_index_slider])    \n",
    "])    \n",
    "\n",
    "buttons = new_buttons(names=crime_categories, all_selected=True)\n",
    "crime_selectors = widgets.VBox([\n",
    "    widgets.HBox(buttons[:4]),\n",
    "    widgets.HBox(buttons[4:]),\n",
    "])\n",
    "\n",
    "# Spatial block size selection widget\n",
    "dlon_dlat_opts = list(map(tuple,(np.array([[40,32], [20,16],[10,8], [5,4], [3,2], [1,1]]) * np.array([0.001, 0.001]))))\n",
    "dx_dly_opts = list(map(tuple,(np.array([[40,32], [20,16],[10,8], [5,4], [3,2], [1,1]]) * np.array([85, 110]))))\n",
    "\n",
    "dropdown_block_size = widgets.Dropdown(\n",
    "    options=[(v, i) for i,v in enumerate(dx_dly_opts)],\n",
    "    value=state.block_size_index,\n",
    "    description='dx, dy:',\n",
    "    disabled=False,\n",
    ")\n",
    "\n",
    "def on_change_dropdown_block_size(change):\n",
    "    global state, block_size_changed\n",
    "    value = get_widget_value(change)\n",
    "    if value is not None:  \n",
    "        state.block_size_index = value\n",
    "        state.dlon, state.dlat = dlon_dlat_opts[value]\n",
    "        block_size_changed = True\n",
    "        draw(state)\n",
    "        \n",
    "dropdown_block_size.observe(on_change_dropdown_block_size)\n",
    "\n",
    "\n",
    "# widgets combinations and setup\n",
    "row0 = widgets.HBox([play_button, crime_selectors, dropdown_block_size])\n",
    "row1 = time_selectors\n",
    "\n",
    "controller = widgets.VBox([row0, row1, current_date_label])"
   ]
  },
  {
   "cell_type": "code",
   "execution_count": 64,
   "metadata": {},
   "outputs": [],
   "source": [
    "# state.conditional_temporal_variables = [\"Hour\", \"Day of Week\", \"Time of Month\", \"Time of Year\"]\n",
    "# state.conditional_temporal_variables = [\"Day of Week\", \"Time of Year\"]\n",
    "state.conditional_temporal_variables = [\"Day of Week\", \"Time of Year\", \"Time of Month\"]"
   ]
  },
  {
   "cell_type": "code",
   "execution_count": 65,
   "metadata": {},
   "outputs": [],
   "source": [
    "from utils.data_processing import sincos_vector"
   ]
  },
  {
   "cell_type": "code",
   "execution_count": 66,
   "metadata": {
    "scrolled": false
   },
   "outputs": [
    {
     "data": {
      "application/vnd.jupyter.widget-view+json": {
       "model_id": "e218ae0542aa4b3faed0bde4ea95d626",
       "version_major": 2,
       "version_minor": 0
      },
      "text/plain": [
       "VBox(children=(FigureWidget({\n",
       "    'data': [{'name': '$I(C_t;C_{t-k})$',\n",
       "              'type': 'scatter',\n",
       "     …"
      ]
     },
     "metadata": {},
     "output_type": "display_data"
    }
   ],
   "source": [
    "state.mi_max_offset = 370\n",
    "state.mutual_info_bins = 10\n",
    "state.log_norm = False\n",
    "draw(state)\n",
    "widgets.VBox([fig_mi_cmi, fig_total_counts, controller, fig_app])"
   ]
  },
  {
   "cell_type": "code",
   "execution_count": 29,
   "metadata": {},
   "outputs": [
    {
     "data": {
      "text/plain": [
       "{'start_date': '2014-01-01',\n",
       " 'end_date': '2019-01-01',\n",
       " 'dT': '24H',\n",
       " 'x_scale': 10,\n",
       " 'y_scale': 8,\n",
       " 'lat_max': 42.022,\n",
       " 'lat_min': 41.645,\n",
       " 'lon_max': -87.525,\n",
       " 'lon_min': -87.934,\n",
       " 'root': './',\n",
       " 'crime_types': ['THEFT',\n",
       "  'BATTERY',\n",
       "  'CRIMINAL DAMAGE',\n",
       "  'NARCOTICS',\n",
       "  'ASSAULT',\n",
       "  'BURGLARY',\n",
       "  'MOTOR VEHICLE THEFT',\n",
       "  'ROBBERY']}"
      ]
     },
     "execution_count": 29,
     "metadata": {},
     "output_type": "execute_result"
    }
   ],
   "source": [
    "from utils.interactive import state_to_conf\n",
    "state_to_conf(state)"
   ]
  },
  {
   "cell_type": "markdown",
   "metadata": {},
   "source": [
    "### Save selected subset limits to json file to be generated at later stage"
   ]
  },
  {
   "cell_type": "code",
   "execution_count": 30,
   "metadata": {},
   "outputs": [
    {
     "name": "stdout",
     "output_type": "stream",
     "text": [
      "Saving file with ref: 7cd\n"
     ]
    }
   ],
   "source": [
    "from datetime import datetime\n",
    "from utils.interactive import state_to_conf\n",
    "from utils.utils import write_json\n",
    "\n",
    "SAVE_SELECTION = False\n",
    "if SAVE_SELECTION:\n",
    "    conf = state_to_conf(state)\n",
    "#     ref = datetime.now().isoformat().split('.')[0]\n",
    "    ref = hex((hash(conf.__repr__()) % 3000) + 300).split('x')[1]\n",
    "    \n",
    "    print(f\"Saving file with ref: {ref}\")\n",
    "    write_json(\n",
    "        data=conf,\n",
    "        file_name=f\"./config/generate_data_{ref}.json\",\n",
    "    )"
   ]
  },
  {
   "cell_type": "markdown",
   "metadata": {},
   "source": [
    "### Statistics on selection"
   ]
  },
  {
   "cell_type": "code",
   "execution_count": 31,
   "metadata": {
    "scrolled": true
   },
   "outputs": [
    {
     "name": "stdout",
     "output_type": "stream",
     "text": [
      "Number of crime occurences: 371104\n"
     ]
    }
   ],
   "source": [
    "sub = filter_frame(df, state)\n",
    "print(f\"Number of crime occurences: {len(sub)}\")\n",
    "\n",
    "binned_data, (tbins_sub, cbins_sub, ybins_sub, xbins_sub) = bin_data_frame(sub, state)\n",
    "\n",
    "sub_dt = date_range[sub.t.min():sub.t.max()+1]\n",
    "counts_sum = binned_data.sum(-1).sum(-1)\n",
    "\n",
    "assert len(counts_sum) == len(sub_dt)"
   ]
  },
  {
   "cell_type": "code",
   "execution_count": 32,
   "metadata": {
    "scrolled": false
   },
   "outputs": [
    {
     "data": {
      "application/vnd.jupyter.widget-view+json": {
       "model_id": "2e35cbe8c4ae4afdba4e448fbfb082f8",
       "version_major": 2,
       "version_minor": 0
      },
      "text/plain": [
       "VBox(children=(Label(value='Date: Wed Jan  1 00:00:00 2014'), HBox(children=(Play(value=0, description='Press …"
      ]
     },
     "metadata": {},
     "output_type": "display_data"
    }
   ],
   "source": [
    "from utils.interactive import InteractiveHeatmaps\n",
    "\n",
    "grid_dict = {k: binned_data[:,i]   for i,k in enumerate(state.crime_types)}\n",
    "\n",
    "\n",
    "InteractiveHeatmaps(\n",
    "    date_range=sub_dt, \n",
    "    col_wrap=1,\n",
    "    **grid_dict,\n",
    ").app"
   ]
  },
  {
   "cell_type": "code",
   "execution_count": 45,
   "metadata": {
    "scrolled": true
   },
   "outputs": [
    {
     "data": {
      "text/html": [
       "<div>\n",
       "<style scoped>\n",
       "    .dataframe tbody tr th:only-of-type {\n",
       "        vertical-align: middle;\n",
       "    }\n",
       "\n",
       "    .dataframe tbody tr th {\n",
       "        vertical-align: top;\n",
       "    }\n",
       "\n",
       "    .dataframe thead th {\n",
       "        text-align: right;\n",
       "    }\n",
       "</style>\n",
       "<table border=\"1\" class=\"dataframe\">\n",
       "  <thead>\n",
       "    <tr style=\"text-align: right;\">\n",
       "      <th></th>\n",
       "      <th>Date</th>\n",
       "    </tr>\n",
       "  </thead>\n",
       "  <tbody>\n",
       "    <tr>\n",
       "      <th>0</th>\n",
       "      <td>2014-01-01 00:00:00</td>\n",
       "    </tr>\n",
       "    <tr>\n",
       "      <th>1</th>\n",
       "      <td>2014-01-01 01:00:00</td>\n",
       "    </tr>\n",
       "    <tr>\n",
       "      <th>2</th>\n",
       "      <td>2014-01-01 02:00:00</td>\n",
       "    </tr>\n",
       "    <tr>\n",
       "      <th>3</th>\n",
       "      <td>2014-01-01 03:00:00</td>\n",
       "    </tr>\n",
       "    <tr>\n",
       "      <th>4</th>\n",
       "      <td>2014-01-01 04:00:00</td>\n",
       "    </tr>\n",
       "    <tr>\n",
       "      <th>...</th>\n",
       "      <td>...</td>\n",
       "    </tr>\n",
       "    <tr>\n",
       "      <th>17515</th>\n",
       "      <td>2015-12-31 19:00:00</td>\n",
       "    </tr>\n",
       "    <tr>\n",
       "      <th>17516</th>\n",
       "      <td>2015-12-31 20:00:00</td>\n",
       "    </tr>\n",
       "    <tr>\n",
       "      <th>17517</th>\n",
       "      <td>2015-12-31 21:00:00</td>\n",
       "    </tr>\n",
       "    <tr>\n",
       "      <th>17518</th>\n",
       "      <td>2015-12-31 22:00:00</td>\n",
       "    </tr>\n",
       "    <tr>\n",
       "      <th>17519</th>\n",
       "      <td>2015-12-31 23:00:00</td>\n",
       "    </tr>\n",
       "  </tbody>\n",
       "</table>\n",
       "<p>17520 rows × 1 columns</p>\n",
       "</div>"
      ],
      "text/plain": [
       "                     Date\n",
       "0     2014-01-01 00:00:00\n",
       "1     2014-01-01 01:00:00\n",
       "2     2014-01-01 02:00:00\n",
       "3     2014-01-01 03:00:00\n",
       "4     2014-01-01 04:00:00\n",
       "...                   ...\n",
       "17515 2015-12-31 19:00:00\n",
       "17516 2015-12-31 20:00:00\n",
       "17517 2015-12-31 21:00:00\n",
       "17518 2015-12-31 22:00:00\n",
       "17519 2015-12-31 23:00:00\n",
       "\n",
       "[17520 rows x 1 columns]"
      ]
     },
     "execution_count": 45,
     "metadata": {},
     "output_type": "execute_result"
    }
   ],
   "source": [
    "# np.concatenate([total_counts_by_type,pd.DataFrame({\"Date\":sub_dt})],axis=1)\n",
    "pd.DataFrame({\"Date\":sub_dt})\n",
    "# total_counts_by_type"
   ]
  },
  {
   "cell_type": "code",
   "execution_count": 35,
   "metadata": {},
   "outputs": [
    {
     "data": {
      "text/html": [
       "<div>\n",
       "<style scoped>\n",
       "    .dataframe tbody tr th:only-of-type {\n",
       "        vertical-align: middle;\n",
       "    }\n",
       "\n",
       "    .dataframe tbody tr th {\n",
       "        vertical-align: top;\n",
       "    }\n",
       "\n",
       "    .dataframe thead th {\n",
       "        text-align: right;\n",
       "    }\n",
       "</style>\n",
       "<table border=\"1\" class=\"dataframe\">\n",
       "  <thead>\n",
       "    <tr style=\"text-align: right;\">\n",
       "      <th></th>\n",
       "      <th>THEFT</th>\n",
       "      <th>BATTERY</th>\n",
       "      <th>CRIMINAL DAMAGE</th>\n",
       "      <th>NARCOTICS</th>\n",
       "      <th>ASSAULT</th>\n",
       "      <th>BURGLARY</th>\n",
       "      <th>MOTOR VEHICLE THEFT</th>\n",
       "      <th>ROBBERY</th>\n",
       "    </tr>\n",
       "  </thead>\n",
       "  <tbody>\n",
       "    <tr>\n",
       "      <th>0</th>\n",
       "      <td>24.0</td>\n",
       "      <td>17.0</td>\n",
       "      <td>13.0</td>\n",
       "      <td>3.0</td>\n",
       "      <td>3.0</td>\n",
       "      <td>3.0</td>\n",
       "      <td>4.0</td>\n",
       "      <td>1.0</td>\n",
       "    </tr>\n",
       "    <tr>\n",
       "      <th>1</th>\n",
       "      <td>22.0</td>\n",
       "      <td>32.0</td>\n",
       "      <td>5.0</td>\n",
       "      <td>3.0</td>\n",
       "      <td>5.0</td>\n",
       "      <td>1.0</td>\n",
       "      <td>0.0</td>\n",
       "      <td>0.0</td>\n",
       "    </tr>\n",
       "    <tr>\n",
       "      <th>2</th>\n",
       "      <td>8.0</td>\n",
       "      <td>28.0</td>\n",
       "      <td>7.0</td>\n",
       "      <td>0.0</td>\n",
       "      <td>4.0</td>\n",
       "      <td>2.0</td>\n",
       "      <td>1.0</td>\n",
       "      <td>5.0</td>\n",
       "    </tr>\n",
       "    <tr>\n",
       "      <th>3</th>\n",
       "      <td>3.0</td>\n",
       "      <td>21.0</td>\n",
       "      <td>4.0</td>\n",
       "      <td>0.0</td>\n",
       "      <td>0.0</td>\n",
       "      <td>0.0</td>\n",
       "      <td>0.0</td>\n",
       "      <td>2.0</td>\n",
       "    </tr>\n",
       "    <tr>\n",
       "      <th>4</th>\n",
       "      <td>3.0</td>\n",
       "      <td>23.0</td>\n",
       "      <td>2.0</td>\n",
       "      <td>0.0</td>\n",
       "      <td>3.0</td>\n",
       "      <td>2.0</td>\n",
       "      <td>2.0</td>\n",
       "      <td>1.0</td>\n",
       "    </tr>\n",
       "    <tr>\n",
       "      <th>...</th>\n",
       "      <td>...</td>\n",
       "      <td>...</td>\n",
       "      <td>...</td>\n",
       "      <td>...</td>\n",
       "      <td>...</td>\n",
       "      <td>...</td>\n",
       "      <td>...</td>\n",
       "      <td>...</td>\n",
       "    </tr>\n",
       "    <tr>\n",
       "      <th>17515</th>\n",
       "      <td>8.0</td>\n",
       "      <td>1.0</td>\n",
       "      <td>5.0</td>\n",
       "      <td>0.0</td>\n",
       "      <td>1.0</td>\n",
       "      <td>3.0</td>\n",
       "      <td>2.0</td>\n",
       "      <td>0.0</td>\n",
       "    </tr>\n",
       "    <tr>\n",
       "      <th>17516</th>\n",
       "      <td>4.0</td>\n",
       "      <td>6.0</td>\n",
       "      <td>7.0</td>\n",
       "      <td>1.0</td>\n",
       "      <td>0.0</td>\n",
       "      <td>4.0</td>\n",
       "      <td>0.0</td>\n",
       "      <td>2.0</td>\n",
       "    </tr>\n",
       "    <tr>\n",
       "      <th>17517</th>\n",
       "      <td>6.0</td>\n",
       "      <td>3.0</td>\n",
       "      <td>5.0</td>\n",
       "      <td>2.0</td>\n",
       "      <td>4.0</td>\n",
       "      <td>2.0</td>\n",
       "      <td>2.0</td>\n",
       "      <td>1.0</td>\n",
       "    </tr>\n",
       "    <tr>\n",
       "      <th>17518</th>\n",
       "      <td>6.0</td>\n",
       "      <td>8.0</td>\n",
       "      <td>8.0</td>\n",
       "      <td>0.0</td>\n",
       "      <td>1.0</td>\n",
       "      <td>1.0</td>\n",
       "      <td>2.0</td>\n",
       "      <td>2.0</td>\n",
       "    </tr>\n",
       "    <tr>\n",
       "      <th>17519</th>\n",
       "      <td>2.0</td>\n",
       "      <td>0.0</td>\n",
       "      <td>2.0</td>\n",
       "      <td>0.0</td>\n",
       "      <td>0.0</td>\n",
       "      <td>1.0</td>\n",
       "      <td>0.0</td>\n",
       "      <td>0.0</td>\n",
       "    </tr>\n",
       "  </tbody>\n",
       "</table>\n",
       "<p>17520 rows × 8 columns</p>\n",
       "</div>"
      ],
      "text/plain": [
       "       THEFT  BATTERY  CRIMINAL DAMAGE  NARCOTICS  ASSAULT  BURGLARY  \\\n",
       "0       24.0     17.0             13.0        3.0      3.0       3.0   \n",
       "1       22.0     32.0              5.0        3.0      5.0       1.0   \n",
       "2        8.0     28.0              7.0        0.0      4.0       2.0   \n",
       "3        3.0     21.0              4.0        0.0      0.0       0.0   \n",
       "4        3.0     23.0              2.0        0.0      3.0       2.0   \n",
       "...      ...      ...              ...        ...      ...       ...   \n",
       "17515    8.0      1.0              5.0        0.0      1.0       3.0   \n",
       "17516    4.0      6.0              7.0        1.0      0.0       4.0   \n",
       "17517    6.0      3.0              5.0        2.0      4.0       2.0   \n",
       "17518    6.0      8.0              8.0        0.0      1.0       1.0   \n",
       "17519    2.0      0.0              2.0        0.0      0.0       1.0   \n",
       "\n",
       "       MOTOR VEHICLE THEFT  ROBBERY  \n",
       "0                      4.0      1.0  \n",
       "1                      0.0      0.0  \n",
       "2                      1.0      5.0  \n",
       "3                      0.0      2.0  \n",
       "4                      2.0      1.0  \n",
       "...                    ...      ...  \n",
       "17515                  2.0      0.0  \n",
       "17516                  0.0      2.0  \n",
       "17517                  2.0      1.0  \n",
       "17518                  2.0      2.0  \n",
       "17519                  0.0      0.0  \n",
       "\n",
       "[17520 rows x 8 columns]"
      ]
     },
     "execution_count": 35,
     "metadata": {},
     "output_type": "execute_result"
    }
   ],
   "source": [
    "construct_temporal_information\n",
    "\n",
    "\n",
    "data_dict = {k: counts_sum[:,i]   for i,k in enumerate(state.crime_types)}\n",
    "# data_dict['Date'] = sub_dt\n",
    "# data_dict['Hour'] = sub_dt.hour\n",
    "# data_dict['Weekday'] = sub_dt.dayofweek\n",
    "\n",
    "total_counts_by_type = pd.DataFrame(data_dict)\n",
    "total_counts_by_type"
   ]
  },
  {
   "cell_type": "markdown",
   "metadata": {},
   "source": [
    "### 2D Histogram"
   ]
  },
  {
   "cell_type": "code",
   "execution_count": 58,
   "metadata": {},
   "outputs": [],
   "source": [
    "# display distribution of a sample of the data\n",
    "fig_height=800\n",
    "px.density_heatmap(\n",
    "    data_frame=sub, #.sample(10000),\n",
    "    x=\"Longitude\",\n",
    "    y=\"Latitude\", \n",
    "    marginal_x=\"histogram\",\n",
    "    marginal_y=\"histogram\",\n",
    "    height=fig_height,\n",
    "    width=ratio_xy*fig_height,\n",
    "    nbinsx=len(xbins_sub),\n",
    "    nbinsy=len(ybins_sub),\n",
    ")"
   ]
  },
  {
   "cell_type": "markdown",
   "metadata": {},
   "source": [
    "### Scikit MI-regression vs Our MI-discrete table"
   ]
  },
  {
   "cell_type": "code",
   "execution_count": 73,
   "metadata": {},
   "outputs": [],
   "source": [
    "from utils.utils import cut"
   ]
  },
  {
   "cell_type": "code",
   "execution_count": 48,
   "metadata": {},
   "outputs": [],
   "source": [
    "from sklearn.feature_selection import mutual_info_regression, mutual_info_classif\n",
    "\n",
    "series = counts_sum.sum(-1)\n",
    "\n",
    "# series = cut(series, 10)\n",
    "# series = np.round(np.log2(1 + series))\n",
    "\n",
    "max_offset = 370\n",
    "n = len(series) - max_offset\n",
    "l = []\n",
    "for i in range(max_offset+1):\n",
    "    l.append(series[i:n+i])\n",
    "data = np.array(l).T    \n",
    "\n",
    "X, y = data[:,:], data[:,-1]    \n",
    "\n",
    "mi = mutual_info_classif(X,y,discrete_features=True)\n",
    "mi_rest, mi_max = mi[:-1], mi[-1]\n",
    "mi_clf = (mi_rest/mi_max)[::-1]\n",
    "\n",
    "mi = mutual_info_regression(X,y,discrete_features=True)\n",
    "mi_rest, mi_max = mi[:-1], mi[-1]\n",
    "mi_reg = (mi_rest/mi_max)[::-1]\n",
    "\n",
    "\n",
    "mis = []\n",
    "for i in range(max_offset+1):\n",
    "    mis.append(quick_mutual_info(X[:,i], y,norm=True))\n",
    "mi_rest, mi_max = mis[:-1], mis[-1]\n",
    "mi_our = (mi_rest/mi_max)[::-1]\n",
    "\n",
    "\n",
    "px.line(pd.DataFrame({\"mi_our\":mi_our, \"mi_reg\":mi_reg, \"mi_clf\": mi_clf}))"
   ]
  },
  {
   "cell_type": "markdown",
   "metadata": {},
   "source": [
    "### 2D decomposition of the signals by crime type"
   ]
  },
  {
   "cell_type": "code",
   "execution_count": 50,
   "metadata": {
    "scrolled": false
   },
   "outputs": [],
   "source": [
    "traces = []\n",
    "\n",
    "for i,k in enumerate(state.crime_types):\n",
    "    trace = go.Scatter(\n",
    "        x=sub_dt,\n",
    "        y=counts_sum[:,i], \n",
    "        mode='lines',\n",
    "        name=k,\n",
    "        opacity=0.5,\n",
    "    )\n",
    "    traces.append(trace)\n",
    "    \n",
    "trace = go.Scatter(\n",
    "    x=sub_dt,\n",
    "    y=counts_sum.sum(1),\n",
    "    mode='lines',\n",
    "    name='TOTAL',\n",
    "    opacity=0.1,\n",
    ")\n",
    "traces.append(trace)\n",
    "    \n",
    "fig = go.Figure(traces)\n",
    "\n",
    "fig.update_layout(\n",
    "    width=900,\n",
    "    height=700,\n",
    ")\n",
    "\n",
    "fig.show()"
   ]
  },
  {
   "cell_type": "markdown",
   "metadata": {},
   "source": [
    "### 3D decomposition of the signals by crime type"
   ]
  },
  {
   "cell_type": "code",
   "execution_count": 81,
   "metadata": {},
   "outputs": [],
   "source": [
    "traces = []\n",
    "\n",
    "for i,k in enumerate(state.crime_types):\n",
    "    trace = go.Scatter3d(\n",
    "        x=sub_dt,\n",
    "        y=np.ones(len(counts_sum))*(i+1),\n",
    "        z=counts_sum[:,i], \n",
    "        mode='lines',\n",
    "        name=k,\n",
    "        opacity=0.5,\n",
    "    )\n",
    "    traces.append(trace)\n",
    "    \n",
    "trace = go.Scatter3d(\n",
    "    x=sub_dt,\n",
    "    y=np.ones(len(counts_sum))*0,\n",
    "    z=counts_sum.sum(1),\n",
    "    mode='lines',\n",
    "    name='TOTAL',\n",
    "    opacity=0.1,\n",
    ")\n",
    "traces.append(trace)\n",
    "    \n",
    "fig = go.Figure(traces)\n",
    "\n",
    "fig.update_layout(\n",
    "    width=900,\n",
    "    height=700,\n",
    "    autosize=False,\n",
    "    scene=dict(\n",
    "        camera=dict(\n",
    "            up=dict(\n",
    "                x=0,\n",
    "                y=0,\n",
    "                z=1\n",
    "            ),\n",
    "            eye=dict(\n",
    "                x=0,\n",
    "                y=1.0707,\n",
    "                z=1,\n",
    "            )\n",
    "        ),\n",
    "        aspectratio = dict( x=1, y=1, z=0.7 ),\n",
    "        aspectmode = 'manual'\n",
    "    ),\n",
    ")\n",
    "\n",
    "fig.show()"
   ]
  },
  {
   "cell_type": "markdown",
   "metadata": {},
   "source": [
    "### Distribution Counts by Crime Type"
   ]
  },
  {
   "cell_type": "code",
   "execution_count": 57,
   "metadata": {},
   "outputs": [],
   "source": [
    "# counts_sum = np.round(np.log2(1 + counts_sum))\n",
    "\n",
    "# cap = 33\n",
    "# counts_sum[counts_sum > cap] = cap\n",
    "\n",
    "traces = []\n",
    "traces.append(\n",
    "    go.Histogram(\n",
    "        x=counts_sum.sum(1),\n",
    "        name='TOTAL',\n",
    "        opacity=0.4,\n",
    "        histnorm='probability density',\n",
    "    ),\n",
    ")\n",
    "\n",
    "\n",
    "for i,k in enumerate(state.crime_types):\n",
    "    traces.append(\n",
    "        go.Histogram(\n",
    "            x=counts_sum[:,i],\n",
    "            name=k,\n",
    "            opacity=0.4,\n",
    "            histnorm='probability density',\n",
    "        ),\n",
    "    )\n",
    "    \n",
    "fig = go.Figure(traces, layout=dict(height=600, title=\"Crime Count Distribution by Type\"))\n",
    "fig.update_layout(\n",
    "    barmode='overlay', \n",
    "    title_x=0.5,\n",
    "    yaxis_title=\"Probability\",\n",
    "    xaxis_title=\"Count\",\n",
    ")\n",
    "fig.show()"
   ]
  },
  {
   "cell_type": "code",
   "execution_count": 52,
   "metadata": {},
   "outputs": [
    {
     "data": {
      "text/html": [
       "<div>\n",
       "<style scoped>\n",
       "    .dataframe tbody tr th:only-of-type {\n",
       "        vertical-align: middle;\n",
       "    }\n",
       "\n",
       "    .dataframe tbody tr th {\n",
       "        vertical-align: top;\n",
       "    }\n",
       "\n",
       "    .dataframe thead th {\n",
       "        text-align: right;\n",
       "    }\n",
       "</style>\n",
       "<table border=\"1\" class=\"dataframe\">\n",
       "  <thead>\n",
       "    <tr style=\"text-align: right;\">\n",
       "      <th></th>\n",
       "      <th>THEFT</th>\n",
       "      <th>BATTERY</th>\n",
       "      <th>CRIMINAL DAMAGE</th>\n",
       "      <th>NARCOTICS</th>\n",
       "      <th>ASSAULT</th>\n",
       "      <th>BURGLARY</th>\n",
       "      <th>MOTOR VEHICLE THEFT</th>\n",
       "      <th>ROBBERY</th>\n",
       "    </tr>\n",
       "  </thead>\n",
       "  <tbody>\n",
       "    <tr>\n",
       "      <th>0</th>\n",
       "      <td>24.0</td>\n",
       "      <td>17.0</td>\n",
       "      <td>13.0</td>\n",
       "      <td>3.0</td>\n",
       "      <td>3.0</td>\n",
       "      <td>3.0</td>\n",
       "      <td>4.0</td>\n",
       "      <td>1.0</td>\n",
       "    </tr>\n",
       "    <tr>\n",
       "      <th>1</th>\n",
       "      <td>22.0</td>\n",
       "      <td>32.0</td>\n",
       "      <td>5.0</td>\n",
       "      <td>3.0</td>\n",
       "      <td>5.0</td>\n",
       "      <td>1.0</td>\n",
       "      <td>0.0</td>\n",
       "      <td>0.0</td>\n",
       "    </tr>\n",
       "    <tr>\n",
       "      <th>2</th>\n",
       "      <td>8.0</td>\n",
       "      <td>28.0</td>\n",
       "      <td>7.0</td>\n",
       "      <td>0.0</td>\n",
       "      <td>4.0</td>\n",
       "      <td>2.0</td>\n",
       "      <td>1.0</td>\n",
       "      <td>5.0</td>\n",
       "    </tr>\n",
       "    <tr>\n",
       "      <th>3</th>\n",
       "      <td>3.0</td>\n",
       "      <td>21.0</td>\n",
       "      <td>4.0</td>\n",
       "      <td>0.0</td>\n",
       "      <td>0.0</td>\n",
       "      <td>0.0</td>\n",
       "      <td>0.0</td>\n",
       "      <td>2.0</td>\n",
       "    </tr>\n",
       "    <tr>\n",
       "      <th>4</th>\n",
       "      <td>3.0</td>\n",
       "      <td>23.0</td>\n",
       "      <td>2.0</td>\n",
       "      <td>0.0</td>\n",
       "      <td>3.0</td>\n",
       "      <td>2.0</td>\n",
       "      <td>2.0</td>\n",
       "      <td>1.0</td>\n",
       "    </tr>\n",
       "    <tr>\n",
       "      <th>...</th>\n",
       "      <td>...</td>\n",
       "      <td>...</td>\n",
       "      <td>...</td>\n",
       "      <td>...</td>\n",
       "      <td>...</td>\n",
       "      <td>...</td>\n",
       "      <td>...</td>\n",
       "      <td>...</td>\n",
       "    </tr>\n",
       "    <tr>\n",
       "      <th>17515</th>\n",
       "      <td>8.0</td>\n",
       "      <td>1.0</td>\n",
       "      <td>5.0</td>\n",
       "      <td>0.0</td>\n",
       "      <td>1.0</td>\n",
       "      <td>3.0</td>\n",
       "      <td>2.0</td>\n",
       "      <td>0.0</td>\n",
       "    </tr>\n",
       "    <tr>\n",
       "      <th>17516</th>\n",
       "      <td>4.0</td>\n",
       "      <td>6.0</td>\n",
       "      <td>7.0</td>\n",
       "      <td>1.0</td>\n",
       "      <td>0.0</td>\n",
       "      <td>4.0</td>\n",
       "      <td>0.0</td>\n",
       "      <td>2.0</td>\n",
       "    </tr>\n",
       "    <tr>\n",
       "      <th>17517</th>\n",
       "      <td>6.0</td>\n",
       "      <td>3.0</td>\n",
       "      <td>5.0</td>\n",
       "      <td>2.0</td>\n",
       "      <td>4.0</td>\n",
       "      <td>2.0</td>\n",
       "      <td>2.0</td>\n",
       "      <td>1.0</td>\n",
       "    </tr>\n",
       "    <tr>\n",
       "      <th>17518</th>\n",
       "      <td>6.0</td>\n",
       "      <td>8.0</td>\n",
       "      <td>8.0</td>\n",
       "      <td>0.0</td>\n",
       "      <td>1.0</td>\n",
       "      <td>1.0</td>\n",
       "      <td>2.0</td>\n",
       "      <td>2.0</td>\n",
       "    </tr>\n",
       "    <tr>\n",
       "      <th>17519</th>\n",
       "      <td>2.0</td>\n",
       "      <td>0.0</td>\n",
       "      <td>2.0</td>\n",
       "      <td>0.0</td>\n",
       "      <td>0.0</td>\n",
       "      <td>1.0</td>\n",
       "      <td>0.0</td>\n",
       "      <td>0.0</td>\n",
       "    </tr>\n",
       "  </tbody>\n",
       "</table>\n",
       "<p>17520 rows × 8 columns</p>\n",
       "</div>"
      ],
      "text/plain": [
       "       THEFT  BATTERY  CRIMINAL DAMAGE  NARCOTICS  ASSAULT  BURGLARY  \\\n",
       "0       24.0     17.0             13.0        3.0      3.0       3.0   \n",
       "1       22.0     32.0              5.0        3.0      5.0       1.0   \n",
       "2        8.0     28.0              7.0        0.0      4.0       2.0   \n",
       "3        3.0     21.0              4.0        0.0      0.0       0.0   \n",
       "4        3.0     23.0              2.0        0.0      3.0       2.0   \n",
       "...      ...      ...              ...        ...      ...       ...   \n",
       "17515    8.0      1.0              5.0        0.0      1.0       3.0   \n",
       "17516    4.0      6.0              7.0        1.0      0.0       4.0   \n",
       "17517    6.0      3.0              5.0        2.0      4.0       2.0   \n",
       "17518    6.0      8.0              8.0        0.0      1.0       1.0   \n",
       "17519    2.0      0.0              2.0        0.0      0.0       1.0   \n",
       "\n",
       "       MOTOR VEHICLE THEFT  ROBBERY  \n",
       "0                      4.0      1.0  \n",
       "1                      0.0      0.0  \n",
       "2                      1.0      5.0  \n",
       "3                      0.0      2.0  \n",
       "4                      2.0      1.0  \n",
       "...                    ...      ...  \n",
       "17515                  2.0      0.0  \n",
       "17516                  0.0      2.0  \n",
       "17517                  2.0      1.0  \n",
       "17518                  2.0      2.0  \n",
       "17519                  0.0      0.0  \n",
       "\n",
       "[17520 rows x 8 columns]"
      ]
     },
     "execution_count": 52,
     "metadata": {},
     "output_type": "execute_result"
    }
   ],
   "source": [
    "data_dict = {k: counts_sum[:,i]   for i,k in enumerate(state.crime_types)}\n",
    "# data_dict['Date'] = sub_dt\n",
    "# data_dict['Hour'] = sub_dt.hour\n",
    "# data_dict['Weekday'] = sub_dt.dayofweek\n",
    "\n",
    "total_counts_by_type = pd.DataFrame(data_dict)\n",
    "total_counts_by_type"
   ]
  },
  {
   "cell_type": "code",
   "execution_count": null,
   "metadata": {},
   "outputs": [],
   "source": [
    "# distribution of selection counts\n",
    "fig = px.histogram(\n",
    "    total_counts_by_type.melt(),\n",
    "    histnorm='probability density',\n",
    "    title=\"Crime Count Distribution by Type\",\n",
    "#     color=\"variable\",\n",
    "    facet_col=\"variable\",\n",
    "    facet_col_wrap=1,\n",
    "    opacity=.3,\n",
    ")\n",
    "\n",
    "fig.update_layout(barmode='overlay', height=1200, width=300, showlegend=False)\n",
    "fig.update_layout(title={'x':0.5})\n",
    "fig.update_yaxes(title_text='Probability')\n",
    "fig.update_xaxes(title_text='Crime Count')\n",
    "fig.show()"
   ]
  },
  {
   "cell_type": "code",
   "execution_count": null,
   "metadata": {},
   "outputs": [],
   "source": [
    "total_counts_y, total_counts_x = get_total_counts(sub, state, date_range)\n",
    "fig = px.histogram(pd.DataFrame({\"Crime Count\":total_counts_y}),\n",
    "             histnorm='probability density',title=\"Crime Count Distribution\")\n",
    "fig.update_layout(title={'x':0.5})\n",
    "fig.update_yaxes(title_text='Probability')\n",
    "fig.update_xaxes(title_text='Crime Count')\n",
    "fig.show()"
   ]
  },
  {
   "cell_type": "code",
   "execution_count": 56,
   "metadata": {
    "scrolled": false
   },
   "outputs": [],
   "source": [
    "sub_dow_name = pd.DataFrame({'day of week name': sub.Date.dt.day_name()})\n",
    "sub_dow = pd.DataFrame({'day of week': sub.Date.dt.dayofweek})\n",
    "sub_hour = pd.DataFrame({'hour of day': sub.Date.dt.hour})\n",
    "sub_cat = pd.concat([sub, sub_dow, sub_dow_name, sub_hour], axis=1)\n",
    "sub_cat['crimes'] = np.ones(len(sub))\n",
    "\n",
    "\n",
    "# distribution of selection counts\n",
    "total_counts_y, total_counts_x = get_total_counts(sub, state, date_range)\n",
    "\n",
    "fig = px.histogram(pd.DataFrame({\"Crime Counts\":total_counts_y}),\n",
    "             histnorm='probability density',title=\"Crime Count Distribution\")\n",
    "fig.update_yaxes(title_text='Probability')\n",
    "fig.update_xaxes(title_text='Crime Count')\n",
    "fig.update_layout(title={'x':0.5})\n",
    "fig.show()\n",
    "\n",
    "# log normed distribution\n",
    "log_scaled_counts_y = np.round(np.log2(1+ total_counts_y))\n",
    "fig = px.histogram(pd.DataFrame({\"Log Scaled Crime Counts\":log_scaled_counts_y}),\n",
    "             histnorm='probability density',title=\"Log Crime Count Distribution log2(1+x)\")\n",
    "fig.update_yaxes(title_text='Probability')\n",
    "fig.update_xaxes(title_text='Log Crime Count')\n",
    "fig.update_layout(title={'x':0.5})\n",
    "fig.show()\n",
    "\n",
    "# distribution of crime type\n",
    "fig = px.histogram(\n",
    "    data_frame=sub_cat,\n",
    "    x='Primary Type',\n",
    "    y='crimes', \n",
    "    histnorm='probability density',\n",
    "    title=\"Crime Type Distribution\",\n",
    ")\n",
    "fig.update_layout(title={'x':0.5})\n",
    "fig.update_yaxes(title_text='Probability')\n",
    "fig.update_xaxes(title_text='Crime Count')\n",
    "fig.show()\n",
    "\n",
    "\n",
    "# crime distirbution distribution of hour of day by type\n",
    "fig = px.histogram(\n",
    "    data_frame=sub_cat,\n",
    "    x='hour of day',\n",
    "    y='crimes', \n",
    "    facet_col='Primary Type',\n",
    "    facet_col_wrap=2,\n",
    "    height=800,\n",
    "    histnorm='probability density',\n",
    "    title=\"Crime Type Distribution by Hour\",\n",
    ")\n",
    "fig.update_layout(title={'x':0.5})\n",
    "fig.update_yaxes(title_text='Probability',col=1)\n",
    "fig.update_xaxes(title_text='Hour of Day')\n",
    "fig.show()\n",
    "\n",
    "# distribution of day of week\n",
    "fig = px.histogram(\n",
    "    data_frame=sub_cat,\n",
    "    x='day of week',\n",
    "    y='crimes', \n",
    "    facet_col='Primary Type',\n",
    "    facet_col_wrap=2,\n",
    "    height=800,\n",
    "    histnorm='probability density',\n",
    "    title=\"Crime Type Distribution by Weekday\",\n",
    ")\n",
    "fig.update_layout(title={'x':0.5})\n",
    "fig.update_yaxes(title_text='Probability',col=1)\n",
    "fig.update_xaxes(\n",
    "    title_text='Day of Week',\n",
    "    tickmode = 'array',\n",
    "    tickvals = [0,1,2,3,4,5,6],\n",
    "    ticktext = ['Mon', 'Tue', 'Wed', 'Thu', 'Fri', 'Sat', 'Sun'],    \n",
    ")\n",
    "\n",
    "fig.show()"
   ]
  },
  {
   "cell_type": "code",
   "execution_count": 55,
   "metadata": {},
   "outputs": [
    {
     "data": {
      "application/vnd.plotly.v1+json": {
       "config": {
        "plotlyServerURL": "https://plot.ly"
       },
       "data": [
        {
         "type": "heatmap",
         "z": [
          [
           0,
           0,
           0,
           0,
           0.012100456621004566,
           0.10810502283105022,
           0.023002283105022833,
           0.03755707762557078
          ],
          [
           0,
           0,
           0.003595890410958904,
           0.04406392694063927,
           0.2610730593607306,
           0.4726027397260274,
           0.02243150684931507,
           0.03367579908675799
          ],
          [
           0,
           0,
           0.00228310502283105,
           0.0442351598173516,
           0.2728310502283105,
           0.5016552511415525,
           0.20941780821917808,
           0.15108447488584476
          ],
          [
           0,
           0,
           0.11221461187214612,
           0.16312785388127854,
           0.7782534246575342,
           0.8231164383561644,
           0.6868150684931507,
           0.3992579908675799
          ],
          [
           0.003538812785388128,
           0.0819634703196347,
           0.16484018264840183,
           0.685216894977169,
           1.070947488584475,
           0.8239155251141552,
           0.5780251141552512,
           0.02106164383561644
          ],
          [
           0.0009132420091324201,
           0.037842465753424655,
           0.2047945205479452,
           0.40970319634703195,
           0.5062785388127854,
           0.6594178082191781,
           0.1550799086757991,
           0
          ],
          [
           0,
           0,
           0.22071917808219177,
           0.4765981735159817,
           0.3084474885844749,
           0.4215753424657534,
           0.00011415525114155251,
           0
          ],
          [
           0,
           0.2734018264840183,
           1.282420091324201,
           1.1001141552511415,
           0.5478881278538813,
           0.8067922374429224,
           0,
           0
          ],
          [
           0.012614155251141552,
           0.37876712328767126,
           0.996689497716895,
           0.8061643835616439,
           0.6378424657534246,
           0.7328196347031963,
           0,
           0
          ],
          [
           0.0920662100456621,
           0.3589041095890411,
           0.4922945205479452,
           0.46558219178082194,
           0.7174657534246576,
           0.04594748858447489,
           0,
           0
          ],
          [
           0.05382420091324201,
           0.20981735159817352,
           0.3023972602739726,
           0.4072488584474886,
           0.5064497716894977,
           0.0025684931506849314,
           0,
           0
          ],
          [
           0.03824200913242009,
           0.05051369863013699,
           0.024257990867579907,
           0.29777397260273974,
           0.3158675799086758,
           0,
           0,
           0
          ],
          [
           0.0018264840182648401,
           0,
           0,
           0.03898401826484018,
           0.10136986301369863,
           0,
           0,
           0
          ]
         ]
        }
       ],
       "layout": {
        "height": 600,
        "template": {
         "data": {
          "bar": [
           {
            "error_x": {
             "color": "#2a3f5f"
            },
            "error_y": {
             "color": "#2a3f5f"
            },
            "marker": {
             "line": {
              "color": "#E5ECF6",
              "width": 0.5
             }
            },
            "type": "bar"
           }
          ],
          "barpolar": [
           {
            "marker": {
             "line": {
              "color": "#E5ECF6",
              "width": 0.5
             }
            },
            "type": "barpolar"
           }
          ],
          "carpet": [
           {
            "aaxis": {
             "endlinecolor": "#2a3f5f",
             "gridcolor": "white",
             "linecolor": "white",
             "minorgridcolor": "white",
             "startlinecolor": "#2a3f5f"
            },
            "baxis": {
             "endlinecolor": "#2a3f5f",
             "gridcolor": "white",
             "linecolor": "white",
             "minorgridcolor": "white",
             "startlinecolor": "#2a3f5f"
            },
            "type": "carpet"
           }
          ],
          "choropleth": [
           {
            "colorbar": {
             "outlinewidth": 0,
             "ticks": ""
            },
            "type": "choropleth"
           }
          ],
          "contour": [
           {
            "colorbar": {
             "outlinewidth": 0,
             "ticks": ""
            },
            "colorscale": [
             [
              0,
              "#0d0887"
             ],
             [
              0.1111111111111111,
              "#46039f"
             ],
             [
              0.2222222222222222,
              "#7201a8"
             ],
             [
              0.3333333333333333,
              "#9c179e"
             ],
             [
              0.4444444444444444,
              "#bd3786"
             ],
             [
              0.5555555555555556,
              "#d8576b"
             ],
             [
              0.6666666666666666,
              "#ed7953"
             ],
             [
              0.7777777777777778,
              "#fb9f3a"
             ],
             [
              0.8888888888888888,
              "#fdca26"
             ],
             [
              1,
              "#f0f921"
             ]
            ],
            "type": "contour"
           }
          ],
          "contourcarpet": [
           {
            "colorbar": {
             "outlinewidth": 0,
             "ticks": ""
            },
            "type": "contourcarpet"
           }
          ],
          "heatmap": [
           {
            "colorbar": {
             "outlinewidth": 0,
             "ticks": ""
            },
            "colorscale": [
             [
              0,
              "#0d0887"
             ],
             [
              0.1111111111111111,
              "#46039f"
             ],
             [
              0.2222222222222222,
              "#7201a8"
             ],
             [
              0.3333333333333333,
              "#9c179e"
             ],
             [
              0.4444444444444444,
              "#bd3786"
             ],
             [
              0.5555555555555556,
              "#d8576b"
             ],
             [
              0.6666666666666666,
              "#ed7953"
             ],
             [
              0.7777777777777778,
              "#fb9f3a"
             ],
             [
              0.8888888888888888,
              "#fdca26"
             ],
             [
              1,
              "#f0f921"
             ]
            ],
            "type": "heatmap"
           }
          ],
          "heatmapgl": [
           {
            "colorbar": {
             "outlinewidth": 0,
             "ticks": ""
            },
            "colorscale": [
             [
              0,
              "#0d0887"
             ],
             [
              0.1111111111111111,
              "#46039f"
             ],
             [
              0.2222222222222222,
              "#7201a8"
             ],
             [
              0.3333333333333333,
              "#9c179e"
             ],
             [
              0.4444444444444444,
              "#bd3786"
             ],
             [
              0.5555555555555556,
              "#d8576b"
             ],
             [
              0.6666666666666666,
              "#ed7953"
             ],
             [
              0.7777777777777778,
              "#fb9f3a"
             ],
             [
              0.8888888888888888,
              "#fdca26"
             ],
             [
              1,
              "#f0f921"
             ]
            ],
            "type": "heatmapgl"
           }
          ],
          "histogram": [
           {
            "marker": {
             "colorbar": {
              "outlinewidth": 0,
              "ticks": ""
             }
            },
            "type": "histogram"
           }
          ],
          "histogram2d": [
           {
            "colorbar": {
             "outlinewidth": 0,
             "ticks": ""
            },
            "colorscale": [
             [
              0,
              "#0d0887"
             ],
             [
              0.1111111111111111,
              "#46039f"
             ],
             [
              0.2222222222222222,
              "#7201a8"
             ],
             [
              0.3333333333333333,
              "#9c179e"
             ],
             [
              0.4444444444444444,
              "#bd3786"
             ],
             [
              0.5555555555555556,
              "#d8576b"
             ],
             [
              0.6666666666666666,
              "#ed7953"
             ],
             [
              0.7777777777777778,
              "#fb9f3a"
             ],
             [
              0.8888888888888888,
              "#fdca26"
             ],
             [
              1,
              "#f0f921"
             ]
            ],
            "type": "histogram2d"
           }
          ],
          "histogram2dcontour": [
           {
            "colorbar": {
             "outlinewidth": 0,
             "ticks": ""
            },
            "colorscale": [
             [
              0,
              "#0d0887"
             ],
             [
              0.1111111111111111,
              "#46039f"
             ],
             [
              0.2222222222222222,
              "#7201a8"
             ],
             [
              0.3333333333333333,
              "#9c179e"
             ],
             [
              0.4444444444444444,
              "#bd3786"
             ],
             [
              0.5555555555555556,
              "#d8576b"
             ],
             [
              0.6666666666666666,
              "#ed7953"
             ],
             [
              0.7777777777777778,
              "#fb9f3a"
             ],
             [
              0.8888888888888888,
              "#fdca26"
             ],
             [
              1,
              "#f0f921"
             ]
            ],
            "type": "histogram2dcontour"
           }
          ],
          "mesh3d": [
           {
            "colorbar": {
             "outlinewidth": 0,
             "ticks": ""
            },
            "type": "mesh3d"
           }
          ],
          "parcoords": [
           {
            "line": {
             "colorbar": {
              "outlinewidth": 0,
              "ticks": ""
             }
            },
            "type": "parcoords"
           }
          ],
          "pie": [
           {
            "automargin": true,
            "type": "pie"
           }
          ],
          "scatter": [
           {
            "marker": {
             "colorbar": {
              "outlinewidth": 0,
              "ticks": ""
             }
            },
            "type": "scatter"
           }
          ],
          "scatter3d": [
           {
            "line": {
             "colorbar": {
              "outlinewidth": 0,
              "ticks": ""
             }
            },
            "marker": {
             "colorbar": {
              "outlinewidth": 0,
              "ticks": ""
             }
            },
            "type": "scatter3d"
           }
          ],
          "scattercarpet": [
           {
            "marker": {
             "colorbar": {
              "outlinewidth": 0,
              "ticks": ""
             }
            },
            "type": "scattercarpet"
           }
          ],
          "scattergeo": [
           {
            "marker": {
             "colorbar": {
              "outlinewidth": 0,
              "ticks": ""
             }
            },
            "type": "scattergeo"
           }
          ],
          "scattergl": [
           {
            "marker": {
             "colorbar": {
              "outlinewidth": 0,
              "ticks": ""
             }
            },
            "type": "scattergl"
           }
          ],
          "scattermapbox": [
           {
            "marker": {
             "colorbar": {
              "outlinewidth": 0,
              "ticks": ""
             }
            },
            "type": "scattermapbox"
           }
          ],
          "scatterpolar": [
           {
            "marker": {
             "colorbar": {
              "outlinewidth": 0,
              "ticks": ""
             }
            },
            "type": "scatterpolar"
           }
          ],
          "scatterpolargl": [
           {
            "marker": {
             "colorbar": {
              "outlinewidth": 0,
              "ticks": ""
             }
            },
            "type": "scatterpolargl"
           }
          ],
          "scatterternary": [
           {
            "marker": {
             "colorbar": {
              "outlinewidth": 0,
              "ticks": ""
             }
            },
            "type": "scatterternary"
           }
          ],
          "surface": [
           {
            "colorbar": {
             "outlinewidth": 0,
             "ticks": ""
            },
            "colorscale": [
             [
              0,
              "#0d0887"
             ],
             [
              0.1111111111111111,
              "#46039f"
             ],
             [
              0.2222222222222222,
              "#7201a8"
             ],
             [
              0.3333333333333333,
              "#9c179e"
             ],
             [
              0.4444444444444444,
              "#bd3786"
             ],
             [
              0.5555555555555556,
              "#d8576b"
             ],
             [
              0.6666666666666666,
              "#ed7953"
             ],
             [
              0.7777777777777778,
              "#fb9f3a"
             ],
             [
              0.8888888888888888,
              "#fdca26"
             ],
             [
              1,
              "#f0f921"
             ]
            ],
            "type": "surface"
           }
          ],
          "table": [
           {
            "cells": {
             "fill": {
              "color": "#EBF0F8"
             },
             "line": {
              "color": "white"
             }
            },
            "header": {
             "fill": {
              "color": "#C8D4E3"
             },
             "line": {
              "color": "white"
             }
            },
            "type": "table"
           }
          ]
         },
         "layout": {
          "annotationdefaults": {
           "arrowcolor": "#2a3f5f",
           "arrowhead": 0,
           "arrowwidth": 1
          },
          "coloraxis": {
           "colorbar": {
            "outlinewidth": 0,
            "ticks": ""
           }
          },
          "colorscale": {
           "diverging": [
            [
             0,
             "#8e0152"
            ],
            [
             0.1,
             "#c51b7d"
            ],
            [
             0.2,
             "#de77ae"
            ],
            [
             0.3,
             "#f1b6da"
            ],
            [
             0.4,
             "#fde0ef"
            ],
            [
             0.5,
             "#f7f7f7"
            ],
            [
             0.6,
             "#e6f5d0"
            ],
            [
             0.7,
             "#b8e186"
            ],
            [
             0.8,
             "#7fbc41"
            ],
            [
             0.9,
             "#4d9221"
            ],
            [
             1,
             "#276419"
            ]
           ],
           "sequential": [
            [
             0,
             "#0d0887"
            ],
            [
             0.1111111111111111,
             "#46039f"
            ],
            [
             0.2222222222222222,
             "#7201a8"
            ],
            [
             0.3333333333333333,
             "#9c179e"
            ],
            [
             0.4444444444444444,
             "#bd3786"
            ],
            [
             0.5555555555555556,
             "#d8576b"
            ],
            [
             0.6666666666666666,
             "#ed7953"
            ],
            [
             0.7777777777777778,
             "#fb9f3a"
            ],
            [
             0.8888888888888888,
             "#fdca26"
            ],
            [
             1,
             "#f0f921"
            ]
           ],
           "sequentialminus": [
            [
             0,
             "#0d0887"
            ],
            [
             0.1111111111111111,
             "#46039f"
            ],
            [
             0.2222222222222222,
             "#7201a8"
            ],
            [
             0.3333333333333333,
             "#9c179e"
            ],
            [
             0.4444444444444444,
             "#bd3786"
            ],
            [
             0.5555555555555556,
             "#d8576b"
            ],
            [
             0.6666666666666666,
             "#ed7953"
            ],
            [
             0.7777777777777778,
             "#fb9f3a"
            ],
            [
             0.8888888888888888,
             "#fdca26"
            ],
            [
             1,
             "#f0f921"
            ]
           ]
          },
          "colorway": [
           "#636efa",
           "#EF553B",
           "#00cc96",
           "#ab63fa",
           "#FFA15A",
           "#19d3f3",
           "#FF6692",
           "#B6E880",
           "#FF97FF",
           "#FECB52"
          ],
          "font": {
           "color": "#2a3f5f"
          },
          "geo": {
           "bgcolor": "white",
           "lakecolor": "white",
           "landcolor": "#E5ECF6",
           "showlakes": true,
           "showland": true,
           "subunitcolor": "white"
          },
          "hoverlabel": {
           "align": "left"
          },
          "hovermode": "closest",
          "mapbox": {
           "style": "light"
          },
          "paper_bgcolor": "white",
          "plot_bgcolor": "#E5ECF6",
          "polar": {
           "angularaxis": {
            "gridcolor": "white",
            "linecolor": "white",
            "ticks": ""
           },
           "bgcolor": "#E5ECF6",
           "radialaxis": {
            "gridcolor": "white",
            "linecolor": "white",
            "ticks": ""
           }
          },
          "scene": {
           "xaxis": {
            "backgroundcolor": "#E5ECF6",
            "gridcolor": "white",
            "gridwidth": 2,
            "linecolor": "white",
            "showbackground": true,
            "ticks": "",
            "zerolinecolor": "white"
           },
           "yaxis": {
            "backgroundcolor": "#E5ECF6",
            "gridcolor": "white",
            "gridwidth": 2,
            "linecolor": "white",
            "showbackground": true,
            "ticks": "",
            "zerolinecolor": "white"
           },
           "zaxis": {
            "backgroundcolor": "#E5ECF6",
            "gridcolor": "white",
            "gridwidth": 2,
            "linecolor": "white",
            "showbackground": true,
            "ticks": "",
            "zerolinecolor": "white"
           }
          },
          "shapedefaults": {
           "line": {
            "color": "#2a3f5f"
           }
          },
          "ternary": {
           "aaxis": {
            "gridcolor": "white",
            "linecolor": "white",
            "ticks": ""
           },
           "baxis": {
            "gridcolor": "white",
            "linecolor": "white",
            "ticks": ""
           },
           "bgcolor": "#E5ECF6",
           "caxis": {
            "gridcolor": "white",
            "linecolor": "white",
            "ticks": ""
           }
          },
          "title": {
           "x": 0.05
          },
          "xaxis": {
           "automargin": true,
           "gridcolor": "white",
           "linecolor": "white",
           "ticks": "",
           "title": {
            "standoff": 15
           },
           "zerolinecolor": "white",
           "zerolinewidth": 2
          },
          "yaxis": {
           "automargin": true,
           "gridcolor": "white",
           "linecolor": "white",
           "ticks": "",
           "title": {
            "standoff": 15
           },
           "zerolinecolor": "white",
           "zerolinewidth": 2
          }
         }
        },
        "yaxis": {
         "scaleanchor": "x",
         "scaleratio": 1.2479890225755224
        }
       }
      },
      "text/html": [
       "<div>\n",
       "        \n",
       "        \n",
       "            <div id=\"475d3b80-8258-40ae-af43-5270bd4d7afe\" class=\"plotly-graph-div\" style=\"height:600px; width:100%;\"></div>\n",
       "            <script type=\"text/javascript\">\n",
       "                require([\"plotly\"], function(Plotly) {\n",
       "                    window.PLOTLYENV=window.PLOTLYENV || {};\n",
       "                    \n",
       "                if (document.getElementById(\"475d3b80-8258-40ae-af43-5270bd4d7afe\")) {\n",
       "                    Plotly.newPlot(\n",
       "                        '475d3b80-8258-40ae-af43-5270bd4d7afe',\n",
       "                        [{\"type\": \"heatmap\", \"z\": [[0.0, 0.0, 0.0, 0.0, 0.012100456621004566, 0.10810502283105022, 0.023002283105022833, 0.03755707762557078], [0.0, 0.0, 0.003595890410958904, 0.04406392694063927, 0.2610730593607306, 0.4726027397260274, 0.02243150684931507, 0.03367579908675799], [0.0, 0.0, 0.00228310502283105, 0.0442351598173516, 0.2728310502283105, 0.5016552511415525, 0.20941780821917808, 0.15108447488584476], [0.0, 0.0, 0.11221461187214612, 0.16312785388127854, 0.7782534246575342, 0.8231164383561644, 0.6868150684931507, 0.3992579908675799], [0.003538812785388128, 0.0819634703196347, 0.16484018264840183, 0.685216894977169, 1.070947488584475, 0.8239155251141552, 0.5780251141552512, 0.02106164383561644], [0.0009132420091324201, 0.037842465753424655, 0.2047945205479452, 0.40970319634703195, 0.5062785388127854, 0.6594178082191781, 0.1550799086757991, 0.0], [0.0, 0.0, 0.22071917808219177, 0.4765981735159817, 0.3084474885844749, 0.4215753424657534, 0.00011415525114155251, 0.0], [0.0, 0.2734018264840183, 1.282420091324201, 1.1001141552511415, 0.5478881278538813, 0.8067922374429224, 0.0, 0.0], [0.012614155251141552, 0.37876712328767126, 0.996689497716895, 0.8061643835616439, 0.6378424657534246, 0.7328196347031963, 0.0, 0.0], [0.0920662100456621, 0.3589041095890411, 0.4922945205479452, 0.46558219178082194, 0.7174657534246576, 0.04594748858447489, 0.0, 0.0], [0.05382420091324201, 0.20981735159817352, 0.3023972602739726, 0.4072488584474886, 0.5064497716894977, 0.0025684931506849314, 0.0, 0.0], [0.03824200913242009, 0.05051369863013699, 0.024257990867579907, 0.29777397260273974, 0.3158675799086758, 0.0, 0.0, 0.0], [0.0018264840182648401, 0.0, 0.0, 0.03898401826484018, 0.10136986301369863, 0.0, 0.0, 0.0]]}],\n",
       "                        {\"height\": 600, \"template\": {\"data\": {\"bar\": [{\"error_x\": {\"color\": \"#2a3f5f\"}, \"error_y\": {\"color\": \"#2a3f5f\"}, \"marker\": {\"line\": {\"color\": \"#E5ECF6\", \"width\": 0.5}}, \"type\": \"bar\"}], \"barpolar\": [{\"marker\": {\"line\": {\"color\": \"#E5ECF6\", \"width\": 0.5}}, \"type\": \"barpolar\"}], \"carpet\": [{\"aaxis\": {\"endlinecolor\": \"#2a3f5f\", \"gridcolor\": \"white\", \"linecolor\": \"white\", \"minorgridcolor\": \"white\", \"startlinecolor\": \"#2a3f5f\"}, \"baxis\": {\"endlinecolor\": \"#2a3f5f\", \"gridcolor\": \"white\", \"linecolor\": \"white\", \"minorgridcolor\": \"white\", \"startlinecolor\": \"#2a3f5f\"}, \"type\": \"carpet\"}], \"choropleth\": [{\"colorbar\": {\"outlinewidth\": 0, \"ticks\": \"\"}, \"type\": \"choropleth\"}], \"contour\": [{\"colorbar\": {\"outlinewidth\": 0, \"ticks\": \"\"}, \"colorscale\": [[0.0, \"#0d0887\"], [0.1111111111111111, \"#46039f\"], [0.2222222222222222, \"#7201a8\"], [0.3333333333333333, \"#9c179e\"], [0.4444444444444444, \"#bd3786\"], [0.5555555555555556, \"#d8576b\"], [0.6666666666666666, \"#ed7953\"], [0.7777777777777778, \"#fb9f3a\"], [0.8888888888888888, \"#fdca26\"], [1.0, \"#f0f921\"]], \"type\": \"contour\"}], \"contourcarpet\": [{\"colorbar\": {\"outlinewidth\": 0, \"ticks\": \"\"}, \"type\": \"contourcarpet\"}], \"heatmap\": [{\"colorbar\": {\"outlinewidth\": 0, \"ticks\": \"\"}, \"colorscale\": [[0.0, \"#0d0887\"], [0.1111111111111111, \"#46039f\"], [0.2222222222222222, \"#7201a8\"], [0.3333333333333333, \"#9c179e\"], [0.4444444444444444, \"#bd3786\"], [0.5555555555555556, \"#d8576b\"], [0.6666666666666666, \"#ed7953\"], [0.7777777777777778, \"#fb9f3a\"], [0.8888888888888888, \"#fdca26\"], [1.0, \"#f0f921\"]], \"type\": \"heatmap\"}], \"heatmapgl\": [{\"colorbar\": {\"outlinewidth\": 0, \"ticks\": \"\"}, \"colorscale\": [[0.0, \"#0d0887\"], [0.1111111111111111, \"#46039f\"], [0.2222222222222222, \"#7201a8\"], [0.3333333333333333, \"#9c179e\"], [0.4444444444444444, \"#bd3786\"], [0.5555555555555556, \"#d8576b\"], [0.6666666666666666, \"#ed7953\"], [0.7777777777777778, \"#fb9f3a\"], [0.8888888888888888, \"#fdca26\"], [1.0, \"#f0f921\"]], \"type\": \"heatmapgl\"}], \"histogram\": [{\"marker\": {\"colorbar\": {\"outlinewidth\": 0, \"ticks\": \"\"}}, \"type\": \"histogram\"}], \"histogram2d\": [{\"colorbar\": {\"outlinewidth\": 0, \"ticks\": \"\"}, \"colorscale\": [[0.0, \"#0d0887\"], [0.1111111111111111, \"#46039f\"], [0.2222222222222222, \"#7201a8\"], [0.3333333333333333, \"#9c179e\"], [0.4444444444444444, \"#bd3786\"], [0.5555555555555556, \"#d8576b\"], [0.6666666666666666, \"#ed7953\"], [0.7777777777777778, \"#fb9f3a\"], [0.8888888888888888, \"#fdca26\"], [1.0, \"#f0f921\"]], \"type\": \"histogram2d\"}], \"histogram2dcontour\": [{\"colorbar\": {\"outlinewidth\": 0, \"ticks\": \"\"}, \"colorscale\": [[0.0, \"#0d0887\"], [0.1111111111111111, \"#46039f\"], [0.2222222222222222, \"#7201a8\"], [0.3333333333333333, \"#9c179e\"], [0.4444444444444444, \"#bd3786\"], [0.5555555555555556, \"#d8576b\"], [0.6666666666666666, \"#ed7953\"], [0.7777777777777778, \"#fb9f3a\"], [0.8888888888888888, \"#fdca26\"], [1.0, \"#f0f921\"]], \"type\": \"histogram2dcontour\"}], \"mesh3d\": [{\"colorbar\": {\"outlinewidth\": 0, \"ticks\": \"\"}, \"type\": \"mesh3d\"}], \"parcoords\": [{\"line\": {\"colorbar\": {\"outlinewidth\": 0, \"ticks\": \"\"}}, \"type\": \"parcoords\"}], \"pie\": [{\"automargin\": true, \"type\": \"pie\"}], \"scatter\": [{\"marker\": {\"colorbar\": {\"outlinewidth\": 0, \"ticks\": \"\"}}, \"type\": \"scatter\"}], \"scatter3d\": [{\"line\": {\"colorbar\": {\"outlinewidth\": 0, \"ticks\": \"\"}}, \"marker\": {\"colorbar\": {\"outlinewidth\": 0, \"ticks\": \"\"}}, \"type\": \"scatter3d\"}], \"scattercarpet\": [{\"marker\": {\"colorbar\": {\"outlinewidth\": 0, \"ticks\": \"\"}}, \"type\": \"scattercarpet\"}], \"scattergeo\": [{\"marker\": {\"colorbar\": {\"outlinewidth\": 0, \"ticks\": \"\"}}, \"type\": \"scattergeo\"}], \"scattergl\": [{\"marker\": {\"colorbar\": {\"outlinewidth\": 0, \"ticks\": \"\"}}, \"type\": \"scattergl\"}], \"scattermapbox\": [{\"marker\": {\"colorbar\": {\"outlinewidth\": 0, \"ticks\": \"\"}}, \"type\": \"scattermapbox\"}], \"scatterpolar\": [{\"marker\": {\"colorbar\": {\"outlinewidth\": 0, \"ticks\": \"\"}}, \"type\": \"scatterpolar\"}], \"scatterpolargl\": [{\"marker\": {\"colorbar\": {\"outlinewidth\": 0, \"ticks\": \"\"}}, \"type\": \"scatterpolargl\"}], \"scatterternary\": [{\"marker\": {\"colorbar\": {\"outlinewidth\": 0, \"ticks\": \"\"}}, \"type\": \"scatterternary\"}], \"surface\": [{\"colorbar\": {\"outlinewidth\": 0, \"ticks\": \"\"}, \"colorscale\": [[0.0, \"#0d0887\"], [0.1111111111111111, \"#46039f\"], [0.2222222222222222, \"#7201a8\"], [0.3333333333333333, \"#9c179e\"], [0.4444444444444444, \"#bd3786\"], [0.5555555555555556, \"#d8576b\"], [0.6666666666666666, \"#ed7953\"], [0.7777777777777778, \"#fb9f3a\"], [0.8888888888888888, \"#fdca26\"], [1.0, \"#f0f921\"]], \"type\": \"surface\"}], \"table\": [{\"cells\": {\"fill\": {\"color\": \"#EBF0F8\"}, \"line\": {\"color\": \"white\"}}, \"header\": {\"fill\": {\"color\": \"#C8D4E3\"}, \"line\": {\"color\": \"white\"}}, \"type\": \"table\"}]}, \"layout\": {\"annotationdefaults\": {\"arrowcolor\": \"#2a3f5f\", \"arrowhead\": 0, \"arrowwidth\": 1}, \"coloraxis\": {\"colorbar\": {\"outlinewidth\": 0, \"ticks\": \"\"}}, \"colorscale\": {\"diverging\": [[0, \"#8e0152\"], [0.1, \"#c51b7d\"], [0.2, \"#de77ae\"], [0.3, \"#f1b6da\"], [0.4, \"#fde0ef\"], [0.5, \"#f7f7f7\"], [0.6, \"#e6f5d0\"], [0.7, \"#b8e186\"], [0.8, \"#7fbc41\"], [0.9, \"#4d9221\"], [1, \"#276419\"]], \"sequential\": [[0.0, \"#0d0887\"], [0.1111111111111111, \"#46039f\"], [0.2222222222222222, \"#7201a8\"], [0.3333333333333333, \"#9c179e\"], [0.4444444444444444, \"#bd3786\"], [0.5555555555555556, \"#d8576b\"], [0.6666666666666666, \"#ed7953\"], [0.7777777777777778, \"#fb9f3a\"], [0.8888888888888888, \"#fdca26\"], [1.0, \"#f0f921\"]], \"sequentialminus\": [[0.0, \"#0d0887\"], [0.1111111111111111, \"#46039f\"], [0.2222222222222222, \"#7201a8\"], [0.3333333333333333, \"#9c179e\"], [0.4444444444444444, \"#bd3786\"], [0.5555555555555556, \"#d8576b\"], [0.6666666666666666, \"#ed7953\"], [0.7777777777777778, \"#fb9f3a\"], [0.8888888888888888, \"#fdca26\"], [1.0, \"#f0f921\"]]}, \"colorway\": [\"#636efa\", \"#EF553B\", \"#00cc96\", \"#ab63fa\", \"#FFA15A\", \"#19d3f3\", \"#FF6692\", \"#B6E880\", \"#FF97FF\", \"#FECB52\"], \"font\": {\"color\": \"#2a3f5f\"}, \"geo\": {\"bgcolor\": \"white\", \"lakecolor\": \"white\", \"landcolor\": \"#E5ECF6\", \"showlakes\": true, \"showland\": true, \"subunitcolor\": \"white\"}, \"hoverlabel\": {\"align\": \"left\"}, \"hovermode\": \"closest\", \"mapbox\": {\"style\": \"light\"}, \"paper_bgcolor\": \"white\", \"plot_bgcolor\": \"#E5ECF6\", \"polar\": {\"angularaxis\": {\"gridcolor\": \"white\", \"linecolor\": \"white\", \"ticks\": \"\"}, \"bgcolor\": \"#E5ECF6\", \"radialaxis\": {\"gridcolor\": \"white\", \"linecolor\": \"white\", \"ticks\": \"\"}}, \"scene\": {\"xaxis\": {\"backgroundcolor\": \"#E5ECF6\", \"gridcolor\": \"white\", \"gridwidth\": 2, \"linecolor\": \"white\", \"showbackground\": true, \"ticks\": \"\", \"zerolinecolor\": \"white\"}, \"yaxis\": {\"backgroundcolor\": \"#E5ECF6\", \"gridcolor\": \"white\", \"gridwidth\": 2, \"linecolor\": \"white\", \"showbackground\": true, \"ticks\": \"\", \"zerolinecolor\": \"white\"}, \"zaxis\": {\"backgroundcolor\": \"#E5ECF6\", \"gridcolor\": \"white\", \"gridwidth\": 2, \"linecolor\": \"white\", \"showbackground\": true, \"ticks\": \"\", \"zerolinecolor\": \"white\"}}, \"shapedefaults\": {\"line\": {\"color\": \"#2a3f5f\"}}, \"ternary\": {\"aaxis\": {\"gridcolor\": \"white\", \"linecolor\": \"white\", \"ticks\": \"\"}, \"baxis\": {\"gridcolor\": \"white\", \"linecolor\": \"white\", \"ticks\": \"\"}, \"bgcolor\": \"#E5ECF6\", \"caxis\": {\"gridcolor\": \"white\", \"linecolor\": \"white\", \"ticks\": \"\"}}, \"title\": {\"x\": 0.05}, \"xaxis\": {\"automargin\": true, \"gridcolor\": \"white\", \"linecolor\": \"white\", \"ticks\": \"\", \"title\": {\"standoff\": 15}, \"zerolinecolor\": \"white\", \"zerolinewidth\": 2}, \"yaxis\": {\"automargin\": true, \"gridcolor\": \"white\", \"linecolor\": \"white\", \"ticks\": \"\", \"title\": {\"standoff\": 15}, \"zerolinecolor\": \"white\", \"zerolinewidth\": 2}}}, \"yaxis\": {\"scaleanchor\": \"x\", \"scaleratio\": 1.2479890225755224}},\n",
       "                        {\"responsive\": true}\n",
       "                    ).then(function(){\n",
       "                            \n",
       "var gd = document.getElementById('475d3b80-8258-40ae-af43-5270bd4d7afe');\n",
       "var x = new MutationObserver(function (mutations, observer) {{\n",
       "        var display = window.getComputedStyle(gd).display;\n",
       "        if (!display || display === 'none') {{\n",
       "            console.log([gd, 'removed!']);\n",
       "            Plotly.purge(gd);\n",
       "            observer.disconnect();\n",
       "        }}\n",
       "}});\n",
       "\n",
       "// Listen for the removal of the full notebook cells\n",
       "var notebookContainer = gd.closest('#notebook-container');\n",
       "if (notebookContainer) {{\n",
       "    x.observe(notebookContainer, {childList: true});\n",
       "}}\n",
       "\n",
       "// Listen for the clearing of the current output cell\n",
       "var outputEl = gd.closest('.output');\n",
       "if (outputEl) {{\n",
       "    x.observe(outputEl, {childList: true});\n",
       "}}\n",
       "\n",
       "                        })\n",
       "                };\n",
       "                });\n",
       "            </script>\n",
       "        </div>"
      ]
     },
     "metadata": {},
     "output_type": "display_data"
    }
   ],
   "source": [
    "# binned_data, bins = bin_data_frame(df,state)\n",
    "mean_map, xbins, ybins = counts_mean = get_mean_map(df, state)\n",
    "new_heatmap(z=mean_map,x=xbins,y=ybins)"
   ]
  },
  {
   "cell_type": "markdown",
   "metadata": {},
   "source": [
    "### Geo-plots"
   ]
  },
  {
   "cell_type": "code",
   "execution_count": 30,
   "metadata": {},
   "outputs": [],
   "source": [
    "mapbox_access_token = open(\".mapbox_token\").read()\n",
    "# mapbox_access_token = \"open-street-map\"\n",
    "mapbox_access_token\n",
    "\n",
    "on_state = ('#f050ae', 8)\n",
    "off_state = ('#ffab00', 8)\n",
    "\n",
    "mapbox_styles = {\n",
    "    \"sat\": \"mapbox://styles/bernsblack/ckecz0wr52pfc1at7tvu43fmj\", \n",
    "    \"mono\": \"mapbox://styles/bernsblack/ckecyyizy065w19psrikmeo5d\",\n",
    "    \"dark\": \"mapbox://styles/bernsblack/ckeikbchd254619s57np6iyum\",\n",
    "}\n",
    "\n",
    "color_palette = [\"#33a8c7\",\"#52e3e1\",\"#a0e426\",\"#fdf148\",\"#ffab00\",\"#f77976\",\"#f050ae\",\"#d883ff\",\"#9336fd\"]"
   ]
  },
  {
   "cell_type": "code",
   "execution_count": 31,
   "metadata": {},
   "outputs": [
    {
     "data": {
      "application/vnd.jupyter.widget-view+json": {
       "model_id": "b02f737818964079b7a1846467df2952",
       "version_major": 2,
       "version_minor": 0
      },
      "text/plain": [
       "FigureWidget({\n",
       "    'data': [{'colorscale': [[0.0, '#440154'], [0.1111111111111111, '#482878'],\n",
       "               …"
      ]
     },
     "metadata": {},
     "output_type": "display_data"
    }
   ],
   "source": [
    "from utils.plots import hist2d_to_geo\n",
    "# get block infos for whole df\n",
    "\n",
    "sub = filter_frame(df,state).sample(10_000)\n",
    "\n",
    "binned_data, (tbins,cbins,ybins,xbins) = bin_data_frame(sub,state)\n",
    " \n",
    "counts_sum = binned_data.sum(0).sum(0)\n",
    "counts_mean = binned_data.mean(0).mean(0)\n",
    "\n",
    "blocks_geo, blocks_info = hist2d_to_geo(counts_mean,xbins,ybins,filter_zero=True)\n",
    "\n",
    "heatmap_geo = go.Choroplethmapbox(\n",
    "    geojson=blocks_geo,\n",
    "    locations=blocks_info.id,\n",
    "    z=blocks_info.value,\n",
    "    colorscale=\"Viridis\",\n",
    "    zmin=blocks_info.value.min(),\n",
    "    zmax=blocks_info.value.max(),\n",
    "    marker_opacity=0.5,\n",
    "    marker_line_width=0,\n",
    "    name='heatmap',\n",
    "    hoverinfo='text',\n",
    "    hovertext=blocks_info[['y','x','value']],\n",
    ")\n",
    "\n",
    "# scatter_geo = go.Scattermapbox(\n",
    "#     lon=sub.Longitude,\n",
    "#     lat=sub.Latitude,\n",
    "#     opacity=.4,\n",
    "#     hoverinfo='skip',\n",
    "#     name='scatter',\n",
    "# )\n",
    "\n",
    "scatter_geo = []\n",
    "for cat in crime_categories:\n",
    "    tmp = sub[sub[\"Primary Type\"] == cat]\n",
    "    scatter = go.Scattermapbox(\n",
    "        lon=tmp.Longitude,\n",
    "        lat=tmp.Latitude,\n",
    "        opacity=.4,\n",
    "        hoverinfo='skip',\n",
    "        name=cat,\n",
    "    )\n",
    "    scatter_geo.append(scatter)\n",
    "    \n",
    "    \n",
    "\n",
    "fig_geo = go.FigureWidget(data=[heatmap_geo, *scatter_geo])\n",
    "\n",
    "fig_geo.update_layout(\n",
    "    clickmode='event+select',\n",
    "    mapbox_style=mapbox_styles[\"sat\"],\n",
    "    mapbox_accesstoken=mapbox_access_token,\n",
    "    mapbox_zoom=10,\n",
    "    mapbox_center = {\"lat\": np.mean(ybins), \"lon\": np.mean(xbins)},\n",
    "    margin={\"r\":0,\"t\":30,\"l\":0,\"b\":10},\n",
    "    height=500,\n",
    "    showlegend=True,\n",
    "    legend=dict(\n",
    "        yanchor=\"top\",\n",
    "        y=0.99,\n",
    "        xanchor=\"left\",\n",
    "        x=0.01,\n",
    "    ),\n",
    ")\n",
    "\n",
    "heatmap_geo = fig_geo.data[0]  \n",
    "\n",
    "# def heatmap_geo_on_select(trace,points,selector):\n",
    "#     global state\n",
    "    \n",
    "#     inds = points.point_inds\n",
    "#     selection = blocks_info.iloc[inds]\n",
    "#     _,_,f_x_min,f_y_min = selection.min()\n",
    "#     _,_,f_x_max,f_y_max = selection.max()\n",
    "\n",
    "#     state.lon_min, state.lon_max = xbins[[f_x_min,f_x_max]]\n",
    "#     state.lat_min, state.lat_max = ybins[[f_y_min,f_y_max]]\n",
    "    \n",
    "      \n",
    "# heatmap_geo.on_selection(heatmap_geo_on_select)\n",
    "\n",
    "fig_geo"
   ]
  },
  {
   "cell_type": "code",
   "execution_count": null,
   "metadata": {},
   "outputs": [],
   "source": []
  }
 ],
 "metadata": {
  "kernelspec": {
   "display_name": "Python 3",
   "language": "python",
   "name": "python3"
  },
  "language_info": {
   "codemirror_mode": {
    "name": "ipython",
    "version": 3
   },
   "file_extension": ".py",
   "mimetype": "text/x-python",
   "name": "python",
   "nbconvert_exporter": "python",
   "pygments_lexer": "ipython3",
   "version": "3.8.3"
  },
  "varInspector": {
   "cols": {
    "lenName": 16,
    "lenType": 16,
    "lenVar": 40
   },
   "kernels_config": {
    "python": {
     "delete_cmd_postfix": "",
     "delete_cmd_prefix": "del ",
     "library": "var_list.py",
     "varRefreshCmd": "print(var_dic_list())"
    },
    "r": {
     "delete_cmd_postfix": ") ",
     "delete_cmd_prefix": "rm(",
     "library": "var_list.r",
     "varRefreshCmd": "cat(var_dic_list()) "
    }
   },
   "types_to_exclude": [
    "module",
    "function",
    "builtin_function_or_method",
    "instance",
    "_Feature"
   ],
   "window_display": false
  }
 },
 "nbformat": 4,
 "nbformat_minor": 4
}
