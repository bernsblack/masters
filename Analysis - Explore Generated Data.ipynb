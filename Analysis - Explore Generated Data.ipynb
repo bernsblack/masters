{
 "cells": [
  {
   "cell_type": "code",
   "execution_count": 1,
   "metadata": {},
   "outputs": [],
   "source": [
    "import matplotlib.pyplot as plt\n",
    "%matplotlib inline\n",
    "import os\n",
    "import logging as log\n",
    "from time import strftime\n",
    "from copy import deepcopy\n",
    "from torch import nn, optim\n",
    "import torch.nn.functional as F\n",
    "from utils.data_processing import *\n",
    "from logger.logger import setup_logging\n",
    "from utils.configs import BaseConf\n",
    "from utils.metrics import best_threshold\n",
    "from utils.utils import write_json, Timer\n",
    "from dataloaders.grid_loader import GridDataLoaders\n",
    "from datasets.grid_dataset import GridDataGroup\n",
    "from utils.metrics import PRCurvePlotter, ROCCurvePlotter, LossPlotter, best_threshold, get_y_pred, \\\n",
    "                                get_y_pred_by_thresholds, best_thresholds\n",
    "from sklearn.metrics import accuracy_score, average_precision_score, roc_auc_score\n",
    "from models.model_result import ModelResult, ModelMetrics\n",
    "from trainers.generic_trainer import train_model\n",
    "from utils.plots import im\n",
    "from utils.utils import pshape, get_data_sub_paths, by_ref\n",
    "from models.model_result import save_metrics,save_results, compare_models, compare_all_models, get_metrics_table, \\\n",
    "                            get_models_metrics, get_models_results\n",
    "from models.st_resnet_models import STResNet, STResNetExtra\n",
    "from models.st_resnet_models import train_epoch_for_st_res_net, train_epoch_for_st_res_net_extra\n",
    "from models.st_resnet_models import evaluate_st_res_net, evaluate_st_res_net_extra\n",
    "import pandas as pd\n",
    "from pprint import pprint\n",
    "from torch.optim import lr_scheduler\n",
    "pd.set_option('display.max_columns', None)"
   ]
  },
  {
   "cell_type": "code",
   "execution_count": 2,
   "metadata": {},
   "outputs": [
    {
     "name": "stdout",
     "output_type": "stream",
     "text": [
      "['T1H-X3400M-Y3520M_2014-01-01_2016-01-01_#7cd',\n",
      " 'T24H-X255M-Y220M_2012-01-01_2019-01-01_#c97',\n",
      " 'T24H-X425M-Y440M_2012-01-01_2019-01-01_#827',\n",
      " 'T24H-X850M-Y880M_2012-01-01_2019-01-01_#826']\n"
     ]
    }
   ],
   "source": [
    "data_sub_paths = get_data_sub_paths()\n",
    "pprint(sorted(data_sub_paths))"
   ]
  },
  {
   "cell_type": "code",
   "execution_count": 3,
   "metadata": {},
   "outputs": [
    {
     "name": "stdout",
     "output_type": "stream",
     "text": [
      "using: T24H-X255M-Y220M_2012-01-01_2019-01-01_#c97\n"
     ]
    }
   ],
   "source": [
    "data_sub_path = by_ref(\"c97\")[0]\n",
    "print(f\"using: {data_sub_path}\")"
   ]
  },
  {
   "cell_type": "code",
   "execution_count": 4,
   "metadata": {},
   "outputs": [
    {
     "name": "stdout",
     "output_type": "stream",
     "text": [
      "2020-10-23T12:36:16 | root | INFO | =====================================BEGIN=====================================\n",
      "2020-10-23T12:36:16 | root | INFO | Device: cpu\n",
      "2020-10-23T12:36:16 | root | INFO | Initialising Grid Data Group\n",
      "2020-10-23T12:36:16 | root | INFO | \tt_range: (2558,) 2012-01-01 00:00:00 -> 2019-01-01 00:00:00\n",
      "2020-10-23T12:36:16 | root | INFO | \ttarget_len:\t2515\t(100.000%)\n",
      "2020-10-23T12:36:16 | root | INFO | \ttrn_val_size:\t2155\t(85.686%)\n",
      "2020-10-23T12:36:16 | root | INFO | \ttrn_size:\t1617\t(64.294%)\n",
      "2020-10-23T12:36:16 | root | INFO | \tval_size:\t538\t(21.392%)\n",
      "2020-10-23T12:36:16 | root | INFO | \ttst_size:\t360 \t(14.314%)\n"
     ]
    }
   ],
   "source": [
    "conf = BaseConf()\n",
    "\n",
    "conf.model_name = \"explore-data\"  # needs to be created\n",
    "\n",
    "conf.data_path = f\"./data/processed/{data_sub_path}/\"\n",
    "\n",
    "if not os.path.exists(conf.data_path):\n",
    "    raise Exception(f\"Directory ({conf.data_path}) needs to exist.\")\n",
    "\n",
    "conf.model_path =  f\"{conf.data_path}models/{conf.model_name}/\"\n",
    "os.makedirs(conf.data_path, exist_ok=True)\n",
    "os.makedirs(conf.model_path, exist_ok=True)\n",
    "\n",
    "# logging config is set globally thus we only need to call this in this file\n",
    "# imported function logs will follow the configuration\n",
    "setup_logging(save_dir=conf.model_path, log_config='./logger/standard_logger_config.json', default_level=log.INFO)\n",
    "log.info(\"=====================================BEGIN=====================================\")\n",
    "\n",
    "info = deepcopy(conf.__dict__)\n",
    "info[\"start_time\"] = strftime(\"%Y-%m-%dT%H:%M:%S\")\n",
    "\n",
    "# DATA LOADER SETUP\n",
    "np.random.seed(conf.seed)\n",
    "use_cuda = False # torch.cuda.is_available()\n",
    "torch.manual_seed(conf.seed)\n",
    "if use_cuda:\n",
    "    torch.cuda.manual_seed(conf.seed)\n",
    "    torch.backends.cudnn.deterministic = True\n",
    "    torch.backends.cudnn.benchmark = False\n",
    "    \n",
    "\n",
    "device = torch.device(\"cuda:0\" if use_cuda else \"cpu\")\n",
    "log.info(f\"Device: {device}\")\n",
    "info[\"device\"] = device.type\n",
    "conf.device = device\n",
    "\n",
    "conf.batch_size = 128\n",
    "\n",
    "# CRIME DATA\n",
    "data_group = GridDataGroup(data_path=conf.data_path,\n",
    "                           conf=conf)\n",
    "\n",
    "loaders = GridDataLoaders(data_group=data_group,\n",
    "                          conf=conf)"
   ]
  },
  {
   "cell_type": "code",
   "execution_count": 5,
   "metadata": {},
   "outputs": [
    {
     "data": {
      "application/vnd.jupyter.widget-view+json": {
       "model_id": "c17137947c3f4531acfaac62f581da37",
       "version_major": 2,
       "version_minor": 0
      },
      "text/plain": [
       "VBox(children=(Label(value='Date: Mon Jan  2 00:00:00 2012'), HBox(children=(Play(value=0, description='Press …"
      ]
     },
     "metadata": {},
     "output_type": "display_data"
    }
   ],
   "source": [
    "from utils.interactive import InteractiveHeatmaps\n",
    "\n",
    "InteractiveHeatmaps(\n",
    "    date_range=data_group.t_range, \n",
    "    col_wrap=1,\n",
    "    Counts=data_group.crimes[:,0],\n",
    ").app"
   ]
  },
  {
   "cell_type": "code",
   "execution_count": 6,
   "metadata": {},
   "outputs": [],
   "source": [
    "grids = data_group.to_counts(sparse_data=data_group.crimes)"
   ]
  },
  {
   "cell_type": "code",
   "execution_count": 7,
   "metadata": {},
   "outputs": [
    {
     "data": {
      "application/vnd.jupyter.widget-view+json": {
       "model_id": "decb066500264da490bd60d7c697813f",
       "version_major": 2,
       "version_minor": 0
      },
      "text/plain": [
       "Box(children=(FigureWidget({\n",
       "    'data': [{'type': 'heatmap',\n",
       "              'uid': 'cc3523be-6d41-4bef-892d-1e…"
      ]
     },
     "metadata": {},
     "output_type": "display_data"
    }
   ],
   "source": [
    "from utils.interactive import interactive_grid_visualiser\n",
    "\n",
    "interactive_grid_visualiser(\n",
    "    grids=grids[:,0],#np.flipud(grids[:,0]), \n",
    "    t_range=data_group.t_range, \n",
    "    mutual_info=True,\n",
    "    max_offset=365,\n",
    ")\n"
   ]
  },
  {
   "cell_type": "code",
   "execution_count": null,
   "metadata": {},
   "outputs": [],
   "source": []
  }
 ],
 "metadata": {
  "kernelspec": {
   "display_name": "Python 3",
   "language": "python",
   "name": "python3"
  },
  "language_info": {
   "codemirror_mode": {
    "name": "ipython",
    "version": 3
   },
   "file_extension": ".py",
   "mimetype": "text/x-python",
   "name": "python",
   "nbconvert_exporter": "python",
   "pygments_lexer": "ipython3",
   "version": "3.8.3"
  }
 },
 "nbformat": 4,
 "nbformat_minor": 4
}
