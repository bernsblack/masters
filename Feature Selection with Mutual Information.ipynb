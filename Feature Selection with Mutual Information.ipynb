{
 "cells": [
  {
   "cell_type": "markdown",
   "metadata": {},
   "source": [
    "## Feature Selection with Mutual Information\n",
    "\n",
    "The aim of this notebook:\n",
    "- Look at column features and how they influence a cell's self-exciting property (mutual info)"
   ]
  },
  {
   "cell_type": "code",
   "execution_count": 1,
   "metadata": {},
   "outputs": [],
   "source": [
    "import os\n",
    "import logging as log\n",
    "from time import strftime\n",
    "from copy import deepcopy\n",
    "from torch import nn, optim\n",
    "import torch.nn.functional as F\n",
    "from utils.data_processing import *\n",
    "from logger.logger import setup_logging\n",
    "from utils.configs import BaseConf\n",
    "from utils.utils import write_json, Timer, get_data_sub_paths, pshape, get_data_resolutions\n",
    "from models.kangkang_fnn_models import KangFeedForwardNetwork, SimpleKangFNN\n",
    "from dataloaders.flat_loader import FlatDataLoaders, MockLoader, MockLoaders\n",
    "from datasets.flat_dataset import FlatDataGroup\n",
    "\n",
    "from dataloaders.cell_loader import CellDataLoaders\n",
    "from datasets.cell_dataset import CellDataGroup\n",
    "\n",
    "from utils.metrics import PRCurvePlotter, ROCCurvePlotter, LossPlotter, PerTimeStepPlotter\n",
    "from sklearn.metrics import accuracy_score, average_precision_score, roc_auc_score\n",
    "from models.model_result import ModelResult, ModelMetrics, save_metrics\n",
    "from utils.mock_data import mock_fnn_data_classification\n",
    "from utils.plots import im\n",
    "from trainers.generic_trainer import train_model\n",
    "from models.kangkang_fnn_models import train_epoch_for_fnn\n",
    "from utils.configs import BaseConf\n",
    "from utils.metrics import best_threshold, get_y_pred\n",
    "from dataloaders.grid_loader import GridDataLoaders\n",
    "from datasets.grid_dataset import GridDataGroup\n",
    "\n",
    "from utils.mock_data import mock_fnn_data_classification\n",
    "import matplotlib.pyplot as plt\n",
    "from utils.plots import im\n",
    "from utils.metrics import best_threshold, get_y_pred, get_y_pred_by_thresholds, best_thresholds\n",
    "from models.model_result import ModelResult, ModelMetrics, save_metrics, compare_all_models,\\\n",
    "                                get_models_metrics, get_models_results\n",
    "from pprint import pprint\n",
    "from time import time\n",
    "from utils.setup import setup"
   ]
  },
  {
   "cell_type": "code",
   "execution_count": 20,
   "metadata": {},
   "outputs": [],
   "source": [
    "conf = BaseConf()\n",
    "\n",
    "conf.model_name = f\"Mutual Info\"\n",
    "\n",
    "conf.data_path = f\"./data/processed/{data_sub_path}/\"\n",
    "\n",
    "if not os.path.exists(conf.data_path):\n",
    "    raise Exception(f\"Directory ({conf.data_path}) needs to exist.\")\n",
    "\n",
    "conf.model_path = f\"{conf.data_path}models/{conf.model_name}/\"\n",
    "os.makedirs(conf.data_path, exist_ok=True)\n",
    "os.makedirs(conf.model_path, exist_ok=True)\n",
    "\n",
    "setup_logging(save_dir=conf.model_path,\n",
    "              log_config='./logger/standard_logger_config.json',\n",
    "              default_level=log.INFO)\n",
    "\n",
    "with np.load(conf.data_path + \"generated_data.npz\") as zip_file:  # context helper ensures zip_file is closed\n",
    "    sparse_crimes = zip_file[\"crime_types_grids\"]\n",
    "    crime_feature_indices = zip_file[\"crime_feature_indices\"]\n",
    "\n",
    "\n",
    "shaper = Shaper(data=sparse_crimes,\n",
    "                conf=conf)\n",
    "\n",
    "#     return conf, shaper, sparse_crimes, crime_feature_indices\n"
   ]
  },
  {
   "cell_type": "code",
   "execution_count": null,
   "metadata": {},
   "outputs": [],
   "source": []
  },
  {
   "cell_type": "code",
   "execution_count": 2,
   "metadata": {},
   "outputs": [
    {
     "name": "stdout",
     "output_type": "stream",
     "text": [
      "array(['T12H-X850M-Y880M_2013-01-01_2017-01-01',\n",
      "       'T1H-X1700M-Y1760M_2013-01-01_2017-01-01',\n",
      "       'T24H-X1275M-Y1320M_2012-01-01_2019-01-01',\n",
      "       'T24H-X1700M-Y1760M_2012-01-01_2019-01-01',\n",
      "       'T24H-X255M-Y220M_2013-01-01_2017-01-01',\n",
      "       'T24H-X425M-Y440M_2012-01-01_2019-01-01',\n",
      "       'T24H-X425M-Y440M_2013-01-01_2017-01-01',\n",
      "       'T24H-X850M-Y880M_2012-01-01_2019-01-01',\n",
      "       'T24H-X850M-Y880M_2013-01-01_2017-01-01',\n",
      "       'T24H-X85M-Y110M_2013-01-01_2017-01-01',\n",
      "       'T3H-X850M-Y880M_2013-01-01_2017-01-01',\n",
      "       'T6H-X850M-Y880M_2013-01-01_2017-01-01'], dtype='<U40')\n"
     ]
    }
   ],
   "source": [
    "data_sub_paths = get_data_sub_paths()\n",
    "pprint(np.sort(data_sub_paths))\n",
    "\n",
    "data_sub_path = 'T24H-X850M-Y880M_2013-01-01_2017-01-01'"
   ]
  },
  {
   "cell_type": "code",
   "execution_count": 3,
   "metadata": {},
   "outputs": [],
   "source": [
    "conf, shaper, sparse_crimes, crime_feature_indices = setup(data_sub_path=data_sub_path)"
   ]
  },
  {
   "cell_type": "code",
   "execution_count": 4,
   "metadata": {},
   "outputs": [],
   "source": [
    "from utils.preprocessing import Shaper"
   ]
  },
  {
   "cell_type": "code",
   "execution_count": 5,
   "metadata": {},
   "outputs": [
    {
     "name": "stdout",
     "output_type": "stream",
     "text": [
      "'TOTAL':0,\n",
      "'THEFT':1,\n",
      "'BATTERY':2,\n",
      "'CRIMINAL DAMAGE':3,\n",
      "'NARCOTICS':4,\n",
      "'ASSAULT':5,\n",
      "'BURGLARY':6,\n",
      "'MOTOR VEHICLE THEFT':7,\n",
      "'ROBBERY':8,\n",
      "'Arrest':9,\n"
     ]
    }
   ],
   "source": [
    "for i,k in enumerate(crime_feature_indices):\n",
    "    print(f\"'{k}':{i},\")"
   ]
  },
  {
   "cell_type": "code",
   "execution_count": 6,
   "metadata": {},
   "outputs": [
    {
     "name": "stdout",
     "output_type": "stream",
     "text": [
      "0\n",
      "-1\n"
     ]
    }
   ],
   "source": [
    "i = 0\n",
    "crimes = sparse_crimes[:,i:i+1]\n",
    "print(conf.shaper_threshold) # sum over all time should be above this threshold\n",
    "print(conf.shaper_top_k) # if larger than 0 we filter out only the top k most active cells of the data grid\n",
    "new_shaper = Shaper(crimes, conf)"
   ]
  },
  {
   "cell_type": "code",
   "execution_count": 11,
   "metadata": {},
   "outputs": [],
   "source": [
    "dense_crimes = shaper.squeeze(sparse_crimes)\n",
    "from utils.utils import describe_array"
   ]
  },
  {
   "cell_type": "code",
   "execution_count": 19,
   "metadata": {},
   "outputs": [
    {
     "name": "stdout",
     "output_type": "stream",
     "text": [
      "____________________________________________________________\n",
      "{'max': 43.0,\n",
      " 'mean': 0.084798899185383,\n",
      " 'min': 0.0,\n",
      " 'shape': (1461, 772),\n",
      " 'std': 0.37116642461852944}\n",
      "____________________________________________________________\n"
     ]
    }
   ],
   "source": [
    "print(describe_array(dense_crimes[:,4]))"
   ]
  },
  {
   "cell_type": "code",
   "execution_count": 56,
   "metadata": {},
   "outputs": [],
   "source": [
    "dense_crimes[dense_crimes > 0] = 1"
   ]
  },
  {
   "cell_type": "code",
   "execution_count": 57,
   "metadata": {},
   "outputs": [],
   "source": [
    "c_now = dense_crimes[:-1,1:-1]\n",
    "c_prev = dense_crimes[1:,1:-1]"
   ]
  },
  {
   "cell_type": "code",
   "execution_count": 58,
   "metadata": {},
   "outputs": [],
   "source": [
    "c_now_flt = np.reshape(c_now.swapaxes(1,2),(-1,8))\n",
    "c_prev_flt = np.reshape(c_prev.swapaxes(1,2),(-1,8))"
   ]
  },
  {
   "cell_type": "code",
   "execution_count": 59,
   "metadata": {},
   "outputs": [],
   "source": [
    "df_now = pd.DataFrame(c_now_flt,columns=crime_feature_indices[1:-1])\n",
    "df_prev = pd.DataFrame(c_prev_flt,columns=crime_feature_indices[1:-1])"
   ]
  },
  {
   "cell_type": "code",
   "execution_count": 60,
   "metadata": {},
   "outputs": [
    {
     "data": {
      "text/html": [
       "<div>\n",
       "<style scoped>\n",
       "    .dataframe tbody tr th:only-of-type {\n",
       "        vertical-align: middle;\n",
       "    }\n",
       "\n",
       "    .dataframe tbody tr th {\n",
       "        vertical-align: top;\n",
       "    }\n",
       "\n",
       "    .dataframe thead th {\n",
       "        text-align: right;\n",
       "    }\n",
       "</style>\n",
       "<table border=\"1\" class=\"dataframe\">\n",
       "  <thead>\n",
       "    <tr style=\"text-align: right;\">\n",
       "      <th></th>\n",
       "      <th>THEFT</th>\n",
       "      <th>BATTERY</th>\n",
       "      <th>CRIMINAL DAMAGE</th>\n",
       "      <th>NARCOTICS</th>\n",
       "      <th>ASSAULT</th>\n",
       "      <th>BURGLARY</th>\n",
       "      <th>MOTOR VEHICLE THEFT</th>\n",
       "      <th>ROBBERY</th>\n",
       "    </tr>\n",
       "  </thead>\n",
       "  <tbody>\n",
       "    <tr>\n",
       "      <th>THEFT</th>\n",
       "      <td>1.000000</td>\n",
       "      <td>0.105854</td>\n",
       "      <td>0.075943</td>\n",
       "      <td>0.068029</td>\n",
       "      <td>0.066417</td>\n",
       "      <td>0.050817</td>\n",
       "      <td>0.047021</td>\n",
       "      <td>0.060383</td>\n",
       "    </tr>\n",
       "    <tr>\n",
       "      <th>BATTERY</th>\n",
       "      <td>0.105854</td>\n",
       "      <td>1.000000</td>\n",
       "      <td>0.101798</td>\n",
       "      <td>0.139691</td>\n",
       "      <td>0.104406</td>\n",
       "      <td>0.061343</td>\n",
       "      <td>0.049696</td>\n",
       "      <td>0.079825</td>\n",
       "    </tr>\n",
       "    <tr>\n",
       "      <th>CRIMINAL DAMAGE</th>\n",
       "      <td>0.075943</td>\n",
       "      <td>0.101798</td>\n",
       "      <td>1.000000</td>\n",
       "      <td>0.074156</td>\n",
       "      <td>0.061469</td>\n",
       "      <td>0.051847</td>\n",
       "      <td>0.038608</td>\n",
       "      <td>0.047310</td>\n",
       "    </tr>\n",
       "    <tr>\n",
       "      <th>NARCOTICS</th>\n",
       "      <td>0.068029</td>\n",
       "      <td>0.139691</td>\n",
       "      <td>0.074156</td>\n",
       "      <td>1.000000</td>\n",
       "      <td>0.086472</td>\n",
       "      <td>0.047265</td>\n",
       "      <td>0.044761</td>\n",
       "      <td>0.069765</td>\n",
       "    </tr>\n",
       "    <tr>\n",
       "      <th>ASSAULT</th>\n",
       "      <td>0.066417</td>\n",
       "      <td>0.104406</td>\n",
       "      <td>0.061469</td>\n",
       "      <td>0.086472</td>\n",
       "      <td>1.000000</td>\n",
       "      <td>0.036869</td>\n",
       "      <td>0.031553</td>\n",
       "      <td>0.050848</td>\n",
       "    </tr>\n",
       "    <tr>\n",
       "      <th>BURGLARY</th>\n",
       "      <td>0.050817</td>\n",
       "      <td>0.061343</td>\n",
       "      <td>0.051847</td>\n",
       "      <td>0.047265</td>\n",
       "      <td>0.036869</td>\n",
       "      <td>1.000000</td>\n",
       "      <td>0.028230</td>\n",
       "      <td>0.033261</td>\n",
       "    </tr>\n",
       "    <tr>\n",
       "      <th>MOTOR VEHICLE THEFT</th>\n",
       "      <td>0.047021</td>\n",
       "      <td>0.049696</td>\n",
       "      <td>0.038608</td>\n",
       "      <td>0.044761</td>\n",
       "      <td>0.031553</td>\n",
       "      <td>0.028230</td>\n",
       "      <td>1.000000</td>\n",
       "      <td>0.029594</td>\n",
       "    </tr>\n",
       "    <tr>\n",
       "      <th>ROBBERY</th>\n",
       "      <td>0.060383</td>\n",
       "      <td>0.079825</td>\n",
       "      <td>0.047310</td>\n",
       "      <td>0.069765</td>\n",
       "      <td>0.050848</td>\n",
       "      <td>0.033261</td>\n",
       "      <td>0.029594</td>\n",
       "      <td>1.000000</td>\n",
       "    </tr>\n",
       "  </tbody>\n",
       "</table>\n",
       "</div>"
      ],
      "text/plain": [
       "                        THEFT   BATTERY  CRIMINAL DAMAGE  NARCOTICS   ASSAULT  \\\n",
       "THEFT                1.000000  0.105854         0.075943   0.068029  0.066417   \n",
       "BATTERY              0.105854  1.000000         0.101798   0.139691  0.104406   \n",
       "CRIMINAL DAMAGE      0.075943  0.101798         1.000000   0.074156  0.061469   \n",
       "NARCOTICS            0.068029  0.139691         0.074156   1.000000  0.086472   \n",
       "ASSAULT              0.066417  0.104406         0.061469   0.086472  1.000000   \n",
       "BURGLARY             0.050817  0.061343         0.051847   0.047265  0.036869   \n",
       "MOTOR VEHICLE THEFT  0.047021  0.049696         0.038608   0.044761  0.031553   \n",
       "ROBBERY              0.060383  0.079825         0.047310   0.069765  0.050848   \n",
       "\n",
       "                     BURGLARY  MOTOR VEHICLE THEFT   ROBBERY  \n",
       "THEFT                0.050817             0.047021  0.060383  \n",
       "BATTERY              0.061343             0.049696  0.079825  \n",
       "CRIMINAL DAMAGE      0.051847             0.038608  0.047310  \n",
       "NARCOTICS            0.047265             0.044761  0.069765  \n",
       "ASSAULT              0.036869             0.031553  0.050848  \n",
       "BURGLARY             1.000000             0.028230  0.033261  \n",
       "MOTOR VEHICLE THEFT  0.028230             1.000000  0.029594  \n",
       "ROBBERY              0.033261             0.029594  1.000000  "
      ]
     },
     "execution_count": 60,
     "metadata": {},
     "output_type": "execute_result"
    }
   ],
   "source": [
    "df_now.corr()"
   ]
  },
  {
   "cell_type": "code",
   "execution_count": null,
   "metadata": {},
   "outputs": [],
   "source": []
  },
  {
   "cell_type": "code",
   "execution_count": null,
   "metadata": {},
   "outputs": [],
   "source": []
  },
  {
   "cell_type": "code",
   "execution_count": null,
   "metadata": {},
   "outputs": [],
   "source": []
  },
  {
   "cell_type": "code",
   "execution_count": 66,
   "metadata": {},
   "outputs": [],
   "source": [
    "X = dense_crimes[:-1,:-1].swapaxes(1,2).reshape(-1,9)\n",
    "y = dense_crimes[1:,0].reshape(-1)\n",
    "y[y > 0] = 1\n",
    "from sklearn.feature_selection import mutual_info_classif"
   ]
  },
  {
   "cell_type": "code",
   "execution_count": 67,
   "metadata": {},
   "outputs": [
    {
     "data": {
      "text/plain": [
       "array([0.07804144, 0.02078052, 0.02245209, 0.01046461, 0.01601758,\n",
       "       0.0073597 , 0.00517525, 0.00221414, 0.00494581])"
      ]
     },
     "execution_count": 67,
     "metadata": {},
     "output_type": "execute_result"
    }
   ],
   "source": [
    "mutual_info_classif(X,y)"
   ]
  },
  {
   "cell_type": "code",
   "execution_count": null,
   "metadata": {},
   "outputs": [],
   "source": []
  },
  {
   "cell_type": "markdown",
   "metadata": {},
   "source": [
    "# Interactive Plotly Plots"
   ]
  },
  {
   "cell_type": "code",
   "execution_count": 1,
   "metadata": {},
   "outputs": [],
   "source": [
    "# importing ogirinal data\n",
    "import pandas as pd\n",
    "import numpy as np\n",
    "import plotly.graph_objs as go"
   ]
  },
  {
   "cell_type": "code",
   "execution_count": 2,
   "metadata": {},
   "outputs": [],
   "source": [
    "color_palette = [\"#33a8c7\",\"#52e3e1\",\"#a0e426\",\"#fdf148\",\"#ffab00\",\"#f77976\",\"#f050ae\",\"#d883ff\",\"#9336fd\"]"
   ]
  },
  {
   "cell_type": "code",
   "execution_count": 3,
   "metadata": {},
   "outputs": [],
   "source": [
    "df = pd.read_csv(\"data/original/Crimes_Chicago_2001_to_2019.csv\")\n",
    "crime_type_counts = df['Primary Type'].value_counts()\n",
    "crime_types = list(crime_type_counts.index)[:len(color_palette)]\n",
    "df = df[df['Primary Type'].isin(crime_types)]\n",
    "df = df[[\n",
    " 'ID',\n",
    " 'Date',\n",
    " 'Primary Type',\n",
    " 'Arrest',\n",
    " 'Year',\n",
    " 'Latitude',\n",
    " 'Longitude',\n",
    " 'Census Tracts',\n",
    "]].dropna()\n",
    "\n",
    "df['Date'] = pd.to_datetime(df['Date'])"
   ]
  },
  {
   "cell_type": "code",
   "execution_count": 4,
   "metadata": {},
   "outputs": [],
   "source": [
    "color_map = {k:v for k,v in zip(crime_types, color_palette)}\n",
    "def get_color(t):\n",
    "    return color_map.get(t, '#f050ae')\n",
    "\n",
    "df['crime_c'] = df['Primary Type'].apply(get_color).to_list()"
   ]
  },
  {
   "cell_type": "code",
   "execution_count": 67,
   "metadata": {},
   "outputs": [
    {
     "name": "stdout",
     "output_type": "stream",
     "text": [
      "24000\n"
     ]
    },
    {
     "data": {
      "text/plain": [
       "['ID',\n",
       " 'Date',\n",
       " 'Primary Type',\n",
       " 'Arrest',\n",
       " 'Year',\n",
       " 'Latitude',\n",
       " 'Longitude',\n",
       " 'Census Tracts',\n",
       " 'crime_c']"
      ]
     },
     "execution_count": 67,
     "metadata": {},
     "output_type": "execute_result"
    }
   ],
   "source": [
    "d = df.query('Year == 2014').sample(n=24000)\n",
    "lat = d['Latitude']\n",
    "lon = d['Longitude']\n",
    "label = d[['Primary Type', 'Date']]\n",
    "center = d[['Longitude', 'Latitude']].mean()\n",
    "c = d['crime_c']\n",
    "n = len(d)\n",
    "print(len(d))\n",
    "d.columns.to_list()"
   ]
  },
  {
   "cell_type": "code",
   "execution_count": 68,
   "metadata": {},
   "outputs": [
    {
     "data": {
      "text/plain": [
       "'pk.eyJ1IjoiYmVybnNibGFjayIsImEiOiJjajFidWIyZmgwMDRpMzJwZmd3NW90dDM4In0.dpYqqUJsBxuc6DBqTsHFJw\\n'"
      ]
     },
     "execution_count": 68,
     "metadata": {},
     "output_type": "execute_result"
    }
   ],
   "source": [
    "mapbox_access_token = open(\".mapbox_token\").read()\n",
    "mapbox_access_token"
   ]
  },
  {
   "cell_type": "code",
   "execution_count": 69,
   "metadata": {},
   "outputs": [],
   "source": [
    "from ipywidgets import widgets"
   ]
  },
  {
   "cell_type": "code",
   "execution_count": 101,
   "metadata": {},
   "outputs": [
    {
     "data": {
      "text/plain": [
       "Int64Index([1242097, 1387640, 1267754, 1350526, 1440837, 1221929, 1291526,\n",
       "            1337814, 1318163, 1356655,\n",
       "            ...\n",
       "            1334811, 1409101, 1219950, 1262991, 1320815, 1455033, 1232123,\n",
       "            1233096, 1440912, 1380190],\n",
       "           dtype='int64', length=24000)"
      ]
     },
     "execution_count": 101,
     "metadata": {},
     "output_type": "execute_result"
    }
   ],
   "source": [
    "d.reindex(axis='Date').index"
   ]
  },
  {
   "cell_type": "code",
   "execution_count": 88,
   "metadata": {},
   "outputs": [
    {
     "data": {
      "application/vnd.jupyter.widget-view+json": {
       "model_id": "83952ccda2a54deba0b56fdfaad87223",
       "version_major": 2,
       "version_minor": 0
      },
      "text/plain": [
       "VBox(children=(Play(value=1, description='Press play', interval=500, max=12, min=1), HBox(children=(IntSlider(…"
      ]
     },
     "metadata": {},
     "output_type": "display_data"
    }
   ],
   "source": [
    "on_state = ('#f050ae', 8)\n",
    "off_state = ('#ffab00', 8)\n",
    "\n",
    "mapbox_styles = {\n",
    "    \"sat\": \"mapbox://styles/bernsblack/ckecz0wr52pfc1at7tvu43fmj\", \n",
    "    \"mono\": \"mapbox://styles/bernsblack/ckecyyizy065w19psrikmeo5d\",\n",
    "    \"dark\": \"mapbox://styles/bernsblack/ckeikbchd254619s57np6iyum\",\n",
    "}\n",
    "\n",
    "curve = go.Scatter(\n",
    "    x=[0,1,2],\n",
    "    y=[1,2,3],\n",
    "    name='mean over time',\n",
    "    xaxis='x2',\n",
    "    yaxis='y2',\n",
    ")\n",
    "\n",
    "scatter = go.Scattermapbox(\n",
    "        lat=lat.to_numpy(),\n",
    "        lon=lon.to_numpy(),\n",
    "        mode='markers',\n",
    "        marker=dict(\n",
    "            color=[off_state[0]]*n,\n",
    "            size=[off_state[1]]*n,\n",
    "            opacity=[0.7]*n,\n",
    "        ),\n",
    "        text=label,\n",
    ")\n",
    "\n",
    "# scatter = go.Scatter(\n",
    "# #         lon=lon,    \n",
    "# #         lat=lat,\n",
    "#         x=lon,    \n",
    "#         y=lat,\n",
    "#         mode='markers',\n",
    "#         marker=dict(\n",
    "#             color=[off_state[0]]*n,\n",
    "#             size=[off_state[1]]*n,\n",
    "#             opacity=[0.6]*n,\n",
    "#         ),\n",
    "#         text=label,\n",
    "# )\n",
    "\n",
    "\n",
    "ybins = dict(start=lat.min(),end=lat.max()+.1,size=.001)\n",
    "xbins = dict(start=lon.min(),end=lon.max()+.1, size=.001)\n",
    "hist = go.Histogram2d(x=lon,y=lat, xbins=xbins, ybins=ybins, name='hist')\n",
    "\n",
    "\n",
    "layout = go.Layout(\n",
    "    autosize=True,\n",
    "    hovermode='closest',\n",
    "    mapbox=dict(\n",
    "        accesstoken=mapbox_access_token,\n",
    "        bearing=0,\n",
    "        center=go.layout.mapbox.Center(\n",
    "            lat=center.Latitude,\n",
    "            lon=center.Longitude,\n",
    "        ),\n",
    "#         style=mapbox_styles[\"mono\"],\n",
    "#         style=mapbox_styles[\"dark\"],    \n",
    "        style=mapbox_styles[\"sat\"],\n",
    "        pitch=0,\n",
    "        zoom=9,\n",
    "        domain={'x': [0.0, 0.3], 'y': [0, 1]},\n",
    "    ),\n",
    "    height=700, \n",
    "#     width=1200,\n",
    "    \n",
    "    xaxis=dict(\n",
    "        domain=[0, 0.3],\n",
    "    ),\n",
    "    xaxis2=dict(\n",
    "        domain=[0.4, 1.0],\n",
    "    ),\n",
    "    yaxis2=dict(\n",
    "        domain=[0.0, 1.0],\n",
    "        anchor=\"x2\",\n",
    "    ),\n",
    ")\n",
    "\n",
    "fig = go.FigureWidget(data=[scatter, curve], layout=layout)\n",
    "scatter = fig.data[0]\n",
    "curve = fig.data[1]\n",
    "\n",
    "selected = []\n",
    "prev_select = []\n",
    "t = 0\n",
    "def select_fn(trace, points, selector):\n",
    "    global t\n",
    "    c = list(trace.marker.color)\n",
    "    s = list(trace.marker.size)\n",
    "\n",
    "    for i in prev_select:\n",
    "        c[i], s[i] = off_state        \n",
    "\n",
    "    for i in points.point_inds:\n",
    "        c[i], s[i] = on_state  \n",
    "    \n",
    "#     mid_x = np.mean(points.xs)\n",
    "#     mid_y = np.mean(points.ys)\n",
    "    \n",
    "    with fig.batch_update():\n",
    "#         f.title = f\"Mid point of selected is {(mid_x, mid_y)}\"\n",
    "        trace.marker.color = c\n",
    "        trace.marker.size = s\n",
    "        curve.x = np.arange(1000)\n",
    "        curve.y = np.random.randn(1000)\n",
    "\n",
    "    selected.clear()\n",
    "    prev_select.clear()\n",
    "    selected.append([trace, points, selector])\n",
    "    prev_select.extend(points.point_inds)\n",
    "        \n",
    "    \n",
    "scatter.on_selection(select_fn)\n",
    "# scatter.on_hover(select_fn)\n",
    "\n",
    "\n",
    "crime_types_dropdown = widgets.Dropdown(\n",
    "    options=['ALL',*crime_types],\n",
    "    value='ALL',\n",
    "    description='Crime Type:',\n",
    ")\n",
    "\n",
    "month_slider = widgets.IntSlider(\n",
    "    value=1.0,\n",
    "    min=1.0,\n",
    "    max=12.0,\n",
    "    step=1.0,\n",
    "    description='Month:',\n",
    "    continuous_update=True\n",
    ")\n",
    "\n",
    "chng = 0\n",
    "def widget_callback(change):\n",
    "    global chng\n",
    "    chng = change\n",
    "    \n",
    "    selected_crime_type = crime_types_dropdown.value\n",
    "    if selected_crime_type != 'ALL':\n",
    "        mask = d[\"Primary Type\"] == selected_crime_type\n",
    "        filtered = d[mask]\n",
    "        text = label[mask]\n",
    "    else:\n",
    "        filtered = d\n",
    "        text = label\n",
    "    \n",
    "    selected_month = month_slider.value\n",
    "    if selected_month:\n",
    "        mask = filtered['Date'].map(lambda x: x.month) == selected_month\n",
    "        filtered = filtered[mask]\n",
    "        text = text[mask]\n",
    "        \n",
    "    \n",
    "    with fig.batch_update():\n",
    "        scatter.lon = filtered.Longitude\n",
    "        scatter.lat = filtered.Latitude\n",
    "        scatter.text = text\n",
    "#     scatter.marker.color = get_color(selected)\n",
    "\n",
    "\n",
    "crime_types_dropdown.observe(widget_callback, names=\"value\")\n",
    "month_slider.observe(widget_callback, names=\"value\")\n",
    "\n",
    "\n",
    "play_button = widgets.Play(\n",
    "    value=1,\n",
    "    min=1,\n",
    "    max=12,\n",
    "    step=1,\n",
    "    interval=500,\n",
    "    description=\"Press play\",\n",
    "    disabled=False\n",
    ")\n",
    "\n",
    "widgets.jslink((play_button, 'value'), (month_slider, 'value'))\n",
    "\n",
    "\n",
    "container = widgets.HBox([month_slider, crime_types_dropdown])\n",
    "widgets.VBox([\n",
    "    play_button,\n",
    "    container,\n",
    "    fig,\n",
    "])"
   ]
  },
  {
   "cell_type": "code",
   "execution_count": 83,
   "metadata": {},
   "outputs": [
    {
     "data": {
      "text/plain": [
       "[[Scattermapbox({\n",
       "      'lat': array([41.8031145 , 41.89606348, 41.7647071 , ..., 41.80067148, 41.85654706,\n",
       "                    41.96116783]),\n",
       "      'lon': array([-87.66774671, -87.66790274, -87.62489091, ..., -87.62585923,\n",
       "                    -87.69560453, -87.71002676]),\n",
       "      'marker': {'color': [#f050ae, #ffab00, #f050ae, ..., #ffab00, #ffab00,\n",
       "                           #ffab00],\n",
       "                 'opacity': [0.7, 0.7, 0.7, ..., 0.7, 0.7, 0.7],\n",
       "                 'size': [8, 8, 8, ..., 8, 8, 8]},\n",
       "      'mode': 'markers',\n",
       "      'selectedpoints': [0, 2, 5, ..., 638, 642, 643],\n",
       "      'text': array([['THEFT', Timestamp('2014-07-15 22:30:00')],\n",
       "                     ['THEFT', Timestamp('2014-07-21 15:00:00')],\n",
       "                     ['THEFT', Timestamp('2014-07-27 02:00:00')],\n",
       "                     ...,\n",
       "                     ['THEFT', Timestamp('2014-07-27 11:30:00')],\n",
       "                     ['THEFT', Timestamp('2014-07-24 15:00:00')],\n",
       "                     ['THEFT', Timestamp('2014-07-22 23:25:00')]], dtype=object),\n",
       "      'uid': 'bc5e4e79-f957-4773-b071-43982f5f2f9a'\n",
       "  }),\n",
       "  Points(point_inds=[0, 2, 5, ..., 638, 642, 643],\n",
       "         xs=[<object object at 0x7fb9700f6da0>, <object object at\n",
       "             0x7fb9700f6da0>, <object object at 0x7fb9700f6da0>, ..., <object\n",
       "             object at 0x7fb9700f6da0>, <object object at 0x7fb9700f6da0>, <object\n",
       "             object at 0x7fb9700f6da0>],\n",
       "         ys=[<object object at 0x7fb9700f6da0>, <object object at\n",
       "             0x7fb9700f6da0>, <object object at 0x7fb9700f6da0>, ..., <object\n",
       "             object at 0x7fb9700f6da0>, <object object at 0x7fb9700f6da0>, <object\n",
       "             object at 0x7fb9700f6da0>],\n",
       "         trace_name='trace 0',\n",
       "         trace_index=0),\n",
       "  BoxSelector(xrange=<object object at 0x7fb9700f6da0>,\n",
       "              yrange=<object object at 0x7fb9700f6da0>)]]"
      ]
     },
     "execution_count": 83,
     "metadata": {},
     "output_type": "execute_result"
    }
   ],
   "source": []
  },
  {
   "cell_type": "code",
   "execution_count": 71,
   "metadata": {},
   "outputs": [],
   "source": [
    "nx = 10\n",
    "ny = 10\n",
    "z = np.random.randint(0,10,(nx,ny))\n",
    "x = np.arange(nx)\n",
    "y = np.arange(ny)"
   ]
  },
  {
   "cell_type": "code",
   "execution_count": null,
   "metadata": {},
   "outputs": [],
   "source": []
  },
  {
   "cell_type": "code",
   "execution_count": 76,
   "metadata": {},
   "outputs": [
    {
     "data": {
      "application/vnd.plotly.v1+json": {
       "config": {
        "plotlyServerURL": "https://plot.ly"
       },
       "data": [
        {
         "hoverongaps": true,
         "type": "heatmap",
         "x": [
          0,
          1,
          2,
          3,
          4,
          5,
          6,
          7,
          8,
          9
         ],
         "y": [
          0,
          1,
          2,
          3,
          4,
          5,
          6,
          7,
          8,
          9
         ],
         "z": [
          [
           6,
           8,
           4,
           8,
           8,
           7,
           6,
           7,
           2,
           6
          ],
          [
           4,
           2,
           9,
           0,
           2,
           6,
           5,
           1,
           3,
           3
          ],
          [
           9,
           3,
           6,
           2,
           5,
           6,
           3,
           3,
           2,
           2
          ],
          [
           4,
           4,
           4,
           7,
           5,
           6,
           9,
           2,
           1,
           0
          ],
          [
           2,
           5,
           4,
           8,
           8,
           8,
           0,
           5,
           1,
           1
          ],
          [
           1,
           2,
           5,
           4,
           1,
           9,
           3,
           3,
           2,
           3
          ],
          [
           1,
           9,
           3,
           1,
           7,
           2,
           5,
           5,
           1,
           2
          ],
          [
           6,
           3,
           9,
           8,
           1,
           1,
           3,
           4,
           9,
           2
          ],
          [
           3,
           4,
           3,
           4,
           7,
           8,
           3,
           0,
           3,
           1
          ],
          [
           5,
           1,
           1,
           5,
           8,
           7,
           1,
           7,
           7,
           1
          ]
         ]
        }
       ],
       "layout": {
        "height": 500,
        "template": {
         "data": {
          "bar": [
           {
            "error_x": {
             "color": "#2a3f5f"
            },
            "error_y": {
             "color": "#2a3f5f"
            },
            "marker": {
             "line": {
              "color": "#E5ECF6",
              "width": 0.5
             }
            },
            "type": "bar"
           }
          ],
          "barpolar": [
           {
            "marker": {
             "line": {
              "color": "#E5ECF6",
              "width": 0.5
             }
            },
            "type": "barpolar"
           }
          ],
          "carpet": [
           {
            "aaxis": {
             "endlinecolor": "#2a3f5f",
             "gridcolor": "white",
             "linecolor": "white",
             "minorgridcolor": "white",
             "startlinecolor": "#2a3f5f"
            },
            "baxis": {
             "endlinecolor": "#2a3f5f",
             "gridcolor": "white",
             "linecolor": "white",
             "minorgridcolor": "white",
             "startlinecolor": "#2a3f5f"
            },
            "type": "carpet"
           }
          ],
          "choropleth": [
           {
            "colorbar": {
             "outlinewidth": 0,
             "ticks": ""
            },
            "type": "choropleth"
           }
          ],
          "contour": [
           {
            "colorbar": {
             "outlinewidth": 0,
             "ticks": ""
            },
            "colorscale": [
             [
              0,
              "#0d0887"
             ],
             [
              0.1111111111111111,
              "#46039f"
             ],
             [
              0.2222222222222222,
              "#7201a8"
             ],
             [
              0.3333333333333333,
              "#9c179e"
             ],
             [
              0.4444444444444444,
              "#bd3786"
             ],
             [
              0.5555555555555556,
              "#d8576b"
             ],
             [
              0.6666666666666666,
              "#ed7953"
             ],
             [
              0.7777777777777778,
              "#fb9f3a"
             ],
             [
              0.8888888888888888,
              "#fdca26"
             ],
             [
              1,
              "#f0f921"
             ]
            ],
            "type": "contour"
           }
          ],
          "contourcarpet": [
           {
            "colorbar": {
             "outlinewidth": 0,
             "ticks": ""
            },
            "type": "contourcarpet"
           }
          ],
          "heatmap": [
           {
            "colorbar": {
             "outlinewidth": 0,
             "ticks": ""
            },
            "colorscale": [
             [
              0,
              "#0d0887"
             ],
             [
              0.1111111111111111,
              "#46039f"
             ],
             [
              0.2222222222222222,
              "#7201a8"
             ],
             [
              0.3333333333333333,
              "#9c179e"
             ],
             [
              0.4444444444444444,
              "#bd3786"
             ],
             [
              0.5555555555555556,
              "#d8576b"
             ],
             [
              0.6666666666666666,
              "#ed7953"
             ],
             [
              0.7777777777777778,
              "#fb9f3a"
             ],
             [
              0.8888888888888888,
              "#fdca26"
             ],
             [
              1,
              "#f0f921"
             ]
            ],
            "type": "heatmap"
           }
          ],
          "heatmapgl": [
           {
            "colorbar": {
             "outlinewidth": 0,
             "ticks": ""
            },
            "colorscale": [
             [
              0,
              "#0d0887"
             ],
             [
              0.1111111111111111,
              "#46039f"
             ],
             [
              0.2222222222222222,
              "#7201a8"
             ],
             [
              0.3333333333333333,
              "#9c179e"
             ],
             [
              0.4444444444444444,
              "#bd3786"
             ],
             [
              0.5555555555555556,
              "#d8576b"
             ],
             [
              0.6666666666666666,
              "#ed7953"
             ],
             [
              0.7777777777777778,
              "#fb9f3a"
             ],
             [
              0.8888888888888888,
              "#fdca26"
             ],
             [
              1,
              "#f0f921"
             ]
            ],
            "type": "heatmapgl"
           }
          ],
          "histogram": [
           {
            "marker": {
             "colorbar": {
              "outlinewidth": 0,
              "ticks": ""
             }
            },
            "type": "histogram"
           }
          ],
          "histogram2d": [
           {
            "colorbar": {
             "outlinewidth": 0,
             "ticks": ""
            },
            "colorscale": [
             [
              0,
              "#0d0887"
             ],
             [
              0.1111111111111111,
              "#46039f"
             ],
             [
              0.2222222222222222,
              "#7201a8"
             ],
             [
              0.3333333333333333,
              "#9c179e"
             ],
             [
              0.4444444444444444,
              "#bd3786"
             ],
             [
              0.5555555555555556,
              "#d8576b"
             ],
             [
              0.6666666666666666,
              "#ed7953"
             ],
             [
              0.7777777777777778,
              "#fb9f3a"
             ],
             [
              0.8888888888888888,
              "#fdca26"
             ],
             [
              1,
              "#f0f921"
             ]
            ],
            "type": "histogram2d"
           }
          ],
          "histogram2dcontour": [
           {
            "colorbar": {
             "outlinewidth": 0,
             "ticks": ""
            },
            "colorscale": [
             [
              0,
              "#0d0887"
             ],
             [
              0.1111111111111111,
              "#46039f"
             ],
             [
              0.2222222222222222,
              "#7201a8"
             ],
             [
              0.3333333333333333,
              "#9c179e"
             ],
             [
              0.4444444444444444,
              "#bd3786"
             ],
             [
              0.5555555555555556,
              "#d8576b"
             ],
             [
              0.6666666666666666,
              "#ed7953"
             ],
             [
              0.7777777777777778,
              "#fb9f3a"
             ],
             [
              0.8888888888888888,
              "#fdca26"
             ],
             [
              1,
              "#f0f921"
             ]
            ],
            "type": "histogram2dcontour"
           }
          ],
          "mesh3d": [
           {
            "colorbar": {
             "outlinewidth": 0,
             "ticks": ""
            },
            "type": "mesh3d"
           }
          ],
          "parcoords": [
           {
            "line": {
             "colorbar": {
              "outlinewidth": 0,
              "ticks": ""
             }
            },
            "type": "parcoords"
           }
          ],
          "pie": [
           {
            "automargin": true,
            "type": "pie"
           }
          ],
          "scatter": [
           {
            "marker": {
             "colorbar": {
              "outlinewidth": 0,
              "ticks": ""
             }
            },
            "type": "scatter"
           }
          ],
          "scatter3d": [
           {
            "line": {
             "colorbar": {
              "outlinewidth": 0,
              "ticks": ""
             }
            },
            "marker": {
             "colorbar": {
              "outlinewidth": 0,
              "ticks": ""
             }
            },
            "type": "scatter3d"
           }
          ],
          "scattercarpet": [
           {
            "marker": {
             "colorbar": {
              "outlinewidth": 0,
              "ticks": ""
             }
            },
            "type": "scattercarpet"
           }
          ],
          "scattergeo": [
           {
            "marker": {
             "colorbar": {
              "outlinewidth": 0,
              "ticks": ""
             }
            },
            "type": "scattergeo"
           }
          ],
          "scattergl": [
           {
            "marker": {
             "colorbar": {
              "outlinewidth": 0,
              "ticks": ""
             }
            },
            "type": "scattergl"
           }
          ],
          "scattermapbox": [
           {
            "marker": {
             "colorbar": {
              "outlinewidth": 0,
              "ticks": ""
             }
            },
            "type": "scattermapbox"
           }
          ],
          "scatterpolar": [
           {
            "marker": {
             "colorbar": {
              "outlinewidth": 0,
              "ticks": ""
             }
            },
            "type": "scatterpolar"
           }
          ],
          "scatterpolargl": [
           {
            "marker": {
             "colorbar": {
              "outlinewidth": 0,
              "ticks": ""
             }
            },
            "type": "scatterpolargl"
           }
          ],
          "scatterternary": [
           {
            "marker": {
             "colorbar": {
              "outlinewidth": 0,
              "ticks": ""
             }
            },
            "type": "scatterternary"
           }
          ],
          "surface": [
           {
            "colorbar": {
             "outlinewidth": 0,
             "ticks": ""
            },
            "colorscale": [
             [
              0,
              "#0d0887"
             ],
             [
              0.1111111111111111,
              "#46039f"
             ],
             [
              0.2222222222222222,
              "#7201a8"
             ],
             [
              0.3333333333333333,
              "#9c179e"
             ],
             [
              0.4444444444444444,
              "#bd3786"
             ],
             [
              0.5555555555555556,
              "#d8576b"
             ],
             [
              0.6666666666666666,
              "#ed7953"
             ],
             [
              0.7777777777777778,
              "#fb9f3a"
             ],
             [
              0.8888888888888888,
              "#fdca26"
             ],
             [
              1,
              "#f0f921"
             ]
            ],
            "type": "surface"
           }
          ],
          "table": [
           {
            "cells": {
             "fill": {
              "color": "#EBF0F8"
             },
             "line": {
              "color": "white"
             }
            },
            "header": {
             "fill": {
              "color": "#C8D4E3"
             },
             "line": {
              "color": "white"
             }
            },
            "type": "table"
           }
          ]
         },
         "layout": {
          "annotationdefaults": {
           "arrowcolor": "#2a3f5f",
           "arrowhead": 0,
           "arrowwidth": 1
          },
          "coloraxis": {
           "colorbar": {
            "outlinewidth": 0,
            "ticks": ""
           }
          },
          "colorscale": {
           "diverging": [
            [
             0,
             "#8e0152"
            ],
            [
             0.1,
             "#c51b7d"
            ],
            [
             0.2,
             "#de77ae"
            ],
            [
             0.3,
             "#f1b6da"
            ],
            [
             0.4,
             "#fde0ef"
            ],
            [
             0.5,
             "#f7f7f7"
            ],
            [
             0.6,
             "#e6f5d0"
            ],
            [
             0.7,
             "#b8e186"
            ],
            [
             0.8,
             "#7fbc41"
            ],
            [
             0.9,
             "#4d9221"
            ],
            [
             1,
             "#276419"
            ]
           ],
           "sequential": [
            [
             0,
             "#0d0887"
            ],
            [
             0.1111111111111111,
             "#46039f"
            ],
            [
             0.2222222222222222,
             "#7201a8"
            ],
            [
             0.3333333333333333,
             "#9c179e"
            ],
            [
             0.4444444444444444,
             "#bd3786"
            ],
            [
             0.5555555555555556,
             "#d8576b"
            ],
            [
             0.6666666666666666,
             "#ed7953"
            ],
            [
             0.7777777777777778,
             "#fb9f3a"
            ],
            [
             0.8888888888888888,
             "#fdca26"
            ],
            [
             1,
             "#f0f921"
            ]
           ],
           "sequentialminus": [
            [
             0,
             "#0d0887"
            ],
            [
             0.1111111111111111,
             "#46039f"
            ],
            [
             0.2222222222222222,
             "#7201a8"
            ],
            [
             0.3333333333333333,
             "#9c179e"
            ],
            [
             0.4444444444444444,
             "#bd3786"
            ],
            [
             0.5555555555555556,
             "#d8576b"
            ],
            [
             0.6666666666666666,
             "#ed7953"
            ],
            [
             0.7777777777777778,
             "#fb9f3a"
            ],
            [
             0.8888888888888888,
             "#fdca26"
            ],
            [
             1,
             "#f0f921"
            ]
           ]
          },
          "colorway": [
           "#636efa",
           "#EF553B",
           "#00cc96",
           "#ab63fa",
           "#FFA15A",
           "#19d3f3",
           "#FF6692",
           "#B6E880",
           "#FF97FF",
           "#FECB52"
          ],
          "font": {
           "color": "#2a3f5f"
          },
          "geo": {
           "bgcolor": "white",
           "lakecolor": "white",
           "landcolor": "#E5ECF6",
           "showlakes": true,
           "showland": true,
           "subunitcolor": "white"
          },
          "hoverlabel": {
           "align": "left"
          },
          "hovermode": "closest",
          "mapbox": {
           "style": "light"
          },
          "paper_bgcolor": "white",
          "plot_bgcolor": "#E5ECF6",
          "polar": {
           "angularaxis": {
            "gridcolor": "white",
            "linecolor": "white",
            "ticks": ""
           },
           "bgcolor": "#E5ECF6",
           "radialaxis": {
            "gridcolor": "white",
            "linecolor": "white",
            "ticks": ""
           }
          },
          "scene": {
           "xaxis": {
            "backgroundcolor": "#E5ECF6",
            "gridcolor": "white",
            "gridwidth": 2,
            "linecolor": "white",
            "showbackground": true,
            "ticks": "",
            "zerolinecolor": "white"
           },
           "yaxis": {
            "backgroundcolor": "#E5ECF6",
            "gridcolor": "white",
            "gridwidth": 2,
            "linecolor": "white",
            "showbackground": true,
            "ticks": "",
            "zerolinecolor": "white"
           },
           "zaxis": {
            "backgroundcolor": "#E5ECF6",
            "gridcolor": "white",
            "gridwidth": 2,
            "linecolor": "white",
            "showbackground": true,
            "ticks": "",
            "zerolinecolor": "white"
           }
          },
          "shapedefaults": {
           "line": {
            "color": "#2a3f5f"
           }
          },
          "ternary": {
           "aaxis": {
            "gridcolor": "white",
            "linecolor": "white",
            "ticks": ""
           },
           "baxis": {
            "gridcolor": "white",
            "linecolor": "white",
            "ticks": ""
           },
           "bgcolor": "#E5ECF6",
           "caxis": {
            "gridcolor": "white",
            "linecolor": "white",
            "ticks": ""
           }
          },
          "title": {
           "x": 0.05
          },
          "xaxis": {
           "automargin": true,
           "gridcolor": "white",
           "linecolor": "white",
           "ticks": "",
           "title": {
            "standoff": 15
           },
           "zerolinecolor": "white",
           "zerolinewidth": 2
          },
          "yaxis": {
           "automargin": true,
           "gridcolor": "white",
           "linecolor": "white",
           "ticks": "",
           "title": {
            "standoff": 15
           },
           "zerolinecolor": "white",
           "zerolinewidth": 2
          }
         }
        },
        "width": 500,
        "xaxis": {
         "autorange": true,
         "range": [
          -0.5,
          9.5
         ],
         "type": "linear"
        },
        "yaxis": {
         "autorange": true,
         "range": [
          -0.5,
          9.5
         ],
         "type": "linear"
        }
       }
      },
      "image/png": "[encoded data removed]",
      "text/html": [
       "<div>\n",
       "        \n",
       "        \n",
       "            <div id=\"40110fe7-ae00-4cd0-81a9-27128bc6a191\" class=\"plotly-graph-div\" style=\"height:500px; width:500px;\"></div>\n",
       "            <script type=\"text/javascript\">\n",
       "                require([\"plotly\"], function(Plotly) {\n",
       "                    window.PLOTLYENV=window.PLOTLYENV || {};\n",
       "                    \n",
       "                if (document.getElementById(\"40110fe7-ae00-4cd0-81a9-27128bc6a191\")) {\n",
       "                    Plotly.newPlot(\n",
       "                        '40110fe7-ae00-4cd0-81a9-27128bc6a191',\n",
       "                        [{\"hoverongaps\": true, \"type\": \"heatmap\", \"x\": [0, 1, 2, 3, 4, 5, 6, 7, 8, 9], \"y\": [0, 1, 2, 3, 4, 5, 6, 7, 8, 9], \"z\": [[6, 8, 4, 8, 8, 7, 6, 7, 2, 6], [4, 2, 9, 0, 2, 6, 5, 1, 3, 3], [9, 3, 6, 2, 5, 6, 3, 3, 2, 2], [4, 4, 4, 7, 5, 6, 9, 2, 1, 0], [2, 5, 4, 8, 8, 8, 0, 5, 1, 1], [1, 2, 5, 4, 1, 9, 3, 3, 2, 3], [1, 9, 3, 1, 7, 2, 5, 5, 1, 2], [6, 3, 9, 8, 1, 1, 3, 4, 9, 2], [3, 4, 3, 4, 7, 8, 3, 0, 3, 1], [5, 1, 1, 5, 8, 7, 1, 7, 7, 1]]}],\n",
       "                        {\"height\": 500, \"template\": {\"data\": {\"bar\": [{\"error_x\": {\"color\": \"#2a3f5f\"}, \"error_y\": {\"color\": \"#2a3f5f\"}, \"marker\": {\"line\": {\"color\": \"#E5ECF6\", \"width\": 0.5}}, \"type\": \"bar\"}], \"barpolar\": [{\"marker\": {\"line\": {\"color\": \"#E5ECF6\", \"width\": 0.5}}, \"type\": \"barpolar\"}], \"carpet\": [{\"aaxis\": {\"endlinecolor\": \"#2a3f5f\", \"gridcolor\": \"white\", \"linecolor\": \"white\", \"minorgridcolor\": \"white\", \"startlinecolor\": \"#2a3f5f\"}, \"baxis\": {\"endlinecolor\": \"#2a3f5f\", \"gridcolor\": \"white\", \"linecolor\": \"white\", \"minorgridcolor\": \"white\", \"startlinecolor\": \"#2a3f5f\"}, \"type\": \"carpet\"}], \"choropleth\": [{\"colorbar\": {\"outlinewidth\": 0, \"ticks\": \"\"}, \"type\": \"choropleth\"}], \"contour\": [{\"colorbar\": {\"outlinewidth\": 0, \"ticks\": \"\"}, \"colorscale\": [[0.0, \"#0d0887\"], [0.1111111111111111, \"#46039f\"], [0.2222222222222222, \"#7201a8\"], [0.3333333333333333, \"#9c179e\"], [0.4444444444444444, \"#bd3786\"], [0.5555555555555556, \"#d8576b\"], [0.6666666666666666, \"#ed7953\"], [0.7777777777777778, \"#fb9f3a\"], [0.8888888888888888, \"#fdca26\"], [1.0, \"#f0f921\"]], \"type\": \"contour\"}], \"contourcarpet\": [{\"colorbar\": {\"outlinewidth\": 0, \"ticks\": \"\"}, \"type\": \"contourcarpet\"}], \"heatmap\": [{\"colorbar\": {\"outlinewidth\": 0, \"ticks\": \"\"}, \"colorscale\": [[0.0, \"#0d0887\"], [0.1111111111111111, \"#46039f\"], [0.2222222222222222, \"#7201a8\"], [0.3333333333333333, \"#9c179e\"], [0.4444444444444444, \"#bd3786\"], [0.5555555555555556, \"#d8576b\"], [0.6666666666666666, \"#ed7953\"], [0.7777777777777778, \"#fb9f3a\"], [0.8888888888888888, \"#fdca26\"], [1.0, \"#f0f921\"]], \"type\": \"heatmap\"}], \"heatmapgl\": [{\"colorbar\": {\"outlinewidth\": 0, \"ticks\": \"\"}, \"colorscale\": [[0.0, \"#0d0887\"], [0.1111111111111111, \"#46039f\"], [0.2222222222222222, \"#7201a8\"], [0.3333333333333333, \"#9c179e\"], [0.4444444444444444, \"#bd3786\"], [0.5555555555555556, \"#d8576b\"], [0.6666666666666666, \"#ed7953\"], [0.7777777777777778, \"#fb9f3a\"], [0.8888888888888888, \"#fdca26\"], [1.0, \"#f0f921\"]], \"type\": \"heatmapgl\"}], \"histogram\": [{\"marker\": {\"colorbar\": {\"outlinewidth\": 0, \"ticks\": \"\"}}, \"type\": \"histogram\"}], \"histogram2d\": [{\"colorbar\": {\"outlinewidth\": 0, \"ticks\": \"\"}, \"colorscale\": [[0.0, \"#0d0887\"], [0.1111111111111111, \"#46039f\"], [0.2222222222222222, \"#7201a8\"], [0.3333333333333333, \"#9c179e\"], [0.4444444444444444, \"#bd3786\"], [0.5555555555555556, \"#d8576b\"], [0.6666666666666666, \"#ed7953\"], [0.7777777777777778, \"#fb9f3a\"], [0.8888888888888888, \"#fdca26\"], [1.0, \"#f0f921\"]], \"type\": \"histogram2d\"}], \"histogram2dcontour\": [{\"colorbar\": {\"outlinewidth\": 0, \"ticks\": \"\"}, \"colorscale\": [[0.0, \"#0d0887\"], [0.1111111111111111, \"#46039f\"], [0.2222222222222222, \"#7201a8\"], [0.3333333333333333, \"#9c179e\"], [0.4444444444444444, \"#bd3786\"], [0.5555555555555556, \"#d8576b\"], [0.6666666666666666, \"#ed7953\"], [0.7777777777777778, \"#fb9f3a\"], [0.8888888888888888, \"#fdca26\"], [1.0, \"#f0f921\"]], \"type\": \"histogram2dcontour\"}], \"mesh3d\": [{\"colorbar\": {\"outlinewidth\": 0, \"ticks\": \"\"}, \"type\": \"mesh3d\"}], \"parcoords\": [{\"line\": {\"colorbar\": {\"outlinewidth\": 0, \"ticks\": \"\"}}, \"type\": \"parcoords\"}], \"pie\": [{\"automargin\": true, \"type\": \"pie\"}], \"scatter\": [{\"marker\": {\"colorbar\": {\"outlinewidth\": 0, \"ticks\": \"\"}}, \"type\": \"scatter\"}], \"scatter3d\": [{\"line\": {\"colorbar\": {\"outlinewidth\": 0, \"ticks\": \"\"}}, \"marker\": {\"colorbar\": {\"outlinewidth\": 0, \"ticks\": \"\"}}, \"type\": \"scatter3d\"}], \"scattercarpet\": [{\"marker\": {\"colorbar\": {\"outlinewidth\": 0, \"ticks\": \"\"}}, \"type\": \"scattercarpet\"}], \"scattergeo\": [{\"marker\": {\"colorbar\": {\"outlinewidth\": 0, \"ticks\": \"\"}}, \"type\": \"scattergeo\"}], \"scattergl\": [{\"marker\": {\"colorbar\": {\"outlinewidth\": 0, \"ticks\": \"\"}}, \"type\": \"scattergl\"}], \"scattermapbox\": [{\"marker\": {\"colorbar\": {\"outlinewidth\": 0, \"ticks\": \"\"}}, \"type\": \"scattermapbox\"}], \"scatterpolar\": [{\"marker\": {\"colorbar\": {\"outlinewidth\": 0, \"ticks\": \"\"}}, \"type\": \"scatterpolar\"}], \"scatterpolargl\": [{\"marker\": {\"colorbar\": {\"outlinewidth\": 0, \"ticks\": \"\"}}, \"type\": \"scatterpolargl\"}], \"scatterternary\": [{\"marker\": {\"colorbar\": {\"outlinewidth\": 0, \"ticks\": \"\"}}, \"type\": \"scatterternary\"}], \"surface\": [{\"colorbar\": {\"outlinewidth\": 0, \"ticks\": \"\"}, \"colorscale\": [[0.0, \"#0d0887\"], [0.1111111111111111, \"#46039f\"], [0.2222222222222222, \"#7201a8\"], [0.3333333333333333, \"#9c179e\"], [0.4444444444444444, \"#bd3786\"], [0.5555555555555556, \"#d8576b\"], [0.6666666666666666, \"#ed7953\"], [0.7777777777777778, \"#fb9f3a\"], [0.8888888888888888, \"#fdca26\"], [1.0, \"#f0f921\"]], \"type\": \"surface\"}], \"table\": [{\"cells\": {\"fill\": {\"color\": \"#EBF0F8\"}, \"line\": {\"color\": \"white\"}}, \"header\": {\"fill\": {\"color\": \"#C8D4E3\"}, \"line\": {\"color\": \"white\"}}, \"type\": \"table\"}]}, \"layout\": {\"annotationdefaults\": {\"arrowcolor\": \"#2a3f5f\", \"arrowhead\": 0, \"arrowwidth\": 1}, \"coloraxis\": {\"colorbar\": {\"outlinewidth\": 0, \"ticks\": \"\"}}, \"colorscale\": {\"diverging\": [[0, \"#8e0152\"], [0.1, \"#c51b7d\"], [0.2, \"#de77ae\"], [0.3, \"#f1b6da\"], [0.4, \"#fde0ef\"], [0.5, \"#f7f7f7\"], [0.6, \"#e6f5d0\"], [0.7, \"#b8e186\"], [0.8, \"#7fbc41\"], [0.9, \"#4d9221\"], [1, \"#276419\"]], \"sequential\": [[0.0, \"#0d0887\"], [0.1111111111111111, \"#46039f\"], [0.2222222222222222, \"#7201a8\"], [0.3333333333333333, \"#9c179e\"], [0.4444444444444444, \"#bd3786\"], [0.5555555555555556, \"#d8576b\"], [0.6666666666666666, \"#ed7953\"], [0.7777777777777778, \"#fb9f3a\"], [0.8888888888888888, \"#fdca26\"], [1.0, \"#f0f921\"]], \"sequentialminus\": [[0.0, \"#0d0887\"], [0.1111111111111111, \"#46039f\"], [0.2222222222222222, \"#7201a8\"], [0.3333333333333333, \"#9c179e\"], [0.4444444444444444, \"#bd3786\"], [0.5555555555555556, \"#d8576b\"], [0.6666666666666666, \"#ed7953\"], [0.7777777777777778, \"#fb9f3a\"], [0.8888888888888888, \"#fdca26\"], [1.0, \"#f0f921\"]]}, \"colorway\": [\"#636efa\", \"#EF553B\", \"#00cc96\", \"#ab63fa\", \"#FFA15A\", \"#19d3f3\", \"#FF6692\", \"#B6E880\", \"#FF97FF\", \"#FECB52\"], \"font\": {\"color\": \"#2a3f5f\"}, \"geo\": {\"bgcolor\": \"white\", \"lakecolor\": \"white\", \"landcolor\": \"#E5ECF6\", \"showlakes\": true, \"showland\": true, \"subunitcolor\": \"white\"}, \"hoverlabel\": {\"align\": \"left\"}, \"hovermode\": \"closest\", \"mapbox\": {\"style\": \"light\"}, \"paper_bgcolor\": \"white\", \"plot_bgcolor\": \"#E5ECF6\", \"polar\": {\"angularaxis\": {\"gridcolor\": \"white\", \"linecolor\": \"white\", \"ticks\": \"\"}, \"bgcolor\": \"#E5ECF6\", \"radialaxis\": {\"gridcolor\": \"white\", \"linecolor\": \"white\", \"ticks\": \"\"}}, \"scene\": {\"xaxis\": {\"backgroundcolor\": \"#E5ECF6\", \"gridcolor\": \"white\", \"gridwidth\": 2, \"linecolor\": \"white\", \"showbackground\": true, \"ticks\": \"\", \"zerolinecolor\": \"white\"}, \"yaxis\": {\"backgroundcolor\": \"#E5ECF6\", \"gridcolor\": \"white\", \"gridwidth\": 2, \"linecolor\": \"white\", \"showbackground\": true, \"ticks\": \"\", \"zerolinecolor\": \"white\"}, \"zaxis\": {\"backgroundcolor\": \"#E5ECF6\", \"gridcolor\": \"white\", \"gridwidth\": 2, \"linecolor\": \"white\", \"showbackground\": true, \"ticks\": \"\", \"zerolinecolor\": \"white\"}}, \"shapedefaults\": {\"line\": {\"color\": \"#2a3f5f\"}}, \"ternary\": {\"aaxis\": {\"gridcolor\": \"white\", \"linecolor\": \"white\", \"ticks\": \"\"}, \"baxis\": {\"gridcolor\": \"white\", \"linecolor\": \"white\", \"ticks\": \"\"}, \"bgcolor\": \"#E5ECF6\", \"caxis\": {\"gridcolor\": \"white\", \"linecolor\": \"white\", \"ticks\": \"\"}}, \"title\": {\"x\": 0.05}, \"xaxis\": {\"automargin\": true, \"gridcolor\": \"white\", \"linecolor\": \"white\", \"ticks\": \"\", \"title\": {\"standoff\": 15}, \"zerolinecolor\": \"white\", \"zerolinewidth\": 2}, \"yaxis\": {\"automargin\": true, \"gridcolor\": \"white\", \"linecolor\": \"white\", \"ticks\": \"\", \"title\": {\"standoff\": 15}, \"zerolinecolor\": \"white\", \"zerolinewidth\": 2}}}, \"width\": 500},\n",
       "                        {\"responsive\": true}\n",
       "                    ).then(function(){\n",
       "                            \n",
       "var gd = document.getElementById('40110fe7-ae00-4cd0-81a9-27128bc6a191');\n",
       "var x = new MutationObserver(function (mutations, observer) {{\n",
       "        var display = window.getComputedStyle(gd).display;\n",
       "        if (!display || display === 'none') {{\n",
       "            console.log([gd, 'removed!']);\n",
       "            Plotly.purge(gd);\n",
       "            observer.disconnect();\n",
       "        }}\n",
       "}});\n",
       "\n",
       "// Listen for the removal of the full notebook cells\n",
       "var notebookContainer = gd.closest('#notebook-container');\n",
       "if (notebookContainer) {{\n",
       "    x.observe(notebookContainer, {childList: true});\n",
       "}}\n",
       "\n",
       "// Listen for the clearing of the current output cell\n",
       "var outputEl = gd.closest('.output');\n",
       "if (outputEl) {{\n",
       "    x.observe(outputEl, {childList: true});\n",
       "}}\n",
       "\n",
       "                        })\n",
       "                };\n",
       "                });\n",
       "            </script>\n",
       "        </div>"
      ]
     },
     "metadata": {},
     "output_type": "display_data"
    }
   ],
   "source": [
    "import plotly.graph_objects as go\n",
    "\n",
    "fig = go.Figure(data=go.Heatmap(\n",
    "                   z=z,\n",
    "                   x=x,\n",
    "                   y=y,\n",
    "                   hoverongaps = True), layout_height=500, layout_width=500)\n",
    "fig.show()"
   ]
  },
  {
   "cell_type": "code",
   "execution_count": 78,
   "metadata": {},
   "outputs": [
    {
     "data": {
      "text/plain": [
       "Heatmap({\n",
       "    'hoverongaps': True,\n",
       "    'x': array([0, 1, 2, 3, 4, 5, 6, 7, 8, 9]),\n",
       "    'y': array([0, 1, 2, 3, 4, 5, 6, 7, 8, 9]),\n",
       "    'z': array([[6, 8, 4, 8, 8, 7, 6, 7, 2, 6],\n",
       "                [4, 2, 9, 0, 2, 6, 5, 1, 3, 3],\n",
       "                [9, 3, 6, 2, 5, 6, 3, 3, 2, 2],\n",
       "                [4, 4, 4, 7, 5, 6, 9, 2, 1, 0],\n",
       "                [2, 5, 4, 8, 8, 8, 0, 5, 1, 1],\n",
       "                [1, 2, 5, 4, 1, 9, 3, 3, 2, 3],\n",
       "                [1, 9, 3, 1, 7, 2, 5, 5, 1, 2],\n",
       "                [6, 3, 9, 8, 1, 1, 3, 4, 9, 2],\n",
       "                [3, 4, 3, 4, 7, 8, 3, 0, 3, 1],\n",
       "                [5, 1, 1, 5, 8, 7, 1, 7, 7, 1]])\n",
       "})"
      ]
     },
     "execution_count": 78,
     "metadata": {},
     "output_type": "execute_result"
    }
   ],
   "source": [
    "fig.data[0]"
   ]
  }
 ],
 "metadata": {
  "kernelspec": {
   "display_name": "Python 3",
   "language": "python",
   "name": "python3"
  },
  "language_info": {
   "codemirror_mode": {
    "name": "ipython",
    "version": 3
   },
   "file_extension": ".py",
   "mimetype": "text/x-python",
   "name": "python",
   "nbconvert_exporter": "python",
   "pygments_lexer": "ipython3",
   "version": "3.8.3"
  },
  "varInspector": {
   "cols": {
    "lenName": 16,
    "lenType": 16,
    "lenVar": 40
   },
   "kernels_config": {
    "python": {
     "delete_cmd_postfix": "",
     "delete_cmd_prefix": "del ",
     "library": "var_list.py",
     "varRefreshCmd": "print(var_dic_list())"
    },
    "r": {
     "delete_cmd_postfix": ") ",
     "delete_cmd_prefix": "rm(",
     "library": "var_list.r",
     "varRefreshCmd": "cat(var_dic_list()) "
    }
   },
   "types_to_exclude": [
    "module",
    "function",
    "builtin_function_or_method",
    "instance",
    "_Feature"
   ],
   "window_display": false
  }
 },
 "nbformat": 4,
 "nbformat_minor": 4
}
