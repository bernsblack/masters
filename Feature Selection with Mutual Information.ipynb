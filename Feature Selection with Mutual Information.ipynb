{
 "cells": [
  {
   "cell_type": "markdown",
   "metadata": {},
   "source": [
    "## Feature Selection with Mutual Information\n",
    "\n",
    "The aim of this notebook:\n",
    "- Look at column features and how they influence a cell's self-exciting property (mutual info)"
   ]
  },
  {
   "cell_type": "code",
   "execution_count": 1,
   "metadata": {},
   "outputs": [],
   "source": [
    "import os\n",
    "import logging as log\n",
    "from time import strftime\n",
    "from copy import deepcopy\n",
    "from torch import nn, optim\n",
    "import torch.nn.functional as F\n",
    "from utils.data_processing import *\n",
    "from logger.logger import setup_logging\n",
    "from utils.configs import BaseConf\n",
    "from utils.utils import write_json, Timer, get_data_sub_paths, pshape, get_data_resolutions\n",
    "from models.kangkang_fnn_models import KangFeedForwardNetwork, SimpleKangFNN\n",
    "from dataloaders.flat_loader import FlatDataLoaders, MockLoader, MockLoaders\n",
    "from datasets.flat_dataset import FlatDataGroup\n",
    "\n",
    "from dataloaders.cell_loader import CellDataLoaders\n",
    "from datasets.cell_dataset import CellDataGroup\n",
    "\n",
    "from utils.metrics import PRCurvePlotter, ROCCurvePlotter, LossPlotter, PerTimeStepPlotter\n",
    "from sklearn.metrics import accuracy_score, average_precision_score, roc_auc_score\n",
    "from models.model_result import ModelResult, ModelMetrics, save_metrics\n",
    "from utils.mock_data import mock_fnn_data_classification\n",
    "from utils.plots import im\n",
    "from trainers.generic_trainer import train_model\n",
    "from models.kangkang_fnn_models import train_epoch_for_fnn\n",
    "from utils.configs import BaseConf\n",
    "from utils.metrics import best_threshold, get_y_pred\n",
    "from dataloaders.grid_loader import GridDataLoaders\n",
    "from datasets.grid_dataset import GridDataGroup\n",
    "\n",
    "from utils.mock_data import mock_fnn_data_classification\n",
    "import matplotlib.pyplot as plt\n",
    "from utils.plots import im\n",
    "from utils.metrics import best_threshold, get_y_pred, get_y_pred_by_thresholds, best_thresholds\n",
    "from models.model_result import ModelResult, ModelMetrics, save_metrics, compare_all_models,\\\n",
    "                                get_models_metrics, get_models_results\n",
    "from pprint import pprint\n",
    "from time import time\n",
    "from utils.setup import setup"
   ]
  },
  {
   "cell_type": "code",
   "execution_count": 20,
   "metadata": {},
   "outputs": [],
   "source": [
    "conf = BaseConf()\n",
    "\n",
    "conf.model_name = f\"Mutual Info\"\n",
    "\n",
    "conf.data_path = f\"./data/processed/{data_sub_path}/\"\n",
    "\n",
    "if not os.path.exists(conf.data_path):\n",
    "    raise Exception(f\"Directory ({conf.data_path}) needs to exist.\")\n",
    "\n",
    "conf.model_path = f\"{conf.data_path}models/{conf.model_name}/\"\n",
    "os.makedirs(conf.data_path, exist_ok=True)\n",
    "os.makedirs(conf.model_path, exist_ok=True)\n",
    "\n",
    "setup_logging(save_dir=conf.model_path,\n",
    "              log_config='./logger/standard_logger_config.json',\n",
    "              default_level=log.INFO)\n",
    "\n",
    "with np.load(conf.data_path + \"generated_data.npz\") as zip_file:  # context helper ensures zip_file is closed\n",
    "    sparse_crimes = zip_file[\"crime_types_grids\"]\n",
    "    crime_feature_indices = zip_file[\"crime_feature_indices\"]\n",
    "\n",
    "\n",
    "shaper = Shaper(data=sparse_crimes,\n",
    "                conf=conf)\n",
    "\n",
    "#     return conf, shaper, sparse_crimes, crime_feature_indices\n"
   ]
  },
  {
   "cell_type": "code",
   "execution_count": null,
   "metadata": {},
   "outputs": [],
   "source": []
  },
  {
   "cell_type": "code",
   "execution_count": 2,
   "metadata": {},
   "outputs": [
    {
     "name": "stdout",
     "output_type": "stream",
     "text": [
      "array(['T12H-X850M-Y880M_2013-01-01_2017-01-01',\n",
      "       'T1H-X1700M-Y1760M_2013-01-01_2017-01-01',\n",
      "       'T24H-X1275M-Y1320M_2012-01-01_2019-01-01',\n",
      "       'T24H-X1700M-Y1760M_2012-01-01_2019-01-01',\n",
      "       'T24H-X255M-Y220M_2013-01-01_2017-01-01',\n",
      "       'T24H-X425M-Y440M_2012-01-01_2019-01-01',\n",
      "       'T24H-X425M-Y440M_2013-01-01_2017-01-01',\n",
      "       'T24H-X850M-Y880M_2012-01-01_2019-01-01',\n",
      "       'T24H-X850M-Y880M_2013-01-01_2017-01-01',\n",
      "       'T24H-X85M-Y110M_2013-01-01_2017-01-01',\n",
      "       'T3H-X850M-Y880M_2013-01-01_2017-01-01',\n",
      "       'T6H-X850M-Y880M_2013-01-01_2017-01-01'], dtype='<U40')\n"
     ]
    }
   ],
   "source": [
    "data_sub_paths = get_data_sub_paths()\n",
    "pprint(np.sort(data_sub_paths))\n",
    "\n",
    "data_sub_path = 'T24H-X850M-Y880M_2013-01-01_2017-01-01'"
   ]
  },
  {
   "cell_type": "code",
   "execution_count": 3,
   "metadata": {},
   "outputs": [],
   "source": [
    "conf, shaper, sparse_crimes, crime_feature_indices = setup(data_sub_path=data_sub_path)"
   ]
  },
  {
   "cell_type": "code",
   "execution_count": 4,
   "metadata": {},
   "outputs": [],
   "source": [
    "from utils.preprocessing import Shaper"
   ]
  },
  {
   "cell_type": "code",
   "execution_count": 5,
   "metadata": {},
   "outputs": [
    {
     "name": "stdout",
     "output_type": "stream",
     "text": [
      "'TOTAL':0,\n",
      "'THEFT':1,\n",
      "'BATTERY':2,\n",
      "'CRIMINAL DAMAGE':3,\n",
      "'NARCOTICS':4,\n",
      "'ASSAULT':5,\n",
      "'BURGLARY':6,\n",
      "'MOTOR VEHICLE THEFT':7,\n",
      "'ROBBERY':8,\n",
      "'Arrest':9,\n"
     ]
    }
   ],
   "source": [
    "for i,k in enumerate(crime_feature_indices):\n",
    "    print(f\"'{k}':{i},\")"
   ]
  },
  {
   "cell_type": "code",
   "execution_count": 6,
   "metadata": {},
   "outputs": [
    {
     "name": "stdout",
     "output_type": "stream",
     "text": [
      "0\n",
      "-1\n"
     ]
    }
   ],
   "source": [
    "i = 0\n",
    "crimes = sparse_crimes[:,i:i+1]\n",
    "print(conf.shaper_threshold) # sum over all time should be above this threshold\n",
    "print(conf.shaper_top_k) # if larger than 0 we filter out only the top k most active cells of the data grid\n",
    "new_shaper = Shaper(crimes, conf)"
   ]
  },
  {
   "cell_type": "code",
   "execution_count": 11,
   "metadata": {},
   "outputs": [],
   "source": [
    "dense_crimes = shaper.squeeze(sparse_crimes)\n",
    "from utils.utils import describe_array"
   ]
  },
  {
   "cell_type": "code",
   "execution_count": 19,
   "metadata": {},
   "outputs": [
    {
     "name": "stdout",
     "output_type": "stream",
     "text": [
      "____________________________________________________________\n",
      "{'max': 43.0,\n",
      " 'mean': 0.084798899185383,\n",
      " 'min': 0.0,\n",
      " 'shape': (1461, 772),\n",
      " 'std': 0.37116642461852944}\n",
      "____________________________________________________________\n"
     ]
    }
   ],
   "source": [
    "print(describe_array(dense_crimes[:,4]))"
   ]
  },
  {
   "cell_type": "code",
   "execution_count": 56,
   "metadata": {},
   "outputs": [],
   "source": [
    "dense_crimes[dense_crimes > 0] = 1"
   ]
  },
  {
   "cell_type": "code",
   "execution_count": 57,
   "metadata": {},
   "outputs": [],
   "source": [
    "c_now = dense_crimes[:-1,1:-1]\n",
    "c_prev = dense_crimes[1:,1:-1]"
   ]
  },
  {
   "cell_type": "code",
   "execution_count": 58,
   "metadata": {},
   "outputs": [],
   "source": [
    "c_now_flt = np.reshape(c_now.swapaxes(1,2),(-1,8))\n",
    "c_prev_flt = np.reshape(c_prev.swapaxes(1,2),(-1,8))"
   ]
  },
  {
   "cell_type": "code",
   "execution_count": 59,
   "metadata": {},
   "outputs": [],
   "source": [
    "df_now = pd.DataFrame(c_now_flt,columns=crime_feature_indices[1:-1])\n",
    "df_prev = pd.DataFrame(c_prev_flt,columns=crime_feature_indices[1:-1])"
   ]
  },
  {
   "cell_type": "code",
   "execution_count": 60,
   "metadata": {},
   "outputs": [
    {
     "data": {
      "text/html": [
       "<div>\n",
       "<style scoped>\n",
       "    .dataframe tbody tr th:only-of-type {\n",
       "        vertical-align: middle;\n",
       "    }\n",
       "\n",
       "    .dataframe tbody tr th {\n",
       "        vertical-align: top;\n",
       "    }\n",
       "\n",
       "    .dataframe thead th {\n",
       "        text-align: right;\n",
       "    }\n",
       "</style>\n",
       "<table border=\"1\" class=\"dataframe\">\n",
       "  <thead>\n",
       "    <tr style=\"text-align: right;\">\n",
       "      <th></th>\n",
       "      <th>THEFT</th>\n",
       "      <th>BATTERY</th>\n",
       "      <th>CRIMINAL DAMAGE</th>\n",
       "      <th>NARCOTICS</th>\n",
       "      <th>ASSAULT</th>\n",
       "      <th>BURGLARY</th>\n",
       "      <th>MOTOR VEHICLE THEFT</th>\n",
       "      <th>ROBBERY</th>\n",
       "    </tr>\n",
       "  </thead>\n",
       "  <tbody>\n",
       "    <tr>\n",
       "      <th>THEFT</th>\n",
       "      <td>1.000000</td>\n",
       "      <td>0.105854</td>\n",
       "      <td>0.075943</td>\n",
       "      <td>0.068029</td>\n",
       "      <td>0.066417</td>\n",
       "      <td>0.050817</td>\n",
       "      <td>0.047021</td>\n",
       "      <td>0.060383</td>\n",
       "    </tr>\n",
       "    <tr>\n",
       "      <th>BATTERY</th>\n",
       "      <td>0.105854</td>\n",
       "      <td>1.000000</td>\n",
       "      <td>0.101798</td>\n",
       "      <td>0.139691</td>\n",
       "      <td>0.104406</td>\n",
       "      <td>0.061343</td>\n",
       "      <td>0.049696</td>\n",
       "      <td>0.079825</td>\n",
       "    </tr>\n",
       "    <tr>\n",
       "      <th>CRIMINAL DAMAGE</th>\n",
       "      <td>0.075943</td>\n",
       "      <td>0.101798</td>\n",
       "      <td>1.000000</td>\n",
       "      <td>0.074156</td>\n",
       "      <td>0.061469</td>\n",
       "      <td>0.051847</td>\n",
       "      <td>0.038608</td>\n",
       "      <td>0.047310</td>\n",
       "    </tr>\n",
       "    <tr>\n",
       "      <th>NARCOTICS</th>\n",
       "      <td>0.068029</td>\n",
       "      <td>0.139691</td>\n",
       "      <td>0.074156</td>\n",
       "      <td>1.000000</td>\n",
       "      <td>0.086472</td>\n",
       "      <td>0.047265</td>\n",
       "      <td>0.044761</td>\n",
       "      <td>0.069765</td>\n",
       "    </tr>\n",
       "    <tr>\n",
       "      <th>ASSAULT</th>\n",
       "      <td>0.066417</td>\n",
       "      <td>0.104406</td>\n",
       "      <td>0.061469</td>\n",
       "      <td>0.086472</td>\n",
       "      <td>1.000000</td>\n",
       "      <td>0.036869</td>\n",
       "      <td>0.031553</td>\n",
       "      <td>0.050848</td>\n",
       "    </tr>\n",
       "    <tr>\n",
       "      <th>BURGLARY</th>\n",
       "      <td>0.050817</td>\n",
       "      <td>0.061343</td>\n",
       "      <td>0.051847</td>\n",
       "      <td>0.047265</td>\n",
       "      <td>0.036869</td>\n",
       "      <td>1.000000</td>\n",
       "      <td>0.028230</td>\n",
       "      <td>0.033261</td>\n",
       "    </tr>\n",
       "    <tr>\n",
       "      <th>MOTOR VEHICLE THEFT</th>\n",
       "      <td>0.047021</td>\n",
       "      <td>0.049696</td>\n",
       "      <td>0.038608</td>\n",
       "      <td>0.044761</td>\n",
       "      <td>0.031553</td>\n",
       "      <td>0.028230</td>\n",
       "      <td>1.000000</td>\n",
       "      <td>0.029594</td>\n",
       "    </tr>\n",
       "    <tr>\n",
       "      <th>ROBBERY</th>\n",
       "      <td>0.060383</td>\n",
       "      <td>0.079825</td>\n",
       "      <td>0.047310</td>\n",
       "      <td>0.069765</td>\n",
       "      <td>0.050848</td>\n",
       "      <td>0.033261</td>\n",
       "      <td>0.029594</td>\n",
       "      <td>1.000000</td>\n",
       "    </tr>\n",
       "  </tbody>\n",
       "</table>\n",
       "</div>"
      ],
      "text/plain": [
       "                        THEFT   BATTERY  CRIMINAL DAMAGE  NARCOTICS   ASSAULT  \\\n",
       "THEFT                1.000000  0.105854         0.075943   0.068029  0.066417   \n",
       "BATTERY              0.105854  1.000000         0.101798   0.139691  0.104406   \n",
       "CRIMINAL DAMAGE      0.075943  0.101798         1.000000   0.074156  0.061469   \n",
       "NARCOTICS            0.068029  0.139691         0.074156   1.000000  0.086472   \n",
       "ASSAULT              0.066417  0.104406         0.061469   0.086472  1.000000   \n",
       "BURGLARY             0.050817  0.061343         0.051847   0.047265  0.036869   \n",
       "MOTOR VEHICLE THEFT  0.047021  0.049696         0.038608   0.044761  0.031553   \n",
       "ROBBERY              0.060383  0.079825         0.047310   0.069765  0.050848   \n",
       "\n",
       "                     BURGLARY  MOTOR VEHICLE THEFT   ROBBERY  \n",
       "THEFT                0.050817             0.047021  0.060383  \n",
       "BATTERY              0.061343             0.049696  0.079825  \n",
       "CRIMINAL DAMAGE      0.051847             0.038608  0.047310  \n",
       "NARCOTICS            0.047265             0.044761  0.069765  \n",
       "ASSAULT              0.036869             0.031553  0.050848  \n",
       "BURGLARY             1.000000             0.028230  0.033261  \n",
       "MOTOR VEHICLE THEFT  0.028230             1.000000  0.029594  \n",
       "ROBBERY              0.033261             0.029594  1.000000  "
      ]
     },
     "execution_count": 60,
     "metadata": {},
     "output_type": "execute_result"
    }
   ],
   "source": [
    "df_now.corr()"
   ]
  },
  {
   "cell_type": "code",
   "execution_count": null,
   "metadata": {},
   "outputs": [],
   "source": []
  },
  {
   "cell_type": "code",
   "execution_count": null,
   "metadata": {},
   "outputs": [],
   "source": []
  },
  {
   "cell_type": "code",
   "execution_count": null,
   "metadata": {},
   "outputs": [],
   "source": []
  },
  {
   "cell_type": "code",
   "execution_count": 66,
   "metadata": {},
   "outputs": [],
   "source": [
    "X = dense_crimes[:-1,:-1].swapaxes(1,2).reshape(-1,9)\n",
    "y = dense_crimes[1:,0].reshape(-1)\n",
    "y[y > 0] = 1\n",
    "from sklearn.feature_selection import mutual_info_classif"
   ]
  },
  {
   "cell_type": "code",
   "execution_count": 67,
   "metadata": {},
   "outputs": [
    {
     "data": {
      "text/plain": [
       "array([0.07804144, 0.02078052, 0.02245209, 0.01046461, 0.01601758,\n",
       "       0.0073597 , 0.00517525, 0.00221414, 0.00494581])"
      ]
     },
     "execution_count": 67,
     "metadata": {},
     "output_type": "execute_result"
    }
   ],
   "source": [
    "mutual_info_classif(X,y)"
   ]
  },
  {
   "cell_type": "markdown",
   "metadata": {},
   "source": [
    "# Why conditional mutual information is larger than mutual information\n",
    "The conditional variable has more possible states and therfore the join has a higher entropy - the maximum value it can take on can therefore be higher - to make plots easier to read we can normalize the mutual information with the mutual information of the target signal with itself.\n",
    "\n",
    "$I(X;Y) = H(X) + H(Y) - H(X,Y)$\n",
    "\n",
    "\n",
    "$I(X;Y|Z) = H(X,Z) + H(Y,Z) - H(X,Y,Z) - H(Z)$"
   ]
  },
  {
   "cell_type": "code",
   "execution_count": 1,
   "metadata": {},
   "outputs": [],
   "source": [
    "from sparse_discrete_table import SparseDiscreteTable, build_discrete_table\n",
    "from ipywidgets import widgets\n",
    "import numpy as np\n",
    "import matplotlib.pyplot as plt\n",
    "from scipy.stats import pearsonr\n",
    "import plotly.graph_objects as go"
   ]
  },
  {
   "cell_type": "code",
   "execution_count": 2,
   "metadata": {},
   "outputs": [],
   "source": [
    "def plot(y,x=None, mode='lines+markers'):\n",
    "    if x is None or len(x) != len(y):\n",
    "        x = np.arange(len(y))\n",
    "        \n",
    "    data = [go.Scatter(x=y,y=y,mode=mode)]\n",
    "    layout = dict(width=900,height=400)\n",
    "    return go.FigureWidget(data=data, layout=layout)"
   ]
  },
  {
   "cell_type": "code",
   "execution_count": 3,
   "metadata": {},
   "outputs": [],
   "source": [
    "def gen_obs(k,mu,w,n):\n",
    "    obs = []\n",
    "    for i in range(n):\n",
    "        lam = mu+k\n",
    "        try:\n",
    "            o = poisson.rvs(mu=lam,size=1)\n",
    "            obs.append(o[0])\n",
    "            k = k*(1-w) + o*(w)\n",
    "        except ValueError as e:\n",
    "            raise ValueError(f\"{e} - lam={lam}\")\n",
    "            \n",
    "    return obs\n",
    "\n",
    "\n",
    "def gen_mi(obs):\n",
    "    mis = []\n",
    "    for t in range(1,30):\n",
    "        xy = np.stack([obs[t:], obs[:-t]], axis=1)\n",
    "        dt = build_discrete_table(xy, ['x','y'])\n",
    "        mi = dt.mutual_information(['x'], ['y'])\n",
    "    #     print(f\"mi: {mi}\")\n",
    "        mis.append(mi)\n",
    "    return mis"
   ]
  },
  {
   "cell_type": "code",
   "execution_count": 4,
   "metadata": {},
   "outputs": [
    {
     "data": {
      "application/vnd.jupyter.widget-view+json": {
       "model_id": "75c208001d204cddab193fef2928e059",
       "version_major": 2,
       "version_minor": 0
      },
      "text/plain": [
       "VBox(children=(VBox(children=(FloatSlider(value=0.0, continuous_update=False, description='k', max=10.0, step=…"
      ]
     },
     "metadata": {},
     "output_type": "display_data"
    }
   ],
   "source": [
    "from scipy.stats import poisson\n",
    "\n",
    "n = 100\n",
    "mu = .05\n",
    "k = 0\n",
    "w = .91\n",
    "\n",
    "obs = gen_obs(k,mu,w,n)\n",
    "fig = plot(gen_mi(obs))\n",
    "fig_obs = plot(obs)\n",
    "\n",
    "\n",
    "k_slider = widgets.FloatSlider(\n",
    "    value=k,\n",
    "    min=0,\n",
    "    max=10.0,\n",
    "    step=1,\n",
    "    description='k',\n",
    "    continuous_update=False,\n",
    ")\n",
    "\n",
    "mu_slider = widgets.FloatSlider(\n",
    "    value=mu,\n",
    "    min=.05,\n",
    "    max=2.0,\n",
    "    step=0.05,\n",
    "    description='mu',\n",
    "    continuous_update=False,\n",
    ")\n",
    "\n",
    "w_slider = widgets.FloatSlider(\n",
    "    value=w,\n",
    "    min=.001,\n",
    "    max=.99,\n",
    "    step=.001,\n",
    "    description='w',\n",
    "    continuous_update=False,\n",
    ")\n",
    "\n",
    "n_slider = widgets.IntSlider(\n",
    "    value=n,\n",
    "    min=1,\n",
    "    max=10_000,\n",
    "    step=10,\n",
    "    description='n',\n",
    "    continuous_update=False,\n",
    ")\n",
    "\n",
    "\n",
    "wl = [k_slider, mu_slider, w_slider, n_slider]\n",
    "container = widgets.VBox(wl)\n",
    "\n",
    "def regiser_callback(fn, widget_list):\n",
    "    for widg in widget_list:\n",
    "        widg.observe(fn)\n",
    "        \n",
    "def callback(change):\n",
    "    global k, mu, w, n, fig\n",
    "#     print(f\"change: {change}\\n\\n\")\n",
    "    if isinstance(change, dict) and change['name'] == 'value':\n",
    "        val = change['new']\n",
    "        desc = change['owner'].description\n",
    "        if desc == 'k':\n",
    "            k = val\n",
    "        if desc == 'mu':\n",
    "            mu = val\n",
    "        if desc == 'w':\n",
    "            w = val\n",
    "        if desc == 'n':\n",
    "            n = val  \n",
    "            \n",
    "        y_obs = gen_obs(k,mu,w,n)\n",
    "        x_obs = np.arange(len(y_obs))\n",
    "        \n",
    "        y = gen_mi(obs)\n",
    "        x = np.arange(len(y))\n",
    "        with fig.batch_update():\n",
    "            fig.data[0].x = x\n",
    "            fig.data[0].y = y\n",
    "        \n",
    "        with fig.batch_update():\n",
    "            fig_obs.data[0].x = x_obs\n",
    "            fig_obs.data[0].y = y_obs\n",
    "        \n",
    "regiser_callback(callback, wl)\n",
    "widgets.VBox([container, fig, fig_obs])"
   ]
  },
  {
   "cell_type": "markdown",
   "metadata": {},
   "source": [
    "# Interactive Plotly Plots"
   ]
  },
  {
   "cell_type": "code",
   "execution_count": 1,
   "metadata": {},
   "outputs": [],
   "source": [
    "from pprint import pprint"
   ]
  },
  {
   "cell_type": "code",
   "execution_count": 2,
   "metadata": {},
   "outputs": [],
   "source": [
    "mapbox_access_token = open(\".mapbox_token\").read()\n",
    "# mapbox_access_token = \"open-street-map\"\n",
    "mapbox_access_token\n",
    "\n",
    "on_state = ('#f050ae', 8)\n",
    "off_state = ('#ffab00', 8)\n",
    "\n",
    "mapbox_styles = {\n",
    "    \"sat\": \"mapbox://styles/bernsblack/ckecz0wr52pfc1at7tvu43fmj\", \n",
    "    \"mono\": \"mapbox://styles/bernsblack/ckecyyizy065w19psrikmeo5d\",\n",
    "    \"dark\": \"mapbox://styles/bernsblack/ckeikbchd254619s57np6iyum\",\n",
    "}"
   ]
  },
  {
   "cell_type": "code",
   "execution_count": 3,
   "metadata": {},
   "outputs": [],
   "source": [
    "from utils.data_processing import time_series_to_time_index"
   ]
  },
  {
   "cell_type": "code",
   "execution_count": 4,
   "metadata": {},
   "outputs": [],
   "source": [
    "# importing ogirinal data\n",
    "import pandas as pd\n",
    "import numpy as np\n",
    "import plotly.graph_objs as go"
   ]
  },
  {
   "cell_type": "code",
   "execution_count": 5,
   "metadata": {},
   "outputs": [],
   "source": [
    "color_palette = [\"#33a8c7\",\"#52e3e1\",\"#a0e426\",\"#fdf148\",\"#ffab00\",\"#f77976\",\"#f050ae\",\"#d883ff\",\"#9336fd\"]"
   ]
  },
  {
   "cell_type": "code",
   "execution_count": 6,
   "metadata": {},
   "outputs": [],
   "source": [
    "df = pd.read_csv(\"data/original/Crimes_Chicago_2001_to_2019.csv\",nrows=100_000)"
   ]
  },
  {
   "cell_type": "code",
   "execution_count": 27,
   "metadata": {},
   "outputs": [],
   "source": [
    "df = df[[\n",
    "    'ID',\n",
    "    'Date',\n",
    "    'Primary Type',\n",
    "#     'Arrest',\n",
    "    'Latitude',\n",
    "    'Longitude',\n",
    "#     'Census Tracts',\n",
    "]].dropna()"
   ]
  },
  {
   "cell_type": "code",
   "execution_count": 28,
   "metadata": {},
   "outputs": [],
   "source": [
    "# filter out rare crime categories\n",
    "top_k_crimes_cats = len(color_palette)\n",
    "crime_categories = list(df['Primary Type'].value_counts().index)[:top_k_crimes_cats]\n",
    "df = df[df['Primary Type'].isin(crime_categories)]"
   ]
  },
  {
   "cell_type": "code",
   "execution_count": 29,
   "metadata": {},
   "outputs": [],
   "source": [
    "from pandas.api.types import CategoricalDtype\n",
    "# Label encode the crime catgegories - makes histograms faster\n",
    "CrimeType = CategoricalDtype(categories=crime_categories, ordered=True)\n",
    "df['Primary Type'] = df['Primary Type'].astype(CrimeType)\n",
    "df['c'] = df['Primary Type'].cat.codes"
   ]
  },
  {
   "cell_type": "code",
   "execution_count": 30,
   "metadata": {},
   "outputs": [],
   "source": [
    "# convert string date to date time - takes the most time\n",
    "df['Date'] = pd.DatetimeIndex(pd.to_datetime(df['Date']))"
   ]
  },
  {
   "cell_type": "code",
   "execution_count": 31,
   "metadata": {},
   "outputs": [],
   "source": [
    "df['t'] = time_series_to_time_index(t_series=df.Date, t_step='1D', floor=True)\n",
    "# df['t'] = time_series_to_time_index(t_series=df.Date, t_step='1H', floor=True)"
   ]
  },
  {
   "cell_type": "code",
   "execution_count": 32,
   "metadata": {},
   "outputs": [],
   "source": [
    "from utils.utils import ffloor, fceil"
   ]
  },
  {
   "cell_type": "code",
   "execution_count": 33,
   "metadata": {},
   "outputs": [
    {
     "name": "stdout",
     "output_type": "stream",
     "text": [
      "ratio_xy: 0.7730030319345187\n",
      "lat_per_metre: 9.003326876598671e-06\n",
      "lon_per_metre: 1.2003347847229684e-05\n"
     ]
    }
   ],
   "source": [
    "from geopy import distance\n",
    "\n",
    "# get meter per degree estimat\n",
    "coord_series = df[['Latitude', 'Longitude']]\n",
    "\n",
    "lat_min, lon_min = coord_series.min()\n",
    "lat_max, lon_max = coord_series.max()\n",
    "\n",
    "lat_mean, lon_mean = coord_series.mean()\n",
    "\n",
    "dy = distance.distance((lat_min, lon_min), (lat_max, lon_min)).m\n",
    "dx = distance.distance((lat_min, lon_min), (lat_min, lon_max)).m\n",
    "\n",
    "lat_per_metre = (lat_max - lat_min)/dy\n",
    "lon_per_metre = (lon_max - lon_min)/dx\n",
    "\n",
    "ratio_xy = dx/dy\n",
    "print(f\"ratio_xy: {ratio_xy}\")\n",
    "print(f\"lat_per_metre: {lat_per_metre}\")\n",
    "print(f\"lon_per_metre: {lon_per_metre}\")"
   ]
  },
  {
   "cell_type": "markdown",
   "metadata": {},
   "source": [
    "### Very important  - all the meta data is mapped from intervals of 0.001 in the lat and lon space with ratios of 8 and 11 to ensure that the grids cels are square"
   ]
  },
  {
   "cell_type": "code",
   "execution_count": 170,
   "metadata": {},
   "outputs": [
    {
     "name": "stdout",
     "output_type": "stream",
     "text": [
      "{'dlat': 0.004,\n",
      " 'dlon': 0.005,\n",
      " 'x in metres': 425.0,\n",
      " 'x_scale': 5,\n",
      " 'y in metres': 440.0,\n",
      " 'y_scale': 4}\n"
     ]
    }
   ],
   "source": [
    "# [20,16] - [10,8] - [5,4] - [3,2] - [1,1]\n",
    "x_scale, y_scale = 5,4#3,2\n",
    "xy_scale = np.array([x_scale, y_scale])  # must be integer so that we can easily sample demographic data\n",
    "dlon, dlat = xy_scale * np.array([0.001, 0.001])\n",
    "meta_info = {}\n",
    "meta_info[\"x_scale\"] = x_scale\n",
    "meta_info[\"y_scale\"] = y_scale\n",
    "meta_info[\"dlon\"] = float(dlon)\n",
    "meta_info[\"dlat\"] = float(dlat)\n",
    "meta_info[\"x in metres\"] = 85000 * float(dlon)\n",
    "meta_info[\"y in metres\"] = 110000 * float(dlat)\n",
    "\n",
    "pprint(meta_info)\n",
    "\n",
    "# use perfect squares perfect squares\n",
    "\"\"\"\n",
    "all the meta data is mapped from intervals of 0.001 in \n",
    "the lat and lon space with ratios of 8 and 11 to ensure that the grids cels are square\n",
    "\"\"\"\n",
    "# cell_size_m = 430\n",
    "# dlat = cell_size_m*lat_per_metre\n",
    "# dlon = cell_size_m*lon_per_metre\n",
    " \n",
    "# use increments of 0.001\n",
    "\n",
    "xbins = np.arange(ffloor(lon_min, dlon),fceil(lon_max,dlon), dlon)\n",
    "nx = len(xbins)\n",
    "\n",
    "ybins = np.arange(ffloor(lat_min, dlat),fceil(lat_max,dlat), dlat)\n",
    "ny = len(ybins)\n",
    "\n",
    "nt = int(np.ceil(df['t'].max()))\n",
    "tbins = np.arange(int(np.floor(df['t'].min())),nt+1,1)\n",
    "\n",
    "nc = len(crime_categories)\n",
    "cbins = np.arange(0,nc+1,1)"
   ]
  },
  {
   "cell_type": "code",
   "execution_count": 171,
   "metadata": {},
   "outputs": [
    {
     "data": {
      "text/plain": [
       "(136, 9, 95, 79)"
      ]
     },
     "execution_count": 171,
     "metadata": {},
     "output_type": "execute_result"
    }
   ],
   "source": [
    "counts, edges = np.histogramdd(\n",
    "    sample=df[['t', 'c', 'Latitude', 'Longitude']].values,\n",
    "    bins=(tbins, cbins, ybins, xbins),\n",
    ") # (nt, nc, ny, nx))\n",
    "\n",
    "tbins, cbins, ybins, xbins = edges\n",
    "\n",
    "counts_sum  = counts.sum(1)\n",
    "counts_mean = counts_sum.mean(0)\n",
    "\n",
    "counts.shape"
   ]
  },
  {
   "cell_type": "code",
   "execution_count": 172,
   "metadata": {},
   "outputs": [],
   "source": [
    "# todo get better init values or save in state object\n",
    "lon_filter = []\n",
    "lat_filter = []\n",
    "date_range_filter = ()\n",
    "selected_crime_types = []\n",
    "current_date_label = \"Empty\"\n",
    "time_index = 0"
   ]
  },
  {
   "cell_type": "code",
   "execution_count": 173,
   "metadata": {},
   "outputs": [],
   "source": [
    "from utils.plots import hist2d_to_geo"
   ]
  },
  {
   "cell_type": "code",
   "execution_count": 174,
   "metadata": {},
   "outputs": [],
   "source": [
    "blocks, values = hist2d_to_geo(counts_mean,xbins,ybins,filter_zero=True)"
   ]
  },
  {
   "cell_type": "code",
   "execution_count": 175,
   "metadata": {},
   "outputs": [],
   "source": [
    "sub = df.sample(1000)"
   ]
  },
  {
   "cell_type": "markdown",
   "metadata": {},
   "source": [
    "### Setup plots"
   ]
  },
  {
   "cell_type": "code",
   "execution_count": 176,
   "metadata": {
    "scrolled": false
   },
   "outputs": [
    {
     "data": {
      "application/vnd.jupyter.widget-view+json": {
       "model_id": "7b8c2db5a5a74f5787ad40c89ddea912",
       "version_major": 2,
       "version_minor": 0
      },
      "text/plain": [
       "FigureWidget({\n",
       "    'data': [{'colorscale': [[0.0, '#440154'], [0.1111111111111111, '#482878'],\n",
       "               …"
      ]
     },
     "metadata": {},
     "output_type": "display_data"
    }
   ],
   "source": [
    "heatmap = go.Choroplethmapbox(\n",
    "    geojson=blocks,\n",
    "    locations=values.id,\n",
    "    z=values.value,\n",
    "    colorscale=\"Viridis\",\n",
    "    zmin=values.value.min(),\n",
    "    zmax=values.value.max(),\n",
    "    marker_opacity=0.5,\n",
    "    marker_line_width=0,\n",
    "    name='heatmap',\n",
    "    hoverinfo='text',\n",
    "    hovertext=values[['y','x','value']],\n",
    ")\n",
    "\n",
    "scatter = go.Scattermapbox(\n",
    "    lon=sub.Longitude,\n",
    "    lat=sub.Latitude,\n",
    "    opacity=.4,\n",
    "    hoverinfo='skip',\n",
    "    name='scatter',\n",
    ")\n",
    "\n",
    "fig = go.FigureWidget(data=[heatmap, scatter])\n",
    "\n",
    "fig.update_layout(\n",
    "    clickmode='event+select',\n",
    "    mapbox_style=mapbox_styles[\"sat\"],\n",
    "    mapbox_accesstoken=mapbox_access_token,\n",
    "    mapbox_zoom=10,\n",
    "    mapbox_center = {\"lat\": np.mean(ybins), \"lon\": np.mean(xbins)},\n",
    "    margin={\"r\":0,\"t\":30,\"l\":0,\"b\":10},\n",
    "    height=500,\n",
    "#     showlegend=True,\n",
    "#     legend=dict(\n",
    "#         yanchor=\"top\",\n",
    "#         y=0.99,\n",
    "#         xanchor=\"left\",\n",
    "#         x=0.01,\n",
    "#     ),\n",
    ")\n",
    "\n",
    "def heatmap_on_select(trace,points,selector):\n",
    "    global lat_filter, lon_filter\n",
    "    \n",
    "    inds = points.point_inds\n",
    "    selection = values.iloc[inds]\n",
    "    _,_,f_x_min,f_y_min = selection.min()\n",
    "    _,_,f_x_max,f_y_max = selection.max()\n",
    "\n",
    "    lon_filter = xbins[[f_x_min,f_x_max]]\n",
    "    lat_filter = ybins[[f_y_min,f_y_max]]\n",
    "    \n",
    "    \n",
    "heatmap = fig.data[0]    \n",
    "# heatmap.on_click(callback_fn)\n",
    "heatmap.on_selection(heatmap_on_select)\n",
    "\n",
    "fig"
   ]
  },
  {
   "cell_type": "code",
   "execution_count": 177,
   "metadata": {},
   "outputs": [],
   "source": [
    "scattergl = go.Scattergl(\n",
    "    x=sub.Longitude,\n",
    "    y=sub.Latitude,\n",
    "    opacity=.6,\n",
    "    hoverinfo='skip',\n",
    "    mode='markers',\n",
    "    name='scattergl',\n",
    "#     marker_symbol=\"x-thin\", # \"cross\",\n",
    "    marker_color='red',\n",
    "#     hovertext=\"\",\n",
    ")\n",
    "\n",
    "heatmapgl = go.Heatmap(\n",
    "    z=counts_mean,\n",
    "    x=xbins,\n",
    "    y=ybins, \n",
    "    hoverinfo='skip',\n",
    "    colorscale='viridis',\n",
    "    opacity=1,\n",
    "    name='heatmapgl',\n",
    ")\n",
    "\n",
    "\n",
    "fig_height = 600\n",
    "\n",
    "fig2 = go.FigureWidget(\n",
    "    data=[heatmapgl, scattergl],\n",
    "    layout=dict(\n",
    "        margin={\"r\":50,\"t\":30,\"l\":0,\"b\":0},\n",
    "        height=fig_height,\n",
    "#         width=fig_height*ratio_xy,\n",
    "        yaxis=dict(scaleanchor=\"x\", scaleratio=1/ratio_xy),\n",
    "        clickmode='event+select',\n",
    "    ),\n",
    ")\n",
    "\n",
    "scattergl = fig2.data[1]"
   ]
  },
  {
   "cell_type": "code",
   "execution_count": 178,
   "metadata": {},
   "outputs": [],
   "source": [
    "import plotly.express as px\n",
    "\n",
    "\n",
    "# series = sub.groupby(by=['t'])['ID'].count().reset_index(name=\"Count\") # too many missing values - use hist\n",
    "fline = go.FigureWidget(px.line(data_frame=series, x=\"t\",y='Count'))"
   ]
  },
  {
   "cell_type": "code",
   "execution_count": 179,
   "metadata": {},
   "outputs": [],
   "source": [
    "# global updater\n",
    "def update_data():\n",
    "    global df, sub, lon_filter, lat_filter, date_range_filter, time_index\n",
    "    \n",
    "    # spatial filters\n",
    "    if lon_filter:\n",
    "        f_lon_min, f_lon_max = lon_filter\n",
    "        lon_mask = (df.Longitude >= f_lon_min) & (df.Longitude <= f_lon_max)\n",
    "    \n",
    "    if lat_filter:\n",
    "        f_lat_min, f_lat_max = lat_filter\n",
    "        lat_mask = (df.Latitude >= f_lat_min) & (df.Latitude <= f_lat_max)\n",
    "    \n",
    "    \n",
    "    # time filters\n",
    "    f_date_min, f_date_max = date_range[[*date_range_filter]]\n",
    "    date_range_mask = (df.Date >= f_date_min) & (df.Date <= f_date_max) \n",
    "    \n",
    "    # crime type filters\n",
    "    crime_types_mask = df['Primary Type'].isin(selected_crime_types)\n",
    "    \n",
    "    selected_mask = date_range_mask & crime_types_mask\n",
    "    \n",
    "    if lat_filter and lon_filter:\n",
    "        selected_mask = selected_mask & lon_mask & lat_mask\n",
    "    \n",
    "    sub = df[selected_mask]\n",
    "    \n",
    "#     series = sub.groupby(by=['t'])['ID'].count().reset_index(name=\"Count\") # dont use - too mayn missing values\n",
    "\n",
    "    # todo implement histo\n",
    "#     counts, edges = np.histogramdd(\n",
    "#         sample=sub[['t', 'c', 'Latitude', 'Longitude']].values,\n",
    "#         bins=(tbins, cbins, ybins, xbins),\n",
    "#     )\n",
    "\n",
    "    \n",
    "    nt = int(np.ceil(sub['t'].max()))\n",
    "    tbins = np.arange(int(np.floor(sub['t'].min())),nt+1,1)\n",
    "\n",
    "    \n",
    "    with fig2.batch_update():\n",
    "        scattergl.x=sub.Longitude\n",
    "        scattergl.y=sub.Latitude\n",
    "        \n",
    "        fline.data[0].x = series.t\n",
    "        fline.data[0].y = series[\"Count\"]"
   ]
  },
  {
   "cell_type": "code",
   "execution_count": 188,
   "metadata": {},
   "outputs": [
    {
     "data": {
      "text/plain": [
       "(array([34, 51, 62, 66, 62, 55, 55, 35, 72, 69, 51, 59, 46, 46, 56, 49, 55,\n",
       "        60, 49, 56, 40, 47, 69, 66, 55, 52, 53, 51, 48, 52, 53, 54, 32, 58,\n",
       "        62, 46, 65, 59, 56, 47, 49, 51, 65, 59, 73, 65, 49, 50, 73, 57, 71,\n",
       "        61, 69, 42, 70, 59, 61, 63, 57, 80, 59, 67, 53, 46, 65, 78, 69, 66,\n",
       "        57, 49, 66, 61, 70, 74, 57, 55, 51, 52, 69, 66, 76, 93, 67, 55, 62,\n",
       "        54, 85, 81, 60, 60, 53, 67, 57, 56, 77, 56, 63, 66, 65, 81, 62, 59,\n",
       "        64, 59, 62, 62, 44, 59, 52, 64, 55, 57, 72, 68, 66, 57, 69, 70, 56,\n",
       "        67, 80, 58, 96]),\n",
       " array([  6,   7,   8,   9,  10,  11,  12,  13,  14,  15,  16,  17,  18,\n",
       "         19,  20,  21,  22,  23,  24,  25,  26,  27,  28,  29,  30,  31,\n",
       "         32,  33,  34,  35,  36,  37,  38,  39,  40,  41,  42,  43,  44,\n",
       "         45,  46,  47,  48,  49,  50,  51,  52,  53,  54,  55,  56,  57,\n",
       "         58,  59,  60,  61,  62,  63,  64,  65,  66,  67,  68,  69,  70,\n",
       "         71,  72,  73,  74,  75,  76,  77,  78,  79,  80,  81,  82,  83,\n",
       "         84,  85,  86,  87,  88,  89,  90,  91,  92,  93,  94,  95,  96,\n",
       "         97,  98,  99, 100, 101, 102, 103, 104, 105, 106, 107, 108, 109,\n",
       "        110, 111, 112, 113, 114, 115, 116, 117, 118, 119, 120, 121, 122,\n",
       "        123, 124, 125, 126, 127, 128, 129]))"
      ]
     },
     "execution_count": 188,
     "metadata": {},
     "output_type": "execute_result"
    }
   ],
   "source": [
    "nt = int(np.ceil(sub['t'].max()))\n",
    "tbins = np.arange(int(np.floor(sub['t'].min())),nt+1,1)\n",
    "\n",
    "np.histogram(sub.t, tbins)"
   ]
  },
  {
   "cell_type": "code",
   "execution_count": 180,
   "metadata": {},
   "outputs": [],
   "source": [
    "def scattergl_on_select(trace,points,selector):\n",
    "    global lat_filter, lon_filter\n",
    "    if trace.name == 'scattergl':                \n",
    "        lon_filter = selector.xrange\n",
    "        lat_filter = selector.yrange\n",
    "        \n",
    "        update_data()\n",
    "        \n",
    "    \n",
    "scattergl.on_selection(scattergl_on_select)"
   ]
  },
  {
   "cell_type": "markdown",
   "metadata": {},
   "source": [
    "### Setup widgets\n",
    "TODO: split widgets into 2 types:\n",
    "- Filter base data\n",
    "- Select data (point in time and space)"
   ]
  },
  {
   "cell_type": "code",
   "execution_count": 181,
   "metadata": {},
   "outputs": [],
   "source": [
    "# widget setup\n",
    "from ipywidgets import Layout, widgets\n",
    "\n",
    "# helper functions\n",
    "def get_widget_index(change):\n",
    "    if isinstance(change, dict) and change.get('name') == 'index':\n",
    "        return change.get('new')\n",
    "    return None\n",
    "\n",
    "def get_widget_value(change):\n",
    "    if isinstance(change, dict) and change.get('name') == 'value':\n",
    "        return change.get('new')\n",
    "    return None\n",
    "\n",
    "\n",
    "# date selectors\n",
    "date_range = pd.date_range(df.Date.min().ceil('1D'), df.Date.max().floor('1D'), freq='1D')\n",
    "\n",
    "date_range_filter = [date_range.min(),date_range.max()]\n",
    "\n",
    "date_range_slider = widgets.SelectionRangeSlider(\n",
    "    options=[d.strftime('%y/%m/%d') for d in date_range],\n",
    "    index=(0, len(date_range)-1),\n",
    "    description='Date Range:',\n",
    "    disabled=False,\n",
    "    orientation = 'horizontal',\n",
    "    layout=Layout(width='95%'),\n",
    "    continuous_update=False,\n",
    ")\n",
    "\n",
    "def set_date_range_filter(change):\n",
    "    global date_range_filter\n",
    "    \n",
    "    index = get_widget_index(change)\n",
    "    if index:\n",
    "        date_range_filter = index\n",
    "        update_data()\n",
    "\n",
    "date_range_slider.observe(set_date_range_filter)\n",
    "\n",
    "\n",
    "# date display label\n",
    "current_date_label = widgets.Label(f'Date: {date_range[0]}')\n",
    "\n",
    "# time index selector\n",
    "time_index_slider = widgets.IntSlider(\n",
    "    value=0,\n",
    "    min=0,\n",
    "    max=len(date_range)-1,\n",
    "    step=1,\n",
    "    description='Time Index:',\n",
    "    continuous_update=False,\n",
    "    layout=Layout(width='80%'),\n",
    ")\n",
    "\n",
    "def time_index_change(change):\n",
    "    global current_date_label, time_index\n",
    "    time_index = get_widget_value(change)\n",
    "    if time_index:\n",
    "        current_date_label.value = f'Date: {date_range[time_index]}'\n",
    "        \n",
    "time_index_slider.observe(time_index_change)\n",
    "\n",
    "play_button = widgets.Play(\n",
    "    value=0,\n",
    "    min=time_index_slider.min,\n",
    "    max=time_index_slider.max,\n",
    "    step=1,\n",
    "    interval=500,\n",
    "    description=\"Press play\",\n",
    "    disabled=False\n",
    ")\n",
    "\n",
    "widgets.jslink((play_button, 'value'), (time_index_slider, 'value'))\n",
    "\n",
    "time_selectors = widgets.VBox([\n",
    "    widgets.HBox([date_range_slider]),\n",
    "    widgets.HBox([time_index_slider])    \n",
    "])\n",
    "\n",
    "\n",
    "# crime type selector\n",
    "selected_crime_types = []\n",
    "\n",
    "def set_selected_crime_types(button):\n",
    "    global selected_crime_types\n",
    "    if button.button_style == \"\":\n",
    "        button.button_style = \"success\"\n",
    "        selected_crime_types.append(button.description)\n",
    "    else:\n",
    "        button.button_style = \"\"\n",
    "        selected_crime_types.remove(button.description)\n",
    "    update_data()\n",
    "    \n",
    "def new_buttons(names,all_selected=False):\n",
    "    global selected_crime_types\n",
    "    buttons = []\n",
    "    \n",
    "    if all_selected:\n",
    "        selected_crime_types = [*names]\n",
    "        button_style = \"success\"\n",
    "    else:\n",
    "        selected_crime_types = []\n",
    "        button_style = \"\"\n",
    "        \n",
    "    for name in names:\n",
    "        button = widgets.Button(\n",
    "            description=name,\n",
    "            tooltip=name,\n",
    "            disabled=False,\n",
    "            button_style=button_style, # 'success', 'info', 'warning', 'danger' or ''\n",
    "        )\n",
    "        \n",
    "        button.on_click(set_selected_crime_types)\n",
    "        \n",
    "        buttons.append(button)\n",
    "    return buttons\n",
    "    \n",
    "buttons = new_buttons(names=crime_categories, all_selected=True)\n",
    "crime_selectors = widgets.VBox([\n",
    "    widgets.HBox(buttons[:3]),\n",
    "    widgets.HBox(buttons[3:6]),\n",
    "    widgets.HBox(buttons[6:]),\n",
    "])\n",
    "\n",
    "\n",
    "# widgets combinations and setup\n",
    "row0 = widgets.HBox([play_button, crime_selectors])\n",
    "row1 = time_selectors\n",
    "\n",
    "controller = widgets.VBox([row0, row1,current_date_label])"
   ]
  },
  {
   "cell_type": "code",
   "execution_count": 182,
   "metadata": {
    "scrolled": false
   },
   "outputs": [
    {
     "data": {
      "application/vnd.jupyter.widget-view+json": {
       "model_id": "a239327d7222455eaa4692ae9d764a3b",
       "version_major": 2,
       "version_minor": 0
      },
      "text/plain": [
       "VBox(children=(FigureWidget({\n",
       "    'data': [{'hovertemplate': 't=%{x}<br>Count=%{y}<extra></extra>',\n",
       "          …"
      ]
     },
     "metadata": {},
     "output_type": "display_data"
    },
    {
     "ename": "IndexError",
     "evalue": "arrays used as indices must be of integer or boolean type",
     "output_type": "error",
     "traceback": [
      "\u001b[0;31m---------------------------------------------------------------------------\u001b[0m",
      "\u001b[0;31mIndexError\u001b[0m                                Traceback (most recent call last)",
      "\u001b[0;32m~/anaconda3/lib/python3.8/site-packages/ipywidgets/widgets/widget.py\u001b[0m in \u001b[0;36m_handle_msg\u001b[0;34m(self, msg)\u001b[0m\n\u001b[1;32m    674\u001b[0m                 \u001b[0;32mif\u001b[0m \u001b[0;34m'buffer_paths'\u001b[0m \u001b[0;32min\u001b[0m \u001b[0mdata\u001b[0m\u001b[0;34m:\u001b[0m\u001b[0;34m\u001b[0m\u001b[0;34m\u001b[0m\u001b[0m\n\u001b[1;32m    675\u001b[0m                     \u001b[0m_put_buffers\u001b[0m\u001b[0;34m(\u001b[0m\u001b[0mstate\u001b[0m\u001b[0;34m,\u001b[0m \u001b[0mdata\u001b[0m\u001b[0;34m[\u001b[0m\u001b[0;34m'buffer_paths'\u001b[0m\u001b[0;34m]\u001b[0m\u001b[0;34m,\u001b[0m \u001b[0mmsg\u001b[0m\u001b[0;34m[\u001b[0m\u001b[0;34m'buffers'\u001b[0m\u001b[0;34m]\u001b[0m\u001b[0;34m)\u001b[0m\u001b[0;34m\u001b[0m\u001b[0;34m\u001b[0m\u001b[0m\n\u001b[0;32m--> 676\u001b[0;31m                 \u001b[0mself\u001b[0m\u001b[0;34m.\u001b[0m\u001b[0mset_state\u001b[0m\u001b[0;34m(\u001b[0m\u001b[0mstate\u001b[0m\u001b[0;34m)\u001b[0m\u001b[0;34m\u001b[0m\u001b[0;34m\u001b[0m\u001b[0m\n\u001b[0m\u001b[1;32m    677\u001b[0m \u001b[0;34m\u001b[0m\u001b[0m\n\u001b[1;32m    678\u001b[0m         \u001b[0;31m# Handle a state request.\u001b[0m\u001b[0;34m\u001b[0m\u001b[0;34m\u001b[0m\u001b[0;34m\u001b[0m\u001b[0m\n",
      "\u001b[0;32m~/anaconda3/lib/python3.8/site-packages/ipywidgets/widgets/widget.py\u001b[0m in \u001b[0;36mset_state\u001b[0;34m(self, sync_data)\u001b[0m\n\u001b[1;32m    543\u001b[0m                     from_json = self.trait_metadata(name, 'from_json',\n\u001b[1;32m    544\u001b[0m                                                     self._trait_from_json)\n\u001b[0;32m--> 545\u001b[0;31m                     \u001b[0mself\u001b[0m\u001b[0;34m.\u001b[0m\u001b[0mset_trait\u001b[0m\u001b[0;34m(\u001b[0m\u001b[0mname\u001b[0m\u001b[0;34m,\u001b[0m \u001b[0mfrom_json\u001b[0m\u001b[0;34m(\u001b[0m\u001b[0msync_data\u001b[0m\u001b[0;34m[\u001b[0m\u001b[0mname\u001b[0m\u001b[0;34m]\u001b[0m\u001b[0;34m,\u001b[0m \u001b[0mself\u001b[0m\u001b[0;34m)\u001b[0m\u001b[0;34m)\u001b[0m\u001b[0;34m\u001b[0m\u001b[0;34m\u001b[0m\u001b[0m\n\u001b[0m\u001b[1;32m    546\u001b[0m \u001b[0;34m\u001b[0m\u001b[0m\n\u001b[1;32m    547\u001b[0m     \u001b[0;32mdef\u001b[0m \u001b[0msend\u001b[0m\u001b[0;34m(\u001b[0m\u001b[0mself\u001b[0m\u001b[0;34m,\u001b[0m \u001b[0mcontent\u001b[0m\u001b[0;34m,\u001b[0m \u001b[0mbuffers\u001b[0m\u001b[0;34m=\u001b[0m\u001b[0;32mNone\u001b[0m\u001b[0;34m)\u001b[0m\u001b[0;34m:\u001b[0m\u001b[0;34m\u001b[0m\u001b[0;34m\u001b[0m\u001b[0m\n",
      "\u001b[0;32m~/anaconda3/lib/python3.8/contextlib.py\u001b[0m in \u001b[0;36m__exit__\u001b[0;34m(self, type, value, traceback)\u001b[0m\n\u001b[1;32m    118\u001b[0m         \u001b[0;32mif\u001b[0m \u001b[0mtype\u001b[0m \u001b[0;32mis\u001b[0m \u001b[0;32mNone\u001b[0m\u001b[0;34m:\u001b[0m\u001b[0;34m\u001b[0m\u001b[0;34m\u001b[0m\u001b[0m\n\u001b[1;32m    119\u001b[0m             \u001b[0;32mtry\u001b[0m\u001b[0;34m:\u001b[0m\u001b[0;34m\u001b[0m\u001b[0;34m\u001b[0m\u001b[0m\n\u001b[0;32m--> 120\u001b[0;31m                 \u001b[0mnext\u001b[0m\u001b[0;34m(\u001b[0m\u001b[0mself\u001b[0m\u001b[0;34m.\u001b[0m\u001b[0mgen\u001b[0m\u001b[0;34m)\u001b[0m\u001b[0;34m\u001b[0m\u001b[0;34m\u001b[0m\u001b[0m\n\u001b[0m\u001b[1;32m    121\u001b[0m             \u001b[0;32mexcept\u001b[0m \u001b[0mStopIteration\u001b[0m\u001b[0;34m:\u001b[0m\u001b[0;34m\u001b[0m\u001b[0;34m\u001b[0m\u001b[0m\n\u001b[1;32m    122\u001b[0m                 \u001b[0;32mreturn\u001b[0m \u001b[0;32mFalse\u001b[0m\u001b[0;34m\u001b[0m\u001b[0;34m\u001b[0m\u001b[0m\n",
      "\u001b[0;32m~/anaconda3/lib/python3.8/site-packages/traitlets/traitlets.py\u001b[0m in \u001b[0;36mhold_trait_notifications\u001b[0;34m(self)\u001b[0m\n\u001b[1;32m   1129\u001b[0m                 \u001b[0;32mfor\u001b[0m \u001b[0mchanges\u001b[0m \u001b[0;32min\u001b[0m \u001b[0mcache\u001b[0m\u001b[0;34m.\u001b[0m\u001b[0mvalues\u001b[0m\u001b[0;34m(\u001b[0m\u001b[0;34m)\u001b[0m\u001b[0;34m:\u001b[0m\u001b[0;34m\u001b[0m\u001b[0;34m\u001b[0m\u001b[0m\n\u001b[1;32m   1130\u001b[0m                     \u001b[0;32mfor\u001b[0m \u001b[0mchange\u001b[0m \u001b[0;32min\u001b[0m \u001b[0mchanges\u001b[0m\u001b[0;34m:\u001b[0m\u001b[0;34m\u001b[0m\u001b[0;34m\u001b[0m\u001b[0m\n\u001b[0;32m-> 1131\u001b[0;31m                         \u001b[0mself\u001b[0m\u001b[0;34m.\u001b[0m\u001b[0mnotify_change\u001b[0m\u001b[0;34m(\u001b[0m\u001b[0mchange\u001b[0m\u001b[0;34m)\u001b[0m\u001b[0;34m\u001b[0m\u001b[0;34m\u001b[0m\u001b[0m\n\u001b[0m\u001b[1;32m   1132\u001b[0m \u001b[0;34m\u001b[0m\u001b[0m\n\u001b[1;32m   1133\u001b[0m     \u001b[0;32mdef\u001b[0m \u001b[0m_notify_trait\u001b[0m\u001b[0;34m(\u001b[0m\u001b[0mself\u001b[0m\u001b[0;34m,\u001b[0m \u001b[0mname\u001b[0m\u001b[0;34m,\u001b[0m \u001b[0mold_value\u001b[0m\u001b[0;34m,\u001b[0m \u001b[0mnew_value\u001b[0m\u001b[0;34m)\u001b[0m\u001b[0;34m:\u001b[0m\u001b[0;34m\u001b[0m\u001b[0;34m\u001b[0m\u001b[0m\n",
      "\u001b[0;32m~/anaconda3/lib/python3.8/site-packages/ipywidgets/widgets/widget.py\u001b[0m in \u001b[0;36mnotify_change\u001b[0;34m(self, change)\u001b[0m\n\u001b[1;32m    604\u001b[0m                 \u001b[0;31m# Send new state to front-end\u001b[0m\u001b[0;34m\u001b[0m\u001b[0;34m\u001b[0m\u001b[0;34m\u001b[0m\u001b[0m\n\u001b[1;32m    605\u001b[0m                 \u001b[0mself\u001b[0m\u001b[0;34m.\u001b[0m\u001b[0msend_state\u001b[0m\u001b[0;34m(\u001b[0m\u001b[0mkey\u001b[0m\u001b[0;34m=\u001b[0m\u001b[0mname\u001b[0m\u001b[0;34m)\u001b[0m\u001b[0;34m\u001b[0m\u001b[0;34m\u001b[0m\u001b[0m\n\u001b[0;32m--> 606\u001b[0;31m         \u001b[0msuper\u001b[0m\u001b[0;34m(\u001b[0m\u001b[0mWidget\u001b[0m\u001b[0;34m,\u001b[0m \u001b[0mself\u001b[0m\u001b[0;34m)\u001b[0m\u001b[0;34m.\u001b[0m\u001b[0mnotify_change\u001b[0m\u001b[0;34m(\u001b[0m\u001b[0mchange\u001b[0m\u001b[0;34m)\u001b[0m\u001b[0;34m\u001b[0m\u001b[0;34m\u001b[0m\u001b[0m\n\u001b[0m\u001b[1;32m    607\u001b[0m \u001b[0;34m\u001b[0m\u001b[0m\n\u001b[1;32m    608\u001b[0m     \u001b[0;32mdef\u001b[0m \u001b[0m__repr__\u001b[0m\u001b[0;34m(\u001b[0m\u001b[0mself\u001b[0m\u001b[0;34m)\u001b[0m\u001b[0;34m:\u001b[0m\u001b[0;34m\u001b[0m\u001b[0;34m\u001b[0m\u001b[0m\n",
      "\u001b[0;32m~/anaconda3/lib/python3.8/site-packages/traitlets/traitlets.py\u001b[0m in \u001b[0;36mnotify_change\u001b[0;34m(self, change)\u001b[0m\n\u001b[1;32m   1174\u001b[0m                 \u001b[0mc\u001b[0m \u001b[0;34m=\u001b[0m \u001b[0mgetattr\u001b[0m\u001b[0;34m(\u001b[0m\u001b[0mself\u001b[0m\u001b[0;34m,\u001b[0m \u001b[0mc\u001b[0m\u001b[0;34m.\u001b[0m\u001b[0mname\u001b[0m\u001b[0;34m)\u001b[0m\u001b[0;34m\u001b[0m\u001b[0;34m\u001b[0m\u001b[0m\n\u001b[1;32m   1175\u001b[0m \u001b[0;34m\u001b[0m\u001b[0m\n\u001b[0;32m-> 1176\u001b[0;31m             \u001b[0mc\u001b[0m\u001b[0;34m(\u001b[0m\u001b[0mchange\u001b[0m\u001b[0;34m)\u001b[0m\u001b[0;34m\u001b[0m\u001b[0;34m\u001b[0m\u001b[0m\n\u001b[0m\u001b[1;32m   1177\u001b[0m \u001b[0;34m\u001b[0m\u001b[0m\n\u001b[1;32m   1178\u001b[0m     \u001b[0;32mdef\u001b[0m \u001b[0m_add_notifiers\u001b[0m\u001b[0;34m(\u001b[0m\u001b[0mself\u001b[0m\u001b[0;34m,\u001b[0m \u001b[0mhandler\u001b[0m\u001b[0;34m,\u001b[0m \u001b[0mname\u001b[0m\u001b[0;34m,\u001b[0m \u001b[0mtype\u001b[0m\u001b[0;34m)\u001b[0m\u001b[0;34m:\u001b[0m\u001b[0;34m\u001b[0m\u001b[0;34m\u001b[0m\u001b[0m\n",
      "\u001b[0;32m~/anaconda3/lib/python3.8/site-packages/plotly/basewidget.py\u001b[0m in \u001b[0;36m_handler_js2py_pointsCallback\u001b[0;34m(self, change)\u001b[0m\n\u001b[1;32m    726\u001b[0m                 \u001b[0mtrace\u001b[0m\u001b[0;34m.\u001b[0m\u001b[0m_dispatch_on_unhover\u001b[0m\u001b[0;34m(\u001b[0m\u001b[0mpoints\u001b[0m\u001b[0;34m,\u001b[0m \u001b[0mstate\u001b[0m\u001b[0;34m)\u001b[0m\u001b[0;34m\u001b[0m\u001b[0;34m\u001b[0m\u001b[0m\n\u001b[1;32m    727\u001b[0m             \u001b[0;32melif\u001b[0m \u001b[0mevent_type\u001b[0m \u001b[0;34m==\u001b[0m \u001b[0;34m\"plotly_selected\"\u001b[0m\u001b[0;34m:\u001b[0m\u001b[0;34m\u001b[0m\u001b[0;34m\u001b[0m\u001b[0m\n\u001b[0;32m--> 728\u001b[0;31m                 \u001b[0mtrace\u001b[0m\u001b[0;34m.\u001b[0m\u001b[0m_dispatch_on_selection\u001b[0m\u001b[0;34m(\u001b[0m\u001b[0mpoints\u001b[0m\u001b[0;34m,\u001b[0m \u001b[0mselector\u001b[0m\u001b[0;34m)\u001b[0m\u001b[0;34m\u001b[0m\u001b[0;34m\u001b[0m\u001b[0m\n\u001b[0m\u001b[1;32m    729\u001b[0m             \u001b[0;32melif\u001b[0m \u001b[0mevent_type\u001b[0m \u001b[0;34m==\u001b[0m \u001b[0;34m\"plotly_deselect\"\u001b[0m\u001b[0;34m:\u001b[0m\u001b[0;34m\u001b[0m\u001b[0;34m\u001b[0m\u001b[0m\n\u001b[1;32m    730\u001b[0m                 \u001b[0mtrace\u001b[0m\u001b[0;34m.\u001b[0m\u001b[0m_dispatch_on_deselect\u001b[0m\u001b[0;34m(\u001b[0m\u001b[0mpoints\u001b[0m\u001b[0;34m)\u001b[0m\u001b[0;34m\u001b[0m\u001b[0;34m\u001b[0m\u001b[0m\n",
      "\u001b[0;32m~/anaconda3/lib/python3.8/site-packages/plotly/basedatatypes.py\u001b[0m in \u001b[0;36m_dispatch_on_selection\u001b[0;34m(self, points, selector)\u001b[0m\n\u001b[1;32m   5338\u001b[0m \u001b[0;34m\u001b[0m\u001b[0m\n\u001b[1;32m   5339\u001b[0m         \u001b[0;32mfor\u001b[0m \u001b[0mcallback\u001b[0m \u001b[0;32min\u001b[0m \u001b[0mself\u001b[0m\u001b[0;34m.\u001b[0m\u001b[0m_select_callbacks\u001b[0m\u001b[0;34m:\u001b[0m\u001b[0;34m\u001b[0m\u001b[0;34m\u001b[0m\u001b[0m\n\u001b[0;32m-> 5340\u001b[0;31m             \u001b[0mcallback\u001b[0m\u001b[0;34m(\u001b[0m\u001b[0mself\u001b[0m\u001b[0;34m,\u001b[0m \u001b[0mpoints\u001b[0m\u001b[0;34m,\u001b[0m \u001b[0mselector\u001b[0m\u001b[0;34m)\u001b[0m\u001b[0;34m\u001b[0m\u001b[0;34m\u001b[0m\u001b[0m\n\u001b[0m\u001b[1;32m   5341\u001b[0m \u001b[0;34m\u001b[0m\u001b[0m\n\u001b[1;32m   5342\u001b[0m     \u001b[0;31m# deselect\u001b[0m\u001b[0;34m\u001b[0m\u001b[0;34m\u001b[0m\u001b[0;34m\u001b[0m\u001b[0m\n",
      "\u001b[0;32m<ipython-input-180-201585e4a798>\u001b[0m in \u001b[0;36mscattergl_on_select\u001b[0;34m(trace, points, selector)\u001b[0m\n\u001b[1;32m      5\u001b[0m         \u001b[0mlat_filter\u001b[0m \u001b[0;34m=\u001b[0m \u001b[0mselector\u001b[0m\u001b[0;34m.\u001b[0m\u001b[0myrange\u001b[0m\u001b[0;34m\u001b[0m\u001b[0;34m\u001b[0m\u001b[0m\n\u001b[1;32m      6\u001b[0m \u001b[0;34m\u001b[0m\u001b[0m\n\u001b[0;32m----> 7\u001b[0;31m         \u001b[0mupdate_data\u001b[0m\u001b[0;34m(\u001b[0m\u001b[0;34m)\u001b[0m\u001b[0;34m\u001b[0m\u001b[0;34m\u001b[0m\u001b[0m\n\u001b[0m\u001b[1;32m      8\u001b[0m \u001b[0;34m\u001b[0m\u001b[0m\n\u001b[1;32m      9\u001b[0m \u001b[0;34m\u001b[0m\u001b[0m\n",
      "\u001b[0;32m<ipython-input-179-b6d611dded6a>\u001b[0m in \u001b[0;36mupdate_data\u001b[0;34m()\u001b[0m\n\u001b[1;32m     14\u001b[0m \u001b[0;34m\u001b[0m\u001b[0m\n\u001b[1;32m     15\u001b[0m     \u001b[0;31m# time filters\u001b[0m\u001b[0;34m\u001b[0m\u001b[0;34m\u001b[0m\u001b[0;34m\u001b[0m\u001b[0m\n\u001b[0;32m---> 16\u001b[0;31m     \u001b[0mf_date_min\u001b[0m\u001b[0;34m,\u001b[0m \u001b[0mf_date_max\u001b[0m \u001b[0;34m=\u001b[0m \u001b[0mdate_range\u001b[0m\u001b[0;34m[\u001b[0m\u001b[0;34m[\u001b[0m\u001b[0;34m*\u001b[0m\u001b[0mdate_range_filter\u001b[0m\u001b[0;34m]\u001b[0m\u001b[0;34m]\u001b[0m\u001b[0;34m\u001b[0m\u001b[0;34m\u001b[0m\u001b[0m\n\u001b[0m\u001b[1;32m     17\u001b[0m     \u001b[0mdate_range_mask\u001b[0m \u001b[0;34m=\u001b[0m \u001b[0;34m(\u001b[0m\u001b[0mdf\u001b[0m\u001b[0;34m.\u001b[0m\u001b[0mDate\u001b[0m \u001b[0;34m>=\u001b[0m \u001b[0mf_date_min\u001b[0m\u001b[0;34m)\u001b[0m \u001b[0;34m&\u001b[0m \u001b[0;34m(\u001b[0m\u001b[0mdf\u001b[0m\u001b[0;34m.\u001b[0m\u001b[0mDate\u001b[0m \u001b[0;34m<=\u001b[0m \u001b[0mf_date_max\u001b[0m\u001b[0;34m)\u001b[0m\u001b[0;34m\u001b[0m\u001b[0;34m\u001b[0m\u001b[0m\n\u001b[1;32m     18\u001b[0m \u001b[0;34m\u001b[0m\u001b[0m\n",
      "\u001b[0;32m~/anaconda3/lib/python3.8/site-packages/pandas/core/indexes/extension.py\u001b[0m in \u001b[0;36m__getitem__\u001b[0;34m(self, key)\u001b[0m\n\u001b[1;32m    207\u001b[0m \u001b[0;34m\u001b[0m\u001b[0m\n\u001b[1;32m    208\u001b[0m     \u001b[0;32mdef\u001b[0m \u001b[0m__getitem__\u001b[0m\u001b[0;34m(\u001b[0m\u001b[0mself\u001b[0m\u001b[0;34m,\u001b[0m \u001b[0mkey\u001b[0m\u001b[0;34m)\u001b[0m\u001b[0;34m:\u001b[0m\u001b[0;34m\u001b[0m\u001b[0;34m\u001b[0m\u001b[0m\n\u001b[0;32m--> 209\u001b[0;31m         \u001b[0mresult\u001b[0m \u001b[0;34m=\u001b[0m \u001b[0mself\u001b[0m\u001b[0;34m.\u001b[0m\u001b[0m_data\u001b[0m\u001b[0;34m[\u001b[0m\u001b[0mkey\u001b[0m\u001b[0;34m]\u001b[0m\u001b[0;34m\u001b[0m\u001b[0;34m\u001b[0m\u001b[0m\n\u001b[0m\u001b[1;32m    210\u001b[0m         \u001b[0;32mif\u001b[0m \u001b[0misinstance\u001b[0m\u001b[0;34m(\u001b[0m\u001b[0mresult\u001b[0m\u001b[0;34m,\u001b[0m \u001b[0mtype\u001b[0m\u001b[0;34m(\u001b[0m\u001b[0mself\u001b[0m\u001b[0;34m.\u001b[0m\u001b[0m_data\u001b[0m\u001b[0;34m)\u001b[0m\u001b[0;34m)\u001b[0m\u001b[0;34m:\u001b[0m\u001b[0;34m\u001b[0m\u001b[0;34m\u001b[0m\u001b[0m\n\u001b[1;32m    211\u001b[0m             \u001b[0;32mreturn\u001b[0m \u001b[0mtype\u001b[0m\u001b[0;34m(\u001b[0m\u001b[0mself\u001b[0m\u001b[0;34m)\u001b[0m\u001b[0;34m(\u001b[0m\u001b[0mresult\u001b[0m\u001b[0;34m,\u001b[0m \u001b[0mname\u001b[0m\u001b[0;34m=\u001b[0m\u001b[0mself\u001b[0m\u001b[0;34m.\u001b[0m\u001b[0mname\u001b[0m\u001b[0;34m)\u001b[0m\u001b[0;34m\u001b[0m\u001b[0;34m\u001b[0m\u001b[0m\n",
      "\u001b[0;32m~/anaconda3/lib/python3.8/site-packages/pandas/core/arrays/datetimelike.py\u001b[0m in \u001b[0;36m__getitem__\u001b[0;34m(self, key)\u001b[0m\n\u001b[1;32m    534\u001b[0m             \u001b[0;32mpass\u001b[0m\u001b[0;34m\u001b[0m\u001b[0;34m\u001b[0m\u001b[0m\n\u001b[1;32m    535\u001b[0m         \u001b[0;32melse\u001b[0m\u001b[0;34m:\u001b[0m\u001b[0;34m\u001b[0m\u001b[0;34m\u001b[0m\u001b[0m\n\u001b[0;32m--> 536\u001b[0;31m             \u001b[0mkey\u001b[0m \u001b[0;34m=\u001b[0m \u001b[0mcheck_array_indexer\u001b[0m\u001b[0;34m(\u001b[0m\u001b[0mself\u001b[0m\u001b[0;34m,\u001b[0m \u001b[0mkey\u001b[0m\u001b[0;34m)\u001b[0m\u001b[0;34m\u001b[0m\u001b[0;34m\u001b[0m\u001b[0m\n\u001b[0m\u001b[1;32m    537\u001b[0m \u001b[0;34m\u001b[0m\u001b[0m\n\u001b[1;32m    538\u001b[0m         \u001b[0mis_period\u001b[0m \u001b[0;34m=\u001b[0m \u001b[0mis_period_dtype\u001b[0m\u001b[0;34m(\u001b[0m\u001b[0mself\u001b[0m\u001b[0;34m)\u001b[0m\u001b[0;34m\u001b[0m\u001b[0;34m\u001b[0m\u001b[0m\n",
      "\u001b[0;32m~/anaconda3/lib/python3.8/site-packages/pandas/core/indexers.py\u001b[0m in \u001b[0;36mcheck_array_indexer\u001b[0;34m(array, indexer)\u001b[0m\n\u001b[1;32m    410\u001b[0m             )\n\u001b[1;32m    411\u001b[0m     \u001b[0;32melse\u001b[0m\u001b[0;34m:\u001b[0m\u001b[0;34m\u001b[0m\u001b[0;34m\u001b[0m\u001b[0m\n\u001b[0;32m--> 412\u001b[0;31m         \u001b[0;32mraise\u001b[0m \u001b[0mIndexError\u001b[0m\u001b[0;34m(\u001b[0m\u001b[0;34m\"arrays used as indices must be of integer or boolean type\"\u001b[0m\u001b[0;34m)\u001b[0m\u001b[0;34m\u001b[0m\u001b[0;34m\u001b[0m\u001b[0m\n\u001b[0m\u001b[1;32m    413\u001b[0m \u001b[0;34m\u001b[0m\u001b[0m\n\u001b[1;32m    414\u001b[0m     \u001b[0;32mreturn\u001b[0m \u001b[0mindexer\u001b[0m\u001b[0;34m\u001b[0m\u001b[0;34m\u001b[0m\u001b[0m\n",
      "\u001b[0;31mIndexError\u001b[0m: arrays used as indices must be of integer or boolean type"
     ]
    },
    {
     "ename": "IndexError",
     "evalue": "arrays used as indices must be of integer or boolean type",
     "output_type": "error",
     "traceback": [
      "\u001b[0;31m---------------------------------------------------------------------------\u001b[0m",
      "\u001b[0;31mIndexError\u001b[0m                                Traceback (most recent call last)",
      "\u001b[0;32m<ipython-input-181-0c1a7bb80e9a>\u001b[0m in \u001b[0;36mset_selected_crime_types\u001b[0;34m(button)\u001b[0m\n\u001b[1;32m     91\u001b[0m         \u001b[0mbutton\u001b[0m\u001b[0;34m.\u001b[0m\u001b[0mbutton_style\u001b[0m \u001b[0;34m=\u001b[0m \u001b[0;34m\"\"\u001b[0m\u001b[0;34m\u001b[0m\u001b[0;34m\u001b[0m\u001b[0m\n\u001b[1;32m     92\u001b[0m         \u001b[0mselected_crime_types\u001b[0m\u001b[0;34m.\u001b[0m\u001b[0mremove\u001b[0m\u001b[0;34m(\u001b[0m\u001b[0mbutton\u001b[0m\u001b[0;34m.\u001b[0m\u001b[0mdescription\u001b[0m\u001b[0;34m)\u001b[0m\u001b[0;34m\u001b[0m\u001b[0;34m\u001b[0m\u001b[0m\n\u001b[0;32m---> 93\u001b[0;31m     \u001b[0mupdate_data\u001b[0m\u001b[0;34m(\u001b[0m\u001b[0;34m)\u001b[0m\u001b[0;34m\u001b[0m\u001b[0;34m\u001b[0m\u001b[0m\n\u001b[0m\u001b[1;32m     94\u001b[0m \u001b[0;34m\u001b[0m\u001b[0m\n\u001b[1;32m     95\u001b[0m \u001b[0;32mdef\u001b[0m \u001b[0mnew_buttons\u001b[0m\u001b[0;34m(\u001b[0m\u001b[0mnames\u001b[0m\u001b[0;34m,\u001b[0m\u001b[0mall_selected\u001b[0m\u001b[0;34m=\u001b[0m\u001b[0;32mFalse\u001b[0m\u001b[0;34m)\u001b[0m\u001b[0;34m:\u001b[0m\u001b[0;34m\u001b[0m\u001b[0;34m\u001b[0m\u001b[0m\n",
      "\u001b[0;32m<ipython-input-179-b6d611dded6a>\u001b[0m in \u001b[0;36mupdate_data\u001b[0;34m()\u001b[0m\n\u001b[1;32m     14\u001b[0m \u001b[0;34m\u001b[0m\u001b[0m\n\u001b[1;32m     15\u001b[0m     \u001b[0;31m# time filters\u001b[0m\u001b[0;34m\u001b[0m\u001b[0;34m\u001b[0m\u001b[0;34m\u001b[0m\u001b[0m\n\u001b[0;32m---> 16\u001b[0;31m     \u001b[0mf_date_min\u001b[0m\u001b[0;34m,\u001b[0m \u001b[0mf_date_max\u001b[0m \u001b[0;34m=\u001b[0m \u001b[0mdate_range\u001b[0m\u001b[0;34m[\u001b[0m\u001b[0;34m[\u001b[0m\u001b[0;34m*\u001b[0m\u001b[0mdate_range_filter\u001b[0m\u001b[0;34m]\u001b[0m\u001b[0;34m]\u001b[0m\u001b[0;34m\u001b[0m\u001b[0;34m\u001b[0m\u001b[0m\n\u001b[0m\u001b[1;32m     17\u001b[0m     \u001b[0mdate_range_mask\u001b[0m \u001b[0;34m=\u001b[0m \u001b[0;34m(\u001b[0m\u001b[0mdf\u001b[0m\u001b[0;34m.\u001b[0m\u001b[0mDate\u001b[0m \u001b[0;34m>=\u001b[0m \u001b[0mf_date_min\u001b[0m\u001b[0;34m)\u001b[0m \u001b[0;34m&\u001b[0m \u001b[0;34m(\u001b[0m\u001b[0mdf\u001b[0m\u001b[0;34m.\u001b[0m\u001b[0mDate\u001b[0m \u001b[0;34m<=\u001b[0m \u001b[0mf_date_max\u001b[0m\u001b[0;34m)\u001b[0m\u001b[0;34m\u001b[0m\u001b[0;34m\u001b[0m\u001b[0m\n\u001b[1;32m     18\u001b[0m \u001b[0;34m\u001b[0m\u001b[0m\n",
      "\u001b[0;32m~/anaconda3/lib/python3.8/site-packages/pandas/core/indexes/extension.py\u001b[0m in \u001b[0;36m__getitem__\u001b[0;34m(self, key)\u001b[0m\n\u001b[1;32m    207\u001b[0m \u001b[0;34m\u001b[0m\u001b[0m\n\u001b[1;32m    208\u001b[0m     \u001b[0;32mdef\u001b[0m \u001b[0m__getitem__\u001b[0m\u001b[0;34m(\u001b[0m\u001b[0mself\u001b[0m\u001b[0;34m,\u001b[0m \u001b[0mkey\u001b[0m\u001b[0;34m)\u001b[0m\u001b[0;34m:\u001b[0m\u001b[0;34m\u001b[0m\u001b[0;34m\u001b[0m\u001b[0m\n\u001b[0;32m--> 209\u001b[0;31m         \u001b[0mresult\u001b[0m \u001b[0;34m=\u001b[0m \u001b[0mself\u001b[0m\u001b[0;34m.\u001b[0m\u001b[0m_data\u001b[0m\u001b[0;34m[\u001b[0m\u001b[0mkey\u001b[0m\u001b[0;34m]\u001b[0m\u001b[0;34m\u001b[0m\u001b[0;34m\u001b[0m\u001b[0m\n\u001b[0m\u001b[1;32m    210\u001b[0m         \u001b[0;32mif\u001b[0m \u001b[0misinstance\u001b[0m\u001b[0;34m(\u001b[0m\u001b[0mresult\u001b[0m\u001b[0;34m,\u001b[0m \u001b[0mtype\u001b[0m\u001b[0;34m(\u001b[0m\u001b[0mself\u001b[0m\u001b[0;34m.\u001b[0m\u001b[0m_data\u001b[0m\u001b[0;34m)\u001b[0m\u001b[0;34m)\u001b[0m\u001b[0;34m:\u001b[0m\u001b[0;34m\u001b[0m\u001b[0;34m\u001b[0m\u001b[0m\n\u001b[1;32m    211\u001b[0m             \u001b[0;32mreturn\u001b[0m \u001b[0mtype\u001b[0m\u001b[0;34m(\u001b[0m\u001b[0mself\u001b[0m\u001b[0;34m)\u001b[0m\u001b[0;34m(\u001b[0m\u001b[0mresult\u001b[0m\u001b[0;34m,\u001b[0m \u001b[0mname\u001b[0m\u001b[0;34m=\u001b[0m\u001b[0mself\u001b[0m\u001b[0;34m.\u001b[0m\u001b[0mname\u001b[0m\u001b[0;34m)\u001b[0m\u001b[0;34m\u001b[0m\u001b[0;34m\u001b[0m\u001b[0m\n",
      "\u001b[0;32m~/anaconda3/lib/python3.8/site-packages/pandas/core/arrays/datetimelike.py\u001b[0m in \u001b[0;36m__getitem__\u001b[0;34m(self, key)\u001b[0m\n\u001b[1;32m    534\u001b[0m             \u001b[0;32mpass\u001b[0m\u001b[0;34m\u001b[0m\u001b[0;34m\u001b[0m\u001b[0m\n\u001b[1;32m    535\u001b[0m         \u001b[0;32melse\u001b[0m\u001b[0;34m:\u001b[0m\u001b[0;34m\u001b[0m\u001b[0;34m\u001b[0m\u001b[0m\n\u001b[0;32m--> 536\u001b[0;31m             \u001b[0mkey\u001b[0m \u001b[0;34m=\u001b[0m \u001b[0mcheck_array_indexer\u001b[0m\u001b[0;34m(\u001b[0m\u001b[0mself\u001b[0m\u001b[0;34m,\u001b[0m \u001b[0mkey\u001b[0m\u001b[0;34m)\u001b[0m\u001b[0;34m\u001b[0m\u001b[0;34m\u001b[0m\u001b[0m\n\u001b[0m\u001b[1;32m    537\u001b[0m \u001b[0;34m\u001b[0m\u001b[0m\n\u001b[1;32m    538\u001b[0m         \u001b[0mis_period\u001b[0m \u001b[0;34m=\u001b[0m \u001b[0mis_period_dtype\u001b[0m\u001b[0;34m(\u001b[0m\u001b[0mself\u001b[0m\u001b[0;34m)\u001b[0m\u001b[0;34m\u001b[0m\u001b[0;34m\u001b[0m\u001b[0m\n",
      "\u001b[0;32m~/anaconda3/lib/python3.8/site-packages/pandas/core/indexers.py\u001b[0m in \u001b[0;36mcheck_array_indexer\u001b[0;34m(array, indexer)\u001b[0m\n\u001b[1;32m    410\u001b[0m             )\n\u001b[1;32m    411\u001b[0m     \u001b[0;32melse\u001b[0m\u001b[0;34m:\u001b[0m\u001b[0;34m\u001b[0m\u001b[0;34m\u001b[0m\u001b[0m\n\u001b[0;32m--> 412\u001b[0;31m         \u001b[0;32mraise\u001b[0m \u001b[0mIndexError\u001b[0m\u001b[0;34m(\u001b[0m\u001b[0;34m\"arrays used as indices must be of integer or boolean type\"\u001b[0m\u001b[0;34m)\u001b[0m\u001b[0;34m\u001b[0m\u001b[0;34m\u001b[0m\u001b[0m\n\u001b[0m\u001b[1;32m    413\u001b[0m \u001b[0;34m\u001b[0m\u001b[0m\n\u001b[1;32m    414\u001b[0m     \u001b[0;32mreturn\u001b[0m \u001b[0mindexer\u001b[0m\u001b[0;34m\u001b[0m\u001b[0;34m\u001b[0m\u001b[0m\n",
      "\u001b[0;31mIndexError\u001b[0m: arrays used as indices must be of integer or boolean type"
     ]
    },
    {
     "ename": "IndexError",
     "evalue": "arrays used as indices must be of integer or boolean type",
     "output_type": "error",
     "traceback": [
      "\u001b[0;31m---------------------------------------------------------------------------\u001b[0m",
      "\u001b[0;31mIndexError\u001b[0m                                Traceback (most recent call last)",
      "\u001b[0;32m<ipython-input-181-0c1a7bb80e9a>\u001b[0m in \u001b[0;36mset_selected_crime_types\u001b[0;34m(button)\u001b[0m\n\u001b[1;32m     91\u001b[0m         \u001b[0mbutton\u001b[0m\u001b[0;34m.\u001b[0m\u001b[0mbutton_style\u001b[0m \u001b[0;34m=\u001b[0m \u001b[0;34m\"\"\u001b[0m\u001b[0;34m\u001b[0m\u001b[0;34m\u001b[0m\u001b[0m\n\u001b[1;32m     92\u001b[0m         \u001b[0mselected_crime_types\u001b[0m\u001b[0;34m.\u001b[0m\u001b[0mremove\u001b[0m\u001b[0;34m(\u001b[0m\u001b[0mbutton\u001b[0m\u001b[0;34m.\u001b[0m\u001b[0mdescription\u001b[0m\u001b[0;34m)\u001b[0m\u001b[0;34m\u001b[0m\u001b[0;34m\u001b[0m\u001b[0m\n\u001b[0;32m---> 93\u001b[0;31m     \u001b[0mupdate_data\u001b[0m\u001b[0;34m(\u001b[0m\u001b[0;34m)\u001b[0m\u001b[0;34m\u001b[0m\u001b[0;34m\u001b[0m\u001b[0m\n\u001b[0m\u001b[1;32m     94\u001b[0m \u001b[0;34m\u001b[0m\u001b[0m\n\u001b[1;32m     95\u001b[0m \u001b[0;32mdef\u001b[0m \u001b[0mnew_buttons\u001b[0m\u001b[0;34m(\u001b[0m\u001b[0mnames\u001b[0m\u001b[0;34m,\u001b[0m\u001b[0mall_selected\u001b[0m\u001b[0;34m=\u001b[0m\u001b[0;32mFalse\u001b[0m\u001b[0;34m)\u001b[0m\u001b[0;34m:\u001b[0m\u001b[0;34m\u001b[0m\u001b[0;34m\u001b[0m\u001b[0m\n",
      "\u001b[0;32m<ipython-input-179-b6d611dded6a>\u001b[0m in \u001b[0;36mupdate_data\u001b[0;34m()\u001b[0m\n\u001b[1;32m     14\u001b[0m \u001b[0;34m\u001b[0m\u001b[0m\n\u001b[1;32m     15\u001b[0m     \u001b[0;31m# time filters\u001b[0m\u001b[0;34m\u001b[0m\u001b[0;34m\u001b[0m\u001b[0;34m\u001b[0m\u001b[0m\n\u001b[0;32m---> 16\u001b[0;31m     \u001b[0mf_date_min\u001b[0m\u001b[0;34m,\u001b[0m \u001b[0mf_date_max\u001b[0m \u001b[0;34m=\u001b[0m \u001b[0mdate_range\u001b[0m\u001b[0;34m[\u001b[0m\u001b[0;34m[\u001b[0m\u001b[0;34m*\u001b[0m\u001b[0mdate_range_filter\u001b[0m\u001b[0;34m]\u001b[0m\u001b[0;34m]\u001b[0m\u001b[0;34m\u001b[0m\u001b[0;34m\u001b[0m\u001b[0m\n\u001b[0m\u001b[1;32m     17\u001b[0m     \u001b[0mdate_range_mask\u001b[0m \u001b[0;34m=\u001b[0m \u001b[0;34m(\u001b[0m\u001b[0mdf\u001b[0m\u001b[0;34m.\u001b[0m\u001b[0mDate\u001b[0m \u001b[0;34m>=\u001b[0m \u001b[0mf_date_min\u001b[0m\u001b[0;34m)\u001b[0m \u001b[0;34m&\u001b[0m \u001b[0;34m(\u001b[0m\u001b[0mdf\u001b[0m\u001b[0;34m.\u001b[0m\u001b[0mDate\u001b[0m \u001b[0;34m<=\u001b[0m \u001b[0mf_date_max\u001b[0m\u001b[0;34m)\u001b[0m\u001b[0;34m\u001b[0m\u001b[0;34m\u001b[0m\u001b[0m\n\u001b[1;32m     18\u001b[0m \u001b[0;34m\u001b[0m\u001b[0m\n",
      "\u001b[0;32m~/anaconda3/lib/python3.8/site-packages/pandas/core/indexes/extension.py\u001b[0m in \u001b[0;36m__getitem__\u001b[0;34m(self, key)\u001b[0m\n\u001b[1;32m    207\u001b[0m \u001b[0;34m\u001b[0m\u001b[0m\n\u001b[1;32m    208\u001b[0m     \u001b[0;32mdef\u001b[0m \u001b[0m__getitem__\u001b[0m\u001b[0;34m(\u001b[0m\u001b[0mself\u001b[0m\u001b[0;34m,\u001b[0m \u001b[0mkey\u001b[0m\u001b[0;34m)\u001b[0m\u001b[0;34m:\u001b[0m\u001b[0;34m\u001b[0m\u001b[0;34m\u001b[0m\u001b[0m\n\u001b[0;32m--> 209\u001b[0;31m         \u001b[0mresult\u001b[0m \u001b[0;34m=\u001b[0m \u001b[0mself\u001b[0m\u001b[0;34m.\u001b[0m\u001b[0m_data\u001b[0m\u001b[0;34m[\u001b[0m\u001b[0mkey\u001b[0m\u001b[0;34m]\u001b[0m\u001b[0;34m\u001b[0m\u001b[0;34m\u001b[0m\u001b[0m\n\u001b[0m\u001b[1;32m    210\u001b[0m         \u001b[0;32mif\u001b[0m \u001b[0misinstance\u001b[0m\u001b[0;34m(\u001b[0m\u001b[0mresult\u001b[0m\u001b[0;34m,\u001b[0m \u001b[0mtype\u001b[0m\u001b[0;34m(\u001b[0m\u001b[0mself\u001b[0m\u001b[0;34m.\u001b[0m\u001b[0m_data\u001b[0m\u001b[0;34m)\u001b[0m\u001b[0;34m)\u001b[0m\u001b[0;34m:\u001b[0m\u001b[0;34m\u001b[0m\u001b[0;34m\u001b[0m\u001b[0m\n\u001b[1;32m    211\u001b[0m             \u001b[0;32mreturn\u001b[0m \u001b[0mtype\u001b[0m\u001b[0;34m(\u001b[0m\u001b[0mself\u001b[0m\u001b[0;34m)\u001b[0m\u001b[0;34m(\u001b[0m\u001b[0mresult\u001b[0m\u001b[0;34m,\u001b[0m \u001b[0mname\u001b[0m\u001b[0;34m=\u001b[0m\u001b[0mself\u001b[0m\u001b[0;34m.\u001b[0m\u001b[0mname\u001b[0m\u001b[0;34m)\u001b[0m\u001b[0;34m\u001b[0m\u001b[0;34m\u001b[0m\u001b[0m\n",
      "\u001b[0;32m~/anaconda3/lib/python3.8/site-packages/pandas/core/arrays/datetimelike.py\u001b[0m in \u001b[0;36m__getitem__\u001b[0;34m(self, key)\u001b[0m\n\u001b[1;32m    534\u001b[0m             \u001b[0;32mpass\u001b[0m\u001b[0;34m\u001b[0m\u001b[0;34m\u001b[0m\u001b[0m\n\u001b[1;32m    535\u001b[0m         \u001b[0;32melse\u001b[0m\u001b[0;34m:\u001b[0m\u001b[0;34m\u001b[0m\u001b[0;34m\u001b[0m\u001b[0m\n\u001b[0;32m--> 536\u001b[0;31m             \u001b[0mkey\u001b[0m \u001b[0;34m=\u001b[0m \u001b[0mcheck_array_indexer\u001b[0m\u001b[0;34m(\u001b[0m\u001b[0mself\u001b[0m\u001b[0;34m,\u001b[0m \u001b[0mkey\u001b[0m\u001b[0;34m)\u001b[0m\u001b[0;34m\u001b[0m\u001b[0;34m\u001b[0m\u001b[0m\n\u001b[0m\u001b[1;32m    537\u001b[0m \u001b[0;34m\u001b[0m\u001b[0m\n\u001b[1;32m    538\u001b[0m         \u001b[0mis_period\u001b[0m \u001b[0;34m=\u001b[0m \u001b[0mis_period_dtype\u001b[0m\u001b[0;34m(\u001b[0m\u001b[0mself\u001b[0m\u001b[0;34m)\u001b[0m\u001b[0;34m\u001b[0m\u001b[0;34m\u001b[0m\u001b[0m\n",
      "\u001b[0;32m~/anaconda3/lib/python3.8/site-packages/pandas/core/indexers.py\u001b[0m in \u001b[0;36mcheck_array_indexer\u001b[0;34m(array, indexer)\u001b[0m\n\u001b[1;32m    410\u001b[0m             )\n\u001b[1;32m    411\u001b[0m     \u001b[0;32melse\u001b[0m\u001b[0;34m:\u001b[0m\u001b[0;34m\u001b[0m\u001b[0;34m\u001b[0m\u001b[0m\n\u001b[0;32m--> 412\u001b[0;31m         \u001b[0;32mraise\u001b[0m \u001b[0mIndexError\u001b[0m\u001b[0;34m(\u001b[0m\u001b[0;34m\"arrays used as indices must be of integer or boolean type\"\u001b[0m\u001b[0;34m)\u001b[0m\u001b[0;34m\u001b[0m\u001b[0;34m\u001b[0m\u001b[0m\n\u001b[0m\u001b[1;32m    413\u001b[0m \u001b[0;34m\u001b[0m\u001b[0m\n\u001b[1;32m    414\u001b[0m     \u001b[0;32mreturn\u001b[0m \u001b[0mindexer\u001b[0m\u001b[0;34m\u001b[0m\u001b[0;34m\u001b[0m\u001b[0m\n",
      "\u001b[0;31mIndexError\u001b[0m: arrays used as indices must be of integer or boolean type"
     ]
    },
    {
     "ename": "IndexError",
     "evalue": "arrays used as indices must be of integer or boolean type",
     "output_type": "error",
     "traceback": [
      "\u001b[0;31m---------------------------------------------------------------------------\u001b[0m",
      "\u001b[0;31mIndexError\u001b[0m                                Traceback (most recent call last)",
      "\u001b[0;32m<ipython-input-181-0c1a7bb80e9a>\u001b[0m in \u001b[0;36mset_selected_crime_types\u001b[0;34m(button)\u001b[0m\n\u001b[1;32m     91\u001b[0m         \u001b[0mbutton\u001b[0m\u001b[0;34m.\u001b[0m\u001b[0mbutton_style\u001b[0m \u001b[0;34m=\u001b[0m \u001b[0;34m\"\"\u001b[0m\u001b[0;34m\u001b[0m\u001b[0;34m\u001b[0m\u001b[0m\n\u001b[1;32m     92\u001b[0m         \u001b[0mselected_crime_types\u001b[0m\u001b[0;34m.\u001b[0m\u001b[0mremove\u001b[0m\u001b[0;34m(\u001b[0m\u001b[0mbutton\u001b[0m\u001b[0;34m.\u001b[0m\u001b[0mdescription\u001b[0m\u001b[0;34m)\u001b[0m\u001b[0;34m\u001b[0m\u001b[0;34m\u001b[0m\u001b[0m\n\u001b[0;32m---> 93\u001b[0;31m     \u001b[0mupdate_data\u001b[0m\u001b[0;34m(\u001b[0m\u001b[0;34m)\u001b[0m\u001b[0;34m\u001b[0m\u001b[0;34m\u001b[0m\u001b[0m\n\u001b[0m\u001b[1;32m     94\u001b[0m \u001b[0;34m\u001b[0m\u001b[0m\n\u001b[1;32m     95\u001b[0m \u001b[0;32mdef\u001b[0m \u001b[0mnew_buttons\u001b[0m\u001b[0;34m(\u001b[0m\u001b[0mnames\u001b[0m\u001b[0;34m,\u001b[0m\u001b[0mall_selected\u001b[0m\u001b[0;34m=\u001b[0m\u001b[0;32mFalse\u001b[0m\u001b[0;34m)\u001b[0m\u001b[0;34m:\u001b[0m\u001b[0;34m\u001b[0m\u001b[0;34m\u001b[0m\u001b[0m\n",
      "\u001b[0;32m<ipython-input-179-b6d611dded6a>\u001b[0m in \u001b[0;36mupdate_data\u001b[0;34m()\u001b[0m\n\u001b[1;32m     14\u001b[0m \u001b[0;34m\u001b[0m\u001b[0m\n\u001b[1;32m     15\u001b[0m     \u001b[0;31m# time filters\u001b[0m\u001b[0;34m\u001b[0m\u001b[0;34m\u001b[0m\u001b[0;34m\u001b[0m\u001b[0m\n\u001b[0;32m---> 16\u001b[0;31m     \u001b[0mf_date_min\u001b[0m\u001b[0;34m,\u001b[0m \u001b[0mf_date_max\u001b[0m \u001b[0;34m=\u001b[0m \u001b[0mdate_range\u001b[0m\u001b[0;34m[\u001b[0m\u001b[0;34m[\u001b[0m\u001b[0;34m*\u001b[0m\u001b[0mdate_range_filter\u001b[0m\u001b[0;34m]\u001b[0m\u001b[0;34m]\u001b[0m\u001b[0;34m\u001b[0m\u001b[0;34m\u001b[0m\u001b[0m\n\u001b[0m\u001b[1;32m     17\u001b[0m     \u001b[0mdate_range_mask\u001b[0m \u001b[0;34m=\u001b[0m \u001b[0;34m(\u001b[0m\u001b[0mdf\u001b[0m\u001b[0;34m.\u001b[0m\u001b[0mDate\u001b[0m \u001b[0;34m>=\u001b[0m \u001b[0mf_date_min\u001b[0m\u001b[0;34m)\u001b[0m \u001b[0;34m&\u001b[0m \u001b[0;34m(\u001b[0m\u001b[0mdf\u001b[0m\u001b[0;34m.\u001b[0m\u001b[0mDate\u001b[0m \u001b[0;34m<=\u001b[0m \u001b[0mf_date_max\u001b[0m\u001b[0;34m)\u001b[0m\u001b[0;34m\u001b[0m\u001b[0;34m\u001b[0m\u001b[0m\n\u001b[1;32m     18\u001b[0m \u001b[0;34m\u001b[0m\u001b[0m\n",
      "\u001b[0;32m~/anaconda3/lib/python3.8/site-packages/pandas/core/indexes/extension.py\u001b[0m in \u001b[0;36m__getitem__\u001b[0;34m(self, key)\u001b[0m\n\u001b[1;32m    207\u001b[0m \u001b[0;34m\u001b[0m\u001b[0m\n\u001b[1;32m    208\u001b[0m     \u001b[0;32mdef\u001b[0m \u001b[0m__getitem__\u001b[0m\u001b[0;34m(\u001b[0m\u001b[0mself\u001b[0m\u001b[0;34m,\u001b[0m \u001b[0mkey\u001b[0m\u001b[0;34m)\u001b[0m\u001b[0;34m:\u001b[0m\u001b[0;34m\u001b[0m\u001b[0;34m\u001b[0m\u001b[0m\n\u001b[0;32m--> 209\u001b[0;31m         \u001b[0mresult\u001b[0m \u001b[0;34m=\u001b[0m \u001b[0mself\u001b[0m\u001b[0;34m.\u001b[0m\u001b[0m_data\u001b[0m\u001b[0;34m[\u001b[0m\u001b[0mkey\u001b[0m\u001b[0;34m]\u001b[0m\u001b[0;34m\u001b[0m\u001b[0;34m\u001b[0m\u001b[0m\n\u001b[0m\u001b[1;32m    210\u001b[0m         \u001b[0;32mif\u001b[0m \u001b[0misinstance\u001b[0m\u001b[0;34m(\u001b[0m\u001b[0mresult\u001b[0m\u001b[0;34m,\u001b[0m \u001b[0mtype\u001b[0m\u001b[0;34m(\u001b[0m\u001b[0mself\u001b[0m\u001b[0;34m.\u001b[0m\u001b[0m_data\u001b[0m\u001b[0;34m)\u001b[0m\u001b[0;34m)\u001b[0m\u001b[0;34m:\u001b[0m\u001b[0;34m\u001b[0m\u001b[0;34m\u001b[0m\u001b[0m\n\u001b[1;32m    211\u001b[0m             \u001b[0;32mreturn\u001b[0m \u001b[0mtype\u001b[0m\u001b[0;34m(\u001b[0m\u001b[0mself\u001b[0m\u001b[0;34m)\u001b[0m\u001b[0;34m(\u001b[0m\u001b[0mresult\u001b[0m\u001b[0;34m,\u001b[0m \u001b[0mname\u001b[0m\u001b[0;34m=\u001b[0m\u001b[0mself\u001b[0m\u001b[0;34m.\u001b[0m\u001b[0mname\u001b[0m\u001b[0;34m)\u001b[0m\u001b[0;34m\u001b[0m\u001b[0;34m\u001b[0m\u001b[0m\n",
      "\u001b[0;32m~/anaconda3/lib/python3.8/site-packages/pandas/core/arrays/datetimelike.py\u001b[0m in \u001b[0;36m__getitem__\u001b[0;34m(self, key)\u001b[0m\n\u001b[1;32m    534\u001b[0m             \u001b[0;32mpass\u001b[0m\u001b[0;34m\u001b[0m\u001b[0;34m\u001b[0m\u001b[0m\n\u001b[1;32m    535\u001b[0m         \u001b[0;32melse\u001b[0m\u001b[0;34m:\u001b[0m\u001b[0;34m\u001b[0m\u001b[0;34m\u001b[0m\u001b[0m\n\u001b[0;32m--> 536\u001b[0;31m             \u001b[0mkey\u001b[0m \u001b[0;34m=\u001b[0m \u001b[0mcheck_array_indexer\u001b[0m\u001b[0;34m(\u001b[0m\u001b[0mself\u001b[0m\u001b[0;34m,\u001b[0m \u001b[0mkey\u001b[0m\u001b[0;34m)\u001b[0m\u001b[0;34m\u001b[0m\u001b[0;34m\u001b[0m\u001b[0m\n\u001b[0m\u001b[1;32m    537\u001b[0m \u001b[0;34m\u001b[0m\u001b[0m\n\u001b[1;32m    538\u001b[0m         \u001b[0mis_period\u001b[0m \u001b[0;34m=\u001b[0m \u001b[0mis_period_dtype\u001b[0m\u001b[0;34m(\u001b[0m\u001b[0mself\u001b[0m\u001b[0;34m)\u001b[0m\u001b[0;34m\u001b[0m\u001b[0;34m\u001b[0m\u001b[0m\n",
      "\u001b[0;32m~/anaconda3/lib/python3.8/site-packages/pandas/core/indexers.py\u001b[0m in \u001b[0;36mcheck_array_indexer\u001b[0;34m(array, indexer)\u001b[0m\n\u001b[1;32m    410\u001b[0m             )\n\u001b[1;32m    411\u001b[0m     \u001b[0;32melse\u001b[0m\u001b[0;34m:\u001b[0m\u001b[0;34m\u001b[0m\u001b[0;34m\u001b[0m\u001b[0m\n\u001b[0;32m--> 412\u001b[0;31m         \u001b[0;32mraise\u001b[0m \u001b[0mIndexError\u001b[0m\u001b[0;34m(\u001b[0m\u001b[0;34m\"arrays used as indices must be of integer or boolean type\"\u001b[0m\u001b[0;34m)\u001b[0m\u001b[0;34m\u001b[0m\u001b[0;34m\u001b[0m\u001b[0m\n\u001b[0m\u001b[1;32m    413\u001b[0m \u001b[0;34m\u001b[0m\u001b[0m\n\u001b[1;32m    414\u001b[0m     \u001b[0;32mreturn\u001b[0m \u001b[0mindexer\u001b[0m\u001b[0;34m\u001b[0m\u001b[0;34m\u001b[0m\u001b[0m\n",
      "\u001b[0;31mIndexError\u001b[0m: arrays used as indices must be of integer or boolean type"
     ]
    },
    {
     "ename": "IndexError",
     "evalue": "arrays used as indices must be of integer or boolean type",
     "output_type": "error",
     "traceback": [
      "\u001b[0;31m---------------------------------------------------------------------------\u001b[0m",
      "\u001b[0;31mIndexError\u001b[0m                                Traceback (most recent call last)",
      "\u001b[0;32m<ipython-input-181-0c1a7bb80e9a>\u001b[0m in \u001b[0;36mset_selected_crime_types\u001b[0;34m(button)\u001b[0m\n\u001b[1;32m     91\u001b[0m         \u001b[0mbutton\u001b[0m\u001b[0;34m.\u001b[0m\u001b[0mbutton_style\u001b[0m \u001b[0;34m=\u001b[0m \u001b[0;34m\"\"\u001b[0m\u001b[0;34m\u001b[0m\u001b[0;34m\u001b[0m\u001b[0m\n\u001b[1;32m     92\u001b[0m         \u001b[0mselected_crime_types\u001b[0m\u001b[0;34m.\u001b[0m\u001b[0mremove\u001b[0m\u001b[0;34m(\u001b[0m\u001b[0mbutton\u001b[0m\u001b[0;34m.\u001b[0m\u001b[0mdescription\u001b[0m\u001b[0;34m)\u001b[0m\u001b[0;34m\u001b[0m\u001b[0;34m\u001b[0m\u001b[0m\n\u001b[0;32m---> 93\u001b[0;31m     \u001b[0mupdate_data\u001b[0m\u001b[0;34m(\u001b[0m\u001b[0;34m)\u001b[0m\u001b[0;34m\u001b[0m\u001b[0;34m\u001b[0m\u001b[0m\n\u001b[0m\u001b[1;32m     94\u001b[0m \u001b[0;34m\u001b[0m\u001b[0m\n\u001b[1;32m     95\u001b[0m \u001b[0;32mdef\u001b[0m \u001b[0mnew_buttons\u001b[0m\u001b[0;34m(\u001b[0m\u001b[0mnames\u001b[0m\u001b[0;34m,\u001b[0m\u001b[0mall_selected\u001b[0m\u001b[0;34m=\u001b[0m\u001b[0;32mFalse\u001b[0m\u001b[0;34m)\u001b[0m\u001b[0;34m:\u001b[0m\u001b[0;34m\u001b[0m\u001b[0;34m\u001b[0m\u001b[0m\n",
      "\u001b[0;32m<ipython-input-179-b6d611dded6a>\u001b[0m in \u001b[0;36mupdate_data\u001b[0;34m()\u001b[0m\n\u001b[1;32m     14\u001b[0m \u001b[0;34m\u001b[0m\u001b[0m\n\u001b[1;32m     15\u001b[0m     \u001b[0;31m# time filters\u001b[0m\u001b[0;34m\u001b[0m\u001b[0;34m\u001b[0m\u001b[0;34m\u001b[0m\u001b[0m\n\u001b[0;32m---> 16\u001b[0;31m     \u001b[0mf_date_min\u001b[0m\u001b[0;34m,\u001b[0m \u001b[0mf_date_max\u001b[0m \u001b[0;34m=\u001b[0m \u001b[0mdate_range\u001b[0m\u001b[0;34m[\u001b[0m\u001b[0;34m[\u001b[0m\u001b[0;34m*\u001b[0m\u001b[0mdate_range_filter\u001b[0m\u001b[0;34m]\u001b[0m\u001b[0;34m]\u001b[0m\u001b[0;34m\u001b[0m\u001b[0;34m\u001b[0m\u001b[0m\n\u001b[0m\u001b[1;32m     17\u001b[0m     \u001b[0mdate_range_mask\u001b[0m \u001b[0;34m=\u001b[0m \u001b[0;34m(\u001b[0m\u001b[0mdf\u001b[0m\u001b[0;34m.\u001b[0m\u001b[0mDate\u001b[0m \u001b[0;34m>=\u001b[0m \u001b[0mf_date_min\u001b[0m\u001b[0;34m)\u001b[0m \u001b[0;34m&\u001b[0m \u001b[0;34m(\u001b[0m\u001b[0mdf\u001b[0m\u001b[0;34m.\u001b[0m\u001b[0mDate\u001b[0m \u001b[0;34m<=\u001b[0m \u001b[0mf_date_max\u001b[0m\u001b[0;34m)\u001b[0m\u001b[0;34m\u001b[0m\u001b[0;34m\u001b[0m\u001b[0m\n\u001b[1;32m     18\u001b[0m \u001b[0;34m\u001b[0m\u001b[0m\n",
      "\u001b[0;32m~/anaconda3/lib/python3.8/site-packages/pandas/core/indexes/extension.py\u001b[0m in \u001b[0;36m__getitem__\u001b[0;34m(self, key)\u001b[0m\n\u001b[1;32m    207\u001b[0m \u001b[0;34m\u001b[0m\u001b[0m\n\u001b[1;32m    208\u001b[0m     \u001b[0;32mdef\u001b[0m \u001b[0m__getitem__\u001b[0m\u001b[0;34m(\u001b[0m\u001b[0mself\u001b[0m\u001b[0;34m,\u001b[0m \u001b[0mkey\u001b[0m\u001b[0;34m)\u001b[0m\u001b[0;34m:\u001b[0m\u001b[0;34m\u001b[0m\u001b[0;34m\u001b[0m\u001b[0m\n\u001b[0;32m--> 209\u001b[0;31m         \u001b[0mresult\u001b[0m \u001b[0;34m=\u001b[0m \u001b[0mself\u001b[0m\u001b[0;34m.\u001b[0m\u001b[0m_data\u001b[0m\u001b[0;34m[\u001b[0m\u001b[0mkey\u001b[0m\u001b[0;34m]\u001b[0m\u001b[0;34m\u001b[0m\u001b[0;34m\u001b[0m\u001b[0m\n\u001b[0m\u001b[1;32m    210\u001b[0m         \u001b[0;32mif\u001b[0m \u001b[0misinstance\u001b[0m\u001b[0;34m(\u001b[0m\u001b[0mresult\u001b[0m\u001b[0;34m,\u001b[0m \u001b[0mtype\u001b[0m\u001b[0;34m(\u001b[0m\u001b[0mself\u001b[0m\u001b[0;34m.\u001b[0m\u001b[0m_data\u001b[0m\u001b[0;34m)\u001b[0m\u001b[0;34m)\u001b[0m\u001b[0;34m:\u001b[0m\u001b[0;34m\u001b[0m\u001b[0;34m\u001b[0m\u001b[0m\n\u001b[1;32m    211\u001b[0m             \u001b[0;32mreturn\u001b[0m \u001b[0mtype\u001b[0m\u001b[0;34m(\u001b[0m\u001b[0mself\u001b[0m\u001b[0;34m)\u001b[0m\u001b[0;34m(\u001b[0m\u001b[0mresult\u001b[0m\u001b[0;34m,\u001b[0m \u001b[0mname\u001b[0m\u001b[0;34m=\u001b[0m\u001b[0mself\u001b[0m\u001b[0;34m.\u001b[0m\u001b[0mname\u001b[0m\u001b[0;34m)\u001b[0m\u001b[0;34m\u001b[0m\u001b[0;34m\u001b[0m\u001b[0m\n",
      "\u001b[0;32m~/anaconda3/lib/python3.8/site-packages/pandas/core/arrays/datetimelike.py\u001b[0m in \u001b[0;36m__getitem__\u001b[0;34m(self, key)\u001b[0m\n\u001b[1;32m    534\u001b[0m             \u001b[0;32mpass\u001b[0m\u001b[0;34m\u001b[0m\u001b[0;34m\u001b[0m\u001b[0m\n\u001b[1;32m    535\u001b[0m         \u001b[0;32melse\u001b[0m\u001b[0;34m:\u001b[0m\u001b[0;34m\u001b[0m\u001b[0;34m\u001b[0m\u001b[0m\n\u001b[0;32m--> 536\u001b[0;31m             \u001b[0mkey\u001b[0m \u001b[0;34m=\u001b[0m \u001b[0mcheck_array_indexer\u001b[0m\u001b[0;34m(\u001b[0m\u001b[0mself\u001b[0m\u001b[0;34m,\u001b[0m \u001b[0mkey\u001b[0m\u001b[0;34m)\u001b[0m\u001b[0;34m\u001b[0m\u001b[0;34m\u001b[0m\u001b[0m\n\u001b[0m\u001b[1;32m    537\u001b[0m \u001b[0;34m\u001b[0m\u001b[0m\n\u001b[1;32m    538\u001b[0m         \u001b[0mis_period\u001b[0m \u001b[0;34m=\u001b[0m \u001b[0mis_period_dtype\u001b[0m\u001b[0;34m(\u001b[0m\u001b[0mself\u001b[0m\u001b[0;34m)\u001b[0m\u001b[0;34m\u001b[0m\u001b[0;34m\u001b[0m\u001b[0m\n",
      "\u001b[0;32m~/anaconda3/lib/python3.8/site-packages/pandas/core/indexers.py\u001b[0m in \u001b[0;36mcheck_array_indexer\u001b[0;34m(array, indexer)\u001b[0m\n\u001b[1;32m    410\u001b[0m             )\n\u001b[1;32m    411\u001b[0m     \u001b[0;32melse\u001b[0m\u001b[0;34m:\u001b[0m\u001b[0;34m\u001b[0m\u001b[0;34m\u001b[0m\u001b[0m\n\u001b[0;32m--> 412\u001b[0;31m         \u001b[0;32mraise\u001b[0m \u001b[0mIndexError\u001b[0m\u001b[0;34m(\u001b[0m\u001b[0;34m\"arrays used as indices must be of integer or boolean type\"\u001b[0m\u001b[0;34m)\u001b[0m\u001b[0;34m\u001b[0m\u001b[0;34m\u001b[0m\u001b[0m\n\u001b[0m\u001b[1;32m    413\u001b[0m \u001b[0;34m\u001b[0m\u001b[0m\n\u001b[1;32m    414\u001b[0m     \u001b[0;32mreturn\u001b[0m \u001b[0mindexer\u001b[0m\u001b[0;34m\u001b[0m\u001b[0;34m\u001b[0m\u001b[0m\n",
      "\u001b[0;31mIndexError\u001b[0m: arrays used as indices must be of integer or boolean type"
     ]
    },
    {
     "ename": "IndexError",
     "evalue": "arrays used as indices must be of integer or boolean type",
     "output_type": "error",
     "traceback": [
      "\u001b[0;31m---------------------------------------------------------------------------\u001b[0m",
      "\u001b[0;31mIndexError\u001b[0m                                Traceback (most recent call last)",
      "\u001b[0;32m<ipython-input-181-0c1a7bb80e9a>\u001b[0m in \u001b[0;36mset_selected_crime_types\u001b[0;34m(button)\u001b[0m\n\u001b[1;32m     91\u001b[0m         \u001b[0mbutton\u001b[0m\u001b[0;34m.\u001b[0m\u001b[0mbutton_style\u001b[0m \u001b[0;34m=\u001b[0m \u001b[0;34m\"\"\u001b[0m\u001b[0;34m\u001b[0m\u001b[0;34m\u001b[0m\u001b[0m\n\u001b[1;32m     92\u001b[0m         \u001b[0mselected_crime_types\u001b[0m\u001b[0;34m.\u001b[0m\u001b[0mremove\u001b[0m\u001b[0;34m(\u001b[0m\u001b[0mbutton\u001b[0m\u001b[0;34m.\u001b[0m\u001b[0mdescription\u001b[0m\u001b[0;34m)\u001b[0m\u001b[0;34m\u001b[0m\u001b[0;34m\u001b[0m\u001b[0m\n\u001b[0;32m---> 93\u001b[0;31m     \u001b[0mupdate_data\u001b[0m\u001b[0;34m(\u001b[0m\u001b[0;34m)\u001b[0m\u001b[0;34m\u001b[0m\u001b[0;34m\u001b[0m\u001b[0m\n\u001b[0m\u001b[1;32m     94\u001b[0m \u001b[0;34m\u001b[0m\u001b[0m\n\u001b[1;32m     95\u001b[0m \u001b[0;32mdef\u001b[0m \u001b[0mnew_buttons\u001b[0m\u001b[0;34m(\u001b[0m\u001b[0mnames\u001b[0m\u001b[0;34m,\u001b[0m\u001b[0mall_selected\u001b[0m\u001b[0;34m=\u001b[0m\u001b[0;32mFalse\u001b[0m\u001b[0;34m)\u001b[0m\u001b[0;34m:\u001b[0m\u001b[0;34m\u001b[0m\u001b[0;34m\u001b[0m\u001b[0m\n",
      "\u001b[0;32m<ipython-input-179-b6d611dded6a>\u001b[0m in \u001b[0;36mupdate_data\u001b[0;34m()\u001b[0m\n\u001b[1;32m     14\u001b[0m \u001b[0;34m\u001b[0m\u001b[0m\n\u001b[1;32m     15\u001b[0m     \u001b[0;31m# time filters\u001b[0m\u001b[0;34m\u001b[0m\u001b[0;34m\u001b[0m\u001b[0;34m\u001b[0m\u001b[0m\n\u001b[0;32m---> 16\u001b[0;31m     \u001b[0mf_date_min\u001b[0m\u001b[0;34m,\u001b[0m \u001b[0mf_date_max\u001b[0m \u001b[0;34m=\u001b[0m \u001b[0mdate_range\u001b[0m\u001b[0;34m[\u001b[0m\u001b[0;34m[\u001b[0m\u001b[0;34m*\u001b[0m\u001b[0mdate_range_filter\u001b[0m\u001b[0;34m]\u001b[0m\u001b[0;34m]\u001b[0m\u001b[0;34m\u001b[0m\u001b[0;34m\u001b[0m\u001b[0m\n\u001b[0m\u001b[1;32m     17\u001b[0m     \u001b[0mdate_range_mask\u001b[0m \u001b[0;34m=\u001b[0m \u001b[0;34m(\u001b[0m\u001b[0mdf\u001b[0m\u001b[0;34m.\u001b[0m\u001b[0mDate\u001b[0m \u001b[0;34m>=\u001b[0m \u001b[0mf_date_min\u001b[0m\u001b[0;34m)\u001b[0m \u001b[0;34m&\u001b[0m \u001b[0;34m(\u001b[0m\u001b[0mdf\u001b[0m\u001b[0;34m.\u001b[0m\u001b[0mDate\u001b[0m \u001b[0;34m<=\u001b[0m \u001b[0mf_date_max\u001b[0m\u001b[0;34m)\u001b[0m\u001b[0;34m\u001b[0m\u001b[0;34m\u001b[0m\u001b[0m\n\u001b[1;32m     18\u001b[0m \u001b[0;34m\u001b[0m\u001b[0m\n",
      "\u001b[0;32m~/anaconda3/lib/python3.8/site-packages/pandas/core/indexes/extension.py\u001b[0m in \u001b[0;36m__getitem__\u001b[0;34m(self, key)\u001b[0m\n\u001b[1;32m    207\u001b[0m \u001b[0;34m\u001b[0m\u001b[0m\n\u001b[1;32m    208\u001b[0m     \u001b[0;32mdef\u001b[0m \u001b[0m__getitem__\u001b[0m\u001b[0;34m(\u001b[0m\u001b[0mself\u001b[0m\u001b[0;34m,\u001b[0m \u001b[0mkey\u001b[0m\u001b[0;34m)\u001b[0m\u001b[0;34m:\u001b[0m\u001b[0;34m\u001b[0m\u001b[0;34m\u001b[0m\u001b[0m\n\u001b[0;32m--> 209\u001b[0;31m         \u001b[0mresult\u001b[0m \u001b[0;34m=\u001b[0m \u001b[0mself\u001b[0m\u001b[0;34m.\u001b[0m\u001b[0m_data\u001b[0m\u001b[0;34m[\u001b[0m\u001b[0mkey\u001b[0m\u001b[0;34m]\u001b[0m\u001b[0;34m\u001b[0m\u001b[0;34m\u001b[0m\u001b[0m\n\u001b[0m\u001b[1;32m    210\u001b[0m         \u001b[0;32mif\u001b[0m \u001b[0misinstance\u001b[0m\u001b[0;34m(\u001b[0m\u001b[0mresult\u001b[0m\u001b[0;34m,\u001b[0m \u001b[0mtype\u001b[0m\u001b[0;34m(\u001b[0m\u001b[0mself\u001b[0m\u001b[0;34m.\u001b[0m\u001b[0m_data\u001b[0m\u001b[0;34m)\u001b[0m\u001b[0;34m)\u001b[0m\u001b[0;34m:\u001b[0m\u001b[0;34m\u001b[0m\u001b[0;34m\u001b[0m\u001b[0m\n\u001b[1;32m    211\u001b[0m             \u001b[0;32mreturn\u001b[0m \u001b[0mtype\u001b[0m\u001b[0;34m(\u001b[0m\u001b[0mself\u001b[0m\u001b[0;34m)\u001b[0m\u001b[0;34m(\u001b[0m\u001b[0mresult\u001b[0m\u001b[0;34m,\u001b[0m \u001b[0mname\u001b[0m\u001b[0;34m=\u001b[0m\u001b[0mself\u001b[0m\u001b[0;34m.\u001b[0m\u001b[0mname\u001b[0m\u001b[0;34m)\u001b[0m\u001b[0;34m\u001b[0m\u001b[0;34m\u001b[0m\u001b[0m\n",
      "\u001b[0;32m~/anaconda3/lib/python3.8/site-packages/pandas/core/arrays/datetimelike.py\u001b[0m in \u001b[0;36m__getitem__\u001b[0;34m(self, key)\u001b[0m\n\u001b[1;32m    534\u001b[0m             \u001b[0;32mpass\u001b[0m\u001b[0;34m\u001b[0m\u001b[0;34m\u001b[0m\u001b[0m\n\u001b[1;32m    535\u001b[0m         \u001b[0;32melse\u001b[0m\u001b[0;34m:\u001b[0m\u001b[0;34m\u001b[0m\u001b[0;34m\u001b[0m\u001b[0m\n\u001b[0;32m--> 536\u001b[0;31m             \u001b[0mkey\u001b[0m \u001b[0;34m=\u001b[0m \u001b[0mcheck_array_indexer\u001b[0m\u001b[0;34m(\u001b[0m\u001b[0mself\u001b[0m\u001b[0;34m,\u001b[0m \u001b[0mkey\u001b[0m\u001b[0;34m)\u001b[0m\u001b[0;34m\u001b[0m\u001b[0;34m\u001b[0m\u001b[0m\n\u001b[0m\u001b[1;32m    537\u001b[0m \u001b[0;34m\u001b[0m\u001b[0m\n\u001b[1;32m    538\u001b[0m         \u001b[0mis_period\u001b[0m \u001b[0;34m=\u001b[0m \u001b[0mis_period_dtype\u001b[0m\u001b[0;34m(\u001b[0m\u001b[0mself\u001b[0m\u001b[0;34m)\u001b[0m\u001b[0;34m\u001b[0m\u001b[0;34m\u001b[0m\u001b[0m\n",
      "\u001b[0;32m~/anaconda3/lib/python3.8/site-packages/pandas/core/indexers.py\u001b[0m in \u001b[0;36mcheck_array_indexer\u001b[0;34m(array, indexer)\u001b[0m\n\u001b[1;32m    410\u001b[0m             )\n\u001b[1;32m    411\u001b[0m     \u001b[0;32melse\u001b[0m\u001b[0;34m:\u001b[0m\u001b[0;34m\u001b[0m\u001b[0;34m\u001b[0m\u001b[0m\n\u001b[0;32m--> 412\u001b[0;31m         \u001b[0;32mraise\u001b[0m \u001b[0mIndexError\u001b[0m\u001b[0;34m(\u001b[0m\u001b[0;34m\"arrays used as indices must be of integer or boolean type\"\u001b[0m\u001b[0;34m)\u001b[0m\u001b[0;34m\u001b[0m\u001b[0;34m\u001b[0m\u001b[0m\n\u001b[0m\u001b[1;32m    413\u001b[0m \u001b[0;34m\u001b[0m\u001b[0m\n\u001b[1;32m    414\u001b[0m     \u001b[0;32mreturn\u001b[0m \u001b[0mindexer\u001b[0m\u001b[0;34m\u001b[0m\u001b[0;34m\u001b[0m\u001b[0m\n",
      "\u001b[0;31mIndexError\u001b[0m: arrays used as indices must be of integer or boolean type"
     ]
    },
    {
     "ename": "IndexError",
     "evalue": "arrays used as indices must be of integer or boolean type",
     "output_type": "error",
     "traceback": [
      "\u001b[0;31m---------------------------------------------------------------------------\u001b[0m",
      "\u001b[0;31mIndexError\u001b[0m                                Traceback (most recent call last)",
      "\u001b[0;32m<ipython-input-181-0c1a7bb80e9a>\u001b[0m in \u001b[0;36mset_selected_crime_types\u001b[0;34m(button)\u001b[0m\n\u001b[1;32m     91\u001b[0m         \u001b[0mbutton\u001b[0m\u001b[0;34m.\u001b[0m\u001b[0mbutton_style\u001b[0m \u001b[0;34m=\u001b[0m \u001b[0;34m\"\"\u001b[0m\u001b[0;34m\u001b[0m\u001b[0;34m\u001b[0m\u001b[0m\n\u001b[1;32m     92\u001b[0m         \u001b[0mselected_crime_types\u001b[0m\u001b[0;34m.\u001b[0m\u001b[0mremove\u001b[0m\u001b[0;34m(\u001b[0m\u001b[0mbutton\u001b[0m\u001b[0;34m.\u001b[0m\u001b[0mdescription\u001b[0m\u001b[0;34m)\u001b[0m\u001b[0;34m\u001b[0m\u001b[0;34m\u001b[0m\u001b[0m\n\u001b[0;32m---> 93\u001b[0;31m     \u001b[0mupdate_data\u001b[0m\u001b[0;34m(\u001b[0m\u001b[0;34m)\u001b[0m\u001b[0;34m\u001b[0m\u001b[0;34m\u001b[0m\u001b[0m\n\u001b[0m\u001b[1;32m     94\u001b[0m \u001b[0;34m\u001b[0m\u001b[0m\n\u001b[1;32m     95\u001b[0m \u001b[0;32mdef\u001b[0m \u001b[0mnew_buttons\u001b[0m\u001b[0;34m(\u001b[0m\u001b[0mnames\u001b[0m\u001b[0;34m,\u001b[0m\u001b[0mall_selected\u001b[0m\u001b[0;34m=\u001b[0m\u001b[0;32mFalse\u001b[0m\u001b[0;34m)\u001b[0m\u001b[0;34m:\u001b[0m\u001b[0;34m\u001b[0m\u001b[0;34m\u001b[0m\u001b[0m\n",
      "\u001b[0;32m<ipython-input-179-b6d611dded6a>\u001b[0m in \u001b[0;36mupdate_data\u001b[0;34m()\u001b[0m\n\u001b[1;32m     14\u001b[0m \u001b[0;34m\u001b[0m\u001b[0m\n\u001b[1;32m     15\u001b[0m     \u001b[0;31m# time filters\u001b[0m\u001b[0;34m\u001b[0m\u001b[0;34m\u001b[0m\u001b[0;34m\u001b[0m\u001b[0m\n\u001b[0;32m---> 16\u001b[0;31m     \u001b[0mf_date_min\u001b[0m\u001b[0;34m,\u001b[0m \u001b[0mf_date_max\u001b[0m \u001b[0;34m=\u001b[0m \u001b[0mdate_range\u001b[0m\u001b[0;34m[\u001b[0m\u001b[0;34m[\u001b[0m\u001b[0;34m*\u001b[0m\u001b[0mdate_range_filter\u001b[0m\u001b[0;34m]\u001b[0m\u001b[0;34m]\u001b[0m\u001b[0;34m\u001b[0m\u001b[0;34m\u001b[0m\u001b[0m\n\u001b[0m\u001b[1;32m     17\u001b[0m     \u001b[0mdate_range_mask\u001b[0m \u001b[0;34m=\u001b[0m \u001b[0;34m(\u001b[0m\u001b[0mdf\u001b[0m\u001b[0;34m.\u001b[0m\u001b[0mDate\u001b[0m \u001b[0;34m>=\u001b[0m \u001b[0mf_date_min\u001b[0m\u001b[0;34m)\u001b[0m \u001b[0;34m&\u001b[0m \u001b[0;34m(\u001b[0m\u001b[0mdf\u001b[0m\u001b[0;34m.\u001b[0m\u001b[0mDate\u001b[0m \u001b[0;34m<=\u001b[0m \u001b[0mf_date_max\u001b[0m\u001b[0;34m)\u001b[0m\u001b[0;34m\u001b[0m\u001b[0;34m\u001b[0m\u001b[0m\n\u001b[1;32m     18\u001b[0m \u001b[0;34m\u001b[0m\u001b[0m\n",
      "\u001b[0;32m~/anaconda3/lib/python3.8/site-packages/pandas/core/indexes/extension.py\u001b[0m in \u001b[0;36m__getitem__\u001b[0;34m(self, key)\u001b[0m\n\u001b[1;32m    207\u001b[0m \u001b[0;34m\u001b[0m\u001b[0m\n\u001b[1;32m    208\u001b[0m     \u001b[0;32mdef\u001b[0m \u001b[0m__getitem__\u001b[0m\u001b[0;34m(\u001b[0m\u001b[0mself\u001b[0m\u001b[0;34m,\u001b[0m \u001b[0mkey\u001b[0m\u001b[0;34m)\u001b[0m\u001b[0;34m:\u001b[0m\u001b[0;34m\u001b[0m\u001b[0;34m\u001b[0m\u001b[0m\n\u001b[0;32m--> 209\u001b[0;31m         \u001b[0mresult\u001b[0m \u001b[0;34m=\u001b[0m \u001b[0mself\u001b[0m\u001b[0;34m.\u001b[0m\u001b[0m_data\u001b[0m\u001b[0;34m[\u001b[0m\u001b[0mkey\u001b[0m\u001b[0;34m]\u001b[0m\u001b[0;34m\u001b[0m\u001b[0;34m\u001b[0m\u001b[0m\n\u001b[0m\u001b[1;32m    210\u001b[0m         \u001b[0;32mif\u001b[0m \u001b[0misinstance\u001b[0m\u001b[0;34m(\u001b[0m\u001b[0mresult\u001b[0m\u001b[0;34m,\u001b[0m \u001b[0mtype\u001b[0m\u001b[0;34m(\u001b[0m\u001b[0mself\u001b[0m\u001b[0;34m.\u001b[0m\u001b[0m_data\u001b[0m\u001b[0;34m)\u001b[0m\u001b[0;34m)\u001b[0m\u001b[0;34m:\u001b[0m\u001b[0;34m\u001b[0m\u001b[0;34m\u001b[0m\u001b[0m\n\u001b[1;32m    211\u001b[0m             \u001b[0;32mreturn\u001b[0m \u001b[0mtype\u001b[0m\u001b[0;34m(\u001b[0m\u001b[0mself\u001b[0m\u001b[0;34m)\u001b[0m\u001b[0;34m(\u001b[0m\u001b[0mresult\u001b[0m\u001b[0;34m,\u001b[0m \u001b[0mname\u001b[0m\u001b[0;34m=\u001b[0m\u001b[0mself\u001b[0m\u001b[0;34m.\u001b[0m\u001b[0mname\u001b[0m\u001b[0;34m)\u001b[0m\u001b[0;34m\u001b[0m\u001b[0;34m\u001b[0m\u001b[0m\n",
      "\u001b[0;32m~/anaconda3/lib/python3.8/site-packages/pandas/core/arrays/datetimelike.py\u001b[0m in \u001b[0;36m__getitem__\u001b[0;34m(self, key)\u001b[0m\n\u001b[1;32m    534\u001b[0m             \u001b[0;32mpass\u001b[0m\u001b[0;34m\u001b[0m\u001b[0;34m\u001b[0m\u001b[0m\n\u001b[1;32m    535\u001b[0m         \u001b[0;32melse\u001b[0m\u001b[0;34m:\u001b[0m\u001b[0;34m\u001b[0m\u001b[0;34m\u001b[0m\u001b[0m\n\u001b[0;32m--> 536\u001b[0;31m             \u001b[0mkey\u001b[0m \u001b[0;34m=\u001b[0m \u001b[0mcheck_array_indexer\u001b[0m\u001b[0;34m(\u001b[0m\u001b[0mself\u001b[0m\u001b[0;34m,\u001b[0m \u001b[0mkey\u001b[0m\u001b[0;34m)\u001b[0m\u001b[0;34m\u001b[0m\u001b[0;34m\u001b[0m\u001b[0m\n\u001b[0m\u001b[1;32m    537\u001b[0m \u001b[0;34m\u001b[0m\u001b[0m\n\u001b[1;32m    538\u001b[0m         \u001b[0mis_period\u001b[0m \u001b[0;34m=\u001b[0m \u001b[0mis_period_dtype\u001b[0m\u001b[0;34m(\u001b[0m\u001b[0mself\u001b[0m\u001b[0;34m)\u001b[0m\u001b[0;34m\u001b[0m\u001b[0;34m\u001b[0m\u001b[0m\n",
      "\u001b[0;32m~/anaconda3/lib/python3.8/site-packages/pandas/core/indexers.py\u001b[0m in \u001b[0;36mcheck_array_indexer\u001b[0;34m(array, indexer)\u001b[0m\n\u001b[1;32m    410\u001b[0m             )\n\u001b[1;32m    411\u001b[0m     \u001b[0;32melse\u001b[0m\u001b[0;34m:\u001b[0m\u001b[0;34m\u001b[0m\u001b[0;34m\u001b[0m\u001b[0m\n\u001b[0;32m--> 412\u001b[0;31m         \u001b[0;32mraise\u001b[0m \u001b[0mIndexError\u001b[0m\u001b[0;34m(\u001b[0m\u001b[0;34m\"arrays used as indices must be of integer or boolean type\"\u001b[0m\u001b[0;34m)\u001b[0m\u001b[0;34m\u001b[0m\u001b[0;34m\u001b[0m\u001b[0m\n\u001b[0m\u001b[1;32m    413\u001b[0m \u001b[0;34m\u001b[0m\u001b[0m\n\u001b[1;32m    414\u001b[0m     \u001b[0;32mreturn\u001b[0m \u001b[0mindexer\u001b[0m\u001b[0;34m\u001b[0m\u001b[0;34m\u001b[0m\u001b[0m\n",
      "\u001b[0;31mIndexError\u001b[0m: arrays used as indices must be of integer or boolean type"
     ]
    },
    {
     "ename": "IndexError",
     "evalue": "arrays used as indices must be of integer or boolean type",
     "output_type": "error",
     "traceback": [
      "\u001b[0;31m---------------------------------------------------------------------------\u001b[0m",
      "\u001b[0;31mIndexError\u001b[0m                                Traceback (most recent call last)",
      "\u001b[0;32m<ipython-input-181-0c1a7bb80e9a>\u001b[0m in \u001b[0;36mset_selected_crime_types\u001b[0;34m(button)\u001b[0m\n\u001b[1;32m     91\u001b[0m         \u001b[0mbutton\u001b[0m\u001b[0;34m.\u001b[0m\u001b[0mbutton_style\u001b[0m \u001b[0;34m=\u001b[0m \u001b[0;34m\"\"\u001b[0m\u001b[0;34m\u001b[0m\u001b[0;34m\u001b[0m\u001b[0m\n\u001b[1;32m     92\u001b[0m         \u001b[0mselected_crime_types\u001b[0m\u001b[0;34m.\u001b[0m\u001b[0mremove\u001b[0m\u001b[0;34m(\u001b[0m\u001b[0mbutton\u001b[0m\u001b[0;34m.\u001b[0m\u001b[0mdescription\u001b[0m\u001b[0;34m)\u001b[0m\u001b[0;34m\u001b[0m\u001b[0;34m\u001b[0m\u001b[0m\n\u001b[0;32m---> 93\u001b[0;31m     \u001b[0mupdate_data\u001b[0m\u001b[0;34m(\u001b[0m\u001b[0;34m)\u001b[0m\u001b[0;34m\u001b[0m\u001b[0;34m\u001b[0m\u001b[0m\n\u001b[0m\u001b[1;32m     94\u001b[0m \u001b[0;34m\u001b[0m\u001b[0m\n\u001b[1;32m     95\u001b[0m \u001b[0;32mdef\u001b[0m \u001b[0mnew_buttons\u001b[0m\u001b[0;34m(\u001b[0m\u001b[0mnames\u001b[0m\u001b[0;34m,\u001b[0m\u001b[0mall_selected\u001b[0m\u001b[0;34m=\u001b[0m\u001b[0;32mFalse\u001b[0m\u001b[0;34m)\u001b[0m\u001b[0;34m:\u001b[0m\u001b[0;34m\u001b[0m\u001b[0;34m\u001b[0m\u001b[0m\n",
      "\u001b[0;32m<ipython-input-179-b6d611dded6a>\u001b[0m in \u001b[0;36mupdate_data\u001b[0;34m()\u001b[0m\n\u001b[1;32m     14\u001b[0m \u001b[0;34m\u001b[0m\u001b[0m\n\u001b[1;32m     15\u001b[0m     \u001b[0;31m# time filters\u001b[0m\u001b[0;34m\u001b[0m\u001b[0;34m\u001b[0m\u001b[0;34m\u001b[0m\u001b[0m\n\u001b[0;32m---> 16\u001b[0;31m     \u001b[0mf_date_min\u001b[0m\u001b[0;34m,\u001b[0m \u001b[0mf_date_max\u001b[0m \u001b[0;34m=\u001b[0m \u001b[0mdate_range\u001b[0m\u001b[0;34m[\u001b[0m\u001b[0;34m[\u001b[0m\u001b[0;34m*\u001b[0m\u001b[0mdate_range_filter\u001b[0m\u001b[0;34m]\u001b[0m\u001b[0;34m]\u001b[0m\u001b[0;34m\u001b[0m\u001b[0;34m\u001b[0m\u001b[0m\n\u001b[0m\u001b[1;32m     17\u001b[0m     \u001b[0mdate_range_mask\u001b[0m \u001b[0;34m=\u001b[0m \u001b[0;34m(\u001b[0m\u001b[0mdf\u001b[0m\u001b[0;34m.\u001b[0m\u001b[0mDate\u001b[0m \u001b[0;34m>=\u001b[0m \u001b[0mf_date_min\u001b[0m\u001b[0;34m)\u001b[0m \u001b[0;34m&\u001b[0m \u001b[0;34m(\u001b[0m\u001b[0mdf\u001b[0m\u001b[0;34m.\u001b[0m\u001b[0mDate\u001b[0m \u001b[0;34m<=\u001b[0m \u001b[0mf_date_max\u001b[0m\u001b[0;34m)\u001b[0m\u001b[0;34m\u001b[0m\u001b[0;34m\u001b[0m\u001b[0m\n\u001b[1;32m     18\u001b[0m \u001b[0;34m\u001b[0m\u001b[0m\n",
      "\u001b[0;32m~/anaconda3/lib/python3.8/site-packages/pandas/core/indexes/extension.py\u001b[0m in \u001b[0;36m__getitem__\u001b[0;34m(self, key)\u001b[0m\n\u001b[1;32m    207\u001b[0m \u001b[0;34m\u001b[0m\u001b[0m\n\u001b[1;32m    208\u001b[0m     \u001b[0;32mdef\u001b[0m \u001b[0m__getitem__\u001b[0m\u001b[0;34m(\u001b[0m\u001b[0mself\u001b[0m\u001b[0;34m,\u001b[0m \u001b[0mkey\u001b[0m\u001b[0;34m)\u001b[0m\u001b[0;34m:\u001b[0m\u001b[0;34m\u001b[0m\u001b[0;34m\u001b[0m\u001b[0m\n\u001b[0;32m--> 209\u001b[0;31m         \u001b[0mresult\u001b[0m \u001b[0;34m=\u001b[0m \u001b[0mself\u001b[0m\u001b[0;34m.\u001b[0m\u001b[0m_data\u001b[0m\u001b[0;34m[\u001b[0m\u001b[0mkey\u001b[0m\u001b[0;34m]\u001b[0m\u001b[0;34m\u001b[0m\u001b[0;34m\u001b[0m\u001b[0m\n\u001b[0m\u001b[1;32m    210\u001b[0m         \u001b[0;32mif\u001b[0m \u001b[0misinstance\u001b[0m\u001b[0;34m(\u001b[0m\u001b[0mresult\u001b[0m\u001b[0;34m,\u001b[0m \u001b[0mtype\u001b[0m\u001b[0;34m(\u001b[0m\u001b[0mself\u001b[0m\u001b[0;34m.\u001b[0m\u001b[0m_data\u001b[0m\u001b[0;34m)\u001b[0m\u001b[0;34m)\u001b[0m\u001b[0;34m:\u001b[0m\u001b[0;34m\u001b[0m\u001b[0;34m\u001b[0m\u001b[0m\n\u001b[1;32m    211\u001b[0m             \u001b[0;32mreturn\u001b[0m \u001b[0mtype\u001b[0m\u001b[0;34m(\u001b[0m\u001b[0mself\u001b[0m\u001b[0;34m)\u001b[0m\u001b[0;34m(\u001b[0m\u001b[0mresult\u001b[0m\u001b[0;34m,\u001b[0m \u001b[0mname\u001b[0m\u001b[0;34m=\u001b[0m\u001b[0mself\u001b[0m\u001b[0;34m.\u001b[0m\u001b[0mname\u001b[0m\u001b[0;34m)\u001b[0m\u001b[0;34m\u001b[0m\u001b[0;34m\u001b[0m\u001b[0m\n",
      "\u001b[0;32m~/anaconda3/lib/python3.8/site-packages/pandas/core/arrays/datetimelike.py\u001b[0m in \u001b[0;36m__getitem__\u001b[0;34m(self, key)\u001b[0m\n\u001b[1;32m    534\u001b[0m             \u001b[0;32mpass\u001b[0m\u001b[0;34m\u001b[0m\u001b[0;34m\u001b[0m\u001b[0m\n\u001b[1;32m    535\u001b[0m         \u001b[0;32melse\u001b[0m\u001b[0;34m:\u001b[0m\u001b[0;34m\u001b[0m\u001b[0;34m\u001b[0m\u001b[0m\n\u001b[0;32m--> 536\u001b[0;31m             \u001b[0mkey\u001b[0m \u001b[0;34m=\u001b[0m \u001b[0mcheck_array_indexer\u001b[0m\u001b[0;34m(\u001b[0m\u001b[0mself\u001b[0m\u001b[0;34m,\u001b[0m \u001b[0mkey\u001b[0m\u001b[0;34m)\u001b[0m\u001b[0;34m\u001b[0m\u001b[0;34m\u001b[0m\u001b[0m\n\u001b[0m\u001b[1;32m    537\u001b[0m \u001b[0;34m\u001b[0m\u001b[0m\n\u001b[1;32m    538\u001b[0m         \u001b[0mis_period\u001b[0m \u001b[0;34m=\u001b[0m \u001b[0mis_period_dtype\u001b[0m\u001b[0;34m(\u001b[0m\u001b[0mself\u001b[0m\u001b[0;34m)\u001b[0m\u001b[0;34m\u001b[0m\u001b[0;34m\u001b[0m\u001b[0m\n",
      "\u001b[0;32m~/anaconda3/lib/python3.8/site-packages/pandas/core/indexers.py\u001b[0m in \u001b[0;36mcheck_array_indexer\u001b[0;34m(array, indexer)\u001b[0m\n\u001b[1;32m    410\u001b[0m             )\n\u001b[1;32m    411\u001b[0m     \u001b[0;32melse\u001b[0m\u001b[0;34m:\u001b[0m\u001b[0;34m\u001b[0m\u001b[0;34m\u001b[0m\u001b[0m\n\u001b[0;32m--> 412\u001b[0;31m         \u001b[0;32mraise\u001b[0m \u001b[0mIndexError\u001b[0m\u001b[0;34m(\u001b[0m\u001b[0;34m\"arrays used as indices must be of integer or boolean type\"\u001b[0m\u001b[0;34m)\u001b[0m\u001b[0;34m\u001b[0m\u001b[0;34m\u001b[0m\u001b[0m\n\u001b[0m\u001b[1;32m    413\u001b[0m \u001b[0;34m\u001b[0m\u001b[0m\n\u001b[1;32m    414\u001b[0m     \u001b[0;32mreturn\u001b[0m \u001b[0mindexer\u001b[0m\u001b[0;34m\u001b[0m\u001b[0;34m\u001b[0m\u001b[0m\n",
      "\u001b[0;31mIndexError\u001b[0m: arrays used as indices must be of integer or boolean type"
     ]
    },
    {
     "ename": "IndexError",
     "evalue": "arrays used as indices must be of integer or boolean type",
     "output_type": "error",
     "traceback": [
      "\u001b[0;31m---------------------------------------------------------------------------\u001b[0m",
      "\u001b[0;31mIndexError\u001b[0m                                Traceback (most recent call last)",
      "\u001b[0;32m<ipython-input-181-0c1a7bb80e9a>\u001b[0m in \u001b[0;36mset_selected_crime_types\u001b[0;34m(button)\u001b[0m\n\u001b[1;32m     91\u001b[0m         \u001b[0mbutton\u001b[0m\u001b[0;34m.\u001b[0m\u001b[0mbutton_style\u001b[0m \u001b[0;34m=\u001b[0m \u001b[0;34m\"\"\u001b[0m\u001b[0;34m\u001b[0m\u001b[0;34m\u001b[0m\u001b[0m\n\u001b[1;32m     92\u001b[0m         \u001b[0mselected_crime_types\u001b[0m\u001b[0;34m.\u001b[0m\u001b[0mremove\u001b[0m\u001b[0;34m(\u001b[0m\u001b[0mbutton\u001b[0m\u001b[0;34m.\u001b[0m\u001b[0mdescription\u001b[0m\u001b[0;34m)\u001b[0m\u001b[0;34m\u001b[0m\u001b[0;34m\u001b[0m\u001b[0m\n\u001b[0;32m---> 93\u001b[0;31m     \u001b[0mupdate_data\u001b[0m\u001b[0;34m(\u001b[0m\u001b[0;34m)\u001b[0m\u001b[0;34m\u001b[0m\u001b[0;34m\u001b[0m\u001b[0m\n\u001b[0m\u001b[1;32m     94\u001b[0m \u001b[0;34m\u001b[0m\u001b[0m\n\u001b[1;32m     95\u001b[0m \u001b[0;32mdef\u001b[0m \u001b[0mnew_buttons\u001b[0m\u001b[0;34m(\u001b[0m\u001b[0mnames\u001b[0m\u001b[0;34m,\u001b[0m\u001b[0mall_selected\u001b[0m\u001b[0;34m=\u001b[0m\u001b[0;32mFalse\u001b[0m\u001b[0;34m)\u001b[0m\u001b[0;34m:\u001b[0m\u001b[0;34m\u001b[0m\u001b[0;34m\u001b[0m\u001b[0m\n",
      "\u001b[0;32m<ipython-input-179-b6d611dded6a>\u001b[0m in \u001b[0;36mupdate_data\u001b[0;34m()\u001b[0m\n\u001b[1;32m     14\u001b[0m \u001b[0;34m\u001b[0m\u001b[0m\n\u001b[1;32m     15\u001b[0m     \u001b[0;31m# time filters\u001b[0m\u001b[0;34m\u001b[0m\u001b[0;34m\u001b[0m\u001b[0;34m\u001b[0m\u001b[0m\n\u001b[0;32m---> 16\u001b[0;31m     \u001b[0mf_date_min\u001b[0m\u001b[0;34m,\u001b[0m \u001b[0mf_date_max\u001b[0m \u001b[0;34m=\u001b[0m \u001b[0mdate_range\u001b[0m\u001b[0;34m[\u001b[0m\u001b[0;34m[\u001b[0m\u001b[0;34m*\u001b[0m\u001b[0mdate_range_filter\u001b[0m\u001b[0;34m]\u001b[0m\u001b[0;34m]\u001b[0m\u001b[0;34m\u001b[0m\u001b[0;34m\u001b[0m\u001b[0m\n\u001b[0m\u001b[1;32m     17\u001b[0m     \u001b[0mdate_range_mask\u001b[0m \u001b[0;34m=\u001b[0m \u001b[0;34m(\u001b[0m\u001b[0mdf\u001b[0m\u001b[0;34m.\u001b[0m\u001b[0mDate\u001b[0m \u001b[0;34m>=\u001b[0m \u001b[0mf_date_min\u001b[0m\u001b[0;34m)\u001b[0m \u001b[0;34m&\u001b[0m \u001b[0;34m(\u001b[0m\u001b[0mdf\u001b[0m\u001b[0;34m.\u001b[0m\u001b[0mDate\u001b[0m \u001b[0;34m<=\u001b[0m \u001b[0mf_date_max\u001b[0m\u001b[0;34m)\u001b[0m\u001b[0;34m\u001b[0m\u001b[0;34m\u001b[0m\u001b[0m\n\u001b[1;32m     18\u001b[0m \u001b[0;34m\u001b[0m\u001b[0m\n",
      "\u001b[0;32m~/anaconda3/lib/python3.8/site-packages/pandas/core/indexes/extension.py\u001b[0m in \u001b[0;36m__getitem__\u001b[0;34m(self, key)\u001b[0m\n\u001b[1;32m    207\u001b[0m \u001b[0;34m\u001b[0m\u001b[0m\n\u001b[1;32m    208\u001b[0m     \u001b[0;32mdef\u001b[0m \u001b[0m__getitem__\u001b[0m\u001b[0;34m(\u001b[0m\u001b[0mself\u001b[0m\u001b[0;34m,\u001b[0m \u001b[0mkey\u001b[0m\u001b[0;34m)\u001b[0m\u001b[0;34m:\u001b[0m\u001b[0;34m\u001b[0m\u001b[0;34m\u001b[0m\u001b[0m\n\u001b[0;32m--> 209\u001b[0;31m         \u001b[0mresult\u001b[0m \u001b[0;34m=\u001b[0m \u001b[0mself\u001b[0m\u001b[0;34m.\u001b[0m\u001b[0m_data\u001b[0m\u001b[0;34m[\u001b[0m\u001b[0mkey\u001b[0m\u001b[0;34m]\u001b[0m\u001b[0;34m\u001b[0m\u001b[0;34m\u001b[0m\u001b[0m\n\u001b[0m\u001b[1;32m    210\u001b[0m         \u001b[0;32mif\u001b[0m \u001b[0misinstance\u001b[0m\u001b[0;34m(\u001b[0m\u001b[0mresult\u001b[0m\u001b[0;34m,\u001b[0m \u001b[0mtype\u001b[0m\u001b[0;34m(\u001b[0m\u001b[0mself\u001b[0m\u001b[0;34m.\u001b[0m\u001b[0m_data\u001b[0m\u001b[0;34m)\u001b[0m\u001b[0;34m)\u001b[0m\u001b[0;34m:\u001b[0m\u001b[0;34m\u001b[0m\u001b[0;34m\u001b[0m\u001b[0m\n\u001b[1;32m    211\u001b[0m             \u001b[0;32mreturn\u001b[0m \u001b[0mtype\u001b[0m\u001b[0;34m(\u001b[0m\u001b[0mself\u001b[0m\u001b[0;34m)\u001b[0m\u001b[0;34m(\u001b[0m\u001b[0mresult\u001b[0m\u001b[0;34m,\u001b[0m \u001b[0mname\u001b[0m\u001b[0;34m=\u001b[0m\u001b[0mself\u001b[0m\u001b[0;34m.\u001b[0m\u001b[0mname\u001b[0m\u001b[0;34m)\u001b[0m\u001b[0;34m\u001b[0m\u001b[0;34m\u001b[0m\u001b[0m\n",
      "\u001b[0;32m~/anaconda3/lib/python3.8/site-packages/pandas/core/arrays/datetimelike.py\u001b[0m in \u001b[0;36m__getitem__\u001b[0;34m(self, key)\u001b[0m\n\u001b[1;32m    534\u001b[0m             \u001b[0;32mpass\u001b[0m\u001b[0;34m\u001b[0m\u001b[0;34m\u001b[0m\u001b[0m\n\u001b[1;32m    535\u001b[0m         \u001b[0;32melse\u001b[0m\u001b[0;34m:\u001b[0m\u001b[0;34m\u001b[0m\u001b[0;34m\u001b[0m\u001b[0m\n\u001b[0;32m--> 536\u001b[0;31m             \u001b[0mkey\u001b[0m \u001b[0;34m=\u001b[0m \u001b[0mcheck_array_indexer\u001b[0m\u001b[0;34m(\u001b[0m\u001b[0mself\u001b[0m\u001b[0;34m,\u001b[0m \u001b[0mkey\u001b[0m\u001b[0;34m)\u001b[0m\u001b[0;34m\u001b[0m\u001b[0;34m\u001b[0m\u001b[0m\n\u001b[0m\u001b[1;32m    537\u001b[0m \u001b[0;34m\u001b[0m\u001b[0m\n\u001b[1;32m    538\u001b[0m         \u001b[0mis_period\u001b[0m \u001b[0;34m=\u001b[0m \u001b[0mis_period_dtype\u001b[0m\u001b[0;34m(\u001b[0m\u001b[0mself\u001b[0m\u001b[0;34m)\u001b[0m\u001b[0;34m\u001b[0m\u001b[0;34m\u001b[0m\u001b[0m\n",
      "\u001b[0;32m~/anaconda3/lib/python3.8/site-packages/pandas/core/indexers.py\u001b[0m in \u001b[0;36mcheck_array_indexer\u001b[0;34m(array, indexer)\u001b[0m\n\u001b[1;32m    410\u001b[0m             )\n\u001b[1;32m    411\u001b[0m     \u001b[0;32melse\u001b[0m\u001b[0;34m:\u001b[0m\u001b[0;34m\u001b[0m\u001b[0;34m\u001b[0m\u001b[0m\n\u001b[0;32m--> 412\u001b[0;31m         \u001b[0;32mraise\u001b[0m \u001b[0mIndexError\u001b[0m\u001b[0;34m(\u001b[0m\u001b[0;34m\"arrays used as indices must be of integer or boolean type\"\u001b[0m\u001b[0;34m)\u001b[0m\u001b[0;34m\u001b[0m\u001b[0;34m\u001b[0m\u001b[0m\n\u001b[0m\u001b[1;32m    413\u001b[0m \u001b[0;34m\u001b[0m\u001b[0m\n\u001b[1;32m    414\u001b[0m     \u001b[0;32mreturn\u001b[0m \u001b[0mindexer\u001b[0m\u001b[0;34m\u001b[0m\u001b[0;34m\u001b[0m\u001b[0m\n",
      "\u001b[0;31mIndexError\u001b[0m: arrays used as indices must be of integer or boolean type"
     ]
    },
    {
     "ename": "IndexError",
     "evalue": "arrays used as indices must be of integer or boolean type",
     "output_type": "error",
     "traceback": [
      "\u001b[0;31m---------------------------------------------------------------------------\u001b[0m",
      "\u001b[0;31mIndexError\u001b[0m                                Traceback (most recent call last)",
      "\u001b[0;32m<ipython-input-181-0c1a7bb80e9a>\u001b[0m in \u001b[0;36mset_selected_crime_types\u001b[0;34m(button)\u001b[0m\n\u001b[1;32m     91\u001b[0m         \u001b[0mbutton\u001b[0m\u001b[0;34m.\u001b[0m\u001b[0mbutton_style\u001b[0m \u001b[0;34m=\u001b[0m \u001b[0;34m\"\"\u001b[0m\u001b[0;34m\u001b[0m\u001b[0;34m\u001b[0m\u001b[0m\n\u001b[1;32m     92\u001b[0m         \u001b[0mselected_crime_types\u001b[0m\u001b[0;34m.\u001b[0m\u001b[0mremove\u001b[0m\u001b[0;34m(\u001b[0m\u001b[0mbutton\u001b[0m\u001b[0;34m.\u001b[0m\u001b[0mdescription\u001b[0m\u001b[0;34m)\u001b[0m\u001b[0;34m\u001b[0m\u001b[0;34m\u001b[0m\u001b[0m\n\u001b[0;32m---> 93\u001b[0;31m     \u001b[0mupdate_data\u001b[0m\u001b[0;34m(\u001b[0m\u001b[0;34m)\u001b[0m\u001b[0;34m\u001b[0m\u001b[0;34m\u001b[0m\u001b[0m\n\u001b[0m\u001b[1;32m     94\u001b[0m \u001b[0;34m\u001b[0m\u001b[0m\n\u001b[1;32m     95\u001b[0m \u001b[0;32mdef\u001b[0m \u001b[0mnew_buttons\u001b[0m\u001b[0;34m(\u001b[0m\u001b[0mnames\u001b[0m\u001b[0;34m,\u001b[0m\u001b[0mall_selected\u001b[0m\u001b[0;34m=\u001b[0m\u001b[0;32mFalse\u001b[0m\u001b[0;34m)\u001b[0m\u001b[0;34m:\u001b[0m\u001b[0;34m\u001b[0m\u001b[0;34m\u001b[0m\u001b[0m\n",
      "\u001b[0;32m<ipython-input-179-b6d611dded6a>\u001b[0m in \u001b[0;36mupdate_data\u001b[0;34m()\u001b[0m\n\u001b[1;32m     14\u001b[0m \u001b[0;34m\u001b[0m\u001b[0m\n\u001b[1;32m     15\u001b[0m     \u001b[0;31m# time filters\u001b[0m\u001b[0;34m\u001b[0m\u001b[0;34m\u001b[0m\u001b[0;34m\u001b[0m\u001b[0m\n\u001b[0;32m---> 16\u001b[0;31m     \u001b[0mf_date_min\u001b[0m\u001b[0;34m,\u001b[0m \u001b[0mf_date_max\u001b[0m \u001b[0;34m=\u001b[0m \u001b[0mdate_range\u001b[0m\u001b[0;34m[\u001b[0m\u001b[0;34m[\u001b[0m\u001b[0;34m*\u001b[0m\u001b[0mdate_range_filter\u001b[0m\u001b[0;34m]\u001b[0m\u001b[0;34m]\u001b[0m\u001b[0;34m\u001b[0m\u001b[0;34m\u001b[0m\u001b[0m\n\u001b[0m\u001b[1;32m     17\u001b[0m     \u001b[0mdate_range_mask\u001b[0m \u001b[0;34m=\u001b[0m \u001b[0;34m(\u001b[0m\u001b[0mdf\u001b[0m\u001b[0;34m.\u001b[0m\u001b[0mDate\u001b[0m \u001b[0;34m>=\u001b[0m \u001b[0mf_date_min\u001b[0m\u001b[0;34m)\u001b[0m \u001b[0;34m&\u001b[0m \u001b[0;34m(\u001b[0m\u001b[0mdf\u001b[0m\u001b[0;34m.\u001b[0m\u001b[0mDate\u001b[0m \u001b[0;34m<=\u001b[0m \u001b[0mf_date_max\u001b[0m\u001b[0;34m)\u001b[0m\u001b[0;34m\u001b[0m\u001b[0;34m\u001b[0m\u001b[0m\n\u001b[1;32m     18\u001b[0m \u001b[0;34m\u001b[0m\u001b[0m\n",
      "\u001b[0;32m~/anaconda3/lib/python3.8/site-packages/pandas/core/indexes/extension.py\u001b[0m in \u001b[0;36m__getitem__\u001b[0;34m(self, key)\u001b[0m\n\u001b[1;32m    207\u001b[0m \u001b[0;34m\u001b[0m\u001b[0m\n\u001b[1;32m    208\u001b[0m     \u001b[0;32mdef\u001b[0m \u001b[0m__getitem__\u001b[0m\u001b[0;34m(\u001b[0m\u001b[0mself\u001b[0m\u001b[0;34m,\u001b[0m \u001b[0mkey\u001b[0m\u001b[0;34m)\u001b[0m\u001b[0;34m:\u001b[0m\u001b[0;34m\u001b[0m\u001b[0;34m\u001b[0m\u001b[0m\n\u001b[0;32m--> 209\u001b[0;31m         \u001b[0mresult\u001b[0m \u001b[0;34m=\u001b[0m \u001b[0mself\u001b[0m\u001b[0;34m.\u001b[0m\u001b[0m_data\u001b[0m\u001b[0;34m[\u001b[0m\u001b[0mkey\u001b[0m\u001b[0;34m]\u001b[0m\u001b[0;34m\u001b[0m\u001b[0;34m\u001b[0m\u001b[0m\n\u001b[0m\u001b[1;32m    210\u001b[0m         \u001b[0;32mif\u001b[0m \u001b[0misinstance\u001b[0m\u001b[0;34m(\u001b[0m\u001b[0mresult\u001b[0m\u001b[0;34m,\u001b[0m \u001b[0mtype\u001b[0m\u001b[0;34m(\u001b[0m\u001b[0mself\u001b[0m\u001b[0;34m.\u001b[0m\u001b[0m_data\u001b[0m\u001b[0;34m)\u001b[0m\u001b[0;34m)\u001b[0m\u001b[0;34m:\u001b[0m\u001b[0;34m\u001b[0m\u001b[0;34m\u001b[0m\u001b[0m\n\u001b[1;32m    211\u001b[0m             \u001b[0;32mreturn\u001b[0m \u001b[0mtype\u001b[0m\u001b[0;34m(\u001b[0m\u001b[0mself\u001b[0m\u001b[0;34m)\u001b[0m\u001b[0;34m(\u001b[0m\u001b[0mresult\u001b[0m\u001b[0;34m,\u001b[0m \u001b[0mname\u001b[0m\u001b[0;34m=\u001b[0m\u001b[0mself\u001b[0m\u001b[0;34m.\u001b[0m\u001b[0mname\u001b[0m\u001b[0;34m)\u001b[0m\u001b[0;34m\u001b[0m\u001b[0;34m\u001b[0m\u001b[0m\n",
      "\u001b[0;32m~/anaconda3/lib/python3.8/site-packages/pandas/core/arrays/datetimelike.py\u001b[0m in \u001b[0;36m__getitem__\u001b[0;34m(self, key)\u001b[0m\n\u001b[1;32m    534\u001b[0m             \u001b[0;32mpass\u001b[0m\u001b[0;34m\u001b[0m\u001b[0;34m\u001b[0m\u001b[0m\n\u001b[1;32m    535\u001b[0m         \u001b[0;32melse\u001b[0m\u001b[0;34m:\u001b[0m\u001b[0;34m\u001b[0m\u001b[0;34m\u001b[0m\u001b[0m\n\u001b[0;32m--> 536\u001b[0;31m             \u001b[0mkey\u001b[0m \u001b[0;34m=\u001b[0m \u001b[0mcheck_array_indexer\u001b[0m\u001b[0;34m(\u001b[0m\u001b[0mself\u001b[0m\u001b[0;34m,\u001b[0m \u001b[0mkey\u001b[0m\u001b[0;34m)\u001b[0m\u001b[0;34m\u001b[0m\u001b[0;34m\u001b[0m\u001b[0m\n\u001b[0m\u001b[1;32m    537\u001b[0m \u001b[0;34m\u001b[0m\u001b[0m\n\u001b[1;32m    538\u001b[0m         \u001b[0mis_period\u001b[0m \u001b[0;34m=\u001b[0m \u001b[0mis_period_dtype\u001b[0m\u001b[0;34m(\u001b[0m\u001b[0mself\u001b[0m\u001b[0;34m)\u001b[0m\u001b[0;34m\u001b[0m\u001b[0;34m\u001b[0m\u001b[0m\n",
      "\u001b[0;32m~/anaconda3/lib/python3.8/site-packages/pandas/core/indexers.py\u001b[0m in \u001b[0;36mcheck_array_indexer\u001b[0;34m(array, indexer)\u001b[0m\n\u001b[1;32m    410\u001b[0m             )\n\u001b[1;32m    411\u001b[0m     \u001b[0;32melse\u001b[0m\u001b[0;34m:\u001b[0m\u001b[0;34m\u001b[0m\u001b[0;34m\u001b[0m\u001b[0m\n\u001b[0;32m--> 412\u001b[0;31m         \u001b[0;32mraise\u001b[0m \u001b[0mIndexError\u001b[0m\u001b[0;34m(\u001b[0m\u001b[0;34m\"arrays used as indices must be of integer or boolean type\"\u001b[0m\u001b[0;34m)\u001b[0m\u001b[0;34m\u001b[0m\u001b[0;34m\u001b[0m\u001b[0m\n\u001b[0m\u001b[1;32m    413\u001b[0m \u001b[0;34m\u001b[0m\u001b[0m\n\u001b[1;32m    414\u001b[0m     \u001b[0;32mreturn\u001b[0m \u001b[0mindexer\u001b[0m\u001b[0;34m\u001b[0m\u001b[0;34m\u001b[0m\u001b[0m\n",
      "\u001b[0;31mIndexError\u001b[0m: arrays used as indices must be of integer or boolean type"
     ]
    },
    {
     "ename": "IndexError",
     "evalue": "arrays used as indices must be of integer or boolean type",
     "output_type": "error",
     "traceback": [
      "\u001b[0;31m---------------------------------------------------------------------------\u001b[0m",
      "\u001b[0;31mIndexError\u001b[0m                                Traceback (most recent call last)",
      "\u001b[0;32m<ipython-input-181-0c1a7bb80e9a>\u001b[0m in \u001b[0;36mset_selected_crime_types\u001b[0;34m(button)\u001b[0m\n\u001b[1;32m     91\u001b[0m         \u001b[0mbutton\u001b[0m\u001b[0;34m.\u001b[0m\u001b[0mbutton_style\u001b[0m \u001b[0;34m=\u001b[0m \u001b[0;34m\"\"\u001b[0m\u001b[0;34m\u001b[0m\u001b[0;34m\u001b[0m\u001b[0m\n\u001b[1;32m     92\u001b[0m         \u001b[0mselected_crime_types\u001b[0m\u001b[0;34m.\u001b[0m\u001b[0mremove\u001b[0m\u001b[0;34m(\u001b[0m\u001b[0mbutton\u001b[0m\u001b[0;34m.\u001b[0m\u001b[0mdescription\u001b[0m\u001b[0;34m)\u001b[0m\u001b[0;34m\u001b[0m\u001b[0;34m\u001b[0m\u001b[0m\n\u001b[0;32m---> 93\u001b[0;31m     \u001b[0mupdate_data\u001b[0m\u001b[0;34m(\u001b[0m\u001b[0;34m)\u001b[0m\u001b[0;34m\u001b[0m\u001b[0;34m\u001b[0m\u001b[0m\n\u001b[0m\u001b[1;32m     94\u001b[0m \u001b[0;34m\u001b[0m\u001b[0m\n\u001b[1;32m     95\u001b[0m \u001b[0;32mdef\u001b[0m \u001b[0mnew_buttons\u001b[0m\u001b[0;34m(\u001b[0m\u001b[0mnames\u001b[0m\u001b[0;34m,\u001b[0m\u001b[0mall_selected\u001b[0m\u001b[0;34m=\u001b[0m\u001b[0;32mFalse\u001b[0m\u001b[0;34m)\u001b[0m\u001b[0;34m:\u001b[0m\u001b[0;34m\u001b[0m\u001b[0;34m\u001b[0m\u001b[0m\n",
      "\u001b[0;32m<ipython-input-179-b6d611dded6a>\u001b[0m in \u001b[0;36mupdate_data\u001b[0;34m()\u001b[0m\n\u001b[1;32m     14\u001b[0m \u001b[0;34m\u001b[0m\u001b[0m\n\u001b[1;32m     15\u001b[0m     \u001b[0;31m# time filters\u001b[0m\u001b[0;34m\u001b[0m\u001b[0;34m\u001b[0m\u001b[0;34m\u001b[0m\u001b[0m\n\u001b[0;32m---> 16\u001b[0;31m     \u001b[0mf_date_min\u001b[0m\u001b[0;34m,\u001b[0m \u001b[0mf_date_max\u001b[0m \u001b[0;34m=\u001b[0m \u001b[0mdate_range\u001b[0m\u001b[0;34m[\u001b[0m\u001b[0;34m[\u001b[0m\u001b[0;34m*\u001b[0m\u001b[0mdate_range_filter\u001b[0m\u001b[0;34m]\u001b[0m\u001b[0;34m]\u001b[0m\u001b[0;34m\u001b[0m\u001b[0;34m\u001b[0m\u001b[0m\n\u001b[0m\u001b[1;32m     17\u001b[0m     \u001b[0mdate_range_mask\u001b[0m \u001b[0;34m=\u001b[0m \u001b[0;34m(\u001b[0m\u001b[0mdf\u001b[0m\u001b[0;34m.\u001b[0m\u001b[0mDate\u001b[0m \u001b[0;34m>=\u001b[0m \u001b[0mf_date_min\u001b[0m\u001b[0;34m)\u001b[0m \u001b[0;34m&\u001b[0m \u001b[0;34m(\u001b[0m\u001b[0mdf\u001b[0m\u001b[0;34m.\u001b[0m\u001b[0mDate\u001b[0m \u001b[0;34m<=\u001b[0m \u001b[0mf_date_max\u001b[0m\u001b[0;34m)\u001b[0m\u001b[0;34m\u001b[0m\u001b[0;34m\u001b[0m\u001b[0m\n\u001b[1;32m     18\u001b[0m \u001b[0;34m\u001b[0m\u001b[0m\n",
      "\u001b[0;32m~/anaconda3/lib/python3.8/site-packages/pandas/core/indexes/extension.py\u001b[0m in \u001b[0;36m__getitem__\u001b[0;34m(self, key)\u001b[0m\n\u001b[1;32m    207\u001b[0m \u001b[0;34m\u001b[0m\u001b[0m\n\u001b[1;32m    208\u001b[0m     \u001b[0;32mdef\u001b[0m \u001b[0m__getitem__\u001b[0m\u001b[0;34m(\u001b[0m\u001b[0mself\u001b[0m\u001b[0;34m,\u001b[0m \u001b[0mkey\u001b[0m\u001b[0;34m)\u001b[0m\u001b[0;34m:\u001b[0m\u001b[0;34m\u001b[0m\u001b[0;34m\u001b[0m\u001b[0m\n\u001b[0;32m--> 209\u001b[0;31m         \u001b[0mresult\u001b[0m \u001b[0;34m=\u001b[0m \u001b[0mself\u001b[0m\u001b[0;34m.\u001b[0m\u001b[0m_data\u001b[0m\u001b[0;34m[\u001b[0m\u001b[0mkey\u001b[0m\u001b[0;34m]\u001b[0m\u001b[0;34m\u001b[0m\u001b[0;34m\u001b[0m\u001b[0m\n\u001b[0m\u001b[1;32m    210\u001b[0m         \u001b[0;32mif\u001b[0m \u001b[0misinstance\u001b[0m\u001b[0;34m(\u001b[0m\u001b[0mresult\u001b[0m\u001b[0;34m,\u001b[0m \u001b[0mtype\u001b[0m\u001b[0;34m(\u001b[0m\u001b[0mself\u001b[0m\u001b[0;34m.\u001b[0m\u001b[0m_data\u001b[0m\u001b[0;34m)\u001b[0m\u001b[0;34m)\u001b[0m\u001b[0;34m:\u001b[0m\u001b[0;34m\u001b[0m\u001b[0;34m\u001b[0m\u001b[0m\n\u001b[1;32m    211\u001b[0m             \u001b[0;32mreturn\u001b[0m \u001b[0mtype\u001b[0m\u001b[0;34m(\u001b[0m\u001b[0mself\u001b[0m\u001b[0;34m)\u001b[0m\u001b[0;34m(\u001b[0m\u001b[0mresult\u001b[0m\u001b[0;34m,\u001b[0m \u001b[0mname\u001b[0m\u001b[0;34m=\u001b[0m\u001b[0mself\u001b[0m\u001b[0;34m.\u001b[0m\u001b[0mname\u001b[0m\u001b[0;34m)\u001b[0m\u001b[0;34m\u001b[0m\u001b[0;34m\u001b[0m\u001b[0m\n",
      "\u001b[0;32m~/anaconda3/lib/python3.8/site-packages/pandas/core/arrays/datetimelike.py\u001b[0m in \u001b[0;36m__getitem__\u001b[0;34m(self, key)\u001b[0m\n\u001b[1;32m    534\u001b[0m             \u001b[0;32mpass\u001b[0m\u001b[0;34m\u001b[0m\u001b[0;34m\u001b[0m\u001b[0m\n\u001b[1;32m    535\u001b[0m         \u001b[0;32melse\u001b[0m\u001b[0;34m:\u001b[0m\u001b[0;34m\u001b[0m\u001b[0;34m\u001b[0m\u001b[0m\n\u001b[0;32m--> 536\u001b[0;31m             \u001b[0mkey\u001b[0m \u001b[0;34m=\u001b[0m \u001b[0mcheck_array_indexer\u001b[0m\u001b[0;34m(\u001b[0m\u001b[0mself\u001b[0m\u001b[0;34m,\u001b[0m \u001b[0mkey\u001b[0m\u001b[0;34m)\u001b[0m\u001b[0;34m\u001b[0m\u001b[0;34m\u001b[0m\u001b[0m\n\u001b[0m\u001b[1;32m    537\u001b[0m \u001b[0;34m\u001b[0m\u001b[0m\n\u001b[1;32m    538\u001b[0m         \u001b[0mis_period\u001b[0m \u001b[0;34m=\u001b[0m \u001b[0mis_period_dtype\u001b[0m\u001b[0;34m(\u001b[0m\u001b[0mself\u001b[0m\u001b[0;34m)\u001b[0m\u001b[0;34m\u001b[0m\u001b[0;34m\u001b[0m\u001b[0m\n",
      "\u001b[0;32m~/anaconda3/lib/python3.8/site-packages/pandas/core/indexers.py\u001b[0m in \u001b[0;36mcheck_array_indexer\u001b[0;34m(array, indexer)\u001b[0m\n\u001b[1;32m    410\u001b[0m             )\n\u001b[1;32m    411\u001b[0m     \u001b[0;32melse\u001b[0m\u001b[0;34m:\u001b[0m\u001b[0;34m\u001b[0m\u001b[0;34m\u001b[0m\u001b[0m\n\u001b[0;32m--> 412\u001b[0;31m         \u001b[0;32mraise\u001b[0m \u001b[0mIndexError\u001b[0m\u001b[0;34m(\u001b[0m\u001b[0;34m\"arrays used as indices must be of integer or boolean type\"\u001b[0m\u001b[0;34m)\u001b[0m\u001b[0;34m\u001b[0m\u001b[0;34m\u001b[0m\u001b[0m\n\u001b[0m\u001b[1;32m    413\u001b[0m \u001b[0;34m\u001b[0m\u001b[0m\n\u001b[1;32m    414\u001b[0m     \u001b[0;32mreturn\u001b[0m \u001b[0mindexer\u001b[0m\u001b[0;34m\u001b[0m\u001b[0;34m\u001b[0m\u001b[0m\n",
      "\u001b[0;31mIndexError\u001b[0m: arrays used as indices must be of integer or boolean type"
     ]
    }
   ],
   "source": [
    "widgets.VBox([fline, controller, fig2])"
   ]
  },
  {
   "cell_type": "markdown",
   "metadata": {},
   "source": [
    "---\n",
    "### Animated Crime Over Time"
   ]
  },
  {
   "cell_type": "code",
   "execution_count": 745,
   "metadata": {
    "scrolled": false
   },
   "outputs": [
    {
     "data": {
      "text/html": [
       "<div>\n",
       "<style scoped>\n",
       "    .dataframe tbody tr th:only-of-type {\n",
       "        vertical-align: middle;\n",
       "    }\n",
       "\n",
       "    .dataframe tbody tr th {\n",
       "        vertical-align: top;\n",
       "    }\n",
       "\n",
       "    .dataframe thead th {\n",
       "        text-align: right;\n",
       "    }\n",
       "</style>\n",
       "<table border=\"1\" class=\"dataframe\">\n",
       "  <thead>\n",
       "    <tr style=\"text-align: right;\">\n",
       "      <th></th>\n",
       "      <th>Longitude</th>\n",
       "      <th>Latitude</th>\n",
       "      <th>t</th>\n",
       "      <th>c</th>\n",
       "      <th>Primary Type</th>\n",
       "      <th>Date</th>\n",
       "      <th>date_str</th>\n",
       "      <th>count</th>\n",
       "    </tr>\n",
       "  </thead>\n",
       "  <tbody>\n",
       "    <tr>\n",
       "      <th>464</th>\n",
       "      <td>-87.78</td>\n",
       "      <td>41.79</td>\n",
       "      <td>0</td>\n",
       "      <td>0</td>\n",
       "      <td>THEFT</td>\n",
       "      <td>2019-07-02 01:00:00</td>\n",
       "      <td>Tue Jul  2 00:00:00 2019</td>\n",
       "      <td>1.0</td>\n",
       "    </tr>\n",
       "    <tr>\n",
       "      <th>3237</th>\n",
       "      <td>-87.73</td>\n",
       "      <td>41.94</td>\n",
       "      <td>0</td>\n",
       "      <td>0</td>\n",
       "      <td>THEFT</td>\n",
       "      <td>2019-07-02 02:00:00</td>\n",
       "      <td>Tue Jul  2 00:00:00 2019</td>\n",
       "      <td>1.0</td>\n",
       "    </tr>\n",
       "    <tr>\n",
       "      <th>3656</th>\n",
       "      <td>-87.72</td>\n",
       "      <td>41.87</td>\n",
       "      <td>0</td>\n",
       "      <td>0</td>\n",
       "      <td>THEFT</td>\n",
       "      <td>2019-07-02 01:10:00</td>\n",
       "      <td>Tue Jul  2 00:00:00 2019</td>\n",
       "      <td>1.0</td>\n",
       "    </tr>\n",
       "    <tr>\n",
       "      <th>5518</th>\n",
       "      <td>-87.70</td>\n",
       "      <td>41.95</td>\n",
       "      <td>0</td>\n",
       "      <td>0</td>\n",
       "      <td>THEFT</td>\n",
       "      <td>2019-07-02 02:00:00</td>\n",
       "      <td>Tue Jul  2 00:00:00 2019</td>\n",
       "      <td>1.0</td>\n",
       "    </tr>\n",
       "    <tr>\n",
       "      <th>5528</th>\n",
       "      <td>-87.70</td>\n",
       "      <td>41.96</td>\n",
       "      <td>0</td>\n",
       "      <td>0</td>\n",
       "      <td>THEFT</td>\n",
       "      <td>2019-07-02 01:18:00</td>\n",
       "      <td>Tue Jul  2 00:00:00 2019</td>\n",
       "      <td>1.0</td>\n",
       "    </tr>\n",
       "    <tr>\n",
       "      <th>...</th>\n",
       "      <td>...</td>\n",
       "      <td>...</td>\n",
       "      <td>...</td>\n",
       "      <td>...</td>\n",
       "      <td>...</td>\n",
       "      <td>...</td>\n",
       "      <td>...</td>\n",
       "      <td>...</td>\n",
       "    </tr>\n",
       "    <tr>\n",
       "      <th>6691</th>\n",
       "      <td>-87.68</td>\n",
       "      <td>41.79</td>\n",
       "      <td>19</td>\n",
       "      <td>7</td>\n",
       "      <td>BURGLARY</td>\n",
       "      <td>2019-07-04 10:00:00</td>\n",
       "      <td>Thu Jul  4 00:00:00 2019</td>\n",
       "      <td>1.0</td>\n",
       "    </tr>\n",
       "    <tr>\n",
       "      <th>7844</th>\n",
       "      <td>-87.67</td>\n",
       "      <td>41.82</td>\n",
       "      <td>19</td>\n",
       "      <td>7</td>\n",
       "      <td>BURGLARY</td>\n",
       "      <td>2019-07-04 10:00:00</td>\n",
       "      <td>Thu Jul  4 00:00:00 2019</td>\n",
       "      <td>1.0</td>\n",
       "    </tr>\n",
       "    <tr>\n",
       "      <th>1861</th>\n",
       "      <td>-87.75</td>\n",
       "      <td>41.91</td>\n",
       "      <td>19</td>\n",
       "      <td>8</td>\n",
       "      <td>MOTOR VEHICLE THEFT</td>\n",
       "      <td>2019-07-04 10:00:00</td>\n",
       "      <td>Thu Jul  4 00:00:00 2019</td>\n",
       "      <td>1.0</td>\n",
       "    </tr>\n",
       "    <tr>\n",
       "      <th>6355</th>\n",
       "      <td>-87.69</td>\n",
       "      <td>41.96</td>\n",
       "      <td>19</td>\n",
       "      <td>8</td>\n",
       "      <td>MOTOR VEHICLE THEFT</td>\n",
       "      <td>2019-07-04 12:00:00</td>\n",
       "      <td>Thu Jul  4 00:00:00 2019</td>\n",
       "      <td>1.0</td>\n",
       "    </tr>\n",
       "    <tr>\n",
       "      <th>15472</th>\n",
       "      <td>-87.58</td>\n",
       "      <td>41.77</td>\n",
       "      <td>19</td>\n",
       "      <td>8</td>\n",
       "      <td>MOTOR VEHICLE THEFT</td>\n",
       "      <td>2019-07-04 10:00:00</td>\n",
       "      <td>Thu Jul  4 00:00:00 2019</td>\n",
       "      <td>1.0</td>\n",
       "    </tr>\n",
       "  </tbody>\n",
       "</table>\n",
       "<p>1514 rows × 8 columns</p>\n",
       "</div>"
      ],
      "text/plain": [
       "       Longitude  Latitude   t  c         Primary Type                Date  \\\n",
       "464       -87.78     41.79   0  0                THEFT 2019-07-02 01:00:00   \n",
       "3237      -87.73     41.94   0  0                THEFT 2019-07-02 02:00:00   \n",
       "3656      -87.72     41.87   0  0                THEFT 2019-07-02 01:10:00   \n",
       "5518      -87.70     41.95   0  0                THEFT 2019-07-02 02:00:00   \n",
       "5528      -87.70     41.96   0  0                THEFT 2019-07-02 01:18:00   \n",
       "...          ...       ...  .. ..                  ...                 ...   \n",
       "6691      -87.68     41.79  19  7             BURGLARY 2019-07-04 10:00:00   \n",
       "7844      -87.67     41.82  19  7             BURGLARY 2019-07-04 10:00:00   \n",
       "1861      -87.75     41.91  19  8  MOTOR VEHICLE THEFT 2019-07-04 10:00:00   \n",
       "6355      -87.69     41.96  19  8  MOTOR VEHICLE THEFT 2019-07-04 12:00:00   \n",
       "15472     -87.58     41.77  19  8  MOTOR VEHICLE THEFT 2019-07-04 10:00:00   \n",
       "\n",
       "                       date_str  count  \n",
       "464    Tue Jul  2 00:00:00 2019    1.0  \n",
       "3237   Tue Jul  2 00:00:00 2019    1.0  \n",
       "3656   Tue Jul  2 00:00:00 2019    1.0  \n",
       "5518   Tue Jul  2 00:00:00 2019    1.0  \n",
       "5528   Tue Jul  2 00:00:00 2019    1.0  \n",
       "...                         ...    ...  \n",
       "6691   Thu Jul  4 00:00:00 2019    1.0  \n",
       "7844   Thu Jul  4 00:00:00 2019    1.0  \n",
       "1861   Thu Jul  4 00:00:00 2019    1.0  \n",
       "6355   Thu Jul  4 00:00:00 2019    1.0  \n",
       "15472  Thu Jul  4 00:00:00 2019    1.0  \n",
       "\n",
       "[1514 rows x 8 columns]"
      ]
     },
     "execution_count": 745,
     "metadata": {},
     "output_type": "execute_result"
    }
   ],
   "source": [
    "def new_ffloor(delta):\n",
    "    def res(value): \n",
    "        return ffloor(value, delta)\n",
    "    return res\n",
    "\n",
    "\n",
    "# df['t'] = time_series_to_time_index(t_series=df.Date, t_step='4H', floor=True)\n",
    "df['t'] = time_series_to_time_index(t_series=df.Date, t_step='3H', floor=True)\n",
    "\n",
    "\n",
    "sub = df[['t', 'Longitude', 'Latitude','c', 'Primary Type', 'Date']].copy()\n",
    "sub['date_str'] = sub.Date.dt.floor('1D').dt.strftime('%c')\n",
    "sub['count'] = np.ones_like(sub.t)\n",
    "ff = new_ffloor(0.01)\n",
    "sub[['Longitude', 'Latitude']] = sub[['Longitude', 'Latitude']].apply(ff)\n",
    "\n",
    "gb = sub.groupby(by=['Longitude', 'Latitude','t','c'])\n",
    "points = gb.first()\n",
    "points['count'] = gb.count()['count']\n",
    "# points['count'] = points['count'].apply(lambda x: np.log2(1+x))\n",
    "points['count'] = points['count']/points['count'].min()\n",
    "points = points.reset_index()\n",
    "points = points.sort_values(['t','c'])\n",
    "\n",
    "points = points[points.t < 4*5]\n",
    "points"
   ]
  },
  {
   "cell_type": "code",
   "execution_count": 942,
   "metadata": {
    "scrolled": false
   },
   "outputs": [
    {
     "data": {
      "application/vnd.plotly.v1+json": {
       "config": {
        "plotlyServerURL": "https://plot.ly"
       },
       "data": [
        {
         "hovertemplate": "Primary Type=THEFT<br>t=0<br>Longitude=%{x}<br>Latitude=%{y}<br>size=%{marker.size}<extra></extra>",
         "legendgroup": "THEFT",
         "marker": {
          "color": "#636efa",
          "opacity": 0.5,
          "size": [
           2,
           2,
           2,
           2,
           2,
           2,
           2,
           2,
           2,
           2,
           2,
           2
          ],
          "sizemode": "area",
          "sizeref": 0.125,
          "symbol": "circle"
         },
         "mode": "markers",
         "name": "THEFT",
         "orientation": "v",
         "showlegend": true,
         "type": "scatter",
         "x": [
          -87.78,
          -87.73,
          -87.72,
          -87.7,
          -87.7,
          -87.68,
          -87.68,
          -87.67,
          -87.67,
          -87.64,
          -87.63,
          -87.59
         ],
         "xaxis": "x",
         "y": [
          41.79,
          41.94,
          41.87,
          41.95,
          41.96,
          41.78,
          41.99,
          41.77,
          41.87,
          41.88,
          41.89,
          41.800000000000004
         ],
         "yaxis": "y"
        },
        {
         "hovertemplate": "Primary Type=BATTERY<br>t=0<br>Longitude=%{x}<br>Latitude=%{y}<br>size=%{marker.size}<extra></extra>",
         "legendgroup": "BATTERY",
         "marker": {
          "color": "#EF553B",
          "opacity": 0.5,
          "size": [
           2,
           4,
           2,
           2,
           2,
           2,
           2,
           2,
           2,
           4,
           2,
           2,
           2,
           2
          ],
          "sizemode": "area",
          "sizeref": 0.125,
          "symbol": "circle"
         },
         "mode": "markers",
         "name": "BATTERY",
         "orientation": "v",
         "showlegend": true,
         "type": "scatter",
         "x": [
          -87.79,
          -87.76,
          -87.75,
          -87.74,
          -87.73,
          -87.72,
          -87.69,
          -87.67,
          -87.66,
          -87.65,
          -87.64,
          -87.63,
          -87.62,
          -87.57000000000001
         ],
         "xaxis": "x",
         "y": [
          41.96,
          41.87,
          41.89,
          41.86,
          41.85,
          41.89,
          41.99,
          41.79,
          41.76,
          41.77,
          41.800000000000004,
          41.800000000000004,
          41.800000000000004,
          41.74
         ],
         "yaxis": "y"
        },
        {
         "hovertemplate": "Primary Type=CRIMINAL DAMAGE<br>t=0<br>Longitude=%{x}<br>Latitude=%{y}<br>size=%{marker.size}<extra></extra>",
         "legendgroup": "CRIMINAL DAMAGE",
         "marker": {
          "color": "#00cc96",
          "opacity": 0.5,
          "size": [
           2,
           2,
           2,
           2,
           2,
           2,
           2,
           4,
           2,
           2
          ],
          "sizemode": "area",
          "sizeref": 0.125,
          "symbol": "circle"
         },
         "mode": "markers",
         "name": "CRIMINAL DAMAGE",
         "orientation": "v",
         "showlegend": true,
         "type": "scatter",
         "x": [
          -87.77,
          -87.77,
          -87.75,
          -87.73,
          -87.71000000000001,
          -87.71000000000001,
          -87.64,
          -87.63,
          -87.63,
          -87.60000000000001
         ],
         "xaxis": "x",
         "y": [
          41.9,
          41.910000000000004,
          41.89,
          41.85,
          41.81,
          41.88,
          41.79,
          41.69,
          41.9,
          41.79
         ],
         "yaxis": "y"
        },
        {
         "hovertemplate": "Primary Type=ASSAULT<br>t=0<br>Longitude=%{x}<br>Latitude=%{y}<br>size=%{marker.size}<extra></extra>",
         "legendgroup": "ASSAULT",
         "marker": {
          "color": "#ab63fa",
          "opacity": 0.5,
          "size": [
           2
          ],
          "sizemode": "area",
          "sizeref": 0.125,
          "symbol": "circle"
         },
         "mode": "markers",
         "name": "ASSAULT",
         "orientation": "v",
         "showlegend": true,
         "type": "scatter",
         "x": [
          -87.72
         ],
         "xaxis": "x",
         "y": [
          41.94
         ],
         "yaxis": "y"
        },
        {
         "hovertemplate": "Primary Type=OTHER OFFENSE<br>t=0<br>Longitude=%{x}<br>Latitude=%{y}<br>size=%{marker.size}<extra></extra>",
         "legendgroup": "OTHER OFFENSE",
         "marker": {
          "color": "#FFA15A",
          "opacity": 0.5,
          "size": [
           2,
           2,
           2,
           2,
           2
          ],
          "sizemode": "area",
          "sizeref": 0.125,
          "symbol": "circle"
         },
         "mode": "markers",
         "name": "OTHER OFFENSE",
         "orientation": "v",
         "showlegend": true,
         "type": "scatter",
         "x": [
          -87.66,
          -87.63,
          -87.63,
          -87.61,
          -87.59
         ],
         "xaxis": "x",
         "y": [
          41.99,
          41.72,
          41.800000000000004,
          41.74,
          41.7
         ],
         "yaxis": "y"
        },
        {
         "hovertemplate": "Primary Type=BURGLARY<br>t=0<br>Longitude=%{x}<br>Latitude=%{y}<br>size=%{marker.size}<extra></extra>",
         "legendgroup": "BURGLARY",
         "marker": {
          "color": "#19d3f3",
          "opacity": 0.5,
          "size": [
           2
          ],
          "sizemode": "area",
          "sizeref": 0.125,
          "symbol": "circle"
         },
         "mode": "markers",
         "name": "BURGLARY",
         "orientation": "v",
         "showlegend": true,
         "type": "scatter",
         "x": [
          -87.67
         ],
         "xaxis": "x",
         "y": [
          41.92
         ],
         "yaxis": "y"
        },
        {
         "hovertemplate": "Primary Type=MOTOR VEHICLE THEFT<br>t=0<br>Longitude=%{x}<br>Latitude=%{y}<br>size=%{marker.size}<extra></extra>",
         "legendgroup": "MOTOR VEHICLE THEFT",
         "marker": {
          "color": "#FF6692",
          "opacity": 0.5,
          "size": [
           2
          ],
          "sizemode": "area",
          "sizeref": 0.125,
          "symbol": "circle"
         },
         "mode": "markers",
         "name": "MOTOR VEHICLE THEFT",
         "orientation": "v",
         "showlegend": true,
         "type": "scatter",
         "x": [
          -87.61
         ],
         "xaxis": "x",
         "y": [
          41.71
         ],
         "yaxis": "y"
        }
       ],
       "frames": [
        {
         "data": [
          {
           "hovertemplate": "Primary Type=THEFT<br>t=0<br>Longitude=%{x}<br>Latitude=%{y}<br>size=%{marker.size}<extra></extra>",
           "legendgroup": "THEFT",
           "marker": {
            "color": "#636efa",
            "opacity": 0.5,
            "size": [
             2,
             2,
             2,
             2,
             2,
             2,
             2,
             2,
             2,
             2,
             2,
             2
            ],
            "sizemode": "area",
            "sizeref": 0.125,
            "symbol": "circle"
           },
           "mode": "markers",
           "name": "THEFT",
           "orientation": "v",
           "showlegend": true,
           "type": "scatter",
           "x": [
            -87.78,
            -87.73,
            -87.72,
            -87.7,
            -87.7,
            -87.68,
            -87.68,
            -87.67,
            -87.67,
            -87.64,
            -87.63,
            -87.59
           ],
           "xaxis": "x",
           "y": [
            41.79,
            41.94,
            41.87,
            41.95,
            41.96,
            41.78,
            41.99,
            41.77,
            41.87,
            41.88,
            41.89,
            41.800000000000004
           ],
           "yaxis": "y"
          },
          {
           "hovertemplate": "Primary Type=BATTERY<br>t=0<br>Longitude=%{x}<br>Latitude=%{y}<br>size=%{marker.size}<extra></extra>",
           "legendgroup": "BATTERY",
           "marker": {
            "color": "#EF553B",
            "opacity": 0.5,
            "size": [
             2,
             4,
             2,
             2,
             2,
             2,
             2,
             2,
             2,
             4,
             2,
             2,
             2,
             2
            ],
            "sizemode": "area",
            "sizeref": 0.125,
            "symbol": "circle"
           },
           "mode": "markers",
           "name": "BATTERY",
           "orientation": "v",
           "showlegend": true,
           "type": "scatter",
           "x": [
            -87.79,
            -87.76,
            -87.75,
            -87.74,
            -87.73,
            -87.72,
            -87.69,
            -87.67,
            -87.66,
            -87.65,
            -87.64,
            -87.63,
            -87.62,
            -87.57000000000001
           ],
           "xaxis": "x",
           "y": [
            41.96,
            41.87,
            41.89,
            41.86,
            41.85,
            41.89,
            41.99,
            41.79,
            41.76,
            41.77,
            41.800000000000004,
            41.800000000000004,
            41.800000000000004,
            41.74
           ],
           "yaxis": "y"
          },
          {
           "hovertemplate": "Primary Type=CRIMINAL DAMAGE<br>t=0<br>Longitude=%{x}<br>Latitude=%{y}<br>size=%{marker.size}<extra></extra>",
           "legendgroup": "CRIMINAL DAMAGE",
           "marker": {
            "color": "#00cc96",
            "opacity": 0.5,
            "size": [
             2,
             2,
             2,
             2,
             2,
             2,
             2,
             4,
             2,
             2
            ],
            "sizemode": "area",
            "sizeref": 0.125,
            "symbol": "circle"
           },
           "mode": "markers",
           "name": "CRIMINAL DAMAGE",
           "orientation": "v",
           "showlegend": true,
           "type": "scatter",
           "x": [
            -87.77,
            -87.77,
            -87.75,
            -87.73,
            -87.71000000000001,
            -87.71000000000001,
            -87.64,
            -87.63,
            -87.63,
            -87.60000000000001
           ],
           "xaxis": "x",
           "y": [
            41.9,
            41.910000000000004,
            41.89,
            41.85,
            41.81,
            41.88,
            41.79,
            41.69,
            41.9,
            41.79
           ],
           "yaxis": "y"
          },
          {
           "hovertemplate": "Primary Type=ASSAULT<br>t=0<br>Longitude=%{x}<br>Latitude=%{y}<br>size=%{marker.size}<extra></extra>",
           "legendgroup": "ASSAULT",
           "marker": {
            "color": "#ab63fa",
            "opacity": 0.5,
            "size": [
             2
            ],
            "sizemode": "area",
            "sizeref": 0.125,
            "symbol": "circle"
           },
           "mode": "markers",
           "name": "ASSAULT",
           "orientation": "v",
           "showlegend": true,
           "type": "scatter",
           "x": [
            -87.72
           ],
           "xaxis": "x",
           "y": [
            41.94
           ],
           "yaxis": "y"
          },
          {
           "hovertemplate": "Primary Type=OTHER OFFENSE<br>t=0<br>Longitude=%{x}<br>Latitude=%{y}<br>size=%{marker.size}<extra></extra>",
           "legendgroup": "OTHER OFFENSE",
           "marker": {
            "color": "#FFA15A",
            "opacity": 0.5,
            "size": [
             2,
             2,
             2,
             2,
             2
            ],
            "sizemode": "area",
            "sizeref": 0.125,
            "symbol": "circle"
           },
           "mode": "markers",
           "name": "OTHER OFFENSE",
           "orientation": "v",
           "showlegend": true,
           "type": "scatter",
           "x": [
            -87.66,
            -87.63,
            -87.63,
            -87.61,
            -87.59
           ],
           "xaxis": "x",
           "y": [
            41.99,
            41.72,
            41.800000000000004,
            41.74,
            41.7
           ],
           "yaxis": "y"
          },
          {
           "hovertemplate": "Primary Type=BURGLARY<br>t=0<br>Longitude=%{x}<br>Latitude=%{y}<br>size=%{marker.size}<extra></extra>",
           "legendgroup": "BURGLARY",
           "marker": {
            "color": "#19d3f3",
            "opacity": 0.5,
            "size": [
             2
            ],
            "sizemode": "area",
            "sizeref": 0.125,
            "symbol": "circle"
           },
           "mode": "markers",
           "name": "BURGLARY",
           "orientation": "v",
           "showlegend": true,
           "type": "scatter",
           "x": [
            -87.67
           ],
           "xaxis": "x",
           "y": [
            41.92
           ],
           "yaxis": "y"
          },
          {
           "hovertemplate": "Primary Type=MOTOR VEHICLE THEFT<br>t=0<br>Longitude=%{x}<br>Latitude=%{y}<br>size=%{marker.size}<extra></extra>",
           "legendgroup": "MOTOR VEHICLE THEFT",
           "marker": {
            "color": "#FF6692",
            "opacity": 0.5,
            "size": [
             2
            ],
            "sizemode": "area",
            "sizeref": 0.125,
            "symbol": "circle"
           },
           "mode": "markers",
           "name": "MOTOR VEHICLE THEFT",
           "orientation": "v",
           "showlegend": true,
           "type": "scatter",
           "x": [
            -87.61
           ],
           "xaxis": "x",
           "y": [
            41.71
           ],
           "yaxis": "y"
          }
         ],
         "name": "0"
        },
        {
         "data": [
          {
           "hovertemplate": "Primary Type=THEFT<br>t=1<br>Longitude=%{x}<br>Latitude=%{y}<br>size=%{marker.size}<extra></extra>",
           "legendgroup": "THEFT",
           "marker": {
            "color": "#636efa",
            "opacity": 0.5,
            "size": [
             2,
             2,
             2,
             2,
             2,
             2,
             2,
             2
            ],
            "sizemode": "area",
            "sizeref": 0.125,
            "symbol": "circle"
           },
           "mode": "markers",
           "name": "THEFT",
           "orientation": "v",
           "showlegend": true,
           "type": "scatter",
           "x": [
            -87.78,
            -87.75,
            -87.72,
            -87.71000000000001,
            -87.7,
            -87.65,
            -87.65,
            -87.64
           ],
           "xaxis": "x",
           "y": [
            41.94,
            41.87,
            41.85,
            41.84,
            41.9,
            41.77,
            41.88,
            41.88
           ],
           "yaxis": "y"
          },
          {
           "hovertemplate": "Primary Type=BATTERY<br>t=1<br>Longitude=%{x}<br>Latitude=%{y}<br>size=%{marker.size}<extra></extra>",
           "legendgroup": "BATTERY",
           "marker": {
            "color": "#EF553B",
            "opacity": 0.5,
            "size": [
             2,
             2,
             2,
             2,
             2,
             2,
             2,
             2,
             2,
             2,
             2
            ],
            "sizemode": "area",
            "sizeref": 0.125,
            "symbol": "circle"
           },
           "mode": "markers",
           "name": "BATTERY",
           "orientation": "v",
           "showlegend": true,
           "type": "scatter",
           "x": [
            -87.73,
            -87.73,
            -87.72,
            -87.68,
            -87.66,
            -87.65,
            -87.63,
            -87.63,
            -87.56,
            -87.55,
            -87.55
           ],
           "xaxis": "x",
           "y": [
            41.86,
            41.89,
            41.89,
            41.910000000000004,
            41.88,
            41.76,
            41.79,
            41.83,
            41.730000000000004,
            41.730000000000004,
            41.74
           ],
           "yaxis": "y"
          },
          {
           "hovertemplate": "Primary Type=CRIMINAL DAMAGE<br>t=1<br>Longitude=%{x}<br>Latitude=%{y}<br>size=%{marker.size}<extra></extra>",
           "legendgroup": "CRIMINAL DAMAGE",
           "marker": {
            "color": "#00cc96",
            "opacity": 0.5,
            "size": [
             2,
             2,
             2,
             2,
             2,
             2,
             2
            ],
            "sizemode": "area",
            "sizeref": 0.125,
            "symbol": "circle"
           },
           "mode": "markers",
           "name": "CRIMINAL DAMAGE",
           "orientation": "v",
           "showlegend": true,
           "type": "scatter",
           "x": [
            -87.76,
            -87.76,
            -87.73,
            -87.72,
            -87.67,
            -87.64,
            -87.61
           ],
           "xaxis": "x",
           "y": [
            41.89,
            41.93,
            41.74,
            41.9,
            41.96,
            41.77,
            41.81
           ],
           "yaxis": "y"
          },
          {
           "hovertemplate": "Primary Type=ASSAULT<br>t=1<br>Longitude=%{x}<br>Latitude=%{y}<br>size=%{marker.size}<extra></extra>",
           "legendgroup": "ASSAULT",
           "marker": {
            "color": "#ab63fa",
            "opacity": 0.5,
            "size": [
             2,
             2,
             2,
             2,
             2,
             2
            ],
            "sizemode": "area",
            "sizeref": 0.125,
            "symbol": "circle"
           },
           "mode": "markers",
           "name": "ASSAULT",
           "orientation": "v",
           "showlegend": true,
           "type": "scatter",
           "x": [
            -87.68,
            -87.67,
            -87.65,
            -87.64,
            -87.63,
            -87.57000000000001
           ],
           "xaxis": "x",
           "y": [
            41.76,
            41.83,
            41.86,
            41.89,
            41.86,
            41.75
           ],
           "yaxis": "y"
          },
          {
           "hovertemplate": "Primary Type=OTHER OFFENSE<br>t=1<br>Longitude=%{x}<br>Latitude=%{y}<br>size=%{marker.size}<extra></extra>",
           "legendgroup": "OTHER OFFENSE",
           "marker": {
            "color": "#FFA15A",
            "opacity": 0.5,
            "size": [
             2
            ],
            "sizemode": "area",
            "sizeref": 0.125,
            "symbol": "circle"
           },
           "mode": "markers",
           "name": "OTHER OFFENSE",
           "orientation": "v",
           "showlegend": true,
           "type": "scatter",
           "x": [
            -87.62
           ],
           "xaxis": "x",
           "y": [
            41.75
           ],
           "yaxis": "y"
          },
          {
           "hovertemplate": "Primary Type=MOTOR VEHICLE THEFT<br>t=1<br>Longitude=%{x}<br>Latitude=%{y}<br>size=%{marker.size}<extra></extra>",
           "legendgroup": "MOTOR VEHICLE THEFT",
           "marker": {
            "color": "#FF6692",
            "opacity": 0.5,
            "size": [
             2,
             2,
             4
            ],
            "sizemode": "area",
            "sizeref": 0.125,
            "symbol": "circle"
           },
           "mode": "markers",
           "name": "MOTOR VEHICLE THEFT",
           "orientation": "v",
           "showlegend": true,
           "type": "scatter",
           "x": [
            -87.77,
            -87.71000000000001,
            -87.71000000000001
           ],
           "xaxis": "x",
           "y": [
            41.79,
            41.84,
            41.88
           ],
           "yaxis": "y"
          },
          {
           "hovertemplate": "Primary Type=NARCOTICS<br>t=1<br>Longitude=%{x}<br>Latitude=%{y}<br>size=%{marker.size}<extra></extra>",
           "legendgroup": "NARCOTICS",
           "marker": {
            "color": "#B6E880",
            "opacity": 0.5,
            "size": [
             2
            ],
            "sizemode": "area",
            "sizeref": 0.125,
            "symbol": "circle"
           },
           "mode": "markers",
           "name": "NARCOTICS",
           "orientation": "v",
           "showlegend": true,
           "type": "scatter",
           "x": [
            -87.73
           ],
           "xaxis": "x",
           "y": [
            41.87
           ],
           "yaxis": "y"
          }
         ],
         "name": "1"
        },
        {
         "data": [
          {
           "hovertemplate": "Primary Type=THEFT<br>t=2<br>Longitude=%{x}<br>Latitude=%{y}<br>size=%{marker.size}<extra></extra>",
           "legendgroup": "THEFT",
           "marker": {
            "color": "#636efa",
            "opacity": 0.5,
            "size": [
             2,
             2,
             2,
             2,
             2,
             2,
             2,
             2,
             2,
             2,
             2,
             2,
             2,
             2,
             2,
             2,
             2,
             2,
             2,
             2,
             2,
             2
            ],
            "sizemode": "area",
            "sizeref": 0.125,
            "symbol": "circle"
           },
           "mode": "markers",
           "name": "THEFT",
           "orientation": "v",
           "showlegend": true,
           "type": "scatter",
           "x": [
            -87.74,
            -87.74,
            -87.72,
            -87.71000000000001,
            -87.68,
            -87.67,
            -87.67,
            -87.67,
            -87.67,
            -87.66,
            -87.66,
            -87.65,
            -87.65,
            -87.64,
            -87.64,
            -87.63,
            -87.63,
            -87.62,
            -87.60000000000001,
            -87.60000000000001,
            -87.59,
            -87.55
           ],
           "xaxis": "x",
           "y": [
            41.86,
            41.95,
            41.93,
            41.77,
            42.01,
            41.77,
            41.86,
            41.88,
            41.9,
            41.86,
            41.89,
            41.87,
            41.9,
            41.86,
            41.88,
            41.69,
            41.89,
            41.89,
            41.78,
            41.79,
            41.800000000000004,
            41.74
           ],
           "yaxis": "y"
          },
          {
           "hovertemplate": "Primary Type=BATTERY<br>t=2<br>Longitude=%{x}<br>Latitude=%{y}<br>size=%{marker.size}<extra></extra>",
           "legendgroup": "BATTERY",
           "marker": {
            "color": "#EF553B",
            "opacity": 0.5,
            "size": [
             2,
             4,
             2,
             2,
             2,
             2,
             2,
             2,
             2,
             2
            ],
            "sizemode": "area",
            "sizeref": 0.125,
            "symbol": "circle"
           },
           "mode": "markers",
           "name": "BATTERY",
           "orientation": "v",
           "showlegend": true,
           "type": "scatter",
           "x": [
            -87.8,
            -87.73,
            -87.66,
            -87.65,
            -87.64,
            -87.64,
            -87.63,
            -87.62,
            -87.60000000000001,
            -87.56
           ],
           "xaxis": "x",
           "y": [
            41.97,
            41.86,
            41.77,
            41.7,
            41.77,
            41.81,
            41.82,
            41.67,
            41.75,
            41.74
           ],
           "yaxis": "y"
          },
          {
           "hovertemplate": "Primary Type=CRIMINAL DAMAGE<br>t=2<br>Longitude=%{x}<br>Latitude=%{y}<br>size=%{marker.size}<extra></extra>",
           "legendgroup": "CRIMINAL DAMAGE",
           "marker": {
            "color": "#00cc96",
            "opacity": 0.5,
            "size": [
             2,
             2,
             2,
             2
            ],
            "sizemode": "area",
            "sizeref": 0.125,
            "symbol": "circle"
           },
           "mode": "markers",
           "name": "CRIMINAL DAMAGE",
           "orientation": "v",
           "showlegend": true,
           "type": "scatter",
           "x": [
            -87.8,
            -87.67,
            -87.67,
            -87.63
           ],
           "xaxis": "x",
           "y": [
            41.97,
            41.75,
            41.88,
            41.82
           ],
           "yaxis": "y"
          },
          {
           "hovertemplate": "Primary Type=ASSAULT<br>t=2<br>Longitude=%{x}<br>Latitude=%{y}<br>size=%{marker.size}<extra></extra>",
           "legendgroup": "ASSAULT",
           "marker": {
            "color": "#ab63fa",
            "opacity": 0.5,
            "size": [
             2,
             2,
             2,
             2,
             2,
             2
            ],
            "sizemode": "area",
            "sizeref": 0.125,
            "symbol": "circle"
           },
           "mode": "markers",
           "name": "ASSAULT",
           "orientation": "v",
           "showlegend": true,
           "type": "scatter",
           "x": [
            -87.76,
            -87.74,
            -87.73,
            -87.71000000000001,
            -87.66,
            -87.63
           ],
           "xaxis": "x",
           "y": [
            41.79,
            41.89,
            41.87,
            41.77,
            41.68,
            41.78
           ],
           "yaxis": "y"
          },
          {
           "hovertemplate": "Primary Type=OTHER OFFENSE<br>t=2<br>Longitude=%{x}<br>Latitude=%{y}<br>size=%{marker.size}<extra></extra>",
           "legendgroup": "OTHER OFFENSE",
           "marker": {
            "color": "#FFA15A",
            "opacity": 0.5,
            "size": [
             2,
             2,
             2
            ],
            "sizemode": "area",
            "sizeref": 0.125,
            "symbol": "circle"
           },
           "mode": "markers",
           "name": "OTHER OFFENSE",
           "orientation": "v",
           "showlegend": true,
           "type": "scatter",
           "x": [
            -87.76,
            -87.67,
            -87.65
           ],
           "xaxis": "x",
           "y": [
            41.92,
            41.74,
            41.71
           ],
           "yaxis": "y"
          },
          {
           "hovertemplate": "Primary Type=BURGLARY<br>t=2<br>Longitude=%{x}<br>Latitude=%{y}<br>size=%{marker.size}<extra></extra>",
           "legendgroup": "BURGLARY",
           "marker": {
            "color": "#19d3f3",
            "opacity": 0.5,
            "size": [
             2,
             2,
             2,
             2,
             2
            ],
            "sizemode": "area",
            "sizeref": 0.125,
            "symbol": "circle"
           },
           "mode": "markers",
           "name": "BURGLARY",
           "orientation": "v",
           "showlegend": true,
           "type": "scatter",
           "x": [
            -87.72,
            -87.69,
            -87.65,
            -87.65,
            -87.56
           ],
           "xaxis": "x",
           "y": [
            41.79,
            41.89,
            41.730000000000004,
            41.92,
            41.730000000000004
           ],
           "yaxis": "y"
          },
          {
           "hovertemplate": "Primary Type=MOTOR VEHICLE THEFT<br>t=2<br>Longitude=%{x}<br>Latitude=%{y}<br>size=%{marker.size}<extra></extra>",
           "legendgroup": "MOTOR VEHICLE THEFT",
           "marker": {
            "color": "#FF6692",
            "opacity": 0.5,
            "size": [
             2,
             2,
             2
            ],
            "sizemode": "area",
            "sizeref": 0.125,
            "symbol": "circle"
           },
           "mode": "markers",
           "name": "MOTOR VEHICLE THEFT",
           "orientation": "v",
           "showlegend": true,
           "type": "scatter",
           "x": [
            -87.76,
            -87.66,
            -87.63
           ],
           "xaxis": "x",
           "y": [
            41.9,
            41.72,
            41.82
           ],
           "yaxis": "y"
          },
          {
           "hovertemplate": "Primary Type=NARCOTICS<br>t=2<br>Longitude=%{x}<br>Latitude=%{y}<br>size=%{marker.size}<extra></extra>",
           "legendgroup": "NARCOTICS",
           "marker": {
            "color": "#B6E880",
            "opacity": 0.5,
            "size": [
             2,
             2,
             2
            ],
            "sizemode": "area",
            "sizeref": 0.125,
            "symbol": "circle"
           },
           "mode": "markers",
           "name": "NARCOTICS",
           "orientation": "v",
           "showlegend": true,
           "type": "scatter",
           "x": [
            -87.77,
            -87.74,
            -87.73
           ],
           "xaxis": "x",
           "y": [
            41.87,
            41.88,
            41.87
           ],
           "yaxis": "y"
          },
          {
           "hovertemplate": "Primary Type=DECEPTIVE PRACTICE<br>t=2<br>Longitude=%{x}<br>Latitude=%{y}<br>size=%{marker.size}<extra></extra>",
           "legendgroup": "DECEPTIVE PRACTICE",
           "marker": {
            "color": "#FF97FF",
            "opacity": 0.5,
            "size": [
             2,
             2,
             2,
             2,
             2,
             2
            ],
            "sizemode": "area",
            "sizeref": 0.125,
            "symbol": "circle"
           },
           "mode": "markers",
           "name": "DECEPTIVE PRACTICE",
           "orientation": "v",
           "showlegend": true,
           "type": "scatter",
           "x": [
            -87.8,
            -87.71000000000001,
            -87.66,
            -87.64,
            -87.63,
            -87.62
           ],
           "xaxis": "x",
           "y": [
            41.79,
            41.77,
            41.88,
            41.88,
            41.86,
            41.81
           ],
           "yaxis": "y"
          }
         ],
         "name": "2"
        },
        {
         "data": [
          {
           "hovertemplate": "Primary Type=THEFT<br>t=3<br>Longitude=%{x}<br>Latitude=%{y}<br>size=%{marker.size}<extra></extra>",
           "legendgroup": "THEFT",
           "marker": {
            "color": "#636efa",
            "opacity": 0.5,
            "size": [
             2,
             2,
             2,
             2,
             2,
             2,
             2,
             2,
             2,
             2,
             2,
             2,
             2,
             2,
             2,
             2,
             2,
             2,
             2,
             2,
             2,
             6,
             2,
             2,
             2,
             2,
             2
            ],
            "sizemode": "area",
            "sizeref": 0.125,
            "symbol": "circle"
           },
           "mode": "markers",
           "name": "THEFT",
           "orientation": "v",
           "showlegend": true,
           "type": "scatter",
           "x": [
            -87.79,
            -87.77,
            -87.76,
            -87.74,
            -87.73,
            -87.72,
            -87.72,
            -87.71000000000001,
            -87.7,
            -87.7,
            -87.68,
            -87.68,
            -87.67,
            -87.67,
            -87.66,
            -87.65,
            -87.65,
            -87.65,
            -87.64,
            -87.63,
            -87.63,
            -87.63,
            -87.63,
            -87.62,
            -87.60000000000001,
            -87.57000000000001,
            -87.54
           ],
           "xaxis": "x",
           "y": [
            41.99,
            41.95,
            41.910000000000004,
            41.85,
            41.92,
            41.730000000000004,
            41.94,
            41.92,
            41.92,
            41.980000000000004,
            41.71,
            42.01,
            41.99,
            42.01,
            41.85,
            41.86,
            41.88,
            41.93,
            41.86,
            41.730000000000004,
            41.87,
            41.88,
            41.89,
            41.84,
            41.75,
            41.75,
            41.71
           ],
           "yaxis": "y"
          },
          {
           "hovertemplate": "Primary Type=BATTERY<br>t=3<br>Longitude=%{x}<br>Latitude=%{y}<br>size=%{marker.size}<extra></extra>",
           "legendgroup": "BATTERY",
           "marker": {
            "color": "#EF553B",
            "opacity": 0.5,
            "size": [
             2,
             2,
             4,
             2,
             2,
             2,
             2,
             2,
             2,
             2,
             2,
             2,
             2,
             2,
             2,
             2,
             2,
             2,
             2
            ],
            "sizemode": "area",
            "sizeref": 0.125,
            "symbol": "circle"
           },
           "mode": "markers",
           "name": "BATTERY",
           "orientation": "v",
           "showlegend": true,
           "type": "scatter",
           "x": [
            -87.81,
            -87.78,
            -87.74,
            -87.74,
            -87.74,
            -87.72,
            -87.72,
            -87.7,
            -87.7,
            -87.7,
            -87.69,
            -87.69,
            -87.69,
            -87.67,
            -87.67,
            -87.66,
            -87.65,
            -87.63,
            -87.61
           ],
           "xaxis": "x",
           "y": [
            41.980000000000004,
            41.92,
            41.85,
            41.89,
            41.9,
            41.84,
            41.92,
            41.87,
            41.92,
            41.980000000000004,
            41.81,
            41.93,
            42.01,
            41.74,
            41.9,
            41.75,
            41.87,
            41.800000000000004,
            41.75
           ],
           "yaxis": "y"
          },
          {
           "hovertemplate": "Primary Type=CRIMINAL DAMAGE<br>t=3<br>Longitude=%{x}<br>Latitude=%{y}<br>size=%{marker.size}<extra></extra>",
           "legendgroup": "CRIMINAL DAMAGE",
           "marker": {
            "color": "#00cc96",
            "opacity": 0.5,
            "size": [
             2,
             2,
             2,
             2,
             2,
             2,
             2,
             2,
             2,
             2
            ],
            "sizemode": "area",
            "sizeref": 0.125,
            "symbol": "circle"
           },
           "mode": "markers",
           "name": "CRIMINAL DAMAGE",
           "orientation": "v",
           "showlegend": true,
           "type": "scatter",
           "x": [
            -87.73,
            -87.72,
            -87.71000000000001,
            -87.66,
            -87.65,
            -87.64,
            -87.63,
            -87.62,
            -87.62,
            -87.61
           ],
           "xaxis": "x",
           "y": [
            41.88,
            41.85,
            41.99,
            41.9,
            41.74,
            41.77,
            41.72,
            41.76,
            41.89,
            41.81
           ],
           "yaxis": "y"
          },
          {
           "hovertemplate": "Primary Type=ASSAULT<br>t=3<br>Longitude=%{x}<br>Latitude=%{y}<br>size=%{marker.size}<extra></extra>",
           "legendgroup": "ASSAULT",
           "marker": {
            "color": "#ab63fa",
            "opacity": 0.5,
            "size": [
             2,
             2,
             2,
             2,
             2,
             2,
             2,
             2,
             2,
             2
            ],
            "sizemode": "area",
            "sizeref": 0.125,
            "symbol": "circle"
           },
           "mode": "markers",
           "name": "ASSAULT",
           "orientation": "v",
           "showlegend": true,
           "type": "scatter",
           "x": [
            -87.74,
            -87.72,
            -87.67,
            -87.67,
            -87.66,
            -87.65,
            -87.62,
            -87.61,
            -87.61,
            -87.58
           ],
           "xaxis": "x",
           "y": [
            41.89,
            41.92,
            41.76,
            41.77,
            41.7,
            41.83,
            41.77,
            41.76,
            41.77,
            41.74
           ],
           "yaxis": "y"
          },
          {
           "hovertemplate": "Primary Type=OTHER OFFENSE<br>t=3<br>Longitude=%{x}<br>Latitude=%{y}<br>size=%{marker.size}<extra></extra>",
           "legendgroup": "OTHER OFFENSE",
           "marker": {
            "color": "#FFA15A",
            "opacity": 0.5,
            "size": [
             2,
             2,
             2,
             2,
             6,
             2,
             2,
             2,
             2
            ],
            "sizemode": "area",
            "sizeref": 0.125,
            "symbol": "circle"
           },
           "mode": "markers",
           "name": "OTHER OFFENSE",
           "orientation": "v",
           "showlegend": true,
           "type": "scatter",
           "x": [
            -87.72,
            -87.72,
            -87.67,
            -87.67,
            -87.66,
            -87.66,
            -87.65,
            -87.64,
            -87.59
           ],
           "xaxis": "x",
           "y": [
            41.89,
            41.910000000000004,
            41.76,
            41.77,
            41.78,
            41.83,
            41.77,
            41.88,
            41.72
           ],
           "yaxis": "y"
          },
          {
           "hovertemplate": "Primary Type=BURGLARY<br>t=3<br>Longitude=%{x}<br>Latitude=%{y}<br>size=%{marker.size}<extra></extra>",
           "legendgroup": "BURGLARY",
           "marker": {
            "color": "#19d3f3",
            "opacity": 0.5,
            "size": [
             2,
             2,
             2,
             2,
             2,
             2,
             2
            ],
            "sizemode": "area",
            "sizeref": 0.125,
            "symbol": "circle"
           },
           "mode": "markers",
           "name": "BURGLARY",
           "orientation": "v",
           "showlegend": true,
           "type": "scatter",
           "x": [
            -87.7,
            -87.69,
            -87.68,
            -87.67,
            -87.67,
            -87.66,
            -87.64
           ],
           "xaxis": "x",
           "y": [
            41.81,
            41.77,
            41.71,
            41.84,
            41.89,
            41.800000000000004,
            41.67
           ],
           "yaxis": "y"
          },
          {
           "hovertemplate": "Primary Type=MOTOR VEHICLE THEFT<br>t=3<br>Longitude=%{x}<br>Latitude=%{y}<br>size=%{marker.size}<extra></extra>",
           "legendgroup": "MOTOR VEHICLE THEFT",
           "marker": {
            "color": "#FF6692",
            "opacity": 0.5,
            "size": [
             2,
             2,
             2
            ],
            "sizemode": "area",
            "sizeref": 0.125,
            "symbol": "circle"
           },
           "mode": "markers",
           "name": "MOTOR VEHICLE THEFT",
           "orientation": "v",
           "showlegend": true,
           "type": "scatter",
           "x": [
            -87.73,
            -87.65,
            -87.61
           ],
           "xaxis": "x",
           "y": [
            41.83,
            41.94,
            41.74
           ],
           "yaxis": "y"
          },
          {
           "hovertemplate": "Primary Type=NARCOTICS<br>t=3<br>Longitude=%{x}<br>Latitude=%{y}<br>size=%{marker.size}<extra></extra>",
           "legendgroup": "NARCOTICS",
           "marker": {
            "color": "#B6E880",
            "opacity": 0.5,
            "size": [
             2,
             2,
             2,
             2,
             2,
             2,
             2
            ],
            "sizemode": "area",
            "sizeref": 0.125,
            "symbol": "circle"
           },
           "mode": "markers",
           "name": "NARCOTICS",
           "orientation": "v",
           "showlegend": true,
           "type": "scatter",
           "x": [
            -87.75,
            -87.71000000000001,
            -87.68,
            -87.68,
            -87.65,
            -87.65,
            -87.63
           ],
           "xaxis": "x",
           "y": [
            41.89,
            41.87,
            41.78,
            42.01,
            41.69,
            41.71,
            41.72
           ],
           "yaxis": "y"
          },
          {
           "hovertemplate": "Primary Type=DECEPTIVE PRACTICE<br>t=3<br>Longitude=%{x}<br>Latitude=%{y}<br>size=%{marker.size}<extra></extra>",
           "legendgroup": "DECEPTIVE PRACTICE",
           "marker": {
            "color": "#FF97FF",
            "opacity": 0.5,
            "size": [
             2,
             2,
             2,
             2,
             2,
             2,
             2,
             2,
             2,
             2,
             2,
             4,
             2,
             2,
             2,
             2
            ],
            "sizemode": "area",
            "sizeref": 0.125,
            "symbol": "circle"
           },
           "mode": "markers",
           "name": "DECEPTIVE PRACTICE",
           "orientation": "v",
           "showlegend": true,
           "type": "scatter",
           "x": [
            -87.8,
            -87.78,
            -87.72,
            -87.71000000000001,
            -87.68,
            -87.67,
            -87.66,
            -87.65,
            -87.65,
            -87.63,
            -87.63,
            -87.63,
            -87.61,
            -87.61,
            -87.59,
            -87.54
           ],
           "xaxis": "x",
           "y": [
            41.93,
            41.94,
            41.980000000000004,
            41.88,
            41.910000000000004,
            41.800000000000004,
            41.96,
            41.67,
            41.78,
            41.86,
            41.87,
            41.88,
            41.74,
            41.83,
            41.79,
            41.72
           ],
           "yaxis": "y"
          }
         ],
         "name": "3"
        },
        {
         "data": [
          {
           "hovertemplate": "Primary Type=THEFT<br>t=4<br>Longitude=%{x}<br>Latitude=%{y}<br>size=%{marker.size}<extra></extra>",
           "legendgroup": "THEFT",
           "marker": {
            "color": "#636efa",
            "opacity": 0.5,
            "size": [
             2,
             2,
             2,
             2,
             2,
             2,
             6,
             2,
             2,
             2,
             2,
             4,
             2,
             2,
             2,
             2,
             2,
             4,
             6,
             2,
             2,
             2
            ],
            "sizemode": "area",
            "sizeref": 0.125,
            "symbol": "circle"
           },
           "mode": "markers",
           "name": "THEFT",
           "orientation": "v",
           "showlegend": true,
           "type": "scatter",
           "x": [
            -87.82000000000001,
            -87.75,
            -87.73,
            -87.72,
            -87.7,
            -87.69,
            -87.69,
            -87.67,
            -87.66,
            -87.66,
            -87.66,
            -87.66,
            -87.66,
            -87.65,
            -87.64,
            -87.64,
            -87.63,
            -87.63,
            -87.63,
            -87.62,
            -87.60000000000001,
            -87.58
           ],
           "xaxis": "x",
           "y": [
            42.01,
            41.88,
            41.93,
            41.84,
            41.85,
            41.76,
            41.99,
            41.92,
            41.74,
            41.87,
            41.910000000000004,
            41.93,
            41.96,
            41.86,
            41.88,
            41.89,
            41.75,
            41.88,
            41.89,
            41.77,
            41.800000000000004,
            41.75
           ],
           "yaxis": "y"
          },
          {
           "hovertemplate": "Primary Type=BATTERY<br>t=4<br>Longitude=%{x}<br>Latitude=%{y}<br>size=%{marker.size}<extra></extra>",
           "legendgroup": "BATTERY",
           "marker": {
            "color": "#EF553B",
            "opacity": 0.5,
            "size": [
             2,
             2,
             2,
             2,
             2,
             2,
             2,
             2,
             2,
             2,
             2,
             2,
             2,
             2,
             2,
             2
            ],
            "sizemode": "area",
            "sizeref": 0.125,
            "symbol": "circle"
           },
           "mode": "markers",
           "name": "BATTERY",
           "orientation": "v",
           "showlegend": true,
           "type": "scatter",
           "x": [
            -87.81,
            -87.78,
            -87.76,
            -87.76,
            -87.74,
            -87.73,
            -87.73,
            -87.71000000000001,
            -87.69,
            -87.66,
            -87.65,
            -87.64,
            -87.64,
            -87.64,
            -87.63,
            -87.60000000000001
           ],
           "xaxis": "x",
           "y": [
            42,
            41.93,
            41.88,
            41.9,
            41.85,
            41.78,
            41.86,
            41.86,
            41.96,
            41.800000000000004,
            41.96,
            41.68,
            41.79,
            41.96,
            41.69,
            41.75
           ],
           "yaxis": "y"
          },
          {
           "hovertemplate": "Primary Type=CRIMINAL DAMAGE<br>t=4<br>Longitude=%{x}<br>Latitude=%{y}<br>size=%{marker.size}<extra></extra>",
           "legendgroup": "CRIMINAL DAMAGE",
           "marker": {
            "color": "#00cc96",
            "opacity": 0.5,
            "size": [
             2,
             2,
             2,
             2,
             2,
             2,
             2,
             2
            ],
            "sizemode": "area",
            "sizeref": 0.125,
            "symbol": "circle"
           },
           "mode": "markers",
           "name": "CRIMINAL DAMAGE",
           "orientation": "v",
           "showlegend": true,
           "type": "scatter",
           "x": [
            -87.72,
            -87.71000000000001,
            -87.7,
            -87.68,
            -87.64,
            -87.60000000000001,
            -87.60000000000001,
            -87.56
           ],
           "xaxis": "x",
           "y": [
            41.93,
            41.980000000000004,
            41.78,
            41.76,
            41.72,
            41.75,
            41.79,
            41.75
           ],
           "yaxis": "y"
          },
          {
           "hovertemplate": "Primary Type=ASSAULT<br>t=4<br>Longitude=%{x}<br>Latitude=%{y}<br>size=%{marker.size}<extra></extra>",
           "legendgroup": "ASSAULT",
           "marker": {
            "color": "#ab63fa",
            "opacity": 0.5,
            "size": [
             2,
             2,
             2,
             2,
             2,
             2,
             2,
             2,
             2
            ],
            "sizemode": "area",
            "sizeref": 0.125,
            "symbol": "circle"
           },
           "mode": "markers",
           "name": "ASSAULT",
           "orientation": "v",
           "showlegend": true,
           "type": "scatter",
           "x": [
            -87.91,
            -87.76,
            -87.74,
            -87.71000000000001,
            -87.69,
            -87.66,
            -87.64,
            -87.62,
            -87.59
           ],
           "xaxis": "x",
           "y": [
            41.97,
            41.9,
            41.86,
            41.93,
            41.9,
            42,
            41.67,
            41.76,
            41.75
           ],
           "yaxis": "y"
          },
          {
           "hovertemplate": "Primary Type=OTHER OFFENSE<br>t=4<br>Longitude=%{x}<br>Latitude=%{y}<br>size=%{marker.size}<extra></extra>",
           "legendgroup": "OTHER OFFENSE",
           "marker": {
            "color": "#FFA15A",
            "opacity": 0.5,
            "size": [
             2,
             2,
             2,
             2,
             2,
             2,
             2
            ],
            "sizemode": "area",
            "sizeref": 0.125,
            "symbol": "circle"
           },
           "mode": "markers",
           "name": "OTHER OFFENSE",
           "orientation": "v",
           "showlegend": true,
           "type": "scatter",
           "x": [
            -87.77,
            -87.77,
            -87.74,
            -87.67,
            -87.64,
            -87.63,
            -87.57000000000001
           ],
           "xaxis": "x",
           "y": [
            41.79,
            41.95,
            41.96,
            41.78,
            41.77,
            41.67,
            41.76
           ],
           "yaxis": "y"
          },
          {
           "hovertemplate": "Primary Type=BURGLARY<br>t=4<br>Longitude=%{x}<br>Latitude=%{y}<br>size=%{marker.size}<extra></extra>",
           "legendgroup": "BURGLARY",
           "marker": {
            "color": "#19d3f3",
            "opacity": 0.5,
            "size": [
             2,
             2,
             2,
             2,
             2
            ],
            "sizemode": "area",
            "sizeref": 0.125,
            "symbol": "circle"
           },
           "mode": "markers",
           "name": "BURGLARY",
           "orientation": "v",
           "showlegend": true,
           "type": "scatter",
           "x": [
            -87.79,
            -87.77,
            -87.75,
            -87.68,
            -87.67
           ],
           "xaxis": "x",
           "y": [
            41.97,
            41.94,
            41.99,
            41.71,
            41.79
           ],
           "yaxis": "y"
          },
          {
           "hovertemplate": "Primary Type=MOTOR VEHICLE THEFT<br>t=4<br>Longitude=%{x}<br>Latitude=%{y}<br>size=%{marker.size}<extra></extra>",
           "legendgroup": "MOTOR VEHICLE THEFT",
           "marker": {
            "color": "#FF6692",
            "opacity": 0.5,
            "size": [
             2,
             2,
             2
            ],
            "sizemode": "area",
            "sizeref": 0.125,
            "symbol": "circle"
           },
           "mode": "markers",
           "name": "MOTOR VEHICLE THEFT",
           "orientation": "v",
           "showlegend": true,
           "type": "scatter",
           "x": [
            -87.67,
            -87.67,
            -87.65
           ],
           "xaxis": "x",
           "y": [
            41.85,
            41.87,
            41.74
           ],
           "yaxis": "y"
          },
          {
           "hovertemplate": "Primary Type=NARCOTICS<br>t=4<br>Longitude=%{x}<br>Latitude=%{y}<br>size=%{marker.size}<extra></extra>",
           "legendgroup": "NARCOTICS",
           "marker": {
            "color": "#B6E880",
            "opacity": 0.5,
            "size": [
             2,
             2,
             4,
             2,
             2,
             2,
             2,
             2
            ],
            "sizemode": "area",
            "sizeref": 0.125,
            "symbol": "circle"
           },
           "mode": "markers",
           "name": "NARCOTICS",
           "orientation": "v",
           "showlegend": true,
           "type": "scatter",
           "x": [
            -87.77,
            -87.74,
            -87.73,
            -87.72,
            -87.7,
            -87.7,
            -87.69,
            -87.64
           ],
           "xaxis": "x",
           "y": [
            41.88,
            41.86,
            41.87,
            41.89,
            41.86,
            42.01,
            41.77,
            41.79
           ],
           "yaxis": "y"
          },
          {
           "hovertemplate": "Primary Type=DECEPTIVE PRACTICE<br>t=4<br>Longitude=%{x}<br>Latitude=%{y}<br>size=%{marker.size}<extra></extra>",
           "legendgroup": "DECEPTIVE PRACTICE",
           "marker": {
            "color": "#FF97FF",
            "opacity": 0.5,
            "size": [
             2,
             2,
             2,
             2,
             2,
             2,
             2,
             2,
             2,
             2
            ],
            "sizemode": "area",
            "sizeref": 0.125,
            "symbol": "circle"
           },
           "mode": "markers",
           "name": "DECEPTIVE PRACTICE",
           "orientation": "v",
           "showlegend": true,
           "type": "scatter",
           "x": [
            -87.74,
            -87.7,
            -87.7,
            -87.66,
            -87.65,
            -87.64,
            -87.63,
            -87.62,
            -87.62,
            -87.60000000000001
           ],
           "xaxis": "x",
           "y": [
            41.88,
            41.78,
            41.81,
            41.910000000000004,
            41.75,
            41.89,
            41.88,
            41.800000000000004,
            41.89,
            41.74
           ],
           "yaxis": "y"
          }
         ],
         "name": "4"
        },
        {
         "data": [
          {
           "hovertemplate": "Primary Type=THEFT<br>t=5<br>Longitude=%{x}<br>Latitude=%{y}<br>size=%{marker.size}<extra></extra>",
           "legendgroup": "THEFT",
           "marker": {
            "color": "#636efa",
            "opacity": 0.5,
            "size": [
             2,
             2,
             2,
             2,
             2,
             2,
             2,
             2,
             2,
             2,
             2,
             2,
             2,
             2,
             2,
             4,
             2,
             6,
             2,
             2,
             2,
             8,
             2,
             2,
             2,
             4
            ],
            "sizemode": "area",
            "sizeref": 0.125,
            "symbol": "circle"
           },
           "mode": "markers",
           "name": "THEFT",
           "orientation": "v",
           "showlegend": true,
           "type": "scatter",
           "x": [
            -87.79,
            -87.78,
            -87.74,
            -87.71000000000001,
            -87.7,
            -87.69,
            -87.69,
            -87.69,
            -87.68,
            -87.68,
            -87.68,
            -87.68,
            -87.66,
            -87.66,
            -87.66,
            -87.65,
            -87.65,
            -87.65,
            -87.65,
            -87.64,
            -87.63,
            -87.63,
            -87.63,
            -87.62,
            -87.59,
            -87.58
           ],
           "xaxis": "x",
           "y": [
            41.99,
            41.9,
            41.99,
            41.87,
            42.01,
            41.74,
            41.88,
            41.96,
            41.71,
            41.77,
            41.93,
            41.97,
            41.730000000000004,
            41.75,
            41.96,
            41.68,
            41.84,
            41.93,
            41.96,
            41.86,
            41.86,
            41.88,
            41.89,
            41.68,
            41.75,
            41.76
           ],
           "yaxis": "y"
          },
          {
           "hovertemplate": "Primary Type=BATTERY<br>t=5<br>Longitude=%{x}<br>Latitude=%{y}<br>size=%{marker.size}<extra></extra>",
           "legendgroup": "BATTERY",
           "marker": {
            "color": "#EF553B",
            "opacity": 0.5,
            "size": [
             2,
             2,
             2,
             2,
             2,
             2,
             2,
             2,
             2,
             2,
             2,
             2,
             4,
             2,
             2,
             2,
             2
            ],
            "sizemode": "area",
            "sizeref": 0.125,
            "symbol": "circle"
           },
           "mode": "markers",
           "name": "BATTERY",
           "orientation": "v",
           "showlegend": true,
           "type": "scatter",
           "x": [
            -87.77,
            -87.76,
            -87.76,
            -87.75,
            -87.74,
            -87.72,
            -87.7,
            -87.69,
            -87.68,
            -87.67,
            -87.65,
            -87.65,
            -87.63,
            -87.63,
            -87.62,
            -87.60000000000001,
            -87.58
           ],
           "xaxis": "x",
           "y": [
            41.9,
            41.88,
            41.95,
            41.88,
            41.93,
            41.85,
            41.980000000000004,
            41.81,
            41.99,
            41.78,
            41.67,
            41.910000000000004,
            41.730000000000004,
            41.89,
            41.76,
            41.65,
            41.77
           ],
           "yaxis": "y"
          },
          {
           "hovertemplate": "Primary Type=CRIMINAL DAMAGE<br>t=5<br>Longitude=%{x}<br>Latitude=%{y}<br>size=%{marker.size}<extra></extra>",
           "legendgroup": "CRIMINAL DAMAGE",
           "marker": {
            "color": "#00cc96",
            "opacity": 0.5,
            "size": [
             2,
             2,
             2,
             2,
             2,
             2,
             2,
             2,
             2,
             2,
             2,
             2,
             4,
             2
            ],
            "sizemode": "area",
            "sizeref": 0.125,
            "symbol": "circle"
           },
           "mode": "markers",
           "name": "CRIMINAL DAMAGE",
           "orientation": "v",
           "showlegend": true,
           "type": "scatter",
           "x": [
            -87.79,
            -87.78,
            -87.77,
            -87.75,
            -87.73,
            -87.71000000000001,
            -87.7,
            -87.69,
            -87.68,
            -87.68,
            -87.67,
            -87.67,
            -87.62,
            -87.56
           ],
           "xaxis": "x",
           "y": [
            41.95,
            41.910000000000004,
            41.88,
            41.980000000000004,
            41.93,
            41.99,
            41.77,
            41.82,
            41.77,
            42.01,
            41.78,
            41.88,
            41.82,
            41.72
           ],
           "yaxis": "y"
          },
          {
           "hovertemplate": "Primary Type=ASSAULT<br>t=5<br>Longitude=%{x}<br>Latitude=%{y}<br>size=%{marker.size}<extra></extra>",
           "legendgroup": "ASSAULT",
           "marker": {
            "color": "#ab63fa",
            "opacity": 0.5,
            "size": [
             2,
             2,
             2,
             2,
             2,
             2,
             2,
             2,
             2,
             2,
             2,
             2,
             2,
             2,
             2
            ],
            "sizemode": "area",
            "sizeref": 0.125,
            "symbol": "circle"
           },
           "mode": "markers",
           "name": "ASSAULT",
           "orientation": "v",
           "showlegend": true,
           "type": "scatter",
           "x": [
            -87.77,
            -87.76,
            -87.75,
            -87.69,
            -87.66,
            -87.66,
            -87.66,
            -87.65,
            -87.65,
            -87.65,
            -87.63,
            -87.63,
            -87.62,
            -87.61,
            -87.56
           ],
           "xaxis": "x",
           "y": [
            41.96,
            41.89,
            41.88,
            41.910000000000004,
            41.78,
            41.85,
            41.89,
            41.67,
            41.89,
            41.9,
            41.69,
            41.89,
            41.82,
            41.75,
            41.72
           ],
           "yaxis": "y"
          },
          {
           "hovertemplate": "Primary Type=OTHER OFFENSE<br>t=5<br>Longitude=%{x}<br>Latitude=%{y}<br>size=%{marker.size}<extra></extra>",
           "legendgroup": "OTHER OFFENSE",
           "marker": {
            "color": "#FFA15A",
            "opacity": 0.5,
            "size": [
             2,
             2,
             2,
             2,
             2,
             2,
             2,
             2,
             2,
             2,
             2,
             2,
             2,
             2,
             2
            ],
            "sizemode": "area",
            "sizeref": 0.125,
            "symbol": "circle"
           },
           "mode": "markers",
           "name": "OTHER OFFENSE",
           "orientation": "v",
           "showlegend": true,
           "type": "scatter",
           "x": [
            -87.79,
            -87.78,
            -87.76,
            -87.76,
            -87.76,
            -87.73,
            -87.72,
            -87.72,
            -87.69,
            -87.69,
            -87.68,
            -87.67,
            -87.63,
            -87.63,
            -87.62
           ],
           "xaxis": "x",
           "y": [
            41.99,
            41.88,
            41.87,
            41.88,
            41.92,
            41.84,
            41.86,
            41.89,
            41.800000000000004,
            41.92,
            41.82,
            41.99,
            41.7,
            41.77,
            41.88
           ],
           "yaxis": "y"
          },
          {
           "hovertemplate": "Primary Type=BURGLARY<br>t=5<br>Longitude=%{x}<br>Latitude=%{y}<br>size=%{marker.size}<extra></extra>",
           "legendgroup": "BURGLARY",
           "marker": {
            "color": "#19d3f3",
            "opacity": 0.5,
            "size": [
             2,
             2,
             2,
             2,
             2
            ],
            "sizemode": "area",
            "sizeref": 0.125,
            "symbol": "circle"
           },
           "mode": "markers",
           "name": "BURGLARY",
           "orientation": "v",
           "showlegend": true,
           "type": "scatter",
           "x": [
            -87.76,
            -87.73,
            -87.72,
            -87.71000000000001,
            -87.7
           ],
           "xaxis": "x",
           "y": [
            41.96,
            41.79,
            41.74,
            41.85,
            41.87
           ],
           "yaxis": "y"
          },
          {
           "hovertemplate": "Primary Type=MOTOR VEHICLE THEFT<br>t=5<br>Longitude=%{x}<br>Latitude=%{y}<br>size=%{marker.size}<extra></extra>",
           "legendgroup": "MOTOR VEHICLE THEFT",
           "marker": {
            "color": "#FF6692",
            "opacity": 0.5,
            "size": [
             2
            ],
            "sizemode": "area",
            "sizeref": 0.125,
            "symbol": "circle"
           },
           "mode": "markers",
           "name": "MOTOR VEHICLE THEFT",
           "orientation": "v",
           "showlegend": true,
           "type": "scatter",
           "x": [
            -87.63
           ],
           "xaxis": "x",
           "y": [
            41.81
           ],
           "yaxis": "y"
          },
          {
           "hovertemplate": "Primary Type=NARCOTICS<br>t=5<br>Longitude=%{x}<br>Latitude=%{y}<br>size=%{marker.size}<extra></extra>",
           "legendgroup": "NARCOTICS",
           "marker": {
            "color": "#B6E880",
            "opacity": 0.5,
            "size": [
             2,
             2,
             2,
             2,
             2,
             2,
             2,
             2
            ],
            "sizemode": "area",
            "sizeref": 0.125,
            "symbol": "circle"
           },
           "mode": "markers",
           "name": "NARCOTICS",
           "orientation": "v",
           "showlegend": true,
           "type": "scatter",
           "x": [
            -87.75,
            -87.73,
            -87.72,
            -87.7,
            -87.65,
            -87.64,
            -87.63,
            -87.61
           ],
           "xaxis": "x",
           "y": [
            41.89,
            41.9,
            41.89,
            41.97,
            41.74,
            41.800000000000004,
            41.69,
            41.75
           ],
           "yaxis": "y"
          },
          {
           "hovertemplate": "Primary Type=DECEPTIVE PRACTICE<br>t=5<br>Longitude=%{x}<br>Latitude=%{y}<br>size=%{marker.size}<extra></extra>",
           "legendgroup": "DECEPTIVE PRACTICE",
           "marker": {
            "color": "#FF97FF",
            "opacity": 0.5,
            "size": [
             2,
             2,
             2,
             2,
             2,
             2,
             2,
             2,
             2,
             2,
             2,
             2,
             2
            ],
            "sizemode": "area",
            "sizeref": 0.125,
            "symbol": "circle"
           },
           "mode": "markers",
           "name": "DECEPTIVE PRACTICE",
           "orientation": "v",
           "showlegend": true,
           "type": "scatter",
           "x": [
            -87.77,
            -87.73,
            -87.72,
            -87.69,
            -87.67,
            -87.65,
            -87.64,
            -87.63,
            -87.63,
            -87.62,
            -87.62,
            -87.62,
            -87.60000000000001
           ],
           "xaxis": "x",
           "y": [
            41.97,
            41.9,
            41.7,
            41.74,
            41.99,
            41.69,
            41.89,
            41.68,
            41.88,
            41.72,
            41.81,
            41.83,
            41.79
           ],
           "yaxis": "y"
          }
         ],
         "name": "5"
        },
        {
         "data": [
          {
           "hovertemplate": "Primary Type=THEFT<br>t=6<br>Longitude=%{x}<br>Latitude=%{y}<br>size=%{marker.size}<extra></extra>",
           "legendgroup": "THEFT",
           "marker": {
            "color": "#636efa",
            "opacity": 0.5,
            "size": [
             2,
             2,
             2,
             2,
             2,
             2,
             2,
             2,
             2,
             2,
             2,
             2,
             2,
             2,
             2,
             2,
             2,
             2,
             4,
             2
            ],
            "sizemode": "area",
            "sizeref": 0.125,
            "symbol": "circle"
           },
           "mode": "markers",
           "name": "THEFT",
           "orientation": "v",
           "showlegend": true,
           "type": "scatter",
           "x": [
            -87.78,
            -87.75,
            -87.73,
            -87.7,
            -87.69,
            -87.68,
            -87.67,
            -87.67,
            -87.67,
            -87.67,
            -87.66,
            -87.66,
            -87.66,
            -87.65,
            -87.65,
            -87.65,
            -87.65,
            -87.63,
            -87.63,
            -87.59
           ],
           "xaxis": "x",
           "y": [
            41.94,
            41.75,
            41.84,
            42.01,
            41.9,
            41.9,
            41.88,
            41.980000000000004,
            42,
            42.02,
            41.88,
            41.94,
            41.97,
            41.78,
            41.800000000000004,
            41.83,
            41.89,
            41.7,
            41.89,
            41.77
           ],
           "yaxis": "y"
          },
          {
           "hovertemplate": "Primary Type=BATTERY<br>t=6<br>Longitude=%{x}<br>Latitude=%{y}<br>size=%{marker.size}<extra></extra>",
           "legendgroup": "BATTERY",
           "marker": {
            "color": "#EF553B",
            "opacity": 0.5,
            "size": [
             2,
             2,
             2,
             2,
             2,
             2,
             2,
             2,
             2,
             2,
             2,
             2,
             2,
             2,
             2,
             2,
             2,
             2,
             2
            ],
            "sizemode": "area",
            "sizeref": 0.125,
            "symbol": "circle"
           },
           "mode": "markers",
           "name": "BATTERY",
           "orientation": "v",
           "showlegend": true,
           "type": "scatter",
           "x": [
            -87.73,
            -87.72,
            -87.71000000000001,
            -87.7,
            -87.7,
            -87.69,
            -87.69,
            -87.68,
            -87.67,
            -87.67,
            -87.64,
            -87.64,
            -87.63,
            -87.63,
            -87.62,
            -87.62,
            -87.60000000000001,
            -87.58,
            -87.57000000000001
           ],
           "xaxis": "x",
           "y": [
            41.97,
            41.910000000000004,
            41.79,
            41.85,
            41.86,
            41.85,
            41.99,
            41.9,
            41.800000000000004,
            41.96,
            41.77,
            41.86,
            41.77,
            41.89,
            41.67,
            41.84,
            41.77,
            41.71,
            41.72
           ],
           "yaxis": "y"
          },
          {
           "hovertemplate": "Primary Type=CRIMINAL DAMAGE<br>t=6<br>Longitude=%{x}<br>Latitude=%{y}<br>size=%{marker.size}<extra></extra>",
           "legendgroup": "CRIMINAL DAMAGE",
           "marker": {
            "color": "#00cc96",
            "opacity": 0.5,
            "size": [
             2,
             2,
             2,
             2,
             2,
             2,
             2,
             2,
             2,
             2,
             2,
             2,
             2
            ],
            "sizemode": "area",
            "sizeref": 0.125,
            "symbol": "circle"
           },
           "mode": "markers",
           "name": "CRIMINAL DAMAGE",
           "orientation": "v",
           "showlegend": true,
           "type": "scatter",
           "x": [
            -87.8,
            -87.75,
            -87.72,
            -87.7,
            -87.68,
            -87.68,
            -87.68,
            -87.67,
            -87.67,
            -87.66,
            -87.65,
            -87.63,
            -87.62
           ],
           "xaxis": "x",
           "y": [
            41.97,
            41.87,
            41.87,
            41.910000000000004,
            41.89,
            41.910000000000004,
            41.92,
            41.75,
            41.78,
            41.89,
            41.77,
            41.83,
            41.76
           ],
           "yaxis": "y"
          },
          {
           "hovertemplate": "Primary Type=ASSAULT<br>t=6<br>Longitude=%{x}<br>Latitude=%{y}<br>size=%{marker.size}<extra></extra>",
           "legendgroup": "ASSAULT",
           "marker": {
            "color": "#ab63fa",
            "opacity": 0.5,
            "size": [
             2,
             2,
             2,
             2,
             2,
             2,
             2,
             2,
             2,
             2,
             2,
             2,
             2,
             2
            ],
            "sizemode": "area",
            "sizeref": 0.125,
            "symbol": "circle"
           },
           "mode": "markers",
           "name": "ASSAULT",
           "orientation": "v",
           "showlegend": true,
           "type": "scatter",
           "x": [
            -87.83,
            -87.77,
            -87.75,
            -87.75,
            -87.74,
            -87.73,
            -87.68,
            -87.67,
            -87.67,
            -87.66,
            -87.65,
            -87.62,
            -87.61,
            -87.55
           ],
           "xaxis": "x",
           "y": [
            42,
            41.86,
            41.89,
            41.95,
            41.96,
            41.9,
            41.79,
            41.7,
            41.79,
            41.97,
            41.77,
            41.800000000000004,
            41.75,
            41.71
           ],
           "yaxis": "y"
          },
          {
           "hovertemplate": "Primary Type=OTHER OFFENSE<br>t=6<br>Longitude=%{x}<br>Latitude=%{y}<br>size=%{marker.size}<extra></extra>",
           "legendgroup": "OTHER OFFENSE",
           "marker": {
            "color": "#FFA15A",
            "opacity": 0.5,
            "size": [
             2,
             4,
             2,
             2,
             2
            ],
            "sizemode": "area",
            "sizeref": 0.125,
            "symbol": "circle"
           },
           "mode": "markers",
           "name": "OTHER OFFENSE",
           "orientation": "v",
           "showlegend": true,
           "type": "scatter",
           "x": [
            -87.77,
            -87.74,
            -87.67,
            -87.65,
            -87.63
           ],
           "xaxis": "x",
           "y": [
            41.93,
            41.86,
            41.77,
            41.74,
            41.730000000000004
           ],
           "yaxis": "y"
          },
          {
           "hovertemplate": "Primary Type=BURGLARY<br>t=6<br>Longitude=%{x}<br>Latitude=%{y}<br>size=%{marker.size}<extra></extra>",
           "legendgroup": "BURGLARY",
           "marker": {
            "color": "#19d3f3",
            "opacity": 0.5,
            "size": [
             2,
             2,
             2
            ],
            "sizemode": "area",
            "sizeref": 0.125,
            "symbol": "circle"
           },
           "mode": "markers",
           "name": "BURGLARY",
           "orientation": "v",
           "showlegend": true,
           "type": "scatter",
           "x": [
            -87.67,
            -87.64,
            -87.62
           ],
           "xaxis": "x",
           "y": [
            41.96,
            41.92,
            41.78
           ],
           "yaxis": "y"
          },
          {
           "hovertemplate": "Primary Type=MOTOR VEHICLE THEFT<br>t=6<br>Longitude=%{x}<br>Latitude=%{y}<br>size=%{marker.size}<extra></extra>",
           "legendgroup": "MOTOR VEHICLE THEFT",
           "marker": {
            "color": "#FF6692",
            "opacity": 0.5,
            "size": [
             2,
             2,
             2
            ],
            "sizemode": "area",
            "sizeref": 0.125,
            "symbol": "circle"
           },
           "mode": "markers",
           "name": "MOTOR VEHICLE THEFT",
           "orientation": "v",
           "showlegend": true,
           "type": "scatter",
           "x": [
            -87.69,
            -87.62,
            -87.61
           ],
           "xaxis": "x",
           "y": [
            42.01,
            41.76,
            41.81
           ],
           "yaxis": "y"
          },
          {
           "hovertemplate": "Primary Type=NARCOTICS<br>t=6<br>Longitude=%{x}<br>Latitude=%{y}<br>size=%{marker.size}<extra></extra>",
           "legendgroup": "NARCOTICS",
           "marker": {
            "color": "#B6E880",
            "opacity": 0.5,
            "size": [
             2,
             2,
             2,
             2,
             2,
             2,
             2
            ],
            "sizemode": "area",
            "sizeref": 0.125,
            "symbol": "circle"
           },
           "mode": "markers",
           "name": "NARCOTICS",
           "orientation": "v",
           "showlegend": true,
           "type": "scatter",
           "x": [
            -87.74,
            -87.73,
            -87.73,
            -87.7,
            -87.65,
            -87.63,
            -87.54
           ],
           "xaxis": "x",
           "y": [
            41.87,
            41.85,
            41.89,
            41.86,
            41.730000000000004,
            41.81,
            41.71
           ],
           "yaxis": "y"
          },
          {
           "hovertemplate": "Primary Type=DECEPTIVE PRACTICE<br>t=6<br>Longitude=%{x}<br>Latitude=%{y}<br>size=%{marker.size}<extra></extra>",
           "legendgroup": "DECEPTIVE PRACTICE",
           "marker": {
            "color": "#FF97FF",
            "opacity": 0.5,
            "size": [
             2,
             2,
             2
            ],
            "sizemode": "area",
            "sizeref": 0.125,
            "symbol": "circle"
           },
           "mode": "markers",
           "name": "DECEPTIVE PRACTICE",
           "orientation": "v",
           "showlegend": true,
           "type": "scatter",
           "x": [
            -87.65,
            -87.63,
            -87.63
           ],
           "xaxis": "x",
           "y": [
            41.88,
            41.87,
            41.88
           ],
           "yaxis": "y"
          }
         ],
         "name": "6"
        },
        {
         "data": [
          {
           "hovertemplate": "Primary Type=THEFT<br>t=7<br>Longitude=%{x}<br>Latitude=%{y}<br>size=%{marker.size}<extra></extra>",
           "legendgroup": "THEFT",
           "marker": {
            "color": "#636efa",
            "opacity": 0.5,
            "size": [
             2,
             2,
             2,
             2,
             2,
             2,
             4,
             2,
             2,
             2,
             2,
             2,
             2
            ],
            "sizemode": "area",
            "sizeref": 0.125,
            "symbol": "circle"
           },
           "mode": "markers",
           "name": "THEFT",
           "orientation": "v",
           "showlegend": true,
           "type": "scatter",
           "x": [
            -87.78,
            -87.75,
            -87.74,
            -87.72,
            -87.68,
            -87.67,
            -87.65,
            -87.64,
            -87.64,
            -87.64,
            -87.63,
            -87.63,
            -87.62
           ],
           "xaxis": "x",
           "y": [
            41.88,
            41.78,
            41.87,
            41.79,
            41.89,
            41.71,
            41.94,
            41.76,
            41.89,
            41.93,
            41.86,
            41.89,
            41.77
           ],
           "yaxis": "y"
          },
          {
           "hovertemplate": "Primary Type=BATTERY<br>t=7<br>Longitude=%{x}<br>Latitude=%{y}<br>size=%{marker.size}<extra></extra>",
           "legendgroup": "BATTERY",
           "marker": {
            "color": "#EF553B",
            "opacity": 0.5,
            "size": [
             2,
             2,
             2,
             2,
             4,
             2,
             2,
             2,
             2,
             2,
             2,
             2,
             4,
             2,
             2,
             2,
             2,
             2,
             2,
             2,
             2
            ],
            "sizemode": "area",
            "sizeref": 0.125,
            "symbol": "circle"
           },
           "mode": "markers",
           "name": "BATTERY",
           "orientation": "v",
           "showlegend": true,
           "type": "scatter",
           "x": [
            -87.77,
            -87.76,
            -87.76,
            -87.73,
            -87.71000000000001,
            -87.71000000000001,
            -87.68,
            -87.68,
            -87.68,
            -87.67,
            -87.67,
            -87.67,
            -87.66,
            -87.65,
            -87.64,
            -87.63,
            -87.63,
            -87.62,
            -87.62,
            -87.62,
            -87.60000000000001
           ],
           "xaxis": "x",
           "y": [
            41.88,
            41.89,
            41.92,
            41.87,
            41.84,
            41.96,
            41.68,
            41.9,
            42,
            41.76,
            41.79,
            41.89,
            41.730000000000004,
            41.77,
            41.87,
            41.86,
            41.9,
            41.77,
            41.79,
            41.84,
            41.69
           ],
           "yaxis": "y"
          },
          {
           "hovertemplate": "Primary Type=CRIMINAL DAMAGE<br>t=7<br>Longitude=%{x}<br>Latitude=%{y}<br>size=%{marker.size}<extra></extra>",
           "legendgroup": "CRIMINAL DAMAGE",
           "marker": {
            "color": "#00cc96",
            "opacity": 0.5,
            "size": [
             2,
             2,
             2,
             2,
             2,
             2,
             2,
             2,
             2,
             2
            ],
            "sizemode": "area",
            "sizeref": 0.125,
            "symbol": "circle"
           },
           "mode": "markers",
           "name": "CRIMINAL DAMAGE",
           "orientation": "v",
           "showlegend": true,
           "type": "scatter",
           "x": [
            -87.73,
            -87.73,
            -87.71000000000001,
            -87.69,
            -87.66,
            -87.66,
            -87.63,
            -87.63,
            -87.61,
            -87.61
           ],
           "xaxis": "x",
           "y": [
            41.730000000000004,
            41.88,
            41.99,
            42.01,
            41.72,
            41.92,
            41.660000000000004,
            41.89,
            41.65,
            41.77
           ],
           "yaxis": "y"
          },
          {
           "hovertemplate": "Primary Type=ASSAULT<br>t=7<br>Longitude=%{x}<br>Latitude=%{y}<br>size=%{marker.size}<extra></extra>",
           "legendgroup": "ASSAULT",
           "marker": {
            "color": "#ab63fa",
            "opacity": 0.5,
            "size": [
             2,
             2,
             2,
             2,
             2,
             2,
             2
            ],
            "sizemode": "area",
            "sizeref": 0.125,
            "symbol": "circle"
           },
           "mode": "markers",
           "name": "ASSAULT",
           "orientation": "v",
           "showlegend": true,
           "type": "scatter",
           "x": [
            -87.84,
            -87.84,
            -87.78,
            -87.67,
            -87.62,
            -87.61,
            -87.56
           ],
           "xaxis": "x",
           "y": [
            41.97,
            41.980000000000004,
            41.97,
            41.7,
            41.67,
            41.74,
            41.75
           ],
           "yaxis": "y"
          },
          {
           "hovertemplate": "Primary Type=OTHER OFFENSE<br>t=7<br>Longitude=%{x}<br>Latitude=%{y}<br>size=%{marker.size}<extra></extra>",
           "legendgroup": "OTHER OFFENSE",
           "marker": {
            "color": "#FFA15A",
            "opacity": 0.5,
            "size": [
             2,
             2,
             2
            ],
            "sizemode": "area",
            "sizeref": 0.125,
            "symbol": "circle"
           },
           "mode": "markers",
           "name": "OTHER OFFENSE",
           "orientation": "v",
           "showlegend": true,
           "type": "scatter",
           "x": [
            -87.79,
            -87.72,
            -87.58
           ],
           "xaxis": "x",
           "y": [
            41.93,
            41.87,
            41.74
           ],
           "yaxis": "y"
          },
          {
           "hovertemplate": "Primary Type=BURGLARY<br>t=7<br>Longitude=%{x}<br>Latitude=%{y}<br>size=%{marker.size}<extra></extra>",
           "legendgroup": "BURGLARY",
           "marker": {
            "color": "#19d3f3",
            "opacity": 0.5,
            "size": [
             2,
             2,
             2,
             2
            ],
            "sizemode": "area",
            "sizeref": 0.125,
            "symbol": "circle"
           },
           "mode": "markers",
           "name": "BURGLARY",
           "orientation": "v",
           "showlegend": true,
           "type": "scatter",
           "x": [
            -87.73,
            -87.7,
            -87.62,
            -87.60000000000001
           ],
           "xaxis": "x",
           "y": [
            41.730000000000004,
            41.79,
            41.76,
            41.77
           ],
           "yaxis": "y"
          },
          {
           "hovertemplate": "Primary Type=MOTOR VEHICLE THEFT<br>t=7<br>Longitude=%{x}<br>Latitude=%{y}<br>size=%{marker.size}<extra></extra>",
           "legendgroup": "MOTOR VEHICLE THEFT",
           "marker": {
            "color": "#FF6692",
            "opacity": 0.5,
            "size": [
             2,
             2,
             2,
             2,
             2,
             2,
             2
            ],
            "sizemode": "area",
            "sizeref": 0.125,
            "symbol": "circle"
           },
           "mode": "markers",
           "name": "MOTOR VEHICLE THEFT",
           "orientation": "v",
           "showlegend": true,
           "type": "scatter",
           "x": [
            -87.72,
            -87.69,
            -87.68,
            -87.64,
            -87.64,
            -87.63,
            -87.63
           ],
           "xaxis": "x",
           "y": [
            41.93,
            41.71,
            41.730000000000004,
            41.84,
            41.9,
            41.7,
            41.82
           ],
           "yaxis": "y"
          },
          {
           "hovertemplate": "Primary Type=NARCOTICS<br>t=7<br>Longitude=%{x}<br>Latitude=%{y}<br>size=%{marker.size}<extra></extra>",
           "legendgroup": "NARCOTICS",
           "marker": {
            "color": "#B6E880",
            "opacity": 0.5,
            "size": [
             2,
             2,
             2,
             2,
             2
            ],
            "sizemode": "area",
            "sizeref": 0.125,
            "symbol": "circle"
           },
           "mode": "markers",
           "name": "NARCOTICS",
           "orientation": "v",
           "showlegend": true,
           "type": "scatter",
           "x": [
            -87.77,
            -87.75,
            -87.75,
            -87.72,
            -87.67
           ],
           "xaxis": "x",
           "y": [
            41.89,
            41.79,
            41.88,
            41.87,
            41.96
           ],
           "yaxis": "y"
          },
          {
           "hovertemplate": "Primary Type=DECEPTIVE PRACTICE<br>t=7<br>Longitude=%{x}<br>Latitude=%{y}<br>size=%{marker.size}<extra></extra>",
           "legendgroup": "DECEPTIVE PRACTICE",
           "marker": {
            "color": "#FF97FF",
            "opacity": 0.5,
            "size": [
             2,
             2,
             2
            ],
            "sizemode": "area",
            "sizeref": 0.125,
            "symbol": "circle"
           },
           "mode": "markers",
           "name": "DECEPTIVE PRACTICE",
           "orientation": "v",
           "showlegend": true,
           "type": "scatter",
           "x": [
            -87.74,
            -87.66,
            -87.63
           ],
           "xaxis": "x",
           "y": [
            41.93,
            41.72,
            41.7
           ],
           "yaxis": "y"
          }
         ],
         "name": "7"
        },
        {
         "data": [
          {
           "hovertemplate": "Primary Type=THEFT<br>t=8<br>Longitude=%{x}<br>Latitude=%{y}<br>size=%{marker.size}<extra></extra>",
           "legendgroup": "THEFT",
           "marker": {
            "color": "#636efa",
            "opacity": 0.5,
            "size": [
             2,
             2,
             2,
             2,
             2,
             2
            ],
            "sizemode": "area",
            "sizeref": 0.125,
            "symbol": "circle"
           },
           "mode": "markers",
           "name": "THEFT",
           "orientation": "v",
           "showlegend": true,
           "type": "scatter",
           "x": [
            -87.76,
            -87.66,
            -87.66,
            -87.64,
            -87.63,
            -87.56
           ],
           "xaxis": "x",
           "y": [
            41.9,
            41.730000000000004,
            41.87,
            41.71,
            41.67,
            41.730000000000004
           ],
           "yaxis": "y"
          },
          {
           "hovertemplate": "Primary Type=BATTERY<br>t=8<br>Longitude=%{x}<br>Latitude=%{y}<br>size=%{marker.size}<extra></extra>",
           "legendgroup": "BATTERY",
           "marker": {
            "color": "#EF553B",
            "opacity": 0.5,
            "size": [
             2,
             4,
             2,
             2,
             2,
             2,
             2,
             2
            ],
            "sizemode": "area",
            "sizeref": 0.125,
            "symbol": "circle"
           },
           "mode": "markers",
           "name": "BATTERY",
           "orientation": "v",
           "showlegend": true,
           "type": "scatter",
           "x": [
            -87.79,
            -87.76,
            -87.74,
            -87.72,
            -87.71000000000001,
            -87.65,
            -87.60000000000001,
            -87.60000000000001
           ],
           "xaxis": "x",
           "y": [
            41.99,
            41.88,
            41.87,
            41.74,
            41.88,
            41.76,
            41.730000000000004,
            41.75
           ],
           "yaxis": "y"
          },
          {
           "hovertemplate": "Primary Type=CRIMINAL DAMAGE<br>t=8<br>Longitude=%{x}<br>Latitude=%{y}<br>size=%{marker.size}<extra></extra>",
           "legendgroup": "CRIMINAL DAMAGE",
           "marker": {
            "color": "#00cc96",
            "opacity": 0.5,
            "size": [
             2,
             2,
             2,
             2,
             2,
             2,
             2,
             2,
             2
            ],
            "sizemode": "area",
            "sizeref": 0.125,
            "symbol": "circle"
           },
           "mode": "markers",
           "name": "CRIMINAL DAMAGE",
           "orientation": "v",
           "showlegend": true,
           "type": "scatter",
           "x": [
            -87.73,
            -87.72,
            -87.71000000000001,
            -87.65,
            -87.65,
            -87.63,
            -87.62,
            -87.56,
            -87.54
           ],
           "xaxis": "x",
           "y": [
            41.78,
            41.89,
            42.01,
            41.89,
            41.94,
            41.78,
            41.77,
            41.730000000000004,
            41.7
           ],
           "yaxis": "y"
          },
          {
           "hovertemplate": "Primary Type=ASSAULT<br>t=8<br>Longitude=%{x}<br>Latitude=%{y}<br>size=%{marker.size}<extra></extra>",
           "legendgroup": "ASSAULT",
           "marker": {
            "color": "#ab63fa",
            "opacity": 0.5,
            "size": [
             2,
             2,
             2
            ],
            "sizemode": "area",
            "sizeref": 0.125,
            "symbol": "circle"
           },
           "mode": "markers",
           "name": "ASSAULT",
           "orientation": "v",
           "showlegend": true,
           "type": "scatter",
           "x": [
            -87.66,
            -87.66,
            -87.63
           ],
           "xaxis": "x",
           "y": [
            41.74,
            41.76,
            41.75
           ],
           "yaxis": "y"
          },
          {
           "hovertemplate": "Primary Type=OTHER OFFENSE<br>t=8<br>Longitude=%{x}<br>Latitude=%{y}<br>size=%{marker.size}<extra></extra>",
           "legendgroup": "OTHER OFFENSE",
           "marker": {
            "color": "#FFA15A",
            "opacity": 0.5,
            "size": [
             2
            ],
            "sizemode": "area",
            "sizeref": 0.125,
            "symbol": "circle"
           },
           "mode": "markers",
           "name": "OTHER OFFENSE",
           "orientation": "v",
           "showlegend": true,
           "type": "scatter",
           "x": [
            -87.69
           ],
           "xaxis": "x",
           "y": [
            41.76
           ],
           "yaxis": "y"
          },
          {
           "hovertemplate": "Primary Type=BURGLARY<br>t=8<br>Longitude=%{x}<br>Latitude=%{y}<br>size=%{marker.size}<extra></extra>",
           "legendgroup": "BURGLARY",
           "marker": {
            "color": "#19d3f3",
            "opacity": 0.5,
            "size": [
             2,
             2
            ],
            "sizemode": "area",
            "sizeref": 0.125,
            "symbol": "circle"
           },
           "mode": "markers",
           "name": "BURGLARY",
           "orientation": "v",
           "showlegend": true,
           "type": "scatter",
           "x": [
            -87.66,
            -87.59
           ],
           "xaxis": "x",
           "y": [
            41.77,
            41.76
           ],
           "yaxis": "y"
          },
          {
           "hovertemplate": "Primary Type=NARCOTICS<br>t=8<br>Longitude=%{x}<br>Latitude=%{y}<br>size=%{marker.size}<extra></extra>",
           "legendgroup": "NARCOTICS",
           "marker": {
            "color": "#B6E880",
            "opacity": 0.5,
            "size": [
             2,
             2
            ],
            "sizemode": "area",
            "sizeref": 0.125,
            "symbol": "circle"
           },
           "mode": "markers",
           "name": "NARCOTICS",
           "orientation": "v",
           "showlegend": true,
           "type": "scatter",
           "x": [
            -87.72,
            -87.69
           ],
           "xaxis": "x",
           "y": [
            41.9,
            41.82
           ],
           "yaxis": "y"
          },
          {
           "hovertemplate": "Primary Type=DECEPTIVE PRACTICE<br>t=8<br>Longitude=%{x}<br>Latitude=%{y}<br>size=%{marker.size}<extra></extra>",
           "legendgroup": "DECEPTIVE PRACTICE",
           "marker": {
            "color": "#FF97FF",
            "opacity": 0.5,
            "size": [
             2,
             2,
             2
            ],
            "sizemode": "area",
            "sizeref": 0.125,
            "symbol": "circle"
           },
           "mode": "markers",
           "name": "DECEPTIVE PRACTICE",
           "orientation": "v",
           "showlegend": true,
           "type": "scatter",
           "x": [
            -87.65,
            -87.64,
            -87.63
           ],
           "xaxis": "x",
           "y": [
            41.9,
            41.92,
            41.88
           ],
           "yaxis": "y"
          }
         ],
         "name": "8"
        },
        {
         "data": [
          {
           "hovertemplate": "Primary Type=THEFT<br>t=9<br>Longitude=%{x}<br>Latitude=%{y}<br>size=%{marker.size}<extra></extra>",
           "legendgroup": "THEFT",
           "marker": {
            "color": "#636efa",
            "opacity": 0.5,
            "size": [
             2,
             2,
             2,
             2,
             2,
             2,
             2
            ],
            "sizemode": "area",
            "sizeref": 0.125,
            "symbol": "circle"
           },
           "mode": "markers",
           "name": "THEFT",
           "orientation": "v",
           "showlegend": true,
           "type": "scatter",
           "x": [
            -87.79,
            -87.76,
            -87.72,
            -87.71000000000001,
            -87.71000000000001,
            -87.66,
            -87.63
           ],
           "xaxis": "x",
           "y": [
            41.910000000000004,
            41.9,
            41.800000000000004,
            41.88,
            41.95,
            41.910000000000004,
            41.88
           ],
           "yaxis": "y"
          },
          {
           "hovertemplate": "Primary Type=BATTERY<br>t=9<br>Longitude=%{x}<br>Latitude=%{y}<br>size=%{marker.size}<extra></extra>",
           "legendgroup": "BATTERY",
           "marker": {
            "color": "#EF553B",
            "opacity": 0.5,
            "size": [
             2,
             2,
             4,
             2,
             2,
             2,
             2
            ],
            "sizemode": "area",
            "sizeref": 0.125,
            "symbol": "circle"
           },
           "mode": "markers",
           "name": "BATTERY",
           "orientation": "v",
           "showlegend": true,
           "type": "scatter",
           "x": [
            -87.78,
            -87.73,
            -87.69,
            -87.66,
            -87.65,
            -87.64,
            -87.59
           ],
           "xaxis": "x",
           "y": [
            41.93,
            41.94,
            41.800000000000004,
            41.83,
            41.93,
            41.88,
            41.76
           ],
           "yaxis": "y"
          },
          {
           "hovertemplate": "Primary Type=CRIMINAL DAMAGE<br>t=9<br>Longitude=%{x}<br>Latitude=%{y}<br>size=%{marker.size}<extra></extra>",
           "legendgroup": "CRIMINAL DAMAGE",
           "marker": {
            "color": "#00cc96",
            "opacity": 0.5,
            "size": [
             2,
             2,
             2,
             2,
             2
            ],
            "sizemode": "area",
            "sizeref": 0.125,
            "symbol": "circle"
           },
           "mode": "markers",
           "name": "CRIMINAL DAMAGE",
           "orientation": "v",
           "showlegend": true,
           "type": "scatter",
           "x": [
            -87.78,
            -87.73,
            -87.72,
            -87.67,
            -87.65
           ],
           "xaxis": "x",
           "y": [
            41.93,
            41.910000000000004,
            41.92,
            41.77,
            41.94
           ],
           "yaxis": "y"
          },
          {
           "hovertemplate": "Primary Type=ASSAULT<br>t=9<br>Longitude=%{x}<br>Latitude=%{y}<br>size=%{marker.size}<extra></extra>",
           "legendgroup": "ASSAULT",
           "marker": {
            "color": "#ab63fa",
            "opacity": 0.5,
            "size": [
             2,
             2,
             2
            ],
            "sizemode": "area",
            "sizeref": 0.125,
            "symbol": "circle"
           },
           "mode": "markers",
           "name": "ASSAULT",
           "orientation": "v",
           "showlegend": true,
           "type": "scatter",
           "x": [
            -87.65,
            -87.65,
            -87.64
           ],
           "xaxis": "x",
           "y": [
            41.910000000000004,
            41.95,
            41.75
           ],
           "yaxis": "y"
          },
          {
           "hovertemplate": "Primary Type=BURGLARY<br>t=9<br>Longitude=%{x}<br>Latitude=%{y}<br>size=%{marker.size}<extra></extra>",
           "legendgroup": "BURGLARY",
           "marker": {
            "color": "#19d3f3",
            "opacity": 0.5,
            "size": [
             2,
             2
            ],
            "sizemode": "area",
            "sizeref": 0.125,
            "symbol": "circle"
           },
           "mode": "markers",
           "name": "BURGLARY",
           "orientation": "v",
           "showlegend": true,
           "type": "scatter",
           "x": [
            -87.64,
            -87.63
           ],
           "xaxis": "x",
           "y": [
            41.69,
            41.82
           ],
           "yaxis": "y"
          },
          {
           "hovertemplate": "Primary Type=MOTOR VEHICLE THEFT<br>t=9<br>Longitude=%{x}<br>Latitude=%{y}<br>size=%{marker.size}<extra></extra>",
           "legendgroup": "MOTOR VEHICLE THEFT",
           "marker": {
            "color": "#FF6692",
            "opacity": 0.5,
            "size": [
             2,
             2
            ],
            "sizemode": "area",
            "sizeref": 0.125,
            "symbol": "circle"
           },
           "mode": "markers",
           "name": "MOTOR VEHICLE THEFT",
           "orientation": "v",
           "showlegend": true,
           "type": "scatter",
           "x": [
            -87.69,
            -87.64
           ],
           "xaxis": "x",
           "y": [
            41.71,
            41.84
           ],
           "yaxis": "y"
          },
          {
           "hovertemplate": "Primary Type=NARCOTICS<br>t=9<br>Longitude=%{x}<br>Latitude=%{y}<br>size=%{marker.size}<extra></extra>",
           "legendgroup": "NARCOTICS",
           "marker": {
            "color": "#B6E880",
            "opacity": 0.5,
            "size": [
             2,
             2
            ],
            "sizemode": "area",
            "sizeref": 0.125,
            "symbol": "circle"
           },
           "mode": "markers",
           "name": "NARCOTICS",
           "orientation": "v",
           "showlegend": true,
           "type": "scatter",
           "x": [
            -87.74,
            -87.63
           ],
           "xaxis": "x",
           "y": [
            41.87,
            41.88
           ],
           "yaxis": "y"
          }
         ],
         "name": "9"
        },
        {
         "data": [
          {
           "hovertemplate": "Primary Type=THEFT<br>t=10<br>Longitude=%{x}<br>Latitude=%{y}<br>size=%{marker.size}<extra></extra>",
           "legendgroup": "THEFT",
           "marker": {
            "color": "#636efa",
            "opacity": 0.5,
            "size": [
             2,
             2,
             2,
             2,
             2,
             2,
             2,
             2,
             2,
             2,
             2,
             2,
             2,
             2,
             2,
             2,
             2,
             2,
             2,
             6,
             2
            ],
            "sizemode": "area",
            "sizeref": 0.125,
            "symbol": "circle"
           },
           "mode": "markers",
           "name": "THEFT",
           "orientation": "v",
           "showlegend": true,
           "type": "scatter",
           "x": [
            -87.78,
            -87.77,
            -87.75,
            -87.73,
            -87.7,
            -87.7,
            -87.69,
            -87.69,
            -87.69,
            -87.67,
            -87.67,
            -87.66,
            -87.65,
            -87.65,
            -87.65,
            -87.64,
            -87.64,
            -87.63,
            -87.63,
            -87.63,
            -87.59
           ],
           "xaxis": "x",
           "y": [
            41.94,
            41.87,
            41.78,
            41.84,
            41.71,
            41.92,
            41.67,
            41.9,
            41.92,
            41.81,
            41.9,
            41.97,
            41.76,
            41.77,
            41.94,
            41.76,
            41.89,
            41.76,
            41.77,
            41.88,
            41.79
           ],
           "yaxis": "y"
          },
          {
           "hovertemplate": "Primary Type=BATTERY<br>t=10<br>Longitude=%{x}<br>Latitude=%{y}<br>size=%{marker.size}<extra></extra>",
           "legendgroup": "BATTERY",
           "marker": {
            "color": "#EF553B",
            "opacity": 0.5,
            "size": [
             2,
             2,
             2,
             2,
             2,
             2,
             2,
             2,
             2,
             2
            ],
            "sizemode": "area",
            "sizeref": 0.125,
            "symbol": "circle"
           },
           "mode": "markers",
           "name": "BATTERY",
           "orientation": "v",
           "showlegend": true,
           "type": "scatter",
           "x": [
            -87.77,
            -87.76,
            -87.73,
            -87.72,
            -87.69,
            -87.67,
            -87.65,
            -87.63,
            -87.62,
            -87.61
           ],
           "xaxis": "x",
           "y": [
            41.93,
            41.87,
            41.9,
            41.85,
            42,
            41.76,
            41.87,
            41.89,
            41.77,
            41.72
           ],
           "yaxis": "y"
          },
          {
           "hovertemplate": "Primary Type=CRIMINAL DAMAGE<br>t=10<br>Longitude=%{x}<br>Latitude=%{y}<br>size=%{marker.size}<extra></extra>",
           "legendgroup": "CRIMINAL DAMAGE",
           "marker": {
            "color": "#00cc96",
            "opacity": 0.5,
            "size": [
             2,
             2,
             2,
             2,
             2,
             2,
             2,
             2,
             2,
             2,
             2,
             2,
             2
            ],
            "sizemode": "area",
            "sizeref": 0.125,
            "symbol": "circle"
           },
           "mode": "markers",
           "name": "CRIMINAL DAMAGE",
           "orientation": "v",
           "showlegend": true,
           "type": "scatter",
           "x": [
            -87.82000000000001,
            -87.77,
            -87.76,
            -87.73,
            -87.71000000000001,
            -87.7,
            -87.69,
            -87.69,
            -87.69,
            -87.69,
            -87.63,
            -87.62,
            -87.58
           ],
           "xaxis": "x",
           "y": [
            41.94,
            41.93,
            41.9,
            41.97,
            41.84,
            41.96,
            41.7,
            41.78,
            41.85,
            42,
            41.78,
            41.75,
            41.72
           ],
           "yaxis": "y"
          },
          {
           "hovertemplate": "Primary Type=ASSAULT<br>t=10<br>Longitude=%{x}<br>Latitude=%{y}<br>size=%{marker.size}<extra></extra>",
           "legendgroup": "ASSAULT",
           "marker": {
            "color": "#ab63fa",
            "opacity": 0.5,
            "size": [
             2,
             2,
             2,
             2,
             2,
             2,
             2,
             2,
             2
            ],
            "sizemode": "area",
            "sizeref": 0.125,
            "symbol": "circle"
           },
           "mode": "markers",
           "name": "ASSAULT",
           "orientation": "v",
           "showlegend": true,
           "type": "scatter",
           "x": [
            -87.78,
            -87.77,
            -87.72,
            -87.7,
            -87.65,
            -87.65,
            -87.64,
            -87.63,
            -87.58
           ],
           "xaxis": "x",
           "y": [
            41.92,
            41.88,
            41.86,
            41.77,
            41.81,
            41.87,
            41.89,
            41.71,
            41.76
           ],
           "yaxis": "y"
          },
          {
           "hovertemplate": "Primary Type=OTHER OFFENSE<br>t=10<br>Longitude=%{x}<br>Latitude=%{y}<br>size=%{marker.size}<extra></extra>",
           "legendgroup": "OTHER OFFENSE",
           "marker": {
            "color": "#FFA15A",
            "opacity": 0.5,
            "size": [
             2,
             2,
             2,
             2,
             4,
             2,
             2,
             2,
             2
            ],
            "sizemode": "area",
            "sizeref": 0.125,
            "symbol": "circle"
           },
           "mode": "markers",
           "name": "OTHER OFFENSE",
           "orientation": "v",
           "showlegend": true,
           "type": "scatter",
           "x": [
            -87.68,
            -87.67,
            -87.67,
            -87.67,
            -87.67,
            -87.63,
            -87.61,
            -87.61,
            -87.59
           ],
           "xaxis": "x",
           "y": [
            41.78,
            41.71,
            41.72,
            41.75,
            41.78,
            41.88,
            41.71,
            41.81,
            41.74
           ],
           "yaxis": "y"
          },
          {
           "hovertemplate": "Primary Type=BURGLARY<br>t=10<br>Longitude=%{x}<br>Latitude=%{y}<br>size=%{marker.size}<extra></extra>",
           "legendgroup": "BURGLARY",
           "marker": {
            "color": "#19d3f3",
            "opacity": 0.5,
            "size": [
             2,
             2,
             2
            ],
            "sizemode": "area",
            "sizeref": 0.125,
            "symbol": "circle"
           },
           "mode": "markers",
           "name": "BURGLARY",
           "orientation": "v",
           "showlegend": true,
           "type": "scatter",
           "x": [
            -87.75,
            -87.74,
            -87.67
           ],
           "xaxis": "x",
           "y": [
            41.87,
            41.88,
            41.89
           ],
           "yaxis": "y"
          },
          {
           "hovertemplate": "Primary Type=MOTOR VEHICLE THEFT<br>t=10<br>Longitude=%{x}<br>Latitude=%{y}<br>size=%{marker.size}<extra></extra>",
           "legendgroup": "MOTOR VEHICLE THEFT",
           "marker": {
            "color": "#FF6692",
            "opacity": 0.5,
            "size": [
             2,
             2,
             2,
             2,
             2
            ],
            "sizemode": "area",
            "sizeref": 0.125,
            "symbol": "circle"
           },
           "mode": "markers",
           "name": "MOTOR VEHICLE THEFT",
           "orientation": "v",
           "showlegend": true,
           "type": "scatter",
           "x": [
            -87.75,
            -87.72,
            -87.67,
            -87.64,
            -87.58
           ],
           "xaxis": "x",
           "y": [
            41.87,
            41.93,
            41.82,
            41.75,
            41.76
           ],
           "yaxis": "y"
          },
          {
           "hovertemplate": "Primary Type=NARCOTICS<br>t=10<br>Longitude=%{x}<br>Latitude=%{y}<br>size=%{marker.size}<extra></extra>",
           "legendgroup": "NARCOTICS",
           "marker": {
            "color": "#B6E880",
            "opacity": 0.5,
            "size": [
             2,
             2
            ],
            "sizemode": "area",
            "sizeref": 0.125,
            "symbol": "circle"
           },
           "mode": "markers",
           "name": "NARCOTICS",
           "orientation": "v",
           "showlegend": true,
           "type": "scatter",
           "x": [
            -87.72,
            -87.71000000000001
           ],
           "xaxis": "x",
           "y": [
            41.85,
            41.88
           ],
           "yaxis": "y"
          },
          {
           "hovertemplate": "Primary Type=DECEPTIVE PRACTICE<br>t=10<br>Longitude=%{x}<br>Latitude=%{y}<br>size=%{marker.size}<extra></extra>",
           "legendgroup": "DECEPTIVE PRACTICE",
           "marker": {
            "color": "#FF97FF",
            "opacity": 0.5,
            "size": [
             2,
             2,
             2
            ],
            "sizemode": "area",
            "sizeref": 0.125,
            "symbol": "circle"
           },
           "mode": "markers",
           "name": "DECEPTIVE PRACTICE",
           "orientation": "v",
           "showlegend": true,
           "type": "scatter",
           "x": [
            -87.76,
            -87.67,
            -87.56
           ],
           "xaxis": "x",
           "y": [
            41.93,
            41.980000000000004,
            41.76
           ],
           "yaxis": "y"
          }
         ],
         "name": "10"
        },
        {
         "data": [
          {
           "hovertemplate": "Primary Type=THEFT<br>t=11<br>Longitude=%{x}<br>Latitude=%{y}<br>size=%{marker.size}<extra></extra>",
           "legendgroup": "THEFT",
           "marker": {
            "color": "#636efa",
            "opacity": 0.5,
            "size": [
             2,
             2,
             2,
             2,
             2,
             2,
             2,
             2,
             2,
             2,
             2,
             2,
             2,
             4,
             2,
             2,
             2,
             2,
             2,
             4,
             2,
             2,
             2,
             2,
             4,
             2,
             2,
             2,
             4,
             2
            ],
            "sizemode": "area",
            "sizeref": 0.125,
            "symbol": "circle"
           },
           "mode": "markers",
           "name": "THEFT",
           "orientation": "v",
           "showlegend": true,
           "type": "scatter",
           "x": [
            -87.79,
            -87.78,
            -87.77,
            -87.76,
            -87.75,
            -87.74,
            -87.74,
            -87.73,
            -87.73,
            -87.72,
            -87.71000000000001,
            -87.68,
            -87.68,
            -87.67,
            -87.67,
            -87.66,
            -87.66,
            -87.65,
            -87.65,
            -87.65,
            -87.65,
            -87.64,
            -87.63,
            -87.63,
            -87.63,
            -87.62,
            -87.62,
            -87.61,
            -87.60000000000001,
            -87.59
           ],
           "xaxis": "x",
           "y": [
            41.910000000000004,
            41.89,
            41.78,
            41.87,
            41.95,
            41.9,
            41.910000000000004,
            41.89,
            41.96,
            41.910000000000004,
            41.89,
            41.99,
            42,
            41.72,
            42,
            41.67,
            41.96,
            41.83,
            41.89,
            41.9,
            41.910000000000004,
            41.87,
            41.87,
            41.88,
            41.89,
            41.67,
            41.74,
            41.81,
            41.79,
            41.79
           ],
           "yaxis": "y"
          },
          {
           "hovertemplate": "Primary Type=BATTERY<br>t=11<br>Longitude=%{x}<br>Latitude=%{y}<br>size=%{marker.size}<extra></extra>",
           "legendgroup": "BATTERY",
           "marker": {
            "color": "#EF553B",
            "opacity": 0.5,
            "size": [
             2,
             2,
             2,
             4,
             2,
             2,
             2,
             2,
             2,
             2,
             2,
             2,
             2,
             2,
             2,
             2,
             2,
             2
            ],
            "sizemode": "area",
            "sizeref": 0.125,
            "symbol": "circle"
           },
           "mode": "markers",
           "name": "BATTERY",
           "orientation": "v",
           "showlegend": true,
           "type": "scatter",
           "x": [
            -87.78,
            -87.74,
            -87.73,
            -87.73,
            -87.71000000000001,
            -87.7,
            -87.69,
            -87.66,
            -87.66,
            -87.65,
            -87.64,
            -87.64,
            -87.63,
            -87.63,
            -87.62,
            -87.61,
            -87.61,
            -87.56
           ],
           "xaxis": "x",
           "y": [
            41.92,
            41.88,
            41.89,
            41.9,
            41.910000000000004,
            42,
            41.85,
            41.79,
            41.88,
            41.75,
            41.7,
            41.76,
            41.82,
            41.83,
            41.77,
            41.65,
            41.76,
            41.74
           ],
           "yaxis": "y"
          },
          {
           "hovertemplate": "Primary Type=CRIMINAL DAMAGE<br>t=11<br>Longitude=%{x}<br>Latitude=%{y}<br>size=%{marker.size}<extra></extra>",
           "legendgroup": "CRIMINAL DAMAGE",
           "marker": {
            "color": "#00cc96",
            "opacity": 0.5,
            "size": [
             2,
             2,
             2,
             2,
             2,
             2,
             2,
             2,
             2
            ],
            "sizemode": "area",
            "sizeref": 0.125,
            "symbol": "circle"
           },
           "mode": "markers",
           "name": "CRIMINAL DAMAGE",
           "orientation": "v",
           "showlegend": true,
           "type": "scatter",
           "x": [
            -87.75,
            -87.73,
            -87.73,
            -87.7,
            -87.68,
            -87.67,
            -87.60000000000001,
            -87.60000000000001,
            -87.57000000000001
           ],
           "xaxis": "x",
           "y": [
            41.94,
            41.800000000000004,
            41.94,
            41.96,
            41.910000000000004,
            41.72,
            41.69,
            41.75,
            41.74
           ],
           "yaxis": "y"
          },
          {
           "hovertemplate": "Primary Type=ASSAULT<br>t=11<br>Longitude=%{x}<br>Latitude=%{y}<br>size=%{marker.size}<extra></extra>",
           "legendgroup": "ASSAULT",
           "marker": {
            "color": "#ab63fa",
            "opacity": 0.5,
            "size": [
             2,
             2,
             2,
             2,
             2,
             2
            ],
            "sizemode": "area",
            "sizeref": 0.125,
            "symbol": "circle"
           },
           "mode": "markers",
           "name": "ASSAULT",
           "orientation": "v",
           "showlegend": true,
           "type": "scatter",
           "x": [
            -87.71000000000001,
            -87.68,
            -87.67,
            -87.66,
            -87.65,
            -87.62
           ],
           "xaxis": "x",
           "y": [
            41.86,
            41.85,
            41.72,
            41.96,
            41.84,
            41.89
           ],
           "yaxis": "y"
          },
          {
           "hovertemplate": "Primary Type=OTHER OFFENSE<br>t=11<br>Longitude=%{x}<br>Latitude=%{y}<br>size=%{marker.size}<extra></extra>",
           "legendgroup": "OTHER OFFENSE",
           "marker": {
            "color": "#FFA15A",
            "opacity": 0.5,
            "size": [
             2,
             2,
             2,
             2,
             2,
             2,
             2,
             2,
             2,
             2,
             2,
             2,
             2,
             2,
             2,
             2,
             2,
             2
            ],
            "sizemode": "area",
            "sizeref": 0.125,
            "symbol": "circle"
           },
           "mode": "markers",
           "name": "OTHER OFFENSE",
           "orientation": "v",
           "showlegend": true,
           "type": "scatter",
           "x": [
            -87.77,
            -87.76,
            -87.73,
            -87.7,
            -87.68,
            -87.68,
            -87.67,
            -87.67,
            -87.67,
            -87.67,
            -87.66,
            -87.66,
            -87.66,
            -87.63,
            -87.62,
            -87.62,
            -87.60000000000001,
            -87.57000000000001
           ],
           "xaxis": "x",
           "y": [
            41.910000000000004,
            41.9,
            41.88,
            41.910000000000004,
            41.72,
            41.85,
            41.69,
            41.7,
            41.75,
            41.93,
            41.72,
            41.75,
            41.87,
            41.68,
            41.78,
            41.82,
            41.77,
            41.75
           ],
           "yaxis": "y"
          },
          {
           "hovertemplate": "Primary Type=BURGLARY<br>t=11<br>Longitude=%{x}<br>Latitude=%{y}<br>size=%{marker.size}<extra></extra>",
           "legendgroup": "BURGLARY",
           "marker": {
            "color": "#19d3f3",
            "opacity": 0.5,
            "size": [
             2,
             2,
             2,
             2
            ],
            "sizemode": "area",
            "sizeref": 0.125,
            "symbol": "circle"
           },
           "mode": "markers",
           "name": "BURGLARY",
           "orientation": "v",
           "showlegend": true,
           "type": "scatter",
           "x": [
            -87.79,
            -87.69,
            -87.65,
            -87.58
           ],
           "xaxis": "x",
           "y": [
            41.910000000000004,
            41.7,
            41.76,
            41.77
           ],
           "yaxis": "y"
          },
          {
           "hovertemplate": "Primary Type=MOTOR VEHICLE THEFT<br>t=11<br>Longitude=%{x}<br>Latitude=%{y}<br>size=%{marker.size}<extra></extra>",
           "legendgroup": "MOTOR VEHICLE THEFT",
           "marker": {
            "color": "#FF6692",
            "opacity": 0.5,
            "size": [
             2,
             2
            ],
            "sizemode": "area",
            "sizeref": 0.125,
            "symbol": "circle"
           },
           "mode": "markers",
           "name": "MOTOR VEHICLE THEFT",
           "orientation": "v",
           "showlegend": true,
           "type": "scatter",
           "x": [
            -87.65,
            -87.63
           ],
           "xaxis": "x",
           "y": [
            41.68,
            41.79
           ],
           "yaxis": "y"
          },
          {
           "hovertemplate": "Primary Type=NARCOTICS<br>t=11<br>Longitude=%{x}<br>Latitude=%{y}<br>size=%{marker.size}<extra></extra>",
           "legendgroup": "NARCOTICS",
           "marker": {
            "color": "#B6E880",
            "opacity": 0.5,
            "size": [
             2,
             2,
             2,
             2,
             2,
             2,
             2,
             2,
             2,
             2,
             2
            ],
            "sizemode": "area",
            "sizeref": 0.125,
            "symbol": "circle"
           },
           "mode": "markers",
           "name": "NARCOTICS",
           "orientation": "v",
           "showlegend": true,
           "type": "scatter",
           "x": [
            -87.76,
            -87.75,
            -87.74,
            -87.73,
            -87.73,
            -87.73,
            -87.72,
            -87.71000000000001,
            -87.67,
            -87.66,
            -87.65
           ],
           "xaxis": "x",
           "y": [
            41.88,
            41.87,
            41.86,
            41.88,
            41.89,
            41.9,
            41.86,
            41.910000000000004,
            41.800000000000004,
            41.74,
            41.75
           ],
           "yaxis": "y"
          },
          {
           "hovertemplate": "Primary Type=DECEPTIVE PRACTICE<br>t=11<br>Longitude=%{x}<br>Latitude=%{y}<br>size=%{marker.size}<extra></extra>",
           "legendgroup": "DECEPTIVE PRACTICE",
           "marker": {
            "color": "#FF97FF",
            "opacity": 0.5,
            "size": [
             2,
             2,
             2,
             2,
             2,
             2,
             2,
             4,
             2,
             2,
             2
            ],
            "sizemode": "area",
            "sizeref": 0.125,
            "symbol": "circle"
           },
           "mode": "markers",
           "name": "DECEPTIVE PRACTICE",
           "orientation": "v",
           "showlegend": true,
           "type": "scatter",
           "x": [
            -87.79,
            -87.75,
            -87.74,
            -87.71000000000001,
            -87.71000000000001,
            -87.68,
            -87.67,
            -87.67,
            -87.65,
            -87.64,
            -87.64
           ],
           "xaxis": "x",
           "y": [
            41.92,
            41.87,
            41.85,
            41.79,
            41.910000000000004,
            42,
            41.86,
            41.99,
            41.77,
            41.85,
            41.87
           ],
           "yaxis": "y"
          }
         ],
         "name": "11"
        },
        {
         "data": [
          {
           "hovertemplate": "Primary Type=THEFT<br>t=12<br>Longitude=%{x}<br>Latitude=%{y}<br>size=%{marker.size}<extra></extra>",
           "legendgroup": "THEFT",
           "marker": {
            "color": "#636efa",
            "opacity": 0.5,
            "size": [
             2,
             2,
             2,
             2,
             2,
             2,
             2,
             2,
             2,
             2,
             2,
             2,
             2,
             2,
             2,
             2,
             2,
             2,
             2,
             6,
             8,
             4,
             2,
             2,
             2,
             2,
             2
            ],
            "sizemode": "area",
            "sizeref": 0.125,
            "symbol": "circle"
           },
           "mode": "markers",
           "name": "THEFT",
           "orientation": "v",
           "showlegend": true,
           "type": "scatter",
           "x": [
            -87.77,
            -87.75,
            -87.73,
            -87.73,
            -87.73,
            -87.73,
            -87.71000000000001,
            -87.7,
            -87.68,
            -87.68,
            -87.68,
            -87.68,
            -87.67,
            -87.67,
            -87.66,
            -87.65,
            -87.65,
            -87.65,
            -87.65,
            -87.64,
            -87.63,
            -87.63,
            -87.62,
            -87.61,
            -87.61,
            -87.60000000000001,
            -87.57000000000001
           ],
           "xaxis": "x",
           "y": [
            41.95,
            41.79,
            41.76,
            41.79,
            41.93,
            41.97,
            41.87,
            41.89,
            41.85,
            41.9,
            41.910000000000004,
            42.01,
            41.68,
            41.800000000000004,
            41.82,
            41.7,
            41.800000000000004,
            41.86,
            41.92,
            41.86,
            41.88,
            41.89,
            41.82,
            41.77,
            41.82,
            41.800000000000004,
            41.71
           ],
           "yaxis": "y"
          },
          {
           "hovertemplate": "Primary Type=BATTERY<br>t=12<br>Longitude=%{x}<br>Latitude=%{y}<br>size=%{marker.size}<extra></extra>",
           "legendgroup": "BATTERY",
           "marker": {
            "color": "#EF553B",
            "opacity": 0.5,
            "size": [
             2,
             2,
             2,
             2,
             2,
             2,
             2,
             2,
             2,
             2,
             2,
             2,
             2,
             2,
             2,
             2,
             4,
             2,
             2,
             2
            ],
            "sizemode": "area",
            "sizeref": 0.125,
            "symbol": "circle"
           },
           "mode": "markers",
           "name": "BATTERY",
           "orientation": "v",
           "showlegend": true,
           "type": "scatter",
           "x": [
            -87.78,
            -87.77,
            -87.72,
            -87.72,
            -87.72,
            -87.68,
            -87.67,
            -87.65,
            -87.65,
            -87.65,
            -87.65,
            -87.65,
            -87.65,
            -87.64,
            -87.64,
            -87.63,
            -87.63,
            -87.61,
            -87.61,
            -87.57000000000001
           ],
           "xaxis": "x",
           "y": [
            41.89,
            41.9,
            41.88,
            41.89,
            41.96,
            41.800000000000004,
            41.96,
            41.71,
            41.77,
            41.78,
            41.85,
            41.87,
            41.9,
            41.7,
            41.9,
            41.83,
            41.87,
            41.68,
            41.79,
            41.75
           ],
           "yaxis": "y"
          },
          {
           "hovertemplate": "Primary Type=CRIMINAL DAMAGE<br>t=12<br>Longitude=%{x}<br>Latitude=%{y}<br>size=%{marker.size}<extra></extra>",
           "legendgroup": "CRIMINAL DAMAGE",
           "marker": {
            "color": "#00cc96",
            "opacity": 0.5,
            "size": [
             2,
             2,
             2,
             2
            ],
            "sizemode": "area",
            "sizeref": 0.125,
            "symbol": "circle"
           },
           "mode": "markers",
           "name": "CRIMINAL DAMAGE",
           "orientation": "v",
           "showlegend": true,
           "type": "scatter",
           "x": [
            -87.75,
            -87.65,
            -87.65,
            -87.59
           ],
           "xaxis": "x",
           "y": [
            41.95,
            41.75,
            41.93,
            41.75
           ],
           "yaxis": "y"
          },
          {
           "hovertemplate": "Primary Type=ASSAULT<br>t=12<br>Longitude=%{x}<br>Latitude=%{y}<br>size=%{marker.size}<extra></extra>",
           "legendgroup": "ASSAULT",
           "marker": {
            "color": "#ab63fa",
            "opacity": 0.5,
            "size": [
             2,
             2,
             2,
             2,
             2,
             2,
             2,
             2,
             2,
             2,
             2,
             2,
             4,
             2,
             2,
             2,
             2
            ],
            "sizemode": "area",
            "sizeref": 0.125,
            "symbol": "circle"
           },
           "mode": "markers",
           "name": "ASSAULT",
           "orientation": "v",
           "showlegend": true,
           "type": "scatter",
           "x": [
            -87.78,
            -87.78,
            -87.76,
            -87.71000000000001,
            -87.7,
            -87.67,
            -87.66,
            -87.65,
            -87.65,
            -87.65,
            -87.64,
            -87.64,
            -87.64,
            -87.62,
            -87.61,
            -87.60000000000001,
            -87.57000000000001
           ],
           "xaxis": "x",
           "y": [
            41.79,
            41.94,
            41.92,
            41.83,
            41.77,
            41.77,
            41.86,
            41.68,
            41.75,
            41.94,
            41.77,
            41.83,
            41.9,
            41.82,
            41.78,
            41.75,
            41.75
           ],
           "yaxis": "y"
          },
          {
           "hovertemplate": "Primary Type=OTHER OFFENSE<br>t=12<br>Longitude=%{x}<br>Latitude=%{y}<br>size=%{marker.size}<extra></extra>",
           "legendgroup": "OTHER OFFENSE",
           "marker": {
            "color": "#FFA15A",
            "opacity": 0.5,
            "size": [
             2,
             2,
             2,
             2,
             2,
             2,
             2,
             2,
             2,
             4,
             2
            ],
            "sizemode": "area",
            "sizeref": 0.125,
            "symbol": "circle"
           },
           "mode": "markers",
           "name": "OTHER OFFENSE",
           "orientation": "v",
           "showlegend": true,
           "type": "scatter",
           "x": [
            -87.79,
            -87.74,
            -87.71000000000001,
            -87.68,
            -87.68,
            -87.67,
            -87.67,
            -87.66,
            -87.63,
            -87.59,
            -87.57000000000001
           ],
           "xaxis": "x",
           "y": [
            41.96,
            41.88,
            41.96,
            41.82,
            41.86,
            41.76,
            41.97,
            41.75,
            41.88,
            41.75,
            41.76
           ],
           "yaxis": "y"
          },
          {
           "hovertemplate": "Primary Type=BURGLARY<br>t=12<br>Longitude=%{x}<br>Latitude=%{y}<br>size=%{marker.size}<extra></extra>",
           "legendgroup": "BURGLARY",
           "marker": {
            "color": "#19d3f3",
            "opacity": 0.5,
            "size": [
             2,
             2,
             2,
             2
            ],
            "sizemode": "area",
            "sizeref": 0.125,
            "symbol": "circle"
           },
           "mode": "markers",
           "name": "BURGLARY",
           "orientation": "v",
           "showlegend": true,
           "type": "scatter",
           "x": [
            -87.78,
            -87.66,
            -87.64,
            -87.57000000000001
           ],
           "xaxis": "x",
           "y": [
            41.92,
            41.92,
            41.67,
            41.75
           ],
           "yaxis": "y"
          },
          {
           "hovertemplate": "Primary Type=MOTOR VEHICLE THEFT<br>t=12<br>Longitude=%{x}<br>Latitude=%{y}<br>size=%{marker.size}<extra></extra>",
           "legendgroup": "MOTOR VEHICLE THEFT",
           "marker": {
            "color": "#FF6692",
            "opacity": 0.5,
            "size": [
             2,
             2,
             2,
             2,
             2,
             2,
             2
            ],
            "sizemode": "area",
            "sizeref": 0.125,
            "symbol": "circle"
           },
           "mode": "markers",
           "name": "MOTOR VEHICLE THEFT",
           "orientation": "v",
           "showlegend": true,
           "type": "scatter",
           "x": [
            -87.71000000000001,
            -87.69,
            -87.68,
            -87.63,
            -87.63,
            -87.63,
            -87.61
           ],
           "xaxis": "x",
           "y": [
            41.87,
            41.9,
            41.88,
            41.74,
            41.76,
            41.89,
            41.79
           ],
           "yaxis": "y"
          },
          {
           "hovertemplate": "Primary Type=NARCOTICS<br>t=12<br>Longitude=%{x}<br>Latitude=%{y}<br>size=%{marker.size}<extra></extra>",
           "legendgroup": "NARCOTICS",
           "marker": {
            "color": "#B6E880",
            "opacity": 0.5,
            "size": [
             2,
             2,
             2,
             2,
             2,
             2,
             2,
             2,
             2
            ],
            "sizemode": "area",
            "sizeref": 0.125,
            "symbol": "circle"
           },
           "mode": "markers",
           "name": "NARCOTICS",
           "orientation": "v",
           "showlegend": true,
           "type": "scatter",
           "x": [
            -87.76,
            -87.74,
            -87.73,
            -87.69,
            -87.66,
            -87.65,
            -87.62,
            -87.61,
            -87.59
           ],
           "xaxis": "x",
           "y": [
            41.88,
            41.910000000000004,
            41.88,
            41.74,
            41.96,
            41.74,
            41.75,
            41.81,
            41.730000000000004
           ],
           "yaxis": "y"
          },
          {
           "hovertemplate": "Primary Type=DECEPTIVE PRACTICE<br>t=12<br>Longitude=%{x}<br>Latitude=%{y}<br>size=%{marker.size}<extra></extra>",
           "legendgroup": "DECEPTIVE PRACTICE",
           "marker": {
            "color": "#FF97FF",
            "opacity": 0.5,
            "size": [
             2,
             2,
             2,
             2,
             2,
             2,
             2,
             2,
             2,
             2
            ],
            "sizemode": "area",
            "sizeref": 0.125,
            "symbol": "circle"
           },
           "mode": "markers",
           "name": "DECEPTIVE PRACTICE",
           "orientation": "v",
           "showlegend": true,
           "type": "scatter",
           "x": [
            -87.75,
            -87.73,
            -87.72,
            -87.67,
            -87.66,
            -87.65,
            -87.65,
            -87.64,
            -87.63,
            -87.58
           ],
           "xaxis": "x",
           "y": [
            41.74,
            41.87,
            41.95,
            41.96,
            41.980000000000004,
            41.7,
            41.88,
            41.92,
            41.88,
            41.77
           ],
           "yaxis": "y"
          }
         ],
         "name": "12"
        },
        {
         "data": [
          {
           "hovertemplate": "Primary Type=THEFT<br>t=13<br>Longitude=%{x}<br>Latitude=%{y}<br>size=%{marker.size}<extra></extra>",
           "legendgroup": "THEFT",
           "marker": {
            "color": "#636efa",
            "opacity": 0.5,
            "size": [
             4,
             2,
             4,
             2,
             4,
             2,
             2,
             2,
             4,
             2,
             2,
             2,
             2,
             2,
             2,
             2,
             2,
             2,
             2,
             4,
             2,
             2,
             2,
             2,
             2,
             2,
             4,
             2,
             2,
             2,
             2,
             2
            ],
            "sizemode": "area",
            "sizeref": 0.125,
            "symbol": "circle"
           },
           "mode": "markers",
           "name": "THEFT",
           "orientation": "v",
           "showlegend": true,
           "type": "scatter",
           "x": [
            -87.91,
            -87.77,
            -87.76,
            -87.75,
            -87.75,
            -87.75,
            -87.73,
            -87.73,
            -87.71000000000001,
            -87.71000000000001,
            -87.71000000000001,
            -87.7,
            -87.69,
            -87.69,
            -87.67,
            -87.67,
            -87.66,
            -87.66,
            -87.65,
            -87.65,
            -87.65,
            -87.65,
            -87.64,
            -87.64,
            -87.64,
            -87.63,
            -87.63,
            -87.63,
            -87.61,
            -87.60000000000001,
            -87.60000000000001,
            -87.59
           ],
           "xaxis": "x",
           "y": [
            41.97,
            41.9,
            41.88,
            41.79,
            41.9,
            41.93,
            41.81,
            41.93,
            41.79,
            41.84,
            41.9,
            41.88,
            41.92,
            41.980000000000004,
            41.7,
            41.9,
            41.92,
            41.95,
            41.69,
            41.800000000000004,
            41.9,
            41.92,
            41.89,
            41.9,
            41.910000000000004,
            41.86,
            41.88,
            41.89,
            41.75,
            41.69,
            41.74,
            41.72
           ],
           "yaxis": "y"
          },
          {
           "hovertemplate": "Primary Type=BATTERY<br>t=13<br>Longitude=%{x}<br>Latitude=%{y}<br>size=%{marker.size}<extra></extra>",
           "legendgroup": "BATTERY",
           "marker": {
            "color": "#EF553B",
            "opacity": 0.5,
            "size": [
             2,
             2,
             2,
             2,
             2,
             2,
             2,
             2,
             2,
             2,
             2,
             2,
             2,
             2,
             2
            ],
            "sizemode": "area",
            "sizeref": 0.125,
            "symbol": "circle"
           },
           "mode": "markers",
           "name": "BATTERY",
           "orientation": "v",
           "showlegend": true,
           "type": "scatter",
           "x": [
            -87.77,
            -87.77,
            -87.77,
            -87.76,
            -87.76,
            -87.73,
            -87.71000000000001,
            -87.69,
            -87.66,
            -87.65,
            -87.64,
            -87.62,
            -87.61,
            -87.59,
            -87.57000000000001
           ],
           "xaxis": "x",
           "y": [
            41.88,
            41.89,
            41.92,
            41.87,
            41.93,
            41.76,
            41.69,
            41.77,
            41.99,
            41.94,
            41.89,
            41.75,
            41.72,
            41.730000000000004,
            41.75
           ],
           "yaxis": "y"
          },
          {
           "hovertemplate": "Primary Type=CRIMINAL DAMAGE<br>t=13<br>Longitude=%{x}<br>Latitude=%{y}<br>size=%{marker.size}<extra></extra>",
           "legendgroup": "CRIMINAL DAMAGE",
           "marker": {
            "color": "#00cc96",
            "opacity": 0.5,
            "size": [
             2,
             2,
             4,
             2,
             2,
             2,
             2,
             2,
             2,
             2,
             2,
             4,
             2,
             2,
             2,
             2,
             4
            ],
            "sizemode": "area",
            "sizeref": 0.125,
            "symbol": "circle"
           },
           "mode": "markers",
           "name": "CRIMINAL DAMAGE",
           "orientation": "v",
           "showlegend": true,
           "type": "scatter",
           "x": [
            -87.74,
            -87.72,
            -87.72,
            -87.72,
            -87.7,
            -87.69,
            -87.69,
            -87.69,
            -87.68,
            -87.66,
            -87.66,
            -87.65,
            -87.65,
            -87.64,
            -87.63,
            -87.63,
            -87.58
           ],
           "xaxis": "x",
           "y": [
            41.92,
            41.85,
            41.93,
            41.94,
            41.79,
            41.86,
            41.92,
            41.94,
            41.92,
            41.96,
            42,
            41.77,
            41.9,
            41.71,
            41.69,
            41.88,
            41.75
           ],
           "yaxis": "y"
          },
          {
           "hovertemplate": "Primary Type=ASSAULT<br>t=13<br>Longitude=%{x}<br>Latitude=%{y}<br>size=%{marker.size}<extra></extra>",
           "legendgroup": "ASSAULT",
           "marker": {
            "color": "#ab63fa",
            "opacity": 0.5,
            "size": [
             2,
             2,
             2,
             2,
             2,
             2,
             2,
             2,
             2
            ],
            "sizemode": "area",
            "sizeref": 0.125,
            "symbol": "circle"
           },
           "mode": "markers",
           "name": "ASSAULT",
           "orientation": "v",
           "showlegend": true,
           "type": "scatter",
           "x": [
            -87.77,
            -87.77,
            -87.75,
            -87.72,
            -87.72,
            -87.71000000000001,
            -87.69,
            -87.65,
            -87.61
           ],
           "xaxis": "x",
           "y": [
            41.87,
            41.88,
            41.910000000000004,
            41.86,
            41.95,
            41.81,
            41.82,
            41.78,
            41.74
           ],
           "yaxis": "y"
          },
          {
           "hovertemplate": "Primary Type=OTHER OFFENSE<br>t=13<br>Longitude=%{x}<br>Latitude=%{y}<br>size=%{marker.size}<extra></extra>",
           "legendgroup": "OTHER OFFENSE",
           "marker": {
            "color": "#FFA15A",
            "opacity": 0.5,
            "size": [
             2,
             2,
             2,
             2,
             2
            ],
            "sizemode": "area",
            "sizeref": 0.125,
            "symbol": "circle"
           },
           "mode": "markers",
           "name": "OTHER OFFENSE",
           "orientation": "v",
           "showlegend": true,
           "type": "scatter",
           "x": [
            -87.81,
            -87.72,
            -87.65,
            -87.65,
            -87.61
           ],
           "xaxis": "x",
           "y": [
            41.94,
            41.93,
            41.72,
            41.75,
            41.81
           ],
           "yaxis": "y"
          },
          {
           "hovertemplate": "Primary Type=BURGLARY<br>t=13<br>Longitude=%{x}<br>Latitude=%{y}<br>size=%{marker.size}<extra></extra>",
           "legendgroup": "BURGLARY",
           "marker": {
            "color": "#19d3f3",
            "opacity": 0.5,
            "size": [
             2,
             2,
             2
            ],
            "sizemode": "area",
            "sizeref": 0.125,
            "symbol": "circle"
           },
           "mode": "markers",
           "name": "BURGLARY",
           "orientation": "v",
           "showlegend": true,
           "type": "scatter",
           "x": [
            -87.69,
            -87.68,
            -87.65
           ],
           "xaxis": "x",
           "y": [
            41.77,
            41.89,
            41.76
           ],
           "yaxis": "y"
          },
          {
           "hovertemplate": "Primary Type=MOTOR VEHICLE THEFT<br>t=13<br>Longitude=%{x}<br>Latitude=%{y}<br>size=%{marker.size}<extra></extra>",
           "legendgroup": "MOTOR VEHICLE THEFT",
           "marker": {
            "color": "#FF6692",
            "opacity": 0.5,
            "size": [
             2,
             2,
             2,
             2,
             2,
             2,
             2
            ],
            "sizemode": "area",
            "sizeref": 0.125,
            "symbol": "circle"
           },
           "mode": "markers",
           "name": "MOTOR VEHICLE THEFT",
           "orientation": "v",
           "showlegend": true,
           "type": "scatter",
           "x": [
            -87.84,
            -87.81,
            -87.75,
            -87.73,
            -87.72,
            -87.64,
            -87.64
           ],
           "xaxis": "x",
           "y": [
            41.94,
            41.92,
            41.89,
            41.78,
            41.910000000000004,
            41.730000000000004,
            41.77
           ],
           "yaxis": "y"
          },
          {
           "hovertemplate": "Primary Type=NARCOTICS<br>t=13<br>Longitude=%{x}<br>Latitude=%{y}<br>size=%{marker.size}<extra></extra>",
           "legendgroup": "NARCOTICS",
           "marker": {
            "color": "#B6E880",
            "opacity": 0.5,
            "size": [
             2,
             2,
             2,
             2,
             2,
             2
            ],
            "sizemode": "area",
            "sizeref": 0.125,
            "symbol": "circle"
           },
           "mode": "markers",
           "name": "NARCOTICS",
           "orientation": "v",
           "showlegend": true,
           "type": "scatter",
           "x": [
            -87.74,
            -87.73,
            -87.73,
            -87.73,
            -87.7,
            -87.64
           ],
           "xaxis": "x",
           "y": [
            41.87,
            41.86,
            41.87,
            41.94,
            41.77,
            41.79
           ],
           "yaxis": "y"
          },
          {
           "hovertemplate": "Primary Type=DECEPTIVE PRACTICE<br>t=13<br>Longitude=%{x}<br>Latitude=%{y}<br>size=%{marker.size}<extra></extra>",
           "legendgroup": "DECEPTIVE PRACTICE",
           "marker": {
            "color": "#FF97FF",
            "opacity": 0.5,
            "size": [
             2,
             2,
             2,
             2,
             2,
             2,
             2
            ],
            "sizemode": "area",
            "sizeref": 0.125,
            "symbol": "circle"
           },
           "mode": "markers",
           "name": "DECEPTIVE PRACTICE",
           "orientation": "v",
           "showlegend": true,
           "type": "scatter",
           "x": [
            -87.73,
            -87.7,
            -87.69,
            -87.65,
            -87.64,
            -87.63,
            -87.57000000000001
           ],
           "xaxis": "x",
           "y": [
            41.94,
            41.74,
            41.910000000000004,
            41.910000000000004,
            41.88,
            41.88,
            41.75
           ],
           "yaxis": "y"
          }
         ],
         "name": "13"
        },
        {
         "data": [
          {
           "hovertemplate": "Primary Type=THEFT<br>t=14<br>Longitude=%{x}<br>Latitude=%{y}<br>size=%{marker.size}<extra></extra>",
           "legendgroup": "THEFT",
           "marker": {
            "color": "#636efa",
            "opacity": 0.5,
            "size": [
             2,
             2,
             2,
             2,
             2,
             2,
             2,
             2,
             2,
             2,
             2,
             2,
             2,
             4,
             2,
             2,
             2,
             2,
             2
            ],
            "sizemode": "area",
            "sizeref": 0.125,
            "symbol": "circle"
           },
           "mode": "markers",
           "name": "THEFT",
           "orientation": "v",
           "showlegend": true,
           "type": "scatter",
           "x": [
            -87.75,
            -87.74,
            -87.71000000000001,
            -87.71000000000001,
            -87.7,
            -87.69,
            -87.67,
            -87.65,
            -87.65,
            -87.65,
            -87.65,
            -87.64,
            -87.64,
            -87.64,
            -87.64,
            -87.63,
            -87.61,
            -87.58,
            -87.57000000000001
           ],
           "xaxis": "x",
           "y": [
            41.87,
            41.93,
            41.78,
            41.88,
            41.83,
            41.89,
            41.74,
            41.88,
            41.89,
            41.910000000000004,
            41.92,
            41.86,
            41.87,
            41.89,
            41.910000000000004,
            41.89,
            41.81,
            41.75,
            41.75
           ],
           "yaxis": "y"
          },
          {
           "hovertemplate": "Primary Type=BATTERY<br>t=14<br>Longitude=%{x}<br>Latitude=%{y}<br>size=%{marker.size}<extra></extra>",
           "legendgroup": "BATTERY",
           "marker": {
            "color": "#EF553B",
            "opacity": 0.5,
            "size": [
             2,
             2,
             2,
             2,
             2,
             2,
             2,
             2,
             2,
             2,
             2,
             2,
             2,
             2,
             2,
             2,
             4,
             2,
             2,
             2,
             4,
             2,
             2,
             2
            ],
            "sizemode": "area",
            "sizeref": 0.125,
            "symbol": "circle"
           },
           "mode": "markers",
           "name": "BATTERY",
           "orientation": "v",
           "showlegend": true,
           "type": "scatter",
           "x": [
            -87.78,
            -87.77,
            -87.75,
            -87.75,
            -87.75,
            -87.74,
            -87.74,
            -87.72,
            -87.71000000000001,
            -87.7,
            -87.7,
            -87.7,
            -87.69,
            -87.68,
            -87.66,
            -87.66,
            -87.65,
            -87.63,
            -87.63,
            -87.63,
            -87.62,
            -87.61,
            -87.59,
            -87.58
           ],
           "xaxis": "x",
           "y": [
            41.910000000000004,
            41.87,
            41.87,
            41.9,
            41.910000000000004,
            41.910000000000004,
            41.93,
            41.96,
            41.94,
            41.7,
            41.78,
            41.86,
            41.76,
            41.800000000000004,
            41.71,
            41.95,
            41.89,
            41.67,
            41.730000000000004,
            41.78,
            41.83,
            41.74,
            41.76,
            41.76
           ],
           "yaxis": "y"
          },
          {
           "hovertemplate": "Primary Type=CRIMINAL DAMAGE<br>t=14<br>Longitude=%{x}<br>Latitude=%{y}<br>size=%{marker.size}<extra></extra>",
           "legendgroup": "CRIMINAL DAMAGE",
           "marker": {
            "color": "#00cc96",
            "opacity": 0.5,
            "size": [
             2,
             2,
             2,
             2,
             2,
             4,
             2,
             2,
             2,
             2,
             2,
             2
            ],
            "sizemode": "area",
            "sizeref": 0.125,
            "symbol": "circle"
           },
           "mode": "markers",
           "name": "CRIMINAL DAMAGE",
           "orientation": "v",
           "showlegend": true,
           "type": "scatter",
           "x": [
            -87.77,
            -87.75,
            -87.75,
            -87.67,
            -87.65,
            -87.64,
            -87.63,
            -87.63,
            -87.62,
            -87.61,
            -87.59,
            -87.57000000000001
           ],
           "xaxis": "x",
           "y": [
            41.88,
            41.93,
            41.94,
            41.81,
            41.84,
            41.88,
            41.79,
            41.88,
            41.71,
            41.75,
            41.74,
            41.76
           ],
           "yaxis": "y"
          },
          {
           "hovertemplate": "Primary Type=ASSAULT<br>t=14<br>Longitude=%{x}<br>Latitude=%{y}<br>size=%{marker.size}<extra></extra>",
           "legendgroup": "ASSAULT",
           "marker": {
            "color": "#ab63fa",
            "opacity": 0.5,
            "size": [
             2,
             2,
             2,
             2,
             2,
             2,
             2,
             2,
             2,
             4,
             2,
             2,
             2
            ],
            "sizemode": "area",
            "sizeref": 0.125,
            "symbol": "circle"
           },
           "mode": "markers",
           "name": "ASSAULT",
           "orientation": "v",
           "showlegend": true,
           "type": "scatter",
           "x": [
            -87.84,
            -87.69,
            -87.68,
            -87.67,
            -87.67,
            -87.66,
            -87.65,
            -87.63,
            -87.63,
            -87.62,
            -87.62,
            -87.61,
            -87.56
           ],
           "xaxis": "x",
           "y": [
            41.94,
            41.92,
            41.800000000000004,
            41.74,
            41.9,
            41.96,
            41.96,
            41.69,
            41.88,
            41.75,
            41.79,
            41.68,
            41.75
           ],
           "yaxis": "y"
          },
          {
           "hovertemplate": "Primary Type=OTHER OFFENSE<br>t=14<br>Longitude=%{x}<br>Latitude=%{y}<br>size=%{marker.size}<extra></extra>",
           "legendgroup": "OTHER OFFENSE",
           "marker": {
            "color": "#FFA15A",
            "opacity": 0.5,
            "size": [
             2,
             2,
             2,
             2,
             2,
             2,
             2,
             2,
             2,
             2
            ],
            "sizemode": "area",
            "sizeref": 0.125,
            "symbol": "circle"
           },
           "mode": "markers",
           "name": "OTHER OFFENSE",
           "orientation": "v",
           "showlegend": true,
           "type": "scatter",
           "x": [
            -87.73,
            -87.71000000000001,
            -87.68,
            -87.67,
            -87.64,
            -87.63,
            -87.62,
            -87.59,
            -87.58,
            -87.56
           ],
           "xaxis": "x",
           "y": [
            41.84,
            41.79,
            42.01,
            41.85,
            41.77,
            41.7,
            41.88,
            41.77,
            41.77,
            41.74
           ],
           "yaxis": "y"
          },
          {
           "hovertemplate": "Primary Type=BURGLARY<br>t=14<br>Longitude=%{x}<br>Latitude=%{y}<br>size=%{marker.size}<extra></extra>",
           "legendgroup": "BURGLARY",
           "marker": {
            "color": "#19d3f3",
            "opacity": 0.5,
            "size": [
             2,
             2,
             2
            ],
            "sizemode": "area",
            "sizeref": 0.125,
            "symbol": "circle"
           },
           "mode": "markers",
           "name": "BURGLARY",
           "orientation": "v",
           "showlegend": true,
           "type": "scatter",
           "x": [
            -87.71000000000001,
            -87.68,
            -87.61
           ],
           "xaxis": "x",
           "y": [
            41.94,
            41.89,
            41.74
           ],
           "yaxis": "y"
          },
          {
           "hovertemplate": "Primary Type=MOTOR VEHICLE THEFT<br>t=14<br>Longitude=%{x}<br>Latitude=%{y}<br>size=%{marker.size}<extra></extra>",
           "legendgroup": "MOTOR VEHICLE THEFT",
           "marker": {
            "color": "#FF6692",
            "opacity": 0.5,
            "size": [
             2,
             2,
             4,
             2
            ],
            "sizemode": "area",
            "sizeref": 0.125,
            "symbol": "circle"
           },
           "mode": "markers",
           "name": "MOTOR VEHICLE THEFT",
           "orientation": "v",
           "showlegend": true,
           "type": "scatter",
           "x": [
            -87.76,
            -87.72,
            -87.72,
            -87.65
           ],
           "xaxis": "x",
           "y": [
            41.88,
            41.74,
            41.88,
            41.730000000000004
           ],
           "yaxis": "y"
          },
          {
           "hovertemplate": "Primary Type=NARCOTICS<br>t=14<br>Longitude=%{x}<br>Latitude=%{y}<br>size=%{marker.size}<extra></extra>",
           "legendgroup": "NARCOTICS",
           "marker": {
            "color": "#B6E880",
            "opacity": 0.5,
            "size": [
             2,
             2,
             2,
             2,
             2,
             4,
             2,
             2,
             2,
             2,
             2,
             2
            ],
            "sizemode": "area",
            "sizeref": 0.125,
            "symbol": "circle"
           },
           "mode": "markers",
           "name": "NARCOTICS",
           "orientation": "v",
           "showlegend": true,
           "type": "scatter",
           "x": [
            -87.75,
            -87.73,
            -87.73,
            -87.72,
            -87.71000000000001,
            -87.7,
            -87.69,
            -87.69,
            -87.66,
            -87.62,
            -87.61,
            -87.57000000000001
           ],
           "xaxis": "x",
           "y": [
            41.9,
            41.86,
            41.87,
            41.89,
            41.85,
            41.87,
            41.78,
            41.86,
            41.96,
            41.69,
            41.7,
            41.7
           ],
           "yaxis": "y"
          },
          {
           "hovertemplate": "Primary Type=DECEPTIVE PRACTICE<br>t=14<br>Longitude=%{x}<br>Latitude=%{y}<br>size=%{marker.size}<extra></extra>",
           "legendgroup": "DECEPTIVE PRACTICE",
           "marker": {
            "color": "#FF97FF",
            "opacity": 0.5,
            "size": [
             2,
             2
            ],
            "sizemode": "area",
            "sizeref": 0.125,
            "symbol": "circle"
           },
           "mode": "markers",
           "name": "DECEPTIVE PRACTICE",
           "orientation": "v",
           "showlegend": true,
           "type": "scatter",
           "x": [
            -87.65,
            -87.63
           ],
           "xaxis": "x",
           "y": [
            41.93,
            41.89
           ],
           "yaxis": "y"
          }
         ],
         "name": "14"
        },
        {
         "data": [
          {
           "hovertemplate": "Primary Type=THEFT<br>t=15<br>Longitude=%{x}<br>Latitude=%{y}<br>size=%{marker.size}<extra></extra>",
           "legendgroup": "THEFT",
           "marker": {
            "color": "#636efa",
            "opacity": 0.5,
            "size": [
             2,
             2,
             2,
             2,
             2,
             2,
             2,
             2,
             2,
             2,
             2,
             2,
             2,
             2,
             2,
             2,
             2
            ],
            "sizemode": "area",
            "sizeref": 0.125,
            "symbol": "circle"
           },
           "mode": "markers",
           "name": "THEFT",
           "orientation": "v",
           "showlegend": true,
           "type": "scatter",
           "x": [
            -87.78,
            -87.71000000000001,
            -87.7,
            -87.69,
            -87.68,
            -87.67,
            -87.67,
            -87.67,
            -87.65,
            -87.65,
            -87.65,
            -87.64,
            -87.64,
            -87.63,
            -87.63,
            -87.62,
            -87.59
           ],
           "xaxis": "x",
           "y": [
            41.92,
            41.95,
            41.92,
            41.87,
            42.01,
            41.72,
            41.82,
            42.01,
            41.800000000000004,
            41.910000000000004,
            41.93,
            41.88,
            41.89,
            41.87,
            41.88,
            41.89,
            41.77
           ],
           "yaxis": "y"
          },
          {
           "hovertemplate": "Primary Type=BATTERY<br>t=15<br>Longitude=%{x}<br>Latitude=%{y}<br>size=%{marker.size}<extra></extra>",
           "legendgroup": "BATTERY",
           "marker": {
            "color": "#EF553B",
            "opacity": 0.5,
            "size": [
             2,
             2,
             2,
             2,
             2,
             2,
             2,
             2,
             2,
             2,
             2,
             2,
             2,
             2,
             2,
             2,
             2,
             2,
             2,
             2,
             2
            ],
            "sizemode": "area",
            "sizeref": 0.125,
            "symbol": "circle"
           },
           "mode": "markers",
           "name": "BATTERY",
           "orientation": "v",
           "showlegend": true,
           "type": "scatter",
           "x": [
            -87.85000000000001,
            -87.76,
            -87.74,
            -87.73,
            -87.72,
            -87.72,
            -87.67,
            -87.67,
            -87.66,
            -87.64,
            -87.64,
            -87.63,
            -87.62,
            -87.61,
            -87.61,
            -87.61,
            -87.59,
            -87.59,
            -87.58,
            -87.56,
            -87.55
           ],
           "xaxis": "x",
           "y": [
            41.97,
            41.89,
            41.9,
            41.86,
            41.85,
            41.89,
            41.800000000000004,
            41.87,
            41.69,
            41.87,
            41.910000000000004,
            41.72,
            41.83,
            41.65,
            41.82,
            41.89,
            41.76,
            41.77,
            41.71,
            41.74,
            41.74
           ],
           "yaxis": "y"
          },
          {
           "hovertemplate": "Primary Type=CRIMINAL DAMAGE<br>t=15<br>Longitude=%{x}<br>Latitude=%{y}<br>size=%{marker.size}<extra></extra>",
           "legendgroup": "CRIMINAL DAMAGE",
           "marker": {
            "color": "#00cc96",
            "opacity": 0.5,
            "size": [
             2,
             2,
             2,
             2,
             2,
             2,
             2,
             2,
             2,
             2,
             2,
             2,
             2,
             4,
             2,
             2,
             2,
             2
            ],
            "sizemode": "area",
            "sizeref": 0.125,
            "symbol": "circle"
           },
           "mode": "markers",
           "name": "CRIMINAL DAMAGE",
           "orientation": "v",
           "showlegend": true,
           "type": "scatter",
           "x": [
            -87.74,
            -87.73,
            -87.73,
            -87.72,
            -87.71000000000001,
            -87.7,
            -87.69,
            -87.69,
            -87.69,
            -87.69,
            -87.68,
            -87.67,
            -87.67,
            -87.66,
            -87.65,
            -87.65,
            -87.62,
            -87.58
           ],
           "xaxis": "x",
           "y": [
            41.9,
            41.730000000000004,
            41.95,
            41.9,
            41.76,
            41.93,
            41.78,
            41.84,
            41.89,
            41.96,
            41.78,
            41.79,
            41.86,
            41.97,
            41.7,
            41.9,
            41.74,
            41.78
           ],
           "yaxis": "y"
          },
          {
           "hovertemplate": "Primary Type=ASSAULT<br>t=15<br>Longitude=%{x}<br>Latitude=%{y}<br>size=%{marker.size}<extra></extra>",
           "legendgroup": "ASSAULT",
           "marker": {
            "color": "#ab63fa",
            "opacity": 0.5,
            "size": [
             2,
             2,
             2,
             2,
             2,
             2,
             2,
             2,
             2,
             2
            ],
            "sizemode": "area",
            "sizeref": 0.125,
            "symbol": "circle"
           },
           "mode": "markers",
           "name": "ASSAULT",
           "orientation": "v",
           "showlegend": true,
           "type": "scatter",
           "x": [
            -87.77,
            -87.75,
            -87.66,
            -87.65,
            -87.65,
            -87.65,
            -87.64,
            -87.63,
            -87.63,
            -87.63
           ],
           "xaxis": "x",
           "y": [
            42,
            41.87,
            41.980000000000004,
            41.72,
            41.75,
            41.83,
            41.76,
            41.800000000000004,
            41.88,
            41.89
           ],
           "yaxis": "y"
          },
          {
           "hovertemplate": "Primary Type=OTHER OFFENSE<br>t=15<br>Longitude=%{x}<br>Latitude=%{y}<br>size=%{marker.size}<extra></extra>",
           "legendgroup": "OTHER OFFENSE",
           "marker": {
            "color": "#FFA15A",
            "opacity": 0.5,
            "size": [
             2,
             2,
             2,
             2,
             2,
             2,
             2,
             2,
             2
            ],
            "sizemode": "area",
            "sizeref": 0.125,
            "symbol": "circle"
           },
           "mode": "markers",
           "name": "OTHER OFFENSE",
           "orientation": "v",
           "showlegend": true,
           "type": "scatter",
           "x": [
            -87.73,
            -87.72,
            -87.72,
            -87.71000000000001,
            -87.68,
            -87.68,
            -87.66,
            -87.63,
            -87.57000000000001
           ],
           "xaxis": "x",
           "y": [
            41.83,
            41.910000000000004,
            41.95,
            41.82,
            41.69,
            41.74,
            41.72,
            41.69,
            41.77
           ],
           "yaxis": "y"
          },
          {
           "hovertemplate": "Primary Type=BURGLARY<br>t=15<br>Longitude=%{x}<br>Latitude=%{y}<br>size=%{marker.size}<extra></extra>",
           "legendgroup": "BURGLARY",
           "marker": {
            "color": "#19d3f3",
            "opacity": 0.5,
            "size": [
             2,
             2,
             2,
             2
            ],
            "sizemode": "area",
            "sizeref": 0.125,
            "symbol": "circle"
           },
           "mode": "markers",
           "name": "BURGLARY",
           "orientation": "v",
           "showlegend": true,
           "type": "scatter",
           "x": [
            -87.71000000000001,
            -87.7,
            -87.7,
            -87.68
           ],
           "xaxis": "x",
           "y": [
            41.88,
            41.81,
            41.89,
            42
           ],
           "yaxis": "y"
          },
          {
           "hovertemplate": "Primary Type=MOTOR VEHICLE THEFT<br>t=15<br>Longitude=%{x}<br>Latitude=%{y}<br>size=%{marker.size}<extra></extra>",
           "legendgroup": "MOTOR VEHICLE THEFT",
           "marker": {
            "color": "#FF6692",
            "opacity": 0.5,
            "size": [
             2,
             2,
             2
            ],
            "sizemode": "area",
            "sizeref": 0.125,
            "symbol": "circle"
           },
           "mode": "markers",
           "name": "MOTOR VEHICLE THEFT",
           "orientation": "v",
           "showlegend": true,
           "type": "scatter",
           "x": [
            -87.78,
            -87.7,
            -87.66
           ],
           "xaxis": "x",
           "y": [
            41.97,
            41.87,
            41.78
           ],
           "yaxis": "y"
          },
          {
           "hovertemplate": "Primary Type=NARCOTICS<br>t=15<br>Longitude=%{x}<br>Latitude=%{y}<br>size=%{marker.size}<extra></extra>",
           "legendgroup": "NARCOTICS",
           "marker": {
            "color": "#B6E880",
            "opacity": 0.5,
            "size": [
             2,
             2,
             2,
             2,
             2,
             2,
             2,
             2,
             2,
             2
            ],
            "sizemode": "area",
            "sizeref": 0.125,
            "symbol": "circle"
           },
           "mode": "markers",
           "name": "NARCOTICS",
           "orientation": "v",
           "showlegend": true,
           "type": "scatter",
           "x": [
            -87.75,
            -87.75,
            -87.74,
            -87.74,
            -87.71000000000001,
            -87.7,
            -87.67,
            -87.62,
            -87.61,
            -87.58
           ],
           "xaxis": "x",
           "y": [
            41.88,
            41.94,
            41.85,
            41.87,
            41.94,
            42,
            41.75,
            41.77,
            41.730000000000004,
            41.75
           ],
           "yaxis": "y"
          },
          {
           "hovertemplate": "Primary Type=DECEPTIVE PRACTICE<br>t=15<br>Longitude=%{x}<br>Latitude=%{y}<br>size=%{marker.size}<extra></extra>",
           "legendgroup": "DECEPTIVE PRACTICE",
           "marker": {
            "color": "#FF97FF",
            "opacity": 0.5,
            "size": [
             2,
             2,
             4,
             2
            ],
            "sizemode": "area",
            "sizeref": 0.125,
            "symbol": "circle"
           },
           "mode": "markers",
           "name": "DECEPTIVE PRACTICE",
           "orientation": "v",
           "showlegend": true,
           "type": "scatter",
           "x": [
            -87.85000000000001,
            -87.72,
            -87.64,
            -87.62
           ],
           "xaxis": "x",
           "y": [
            41.97,
            41.93,
            41.89,
            41.89
           ],
           "yaxis": "y"
          }
         ],
         "name": "15"
        },
        {
         "data": [
          {
           "hovertemplate": "Primary Type=THEFT<br>t=16<br>Longitude=%{x}<br>Latitude=%{y}<br>size=%{marker.size}<extra></extra>",
           "legendgroup": "THEFT",
           "marker": {
            "color": "#636efa",
            "opacity": 0.5,
            "size": [
             2,
             2,
             2,
             2,
             2,
             2,
             2,
             2,
             2,
             2
            ],
            "sizemode": "area",
            "sizeref": 0.125,
            "symbol": "circle"
           },
           "mode": "markers",
           "name": "THEFT",
           "orientation": "v",
           "showlegend": true,
           "type": "scatter",
           "x": [
            -87.74,
            -87.73,
            -87.69,
            -87.69,
            -87.65,
            -87.64,
            -87.64,
            -87.64,
            -87.63,
            -87.63
           ],
           "xaxis": "x",
           "y": [
            41.87,
            41.97,
            41.7,
            41.77,
            41.83,
            41.86,
            41.87,
            41.89,
            41.88,
            41.89
           ],
           "yaxis": "y"
          },
          {
           "hovertemplate": "Primary Type=BATTERY<br>t=16<br>Longitude=%{x}<br>Latitude=%{y}<br>size=%{marker.size}<extra></extra>",
           "legendgroup": "BATTERY",
           "marker": {
            "color": "#EF553B",
            "opacity": 0.5,
            "size": [
             2,
             2,
             2,
             2,
             2,
             2,
             2,
             2,
             2,
             2,
             2,
             2,
             2,
             2,
             2,
             2,
             2,
             2,
             4,
             4,
             2,
             2,
             2,
             2,
             2,
             2
            ],
            "sizemode": "area",
            "sizeref": 0.125,
            "symbol": "circle"
           },
           "mode": "markers",
           "name": "BATTERY",
           "orientation": "v",
           "showlegend": true,
           "type": "scatter",
           "x": [
            -87.77,
            -87.75,
            -87.74,
            -87.73,
            -87.73,
            -87.71000000000001,
            -87.71000000000001,
            -87.7,
            -87.7,
            -87.69,
            -87.69,
            -87.68,
            -87.67,
            -87.66,
            -87.66,
            -87.66,
            -87.66,
            -87.65,
            -87.65,
            -87.64,
            -87.63,
            -87.63,
            -87.62,
            -87.59,
            -87.57000000000001,
            -87.56
           ],
           "xaxis": "x",
           "y": [
            41.9,
            41.88,
            41.9,
            41.87,
            41.93,
            41.82,
            41.910000000000004,
            41.84,
            41.99,
            41.77,
            41.78,
            41.9,
            41.69,
            41.74,
            41.800000000000004,
            41.86,
            41.99,
            41.67,
            41.94,
            41.72,
            41.67,
            41.69,
            41.65,
            41.77,
            41.72,
            41.75
           ],
           "yaxis": "y"
          },
          {
           "hovertemplate": "Primary Type=CRIMINAL DAMAGE<br>t=16<br>Longitude=%{x}<br>Latitude=%{y}<br>size=%{marker.size}<extra></extra>",
           "legendgroup": "CRIMINAL DAMAGE",
           "marker": {
            "color": "#00cc96",
            "opacity": 0.5,
            "size": [
             2,
             2,
             2,
             2,
             2,
             2,
             2,
             2,
             2
            ],
            "sizemode": "area",
            "sizeref": 0.125,
            "symbol": "circle"
           },
           "mode": "markers",
           "name": "CRIMINAL DAMAGE",
           "orientation": "v",
           "showlegend": true,
           "type": "scatter",
           "x": [
            -87.71000000000001,
            -87.66,
            -87.65,
            -87.65,
            -87.63,
            -87.63,
            -87.62,
            -87.57000000000001,
            -87.56
           ],
           "xaxis": "x",
           "y": [
            41.88,
            41.94,
            41.87,
            41.9,
            41.71,
            41.9,
            41.68,
            41.75,
            41.74
           ],
           "yaxis": "y"
          },
          {
           "hovertemplate": "Primary Type=ASSAULT<br>t=16<br>Longitude=%{x}<br>Latitude=%{y}<br>size=%{marker.size}<extra></extra>",
           "legendgroup": "ASSAULT",
           "marker": {
            "color": "#ab63fa",
            "opacity": 0.5,
            "size": [
             2,
             2,
             2,
             2,
             2,
             2,
             2,
             2
            ],
            "sizemode": "area",
            "sizeref": 0.125,
            "symbol": "circle"
           },
           "mode": "markers",
           "name": "ASSAULT",
           "orientation": "v",
           "showlegend": true,
           "type": "scatter",
           "x": [
            -87.72,
            -87.67,
            -87.67,
            -87.66,
            -87.65,
            -87.63,
            -87.61,
            -87.61
           ],
           "xaxis": "x",
           "y": [
            41.9,
            41.78,
            41.79,
            41.83,
            41.94,
            41.78,
            41.69,
            41.75
           ],
           "yaxis": "y"
          },
          {
           "hovertemplate": "Primary Type=OTHER OFFENSE<br>t=16<br>Longitude=%{x}<br>Latitude=%{y}<br>size=%{marker.size}<extra></extra>",
           "legendgroup": "OTHER OFFENSE",
           "marker": {
            "color": "#FFA15A",
            "opacity": 0.5,
            "size": [
             2,
             2,
             2,
             2,
             2,
             2,
             2,
             2,
             2,
             2
            ],
            "sizemode": "area",
            "sizeref": 0.125,
            "symbol": "circle"
           },
           "mode": "markers",
           "name": "OTHER OFFENSE",
           "orientation": "v",
           "showlegend": true,
           "type": "scatter",
           "x": [
            -87.75,
            -87.72,
            -87.71000000000001,
            -87.68,
            -87.68,
            -87.67,
            -87.63,
            -87.62,
            -87.61,
            -87.59
           ],
           "xaxis": "x",
           "y": [
            41.92,
            41.9,
            41.99,
            41.75,
            41.89,
            41.75,
            41.68,
            41.7,
            41.800000000000004,
            41.76
           ],
           "yaxis": "y"
          },
          {
           "hovertemplate": "Primary Type=BURGLARY<br>t=16<br>Longitude=%{x}<br>Latitude=%{y}<br>size=%{marker.size}<extra></extra>",
           "legendgroup": "BURGLARY",
           "marker": {
            "color": "#19d3f3",
            "opacity": 0.5,
            "size": [
             2,
             2,
             2,
             2,
             2,
             2
            ],
            "sizemode": "area",
            "sizeref": 0.125,
            "symbol": "circle"
           },
           "mode": "markers",
           "name": "BURGLARY",
           "orientation": "v",
           "showlegend": true,
           "type": "scatter",
           "x": [
            -87.75,
            -87.69,
            -87.69,
            -87.68,
            -87.63,
            -87.56
           ],
           "xaxis": "x",
           "y": [
            41.92,
            41.89,
            41.95,
            41.83,
            41.89,
            41.74
           ],
           "yaxis": "y"
          },
          {
           "hovertemplate": "Primary Type=MOTOR VEHICLE THEFT<br>t=16<br>Longitude=%{x}<br>Latitude=%{y}<br>size=%{marker.size}<extra></extra>",
           "legendgroup": "MOTOR VEHICLE THEFT",
           "marker": {
            "color": "#FF6692",
            "opacity": 0.5,
            "size": [
             2,
             2,
             2
            ],
            "sizemode": "area",
            "sizeref": 0.125,
            "symbol": "circle"
           },
           "mode": "markers",
           "name": "MOTOR VEHICLE THEFT",
           "orientation": "v",
           "showlegend": true,
           "type": "scatter",
           "x": [
            -87.72,
            -87.58,
            -87.56
           ],
           "xaxis": "x",
           "y": [
            41.86,
            41.76,
            41.730000000000004
           ],
           "yaxis": "y"
          },
          {
           "hovertemplate": "Primary Type=NARCOTICS<br>t=16<br>Longitude=%{x}<br>Latitude=%{y}<br>size=%{marker.size}<extra></extra>",
           "legendgroup": "NARCOTICS",
           "marker": {
            "color": "#B6E880",
            "opacity": 0.5,
            "size": [
             2,
             2,
             2
            ],
            "sizemode": "area",
            "sizeref": 0.125,
            "symbol": "circle"
           },
           "mode": "markers",
           "name": "NARCOTICS",
           "orientation": "v",
           "showlegend": true,
           "type": "scatter",
           "x": [
            -87.73,
            -87.73,
            -87.69
           ],
           "xaxis": "x",
           "y": [
            41.87,
            41.88,
            41.77
           ],
           "yaxis": "y"
          },
          {
           "hovertemplate": "Primary Type=DECEPTIVE PRACTICE<br>t=16<br>Longitude=%{x}<br>Latitude=%{y}<br>size=%{marker.size}<extra></extra>",
           "legendgroup": "DECEPTIVE PRACTICE",
           "marker": {
            "color": "#FF97FF",
            "opacity": 0.5,
            "size": [
             2
            ],
            "sizemode": "area",
            "sizeref": 0.125,
            "symbol": "circle"
           },
           "mode": "markers",
           "name": "DECEPTIVE PRACTICE",
           "orientation": "v",
           "showlegend": true,
           "type": "scatter",
           "x": [
            -87.82000000000001
           ],
           "xaxis": "x",
           "y": [
            41.94
           ],
           "yaxis": "y"
          }
         ],
         "name": "16"
        },
        {
         "data": [
          {
           "hovertemplate": "Primary Type=THEFT<br>t=17<br>Longitude=%{x}<br>Latitude=%{y}<br>size=%{marker.size}<extra></extra>",
           "legendgroup": "THEFT",
           "marker": {
            "color": "#636efa",
            "opacity": 0.5,
            "size": [
             2,
             2,
             2,
             2,
             2,
             2,
             2,
             2
            ],
            "sizemode": "area",
            "sizeref": 0.125,
            "symbol": "circle"
           },
           "mode": "markers",
           "name": "THEFT",
           "orientation": "v",
           "showlegend": true,
           "type": "scatter",
           "x": [
            -87.78,
            -87.78,
            -87.77,
            -87.75,
            -87.73,
            -87.65,
            -87.63,
            -87.63
           ],
           "xaxis": "x",
           "y": [
            41.87,
            41.95,
            41.9,
            41.87,
            41.84,
            41.93,
            41.81,
            41.82
           ],
           "yaxis": "y"
          },
          {
           "hovertemplate": "Primary Type=BATTERY<br>t=17<br>Longitude=%{x}<br>Latitude=%{y}<br>size=%{marker.size}<extra></extra>",
           "legendgroup": "BATTERY",
           "marker": {
            "color": "#EF553B",
            "opacity": 0.5,
            "size": [
             2,
             2,
             2,
             2,
             2,
             2,
             2,
             2,
             2,
             2,
             2,
             2,
             2,
             2,
             2
            ],
            "sizemode": "area",
            "sizeref": 0.125,
            "symbol": "circle"
           },
           "mode": "markers",
           "name": "BATTERY",
           "orientation": "v",
           "showlegend": true,
           "type": "scatter",
           "x": [
            -87.78,
            -87.77,
            -87.75,
            -87.74,
            -87.73,
            -87.72,
            -87.72,
            -87.72,
            -87.67,
            -87.66,
            -87.66,
            -87.63,
            -87.62,
            -87.62,
            -87.59
           ],
           "xaxis": "x",
           "y": [
            41.93,
            41.79,
            41.87,
            41.79,
            41.89,
            41.87,
            41.88,
            41.910000000000004,
            41.81,
            41.730000000000004,
            41.76,
            41.71,
            41.77,
            41.78,
            41.77
           ],
           "yaxis": "y"
          },
          {
           "hovertemplate": "Primary Type=CRIMINAL DAMAGE<br>t=17<br>Longitude=%{x}<br>Latitude=%{y}<br>size=%{marker.size}<extra></extra>",
           "legendgroup": "CRIMINAL DAMAGE",
           "marker": {
            "color": "#00cc96",
            "opacity": 0.5,
            "size": [
             2,
             2,
             2,
             2,
             2,
             2,
             2
            ],
            "sizemode": "area",
            "sizeref": 0.125,
            "symbol": "circle"
           },
           "mode": "markers",
           "name": "CRIMINAL DAMAGE",
           "orientation": "v",
           "showlegend": true,
           "type": "scatter",
           "x": [
            -87.76,
            -87.69,
            -87.69,
            -87.67,
            -87.66,
            -87.66,
            -87.65
           ],
           "xaxis": "x",
           "y": [
            41.92,
            41.78,
            41.88,
            41.93,
            41.78,
            41.89,
            41.83
           ],
           "yaxis": "y"
          },
          {
           "hovertemplate": "Primary Type=ASSAULT<br>t=17<br>Longitude=%{x}<br>Latitude=%{y}<br>size=%{marker.size}<extra></extra>",
           "legendgroup": "ASSAULT",
           "marker": {
            "color": "#ab63fa",
            "opacity": 0.5,
            "size": [
             2,
             2,
             2,
             2,
             2
            ],
            "sizemode": "area",
            "sizeref": 0.125,
            "symbol": "circle"
           },
           "mode": "markers",
           "name": "ASSAULT",
           "orientation": "v",
           "showlegend": true,
           "type": "scatter",
           "x": [
            -87.81,
            -87.62,
            -87.59,
            -87.58,
            -87.58
           ],
           "xaxis": "x",
           "y": [
            41.980000000000004,
            41.77,
            41.76,
            41.75,
            41.76
           ],
           "yaxis": "y"
          },
          {
           "hovertemplate": "Primary Type=OTHER OFFENSE<br>t=17<br>Longitude=%{x}<br>Latitude=%{y}<br>size=%{marker.size}<extra></extra>",
           "legendgroup": "OTHER OFFENSE",
           "marker": {
            "color": "#FFA15A",
            "opacity": 0.5,
            "size": [
             2,
             2,
             2
            ],
            "sizemode": "area",
            "sizeref": 0.125,
            "symbol": "circle"
           },
           "mode": "markers",
           "name": "OTHER OFFENSE",
           "orientation": "v",
           "showlegend": true,
           "type": "scatter",
           "x": [
            -87.76,
            -87.73,
            -87.73
           ],
           "xaxis": "x",
           "y": [
            41.9,
            41.79,
            41.83
           ],
           "yaxis": "y"
          },
          {
           "hovertemplate": "Primary Type=BURGLARY<br>t=17<br>Longitude=%{x}<br>Latitude=%{y}<br>size=%{marker.size}<extra></extra>",
           "legendgroup": "BURGLARY",
           "marker": {
            "color": "#19d3f3",
            "opacity": 0.5,
            "size": [
             2,
             2,
             2,
             2
            ],
            "sizemode": "area",
            "sizeref": 0.125,
            "symbol": "circle"
           },
           "mode": "markers",
           "name": "BURGLARY",
           "orientation": "v",
           "showlegend": true,
           "type": "scatter",
           "x": [
            -87.72,
            -87.71000000000001,
            -87.69,
            -87.68
           ],
           "xaxis": "x",
           "y": [
            41.85,
            41.79,
            41.92,
            41.92
           ],
           "yaxis": "y"
          },
          {
           "hovertemplate": "Primary Type=NARCOTICS<br>t=17<br>Longitude=%{x}<br>Latitude=%{y}<br>size=%{marker.size}<extra></extra>",
           "legendgroup": "NARCOTICS",
           "marker": {
            "color": "#B6E880",
            "opacity": 0.5,
            "size": [
             2
            ],
            "sizemode": "area",
            "sizeref": 0.125,
            "symbol": "circle"
           },
           "mode": "markers",
           "name": "NARCOTICS",
           "orientation": "v",
           "showlegend": true,
           "type": "scatter",
           "x": [
            -87.67
           ],
           "xaxis": "x",
           "y": [
            41.74
           ],
           "yaxis": "y"
          },
          {
           "hovertemplate": "Primary Type=DECEPTIVE PRACTICE<br>t=17<br>Longitude=%{x}<br>Latitude=%{y}<br>size=%{marker.size}<extra></extra>",
           "legendgroup": "DECEPTIVE PRACTICE",
           "marker": {
            "color": "#FF97FF",
            "opacity": 0.5,
            "size": [
             2
            ],
            "sizemode": "area",
            "sizeref": 0.125,
            "symbol": "circle"
           },
           "mode": "markers",
           "name": "DECEPTIVE PRACTICE",
           "orientation": "v",
           "showlegend": true,
           "type": "scatter",
           "x": [
            -87.68
           ],
           "xaxis": "x",
           "y": [
            41.94
           ],
           "yaxis": "y"
          }
         ],
         "name": "17"
        },
        {
         "data": [
          {
           "hovertemplate": "Primary Type=THEFT<br>t=18<br>Longitude=%{x}<br>Latitude=%{y}<br>size=%{marker.size}<extra></extra>",
           "legendgroup": "THEFT",
           "marker": {
            "color": "#636efa",
            "opacity": 0.5,
            "size": [
             2,
             2,
             2,
             2,
             2,
             2,
             2,
             2,
             2,
             2,
             2
            ],
            "sizemode": "area",
            "sizeref": 0.125,
            "symbol": "circle"
           },
           "mode": "markers",
           "name": "THEFT",
           "orientation": "v",
           "showlegend": true,
           "type": "scatter",
           "x": [
            -87.77,
            -87.72,
            -87.71000000000001,
            -87.67,
            -87.65,
            -87.65,
            -87.64,
            -87.63,
            -87.63,
            -87.63,
            -87.59
           ],
           "xaxis": "x",
           "y": [
            41.9,
            41.88,
            41.99,
            41.76,
            41.9,
            41.95,
            41.96,
            41.75,
            41.87,
            41.89,
            41.77
           ],
           "yaxis": "y"
          },
          {
           "hovertemplate": "Primary Type=BATTERY<br>t=18<br>Longitude=%{x}<br>Latitude=%{y}<br>size=%{marker.size}<extra></extra>",
           "legendgroup": "BATTERY",
           "marker": {
            "color": "#EF553B",
            "opacity": 0.5,
            "size": [
             2,
             2,
             2,
             2,
             2,
             2,
             2,
             2,
             2
            ],
            "sizemode": "area",
            "sizeref": 0.125,
            "symbol": "circle"
           },
           "mode": "markers",
           "name": "BATTERY",
           "orientation": "v",
           "showlegend": true,
           "type": "scatter",
           "x": [
            -87.68,
            -87.68,
            -87.67,
            -87.67,
            -87.64,
            -87.62,
            -87.60000000000001,
            -87.57000000000001,
            -87.57000000000001
           ],
           "xaxis": "x",
           "y": [
            41.88,
            41.92,
            41.89,
            41.9,
            41.93,
            41.800000000000004,
            41.74,
            41.75,
            41.76
           ],
           "yaxis": "y"
          },
          {
           "hovertemplate": "Primary Type=CRIMINAL DAMAGE<br>t=18<br>Longitude=%{x}<br>Latitude=%{y}<br>size=%{marker.size}<extra></extra>",
           "legendgroup": "CRIMINAL DAMAGE",
           "marker": {
            "color": "#00cc96",
            "opacity": 0.5,
            "size": [
             2,
             2,
             2,
             2
            ],
            "sizemode": "area",
            "sizeref": 0.125,
            "symbol": "circle"
           },
           "mode": "markers",
           "name": "CRIMINAL DAMAGE",
           "orientation": "v",
           "showlegend": true,
           "type": "scatter",
           "x": [
            -87.78,
            -87.74,
            -87.64,
            -87.59
           ],
           "xaxis": "x",
           "y": [
            41.910000000000004,
            41.93,
            41.72,
            41.75
           ],
           "yaxis": "y"
          },
          {
           "hovertemplate": "Primary Type=ASSAULT<br>t=18<br>Longitude=%{x}<br>Latitude=%{y}<br>size=%{marker.size}<extra></extra>",
           "legendgroup": "ASSAULT",
           "marker": {
            "color": "#ab63fa",
            "opacity": 0.5,
            "size": [
             2,
             2,
             2,
             2,
             2,
             2,
             2,
             2
            ],
            "sizemode": "area",
            "sizeref": 0.125,
            "symbol": "circle"
           },
           "mode": "markers",
           "name": "ASSAULT",
           "orientation": "v",
           "showlegend": true,
           "type": "scatter",
           "x": [
            -87.75,
            -87.72,
            -87.71000000000001,
            -87.69,
            -87.68,
            -87.67,
            -87.63,
            -87.61
           ],
           "xaxis": "x",
           "y": [
            41.89,
            41.9,
            41.910000000000004,
            41.76,
            41.910000000000004,
            41.68,
            41.75,
            41.75
           ],
           "yaxis": "y"
          },
          {
           "hovertemplate": "Primary Type=OTHER OFFENSE<br>t=18<br>Longitude=%{x}<br>Latitude=%{y}<br>size=%{marker.size}<extra></extra>",
           "legendgroup": "OTHER OFFENSE",
           "marker": {
            "color": "#FFA15A",
            "opacity": 0.5,
            "size": [
             2,
             2,
             2,
             2,
             2,
             2
            ],
            "sizemode": "area",
            "sizeref": 0.125,
            "symbol": "circle"
           },
           "mode": "markers",
           "name": "OTHER OFFENSE",
           "orientation": "v",
           "showlegend": true,
           "type": "scatter",
           "x": [
            -87.7,
            -87.69,
            -87.68,
            -87.66,
            -87.65,
            -87.65
           ],
           "xaxis": "x",
           "y": [
            41.99,
            41.76,
            41.86,
            41.77,
            41.76,
            41.800000000000004
           ],
           "yaxis": "y"
          },
          {
           "hovertemplate": "Primary Type=BURGLARY<br>t=18<br>Longitude=%{x}<br>Latitude=%{y}<br>size=%{marker.size}<extra></extra>",
           "legendgroup": "BURGLARY",
           "marker": {
            "color": "#19d3f3",
            "opacity": 0.5,
            "size": [
             2,
             2
            ],
            "sizemode": "area",
            "sizeref": 0.125,
            "symbol": "circle"
           },
           "mode": "markers",
           "name": "BURGLARY",
           "orientation": "v",
           "showlegend": true,
           "type": "scatter",
           "x": [
            -87.64,
            -87.63
           ],
           "xaxis": "x",
           "y": [
            41.72,
            41.76
           ],
           "yaxis": "y"
          },
          {
           "hovertemplate": "Primary Type=MOTOR VEHICLE THEFT<br>t=18<br>Longitude=%{x}<br>Latitude=%{y}<br>size=%{marker.size}<extra></extra>",
           "legendgroup": "MOTOR VEHICLE THEFT",
           "marker": {
            "color": "#FF6692",
            "opacity": 0.5,
            "size": [
             2,
             2
            ],
            "sizemode": "area",
            "sizeref": 0.125,
            "symbol": "circle"
           },
           "mode": "markers",
           "name": "MOTOR VEHICLE THEFT",
           "orientation": "v",
           "showlegend": true,
           "type": "scatter",
           "x": [
            -87.77,
            -87.60000000000001
           ],
           "xaxis": "x",
           "y": [
            41.79,
            41.74
           ],
           "yaxis": "y"
          },
          {
           "hovertemplate": "Primary Type=NARCOTICS<br>t=18<br>Longitude=%{x}<br>Latitude=%{y}<br>size=%{marker.size}<extra></extra>",
           "legendgroup": "NARCOTICS",
           "marker": {
            "color": "#B6E880",
            "opacity": 0.5,
            "size": [
             2,
             2,
             2
            ],
            "sizemode": "area",
            "sizeref": 0.125,
            "symbol": "circle"
           },
           "mode": "markers",
           "name": "NARCOTICS",
           "orientation": "v",
           "showlegend": true,
           "type": "scatter",
           "x": [
            -87.77,
            -87.7,
            -87.65
           ],
           "xaxis": "x",
           "y": [
            41.89,
            41.9,
            41.75
           ],
           "yaxis": "y"
          },
          {
           "hovertemplate": "Primary Type=DECEPTIVE PRACTICE<br>t=18<br>Longitude=%{x}<br>Latitude=%{y}<br>size=%{marker.size}<extra></extra>",
           "legendgroup": "DECEPTIVE PRACTICE",
           "marker": {
            "color": "#FF97FF",
            "opacity": 0.5,
            "size": [
             2,
             2,
             2
            ],
            "sizemode": "area",
            "sizeref": 0.125,
            "symbol": "circle"
           },
           "mode": "markers",
           "name": "DECEPTIVE PRACTICE",
           "orientation": "v",
           "showlegend": true,
           "type": "scatter",
           "x": [
            -87.72,
            -87.72,
            -87.63
           ],
           "xaxis": "x",
           "y": [
            41.92,
            41.93,
            41.71
           ],
           "yaxis": "y"
          }
         ],
         "name": "18"
        },
        {
         "data": [
          {
           "hovertemplate": "Primary Type=THEFT<br>t=19<br>Longitude=%{x}<br>Latitude=%{y}<br>size=%{marker.size}<extra></extra>",
           "legendgroup": "THEFT",
           "marker": {
            "color": "#636efa",
            "opacity": 0.5,
            "size": [
             4,
             2,
             2,
             2,
             2,
             2,
             2,
             2,
             2,
             2,
             2,
             2,
             2,
             2,
             2,
             2,
             2,
             4,
             2,
             2,
             2,
             2,
             2
            ],
            "sizemode": "area",
            "sizeref": 0.125,
            "symbol": "circle"
           },
           "mode": "markers",
           "name": "THEFT",
           "orientation": "v",
           "showlegend": true,
           "type": "scatter",
           "x": [
            -87.91,
            -87.73,
            -87.73,
            -87.71000000000001,
            -87.71000000000001,
            -87.7,
            -87.7,
            -87.7,
            -87.69,
            -87.69,
            -87.69,
            -87.67,
            -87.67,
            -87.66,
            -87.65,
            -87.65,
            -87.65,
            -87.64,
            -87.62,
            -87.61,
            -87.61,
            -87.59,
            -87.59
           ],
           "xaxis": "x",
           "y": [
            41.97,
            41.87,
            41.9,
            41.81,
            41.99,
            41.9,
            41.97,
            42,
            41.67,
            41.800000000000004,
            41.99,
            41.800000000000004,
            41.94,
            41.88,
            41.75,
            41.77,
            41.9,
            41.86,
            41.74,
            41.75,
            41.81,
            41.76,
            41.800000000000004
           ],
           "yaxis": "y"
          },
          {
           "hovertemplate": "Primary Type=BATTERY<br>t=19<br>Longitude=%{x}<br>Latitude=%{y}<br>size=%{marker.size}<extra></extra>",
           "legendgroup": "BATTERY",
           "marker": {
            "color": "#EF553B",
            "opacity": 0.5,
            "size": [
             2,
             2,
             2,
             4,
             2,
             2,
             2,
             2,
             2,
             2,
             2,
             2,
             2,
             2,
             4,
             2,
             2
            ],
            "sizemode": "area",
            "sizeref": 0.125,
            "symbol": "circle"
           },
           "mode": "markers",
           "name": "BATTERY",
           "orientation": "v",
           "showlegend": true,
           "type": "scatter",
           "x": [
            -87.76,
            -87.76,
            -87.75,
            -87.73,
            -87.73,
            -87.72,
            -87.71000000000001,
            -87.71000000000001,
            -87.7,
            -87.68,
            -87.67,
            -87.67,
            -87.65,
            -87.63,
            -87.59,
            -87.58,
            -87.57000000000001
           ],
           "xaxis": "x",
           "y": [
            41.9,
            41.92,
            41.92,
            41.88,
            41.9,
            41.86,
            41.800000000000004,
            41.96,
            41.86,
            41.99,
            41.85,
            42,
            41.730000000000004,
            41.88,
            41.76,
            41.74,
            41.77
           ],
           "yaxis": "y"
          },
          {
           "hovertemplate": "Primary Type=CRIMINAL DAMAGE<br>t=19<br>Longitude=%{x}<br>Latitude=%{y}<br>size=%{marker.size}<extra></extra>",
           "legendgroup": "CRIMINAL DAMAGE",
           "marker": {
            "color": "#00cc96",
            "opacity": 0.5,
            "size": [
             2,
             4,
             2,
             2,
             2,
             2
            ],
            "sizemode": "area",
            "sizeref": 0.125,
            "symbol": "circle"
           },
           "mode": "markers",
           "name": "CRIMINAL DAMAGE",
           "orientation": "v",
           "showlegend": true,
           "type": "scatter",
           "x": [
            -87.74,
            -87.7,
            -87.69,
            -87.67,
            -87.67,
            -87.67
           ],
           "xaxis": "x",
           "y": [
            41.74,
            42,
            41.85,
            41.79,
            41.93,
            41.980000000000004
           ],
           "yaxis": "y"
          },
          {
           "hovertemplate": "Primary Type=ASSAULT<br>t=19<br>Longitude=%{x}<br>Latitude=%{y}<br>size=%{marker.size}<extra></extra>",
           "legendgroup": "ASSAULT",
           "marker": {
            "color": "#ab63fa",
            "opacity": 0.5,
            "size": [
             2,
             2,
             2,
             2,
             2,
             2,
             2,
             2,
             2
            ],
            "sizemode": "area",
            "sizeref": 0.125,
            "symbol": "circle"
           },
           "mode": "markers",
           "name": "ASSAULT",
           "orientation": "v",
           "showlegend": true,
           "type": "scatter",
           "x": [
            -87.72,
            -87.7,
            -87.69,
            -87.68,
            -87.66,
            -87.66,
            -87.64,
            -87.61,
            -87.54
           ],
           "xaxis": "x",
           "y": [
            41.87,
            41.92,
            41.82,
            41.85,
            41.71,
            41.87,
            41.89,
            41.65,
            41.71
           ],
           "yaxis": "y"
          },
          {
           "hovertemplate": "Primary Type=OTHER OFFENSE<br>t=19<br>Longitude=%{x}<br>Latitude=%{y}<br>size=%{marker.size}<extra></extra>",
           "legendgroup": "OTHER OFFENSE",
           "marker": {
            "color": "#FFA15A",
            "opacity": 0.5,
            "size": [
             2,
             2,
             2,
             2,
             2,
             2,
             2,
             2,
             2,
             2,
             2
            ],
            "sizemode": "area",
            "sizeref": 0.125,
            "symbol": "circle"
           },
           "mode": "markers",
           "name": "OTHER OFFENSE",
           "orientation": "v",
           "showlegend": true,
           "type": "scatter",
           "x": [
            -87.84,
            -87.7,
            -87.68,
            -87.67,
            -87.66,
            -87.65,
            -87.65,
            -87.64,
            -87.64,
            -87.62,
            -87.62
           ],
           "xaxis": "x",
           "y": [
            41.94,
            42.01,
            41.77,
            41.730000000000004,
            41.76,
            41.68,
            41.71,
            41.72,
            41.87,
            41.75,
            41.82
           ],
           "yaxis": "y"
          },
          {
           "hovertemplate": "Primary Type=BURGLARY<br>t=19<br>Longitude=%{x}<br>Latitude=%{y}<br>size=%{marker.size}<extra></extra>",
           "legendgroup": "BURGLARY",
           "marker": {
            "color": "#19d3f3",
            "opacity": 0.5,
            "size": [
             2,
             2,
             2,
             2
            ],
            "sizemode": "area",
            "sizeref": 0.125,
            "symbol": "circle"
           },
           "mode": "markers",
           "name": "BURGLARY",
           "orientation": "v",
           "showlegend": true,
           "type": "scatter",
           "x": [
            -87.7,
            -87.69,
            -87.68,
            -87.67
           ],
           "xaxis": "x",
           "y": [
            41.99,
            41.77,
            41.79,
            41.82
           ],
           "yaxis": "y"
          },
          {
           "hovertemplate": "Primary Type=MOTOR VEHICLE THEFT<br>t=19<br>Longitude=%{x}<br>Latitude=%{y}<br>size=%{marker.size}<extra></extra>",
           "legendgroup": "MOTOR VEHICLE THEFT",
           "marker": {
            "color": "#FF6692",
            "opacity": 0.5,
            "size": [
             2,
             2,
             2
            ],
            "sizemode": "area",
            "sizeref": 0.125,
            "symbol": "circle"
           },
           "mode": "markers",
           "name": "MOTOR VEHICLE THEFT",
           "orientation": "v",
           "showlegend": true,
           "type": "scatter",
           "x": [
            -87.75,
            -87.69,
            -87.58
           ],
           "xaxis": "x",
           "y": [
            41.910000000000004,
            41.96,
            41.77
           ],
           "yaxis": "y"
          },
          {
           "hovertemplate": "Primary Type=NARCOTICS<br>t=19<br>Longitude=%{x}<br>Latitude=%{y}<br>size=%{marker.size}<extra></extra>",
           "legendgroup": "NARCOTICS",
           "marker": {
            "color": "#B6E880",
            "opacity": 0.5,
            "size": [
             2,
             2,
             2,
             2
            ],
            "sizemode": "area",
            "sizeref": 0.125,
            "symbol": "circle"
           },
           "mode": "markers",
           "name": "NARCOTICS",
           "orientation": "v",
           "showlegend": true,
           "type": "scatter",
           "x": [
            -87.77,
            -87.65,
            -87.64,
            -87.59
           ],
           "xaxis": "x",
           "y": [
            41.88,
            41.77,
            41.86,
            41.74
           ],
           "yaxis": "y"
          },
          {
           "hovertemplate": "Primary Type=DECEPTIVE PRACTICE<br>t=19<br>Longitude=%{x}<br>Latitude=%{y}<br>size=%{marker.size}<extra></extra>",
           "legendgroup": "DECEPTIVE PRACTICE",
           "marker": {
            "color": "#FF97FF",
            "opacity": 0.5,
            "size": [
             2,
             2,
             2,
             2,
             2
            ],
            "sizemode": "area",
            "sizeref": 0.125,
            "symbol": "circle"
           },
           "mode": "markers",
           "name": "DECEPTIVE PRACTICE",
           "orientation": "v",
           "showlegend": true,
           "type": "scatter",
           "x": [
            -87.71000000000001,
            -87.7,
            -87.68,
            -87.67,
            -87.63
           ],
           "xaxis": "x",
           "y": [
            41.74,
            41.97,
            41.910000000000004,
            41.67,
            41.85
           ],
           "yaxis": "y"
          }
         ],
         "name": "19"
        }
       ],
       "layout": {
        "height": 800,
        "legend": {
         "itemsizing": "constant",
         "title": {
          "text": "Primary Type"
         },
         "tracegroupgap": 0
        },
        "margin": {
         "b": 20,
         "l": 20,
         "r": 50,
         "t": 50
        },
        "paper_bgcolor": "LightSteelBlue",
        "sliders": [
         {
          "active": 0,
          "currentvalue": {
           "prefix": "t="
          },
          "len": 0.9,
          "pad": {
           "b": 10,
           "t": 60
          },
          "steps": [
           {
            "args": [
             [
              "0"
             ],
             {
              "frame": {
               "duration": 0,
               "redraw": false
              },
              "fromcurrent": true,
              "mode": "immediate",
              "transition": {
               "duration": 0,
               "easing": "linear"
              }
             }
            ],
            "label": "0",
            "method": "animate"
           },
           {
            "args": [
             [
              "1"
             ],
             {
              "frame": {
               "duration": 0,
               "redraw": false
              },
              "fromcurrent": true,
              "mode": "immediate",
              "transition": {
               "duration": 0,
               "easing": "linear"
              }
             }
            ],
            "label": "1",
            "method": "animate"
           },
           {
            "args": [
             [
              "2"
             ],
             {
              "frame": {
               "duration": 0,
               "redraw": false
              },
              "fromcurrent": true,
              "mode": "immediate",
              "transition": {
               "duration": 0,
               "easing": "linear"
              }
             }
            ],
            "label": "2",
            "method": "animate"
           },
           {
            "args": [
             [
              "3"
             ],
             {
              "frame": {
               "duration": 0,
               "redraw": false
              },
              "fromcurrent": true,
              "mode": "immediate",
              "transition": {
               "duration": 0,
               "easing": "linear"
              }
             }
            ],
            "label": "3",
            "method": "animate"
           },
           {
            "args": [
             [
              "4"
             ],
             {
              "frame": {
               "duration": 0,
               "redraw": false
              },
              "fromcurrent": true,
              "mode": "immediate",
              "transition": {
               "duration": 0,
               "easing": "linear"
              }
             }
            ],
            "label": "4",
            "method": "animate"
           },
           {
            "args": [
             [
              "5"
             ],
             {
              "frame": {
               "duration": 0,
               "redraw": false
              },
              "fromcurrent": true,
              "mode": "immediate",
              "transition": {
               "duration": 0,
               "easing": "linear"
              }
             }
            ],
            "label": "5",
            "method": "animate"
           },
           {
            "args": [
             [
              "6"
             ],
             {
              "frame": {
               "duration": 0,
               "redraw": false
              },
              "fromcurrent": true,
              "mode": "immediate",
              "transition": {
               "duration": 0,
               "easing": "linear"
              }
             }
            ],
            "label": "6",
            "method": "animate"
           },
           {
            "args": [
             [
              "7"
             ],
             {
              "frame": {
               "duration": 0,
               "redraw": false
              },
              "fromcurrent": true,
              "mode": "immediate",
              "transition": {
               "duration": 0,
               "easing": "linear"
              }
             }
            ],
            "label": "7",
            "method": "animate"
           },
           {
            "args": [
             [
              "8"
             ],
             {
              "frame": {
               "duration": 0,
               "redraw": false
              },
              "fromcurrent": true,
              "mode": "immediate",
              "transition": {
               "duration": 0,
               "easing": "linear"
              }
             }
            ],
            "label": "8",
            "method": "animate"
           },
           {
            "args": [
             [
              "9"
             ],
             {
              "frame": {
               "duration": 0,
               "redraw": false
              },
              "fromcurrent": true,
              "mode": "immediate",
              "transition": {
               "duration": 0,
               "easing": "linear"
              }
             }
            ],
            "label": "9",
            "method": "animate"
           },
           {
            "args": [
             [
              "10"
             ],
             {
              "frame": {
               "duration": 0,
               "redraw": false
              },
              "fromcurrent": true,
              "mode": "immediate",
              "transition": {
               "duration": 0,
               "easing": "linear"
              }
             }
            ],
            "label": "10",
            "method": "animate"
           },
           {
            "args": [
             [
              "11"
             ],
             {
              "frame": {
               "duration": 0,
               "redraw": false
              },
              "fromcurrent": true,
              "mode": "immediate",
              "transition": {
               "duration": 0,
               "easing": "linear"
              }
             }
            ],
            "label": "11",
            "method": "animate"
           },
           {
            "args": [
             [
              "12"
             ],
             {
              "frame": {
               "duration": 0,
               "redraw": false
              },
              "fromcurrent": true,
              "mode": "immediate",
              "transition": {
               "duration": 0,
               "easing": "linear"
              }
             }
            ],
            "label": "12",
            "method": "animate"
           },
           {
            "args": [
             [
              "13"
             ],
             {
              "frame": {
               "duration": 0,
               "redraw": false
              },
              "fromcurrent": true,
              "mode": "immediate",
              "transition": {
               "duration": 0,
               "easing": "linear"
              }
             }
            ],
            "label": "13",
            "method": "animate"
           },
           {
            "args": [
             [
              "14"
             ],
             {
              "frame": {
               "duration": 0,
               "redraw": false
              },
              "fromcurrent": true,
              "mode": "immediate",
              "transition": {
               "duration": 0,
               "easing": "linear"
              }
             }
            ],
            "label": "14",
            "method": "animate"
           },
           {
            "args": [
             [
              "15"
             ],
             {
              "frame": {
               "duration": 0,
               "redraw": false
              },
              "fromcurrent": true,
              "mode": "immediate",
              "transition": {
               "duration": 0,
               "easing": "linear"
              }
             }
            ],
            "label": "15",
            "method": "animate"
           },
           {
            "args": [
             [
              "16"
             ],
             {
              "frame": {
               "duration": 0,
               "redraw": false
              },
              "fromcurrent": true,
              "mode": "immediate",
              "transition": {
               "duration": 0,
               "easing": "linear"
              }
             }
            ],
            "label": "16",
            "method": "animate"
           },
           {
            "args": [
             [
              "17"
             ],
             {
              "frame": {
               "duration": 0,
               "redraw": false
              },
              "fromcurrent": true,
              "mode": "immediate",
              "transition": {
               "duration": 0,
               "easing": "linear"
              }
             }
            ],
            "label": "17",
            "method": "animate"
           },
           {
            "args": [
             [
              "18"
             ],
             {
              "frame": {
               "duration": 0,
               "redraw": false
              },
              "fromcurrent": true,
              "mode": "immediate",
              "transition": {
               "duration": 0,
               "easing": "linear"
              }
             }
            ],
            "label": "18",
            "method": "animate"
           },
           {
            "args": [
             [
              "19"
             ],
             {
              "frame": {
               "duration": 0,
               "redraw": false
              },
              "fromcurrent": true,
              "mode": "immediate",
              "transition": {
               "duration": 0,
               "easing": "linear"
              }
             }
            ],
            "label": "19",
            "method": "animate"
           }
          ],
          "x": 0.1,
          "xanchor": "left",
          "y": 0,
          "yanchor": "top"
         }
        ],
        "template": {
         "data": {
          "bar": [
           {
            "error_x": {
             "color": "#2a3f5f"
            },
            "error_y": {
             "color": "#2a3f5f"
            },
            "marker": {
             "line": {
              "color": "#E5ECF6",
              "width": 0.5
             }
            },
            "type": "bar"
           }
          ],
          "barpolar": [
           {
            "marker": {
             "line": {
              "color": "#E5ECF6",
              "width": 0.5
             }
            },
            "type": "barpolar"
           }
          ],
          "carpet": [
           {
            "aaxis": {
             "endlinecolor": "#2a3f5f",
             "gridcolor": "white",
             "linecolor": "white",
             "minorgridcolor": "white",
             "startlinecolor": "#2a3f5f"
            },
            "baxis": {
             "endlinecolor": "#2a3f5f",
             "gridcolor": "white",
             "linecolor": "white",
             "minorgridcolor": "white",
             "startlinecolor": "#2a3f5f"
            },
            "type": "carpet"
           }
          ],
          "choropleth": [
           {
            "colorbar": {
             "outlinewidth": 0,
             "ticks": ""
            },
            "type": "choropleth"
           }
          ],
          "contour": [
           {
            "colorbar": {
             "outlinewidth": 0,
             "ticks": ""
            },
            "colorscale": [
             [
              0,
              "#0d0887"
             ],
             [
              0.1111111111111111,
              "#46039f"
             ],
             [
              0.2222222222222222,
              "#7201a8"
             ],
             [
              0.3333333333333333,
              "#9c179e"
             ],
             [
              0.4444444444444444,
              "#bd3786"
             ],
             [
              0.5555555555555556,
              "#d8576b"
             ],
             [
              0.6666666666666666,
              "#ed7953"
             ],
             [
              0.7777777777777778,
              "#fb9f3a"
             ],
             [
              0.8888888888888888,
              "#fdca26"
             ],
             [
              1,
              "#f0f921"
             ]
            ],
            "type": "contour"
           }
          ],
          "contourcarpet": [
           {
            "colorbar": {
             "outlinewidth": 0,
             "ticks": ""
            },
            "type": "contourcarpet"
           }
          ],
          "heatmap": [
           {
            "colorbar": {
             "outlinewidth": 0,
             "ticks": ""
            },
            "colorscale": [
             [
              0,
              "#0d0887"
             ],
             [
              0.1111111111111111,
              "#46039f"
             ],
             [
              0.2222222222222222,
              "#7201a8"
             ],
             [
              0.3333333333333333,
              "#9c179e"
             ],
             [
              0.4444444444444444,
              "#bd3786"
             ],
             [
              0.5555555555555556,
              "#d8576b"
             ],
             [
              0.6666666666666666,
              "#ed7953"
             ],
             [
              0.7777777777777778,
              "#fb9f3a"
             ],
             [
              0.8888888888888888,
              "#fdca26"
             ],
             [
              1,
              "#f0f921"
             ]
            ],
            "type": "heatmap"
           }
          ],
          "heatmapgl": [
           {
            "colorbar": {
             "outlinewidth": 0,
             "ticks": ""
            },
            "colorscale": [
             [
              0,
              "#0d0887"
             ],
             [
              0.1111111111111111,
              "#46039f"
             ],
             [
              0.2222222222222222,
              "#7201a8"
             ],
             [
              0.3333333333333333,
              "#9c179e"
             ],
             [
              0.4444444444444444,
              "#bd3786"
             ],
             [
              0.5555555555555556,
              "#d8576b"
             ],
             [
              0.6666666666666666,
              "#ed7953"
             ],
             [
              0.7777777777777778,
              "#fb9f3a"
             ],
             [
              0.8888888888888888,
              "#fdca26"
             ],
             [
              1,
              "#f0f921"
             ]
            ],
            "type": "heatmapgl"
           }
          ],
          "histogram": [
           {
            "marker": {
             "colorbar": {
              "outlinewidth": 0,
              "ticks": ""
             }
            },
            "type": "histogram"
           }
          ],
          "histogram2d": [
           {
            "colorbar": {
             "outlinewidth": 0,
             "ticks": ""
            },
            "colorscale": [
             [
              0,
              "#0d0887"
             ],
             [
              0.1111111111111111,
              "#46039f"
             ],
             [
              0.2222222222222222,
              "#7201a8"
             ],
             [
              0.3333333333333333,
              "#9c179e"
             ],
             [
              0.4444444444444444,
              "#bd3786"
             ],
             [
              0.5555555555555556,
              "#d8576b"
             ],
             [
              0.6666666666666666,
              "#ed7953"
             ],
             [
              0.7777777777777778,
              "#fb9f3a"
             ],
             [
              0.8888888888888888,
              "#fdca26"
             ],
             [
              1,
              "#f0f921"
             ]
            ],
            "type": "histogram2d"
           }
          ],
          "histogram2dcontour": [
           {
            "colorbar": {
             "outlinewidth": 0,
             "ticks": ""
            },
            "colorscale": [
             [
              0,
              "#0d0887"
             ],
             [
              0.1111111111111111,
              "#46039f"
             ],
             [
              0.2222222222222222,
              "#7201a8"
             ],
             [
              0.3333333333333333,
              "#9c179e"
             ],
             [
              0.4444444444444444,
              "#bd3786"
             ],
             [
              0.5555555555555556,
              "#d8576b"
             ],
             [
              0.6666666666666666,
              "#ed7953"
             ],
             [
              0.7777777777777778,
              "#fb9f3a"
             ],
             [
              0.8888888888888888,
              "#fdca26"
             ],
             [
              1,
              "#f0f921"
             ]
            ],
            "type": "histogram2dcontour"
           }
          ],
          "mesh3d": [
           {
            "colorbar": {
             "outlinewidth": 0,
             "ticks": ""
            },
            "type": "mesh3d"
           }
          ],
          "parcoords": [
           {
            "line": {
             "colorbar": {
              "outlinewidth": 0,
              "ticks": ""
             }
            },
            "type": "parcoords"
           }
          ],
          "pie": [
           {
            "automargin": true,
            "type": "pie"
           }
          ],
          "scatter": [
           {
            "marker": {
             "colorbar": {
              "outlinewidth": 0,
              "ticks": ""
             }
            },
            "type": "scatter"
           }
          ],
          "scatter3d": [
           {
            "line": {
             "colorbar": {
              "outlinewidth": 0,
              "ticks": ""
             }
            },
            "marker": {
             "colorbar": {
              "outlinewidth": 0,
              "ticks": ""
             }
            },
            "type": "scatter3d"
           }
          ],
          "scattercarpet": [
           {
            "marker": {
             "colorbar": {
              "outlinewidth": 0,
              "ticks": ""
             }
            },
            "type": "scattercarpet"
           }
          ],
          "scattergeo": [
           {
            "marker": {
             "colorbar": {
              "outlinewidth": 0,
              "ticks": ""
             }
            },
            "type": "scattergeo"
           }
          ],
          "scattergl": [
           {
            "marker": {
             "colorbar": {
              "outlinewidth": 0,
              "ticks": ""
             }
            },
            "type": "scattergl"
           }
          ],
          "scattermapbox": [
           {
            "marker": {
             "colorbar": {
              "outlinewidth": 0,
              "ticks": ""
             }
            },
            "type": "scattermapbox"
           }
          ],
          "scatterpolar": [
           {
            "marker": {
             "colorbar": {
              "outlinewidth": 0,
              "ticks": ""
             }
            },
            "type": "scatterpolar"
           }
          ],
          "scatterpolargl": [
           {
            "marker": {
             "colorbar": {
              "outlinewidth": 0,
              "ticks": ""
             }
            },
            "type": "scatterpolargl"
           }
          ],
          "scatterternary": [
           {
            "marker": {
             "colorbar": {
              "outlinewidth": 0,
              "ticks": ""
             }
            },
            "type": "scatterternary"
           }
          ],
          "surface": [
           {
            "colorbar": {
             "outlinewidth": 0,
             "ticks": ""
            },
            "colorscale": [
             [
              0,
              "#0d0887"
             ],
             [
              0.1111111111111111,
              "#46039f"
             ],
             [
              0.2222222222222222,
              "#7201a8"
             ],
             [
              0.3333333333333333,
              "#9c179e"
             ],
             [
              0.4444444444444444,
              "#bd3786"
             ],
             [
              0.5555555555555556,
              "#d8576b"
             ],
             [
              0.6666666666666666,
              "#ed7953"
             ],
             [
              0.7777777777777778,
              "#fb9f3a"
             ],
             [
              0.8888888888888888,
              "#fdca26"
             ],
             [
              1,
              "#f0f921"
             ]
            ],
            "type": "surface"
           }
          ],
          "table": [
           {
            "cells": {
             "fill": {
              "color": "#EBF0F8"
             },
             "line": {
              "color": "white"
             }
            },
            "header": {
             "fill": {
              "color": "#C8D4E3"
             },
             "line": {
              "color": "white"
             }
            },
            "type": "table"
           }
          ]
         },
         "layout": {
          "annotationdefaults": {
           "arrowcolor": "#2a3f5f",
           "arrowhead": 0,
           "arrowwidth": 1
          },
          "coloraxis": {
           "colorbar": {
            "outlinewidth": 0,
            "ticks": ""
           }
          },
          "colorscale": {
           "diverging": [
            [
             0,
             "#8e0152"
            ],
            [
             0.1,
             "#c51b7d"
            ],
            [
             0.2,
             "#de77ae"
            ],
            [
             0.3,
             "#f1b6da"
            ],
            [
             0.4,
             "#fde0ef"
            ],
            [
             0.5,
             "#f7f7f7"
            ],
            [
             0.6,
             "#e6f5d0"
            ],
            [
             0.7,
             "#b8e186"
            ],
            [
             0.8,
             "#7fbc41"
            ],
            [
             0.9,
             "#4d9221"
            ],
            [
             1,
             "#276419"
            ]
           ],
           "sequential": [
            [
             0,
             "#0d0887"
            ],
            [
             0.1111111111111111,
             "#46039f"
            ],
            [
             0.2222222222222222,
             "#7201a8"
            ],
            [
             0.3333333333333333,
             "#9c179e"
            ],
            [
             0.4444444444444444,
             "#bd3786"
            ],
            [
             0.5555555555555556,
             "#d8576b"
            ],
            [
             0.6666666666666666,
             "#ed7953"
            ],
            [
             0.7777777777777778,
             "#fb9f3a"
            ],
            [
             0.8888888888888888,
             "#fdca26"
            ],
            [
             1,
             "#f0f921"
            ]
           ],
           "sequentialminus": [
            [
             0,
             "#0d0887"
            ],
            [
             0.1111111111111111,
             "#46039f"
            ],
            [
             0.2222222222222222,
             "#7201a8"
            ],
            [
             0.3333333333333333,
             "#9c179e"
            ],
            [
             0.4444444444444444,
             "#bd3786"
            ],
            [
             0.5555555555555556,
             "#d8576b"
            ],
            [
             0.6666666666666666,
             "#ed7953"
            ],
            [
             0.7777777777777778,
             "#fb9f3a"
            ],
            [
             0.8888888888888888,
             "#fdca26"
            ],
            [
             1,
             "#f0f921"
            ]
           ]
          },
          "colorway": [
           "#636efa",
           "#EF553B",
           "#00cc96",
           "#ab63fa",
           "#FFA15A",
           "#19d3f3",
           "#FF6692",
           "#B6E880",
           "#FF97FF",
           "#FECB52"
          ],
          "font": {
           "color": "#2a3f5f"
          },
          "geo": {
           "bgcolor": "white",
           "lakecolor": "white",
           "landcolor": "#E5ECF6",
           "showlakes": true,
           "showland": true,
           "subunitcolor": "white"
          },
          "hoverlabel": {
           "align": "left"
          },
          "hovermode": "closest",
          "mapbox": {
           "style": "light"
          },
          "paper_bgcolor": "white",
          "plot_bgcolor": "#E5ECF6",
          "polar": {
           "angularaxis": {
            "gridcolor": "white",
            "linecolor": "white",
            "ticks": ""
           },
           "bgcolor": "#E5ECF6",
           "radialaxis": {
            "gridcolor": "white",
            "linecolor": "white",
            "ticks": ""
           }
          },
          "scene": {
           "xaxis": {
            "backgroundcolor": "#E5ECF6",
            "gridcolor": "white",
            "gridwidth": 2,
            "linecolor": "white",
            "showbackground": true,
            "ticks": "",
            "zerolinecolor": "white"
           },
           "yaxis": {
            "backgroundcolor": "#E5ECF6",
            "gridcolor": "white",
            "gridwidth": 2,
            "linecolor": "white",
            "showbackground": true,
            "ticks": "",
            "zerolinecolor": "white"
           },
           "zaxis": {
            "backgroundcolor": "#E5ECF6",
            "gridcolor": "white",
            "gridwidth": 2,
            "linecolor": "white",
            "showbackground": true,
            "ticks": "",
            "zerolinecolor": "white"
           }
          },
          "shapedefaults": {
           "line": {
            "color": "#2a3f5f"
           }
          },
          "ternary": {
           "aaxis": {
            "gridcolor": "white",
            "linecolor": "white",
            "ticks": ""
           },
           "baxis": {
            "gridcolor": "white",
            "linecolor": "white",
            "ticks": ""
           },
           "bgcolor": "#E5ECF6",
           "caxis": {
            "gridcolor": "white",
            "linecolor": "white",
            "ticks": ""
           }
          },
          "title": {
           "x": 0.05
          },
          "xaxis": {
           "automargin": true,
           "gridcolor": "white",
           "linecolor": "white",
           "ticks": "",
           "title": {
            "standoff": 15
           },
           "zerolinecolor": "white",
           "zerolinewidth": 2
          },
          "yaxis": {
           "automargin": true,
           "gridcolor": "white",
           "linecolor": "white",
           "ticks": "",
           "title": {
            "standoff": 15
           },
           "zerolinecolor": "white",
           "zerolinewidth": 2
          }
         }
        },
        "title": {
         "text": "Animated Crime Over Time"
        },
        "updatemenus": [
         {
          "buttons": [
           {
            "args": [
             null,
             {
              "frame": {
               "duration": 500,
               "redraw": false
              },
              "fromcurrent": true,
              "mode": "immediate",
              "transition": {
               "duration": 0,
               "easing": "linear"
              }
             }
            ],
            "label": "&#9654;",
            "method": "animate"
           },
           {
            "args": [
             [
              null
             ],
             {
              "frame": {
               "duration": 0,
               "redraw": false
              },
              "fromcurrent": true,
              "mode": "immediate",
              "transition": {
               "duration": 0,
               "easing": "linear"
              }
             }
            ],
            "label": "&#9724;",
            "method": "animate"
           }
          ],
          "direction": "left",
          "pad": {
           "r": 10,
           "t": 70
          },
          "showactive": false,
          "type": "buttons",
          "x": 0.1,
          "xanchor": "right",
          "y": 0,
          "yanchor": "top"
         }
        ],
        "width": 800,
        "xaxis": {
         "anchor": "y",
         "domain": [
          0,
          1
         ],
         "title": {
          "text": "Longitude"
         }
        },
        "yaxis": {
         "anchor": "x",
         "domain": [
          0,
          1
         ],
         "title": {
          "text": "Latitude"
         }
        }
       }
      },
      "text/html": [
       "<div>\n",
       "        \n",
       "        \n",
       "            <div id=\"f423dbc0-31b4-4870-abb8-25304d80eeba\" class=\"plotly-graph-div\" style=\"height:800px; width:800px;\"></div>\n",
       "            <script type=\"text/javascript\">\n",
       "                require([\"plotly\"], function(Plotly) {\n",
       "                    window.PLOTLYENV=window.PLOTLYENV || {};\n",
       "                    \n",
       "                if (document.getElementById(\"f423dbc0-31b4-4870-abb8-25304d80eeba\")) {\n",
       "                    Plotly.newPlot(\n",
       "                        'f423dbc0-31b4-4870-abb8-25304d80eeba',\n",
       "                        [{\"hovertemplate\": \"Primary Type=THEFT<br>t=0<br>Longitude=%{x}<br>Latitude=%{y}<br>size=%{marker.size}<extra></extra>\", \"legendgroup\": \"THEFT\", \"marker\": {\"color\": \"#636efa\", \"opacity\": 0.5, \"size\": [2.0, 2.0, 2.0, 2.0, 2.0, 2.0, 2.0, 2.0, 2.0, 2.0, 2.0, 2.0], \"sizemode\": \"area\", \"sizeref\": 0.125, \"symbol\": \"circle\"}, \"mode\": \"markers\", \"name\": \"THEFT\", \"orientation\": \"v\", \"showlegend\": true, \"type\": \"scatter\", \"x\": [-87.78, -87.73, -87.72, -87.7, -87.7, -87.68, -87.68, -87.67, -87.67, -87.64, -87.63, -87.59], \"xaxis\": \"x\", \"y\": [41.79, 41.94, 41.87, 41.95, 41.96, 41.78, 41.99, 41.77, 41.87, 41.88, 41.89, 41.800000000000004], \"yaxis\": \"y\"}, {\"hovertemplate\": \"Primary Type=BATTERY<br>t=0<br>Longitude=%{x}<br>Latitude=%{y}<br>size=%{marker.size}<extra></extra>\", \"legendgroup\": \"BATTERY\", \"marker\": {\"color\": \"#EF553B\", \"opacity\": 0.5, \"size\": [2.0, 4.0, 2.0, 2.0, 2.0, 2.0, 2.0, 2.0, 2.0, 4.0, 2.0, 2.0, 2.0, 2.0], \"sizemode\": \"area\", \"sizeref\": 0.125, \"symbol\": \"circle\"}, \"mode\": \"markers\", \"name\": \"BATTERY\", \"orientation\": \"v\", \"showlegend\": true, \"type\": \"scatter\", \"x\": [-87.79, -87.76, -87.75, -87.74, -87.73, -87.72, -87.69, -87.67, -87.66, -87.65, -87.64, -87.63, -87.62, -87.57000000000001], \"xaxis\": \"x\", \"y\": [41.96, 41.87, 41.89, 41.86, 41.85, 41.89, 41.99, 41.79, 41.76, 41.77, 41.800000000000004, 41.800000000000004, 41.800000000000004, 41.74], \"yaxis\": \"y\"}, {\"hovertemplate\": \"Primary Type=CRIMINAL DAMAGE<br>t=0<br>Longitude=%{x}<br>Latitude=%{y}<br>size=%{marker.size}<extra></extra>\", \"legendgroup\": \"CRIMINAL DAMAGE\", \"marker\": {\"color\": \"#00cc96\", \"opacity\": 0.5, \"size\": [2.0, 2.0, 2.0, 2.0, 2.0, 2.0, 2.0, 4.0, 2.0, 2.0], \"sizemode\": \"area\", \"sizeref\": 0.125, \"symbol\": \"circle\"}, \"mode\": \"markers\", \"name\": \"CRIMINAL DAMAGE\", \"orientation\": \"v\", \"showlegend\": true, \"type\": \"scatter\", \"x\": [-87.77, -87.77, -87.75, -87.73, -87.71000000000001, -87.71000000000001, -87.64, -87.63, -87.63, -87.60000000000001], \"xaxis\": \"x\", \"y\": [41.9, 41.910000000000004, 41.89, 41.85, 41.81, 41.88, 41.79, 41.69, 41.9, 41.79], \"yaxis\": \"y\"}, {\"hovertemplate\": \"Primary Type=ASSAULT<br>t=0<br>Longitude=%{x}<br>Latitude=%{y}<br>size=%{marker.size}<extra></extra>\", \"legendgroup\": \"ASSAULT\", \"marker\": {\"color\": \"#ab63fa\", \"opacity\": 0.5, \"size\": [2.0], \"sizemode\": \"area\", \"sizeref\": 0.125, \"symbol\": \"circle\"}, \"mode\": \"markers\", \"name\": \"ASSAULT\", \"orientation\": \"v\", \"showlegend\": true, \"type\": \"scatter\", \"x\": [-87.72], \"xaxis\": \"x\", \"y\": [41.94], \"yaxis\": \"y\"}, {\"hovertemplate\": \"Primary Type=OTHER OFFENSE<br>t=0<br>Longitude=%{x}<br>Latitude=%{y}<br>size=%{marker.size}<extra></extra>\", \"legendgroup\": \"OTHER OFFENSE\", \"marker\": {\"color\": \"#FFA15A\", \"opacity\": 0.5, \"size\": [2.0, 2.0, 2.0, 2.0, 2.0], \"sizemode\": \"area\", \"sizeref\": 0.125, \"symbol\": \"circle\"}, \"mode\": \"markers\", \"name\": \"OTHER OFFENSE\", \"orientation\": \"v\", \"showlegend\": true, \"type\": \"scatter\", \"x\": [-87.66, -87.63, -87.63, -87.61, -87.59], \"xaxis\": \"x\", \"y\": [41.99, 41.72, 41.800000000000004, 41.74, 41.7], \"yaxis\": \"y\"}, {\"hovertemplate\": \"Primary Type=BURGLARY<br>t=0<br>Longitude=%{x}<br>Latitude=%{y}<br>size=%{marker.size}<extra></extra>\", \"legendgroup\": \"BURGLARY\", \"marker\": {\"color\": \"#19d3f3\", \"opacity\": 0.5, \"size\": [2.0], \"sizemode\": \"area\", \"sizeref\": 0.125, \"symbol\": \"circle\"}, \"mode\": \"markers\", \"name\": \"BURGLARY\", \"orientation\": \"v\", \"showlegend\": true, \"type\": \"scatter\", \"x\": [-87.67], \"xaxis\": \"x\", \"y\": [41.92], \"yaxis\": \"y\"}, {\"hovertemplate\": \"Primary Type=MOTOR VEHICLE THEFT<br>t=0<br>Longitude=%{x}<br>Latitude=%{y}<br>size=%{marker.size}<extra></extra>\", \"legendgroup\": \"MOTOR VEHICLE THEFT\", \"marker\": {\"color\": \"#FF6692\", \"opacity\": 0.5, \"size\": [2.0], \"sizemode\": \"area\", \"sizeref\": 0.125, \"symbol\": \"circle\"}, \"mode\": \"markers\", \"name\": \"MOTOR VEHICLE THEFT\", \"orientation\": \"v\", \"showlegend\": true, \"type\": \"scatter\", \"x\": [-87.61], \"xaxis\": \"x\", \"y\": [41.71], \"yaxis\": \"y\"}],\n",
       "                        {\"height\": 800, \"legend\": {\"itemsizing\": \"constant\", \"title\": {\"text\": \"Primary Type\"}, \"tracegroupgap\": 0}, \"margin\": {\"b\": 20, \"l\": 20, \"r\": 50, \"t\": 50}, \"paper_bgcolor\": \"LightSteelBlue\", \"sliders\": [{\"active\": 0, \"currentvalue\": {\"prefix\": \"t=\"}, \"len\": 0.9, \"pad\": {\"b\": 10, \"t\": 60}, \"steps\": [{\"args\": [[\"0\"], {\"frame\": {\"duration\": 0, \"redraw\": false}, \"fromcurrent\": true, \"mode\": \"immediate\", \"transition\": {\"duration\": 0, \"easing\": \"linear\"}}], \"label\": \"0\", \"method\": \"animate\"}, {\"args\": [[\"1\"], {\"frame\": {\"duration\": 0, \"redraw\": false}, \"fromcurrent\": true, \"mode\": \"immediate\", \"transition\": {\"duration\": 0, \"easing\": \"linear\"}}], \"label\": \"1\", \"method\": \"animate\"}, {\"args\": [[\"2\"], {\"frame\": {\"duration\": 0, \"redraw\": false}, \"fromcurrent\": true, \"mode\": \"immediate\", \"transition\": {\"duration\": 0, \"easing\": \"linear\"}}], \"label\": \"2\", \"method\": \"animate\"}, {\"args\": [[\"3\"], {\"frame\": {\"duration\": 0, \"redraw\": false}, \"fromcurrent\": true, \"mode\": \"immediate\", \"transition\": {\"duration\": 0, \"easing\": \"linear\"}}], \"label\": \"3\", \"method\": \"animate\"}, {\"args\": [[\"4\"], {\"frame\": {\"duration\": 0, \"redraw\": false}, \"fromcurrent\": true, \"mode\": \"immediate\", \"transition\": {\"duration\": 0, \"easing\": \"linear\"}}], \"label\": \"4\", \"method\": \"animate\"}, {\"args\": [[\"5\"], {\"frame\": {\"duration\": 0, \"redraw\": false}, \"fromcurrent\": true, \"mode\": \"immediate\", \"transition\": {\"duration\": 0, \"easing\": \"linear\"}}], \"label\": \"5\", \"method\": \"animate\"}, {\"args\": [[\"6\"], {\"frame\": {\"duration\": 0, \"redraw\": false}, \"fromcurrent\": true, \"mode\": \"immediate\", \"transition\": {\"duration\": 0, \"easing\": \"linear\"}}], \"label\": \"6\", \"method\": \"animate\"}, {\"args\": [[\"7\"], {\"frame\": {\"duration\": 0, \"redraw\": false}, \"fromcurrent\": true, \"mode\": \"immediate\", \"transition\": {\"duration\": 0, \"easing\": \"linear\"}}], \"label\": \"7\", \"method\": \"animate\"}, {\"args\": [[\"8\"], {\"frame\": {\"duration\": 0, \"redraw\": false}, \"fromcurrent\": true, \"mode\": \"immediate\", \"transition\": {\"duration\": 0, \"easing\": \"linear\"}}], \"label\": \"8\", \"method\": \"animate\"}, {\"args\": [[\"9\"], {\"frame\": {\"duration\": 0, \"redraw\": false}, \"fromcurrent\": true, \"mode\": \"immediate\", \"transition\": {\"duration\": 0, \"easing\": \"linear\"}}], \"label\": \"9\", \"method\": \"animate\"}, {\"args\": [[\"10\"], {\"frame\": {\"duration\": 0, \"redraw\": false}, \"fromcurrent\": true, \"mode\": \"immediate\", \"transition\": {\"duration\": 0, \"easing\": \"linear\"}}], \"label\": \"10\", \"method\": \"animate\"}, {\"args\": [[\"11\"], {\"frame\": {\"duration\": 0, \"redraw\": false}, \"fromcurrent\": true, \"mode\": \"immediate\", \"transition\": {\"duration\": 0, \"easing\": \"linear\"}}], \"label\": \"11\", \"method\": \"animate\"}, {\"args\": [[\"12\"], {\"frame\": {\"duration\": 0, \"redraw\": false}, \"fromcurrent\": true, \"mode\": \"immediate\", \"transition\": {\"duration\": 0, \"easing\": \"linear\"}}], \"label\": \"12\", \"method\": \"animate\"}, {\"args\": [[\"13\"], {\"frame\": {\"duration\": 0, \"redraw\": false}, \"fromcurrent\": true, \"mode\": \"immediate\", \"transition\": {\"duration\": 0, \"easing\": \"linear\"}}], \"label\": \"13\", \"method\": \"animate\"}, {\"args\": [[\"14\"], {\"frame\": {\"duration\": 0, \"redraw\": false}, \"fromcurrent\": true, \"mode\": \"immediate\", \"transition\": {\"duration\": 0, \"easing\": \"linear\"}}], \"label\": \"14\", \"method\": \"animate\"}, {\"args\": [[\"15\"], {\"frame\": {\"duration\": 0, \"redraw\": false}, \"fromcurrent\": true, \"mode\": \"immediate\", \"transition\": {\"duration\": 0, \"easing\": \"linear\"}}], \"label\": \"15\", \"method\": \"animate\"}, {\"args\": [[\"16\"], {\"frame\": {\"duration\": 0, \"redraw\": false}, \"fromcurrent\": true, \"mode\": \"immediate\", \"transition\": {\"duration\": 0, \"easing\": \"linear\"}}], \"label\": \"16\", \"method\": \"animate\"}, {\"args\": [[\"17\"], {\"frame\": {\"duration\": 0, \"redraw\": false}, \"fromcurrent\": true, \"mode\": \"immediate\", \"transition\": {\"duration\": 0, \"easing\": \"linear\"}}], \"label\": \"17\", \"method\": \"animate\"}, {\"args\": [[\"18\"], {\"frame\": {\"duration\": 0, \"redraw\": false}, \"fromcurrent\": true, \"mode\": \"immediate\", \"transition\": {\"duration\": 0, \"easing\": \"linear\"}}], \"label\": \"18\", \"method\": \"animate\"}, {\"args\": [[\"19\"], {\"frame\": {\"duration\": 0, \"redraw\": false}, \"fromcurrent\": true, \"mode\": \"immediate\", \"transition\": {\"duration\": 0, \"easing\": \"linear\"}}], \"label\": \"19\", \"method\": \"animate\"}], \"x\": 0.1, \"xanchor\": \"left\", \"y\": 0, \"yanchor\": \"top\"}], \"template\": {\"data\": {\"bar\": [{\"error_x\": {\"color\": \"#2a3f5f\"}, \"error_y\": {\"color\": \"#2a3f5f\"}, \"marker\": {\"line\": {\"color\": \"#E5ECF6\", \"width\": 0.5}}, \"type\": \"bar\"}], \"barpolar\": [{\"marker\": {\"line\": {\"color\": \"#E5ECF6\", \"width\": 0.5}}, \"type\": \"barpolar\"}], \"carpet\": [{\"aaxis\": {\"endlinecolor\": \"#2a3f5f\", \"gridcolor\": \"white\", \"linecolor\": \"white\", \"minorgridcolor\": \"white\", \"startlinecolor\": \"#2a3f5f\"}, \"baxis\": {\"endlinecolor\": \"#2a3f5f\", \"gridcolor\": \"white\", \"linecolor\": \"white\", \"minorgridcolor\": \"white\", \"startlinecolor\": \"#2a3f5f\"}, \"type\": \"carpet\"}], \"choropleth\": [{\"colorbar\": {\"outlinewidth\": 0, \"ticks\": \"\"}, \"type\": \"choropleth\"}], \"contour\": [{\"colorbar\": {\"outlinewidth\": 0, \"ticks\": \"\"}, \"colorscale\": [[0.0, \"#0d0887\"], [0.1111111111111111, \"#46039f\"], [0.2222222222222222, \"#7201a8\"], [0.3333333333333333, \"#9c179e\"], [0.4444444444444444, \"#bd3786\"], [0.5555555555555556, \"#d8576b\"], [0.6666666666666666, \"#ed7953\"], [0.7777777777777778, \"#fb9f3a\"], [0.8888888888888888, \"#fdca26\"], [1.0, \"#f0f921\"]], \"type\": \"contour\"}], \"contourcarpet\": [{\"colorbar\": {\"outlinewidth\": 0, \"ticks\": \"\"}, \"type\": \"contourcarpet\"}], \"heatmap\": [{\"colorbar\": {\"outlinewidth\": 0, \"ticks\": \"\"}, \"colorscale\": [[0.0, \"#0d0887\"], [0.1111111111111111, \"#46039f\"], [0.2222222222222222, \"#7201a8\"], [0.3333333333333333, \"#9c179e\"], [0.4444444444444444, \"#bd3786\"], [0.5555555555555556, \"#d8576b\"], [0.6666666666666666, \"#ed7953\"], [0.7777777777777778, \"#fb9f3a\"], [0.8888888888888888, \"#fdca26\"], [1.0, \"#f0f921\"]], \"type\": \"heatmap\"}], \"heatmapgl\": [{\"colorbar\": {\"outlinewidth\": 0, \"ticks\": \"\"}, \"colorscale\": [[0.0, \"#0d0887\"], [0.1111111111111111, \"#46039f\"], [0.2222222222222222, \"#7201a8\"], [0.3333333333333333, \"#9c179e\"], [0.4444444444444444, \"#bd3786\"], [0.5555555555555556, \"#d8576b\"], [0.6666666666666666, \"#ed7953\"], [0.7777777777777778, \"#fb9f3a\"], [0.8888888888888888, \"#fdca26\"], [1.0, \"#f0f921\"]], \"type\": \"heatmapgl\"}], \"histogram\": [{\"marker\": {\"colorbar\": {\"outlinewidth\": 0, \"ticks\": \"\"}}, \"type\": \"histogram\"}], \"histogram2d\": [{\"colorbar\": {\"outlinewidth\": 0, \"ticks\": \"\"}, \"colorscale\": [[0.0, \"#0d0887\"], [0.1111111111111111, \"#46039f\"], [0.2222222222222222, \"#7201a8\"], [0.3333333333333333, \"#9c179e\"], [0.4444444444444444, \"#bd3786\"], [0.5555555555555556, \"#d8576b\"], [0.6666666666666666, \"#ed7953\"], [0.7777777777777778, \"#fb9f3a\"], [0.8888888888888888, \"#fdca26\"], [1.0, \"#f0f921\"]], \"type\": \"histogram2d\"}], \"histogram2dcontour\": [{\"colorbar\": {\"outlinewidth\": 0, \"ticks\": \"\"}, \"colorscale\": [[0.0, \"#0d0887\"], [0.1111111111111111, \"#46039f\"], [0.2222222222222222, \"#7201a8\"], [0.3333333333333333, \"#9c179e\"], [0.4444444444444444, \"#bd3786\"], [0.5555555555555556, \"#d8576b\"], [0.6666666666666666, \"#ed7953\"], [0.7777777777777778, \"#fb9f3a\"], [0.8888888888888888, \"#fdca26\"], [1.0, \"#f0f921\"]], \"type\": \"histogram2dcontour\"}], \"mesh3d\": [{\"colorbar\": {\"outlinewidth\": 0, \"ticks\": \"\"}, \"type\": \"mesh3d\"}], \"parcoords\": [{\"line\": {\"colorbar\": {\"outlinewidth\": 0, \"ticks\": \"\"}}, \"type\": \"parcoords\"}], \"pie\": [{\"automargin\": true, \"type\": \"pie\"}], \"scatter\": [{\"marker\": {\"colorbar\": {\"outlinewidth\": 0, \"ticks\": \"\"}}, \"type\": \"scatter\"}], \"scatter3d\": [{\"line\": {\"colorbar\": {\"outlinewidth\": 0, \"ticks\": \"\"}}, \"marker\": {\"colorbar\": {\"outlinewidth\": 0, \"ticks\": \"\"}}, \"type\": \"scatter3d\"}], \"scattercarpet\": [{\"marker\": {\"colorbar\": {\"outlinewidth\": 0, \"ticks\": \"\"}}, \"type\": \"scattercarpet\"}], \"scattergeo\": [{\"marker\": {\"colorbar\": {\"outlinewidth\": 0, \"ticks\": \"\"}}, \"type\": \"scattergeo\"}], \"scattergl\": [{\"marker\": {\"colorbar\": {\"outlinewidth\": 0, \"ticks\": \"\"}}, \"type\": \"scattergl\"}], \"scattermapbox\": [{\"marker\": {\"colorbar\": {\"outlinewidth\": 0, \"ticks\": \"\"}}, \"type\": \"scattermapbox\"}], \"scatterpolar\": [{\"marker\": {\"colorbar\": {\"outlinewidth\": 0, \"ticks\": \"\"}}, \"type\": \"scatterpolar\"}], \"scatterpolargl\": [{\"marker\": {\"colorbar\": {\"outlinewidth\": 0, \"ticks\": \"\"}}, \"type\": \"scatterpolargl\"}], \"scatterternary\": [{\"marker\": {\"colorbar\": {\"outlinewidth\": 0, \"ticks\": \"\"}}, \"type\": \"scatterternary\"}], \"surface\": [{\"colorbar\": {\"outlinewidth\": 0, \"ticks\": \"\"}, \"colorscale\": [[0.0, \"#0d0887\"], [0.1111111111111111, \"#46039f\"], [0.2222222222222222, \"#7201a8\"], [0.3333333333333333, \"#9c179e\"], [0.4444444444444444, \"#bd3786\"], [0.5555555555555556, \"#d8576b\"], [0.6666666666666666, \"#ed7953\"], [0.7777777777777778, \"#fb9f3a\"], [0.8888888888888888, \"#fdca26\"], [1.0, \"#f0f921\"]], \"type\": \"surface\"}], \"table\": [{\"cells\": {\"fill\": {\"color\": \"#EBF0F8\"}, \"line\": {\"color\": \"white\"}}, \"header\": {\"fill\": {\"color\": \"#C8D4E3\"}, \"line\": {\"color\": \"white\"}}, \"type\": \"table\"}]}, \"layout\": {\"annotationdefaults\": {\"arrowcolor\": \"#2a3f5f\", \"arrowhead\": 0, \"arrowwidth\": 1}, \"coloraxis\": {\"colorbar\": {\"outlinewidth\": 0, \"ticks\": \"\"}}, \"colorscale\": {\"diverging\": [[0, \"#8e0152\"], [0.1, \"#c51b7d\"], [0.2, \"#de77ae\"], [0.3, \"#f1b6da\"], [0.4, \"#fde0ef\"], [0.5, \"#f7f7f7\"], [0.6, \"#e6f5d0\"], [0.7, \"#b8e186\"], [0.8, \"#7fbc41\"], [0.9, \"#4d9221\"], [1, \"#276419\"]], \"sequential\": [[0.0, \"#0d0887\"], [0.1111111111111111, \"#46039f\"], [0.2222222222222222, \"#7201a8\"], [0.3333333333333333, \"#9c179e\"], [0.4444444444444444, \"#bd3786\"], [0.5555555555555556, \"#d8576b\"], [0.6666666666666666, \"#ed7953\"], [0.7777777777777778, \"#fb9f3a\"], [0.8888888888888888, \"#fdca26\"], [1.0, \"#f0f921\"]], \"sequentialminus\": [[0.0, \"#0d0887\"], [0.1111111111111111, \"#46039f\"], [0.2222222222222222, \"#7201a8\"], [0.3333333333333333, \"#9c179e\"], [0.4444444444444444, \"#bd3786\"], [0.5555555555555556, \"#d8576b\"], [0.6666666666666666, \"#ed7953\"], [0.7777777777777778, \"#fb9f3a\"], [0.8888888888888888, \"#fdca26\"], [1.0, \"#f0f921\"]]}, \"colorway\": [\"#636efa\", \"#EF553B\", \"#00cc96\", \"#ab63fa\", \"#FFA15A\", \"#19d3f3\", \"#FF6692\", \"#B6E880\", \"#FF97FF\", \"#FECB52\"], \"font\": {\"color\": \"#2a3f5f\"}, \"geo\": {\"bgcolor\": \"white\", \"lakecolor\": \"white\", \"landcolor\": \"#E5ECF6\", \"showlakes\": true, \"showland\": true, \"subunitcolor\": \"white\"}, \"hoverlabel\": {\"align\": \"left\"}, \"hovermode\": \"closest\", \"mapbox\": {\"style\": \"light\"}, \"paper_bgcolor\": \"white\", \"plot_bgcolor\": \"#E5ECF6\", \"polar\": {\"angularaxis\": {\"gridcolor\": \"white\", \"linecolor\": \"white\", \"ticks\": \"\"}, \"bgcolor\": \"#E5ECF6\", \"radialaxis\": {\"gridcolor\": \"white\", \"linecolor\": \"white\", \"ticks\": \"\"}}, \"scene\": {\"xaxis\": {\"backgroundcolor\": \"#E5ECF6\", \"gridcolor\": \"white\", \"gridwidth\": 2, \"linecolor\": \"white\", \"showbackground\": true, \"ticks\": \"\", \"zerolinecolor\": \"white\"}, \"yaxis\": {\"backgroundcolor\": \"#E5ECF6\", \"gridcolor\": \"white\", \"gridwidth\": 2, \"linecolor\": \"white\", \"showbackground\": true, \"ticks\": \"\", \"zerolinecolor\": \"white\"}, \"zaxis\": {\"backgroundcolor\": \"#E5ECF6\", \"gridcolor\": \"white\", \"gridwidth\": 2, \"linecolor\": \"white\", \"showbackground\": true, \"ticks\": \"\", \"zerolinecolor\": \"white\"}}, \"shapedefaults\": {\"line\": {\"color\": \"#2a3f5f\"}}, \"ternary\": {\"aaxis\": {\"gridcolor\": \"white\", \"linecolor\": \"white\", \"ticks\": \"\"}, \"baxis\": {\"gridcolor\": \"white\", \"linecolor\": \"white\", \"ticks\": \"\"}, \"bgcolor\": \"#E5ECF6\", \"caxis\": {\"gridcolor\": \"white\", \"linecolor\": \"white\", \"ticks\": \"\"}}, \"title\": {\"x\": 0.05}, \"xaxis\": {\"automargin\": true, \"gridcolor\": \"white\", \"linecolor\": \"white\", \"ticks\": \"\", \"title\": {\"standoff\": 15}, \"zerolinecolor\": \"white\", \"zerolinewidth\": 2}, \"yaxis\": {\"automargin\": true, \"gridcolor\": \"white\", \"linecolor\": \"white\", \"ticks\": \"\", \"title\": {\"standoff\": 15}, \"zerolinecolor\": \"white\", \"zerolinewidth\": 2}}}, \"title\": {\"text\": \"Animated Crime Over Time\"}, \"updatemenus\": [{\"buttons\": [{\"args\": [null, {\"frame\": {\"duration\": 500, \"redraw\": false}, \"fromcurrent\": true, \"mode\": \"immediate\", \"transition\": {\"duration\": 0, \"easing\": \"linear\"}}], \"label\": \"&#9654;\", \"method\": \"animate\"}, {\"args\": [[null], {\"frame\": {\"duration\": 0, \"redraw\": false}, \"fromcurrent\": true, \"mode\": \"immediate\", \"transition\": {\"duration\": 0, \"easing\": \"linear\"}}], \"label\": \"&#9724;\", \"method\": \"animate\"}], \"direction\": \"left\", \"pad\": {\"r\": 10, \"t\": 70}, \"showactive\": false, \"type\": \"buttons\", \"x\": 0.1, \"xanchor\": \"right\", \"y\": 0, \"yanchor\": \"top\"}], \"width\": 800, \"xaxis\": {\"anchor\": \"y\", \"domain\": [0.0, 1.0], \"title\": {\"text\": \"Longitude\"}}, \"yaxis\": {\"anchor\": \"x\", \"domain\": [0.0, 1.0], \"title\": {\"text\": \"Latitude\"}}},\n",
       "                        {\"responsive\": true}\n",
       "                    ).then(function(){\n",
       "                            Plotly.addFrames('f423dbc0-31b4-4870-abb8-25304d80eeba', [{\"data\": [{\"hovertemplate\": \"Primary Type=THEFT<br>t=0<br>Longitude=%{x}<br>Latitude=%{y}<br>size=%{marker.size}<extra></extra>\", \"legendgroup\": \"THEFT\", \"marker\": {\"color\": \"#636efa\", \"opacity\": 0.5, \"size\": [2.0, 2.0, 2.0, 2.0, 2.0, 2.0, 2.0, 2.0, 2.0, 2.0, 2.0, 2.0], \"sizemode\": \"area\", \"sizeref\": 0.125, \"symbol\": \"circle\"}, \"mode\": \"markers\", \"name\": \"THEFT\", \"orientation\": \"v\", \"showlegend\": true, \"x\": [-87.78, -87.73, -87.72, -87.7, -87.7, -87.68, -87.68, -87.67, -87.67, -87.64, -87.63, -87.59], \"xaxis\": \"x\", \"y\": [41.79, 41.94, 41.87, 41.95, 41.96, 41.78, 41.99, 41.77, 41.87, 41.88, 41.89, 41.800000000000004], \"yaxis\": \"y\", \"type\": \"scatter\"}, {\"hovertemplate\": \"Primary Type=BATTERY<br>t=0<br>Longitude=%{x}<br>Latitude=%{y}<br>size=%{marker.size}<extra></extra>\", \"legendgroup\": \"BATTERY\", \"marker\": {\"color\": \"#EF553B\", \"opacity\": 0.5, \"size\": [2.0, 4.0, 2.0, 2.0, 2.0, 2.0, 2.0, 2.0, 2.0, 4.0, 2.0, 2.0, 2.0, 2.0], \"sizemode\": \"area\", \"sizeref\": 0.125, \"symbol\": \"circle\"}, \"mode\": \"markers\", \"name\": \"BATTERY\", \"orientation\": \"v\", \"showlegend\": true, \"x\": [-87.79, -87.76, -87.75, -87.74, -87.73, -87.72, -87.69, -87.67, -87.66, -87.65, -87.64, -87.63, -87.62, -87.57000000000001], \"xaxis\": \"x\", \"y\": [41.96, 41.87, 41.89, 41.86, 41.85, 41.89, 41.99, 41.79, 41.76, 41.77, 41.800000000000004, 41.800000000000004, 41.800000000000004, 41.74], \"yaxis\": \"y\", \"type\": \"scatter\"}, {\"hovertemplate\": \"Primary Type=CRIMINAL DAMAGE<br>t=0<br>Longitude=%{x}<br>Latitude=%{y}<br>size=%{marker.size}<extra></extra>\", \"legendgroup\": \"CRIMINAL DAMAGE\", \"marker\": {\"color\": \"#00cc96\", \"opacity\": 0.5, \"size\": [2.0, 2.0, 2.0, 2.0, 2.0, 2.0, 2.0, 4.0, 2.0, 2.0], \"sizemode\": \"area\", \"sizeref\": 0.125, \"symbol\": \"circle\"}, \"mode\": \"markers\", \"name\": \"CRIMINAL DAMAGE\", \"orientation\": \"v\", \"showlegend\": true, \"x\": [-87.77, -87.77, -87.75, -87.73, -87.71000000000001, -87.71000000000001, -87.64, -87.63, -87.63, -87.60000000000001], \"xaxis\": \"x\", \"y\": [41.9, 41.910000000000004, 41.89, 41.85, 41.81, 41.88, 41.79, 41.69, 41.9, 41.79], \"yaxis\": \"y\", \"type\": \"scatter\"}, {\"hovertemplate\": \"Primary Type=ASSAULT<br>t=0<br>Longitude=%{x}<br>Latitude=%{y}<br>size=%{marker.size}<extra></extra>\", \"legendgroup\": \"ASSAULT\", \"marker\": {\"color\": \"#ab63fa\", \"opacity\": 0.5, \"size\": [2.0], \"sizemode\": \"area\", \"sizeref\": 0.125, \"symbol\": \"circle\"}, \"mode\": \"markers\", \"name\": \"ASSAULT\", \"orientation\": \"v\", \"showlegend\": true, \"x\": [-87.72], \"xaxis\": \"x\", \"y\": [41.94], \"yaxis\": \"y\", \"type\": \"scatter\"}, {\"hovertemplate\": \"Primary Type=OTHER OFFENSE<br>t=0<br>Longitude=%{x}<br>Latitude=%{y}<br>size=%{marker.size}<extra></extra>\", \"legendgroup\": \"OTHER OFFENSE\", \"marker\": {\"color\": \"#FFA15A\", \"opacity\": 0.5, \"size\": [2.0, 2.0, 2.0, 2.0, 2.0], \"sizemode\": \"area\", \"sizeref\": 0.125, \"symbol\": \"circle\"}, \"mode\": \"markers\", \"name\": \"OTHER OFFENSE\", \"orientation\": \"v\", \"showlegend\": true, \"x\": [-87.66, -87.63, -87.63, -87.61, -87.59], \"xaxis\": \"x\", \"y\": [41.99, 41.72, 41.800000000000004, 41.74, 41.7], \"yaxis\": \"y\", \"type\": \"scatter\"}, {\"hovertemplate\": \"Primary Type=BURGLARY<br>t=0<br>Longitude=%{x}<br>Latitude=%{y}<br>size=%{marker.size}<extra></extra>\", \"legendgroup\": \"BURGLARY\", \"marker\": {\"color\": \"#19d3f3\", \"opacity\": 0.5, \"size\": [2.0], \"sizemode\": \"area\", \"sizeref\": 0.125, \"symbol\": \"circle\"}, \"mode\": \"markers\", \"name\": \"BURGLARY\", \"orientation\": \"v\", \"showlegend\": true, \"x\": [-87.67], \"xaxis\": \"x\", \"y\": [41.92], \"yaxis\": \"y\", \"type\": \"scatter\"}, {\"hovertemplate\": \"Primary Type=MOTOR VEHICLE THEFT<br>t=0<br>Longitude=%{x}<br>Latitude=%{y}<br>size=%{marker.size}<extra></extra>\", \"legendgroup\": \"MOTOR VEHICLE THEFT\", \"marker\": {\"color\": \"#FF6692\", \"opacity\": 0.5, \"size\": [2.0], \"sizemode\": \"area\", \"sizeref\": 0.125, \"symbol\": \"circle\"}, \"mode\": \"markers\", \"name\": \"MOTOR VEHICLE THEFT\", \"orientation\": \"v\", \"showlegend\": true, \"x\": [-87.61], \"xaxis\": \"x\", \"y\": [41.71], \"yaxis\": \"y\", \"type\": \"scatter\"}], \"name\": \"0\"}, {\"data\": [{\"hovertemplate\": \"Primary Type=THEFT<br>t=1<br>Longitude=%{x}<br>Latitude=%{y}<br>size=%{marker.size}<extra></extra>\", \"legendgroup\": \"THEFT\", \"marker\": {\"color\": \"#636efa\", \"opacity\": 0.5, \"size\": [2.0, 2.0, 2.0, 2.0, 2.0, 2.0, 2.0, 2.0], \"sizemode\": \"area\", \"sizeref\": 0.125, \"symbol\": \"circle\"}, \"mode\": \"markers\", \"name\": \"THEFT\", \"orientation\": \"v\", \"showlegend\": true, \"x\": [-87.78, -87.75, -87.72, -87.71000000000001, -87.7, -87.65, -87.65, -87.64], \"xaxis\": \"x\", \"y\": [41.94, 41.87, 41.85, 41.84, 41.9, 41.77, 41.88, 41.88], \"yaxis\": \"y\", \"type\": \"scatter\"}, {\"hovertemplate\": \"Primary Type=BATTERY<br>t=1<br>Longitude=%{x}<br>Latitude=%{y}<br>size=%{marker.size}<extra></extra>\", \"legendgroup\": \"BATTERY\", \"marker\": {\"color\": \"#EF553B\", \"opacity\": 0.5, \"size\": [2.0, 2.0, 2.0, 2.0, 2.0, 2.0, 2.0, 2.0, 2.0, 2.0, 2.0], \"sizemode\": \"area\", \"sizeref\": 0.125, \"symbol\": \"circle\"}, \"mode\": \"markers\", \"name\": \"BATTERY\", \"orientation\": \"v\", \"showlegend\": true, \"x\": [-87.73, -87.73, -87.72, -87.68, -87.66, -87.65, -87.63, -87.63, -87.56, -87.55, -87.55], \"xaxis\": \"x\", \"y\": [41.86, 41.89, 41.89, 41.910000000000004, 41.88, 41.76, 41.79, 41.83, 41.730000000000004, 41.730000000000004, 41.74], \"yaxis\": \"y\", \"type\": \"scatter\"}, {\"hovertemplate\": \"Primary Type=CRIMINAL DAMAGE<br>t=1<br>Longitude=%{x}<br>Latitude=%{y}<br>size=%{marker.size}<extra></extra>\", \"legendgroup\": \"CRIMINAL DAMAGE\", \"marker\": {\"color\": \"#00cc96\", \"opacity\": 0.5, \"size\": [2.0, 2.0, 2.0, 2.0, 2.0, 2.0, 2.0], \"sizemode\": \"area\", \"sizeref\": 0.125, \"symbol\": \"circle\"}, \"mode\": \"markers\", \"name\": \"CRIMINAL DAMAGE\", \"orientation\": \"v\", \"showlegend\": true, \"x\": [-87.76, -87.76, -87.73, -87.72, -87.67, -87.64, -87.61], \"xaxis\": \"x\", \"y\": [41.89, 41.93, 41.74, 41.9, 41.96, 41.77, 41.81], \"yaxis\": \"y\", \"type\": \"scatter\"}, {\"hovertemplate\": \"Primary Type=ASSAULT<br>t=1<br>Longitude=%{x}<br>Latitude=%{y}<br>size=%{marker.size}<extra></extra>\", \"legendgroup\": \"ASSAULT\", \"marker\": {\"color\": \"#ab63fa\", \"opacity\": 0.5, \"size\": [2.0, 2.0, 2.0, 2.0, 2.0, 2.0], \"sizemode\": \"area\", \"sizeref\": 0.125, \"symbol\": \"circle\"}, \"mode\": \"markers\", \"name\": \"ASSAULT\", \"orientation\": \"v\", \"showlegend\": true, \"x\": [-87.68, -87.67, -87.65, -87.64, -87.63, -87.57000000000001], \"xaxis\": \"x\", \"y\": [41.76, 41.83, 41.86, 41.89, 41.86, 41.75], \"yaxis\": \"y\", \"type\": \"scatter\"}, {\"hovertemplate\": \"Primary Type=OTHER OFFENSE<br>t=1<br>Longitude=%{x}<br>Latitude=%{y}<br>size=%{marker.size}<extra></extra>\", \"legendgroup\": \"OTHER OFFENSE\", \"marker\": {\"color\": \"#FFA15A\", \"opacity\": 0.5, \"size\": [2.0], \"sizemode\": \"area\", \"sizeref\": 0.125, \"symbol\": \"circle\"}, \"mode\": \"markers\", \"name\": \"OTHER OFFENSE\", \"orientation\": \"v\", \"showlegend\": true, \"x\": [-87.62], \"xaxis\": \"x\", \"y\": [41.75], \"yaxis\": \"y\", \"type\": \"scatter\"}, {\"hovertemplate\": \"Primary Type=MOTOR VEHICLE THEFT<br>t=1<br>Longitude=%{x}<br>Latitude=%{y}<br>size=%{marker.size}<extra></extra>\", \"legendgroup\": \"MOTOR VEHICLE THEFT\", \"marker\": {\"color\": \"#FF6692\", \"opacity\": 0.5, \"size\": [2.0, 2.0, 4.0], \"sizemode\": \"area\", \"sizeref\": 0.125, \"symbol\": \"circle\"}, \"mode\": \"markers\", \"name\": \"MOTOR VEHICLE THEFT\", \"orientation\": \"v\", \"showlegend\": true, \"x\": [-87.77, -87.71000000000001, -87.71000000000001], \"xaxis\": \"x\", \"y\": [41.79, 41.84, 41.88], \"yaxis\": \"y\", \"type\": \"scatter\"}, {\"hovertemplate\": \"Primary Type=NARCOTICS<br>t=1<br>Longitude=%{x}<br>Latitude=%{y}<br>size=%{marker.size}<extra></extra>\", \"legendgroup\": \"NARCOTICS\", \"marker\": {\"color\": \"#B6E880\", \"opacity\": 0.5, \"size\": [2.0], \"sizemode\": \"area\", \"sizeref\": 0.125, \"symbol\": \"circle\"}, \"mode\": \"markers\", \"name\": \"NARCOTICS\", \"orientation\": \"v\", \"showlegend\": true, \"x\": [-87.73], \"xaxis\": \"x\", \"y\": [41.87], \"yaxis\": \"y\", \"type\": \"scatter\"}], \"name\": \"1\"}, {\"data\": [{\"hovertemplate\": \"Primary Type=THEFT<br>t=2<br>Longitude=%{x}<br>Latitude=%{y}<br>size=%{marker.size}<extra></extra>\", \"legendgroup\": \"THEFT\", \"marker\": {\"color\": \"#636efa\", \"opacity\": 0.5, \"size\": [2.0, 2.0, 2.0, 2.0, 2.0, 2.0, 2.0, 2.0, 2.0, 2.0, 2.0, 2.0, 2.0, 2.0, 2.0, 2.0, 2.0, 2.0, 2.0, 2.0, 2.0, 2.0], \"sizemode\": \"area\", \"sizeref\": 0.125, \"symbol\": \"circle\"}, \"mode\": \"markers\", \"name\": \"THEFT\", \"orientation\": \"v\", \"showlegend\": true, \"x\": [-87.74, -87.74, -87.72, -87.71000000000001, -87.68, -87.67, -87.67, -87.67, -87.67, -87.66, -87.66, -87.65, -87.65, -87.64, -87.64, -87.63, -87.63, -87.62, -87.60000000000001, -87.60000000000001, -87.59, -87.55], \"xaxis\": \"x\", \"y\": [41.86, 41.95, 41.93, 41.77, 42.01, 41.77, 41.86, 41.88, 41.9, 41.86, 41.89, 41.87, 41.9, 41.86, 41.88, 41.69, 41.89, 41.89, 41.78, 41.79, 41.800000000000004, 41.74], \"yaxis\": \"y\", \"type\": \"scatter\"}, {\"hovertemplate\": \"Primary Type=BATTERY<br>t=2<br>Longitude=%{x}<br>Latitude=%{y}<br>size=%{marker.size}<extra></extra>\", \"legendgroup\": \"BATTERY\", \"marker\": {\"color\": \"#EF553B\", \"opacity\": 0.5, \"size\": [2.0, 4.0, 2.0, 2.0, 2.0, 2.0, 2.0, 2.0, 2.0, 2.0], \"sizemode\": \"area\", \"sizeref\": 0.125, \"symbol\": \"circle\"}, \"mode\": \"markers\", \"name\": \"BATTERY\", \"orientation\": \"v\", \"showlegend\": true, \"x\": [-87.8, -87.73, -87.66, -87.65, -87.64, -87.64, -87.63, -87.62, -87.60000000000001, -87.56], \"xaxis\": \"x\", \"y\": [41.97, 41.86, 41.77, 41.7, 41.77, 41.81, 41.82, 41.67, 41.75, 41.74], \"yaxis\": \"y\", \"type\": \"scatter\"}, {\"hovertemplate\": \"Primary Type=CRIMINAL DAMAGE<br>t=2<br>Longitude=%{x}<br>Latitude=%{y}<br>size=%{marker.size}<extra></extra>\", \"legendgroup\": \"CRIMINAL DAMAGE\", \"marker\": {\"color\": \"#00cc96\", \"opacity\": 0.5, \"size\": [2.0, 2.0, 2.0, 2.0], \"sizemode\": \"area\", \"sizeref\": 0.125, \"symbol\": \"circle\"}, \"mode\": \"markers\", \"name\": \"CRIMINAL DAMAGE\", \"orientation\": \"v\", \"showlegend\": true, \"x\": [-87.8, -87.67, -87.67, -87.63], \"xaxis\": \"x\", \"y\": [41.97, 41.75, 41.88, 41.82], \"yaxis\": \"y\", \"type\": \"scatter\"}, {\"hovertemplate\": \"Primary Type=ASSAULT<br>t=2<br>Longitude=%{x}<br>Latitude=%{y}<br>size=%{marker.size}<extra></extra>\", \"legendgroup\": \"ASSAULT\", \"marker\": {\"color\": \"#ab63fa\", \"opacity\": 0.5, \"size\": [2.0, 2.0, 2.0, 2.0, 2.0, 2.0], \"sizemode\": \"area\", \"sizeref\": 0.125, \"symbol\": \"circle\"}, \"mode\": \"markers\", \"name\": \"ASSAULT\", \"orientation\": \"v\", \"showlegend\": true, \"x\": [-87.76, -87.74, -87.73, -87.71000000000001, -87.66, -87.63], \"xaxis\": \"x\", \"y\": [41.79, 41.89, 41.87, 41.77, 41.68, 41.78], \"yaxis\": \"y\", \"type\": \"scatter\"}, {\"hovertemplate\": \"Primary Type=OTHER OFFENSE<br>t=2<br>Longitude=%{x}<br>Latitude=%{y}<br>size=%{marker.size}<extra></extra>\", \"legendgroup\": \"OTHER OFFENSE\", \"marker\": {\"color\": \"#FFA15A\", \"opacity\": 0.5, \"size\": [2.0, 2.0, 2.0], \"sizemode\": \"area\", \"sizeref\": 0.125, \"symbol\": \"circle\"}, \"mode\": \"markers\", \"name\": \"OTHER OFFENSE\", \"orientation\": \"v\", \"showlegend\": true, \"x\": [-87.76, -87.67, -87.65], \"xaxis\": \"x\", \"y\": [41.92, 41.74, 41.71], \"yaxis\": \"y\", \"type\": \"scatter\"}, {\"hovertemplate\": \"Primary Type=BURGLARY<br>t=2<br>Longitude=%{x}<br>Latitude=%{y}<br>size=%{marker.size}<extra></extra>\", \"legendgroup\": \"BURGLARY\", \"marker\": {\"color\": \"#19d3f3\", \"opacity\": 0.5, \"size\": [2.0, 2.0, 2.0, 2.0, 2.0], \"sizemode\": \"area\", \"sizeref\": 0.125, \"symbol\": \"circle\"}, \"mode\": \"markers\", \"name\": \"BURGLARY\", \"orientation\": \"v\", \"showlegend\": true, \"x\": [-87.72, -87.69, -87.65, -87.65, -87.56], \"xaxis\": \"x\", \"y\": [41.79, 41.89, 41.730000000000004, 41.92, 41.730000000000004], \"yaxis\": \"y\", \"type\": \"scatter\"}, {\"hovertemplate\": \"Primary Type=MOTOR VEHICLE THEFT<br>t=2<br>Longitude=%{x}<br>Latitude=%{y}<br>size=%{marker.size}<extra></extra>\", \"legendgroup\": \"MOTOR VEHICLE THEFT\", \"marker\": {\"color\": \"#FF6692\", \"opacity\": 0.5, \"size\": [2.0, 2.0, 2.0], \"sizemode\": \"area\", \"sizeref\": 0.125, \"symbol\": \"circle\"}, \"mode\": \"markers\", \"name\": \"MOTOR VEHICLE THEFT\", \"orientation\": \"v\", \"showlegend\": true, \"x\": [-87.76, -87.66, -87.63], \"xaxis\": \"x\", \"y\": [41.9, 41.72, 41.82], \"yaxis\": \"y\", \"type\": \"scatter\"}, {\"hovertemplate\": \"Primary Type=NARCOTICS<br>t=2<br>Longitude=%{x}<br>Latitude=%{y}<br>size=%{marker.size}<extra></extra>\", \"legendgroup\": \"NARCOTICS\", \"marker\": {\"color\": \"#B6E880\", \"opacity\": 0.5, \"size\": [2.0, 2.0, 2.0], \"sizemode\": \"area\", \"sizeref\": 0.125, \"symbol\": \"circle\"}, \"mode\": \"markers\", \"name\": \"NARCOTICS\", \"orientation\": \"v\", \"showlegend\": true, \"x\": [-87.77, -87.74, -87.73], \"xaxis\": \"x\", \"y\": [41.87, 41.88, 41.87], \"yaxis\": \"y\", \"type\": \"scatter\"}, {\"hovertemplate\": \"Primary Type=DECEPTIVE PRACTICE<br>t=2<br>Longitude=%{x}<br>Latitude=%{y}<br>size=%{marker.size}<extra></extra>\", \"legendgroup\": \"DECEPTIVE PRACTICE\", \"marker\": {\"color\": \"#FF97FF\", \"opacity\": 0.5, \"size\": [2.0, 2.0, 2.0, 2.0, 2.0, 2.0], \"sizemode\": \"area\", \"sizeref\": 0.125, \"symbol\": \"circle\"}, \"mode\": \"markers\", \"name\": \"DECEPTIVE PRACTICE\", \"orientation\": \"v\", \"showlegend\": true, \"x\": [-87.8, -87.71000000000001, -87.66, -87.64, -87.63, -87.62], \"xaxis\": \"x\", \"y\": [41.79, 41.77, 41.88, 41.88, 41.86, 41.81], \"yaxis\": \"y\", \"type\": \"scatter\"}], \"name\": \"2\"}, {\"data\": [{\"hovertemplate\": \"Primary Type=THEFT<br>t=3<br>Longitude=%{x}<br>Latitude=%{y}<br>size=%{marker.size}<extra></extra>\", \"legendgroup\": \"THEFT\", \"marker\": {\"color\": \"#636efa\", \"opacity\": 0.5, \"size\": [2.0, 2.0, 2.0, 2.0, 2.0, 2.0, 2.0, 2.0, 2.0, 2.0, 2.0, 2.0, 2.0, 2.0, 2.0, 2.0, 2.0, 2.0, 2.0, 2.0, 2.0, 6.0, 2.0, 2.0, 2.0, 2.0, 2.0], \"sizemode\": \"area\", \"sizeref\": 0.125, \"symbol\": \"circle\"}, \"mode\": \"markers\", \"name\": \"THEFT\", \"orientation\": \"v\", \"showlegend\": true, \"x\": [-87.79, -87.77, -87.76, -87.74, -87.73, -87.72, -87.72, -87.71000000000001, -87.7, -87.7, -87.68, -87.68, -87.67, -87.67, -87.66, -87.65, -87.65, -87.65, -87.64, -87.63, -87.63, -87.63, -87.63, -87.62, -87.60000000000001, -87.57000000000001, -87.54], \"xaxis\": \"x\", \"y\": [41.99, 41.95, 41.910000000000004, 41.85, 41.92, 41.730000000000004, 41.94, 41.92, 41.92, 41.980000000000004, 41.71, 42.01, 41.99, 42.01, 41.85, 41.86, 41.88, 41.93, 41.86, 41.730000000000004, 41.87, 41.88, 41.89, 41.84, 41.75, 41.75, 41.71], \"yaxis\": \"y\", \"type\": \"scatter\"}, {\"hovertemplate\": \"Primary Type=BATTERY<br>t=3<br>Longitude=%{x}<br>Latitude=%{y}<br>size=%{marker.size}<extra></extra>\", \"legendgroup\": \"BATTERY\", \"marker\": {\"color\": \"#EF553B\", \"opacity\": 0.5, \"size\": [2.0, 2.0, 4.0, 2.0, 2.0, 2.0, 2.0, 2.0, 2.0, 2.0, 2.0, 2.0, 2.0, 2.0, 2.0, 2.0, 2.0, 2.0, 2.0], \"sizemode\": \"area\", \"sizeref\": 0.125, \"symbol\": \"circle\"}, \"mode\": \"markers\", \"name\": \"BATTERY\", \"orientation\": \"v\", \"showlegend\": true, \"x\": [-87.81, -87.78, -87.74, -87.74, -87.74, -87.72, -87.72, -87.7, -87.7, -87.7, -87.69, -87.69, -87.69, -87.67, -87.67, -87.66, -87.65, -87.63, -87.61], \"xaxis\": \"x\", \"y\": [41.980000000000004, 41.92, 41.85, 41.89, 41.9, 41.84, 41.92, 41.87, 41.92, 41.980000000000004, 41.81, 41.93, 42.01, 41.74, 41.9, 41.75, 41.87, 41.800000000000004, 41.75], \"yaxis\": \"y\", \"type\": \"scatter\"}, {\"hovertemplate\": \"Primary Type=CRIMINAL DAMAGE<br>t=3<br>Longitude=%{x}<br>Latitude=%{y}<br>size=%{marker.size}<extra></extra>\", \"legendgroup\": \"CRIMINAL DAMAGE\", \"marker\": {\"color\": \"#00cc96\", \"opacity\": 0.5, \"size\": [2.0, 2.0, 2.0, 2.0, 2.0, 2.0, 2.0, 2.0, 2.0, 2.0], \"sizemode\": \"area\", \"sizeref\": 0.125, \"symbol\": \"circle\"}, \"mode\": \"markers\", \"name\": \"CRIMINAL DAMAGE\", \"orientation\": \"v\", \"showlegend\": true, \"x\": [-87.73, -87.72, -87.71000000000001, -87.66, -87.65, -87.64, -87.63, -87.62, -87.62, -87.61], \"xaxis\": \"x\", \"y\": [41.88, 41.85, 41.99, 41.9, 41.74, 41.77, 41.72, 41.76, 41.89, 41.81], \"yaxis\": \"y\", \"type\": \"scatter\"}, {\"hovertemplate\": \"Primary Type=ASSAULT<br>t=3<br>Longitude=%{x}<br>Latitude=%{y}<br>size=%{marker.size}<extra></extra>\", \"legendgroup\": \"ASSAULT\", \"marker\": {\"color\": \"#ab63fa\", \"opacity\": 0.5, \"size\": [2.0, 2.0, 2.0, 2.0, 2.0, 2.0, 2.0, 2.0, 2.0, 2.0], \"sizemode\": \"area\", \"sizeref\": 0.125, \"symbol\": \"circle\"}, \"mode\": \"markers\", \"name\": \"ASSAULT\", \"orientation\": \"v\", \"showlegend\": true, \"x\": [-87.74, -87.72, -87.67, -87.67, -87.66, -87.65, -87.62, -87.61, -87.61, -87.58], \"xaxis\": \"x\", \"y\": [41.89, 41.92, 41.76, 41.77, 41.7, 41.83, 41.77, 41.76, 41.77, 41.74], \"yaxis\": \"y\", \"type\": \"scatter\"}, {\"hovertemplate\": \"Primary Type=OTHER OFFENSE<br>t=3<br>Longitude=%{x}<br>Latitude=%{y}<br>size=%{marker.size}<extra></extra>\", \"legendgroup\": \"OTHER OFFENSE\", \"marker\": {\"color\": \"#FFA15A\", \"opacity\": 0.5, \"size\": [2.0, 2.0, 2.0, 2.0, 6.0, 2.0, 2.0, 2.0, 2.0], \"sizemode\": \"area\", \"sizeref\": 0.125, \"symbol\": \"circle\"}, \"mode\": \"markers\", \"name\": \"OTHER OFFENSE\", \"orientation\": \"v\", \"showlegend\": true, \"x\": [-87.72, -87.72, -87.67, -87.67, -87.66, -87.66, -87.65, -87.64, -87.59], \"xaxis\": \"x\", \"y\": [41.89, 41.910000000000004, 41.76, 41.77, 41.78, 41.83, 41.77, 41.88, 41.72], \"yaxis\": \"y\", \"type\": \"scatter\"}, {\"hovertemplate\": \"Primary Type=BURGLARY<br>t=3<br>Longitude=%{x}<br>Latitude=%{y}<br>size=%{marker.size}<extra></extra>\", \"legendgroup\": \"BURGLARY\", \"marker\": {\"color\": \"#19d3f3\", \"opacity\": 0.5, \"size\": [2.0, 2.0, 2.0, 2.0, 2.0, 2.0, 2.0], \"sizemode\": \"area\", \"sizeref\": 0.125, \"symbol\": \"circle\"}, \"mode\": \"markers\", \"name\": \"BURGLARY\", \"orientation\": \"v\", \"showlegend\": true, \"x\": [-87.7, -87.69, -87.68, -87.67, -87.67, -87.66, -87.64], \"xaxis\": \"x\", \"y\": [41.81, 41.77, 41.71, 41.84, 41.89, 41.800000000000004, 41.67], \"yaxis\": \"y\", \"type\": \"scatter\"}, {\"hovertemplate\": \"Primary Type=MOTOR VEHICLE THEFT<br>t=3<br>Longitude=%{x}<br>Latitude=%{y}<br>size=%{marker.size}<extra></extra>\", \"legendgroup\": \"MOTOR VEHICLE THEFT\", \"marker\": {\"color\": \"#FF6692\", \"opacity\": 0.5, \"size\": [2.0, 2.0, 2.0], \"sizemode\": \"area\", \"sizeref\": 0.125, \"symbol\": \"circle\"}, \"mode\": \"markers\", \"name\": \"MOTOR VEHICLE THEFT\", \"orientation\": \"v\", \"showlegend\": true, \"x\": [-87.73, -87.65, -87.61], \"xaxis\": \"x\", \"y\": [41.83, 41.94, 41.74], \"yaxis\": \"y\", \"type\": \"scatter\"}, {\"hovertemplate\": \"Primary Type=NARCOTICS<br>t=3<br>Longitude=%{x}<br>Latitude=%{y}<br>size=%{marker.size}<extra></extra>\", \"legendgroup\": \"NARCOTICS\", \"marker\": {\"color\": \"#B6E880\", \"opacity\": 0.5, \"size\": [2.0, 2.0, 2.0, 2.0, 2.0, 2.0, 2.0], \"sizemode\": \"area\", \"sizeref\": 0.125, \"symbol\": \"circle\"}, \"mode\": \"markers\", \"name\": \"NARCOTICS\", \"orientation\": \"v\", \"showlegend\": true, \"x\": [-87.75, -87.71000000000001, -87.68, -87.68, -87.65, -87.65, -87.63], \"xaxis\": \"x\", \"y\": [41.89, 41.87, 41.78, 42.01, 41.69, 41.71, 41.72], \"yaxis\": \"y\", \"type\": \"scatter\"}, {\"hovertemplate\": \"Primary Type=DECEPTIVE PRACTICE<br>t=3<br>Longitude=%{x}<br>Latitude=%{y}<br>size=%{marker.size}<extra></extra>\", \"legendgroup\": \"DECEPTIVE PRACTICE\", \"marker\": {\"color\": \"#FF97FF\", \"opacity\": 0.5, \"size\": [2.0, 2.0, 2.0, 2.0, 2.0, 2.0, 2.0, 2.0, 2.0, 2.0, 2.0, 4.0, 2.0, 2.0, 2.0, 2.0], \"sizemode\": \"area\", \"sizeref\": 0.125, \"symbol\": \"circle\"}, \"mode\": \"markers\", \"name\": \"DECEPTIVE PRACTICE\", \"orientation\": \"v\", \"showlegend\": true, \"x\": [-87.8, -87.78, -87.72, -87.71000000000001, -87.68, -87.67, -87.66, -87.65, -87.65, -87.63, -87.63, -87.63, -87.61, -87.61, -87.59, -87.54], \"xaxis\": \"x\", \"y\": [41.93, 41.94, 41.980000000000004, 41.88, 41.910000000000004, 41.800000000000004, 41.96, 41.67, 41.78, 41.86, 41.87, 41.88, 41.74, 41.83, 41.79, 41.72], \"yaxis\": \"y\", \"type\": \"scatter\"}], \"name\": \"3\"}, {\"data\": [{\"hovertemplate\": \"Primary Type=THEFT<br>t=4<br>Longitude=%{x}<br>Latitude=%{y}<br>size=%{marker.size}<extra></extra>\", \"legendgroup\": \"THEFT\", \"marker\": {\"color\": \"#636efa\", \"opacity\": 0.5, \"size\": [2.0, 2.0, 2.0, 2.0, 2.0, 2.0, 6.0, 2.0, 2.0, 2.0, 2.0, 4.0, 2.0, 2.0, 2.0, 2.0, 2.0, 4.0, 6.0, 2.0, 2.0, 2.0], \"sizemode\": \"area\", \"sizeref\": 0.125, \"symbol\": \"circle\"}, \"mode\": \"markers\", \"name\": \"THEFT\", \"orientation\": \"v\", \"showlegend\": true, \"x\": [-87.82000000000001, -87.75, -87.73, -87.72, -87.7, -87.69, -87.69, -87.67, -87.66, -87.66, -87.66, -87.66, -87.66, -87.65, -87.64, -87.64, -87.63, -87.63, -87.63, -87.62, -87.60000000000001, -87.58], \"xaxis\": \"x\", \"y\": [42.01, 41.88, 41.93, 41.84, 41.85, 41.76, 41.99, 41.92, 41.74, 41.87, 41.910000000000004, 41.93, 41.96, 41.86, 41.88, 41.89, 41.75, 41.88, 41.89, 41.77, 41.800000000000004, 41.75], \"yaxis\": \"y\", \"type\": \"scatter\"}, {\"hovertemplate\": \"Primary Type=BATTERY<br>t=4<br>Longitude=%{x}<br>Latitude=%{y}<br>size=%{marker.size}<extra></extra>\", \"legendgroup\": \"BATTERY\", \"marker\": {\"color\": \"#EF553B\", \"opacity\": 0.5, \"size\": [2.0, 2.0, 2.0, 2.0, 2.0, 2.0, 2.0, 2.0, 2.0, 2.0, 2.0, 2.0, 2.0, 2.0, 2.0, 2.0], \"sizemode\": \"area\", \"sizeref\": 0.125, \"symbol\": \"circle\"}, \"mode\": \"markers\", \"name\": \"BATTERY\", \"orientation\": \"v\", \"showlegend\": true, \"x\": [-87.81, -87.78, -87.76, -87.76, -87.74, -87.73, -87.73, -87.71000000000001, -87.69, -87.66, -87.65, -87.64, -87.64, -87.64, -87.63, -87.60000000000001], \"xaxis\": \"x\", \"y\": [42.0, 41.93, 41.88, 41.9, 41.85, 41.78, 41.86, 41.86, 41.96, 41.800000000000004, 41.96, 41.68, 41.79, 41.96, 41.69, 41.75], \"yaxis\": \"y\", \"type\": \"scatter\"}, {\"hovertemplate\": \"Primary Type=CRIMINAL DAMAGE<br>t=4<br>Longitude=%{x}<br>Latitude=%{y}<br>size=%{marker.size}<extra></extra>\", \"legendgroup\": \"CRIMINAL DAMAGE\", \"marker\": {\"color\": \"#00cc96\", \"opacity\": 0.5, \"size\": [2.0, 2.0, 2.0, 2.0, 2.0, 2.0, 2.0, 2.0], \"sizemode\": \"area\", \"sizeref\": 0.125, \"symbol\": \"circle\"}, \"mode\": \"markers\", \"name\": \"CRIMINAL DAMAGE\", \"orientation\": \"v\", \"showlegend\": true, \"x\": [-87.72, -87.71000000000001, -87.7, -87.68, -87.64, -87.60000000000001, -87.60000000000001, -87.56], \"xaxis\": \"x\", \"y\": [41.93, 41.980000000000004, 41.78, 41.76, 41.72, 41.75, 41.79, 41.75], \"yaxis\": \"y\", \"type\": \"scatter\"}, {\"hovertemplate\": \"Primary Type=ASSAULT<br>t=4<br>Longitude=%{x}<br>Latitude=%{y}<br>size=%{marker.size}<extra></extra>\", \"legendgroup\": \"ASSAULT\", \"marker\": {\"color\": \"#ab63fa\", \"opacity\": 0.5, \"size\": [2.0, 2.0, 2.0, 2.0, 2.0, 2.0, 2.0, 2.0, 2.0], \"sizemode\": \"area\", \"sizeref\": 0.125, \"symbol\": \"circle\"}, \"mode\": \"markers\", \"name\": \"ASSAULT\", \"orientation\": \"v\", \"showlegend\": true, \"x\": [-87.91, -87.76, -87.74, -87.71000000000001, -87.69, -87.66, -87.64, -87.62, -87.59], \"xaxis\": \"x\", \"y\": [41.97, 41.9, 41.86, 41.93, 41.9, 42.0, 41.67, 41.76, 41.75], \"yaxis\": \"y\", \"type\": \"scatter\"}, {\"hovertemplate\": \"Primary Type=OTHER OFFENSE<br>t=4<br>Longitude=%{x}<br>Latitude=%{y}<br>size=%{marker.size}<extra></extra>\", \"legendgroup\": \"OTHER OFFENSE\", \"marker\": {\"color\": \"#FFA15A\", \"opacity\": 0.5, \"size\": [2.0, 2.0, 2.0, 2.0, 2.0, 2.0, 2.0], \"sizemode\": \"area\", \"sizeref\": 0.125, \"symbol\": \"circle\"}, \"mode\": \"markers\", \"name\": \"OTHER OFFENSE\", \"orientation\": \"v\", \"showlegend\": true, \"x\": [-87.77, -87.77, -87.74, -87.67, -87.64, -87.63, -87.57000000000001], \"xaxis\": \"x\", \"y\": [41.79, 41.95, 41.96, 41.78, 41.77, 41.67, 41.76], \"yaxis\": \"y\", \"type\": \"scatter\"}, {\"hovertemplate\": \"Primary Type=BURGLARY<br>t=4<br>Longitude=%{x}<br>Latitude=%{y}<br>size=%{marker.size}<extra></extra>\", \"legendgroup\": \"BURGLARY\", \"marker\": {\"color\": \"#19d3f3\", \"opacity\": 0.5, \"size\": [2.0, 2.0, 2.0, 2.0, 2.0], \"sizemode\": \"area\", \"sizeref\": 0.125, \"symbol\": \"circle\"}, \"mode\": \"markers\", \"name\": \"BURGLARY\", \"orientation\": \"v\", \"showlegend\": true, \"x\": [-87.79, -87.77, -87.75, -87.68, -87.67], \"xaxis\": \"x\", \"y\": [41.97, 41.94, 41.99, 41.71, 41.79], \"yaxis\": \"y\", \"type\": \"scatter\"}, {\"hovertemplate\": \"Primary Type=MOTOR VEHICLE THEFT<br>t=4<br>Longitude=%{x}<br>Latitude=%{y}<br>size=%{marker.size}<extra></extra>\", \"legendgroup\": \"MOTOR VEHICLE THEFT\", \"marker\": {\"color\": \"#FF6692\", \"opacity\": 0.5, \"size\": [2.0, 2.0, 2.0], \"sizemode\": \"area\", \"sizeref\": 0.125, \"symbol\": \"circle\"}, \"mode\": \"markers\", \"name\": \"MOTOR VEHICLE THEFT\", \"orientation\": \"v\", \"showlegend\": true, \"x\": [-87.67, -87.67, -87.65], \"xaxis\": \"x\", \"y\": [41.85, 41.87, 41.74], \"yaxis\": \"y\", \"type\": \"scatter\"}, {\"hovertemplate\": \"Primary Type=NARCOTICS<br>t=4<br>Longitude=%{x}<br>Latitude=%{y}<br>size=%{marker.size}<extra></extra>\", \"legendgroup\": \"NARCOTICS\", \"marker\": {\"color\": \"#B6E880\", \"opacity\": 0.5, \"size\": [2.0, 2.0, 4.0, 2.0, 2.0, 2.0, 2.0, 2.0], \"sizemode\": \"area\", \"sizeref\": 0.125, \"symbol\": \"circle\"}, \"mode\": \"markers\", \"name\": \"NARCOTICS\", \"orientation\": \"v\", \"showlegend\": true, \"x\": [-87.77, -87.74, -87.73, -87.72, -87.7, -87.7, -87.69, -87.64], \"xaxis\": \"x\", \"y\": [41.88, 41.86, 41.87, 41.89, 41.86, 42.01, 41.77, 41.79], \"yaxis\": \"y\", \"type\": \"scatter\"}, {\"hovertemplate\": \"Primary Type=DECEPTIVE PRACTICE<br>t=4<br>Longitude=%{x}<br>Latitude=%{y}<br>size=%{marker.size}<extra></extra>\", \"legendgroup\": \"DECEPTIVE PRACTICE\", \"marker\": {\"color\": \"#FF97FF\", \"opacity\": 0.5, \"size\": [2.0, 2.0, 2.0, 2.0, 2.0, 2.0, 2.0, 2.0, 2.0, 2.0], \"sizemode\": \"area\", \"sizeref\": 0.125, \"symbol\": \"circle\"}, \"mode\": \"markers\", \"name\": \"DECEPTIVE PRACTICE\", \"orientation\": \"v\", \"showlegend\": true, \"x\": [-87.74, -87.7, -87.7, -87.66, -87.65, -87.64, -87.63, -87.62, -87.62, -87.60000000000001], \"xaxis\": \"x\", \"y\": [41.88, 41.78, 41.81, 41.910000000000004, 41.75, 41.89, 41.88, 41.800000000000004, 41.89, 41.74], \"yaxis\": \"y\", \"type\": \"scatter\"}], \"name\": \"4\"}, {\"data\": [{\"hovertemplate\": \"Primary Type=THEFT<br>t=5<br>Longitude=%{x}<br>Latitude=%{y}<br>size=%{marker.size}<extra></extra>\", \"legendgroup\": \"THEFT\", \"marker\": {\"color\": \"#636efa\", \"opacity\": 0.5, \"size\": [2.0, 2.0, 2.0, 2.0, 2.0, 2.0, 2.0, 2.0, 2.0, 2.0, 2.0, 2.0, 2.0, 2.0, 2.0, 4.0, 2.0, 6.0, 2.0, 2.0, 2.0, 8.0, 2.0, 2.0, 2.0, 4.0], \"sizemode\": \"area\", \"sizeref\": 0.125, \"symbol\": \"circle\"}, \"mode\": \"markers\", \"name\": \"THEFT\", \"orientation\": \"v\", \"showlegend\": true, \"x\": [-87.79, -87.78, -87.74, -87.71000000000001, -87.7, -87.69, -87.69, -87.69, -87.68, -87.68, -87.68, -87.68, -87.66, -87.66, -87.66, -87.65, -87.65, -87.65, -87.65, -87.64, -87.63, -87.63, -87.63, -87.62, -87.59, -87.58], \"xaxis\": \"x\", \"y\": [41.99, 41.9, 41.99, 41.87, 42.01, 41.74, 41.88, 41.96, 41.71, 41.77, 41.93, 41.97, 41.730000000000004, 41.75, 41.96, 41.68, 41.84, 41.93, 41.96, 41.86, 41.86, 41.88, 41.89, 41.68, 41.75, 41.76], \"yaxis\": \"y\", \"type\": \"scatter\"}, {\"hovertemplate\": \"Primary Type=BATTERY<br>t=5<br>Longitude=%{x}<br>Latitude=%{y}<br>size=%{marker.size}<extra></extra>\", \"legendgroup\": \"BATTERY\", \"marker\": {\"color\": \"#EF553B\", \"opacity\": 0.5, \"size\": [2.0, 2.0, 2.0, 2.0, 2.0, 2.0, 2.0, 2.0, 2.0, 2.0, 2.0, 2.0, 4.0, 2.0, 2.0, 2.0, 2.0], \"sizemode\": \"area\", \"sizeref\": 0.125, \"symbol\": \"circle\"}, \"mode\": \"markers\", \"name\": \"BATTERY\", \"orientation\": \"v\", \"showlegend\": true, \"x\": [-87.77, -87.76, -87.76, -87.75, -87.74, -87.72, -87.7, -87.69, -87.68, -87.67, -87.65, -87.65, -87.63, -87.63, -87.62, -87.60000000000001, -87.58], \"xaxis\": \"x\", \"y\": [41.9, 41.88, 41.95, 41.88, 41.93, 41.85, 41.980000000000004, 41.81, 41.99, 41.78, 41.67, 41.910000000000004, 41.730000000000004, 41.89, 41.76, 41.65, 41.77], \"yaxis\": \"y\", \"type\": \"scatter\"}, {\"hovertemplate\": \"Primary Type=CRIMINAL DAMAGE<br>t=5<br>Longitude=%{x}<br>Latitude=%{y}<br>size=%{marker.size}<extra></extra>\", \"legendgroup\": \"CRIMINAL DAMAGE\", \"marker\": {\"color\": \"#00cc96\", \"opacity\": 0.5, \"size\": [2.0, 2.0, 2.0, 2.0, 2.0, 2.0, 2.0, 2.0, 2.0, 2.0, 2.0, 2.0, 4.0, 2.0], \"sizemode\": \"area\", \"sizeref\": 0.125, \"symbol\": \"circle\"}, \"mode\": \"markers\", \"name\": \"CRIMINAL DAMAGE\", \"orientation\": \"v\", \"showlegend\": true, \"x\": [-87.79, -87.78, -87.77, -87.75, -87.73, -87.71000000000001, -87.7, -87.69, -87.68, -87.68, -87.67, -87.67, -87.62, -87.56], \"xaxis\": \"x\", \"y\": [41.95, 41.910000000000004, 41.88, 41.980000000000004, 41.93, 41.99, 41.77, 41.82, 41.77, 42.01, 41.78, 41.88, 41.82, 41.72], \"yaxis\": \"y\", \"type\": \"scatter\"}, {\"hovertemplate\": \"Primary Type=ASSAULT<br>t=5<br>Longitude=%{x}<br>Latitude=%{y}<br>size=%{marker.size}<extra></extra>\", \"legendgroup\": \"ASSAULT\", \"marker\": {\"color\": \"#ab63fa\", \"opacity\": 0.5, \"size\": [2.0, 2.0, 2.0, 2.0, 2.0, 2.0, 2.0, 2.0, 2.0, 2.0, 2.0, 2.0, 2.0, 2.0, 2.0], \"sizemode\": \"area\", \"sizeref\": 0.125, \"symbol\": \"circle\"}, \"mode\": \"markers\", \"name\": \"ASSAULT\", \"orientation\": \"v\", \"showlegend\": true, \"x\": [-87.77, -87.76, -87.75, -87.69, -87.66, -87.66, -87.66, -87.65, -87.65, -87.65, -87.63, -87.63, -87.62, -87.61, -87.56], \"xaxis\": \"x\", \"y\": [41.96, 41.89, 41.88, 41.910000000000004, 41.78, 41.85, 41.89, 41.67, 41.89, 41.9, 41.69, 41.89, 41.82, 41.75, 41.72], \"yaxis\": \"y\", \"type\": \"scatter\"}, {\"hovertemplate\": \"Primary Type=OTHER OFFENSE<br>t=5<br>Longitude=%{x}<br>Latitude=%{y}<br>size=%{marker.size}<extra></extra>\", \"legendgroup\": \"OTHER OFFENSE\", \"marker\": {\"color\": \"#FFA15A\", \"opacity\": 0.5, \"size\": [2.0, 2.0, 2.0, 2.0, 2.0, 2.0, 2.0, 2.0, 2.0, 2.0, 2.0, 2.0, 2.0, 2.0, 2.0], \"sizemode\": \"area\", \"sizeref\": 0.125, \"symbol\": \"circle\"}, \"mode\": \"markers\", \"name\": \"OTHER OFFENSE\", \"orientation\": \"v\", \"showlegend\": true, \"x\": [-87.79, -87.78, -87.76, -87.76, -87.76, -87.73, -87.72, -87.72, -87.69, -87.69, -87.68, -87.67, -87.63, -87.63, -87.62], \"xaxis\": \"x\", \"y\": [41.99, 41.88, 41.87, 41.88, 41.92, 41.84, 41.86, 41.89, 41.800000000000004, 41.92, 41.82, 41.99, 41.7, 41.77, 41.88], \"yaxis\": \"y\", \"type\": \"scatter\"}, {\"hovertemplate\": \"Primary Type=BURGLARY<br>t=5<br>Longitude=%{x}<br>Latitude=%{y}<br>size=%{marker.size}<extra></extra>\", \"legendgroup\": \"BURGLARY\", \"marker\": {\"color\": \"#19d3f3\", \"opacity\": 0.5, \"size\": [2.0, 2.0, 2.0, 2.0, 2.0], \"sizemode\": \"area\", \"sizeref\": 0.125, \"symbol\": \"circle\"}, \"mode\": \"markers\", \"name\": \"BURGLARY\", \"orientation\": \"v\", \"showlegend\": true, \"x\": [-87.76, -87.73, -87.72, -87.71000000000001, -87.7], \"xaxis\": \"x\", \"y\": [41.96, 41.79, 41.74, 41.85, 41.87], \"yaxis\": \"y\", \"type\": \"scatter\"}, {\"hovertemplate\": \"Primary Type=MOTOR VEHICLE THEFT<br>t=5<br>Longitude=%{x}<br>Latitude=%{y}<br>size=%{marker.size}<extra></extra>\", \"legendgroup\": \"MOTOR VEHICLE THEFT\", \"marker\": {\"color\": \"#FF6692\", \"opacity\": 0.5, \"size\": [2.0], \"sizemode\": \"area\", \"sizeref\": 0.125, \"symbol\": \"circle\"}, \"mode\": \"markers\", \"name\": \"MOTOR VEHICLE THEFT\", \"orientation\": \"v\", \"showlegend\": true, \"x\": [-87.63], \"xaxis\": \"x\", \"y\": [41.81], \"yaxis\": \"y\", \"type\": \"scatter\"}, {\"hovertemplate\": \"Primary Type=NARCOTICS<br>t=5<br>Longitude=%{x}<br>Latitude=%{y}<br>size=%{marker.size}<extra></extra>\", \"legendgroup\": \"NARCOTICS\", \"marker\": {\"color\": \"#B6E880\", \"opacity\": 0.5, \"size\": [2.0, 2.0, 2.0, 2.0, 2.0, 2.0, 2.0, 2.0], \"sizemode\": \"area\", \"sizeref\": 0.125, \"symbol\": \"circle\"}, \"mode\": \"markers\", \"name\": \"NARCOTICS\", \"orientation\": \"v\", \"showlegend\": true, \"x\": [-87.75, -87.73, -87.72, -87.7, -87.65, -87.64, -87.63, -87.61], \"xaxis\": \"x\", \"y\": [41.89, 41.9, 41.89, 41.97, 41.74, 41.800000000000004, 41.69, 41.75], \"yaxis\": \"y\", \"type\": \"scatter\"}, {\"hovertemplate\": \"Primary Type=DECEPTIVE PRACTICE<br>t=5<br>Longitude=%{x}<br>Latitude=%{y}<br>size=%{marker.size}<extra></extra>\", \"legendgroup\": \"DECEPTIVE PRACTICE\", \"marker\": {\"color\": \"#FF97FF\", \"opacity\": 0.5, \"size\": [2.0, 2.0, 2.0, 2.0, 2.0, 2.0, 2.0, 2.0, 2.0, 2.0, 2.0, 2.0, 2.0], \"sizemode\": \"area\", \"sizeref\": 0.125, \"symbol\": \"circle\"}, \"mode\": \"markers\", \"name\": \"DECEPTIVE PRACTICE\", \"orientation\": \"v\", \"showlegend\": true, \"x\": [-87.77, -87.73, -87.72, -87.69, -87.67, -87.65, -87.64, -87.63, -87.63, -87.62, -87.62, -87.62, -87.60000000000001], \"xaxis\": \"x\", \"y\": [41.97, 41.9, 41.7, 41.74, 41.99, 41.69, 41.89, 41.68, 41.88, 41.72, 41.81, 41.83, 41.79], \"yaxis\": \"y\", \"type\": \"scatter\"}], \"name\": \"5\"}, {\"data\": [{\"hovertemplate\": \"Primary Type=THEFT<br>t=6<br>Longitude=%{x}<br>Latitude=%{y}<br>size=%{marker.size}<extra></extra>\", \"legendgroup\": \"THEFT\", \"marker\": {\"color\": \"#636efa\", \"opacity\": 0.5, \"size\": [2.0, 2.0, 2.0, 2.0, 2.0, 2.0, 2.0, 2.0, 2.0, 2.0, 2.0, 2.0, 2.0, 2.0, 2.0, 2.0, 2.0, 2.0, 4.0, 2.0], \"sizemode\": \"area\", \"sizeref\": 0.125, \"symbol\": \"circle\"}, \"mode\": \"markers\", \"name\": \"THEFT\", \"orientation\": \"v\", \"showlegend\": true, \"x\": [-87.78, -87.75, -87.73, -87.7, -87.69, -87.68, -87.67, -87.67, -87.67, -87.67, -87.66, -87.66, -87.66, -87.65, -87.65, -87.65, -87.65, -87.63, -87.63, -87.59], \"xaxis\": \"x\", \"y\": [41.94, 41.75, 41.84, 42.01, 41.9, 41.9, 41.88, 41.980000000000004, 42.0, 42.02, 41.88, 41.94, 41.97, 41.78, 41.800000000000004, 41.83, 41.89, 41.7, 41.89, 41.77], \"yaxis\": \"y\", \"type\": \"scatter\"}, {\"hovertemplate\": \"Primary Type=BATTERY<br>t=6<br>Longitude=%{x}<br>Latitude=%{y}<br>size=%{marker.size}<extra></extra>\", \"legendgroup\": \"BATTERY\", \"marker\": {\"color\": \"#EF553B\", \"opacity\": 0.5, \"size\": [2.0, 2.0, 2.0, 2.0, 2.0, 2.0, 2.0, 2.0, 2.0, 2.0, 2.0, 2.0, 2.0, 2.0, 2.0, 2.0, 2.0, 2.0, 2.0], \"sizemode\": \"area\", \"sizeref\": 0.125, \"symbol\": \"circle\"}, \"mode\": \"markers\", \"name\": \"BATTERY\", \"orientation\": \"v\", \"showlegend\": true, \"x\": [-87.73, -87.72, -87.71000000000001, -87.7, -87.7, -87.69, -87.69, -87.68, -87.67, -87.67, -87.64, -87.64, -87.63, -87.63, -87.62, -87.62, -87.60000000000001, -87.58, -87.57000000000001], \"xaxis\": \"x\", \"y\": [41.97, 41.910000000000004, 41.79, 41.85, 41.86, 41.85, 41.99, 41.9, 41.800000000000004, 41.96, 41.77, 41.86, 41.77, 41.89, 41.67, 41.84, 41.77, 41.71, 41.72], \"yaxis\": \"y\", \"type\": \"scatter\"}, {\"hovertemplate\": \"Primary Type=CRIMINAL DAMAGE<br>t=6<br>Longitude=%{x}<br>Latitude=%{y}<br>size=%{marker.size}<extra></extra>\", \"legendgroup\": \"CRIMINAL DAMAGE\", \"marker\": {\"color\": \"#00cc96\", \"opacity\": 0.5, \"size\": [2.0, 2.0, 2.0, 2.0, 2.0, 2.0, 2.0, 2.0, 2.0, 2.0, 2.0, 2.0, 2.0], \"sizemode\": \"area\", \"sizeref\": 0.125, \"symbol\": \"circle\"}, \"mode\": \"markers\", \"name\": \"CRIMINAL DAMAGE\", \"orientation\": \"v\", \"showlegend\": true, \"x\": [-87.8, -87.75, -87.72, -87.7, -87.68, -87.68, -87.68, -87.67, -87.67, -87.66, -87.65, -87.63, -87.62], \"xaxis\": \"x\", \"y\": [41.97, 41.87, 41.87, 41.910000000000004, 41.89, 41.910000000000004, 41.92, 41.75, 41.78, 41.89, 41.77, 41.83, 41.76], \"yaxis\": \"y\", \"type\": \"scatter\"}, {\"hovertemplate\": \"Primary Type=ASSAULT<br>t=6<br>Longitude=%{x}<br>Latitude=%{y}<br>size=%{marker.size}<extra></extra>\", \"legendgroup\": \"ASSAULT\", \"marker\": {\"color\": \"#ab63fa\", \"opacity\": 0.5, \"size\": [2.0, 2.0, 2.0, 2.0, 2.0, 2.0, 2.0, 2.0, 2.0, 2.0, 2.0, 2.0, 2.0, 2.0], \"sizemode\": \"area\", \"sizeref\": 0.125, \"symbol\": \"circle\"}, \"mode\": \"markers\", \"name\": \"ASSAULT\", \"orientation\": \"v\", \"showlegend\": true, \"x\": [-87.83, -87.77, -87.75, -87.75, -87.74, -87.73, -87.68, -87.67, -87.67, -87.66, -87.65, -87.62, -87.61, -87.55], \"xaxis\": \"x\", \"y\": [42.0, 41.86, 41.89, 41.95, 41.96, 41.9, 41.79, 41.7, 41.79, 41.97, 41.77, 41.800000000000004, 41.75, 41.71], \"yaxis\": \"y\", \"type\": \"scatter\"}, {\"hovertemplate\": \"Primary Type=OTHER OFFENSE<br>t=6<br>Longitude=%{x}<br>Latitude=%{y}<br>size=%{marker.size}<extra></extra>\", \"legendgroup\": \"OTHER OFFENSE\", \"marker\": {\"color\": \"#FFA15A\", \"opacity\": 0.5, \"size\": [2.0, 4.0, 2.0, 2.0, 2.0], \"sizemode\": \"area\", \"sizeref\": 0.125, \"symbol\": \"circle\"}, \"mode\": \"markers\", \"name\": \"OTHER OFFENSE\", \"orientation\": \"v\", \"showlegend\": true, \"x\": [-87.77, -87.74, -87.67, -87.65, -87.63], \"xaxis\": \"x\", \"y\": [41.93, 41.86, 41.77, 41.74, 41.730000000000004], \"yaxis\": \"y\", \"type\": \"scatter\"}, {\"hovertemplate\": \"Primary Type=BURGLARY<br>t=6<br>Longitude=%{x}<br>Latitude=%{y}<br>size=%{marker.size}<extra></extra>\", \"legendgroup\": \"BURGLARY\", \"marker\": {\"color\": \"#19d3f3\", \"opacity\": 0.5, \"size\": [2.0, 2.0, 2.0], \"sizemode\": \"area\", \"sizeref\": 0.125, \"symbol\": \"circle\"}, \"mode\": \"markers\", \"name\": \"BURGLARY\", \"orientation\": \"v\", \"showlegend\": true, \"x\": [-87.67, -87.64, -87.62], \"xaxis\": \"x\", \"y\": [41.96, 41.92, 41.78], \"yaxis\": \"y\", \"type\": \"scatter\"}, {\"hovertemplate\": \"Primary Type=MOTOR VEHICLE THEFT<br>t=6<br>Longitude=%{x}<br>Latitude=%{y}<br>size=%{marker.size}<extra></extra>\", \"legendgroup\": \"MOTOR VEHICLE THEFT\", \"marker\": {\"color\": \"#FF6692\", \"opacity\": 0.5, \"size\": [2.0, 2.0, 2.0], \"sizemode\": \"area\", \"sizeref\": 0.125, \"symbol\": \"circle\"}, \"mode\": \"markers\", \"name\": \"MOTOR VEHICLE THEFT\", \"orientation\": \"v\", \"showlegend\": true, \"x\": [-87.69, -87.62, -87.61], \"xaxis\": \"x\", \"y\": [42.01, 41.76, 41.81], \"yaxis\": \"y\", \"type\": \"scatter\"}, {\"hovertemplate\": \"Primary Type=NARCOTICS<br>t=6<br>Longitude=%{x}<br>Latitude=%{y}<br>size=%{marker.size}<extra></extra>\", \"legendgroup\": \"NARCOTICS\", \"marker\": {\"color\": \"#B6E880\", \"opacity\": 0.5, \"size\": [2.0, 2.0, 2.0, 2.0, 2.0, 2.0, 2.0], \"sizemode\": \"area\", \"sizeref\": 0.125, \"symbol\": \"circle\"}, \"mode\": \"markers\", \"name\": \"NARCOTICS\", \"orientation\": \"v\", \"showlegend\": true, \"x\": [-87.74, -87.73, -87.73, -87.7, -87.65, -87.63, -87.54], \"xaxis\": \"x\", \"y\": [41.87, 41.85, 41.89, 41.86, 41.730000000000004, 41.81, 41.71], \"yaxis\": \"y\", \"type\": \"scatter\"}, {\"hovertemplate\": \"Primary Type=DECEPTIVE PRACTICE<br>t=6<br>Longitude=%{x}<br>Latitude=%{y}<br>size=%{marker.size}<extra></extra>\", \"legendgroup\": \"DECEPTIVE PRACTICE\", \"marker\": {\"color\": \"#FF97FF\", \"opacity\": 0.5, \"size\": [2.0, 2.0, 2.0], \"sizemode\": \"area\", \"sizeref\": 0.125, \"symbol\": \"circle\"}, \"mode\": \"markers\", \"name\": \"DECEPTIVE PRACTICE\", \"orientation\": \"v\", \"showlegend\": true, \"x\": [-87.65, -87.63, -87.63], \"xaxis\": \"x\", \"y\": [41.88, 41.87, 41.88], \"yaxis\": \"y\", \"type\": \"scatter\"}], \"name\": \"6\"}, {\"data\": [{\"hovertemplate\": \"Primary Type=THEFT<br>t=7<br>Longitude=%{x}<br>Latitude=%{y}<br>size=%{marker.size}<extra></extra>\", \"legendgroup\": \"THEFT\", \"marker\": {\"color\": \"#636efa\", \"opacity\": 0.5, \"size\": [2.0, 2.0, 2.0, 2.0, 2.0, 2.0, 4.0, 2.0, 2.0, 2.0, 2.0, 2.0, 2.0], \"sizemode\": \"area\", \"sizeref\": 0.125, \"symbol\": \"circle\"}, \"mode\": \"markers\", \"name\": \"THEFT\", \"orientation\": \"v\", \"showlegend\": true, \"x\": [-87.78, -87.75, -87.74, -87.72, -87.68, -87.67, -87.65, -87.64, -87.64, -87.64, -87.63, -87.63, -87.62], \"xaxis\": \"x\", \"y\": [41.88, 41.78, 41.87, 41.79, 41.89, 41.71, 41.94, 41.76, 41.89, 41.93, 41.86, 41.89, 41.77], \"yaxis\": \"y\", \"type\": \"scatter\"}, {\"hovertemplate\": \"Primary Type=BATTERY<br>t=7<br>Longitude=%{x}<br>Latitude=%{y}<br>size=%{marker.size}<extra></extra>\", \"legendgroup\": \"BATTERY\", \"marker\": {\"color\": \"#EF553B\", \"opacity\": 0.5, \"size\": [2.0, 2.0, 2.0, 2.0, 4.0, 2.0, 2.0, 2.0, 2.0, 2.0, 2.0, 2.0, 4.0, 2.0, 2.0, 2.0, 2.0, 2.0, 2.0, 2.0, 2.0], \"sizemode\": \"area\", \"sizeref\": 0.125, \"symbol\": \"circle\"}, \"mode\": \"markers\", \"name\": \"BATTERY\", \"orientation\": \"v\", \"showlegend\": true, \"x\": [-87.77, -87.76, -87.76, -87.73, -87.71000000000001, -87.71000000000001, -87.68, -87.68, -87.68, -87.67, -87.67, -87.67, -87.66, -87.65, -87.64, -87.63, -87.63, -87.62, -87.62, -87.62, -87.60000000000001], \"xaxis\": \"x\", \"y\": [41.88, 41.89, 41.92, 41.87, 41.84, 41.96, 41.68, 41.9, 42.0, 41.76, 41.79, 41.89, 41.730000000000004, 41.77, 41.87, 41.86, 41.9, 41.77, 41.79, 41.84, 41.69], \"yaxis\": \"y\", \"type\": \"scatter\"}, {\"hovertemplate\": \"Primary Type=CRIMINAL DAMAGE<br>t=7<br>Longitude=%{x}<br>Latitude=%{y}<br>size=%{marker.size}<extra></extra>\", \"legendgroup\": \"CRIMINAL DAMAGE\", \"marker\": {\"color\": \"#00cc96\", \"opacity\": 0.5, \"size\": [2.0, 2.0, 2.0, 2.0, 2.0, 2.0, 2.0, 2.0, 2.0, 2.0], \"sizemode\": \"area\", \"sizeref\": 0.125, \"symbol\": \"circle\"}, \"mode\": \"markers\", \"name\": \"CRIMINAL DAMAGE\", \"orientation\": \"v\", \"showlegend\": true, \"x\": [-87.73, -87.73, -87.71000000000001, -87.69, -87.66, -87.66, -87.63, -87.63, -87.61, -87.61], \"xaxis\": \"x\", \"y\": [41.730000000000004, 41.88, 41.99, 42.01, 41.72, 41.92, 41.660000000000004, 41.89, 41.65, 41.77], \"yaxis\": \"y\", \"type\": \"scatter\"}, {\"hovertemplate\": \"Primary Type=ASSAULT<br>t=7<br>Longitude=%{x}<br>Latitude=%{y}<br>size=%{marker.size}<extra></extra>\", \"legendgroup\": \"ASSAULT\", \"marker\": {\"color\": \"#ab63fa\", \"opacity\": 0.5, \"size\": [2.0, 2.0, 2.0, 2.0, 2.0, 2.0, 2.0], \"sizemode\": \"area\", \"sizeref\": 0.125, \"symbol\": \"circle\"}, \"mode\": \"markers\", \"name\": \"ASSAULT\", \"orientation\": \"v\", \"showlegend\": true, \"x\": [-87.84, -87.84, -87.78, -87.67, -87.62, -87.61, -87.56], \"xaxis\": \"x\", \"y\": [41.97, 41.980000000000004, 41.97, 41.7, 41.67, 41.74, 41.75], \"yaxis\": \"y\", \"type\": \"scatter\"}, {\"hovertemplate\": \"Primary Type=OTHER OFFENSE<br>t=7<br>Longitude=%{x}<br>Latitude=%{y}<br>size=%{marker.size}<extra></extra>\", \"legendgroup\": \"OTHER OFFENSE\", \"marker\": {\"color\": \"#FFA15A\", \"opacity\": 0.5, \"size\": [2.0, 2.0, 2.0], \"sizemode\": \"area\", \"sizeref\": 0.125, \"symbol\": \"circle\"}, \"mode\": \"markers\", \"name\": \"OTHER OFFENSE\", \"orientation\": \"v\", \"showlegend\": true, \"x\": [-87.79, -87.72, -87.58], \"xaxis\": \"x\", \"y\": [41.93, 41.87, 41.74], \"yaxis\": \"y\", \"type\": \"scatter\"}, {\"hovertemplate\": \"Primary Type=BURGLARY<br>t=7<br>Longitude=%{x}<br>Latitude=%{y}<br>size=%{marker.size}<extra></extra>\", \"legendgroup\": \"BURGLARY\", \"marker\": {\"color\": \"#19d3f3\", \"opacity\": 0.5, \"size\": [2.0, 2.0, 2.0, 2.0], \"sizemode\": \"area\", \"sizeref\": 0.125, \"symbol\": \"circle\"}, \"mode\": \"markers\", \"name\": \"BURGLARY\", \"orientation\": \"v\", \"showlegend\": true, \"x\": [-87.73, -87.7, -87.62, -87.60000000000001], \"xaxis\": \"x\", \"y\": [41.730000000000004, 41.79, 41.76, 41.77], \"yaxis\": \"y\", \"type\": \"scatter\"}, {\"hovertemplate\": \"Primary Type=MOTOR VEHICLE THEFT<br>t=7<br>Longitude=%{x}<br>Latitude=%{y}<br>size=%{marker.size}<extra></extra>\", \"legendgroup\": \"MOTOR VEHICLE THEFT\", \"marker\": {\"color\": \"#FF6692\", \"opacity\": 0.5, \"size\": [2.0, 2.0, 2.0, 2.0, 2.0, 2.0, 2.0], \"sizemode\": \"area\", \"sizeref\": 0.125, \"symbol\": \"circle\"}, \"mode\": \"markers\", \"name\": \"MOTOR VEHICLE THEFT\", \"orientation\": \"v\", \"showlegend\": true, \"x\": [-87.72, -87.69, -87.68, -87.64, -87.64, -87.63, -87.63], \"xaxis\": \"x\", \"y\": [41.93, 41.71, 41.730000000000004, 41.84, 41.9, 41.7, 41.82], \"yaxis\": \"y\", \"type\": \"scatter\"}, {\"hovertemplate\": \"Primary Type=NARCOTICS<br>t=7<br>Longitude=%{x}<br>Latitude=%{y}<br>size=%{marker.size}<extra></extra>\", \"legendgroup\": \"NARCOTICS\", \"marker\": {\"color\": \"#B6E880\", \"opacity\": 0.5, \"size\": [2.0, 2.0, 2.0, 2.0, 2.0], \"sizemode\": \"area\", \"sizeref\": 0.125, \"symbol\": \"circle\"}, \"mode\": \"markers\", \"name\": \"NARCOTICS\", \"orientation\": \"v\", \"showlegend\": true, \"x\": [-87.77, -87.75, -87.75, -87.72, -87.67], \"xaxis\": \"x\", \"y\": [41.89, 41.79, 41.88, 41.87, 41.96], \"yaxis\": \"y\", \"type\": \"scatter\"}, {\"hovertemplate\": \"Primary Type=DECEPTIVE PRACTICE<br>t=7<br>Longitude=%{x}<br>Latitude=%{y}<br>size=%{marker.size}<extra></extra>\", \"legendgroup\": \"DECEPTIVE PRACTICE\", \"marker\": {\"color\": \"#FF97FF\", \"opacity\": 0.5, \"size\": [2.0, 2.0, 2.0], \"sizemode\": \"area\", \"sizeref\": 0.125, \"symbol\": \"circle\"}, \"mode\": \"markers\", \"name\": \"DECEPTIVE PRACTICE\", \"orientation\": \"v\", \"showlegend\": true, \"x\": [-87.74, -87.66, -87.63], \"xaxis\": \"x\", \"y\": [41.93, 41.72, 41.7], \"yaxis\": \"y\", \"type\": \"scatter\"}], \"name\": \"7\"}, {\"data\": [{\"hovertemplate\": \"Primary Type=THEFT<br>t=8<br>Longitude=%{x}<br>Latitude=%{y}<br>size=%{marker.size}<extra></extra>\", \"legendgroup\": \"THEFT\", \"marker\": {\"color\": \"#636efa\", \"opacity\": 0.5, \"size\": [2.0, 2.0, 2.0, 2.0, 2.0, 2.0], \"sizemode\": \"area\", \"sizeref\": 0.125, \"symbol\": \"circle\"}, \"mode\": \"markers\", \"name\": \"THEFT\", \"orientation\": \"v\", \"showlegend\": true, \"x\": [-87.76, -87.66, -87.66, -87.64, -87.63, -87.56], \"xaxis\": \"x\", \"y\": [41.9, 41.730000000000004, 41.87, 41.71, 41.67, 41.730000000000004], \"yaxis\": \"y\", \"type\": \"scatter\"}, {\"hovertemplate\": \"Primary Type=BATTERY<br>t=8<br>Longitude=%{x}<br>Latitude=%{y}<br>size=%{marker.size}<extra></extra>\", \"legendgroup\": \"BATTERY\", \"marker\": {\"color\": \"#EF553B\", \"opacity\": 0.5, \"size\": [2.0, 4.0, 2.0, 2.0, 2.0, 2.0, 2.0, 2.0], \"sizemode\": \"area\", \"sizeref\": 0.125, \"symbol\": \"circle\"}, \"mode\": \"markers\", \"name\": \"BATTERY\", \"orientation\": \"v\", \"showlegend\": true, \"x\": [-87.79, -87.76, -87.74, -87.72, -87.71000000000001, -87.65, -87.60000000000001, -87.60000000000001], \"xaxis\": \"x\", \"y\": [41.99, 41.88, 41.87, 41.74, 41.88, 41.76, 41.730000000000004, 41.75], \"yaxis\": \"y\", \"type\": \"scatter\"}, {\"hovertemplate\": \"Primary Type=CRIMINAL DAMAGE<br>t=8<br>Longitude=%{x}<br>Latitude=%{y}<br>size=%{marker.size}<extra></extra>\", \"legendgroup\": \"CRIMINAL DAMAGE\", \"marker\": {\"color\": \"#00cc96\", \"opacity\": 0.5, \"size\": [2.0, 2.0, 2.0, 2.0, 2.0, 2.0, 2.0, 2.0, 2.0], \"sizemode\": \"area\", \"sizeref\": 0.125, \"symbol\": \"circle\"}, \"mode\": \"markers\", \"name\": \"CRIMINAL DAMAGE\", \"orientation\": \"v\", \"showlegend\": true, \"x\": [-87.73, -87.72, -87.71000000000001, -87.65, -87.65, -87.63, -87.62, -87.56, -87.54], \"xaxis\": \"x\", \"y\": [41.78, 41.89, 42.01, 41.89, 41.94, 41.78, 41.77, 41.730000000000004, 41.7], \"yaxis\": \"y\", \"type\": \"scatter\"}, {\"hovertemplate\": \"Primary Type=ASSAULT<br>t=8<br>Longitude=%{x}<br>Latitude=%{y}<br>size=%{marker.size}<extra></extra>\", \"legendgroup\": \"ASSAULT\", \"marker\": {\"color\": \"#ab63fa\", \"opacity\": 0.5, \"size\": [2.0, 2.0, 2.0], \"sizemode\": \"area\", \"sizeref\": 0.125, \"symbol\": \"circle\"}, \"mode\": \"markers\", \"name\": \"ASSAULT\", \"orientation\": \"v\", \"showlegend\": true, \"x\": [-87.66, -87.66, -87.63], \"xaxis\": \"x\", \"y\": [41.74, 41.76, 41.75], \"yaxis\": \"y\", \"type\": \"scatter\"}, {\"hovertemplate\": \"Primary Type=OTHER OFFENSE<br>t=8<br>Longitude=%{x}<br>Latitude=%{y}<br>size=%{marker.size}<extra></extra>\", \"legendgroup\": \"OTHER OFFENSE\", \"marker\": {\"color\": \"#FFA15A\", \"opacity\": 0.5, \"size\": [2.0], \"sizemode\": \"area\", \"sizeref\": 0.125, \"symbol\": \"circle\"}, \"mode\": \"markers\", \"name\": \"OTHER OFFENSE\", \"orientation\": \"v\", \"showlegend\": true, \"x\": [-87.69], \"xaxis\": \"x\", \"y\": [41.76], \"yaxis\": \"y\", \"type\": \"scatter\"}, {\"hovertemplate\": \"Primary Type=BURGLARY<br>t=8<br>Longitude=%{x}<br>Latitude=%{y}<br>size=%{marker.size}<extra></extra>\", \"legendgroup\": \"BURGLARY\", \"marker\": {\"color\": \"#19d3f3\", \"opacity\": 0.5, \"size\": [2.0, 2.0], \"sizemode\": \"area\", \"sizeref\": 0.125, \"symbol\": \"circle\"}, \"mode\": \"markers\", \"name\": \"BURGLARY\", \"orientation\": \"v\", \"showlegend\": true, \"x\": [-87.66, -87.59], \"xaxis\": \"x\", \"y\": [41.77, 41.76], \"yaxis\": \"y\", \"type\": \"scatter\"}, {\"hovertemplate\": \"Primary Type=NARCOTICS<br>t=8<br>Longitude=%{x}<br>Latitude=%{y}<br>size=%{marker.size}<extra></extra>\", \"legendgroup\": \"NARCOTICS\", \"marker\": {\"color\": \"#B6E880\", \"opacity\": 0.5, \"size\": [2.0, 2.0], \"sizemode\": \"area\", \"sizeref\": 0.125, \"symbol\": \"circle\"}, \"mode\": \"markers\", \"name\": \"NARCOTICS\", \"orientation\": \"v\", \"showlegend\": true, \"x\": [-87.72, -87.69], \"xaxis\": \"x\", \"y\": [41.9, 41.82], \"yaxis\": \"y\", \"type\": \"scatter\"}, {\"hovertemplate\": \"Primary Type=DECEPTIVE PRACTICE<br>t=8<br>Longitude=%{x}<br>Latitude=%{y}<br>size=%{marker.size}<extra></extra>\", \"legendgroup\": \"DECEPTIVE PRACTICE\", \"marker\": {\"color\": \"#FF97FF\", \"opacity\": 0.5, \"size\": [2.0, 2.0, 2.0], \"sizemode\": \"area\", \"sizeref\": 0.125, \"symbol\": \"circle\"}, \"mode\": \"markers\", \"name\": \"DECEPTIVE PRACTICE\", \"orientation\": \"v\", \"showlegend\": true, \"x\": [-87.65, -87.64, -87.63], \"xaxis\": \"x\", \"y\": [41.9, 41.92, 41.88], \"yaxis\": \"y\", \"type\": \"scatter\"}], \"name\": \"8\"}, {\"data\": [{\"hovertemplate\": \"Primary Type=THEFT<br>t=9<br>Longitude=%{x}<br>Latitude=%{y}<br>size=%{marker.size}<extra></extra>\", \"legendgroup\": \"THEFT\", \"marker\": {\"color\": \"#636efa\", \"opacity\": 0.5, \"size\": [2.0, 2.0, 2.0, 2.0, 2.0, 2.0, 2.0], \"sizemode\": \"area\", \"sizeref\": 0.125, \"symbol\": \"circle\"}, \"mode\": \"markers\", \"name\": \"THEFT\", \"orientation\": \"v\", \"showlegend\": true, \"x\": [-87.79, -87.76, -87.72, -87.71000000000001, -87.71000000000001, -87.66, -87.63], \"xaxis\": \"x\", \"y\": [41.910000000000004, 41.9, 41.800000000000004, 41.88, 41.95, 41.910000000000004, 41.88], \"yaxis\": \"y\", \"type\": \"scatter\"}, {\"hovertemplate\": \"Primary Type=BATTERY<br>t=9<br>Longitude=%{x}<br>Latitude=%{y}<br>size=%{marker.size}<extra></extra>\", \"legendgroup\": \"BATTERY\", \"marker\": {\"color\": \"#EF553B\", \"opacity\": 0.5, \"size\": [2.0, 2.0, 4.0, 2.0, 2.0, 2.0, 2.0], \"sizemode\": \"area\", \"sizeref\": 0.125, \"symbol\": \"circle\"}, \"mode\": \"markers\", \"name\": \"BATTERY\", \"orientation\": \"v\", \"showlegend\": true, \"x\": [-87.78, -87.73, -87.69, -87.66, -87.65, -87.64, -87.59], \"xaxis\": \"x\", \"y\": [41.93, 41.94, 41.800000000000004, 41.83, 41.93, 41.88, 41.76], \"yaxis\": \"y\", \"type\": \"scatter\"}, {\"hovertemplate\": \"Primary Type=CRIMINAL DAMAGE<br>t=9<br>Longitude=%{x}<br>Latitude=%{y}<br>size=%{marker.size}<extra></extra>\", \"legendgroup\": \"CRIMINAL DAMAGE\", \"marker\": {\"color\": \"#00cc96\", \"opacity\": 0.5, \"size\": [2.0, 2.0, 2.0, 2.0, 2.0], \"sizemode\": \"area\", \"sizeref\": 0.125, \"symbol\": \"circle\"}, \"mode\": \"markers\", \"name\": \"CRIMINAL DAMAGE\", \"orientation\": \"v\", \"showlegend\": true, \"x\": [-87.78, -87.73, -87.72, -87.67, -87.65], \"xaxis\": \"x\", \"y\": [41.93, 41.910000000000004, 41.92, 41.77, 41.94], \"yaxis\": \"y\", \"type\": \"scatter\"}, {\"hovertemplate\": \"Primary Type=ASSAULT<br>t=9<br>Longitude=%{x}<br>Latitude=%{y}<br>size=%{marker.size}<extra></extra>\", \"legendgroup\": \"ASSAULT\", \"marker\": {\"color\": \"#ab63fa\", \"opacity\": 0.5, \"size\": [2.0, 2.0, 2.0], \"sizemode\": \"area\", \"sizeref\": 0.125, \"symbol\": \"circle\"}, \"mode\": \"markers\", \"name\": \"ASSAULT\", \"orientation\": \"v\", \"showlegend\": true, \"x\": [-87.65, -87.65, -87.64], \"xaxis\": \"x\", \"y\": [41.910000000000004, 41.95, 41.75], \"yaxis\": \"y\", \"type\": \"scatter\"}, {\"hovertemplate\": \"Primary Type=BURGLARY<br>t=9<br>Longitude=%{x}<br>Latitude=%{y}<br>size=%{marker.size}<extra></extra>\", \"legendgroup\": \"BURGLARY\", \"marker\": {\"color\": \"#19d3f3\", \"opacity\": 0.5, \"size\": [2.0, 2.0], \"sizemode\": \"area\", \"sizeref\": 0.125, \"symbol\": \"circle\"}, \"mode\": \"markers\", \"name\": \"BURGLARY\", \"orientation\": \"v\", \"showlegend\": true, \"x\": [-87.64, -87.63], \"xaxis\": \"x\", \"y\": [41.69, 41.82], \"yaxis\": \"y\", \"type\": \"scatter\"}, {\"hovertemplate\": \"Primary Type=MOTOR VEHICLE THEFT<br>t=9<br>Longitude=%{x}<br>Latitude=%{y}<br>size=%{marker.size}<extra></extra>\", \"legendgroup\": \"MOTOR VEHICLE THEFT\", \"marker\": {\"color\": \"#FF6692\", \"opacity\": 0.5, \"size\": [2.0, 2.0], \"sizemode\": \"area\", \"sizeref\": 0.125, \"symbol\": \"circle\"}, \"mode\": \"markers\", \"name\": \"MOTOR VEHICLE THEFT\", \"orientation\": \"v\", \"showlegend\": true, \"x\": [-87.69, -87.64], \"xaxis\": \"x\", \"y\": [41.71, 41.84], \"yaxis\": \"y\", \"type\": \"scatter\"}, {\"hovertemplate\": \"Primary Type=NARCOTICS<br>t=9<br>Longitude=%{x}<br>Latitude=%{y}<br>size=%{marker.size}<extra></extra>\", \"legendgroup\": \"NARCOTICS\", \"marker\": {\"color\": \"#B6E880\", \"opacity\": 0.5, \"size\": [2.0, 2.0], \"sizemode\": \"area\", \"sizeref\": 0.125, \"symbol\": \"circle\"}, \"mode\": \"markers\", \"name\": \"NARCOTICS\", \"orientation\": \"v\", \"showlegend\": true, \"x\": [-87.74, -87.63], \"xaxis\": \"x\", \"y\": [41.87, 41.88], \"yaxis\": \"y\", \"type\": \"scatter\"}], \"name\": \"9\"}, {\"data\": [{\"hovertemplate\": \"Primary Type=THEFT<br>t=10<br>Longitude=%{x}<br>Latitude=%{y}<br>size=%{marker.size}<extra></extra>\", \"legendgroup\": \"THEFT\", \"marker\": {\"color\": \"#636efa\", \"opacity\": 0.5, \"size\": [2.0, 2.0, 2.0, 2.0, 2.0, 2.0, 2.0, 2.0, 2.0, 2.0, 2.0, 2.0, 2.0, 2.0, 2.0, 2.0, 2.0, 2.0, 2.0, 6.0, 2.0], \"sizemode\": \"area\", \"sizeref\": 0.125, \"symbol\": \"circle\"}, \"mode\": \"markers\", \"name\": \"THEFT\", \"orientation\": \"v\", \"showlegend\": true, \"x\": [-87.78, -87.77, -87.75, -87.73, -87.7, -87.7, -87.69, -87.69, -87.69, -87.67, -87.67, -87.66, -87.65, -87.65, -87.65, -87.64, -87.64, -87.63, -87.63, -87.63, -87.59], \"xaxis\": \"x\", \"y\": [41.94, 41.87, 41.78, 41.84, 41.71, 41.92, 41.67, 41.9, 41.92, 41.81, 41.9, 41.97, 41.76, 41.77, 41.94, 41.76, 41.89, 41.76, 41.77, 41.88, 41.79], \"yaxis\": \"y\", \"type\": \"scatter\"}, {\"hovertemplate\": \"Primary Type=BATTERY<br>t=10<br>Longitude=%{x}<br>Latitude=%{y}<br>size=%{marker.size}<extra></extra>\", \"legendgroup\": \"BATTERY\", \"marker\": {\"color\": \"#EF553B\", \"opacity\": 0.5, \"size\": [2.0, 2.0, 2.0, 2.0, 2.0, 2.0, 2.0, 2.0, 2.0, 2.0], \"sizemode\": \"area\", \"sizeref\": 0.125, \"symbol\": \"circle\"}, \"mode\": \"markers\", \"name\": \"BATTERY\", \"orientation\": \"v\", \"showlegend\": true, \"x\": [-87.77, -87.76, -87.73, -87.72, -87.69, -87.67, -87.65, -87.63, -87.62, -87.61], \"xaxis\": \"x\", \"y\": [41.93, 41.87, 41.9, 41.85, 42.0, 41.76, 41.87, 41.89, 41.77, 41.72], \"yaxis\": \"y\", \"type\": \"scatter\"}, {\"hovertemplate\": \"Primary Type=CRIMINAL DAMAGE<br>t=10<br>Longitude=%{x}<br>Latitude=%{y}<br>size=%{marker.size}<extra></extra>\", \"legendgroup\": \"CRIMINAL DAMAGE\", \"marker\": {\"color\": \"#00cc96\", \"opacity\": 0.5, \"size\": [2.0, 2.0, 2.0, 2.0, 2.0, 2.0, 2.0, 2.0, 2.0, 2.0, 2.0, 2.0, 2.0], \"sizemode\": \"area\", \"sizeref\": 0.125, \"symbol\": \"circle\"}, \"mode\": \"markers\", \"name\": \"CRIMINAL DAMAGE\", \"orientation\": \"v\", \"showlegend\": true, \"x\": [-87.82000000000001, -87.77, -87.76, -87.73, -87.71000000000001, -87.7, -87.69, -87.69, -87.69, -87.69, -87.63, -87.62, -87.58], \"xaxis\": \"x\", \"y\": [41.94, 41.93, 41.9, 41.97, 41.84, 41.96, 41.7, 41.78, 41.85, 42.0, 41.78, 41.75, 41.72], \"yaxis\": \"y\", \"type\": \"scatter\"}, {\"hovertemplate\": \"Primary Type=ASSAULT<br>t=10<br>Longitude=%{x}<br>Latitude=%{y}<br>size=%{marker.size}<extra></extra>\", \"legendgroup\": \"ASSAULT\", \"marker\": {\"color\": \"#ab63fa\", \"opacity\": 0.5, \"size\": [2.0, 2.0, 2.0, 2.0, 2.0, 2.0, 2.0, 2.0, 2.0], \"sizemode\": \"area\", \"sizeref\": 0.125, \"symbol\": \"circle\"}, \"mode\": \"markers\", \"name\": \"ASSAULT\", \"orientation\": \"v\", \"showlegend\": true, \"x\": [-87.78, -87.77, -87.72, -87.7, -87.65, -87.65, -87.64, -87.63, -87.58], \"xaxis\": \"x\", \"y\": [41.92, 41.88, 41.86, 41.77, 41.81, 41.87, 41.89, 41.71, 41.76], \"yaxis\": \"y\", \"type\": \"scatter\"}, {\"hovertemplate\": \"Primary Type=OTHER OFFENSE<br>t=10<br>Longitude=%{x}<br>Latitude=%{y}<br>size=%{marker.size}<extra></extra>\", \"legendgroup\": \"OTHER OFFENSE\", \"marker\": {\"color\": \"#FFA15A\", \"opacity\": 0.5, \"size\": [2.0, 2.0, 2.0, 2.0, 4.0, 2.0, 2.0, 2.0, 2.0], \"sizemode\": \"area\", \"sizeref\": 0.125, \"symbol\": \"circle\"}, \"mode\": \"markers\", \"name\": \"OTHER OFFENSE\", \"orientation\": \"v\", \"showlegend\": true, \"x\": [-87.68, -87.67, -87.67, -87.67, -87.67, -87.63, -87.61, -87.61, -87.59], \"xaxis\": \"x\", \"y\": [41.78, 41.71, 41.72, 41.75, 41.78, 41.88, 41.71, 41.81, 41.74], \"yaxis\": \"y\", \"type\": \"scatter\"}, {\"hovertemplate\": \"Primary Type=BURGLARY<br>t=10<br>Longitude=%{x}<br>Latitude=%{y}<br>size=%{marker.size}<extra></extra>\", \"legendgroup\": \"BURGLARY\", \"marker\": {\"color\": \"#19d3f3\", \"opacity\": 0.5, \"size\": [2.0, 2.0, 2.0], \"sizemode\": \"area\", \"sizeref\": 0.125, \"symbol\": \"circle\"}, \"mode\": \"markers\", \"name\": \"BURGLARY\", \"orientation\": \"v\", \"showlegend\": true, \"x\": [-87.75, -87.74, -87.67], \"xaxis\": \"x\", \"y\": [41.87, 41.88, 41.89], \"yaxis\": \"y\", \"type\": \"scatter\"}, {\"hovertemplate\": \"Primary Type=MOTOR VEHICLE THEFT<br>t=10<br>Longitude=%{x}<br>Latitude=%{y}<br>size=%{marker.size}<extra></extra>\", \"legendgroup\": \"MOTOR VEHICLE THEFT\", \"marker\": {\"color\": \"#FF6692\", \"opacity\": 0.5, \"size\": [2.0, 2.0, 2.0, 2.0, 2.0], \"sizemode\": \"area\", \"sizeref\": 0.125, \"symbol\": \"circle\"}, \"mode\": \"markers\", \"name\": \"MOTOR VEHICLE THEFT\", \"orientation\": \"v\", \"showlegend\": true, \"x\": [-87.75, -87.72, -87.67, -87.64, -87.58], \"xaxis\": \"x\", \"y\": [41.87, 41.93, 41.82, 41.75, 41.76], \"yaxis\": \"y\", \"type\": \"scatter\"}, {\"hovertemplate\": \"Primary Type=NARCOTICS<br>t=10<br>Longitude=%{x}<br>Latitude=%{y}<br>size=%{marker.size}<extra></extra>\", \"legendgroup\": \"NARCOTICS\", \"marker\": {\"color\": \"#B6E880\", \"opacity\": 0.5, \"size\": [2.0, 2.0], \"sizemode\": \"area\", \"sizeref\": 0.125, \"symbol\": \"circle\"}, \"mode\": \"markers\", \"name\": \"NARCOTICS\", \"orientation\": \"v\", \"showlegend\": true, \"x\": [-87.72, -87.71000000000001], \"xaxis\": \"x\", \"y\": [41.85, 41.88], \"yaxis\": \"y\", \"type\": \"scatter\"}, {\"hovertemplate\": \"Primary Type=DECEPTIVE PRACTICE<br>t=10<br>Longitude=%{x}<br>Latitude=%{y}<br>size=%{marker.size}<extra></extra>\", \"legendgroup\": \"DECEPTIVE PRACTICE\", \"marker\": {\"color\": \"#FF97FF\", \"opacity\": 0.5, \"size\": [2.0, 2.0, 2.0], \"sizemode\": \"area\", \"sizeref\": 0.125, \"symbol\": \"circle\"}, \"mode\": \"markers\", \"name\": \"DECEPTIVE PRACTICE\", \"orientation\": \"v\", \"showlegend\": true, \"x\": [-87.76, -87.67, -87.56], \"xaxis\": \"x\", \"y\": [41.93, 41.980000000000004, 41.76], \"yaxis\": \"y\", \"type\": \"scatter\"}], \"name\": \"10\"}, {\"data\": [{\"hovertemplate\": \"Primary Type=THEFT<br>t=11<br>Longitude=%{x}<br>Latitude=%{y}<br>size=%{marker.size}<extra></extra>\", \"legendgroup\": \"THEFT\", \"marker\": {\"color\": \"#636efa\", \"opacity\": 0.5, \"size\": [2.0, 2.0, 2.0, 2.0, 2.0, 2.0, 2.0, 2.0, 2.0, 2.0, 2.0, 2.0, 2.0, 4.0, 2.0, 2.0, 2.0, 2.0, 2.0, 4.0, 2.0, 2.0, 2.0, 2.0, 4.0, 2.0, 2.0, 2.0, 4.0, 2.0], \"sizemode\": \"area\", \"sizeref\": 0.125, \"symbol\": \"circle\"}, \"mode\": \"markers\", \"name\": \"THEFT\", \"orientation\": \"v\", \"showlegend\": true, \"x\": [-87.79, -87.78, -87.77, -87.76, -87.75, -87.74, -87.74, -87.73, -87.73, -87.72, -87.71000000000001, -87.68, -87.68, -87.67, -87.67, -87.66, -87.66, -87.65, -87.65, -87.65, -87.65, -87.64, -87.63, -87.63, -87.63, -87.62, -87.62, -87.61, -87.60000000000001, -87.59], \"xaxis\": \"x\", \"y\": [41.910000000000004, 41.89, 41.78, 41.87, 41.95, 41.9, 41.910000000000004, 41.89, 41.96, 41.910000000000004, 41.89, 41.99, 42.0, 41.72, 42.0, 41.67, 41.96, 41.83, 41.89, 41.9, 41.910000000000004, 41.87, 41.87, 41.88, 41.89, 41.67, 41.74, 41.81, 41.79, 41.79], \"yaxis\": \"y\", \"type\": \"scatter\"}, {\"hovertemplate\": \"Primary Type=BATTERY<br>t=11<br>Longitude=%{x}<br>Latitude=%{y}<br>size=%{marker.size}<extra></extra>\", \"legendgroup\": \"BATTERY\", \"marker\": {\"color\": \"#EF553B\", \"opacity\": 0.5, \"size\": [2.0, 2.0, 2.0, 4.0, 2.0, 2.0, 2.0, 2.0, 2.0, 2.0, 2.0, 2.0, 2.0, 2.0, 2.0, 2.0, 2.0, 2.0], \"sizemode\": \"area\", \"sizeref\": 0.125, \"symbol\": \"circle\"}, \"mode\": \"markers\", \"name\": \"BATTERY\", \"orientation\": \"v\", \"showlegend\": true, \"x\": [-87.78, -87.74, -87.73, -87.73, -87.71000000000001, -87.7, -87.69, -87.66, -87.66, -87.65, -87.64, -87.64, -87.63, -87.63, -87.62, -87.61, -87.61, -87.56], \"xaxis\": \"x\", \"y\": [41.92, 41.88, 41.89, 41.9, 41.910000000000004, 42.0, 41.85, 41.79, 41.88, 41.75, 41.7, 41.76, 41.82, 41.83, 41.77, 41.65, 41.76, 41.74], \"yaxis\": \"y\", \"type\": \"scatter\"}, {\"hovertemplate\": \"Primary Type=CRIMINAL DAMAGE<br>t=11<br>Longitude=%{x}<br>Latitude=%{y}<br>size=%{marker.size}<extra></extra>\", \"legendgroup\": \"CRIMINAL DAMAGE\", \"marker\": {\"color\": \"#00cc96\", \"opacity\": 0.5, \"size\": [2.0, 2.0, 2.0, 2.0, 2.0, 2.0, 2.0, 2.0, 2.0], \"sizemode\": \"area\", \"sizeref\": 0.125, \"symbol\": \"circle\"}, \"mode\": \"markers\", \"name\": \"CRIMINAL DAMAGE\", \"orientation\": \"v\", \"showlegend\": true, \"x\": [-87.75, -87.73, -87.73, -87.7, -87.68, -87.67, -87.60000000000001, -87.60000000000001, -87.57000000000001], \"xaxis\": \"x\", \"y\": [41.94, 41.800000000000004, 41.94, 41.96, 41.910000000000004, 41.72, 41.69, 41.75, 41.74], \"yaxis\": \"y\", \"type\": \"scatter\"}, {\"hovertemplate\": \"Primary Type=ASSAULT<br>t=11<br>Longitude=%{x}<br>Latitude=%{y}<br>size=%{marker.size}<extra></extra>\", \"legendgroup\": \"ASSAULT\", \"marker\": {\"color\": \"#ab63fa\", \"opacity\": 0.5, \"size\": [2.0, 2.0, 2.0, 2.0, 2.0, 2.0], \"sizemode\": \"area\", \"sizeref\": 0.125, \"symbol\": \"circle\"}, \"mode\": \"markers\", \"name\": \"ASSAULT\", \"orientation\": \"v\", \"showlegend\": true, \"x\": [-87.71000000000001, -87.68, -87.67, -87.66, -87.65, -87.62], \"xaxis\": \"x\", \"y\": [41.86, 41.85, 41.72, 41.96, 41.84, 41.89], \"yaxis\": \"y\", \"type\": \"scatter\"}, {\"hovertemplate\": \"Primary Type=OTHER OFFENSE<br>t=11<br>Longitude=%{x}<br>Latitude=%{y}<br>size=%{marker.size}<extra></extra>\", \"legendgroup\": \"OTHER OFFENSE\", \"marker\": {\"color\": \"#FFA15A\", \"opacity\": 0.5, \"size\": [2.0, 2.0, 2.0, 2.0, 2.0, 2.0, 2.0, 2.0, 2.0, 2.0, 2.0, 2.0, 2.0, 2.0, 2.0, 2.0, 2.0, 2.0], \"sizemode\": \"area\", \"sizeref\": 0.125, \"symbol\": \"circle\"}, \"mode\": \"markers\", \"name\": \"OTHER OFFENSE\", \"orientation\": \"v\", \"showlegend\": true, \"x\": [-87.77, -87.76, -87.73, -87.7, -87.68, -87.68, -87.67, -87.67, -87.67, -87.67, -87.66, -87.66, -87.66, -87.63, -87.62, -87.62, -87.60000000000001, -87.57000000000001], \"xaxis\": \"x\", \"y\": [41.910000000000004, 41.9, 41.88, 41.910000000000004, 41.72, 41.85, 41.69, 41.7, 41.75, 41.93, 41.72, 41.75, 41.87, 41.68, 41.78, 41.82, 41.77, 41.75], \"yaxis\": \"y\", \"type\": \"scatter\"}, {\"hovertemplate\": \"Primary Type=BURGLARY<br>t=11<br>Longitude=%{x}<br>Latitude=%{y}<br>size=%{marker.size}<extra></extra>\", \"legendgroup\": \"BURGLARY\", \"marker\": {\"color\": \"#19d3f3\", \"opacity\": 0.5, \"size\": [2.0, 2.0, 2.0, 2.0], \"sizemode\": \"area\", \"sizeref\": 0.125, \"symbol\": \"circle\"}, \"mode\": \"markers\", \"name\": \"BURGLARY\", \"orientation\": \"v\", \"showlegend\": true, \"x\": [-87.79, -87.69, -87.65, -87.58], \"xaxis\": \"x\", \"y\": [41.910000000000004, 41.7, 41.76, 41.77], \"yaxis\": \"y\", \"type\": \"scatter\"}, {\"hovertemplate\": \"Primary Type=MOTOR VEHICLE THEFT<br>t=11<br>Longitude=%{x}<br>Latitude=%{y}<br>size=%{marker.size}<extra></extra>\", \"legendgroup\": \"MOTOR VEHICLE THEFT\", \"marker\": {\"color\": \"#FF6692\", \"opacity\": 0.5, \"size\": [2.0, 2.0], \"sizemode\": \"area\", \"sizeref\": 0.125, \"symbol\": \"circle\"}, \"mode\": \"markers\", \"name\": \"MOTOR VEHICLE THEFT\", \"orientation\": \"v\", \"showlegend\": true, \"x\": [-87.65, -87.63], \"xaxis\": \"x\", \"y\": [41.68, 41.79], \"yaxis\": \"y\", \"type\": \"scatter\"}, {\"hovertemplate\": \"Primary Type=NARCOTICS<br>t=11<br>Longitude=%{x}<br>Latitude=%{y}<br>size=%{marker.size}<extra></extra>\", \"legendgroup\": \"NARCOTICS\", \"marker\": {\"color\": \"#B6E880\", \"opacity\": 0.5, \"size\": [2.0, 2.0, 2.0, 2.0, 2.0, 2.0, 2.0, 2.0, 2.0, 2.0, 2.0], \"sizemode\": \"area\", \"sizeref\": 0.125, \"symbol\": \"circle\"}, \"mode\": \"markers\", \"name\": \"NARCOTICS\", \"orientation\": \"v\", \"showlegend\": true, \"x\": [-87.76, -87.75, -87.74, -87.73, -87.73, -87.73, -87.72, -87.71000000000001, -87.67, -87.66, -87.65], \"xaxis\": \"x\", \"y\": [41.88, 41.87, 41.86, 41.88, 41.89, 41.9, 41.86, 41.910000000000004, 41.800000000000004, 41.74, 41.75], \"yaxis\": \"y\", \"type\": \"scatter\"}, {\"hovertemplate\": \"Primary Type=DECEPTIVE PRACTICE<br>t=11<br>Longitude=%{x}<br>Latitude=%{y}<br>size=%{marker.size}<extra></extra>\", \"legendgroup\": \"DECEPTIVE PRACTICE\", \"marker\": {\"color\": \"#FF97FF\", \"opacity\": 0.5, \"size\": [2.0, 2.0, 2.0, 2.0, 2.0, 2.0, 2.0, 4.0, 2.0, 2.0, 2.0], \"sizemode\": \"area\", \"sizeref\": 0.125, \"symbol\": \"circle\"}, \"mode\": \"markers\", \"name\": \"DECEPTIVE PRACTICE\", \"orientation\": \"v\", \"showlegend\": true, \"x\": [-87.79, -87.75, -87.74, -87.71000000000001, -87.71000000000001, -87.68, -87.67, -87.67, -87.65, -87.64, -87.64], \"xaxis\": \"x\", \"y\": [41.92, 41.87, 41.85, 41.79, 41.910000000000004, 42.0, 41.86, 41.99, 41.77, 41.85, 41.87], \"yaxis\": \"y\", \"type\": \"scatter\"}], \"name\": \"11\"}, {\"data\": [{\"hovertemplate\": \"Primary Type=THEFT<br>t=12<br>Longitude=%{x}<br>Latitude=%{y}<br>size=%{marker.size}<extra></extra>\", \"legendgroup\": \"THEFT\", \"marker\": {\"color\": \"#636efa\", \"opacity\": 0.5, \"size\": [2.0, 2.0, 2.0, 2.0, 2.0, 2.0, 2.0, 2.0, 2.0, 2.0, 2.0, 2.0, 2.0, 2.0, 2.0, 2.0, 2.0, 2.0, 2.0, 6.0, 8.0, 4.0, 2.0, 2.0, 2.0, 2.0, 2.0], \"sizemode\": \"area\", \"sizeref\": 0.125, \"symbol\": \"circle\"}, \"mode\": \"markers\", \"name\": \"THEFT\", \"orientation\": \"v\", \"showlegend\": true, \"x\": [-87.77, -87.75, -87.73, -87.73, -87.73, -87.73, -87.71000000000001, -87.7, -87.68, -87.68, -87.68, -87.68, -87.67, -87.67, -87.66, -87.65, -87.65, -87.65, -87.65, -87.64, -87.63, -87.63, -87.62, -87.61, -87.61, -87.60000000000001, -87.57000000000001], \"xaxis\": \"x\", \"y\": [41.95, 41.79, 41.76, 41.79, 41.93, 41.97, 41.87, 41.89, 41.85, 41.9, 41.910000000000004, 42.01, 41.68, 41.800000000000004, 41.82, 41.7, 41.800000000000004, 41.86, 41.92, 41.86, 41.88, 41.89, 41.82, 41.77, 41.82, 41.800000000000004, 41.71], \"yaxis\": \"y\", \"type\": \"scatter\"}, {\"hovertemplate\": \"Primary Type=BATTERY<br>t=12<br>Longitude=%{x}<br>Latitude=%{y}<br>size=%{marker.size}<extra></extra>\", \"legendgroup\": \"BATTERY\", \"marker\": {\"color\": \"#EF553B\", \"opacity\": 0.5, \"size\": [2.0, 2.0, 2.0, 2.0, 2.0, 2.0, 2.0, 2.0, 2.0, 2.0, 2.0, 2.0, 2.0, 2.0, 2.0, 2.0, 4.0, 2.0, 2.0, 2.0], \"sizemode\": \"area\", \"sizeref\": 0.125, \"symbol\": \"circle\"}, \"mode\": \"markers\", \"name\": \"BATTERY\", \"orientation\": \"v\", \"showlegend\": true, \"x\": [-87.78, -87.77, -87.72, -87.72, -87.72, -87.68, -87.67, -87.65, -87.65, -87.65, -87.65, -87.65, -87.65, -87.64, -87.64, -87.63, -87.63, -87.61, -87.61, -87.57000000000001], \"xaxis\": \"x\", \"y\": [41.89, 41.9, 41.88, 41.89, 41.96, 41.800000000000004, 41.96, 41.71, 41.77, 41.78, 41.85, 41.87, 41.9, 41.7, 41.9, 41.83, 41.87, 41.68, 41.79, 41.75], \"yaxis\": \"y\", \"type\": \"scatter\"}, {\"hovertemplate\": \"Primary Type=CRIMINAL DAMAGE<br>t=12<br>Longitude=%{x}<br>Latitude=%{y}<br>size=%{marker.size}<extra></extra>\", \"legendgroup\": \"CRIMINAL DAMAGE\", \"marker\": {\"color\": \"#00cc96\", \"opacity\": 0.5, \"size\": [2.0, 2.0, 2.0, 2.0], \"sizemode\": \"area\", \"sizeref\": 0.125, \"symbol\": \"circle\"}, \"mode\": \"markers\", \"name\": \"CRIMINAL DAMAGE\", \"orientation\": \"v\", \"showlegend\": true, \"x\": [-87.75, -87.65, -87.65, -87.59], \"xaxis\": \"x\", \"y\": [41.95, 41.75, 41.93, 41.75], \"yaxis\": \"y\", \"type\": \"scatter\"}, {\"hovertemplate\": \"Primary Type=ASSAULT<br>t=12<br>Longitude=%{x}<br>Latitude=%{y}<br>size=%{marker.size}<extra></extra>\", \"legendgroup\": \"ASSAULT\", \"marker\": {\"color\": \"#ab63fa\", \"opacity\": 0.5, \"size\": [2.0, 2.0, 2.0, 2.0, 2.0, 2.0, 2.0, 2.0, 2.0, 2.0, 2.0, 2.0, 4.0, 2.0, 2.0, 2.0, 2.0], \"sizemode\": \"area\", \"sizeref\": 0.125, \"symbol\": \"circle\"}, \"mode\": \"markers\", \"name\": \"ASSAULT\", \"orientation\": \"v\", \"showlegend\": true, \"x\": [-87.78, -87.78, -87.76, -87.71000000000001, -87.7, -87.67, -87.66, -87.65, -87.65, -87.65, -87.64, -87.64, -87.64, -87.62, -87.61, -87.60000000000001, -87.57000000000001], \"xaxis\": \"x\", \"y\": [41.79, 41.94, 41.92, 41.83, 41.77, 41.77, 41.86, 41.68, 41.75, 41.94, 41.77, 41.83, 41.9, 41.82, 41.78, 41.75, 41.75], \"yaxis\": \"y\", \"type\": \"scatter\"}, {\"hovertemplate\": \"Primary Type=OTHER OFFENSE<br>t=12<br>Longitude=%{x}<br>Latitude=%{y}<br>size=%{marker.size}<extra></extra>\", \"legendgroup\": \"OTHER OFFENSE\", \"marker\": {\"color\": \"#FFA15A\", \"opacity\": 0.5, \"size\": [2.0, 2.0, 2.0, 2.0, 2.0, 2.0, 2.0, 2.0, 2.0, 4.0, 2.0], \"sizemode\": \"area\", \"sizeref\": 0.125, \"symbol\": \"circle\"}, \"mode\": \"markers\", \"name\": \"OTHER OFFENSE\", \"orientation\": \"v\", \"showlegend\": true, \"x\": [-87.79, -87.74, -87.71000000000001, -87.68, -87.68, -87.67, -87.67, -87.66, -87.63, -87.59, -87.57000000000001], \"xaxis\": \"x\", \"y\": [41.96, 41.88, 41.96, 41.82, 41.86, 41.76, 41.97, 41.75, 41.88, 41.75, 41.76], \"yaxis\": \"y\", \"type\": \"scatter\"}, {\"hovertemplate\": \"Primary Type=BURGLARY<br>t=12<br>Longitude=%{x}<br>Latitude=%{y}<br>size=%{marker.size}<extra></extra>\", \"legendgroup\": \"BURGLARY\", \"marker\": {\"color\": \"#19d3f3\", \"opacity\": 0.5, \"size\": [2.0, 2.0, 2.0, 2.0], \"sizemode\": \"area\", \"sizeref\": 0.125, \"symbol\": \"circle\"}, \"mode\": \"markers\", \"name\": \"BURGLARY\", \"orientation\": \"v\", \"showlegend\": true, \"x\": [-87.78, -87.66, -87.64, -87.57000000000001], \"xaxis\": \"x\", \"y\": [41.92, 41.92, 41.67, 41.75], \"yaxis\": \"y\", \"type\": \"scatter\"}, {\"hovertemplate\": \"Primary Type=MOTOR VEHICLE THEFT<br>t=12<br>Longitude=%{x}<br>Latitude=%{y}<br>size=%{marker.size}<extra></extra>\", \"legendgroup\": \"MOTOR VEHICLE THEFT\", \"marker\": {\"color\": \"#FF6692\", \"opacity\": 0.5, \"size\": [2.0, 2.0, 2.0, 2.0, 2.0, 2.0, 2.0], \"sizemode\": \"area\", \"sizeref\": 0.125, \"symbol\": \"circle\"}, \"mode\": \"markers\", \"name\": \"MOTOR VEHICLE THEFT\", \"orientation\": \"v\", \"showlegend\": true, \"x\": [-87.71000000000001, -87.69, -87.68, -87.63, -87.63, -87.63, -87.61], \"xaxis\": \"x\", \"y\": [41.87, 41.9, 41.88, 41.74, 41.76, 41.89, 41.79], \"yaxis\": \"y\", \"type\": \"scatter\"}, {\"hovertemplate\": \"Primary Type=NARCOTICS<br>t=12<br>Longitude=%{x}<br>Latitude=%{y}<br>size=%{marker.size}<extra></extra>\", \"legendgroup\": \"NARCOTICS\", \"marker\": {\"color\": \"#B6E880\", \"opacity\": 0.5, \"size\": [2.0, 2.0, 2.0, 2.0, 2.0, 2.0, 2.0, 2.0, 2.0], \"sizemode\": \"area\", \"sizeref\": 0.125, \"symbol\": \"circle\"}, \"mode\": \"markers\", \"name\": \"NARCOTICS\", \"orientation\": \"v\", \"showlegend\": true, \"x\": [-87.76, -87.74, -87.73, -87.69, -87.66, -87.65, -87.62, -87.61, -87.59], \"xaxis\": \"x\", \"y\": [41.88, 41.910000000000004, 41.88, 41.74, 41.96, 41.74, 41.75, 41.81, 41.730000000000004], \"yaxis\": \"y\", \"type\": \"scatter\"}, {\"hovertemplate\": \"Primary Type=DECEPTIVE PRACTICE<br>t=12<br>Longitude=%{x}<br>Latitude=%{y}<br>size=%{marker.size}<extra></extra>\", \"legendgroup\": \"DECEPTIVE PRACTICE\", \"marker\": {\"color\": \"#FF97FF\", \"opacity\": 0.5, \"size\": [2.0, 2.0, 2.0, 2.0, 2.0, 2.0, 2.0, 2.0, 2.0, 2.0], \"sizemode\": \"area\", \"sizeref\": 0.125, \"symbol\": \"circle\"}, \"mode\": \"markers\", \"name\": \"DECEPTIVE PRACTICE\", \"orientation\": \"v\", \"showlegend\": true, \"x\": [-87.75, -87.73, -87.72, -87.67, -87.66, -87.65, -87.65, -87.64, -87.63, -87.58], \"xaxis\": \"x\", \"y\": [41.74, 41.87, 41.95, 41.96, 41.980000000000004, 41.7, 41.88, 41.92, 41.88, 41.77], \"yaxis\": \"y\", \"type\": \"scatter\"}], \"name\": \"12\"}, {\"data\": [{\"hovertemplate\": \"Primary Type=THEFT<br>t=13<br>Longitude=%{x}<br>Latitude=%{y}<br>size=%{marker.size}<extra></extra>\", \"legendgroup\": \"THEFT\", \"marker\": {\"color\": \"#636efa\", \"opacity\": 0.5, \"size\": [4.0, 2.0, 4.0, 2.0, 4.0, 2.0, 2.0, 2.0, 4.0, 2.0, 2.0, 2.0, 2.0, 2.0, 2.0, 2.0, 2.0, 2.0, 2.0, 4.0, 2.0, 2.0, 2.0, 2.0, 2.0, 2.0, 4.0, 2.0, 2.0, 2.0, 2.0, 2.0], \"sizemode\": \"area\", \"sizeref\": 0.125, \"symbol\": \"circle\"}, \"mode\": \"markers\", \"name\": \"THEFT\", \"orientation\": \"v\", \"showlegend\": true, \"x\": [-87.91, -87.77, -87.76, -87.75, -87.75, -87.75, -87.73, -87.73, -87.71000000000001, -87.71000000000001, -87.71000000000001, -87.7, -87.69, -87.69, -87.67, -87.67, -87.66, -87.66, -87.65, -87.65, -87.65, -87.65, -87.64, -87.64, -87.64, -87.63, -87.63, -87.63, -87.61, -87.60000000000001, -87.60000000000001, -87.59], \"xaxis\": \"x\", \"y\": [41.97, 41.9, 41.88, 41.79, 41.9, 41.93, 41.81, 41.93, 41.79, 41.84, 41.9, 41.88, 41.92, 41.980000000000004, 41.7, 41.9, 41.92, 41.95, 41.69, 41.800000000000004, 41.9, 41.92, 41.89, 41.9, 41.910000000000004, 41.86, 41.88, 41.89, 41.75, 41.69, 41.74, 41.72], \"yaxis\": \"y\", \"type\": \"scatter\"}, {\"hovertemplate\": \"Primary Type=BATTERY<br>t=13<br>Longitude=%{x}<br>Latitude=%{y}<br>size=%{marker.size}<extra></extra>\", \"legendgroup\": \"BATTERY\", \"marker\": {\"color\": \"#EF553B\", \"opacity\": 0.5, \"size\": [2.0, 2.0, 2.0, 2.0, 2.0, 2.0, 2.0, 2.0, 2.0, 2.0, 2.0, 2.0, 2.0, 2.0, 2.0], \"sizemode\": \"area\", \"sizeref\": 0.125, \"symbol\": \"circle\"}, \"mode\": \"markers\", \"name\": \"BATTERY\", \"orientation\": \"v\", \"showlegend\": true, \"x\": [-87.77, -87.77, -87.77, -87.76, -87.76, -87.73, -87.71000000000001, -87.69, -87.66, -87.65, -87.64, -87.62, -87.61, -87.59, -87.57000000000001], \"xaxis\": \"x\", \"y\": [41.88, 41.89, 41.92, 41.87, 41.93, 41.76, 41.69, 41.77, 41.99, 41.94, 41.89, 41.75, 41.72, 41.730000000000004, 41.75], \"yaxis\": \"y\", \"type\": \"scatter\"}, {\"hovertemplate\": \"Primary Type=CRIMINAL DAMAGE<br>t=13<br>Longitude=%{x}<br>Latitude=%{y}<br>size=%{marker.size}<extra></extra>\", \"legendgroup\": \"CRIMINAL DAMAGE\", \"marker\": {\"color\": \"#00cc96\", \"opacity\": 0.5, \"size\": [2.0, 2.0, 4.0, 2.0, 2.0, 2.0, 2.0, 2.0, 2.0, 2.0, 2.0, 4.0, 2.0, 2.0, 2.0, 2.0, 4.0], \"sizemode\": \"area\", \"sizeref\": 0.125, \"symbol\": \"circle\"}, \"mode\": \"markers\", \"name\": \"CRIMINAL DAMAGE\", \"orientation\": \"v\", \"showlegend\": true, \"x\": [-87.74, -87.72, -87.72, -87.72, -87.7, -87.69, -87.69, -87.69, -87.68, -87.66, -87.66, -87.65, -87.65, -87.64, -87.63, -87.63, -87.58], \"xaxis\": \"x\", \"y\": [41.92, 41.85, 41.93, 41.94, 41.79, 41.86, 41.92, 41.94, 41.92, 41.96, 42.0, 41.77, 41.9, 41.71, 41.69, 41.88, 41.75], \"yaxis\": \"y\", \"type\": \"scatter\"}, {\"hovertemplate\": \"Primary Type=ASSAULT<br>t=13<br>Longitude=%{x}<br>Latitude=%{y}<br>size=%{marker.size}<extra></extra>\", \"legendgroup\": \"ASSAULT\", \"marker\": {\"color\": \"#ab63fa\", \"opacity\": 0.5, \"size\": [2.0, 2.0, 2.0, 2.0, 2.0, 2.0, 2.0, 2.0, 2.0], \"sizemode\": \"area\", \"sizeref\": 0.125, \"symbol\": \"circle\"}, \"mode\": \"markers\", \"name\": \"ASSAULT\", \"orientation\": \"v\", \"showlegend\": true, \"x\": [-87.77, -87.77, -87.75, -87.72, -87.72, -87.71000000000001, -87.69, -87.65, -87.61], \"xaxis\": \"x\", \"y\": [41.87, 41.88, 41.910000000000004, 41.86, 41.95, 41.81, 41.82, 41.78, 41.74], \"yaxis\": \"y\", \"type\": \"scatter\"}, {\"hovertemplate\": \"Primary Type=OTHER OFFENSE<br>t=13<br>Longitude=%{x}<br>Latitude=%{y}<br>size=%{marker.size}<extra></extra>\", \"legendgroup\": \"OTHER OFFENSE\", \"marker\": {\"color\": \"#FFA15A\", \"opacity\": 0.5, \"size\": [2.0, 2.0, 2.0, 2.0, 2.0], \"sizemode\": \"area\", \"sizeref\": 0.125, \"symbol\": \"circle\"}, \"mode\": \"markers\", \"name\": \"OTHER OFFENSE\", \"orientation\": \"v\", \"showlegend\": true, \"x\": [-87.81, -87.72, -87.65, -87.65, -87.61], \"xaxis\": \"x\", \"y\": [41.94, 41.93, 41.72, 41.75, 41.81], \"yaxis\": \"y\", \"type\": \"scatter\"}, {\"hovertemplate\": \"Primary Type=BURGLARY<br>t=13<br>Longitude=%{x}<br>Latitude=%{y}<br>size=%{marker.size}<extra></extra>\", \"legendgroup\": \"BURGLARY\", \"marker\": {\"color\": \"#19d3f3\", \"opacity\": 0.5, \"size\": [2.0, 2.0, 2.0], \"sizemode\": \"area\", \"sizeref\": 0.125, \"symbol\": \"circle\"}, \"mode\": \"markers\", \"name\": \"BURGLARY\", \"orientation\": \"v\", \"showlegend\": true, \"x\": [-87.69, -87.68, -87.65], \"xaxis\": \"x\", \"y\": [41.77, 41.89, 41.76], \"yaxis\": \"y\", \"type\": \"scatter\"}, {\"hovertemplate\": \"Primary Type=MOTOR VEHICLE THEFT<br>t=13<br>Longitude=%{x}<br>Latitude=%{y}<br>size=%{marker.size}<extra></extra>\", \"legendgroup\": \"MOTOR VEHICLE THEFT\", \"marker\": {\"color\": \"#FF6692\", \"opacity\": 0.5, \"size\": [2.0, 2.0, 2.0, 2.0, 2.0, 2.0, 2.0], \"sizemode\": \"area\", \"sizeref\": 0.125, \"symbol\": \"circle\"}, \"mode\": \"markers\", \"name\": \"MOTOR VEHICLE THEFT\", \"orientation\": \"v\", \"showlegend\": true, \"x\": [-87.84, -87.81, -87.75, -87.73, -87.72, -87.64, -87.64], \"xaxis\": \"x\", \"y\": [41.94, 41.92, 41.89, 41.78, 41.910000000000004, 41.730000000000004, 41.77], \"yaxis\": \"y\", \"type\": \"scatter\"}, {\"hovertemplate\": \"Primary Type=NARCOTICS<br>t=13<br>Longitude=%{x}<br>Latitude=%{y}<br>size=%{marker.size}<extra></extra>\", \"legendgroup\": \"NARCOTICS\", \"marker\": {\"color\": \"#B6E880\", \"opacity\": 0.5, \"size\": [2.0, 2.0, 2.0, 2.0, 2.0, 2.0], \"sizemode\": \"area\", \"sizeref\": 0.125, \"symbol\": \"circle\"}, \"mode\": \"markers\", \"name\": \"NARCOTICS\", \"orientation\": \"v\", \"showlegend\": true, \"x\": [-87.74, -87.73, -87.73, -87.73, -87.7, -87.64], \"xaxis\": \"x\", \"y\": [41.87, 41.86, 41.87, 41.94, 41.77, 41.79], \"yaxis\": \"y\", \"type\": \"scatter\"}, {\"hovertemplate\": \"Primary Type=DECEPTIVE PRACTICE<br>t=13<br>Longitude=%{x}<br>Latitude=%{y}<br>size=%{marker.size}<extra></extra>\", \"legendgroup\": \"DECEPTIVE PRACTICE\", \"marker\": {\"color\": \"#FF97FF\", \"opacity\": 0.5, \"size\": [2.0, 2.0, 2.0, 2.0, 2.0, 2.0, 2.0], \"sizemode\": \"area\", \"sizeref\": 0.125, \"symbol\": \"circle\"}, \"mode\": \"markers\", \"name\": \"DECEPTIVE PRACTICE\", \"orientation\": \"v\", \"showlegend\": true, \"x\": [-87.73, -87.7, -87.69, -87.65, -87.64, -87.63, -87.57000000000001], \"xaxis\": \"x\", \"y\": [41.94, 41.74, 41.910000000000004, 41.910000000000004, 41.88, 41.88, 41.75], \"yaxis\": \"y\", \"type\": \"scatter\"}], \"name\": \"13\"}, {\"data\": [{\"hovertemplate\": \"Primary Type=THEFT<br>t=14<br>Longitude=%{x}<br>Latitude=%{y}<br>size=%{marker.size}<extra></extra>\", \"legendgroup\": \"THEFT\", \"marker\": {\"color\": \"#636efa\", \"opacity\": 0.5, \"size\": [2.0, 2.0, 2.0, 2.0, 2.0, 2.0, 2.0, 2.0, 2.0, 2.0, 2.0, 2.0, 2.0, 4.0, 2.0, 2.0, 2.0, 2.0, 2.0], \"sizemode\": \"area\", \"sizeref\": 0.125, \"symbol\": \"circle\"}, \"mode\": \"markers\", \"name\": \"THEFT\", \"orientation\": \"v\", \"showlegend\": true, \"x\": [-87.75, -87.74, -87.71000000000001, -87.71000000000001, -87.7, -87.69, -87.67, -87.65, -87.65, -87.65, -87.65, -87.64, -87.64, -87.64, -87.64, -87.63, -87.61, -87.58, -87.57000000000001], \"xaxis\": \"x\", \"y\": [41.87, 41.93, 41.78, 41.88, 41.83, 41.89, 41.74, 41.88, 41.89, 41.910000000000004, 41.92, 41.86, 41.87, 41.89, 41.910000000000004, 41.89, 41.81, 41.75, 41.75], \"yaxis\": \"y\", \"type\": \"scatter\"}, {\"hovertemplate\": \"Primary Type=BATTERY<br>t=14<br>Longitude=%{x}<br>Latitude=%{y}<br>size=%{marker.size}<extra></extra>\", \"legendgroup\": \"BATTERY\", \"marker\": {\"color\": \"#EF553B\", \"opacity\": 0.5, \"size\": [2.0, 2.0, 2.0, 2.0, 2.0, 2.0, 2.0, 2.0, 2.0, 2.0, 2.0, 2.0, 2.0, 2.0, 2.0, 2.0, 4.0, 2.0, 2.0, 2.0, 4.0, 2.0, 2.0, 2.0], \"sizemode\": \"area\", \"sizeref\": 0.125, \"symbol\": \"circle\"}, \"mode\": \"markers\", \"name\": \"BATTERY\", \"orientation\": \"v\", \"showlegend\": true, \"x\": [-87.78, -87.77, -87.75, -87.75, -87.75, -87.74, -87.74, -87.72, -87.71000000000001, -87.7, -87.7, -87.7, -87.69, -87.68, -87.66, -87.66, -87.65, -87.63, -87.63, -87.63, -87.62, -87.61, -87.59, -87.58], \"xaxis\": \"x\", \"y\": [41.910000000000004, 41.87, 41.87, 41.9, 41.910000000000004, 41.910000000000004, 41.93, 41.96, 41.94, 41.7, 41.78, 41.86, 41.76, 41.800000000000004, 41.71, 41.95, 41.89, 41.67, 41.730000000000004, 41.78, 41.83, 41.74, 41.76, 41.76], \"yaxis\": \"y\", \"type\": \"scatter\"}, {\"hovertemplate\": \"Primary Type=CRIMINAL DAMAGE<br>t=14<br>Longitude=%{x}<br>Latitude=%{y}<br>size=%{marker.size}<extra></extra>\", \"legendgroup\": \"CRIMINAL DAMAGE\", \"marker\": {\"color\": \"#00cc96\", \"opacity\": 0.5, \"size\": [2.0, 2.0, 2.0, 2.0, 2.0, 4.0, 2.0, 2.0, 2.0, 2.0, 2.0, 2.0], \"sizemode\": \"area\", \"sizeref\": 0.125, \"symbol\": \"circle\"}, \"mode\": \"markers\", \"name\": \"CRIMINAL DAMAGE\", \"orientation\": \"v\", \"showlegend\": true, \"x\": [-87.77, -87.75, -87.75, -87.67, -87.65, -87.64, -87.63, -87.63, -87.62, -87.61, -87.59, -87.57000000000001], \"xaxis\": \"x\", \"y\": [41.88, 41.93, 41.94, 41.81, 41.84, 41.88, 41.79, 41.88, 41.71, 41.75, 41.74, 41.76], \"yaxis\": \"y\", \"type\": \"scatter\"}, {\"hovertemplate\": \"Primary Type=ASSAULT<br>t=14<br>Longitude=%{x}<br>Latitude=%{y}<br>size=%{marker.size}<extra></extra>\", \"legendgroup\": \"ASSAULT\", \"marker\": {\"color\": \"#ab63fa\", \"opacity\": 0.5, \"size\": [2.0, 2.0, 2.0, 2.0, 2.0, 2.0, 2.0, 2.0, 2.0, 4.0, 2.0, 2.0, 2.0], \"sizemode\": \"area\", \"sizeref\": 0.125, \"symbol\": \"circle\"}, \"mode\": \"markers\", \"name\": \"ASSAULT\", \"orientation\": \"v\", \"showlegend\": true, \"x\": [-87.84, -87.69, -87.68, -87.67, -87.67, -87.66, -87.65, -87.63, -87.63, -87.62, -87.62, -87.61, -87.56], \"xaxis\": \"x\", \"y\": [41.94, 41.92, 41.800000000000004, 41.74, 41.9, 41.96, 41.96, 41.69, 41.88, 41.75, 41.79, 41.68, 41.75], \"yaxis\": \"y\", \"type\": \"scatter\"}, {\"hovertemplate\": \"Primary Type=OTHER OFFENSE<br>t=14<br>Longitude=%{x}<br>Latitude=%{y}<br>size=%{marker.size}<extra></extra>\", \"legendgroup\": \"OTHER OFFENSE\", \"marker\": {\"color\": \"#FFA15A\", \"opacity\": 0.5, \"size\": [2.0, 2.0, 2.0, 2.0, 2.0, 2.0, 2.0, 2.0, 2.0, 2.0], \"sizemode\": \"area\", \"sizeref\": 0.125, \"symbol\": \"circle\"}, \"mode\": \"markers\", \"name\": \"OTHER OFFENSE\", \"orientation\": \"v\", \"showlegend\": true, \"x\": [-87.73, -87.71000000000001, -87.68, -87.67, -87.64, -87.63, -87.62, -87.59, -87.58, -87.56], \"xaxis\": \"x\", \"y\": [41.84, 41.79, 42.01, 41.85, 41.77, 41.7, 41.88, 41.77, 41.77, 41.74], \"yaxis\": \"y\", \"type\": \"scatter\"}, {\"hovertemplate\": \"Primary Type=BURGLARY<br>t=14<br>Longitude=%{x}<br>Latitude=%{y}<br>size=%{marker.size}<extra></extra>\", \"legendgroup\": \"BURGLARY\", \"marker\": {\"color\": \"#19d3f3\", \"opacity\": 0.5, \"size\": [2.0, 2.0, 2.0], \"sizemode\": \"area\", \"sizeref\": 0.125, \"symbol\": \"circle\"}, \"mode\": \"markers\", \"name\": \"BURGLARY\", \"orientation\": \"v\", \"showlegend\": true, \"x\": [-87.71000000000001, -87.68, -87.61], \"xaxis\": \"x\", \"y\": [41.94, 41.89, 41.74], \"yaxis\": \"y\", \"type\": \"scatter\"}, {\"hovertemplate\": \"Primary Type=MOTOR VEHICLE THEFT<br>t=14<br>Longitude=%{x}<br>Latitude=%{y}<br>size=%{marker.size}<extra></extra>\", \"legendgroup\": \"MOTOR VEHICLE THEFT\", \"marker\": {\"color\": \"#FF6692\", \"opacity\": 0.5, \"size\": [2.0, 2.0, 4.0, 2.0], \"sizemode\": \"area\", \"sizeref\": 0.125, \"symbol\": \"circle\"}, \"mode\": \"markers\", \"name\": \"MOTOR VEHICLE THEFT\", \"orientation\": \"v\", \"showlegend\": true, \"x\": [-87.76, -87.72, -87.72, -87.65], \"xaxis\": \"x\", \"y\": [41.88, 41.74, 41.88, 41.730000000000004], \"yaxis\": \"y\", \"type\": \"scatter\"}, {\"hovertemplate\": \"Primary Type=NARCOTICS<br>t=14<br>Longitude=%{x}<br>Latitude=%{y}<br>size=%{marker.size}<extra></extra>\", \"legendgroup\": \"NARCOTICS\", \"marker\": {\"color\": \"#B6E880\", \"opacity\": 0.5, \"size\": [2.0, 2.0, 2.0, 2.0, 2.0, 4.0, 2.0, 2.0, 2.0, 2.0, 2.0, 2.0], \"sizemode\": \"area\", \"sizeref\": 0.125, \"symbol\": \"circle\"}, \"mode\": \"markers\", \"name\": \"NARCOTICS\", \"orientation\": \"v\", \"showlegend\": true, \"x\": [-87.75, -87.73, -87.73, -87.72, -87.71000000000001, -87.7, -87.69, -87.69, -87.66, -87.62, -87.61, -87.57000000000001], \"xaxis\": \"x\", \"y\": [41.9, 41.86, 41.87, 41.89, 41.85, 41.87, 41.78, 41.86, 41.96, 41.69, 41.7, 41.7], \"yaxis\": \"y\", \"type\": \"scatter\"}, {\"hovertemplate\": \"Primary Type=DECEPTIVE PRACTICE<br>t=14<br>Longitude=%{x}<br>Latitude=%{y}<br>size=%{marker.size}<extra></extra>\", \"legendgroup\": \"DECEPTIVE PRACTICE\", \"marker\": {\"color\": \"#FF97FF\", \"opacity\": 0.5, \"size\": [2.0, 2.0], \"sizemode\": \"area\", \"sizeref\": 0.125, \"symbol\": \"circle\"}, \"mode\": \"markers\", \"name\": \"DECEPTIVE PRACTICE\", \"orientation\": \"v\", \"showlegend\": true, \"x\": [-87.65, -87.63], \"xaxis\": \"x\", \"y\": [41.93, 41.89], \"yaxis\": \"y\", \"type\": \"scatter\"}], \"name\": \"14\"}, {\"data\": [{\"hovertemplate\": \"Primary Type=THEFT<br>t=15<br>Longitude=%{x}<br>Latitude=%{y}<br>size=%{marker.size}<extra></extra>\", \"legendgroup\": \"THEFT\", \"marker\": {\"color\": \"#636efa\", \"opacity\": 0.5, \"size\": [2.0, 2.0, 2.0, 2.0, 2.0, 2.0, 2.0, 2.0, 2.0, 2.0, 2.0, 2.0, 2.0, 2.0, 2.0, 2.0, 2.0], \"sizemode\": \"area\", \"sizeref\": 0.125, \"symbol\": \"circle\"}, \"mode\": \"markers\", \"name\": \"THEFT\", \"orientation\": \"v\", \"showlegend\": true, \"x\": [-87.78, -87.71000000000001, -87.7, -87.69, -87.68, -87.67, -87.67, -87.67, -87.65, -87.65, -87.65, -87.64, -87.64, -87.63, -87.63, -87.62, -87.59], \"xaxis\": \"x\", \"y\": [41.92, 41.95, 41.92, 41.87, 42.01, 41.72, 41.82, 42.01, 41.800000000000004, 41.910000000000004, 41.93, 41.88, 41.89, 41.87, 41.88, 41.89, 41.77], \"yaxis\": \"y\", \"type\": \"scatter\"}, {\"hovertemplate\": \"Primary Type=BATTERY<br>t=15<br>Longitude=%{x}<br>Latitude=%{y}<br>size=%{marker.size}<extra></extra>\", \"legendgroup\": \"BATTERY\", \"marker\": {\"color\": \"#EF553B\", \"opacity\": 0.5, \"size\": [2.0, 2.0, 2.0, 2.0, 2.0, 2.0, 2.0, 2.0, 2.0, 2.0, 2.0, 2.0, 2.0, 2.0, 2.0, 2.0, 2.0, 2.0, 2.0, 2.0, 2.0], \"sizemode\": \"area\", \"sizeref\": 0.125, \"symbol\": \"circle\"}, \"mode\": \"markers\", \"name\": \"BATTERY\", \"orientation\": \"v\", \"showlegend\": true, \"x\": [-87.85000000000001, -87.76, -87.74, -87.73, -87.72, -87.72, -87.67, -87.67, -87.66, -87.64, -87.64, -87.63, -87.62, -87.61, -87.61, -87.61, -87.59, -87.59, -87.58, -87.56, -87.55], \"xaxis\": \"x\", \"y\": [41.97, 41.89, 41.9, 41.86, 41.85, 41.89, 41.800000000000004, 41.87, 41.69, 41.87, 41.910000000000004, 41.72, 41.83, 41.65, 41.82, 41.89, 41.76, 41.77, 41.71, 41.74, 41.74], \"yaxis\": \"y\", \"type\": \"scatter\"}, {\"hovertemplate\": \"Primary Type=CRIMINAL DAMAGE<br>t=15<br>Longitude=%{x}<br>Latitude=%{y}<br>size=%{marker.size}<extra></extra>\", \"legendgroup\": \"CRIMINAL DAMAGE\", \"marker\": {\"color\": \"#00cc96\", \"opacity\": 0.5, \"size\": [2.0, 2.0, 2.0, 2.0, 2.0, 2.0, 2.0, 2.0, 2.0, 2.0, 2.0, 2.0, 2.0, 4.0, 2.0, 2.0, 2.0, 2.0], \"sizemode\": \"area\", \"sizeref\": 0.125, \"symbol\": \"circle\"}, \"mode\": \"markers\", \"name\": \"CRIMINAL DAMAGE\", \"orientation\": \"v\", \"showlegend\": true, \"x\": [-87.74, -87.73, -87.73, -87.72, -87.71000000000001, -87.7, -87.69, -87.69, -87.69, -87.69, -87.68, -87.67, -87.67, -87.66, -87.65, -87.65, -87.62, -87.58], \"xaxis\": \"x\", \"y\": [41.9, 41.730000000000004, 41.95, 41.9, 41.76, 41.93, 41.78, 41.84, 41.89, 41.96, 41.78, 41.79, 41.86, 41.97, 41.7, 41.9, 41.74, 41.78], \"yaxis\": \"y\", \"type\": \"scatter\"}, {\"hovertemplate\": \"Primary Type=ASSAULT<br>t=15<br>Longitude=%{x}<br>Latitude=%{y}<br>size=%{marker.size}<extra></extra>\", \"legendgroup\": \"ASSAULT\", \"marker\": {\"color\": \"#ab63fa\", \"opacity\": 0.5, \"size\": [2.0, 2.0, 2.0, 2.0, 2.0, 2.0, 2.0, 2.0, 2.0, 2.0], \"sizemode\": \"area\", \"sizeref\": 0.125, \"symbol\": \"circle\"}, \"mode\": \"markers\", \"name\": \"ASSAULT\", \"orientation\": \"v\", \"showlegend\": true, \"x\": [-87.77, -87.75, -87.66, -87.65, -87.65, -87.65, -87.64, -87.63, -87.63, -87.63], \"xaxis\": \"x\", \"y\": [42.0, 41.87, 41.980000000000004, 41.72, 41.75, 41.83, 41.76, 41.800000000000004, 41.88, 41.89], \"yaxis\": \"y\", \"type\": \"scatter\"}, {\"hovertemplate\": \"Primary Type=OTHER OFFENSE<br>t=15<br>Longitude=%{x}<br>Latitude=%{y}<br>size=%{marker.size}<extra></extra>\", \"legendgroup\": \"OTHER OFFENSE\", \"marker\": {\"color\": \"#FFA15A\", \"opacity\": 0.5, \"size\": [2.0, 2.0, 2.0, 2.0, 2.0, 2.0, 2.0, 2.0, 2.0], \"sizemode\": \"area\", \"sizeref\": 0.125, \"symbol\": \"circle\"}, \"mode\": \"markers\", \"name\": \"OTHER OFFENSE\", \"orientation\": \"v\", \"showlegend\": true, \"x\": [-87.73, -87.72, -87.72, -87.71000000000001, -87.68, -87.68, -87.66, -87.63, -87.57000000000001], \"xaxis\": \"x\", \"y\": [41.83, 41.910000000000004, 41.95, 41.82, 41.69, 41.74, 41.72, 41.69, 41.77], \"yaxis\": \"y\", \"type\": \"scatter\"}, {\"hovertemplate\": \"Primary Type=BURGLARY<br>t=15<br>Longitude=%{x}<br>Latitude=%{y}<br>size=%{marker.size}<extra></extra>\", \"legendgroup\": \"BURGLARY\", \"marker\": {\"color\": \"#19d3f3\", \"opacity\": 0.5, \"size\": [2.0, 2.0, 2.0, 2.0], \"sizemode\": \"area\", \"sizeref\": 0.125, \"symbol\": \"circle\"}, \"mode\": \"markers\", \"name\": \"BURGLARY\", \"orientation\": \"v\", \"showlegend\": true, \"x\": [-87.71000000000001, -87.7, -87.7, -87.68], \"xaxis\": \"x\", \"y\": [41.88, 41.81, 41.89, 42.0], \"yaxis\": \"y\", \"type\": \"scatter\"}, {\"hovertemplate\": \"Primary Type=MOTOR VEHICLE THEFT<br>t=15<br>Longitude=%{x}<br>Latitude=%{y}<br>size=%{marker.size}<extra></extra>\", \"legendgroup\": \"MOTOR VEHICLE THEFT\", \"marker\": {\"color\": \"#FF6692\", \"opacity\": 0.5, \"size\": [2.0, 2.0, 2.0], \"sizemode\": \"area\", \"sizeref\": 0.125, \"symbol\": \"circle\"}, \"mode\": \"markers\", \"name\": \"MOTOR VEHICLE THEFT\", \"orientation\": \"v\", \"showlegend\": true, \"x\": [-87.78, -87.7, -87.66], \"xaxis\": \"x\", \"y\": [41.97, 41.87, 41.78], \"yaxis\": \"y\", \"type\": \"scatter\"}, {\"hovertemplate\": \"Primary Type=NARCOTICS<br>t=15<br>Longitude=%{x}<br>Latitude=%{y}<br>size=%{marker.size}<extra></extra>\", \"legendgroup\": \"NARCOTICS\", \"marker\": {\"color\": \"#B6E880\", \"opacity\": 0.5, \"size\": [2.0, 2.0, 2.0, 2.0, 2.0, 2.0, 2.0, 2.0, 2.0, 2.0], \"sizemode\": \"area\", \"sizeref\": 0.125, \"symbol\": \"circle\"}, \"mode\": \"markers\", \"name\": \"NARCOTICS\", \"orientation\": \"v\", \"showlegend\": true, \"x\": [-87.75, -87.75, -87.74, -87.74, -87.71000000000001, -87.7, -87.67, -87.62, -87.61, -87.58], \"xaxis\": \"x\", \"y\": [41.88, 41.94, 41.85, 41.87, 41.94, 42.0, 41.75, 41.77, 41.730000000000004, 41.75], \"yaxis\": \"y\", \"type\": \"scatter\"}, {\"hovertemplate\": \"Primary Type=DECEPTIVE PRACTICE<br>t=15<br>Longitude=%{x}<br>Latitude=%{y}<br>size=%{marker.size}<extra></extra>\", \"legendgroup\": \"DECEPTIVE PRACTICE\", \"marker\": {\"color\": \"#FF97FF\", \"opacity\": 0.5, \"size\": [2.0, 2.0, 4.0, 2.0], \"sizemode\": \"area\", \"sizeref\": 0.125, \"symbol\": \"circle\"}, \"mode\": \"markers\", \"name\": \"DECEPTIVE PRACTICE\", \"orientation\": \"v\", \"showlegend\": true, \"x\": [-87.85000000000001, -87.72, -87.64, -87.62], \"xaxis\": \"x\", \"y\": [41.97, 41.93, 41.89, 41.89], \"yaxis\": \"y\", \"type\": \"scatter\"}], \"name\": \"15\"}, {\"data\": [{\"hovertemplate\": \"Primary Type=THEFT<br>t=16<br>Longitude=%{x}<br>Latitude=%{y}<br>size=%{marker.size}<extra></extra>\", \"legendgroup\": \"THEFT\", \"marker\": {\"color\": \"#636efa\", \"opacity\": 0.5, \"size\": [2.0, 2.0, 2.0, 2.0, 2.0, 2.0, 2.0, 2.0, 2.0, 2.0], \"sizemode\": \"area\", \"sizeref\": 0.125, \"symbol\": \"circle\"}, \"mode\": \"markers\", \"name\": \"THEFT\", \"orientation\": \"v\", \"showlegend\": true, \"x\": [-87.74, -87.73, -87.69, -87.69, -87.65, -87.64, -87.64, -87.64, -87.63, -87.63], \"xaxis\": \"x\", \"y\": [41.87, 41.97, 41.7, 41.77, 41.83, 41.86, 41.87, 41.89, 41.88, 41.89], \"yaxis\": \"y\", \"type\": \"scatter\"}, {\"hovertemplate\": \"Primary Type=BATTERY<br>t=16<br>Longitude=%{x}<br>Latitude=%{y}<br>size=%{marker.size}<extra></extra>\", \"legendgroup\": \"BATTERY\", \"marker\": {\"color\": \"#EF553B\", \"opacity\": 0.5, \"size\": [2.0, 2.0, 2.0, 2.0, 2.0, 2.0, 2.0, 2.0, 2.0, 2.0, 2.0, 2.0, 2.0, 2.0, 2.0, 2.0, 2.0, 2.0, 4.0, 4.0, 2.0, 2.0, 2.0, 2.0, 2.0, 2.0], \"sizemode\": \"area\", \"sizeref\": 0.125, \"symbol\": \"circle\"}, \"mode\": \"markers\", \"name\": \"BATTERY\", \"orientation\": \"v\", \"showlegend\": true, \"x\": [-87.77, -87.75, -87.74, -87.73, -87.73, -87.71000000000001, -87.71000000000001, -87.7, -87.7, -87.69, -87.69, -87.68, -87.67, -87.66, -87.66, -87.66, -87.66, -87.65, -87.65, -87.64, -87.63, -87.63, -87.62, -87.59, -87.57000000000001, -87.56], \"xaxis\": \"x\", \"y\": [41.9, 41.88, 41.9, 41.87, 41.93, 41.82, 41.910000000000004, 41.84, 41.99, 41.77, 41.78, 41.9, 41.69, 41.74, 41.800000000000004, 41.86, 41.99, 41.67, 41.94, 41.72, 41.67, 41.69, 41.65, 41.77, 41.72, 41.75], \"yaxis\": \"y\", \"type\": \"scatter\"}, {\"hovertemplate\": \"Primary Type=CRIMINAL DAMAGE<br>t=16<br>Longitude=%{x}<br>Latitude=%{y}<br>size=%{marker.size}<extra></extra>\", \"legendgroup\": \"CRIMINAL DAMAGE\", \"marker\": {\"color\": \"#00cc96\", \"opacity\": 0.5, \"size\": [2.0, 2.0, 2.0, 2.0, 2.0, 2.0, 2.0, 2.0, 2.0], \"sizemode\": \"area\", \"sizeref\": 0.125, \"symbol\": \"circle\"}, \"mode\": \"markers\", \"name\": \"CRIMINAL DAMAGE\", \"orientation\": \"v\", \"showlegend\": true, \"x\": [-87.71000000000001, -87.66, -87.65, -87.65, -87.63, -87.63, -87.62, -87.57000000000001, -87.56], \"xaxis\": \"x\", \"y\": [41.88, 41.94, 41.87, 41.9, 41.71, 41.9, 41.68, 41.75, 41.74], \"yaxis\": \"y\", \"type\": \"scatter\"}, {\"hovertemplate\": \"Primary Type=ASSAULT<br>t=16<br>Longitude=%{x}<br>Latitude=%{y}<br>size=%{marker.size}<extra></extra>\", \"legendgroup\": \"ASSAULT\", \"marker\": {\"color\": \"#ab63fa\", \"opacity\": 0.5, \"size\": [2.0, 2.0, 2.0, 2.0, 2.0, 2.0, 2.0, 2.0], \"sizemode\": \"area\", \"sizeref\": 0.125, \"symbol\": \"circle\"}, \"mode\": \"markers\", \"name\": \"ASSAULT\", \"orientation\": \"v\", \"showlegend\": true, \"x\": [-87.72, -87.67, -87.67, -87.66, -87.65, -87.63, -87.61, -87.61], \"xaxis\": \"x\", \"y\": [41.9, 41.78, 41.79, 41.83, 41.94, 41.78, 41.69, 41.75], \"yaxis\": \"y\", \"type\": \"scatter\"}, {\"hovertemplate\": \"Primary Type=OTHER OFFENSE<br>t=16<br>Longitude=%{x}<br>Latitude=%{y}<br>size=%{marker.size}<extra></extra>\", \"legendgroup\": \"OTHER OFFENSE\", \"marker\": {\"color\": \"#FFA15A\", \"opacity\": 0.5, \"size\": [2.0, 2.0, 2.0, 2.0, 2.0, 2.0, 2.0, 2.0, 2.0, 2.0], \"sizemode\": \"area\", \"sizeref\": 0.125, \"symbol\": \"circle\"}, \"mode\": \"markers\", \"name\": \"OTHER OFFENSE\", \"orientation\": \"v\", \"showlegend\": true, \"x\": [-87.75, -87.72, -87.71000000000001, -87.68, -87.68, -87.67, -87.63, -87.62, -87.61, -87.59], \"xaxis\": \"x\", \"y\": [41.92, 41.9, 41.99, 41.75, 41.89, 41.75, 41.68, 41.7, 41.800000000000004, 41.76], \"yaxis\": \"y\", \"type\": \"scatter\"}, {\"hovertemplate\": \"Primary Type=BURGLARY<br>t=16<br>Longitude=%{x}<br>Latitude=%{y}<br>size=%{marker.size}<extra></extra>\", \"legendgroup\": \"BURGLARY\", \"marker\": {\"color\": \"#19d3f3\", \"opacity\": 0.5, \"size\": [2.0, 2.0, 2.0, 2.0, 2.0, 2.0], \"sizemode\": \"area\", \"sizeref\": 0.125, \"symbol\": \"circle\"}, \"mode\": \"markers\", \"name\": \"BURGLARY\", \"orientation\": \"v\", \"showlegend\": true, \"x\": [-87.75, -87.69, -87.69, -87.68, -87.63, -87.56], \"xaxis\": \"x\", \"y\": [41.92, 41.89, 41.95, 41.83, 41.89, 41.74], \"yaxis\": \"y\", \"type\": \"scatter\"}, {\"hovertemplate\": \"Primary Type=MOTOR VEHICLE THEFT<br>t=16<br>Longitude=%{x}<br>Latitude=%{y}<br>size=%{marker.size}<extra></extra>\", \"legendgroup\": \"MOTOR VEHICLE THEFT\", \"marker\": {\"color\": \"#FF6692\", \"opacity\": 0.5, \"size\": [2.0, 2.0, 2.0], \"sizemode\": \"area\", \"sizeref\": 0.125, \"symbol\": \"circle\"}, \"mode\": \"markers\", \"name\": \"MOTOR VEHICLE THEFT\", \"orientation\": \"v\", \"showlegend\": true, \"x\": [-87.72, -87.58, -87.56], \"xaxis\": \"x\", \"y\": [41.86, 41.76, 41.730000000000004], \"yaxis\": \"y\", \"type\": \"scatter\"}, {\"hovertemplate\": \"Primary Type=NARCOTICS<br>t=16<br>Longitude=%{x}<br>Latitude=%{y}<br>size=%{marker.size}<extra></extra>\", \"legendgroup\": \"NARCOTICS\", \"marker\": {\"color\": \"#B6E880\", \"opacity\": 0.5, \"size\": [2.0, 2.0, 2.0], \"sizemode\": \"area\", \"sizeref\": 0.125, \"symbol\": \"circle\"}, \"mode\": \"markers\", \"name\": \"NARCOTICS\", \"orientation\": \"v\", \"showlegend\": true, \"x\": [-87.73, -87.73, -87.69], \"xaxis\": \"x\", \"y\": [41.87, 41.88, 41.77], \"yaxis\": \"y\", \"type\": \"scatter\"}, {\"hovertemplate\": \"Primary Type=DECEPTIVE PRACTICE<br>t=16<br>Longitude=%{x}<br>Latitude=%{y}<br>size=%{marker.size}<extra></extra>\", \"legendgroup\": \"DECEPTIVE PRACTICE\", \"marker\": {\"color\": \"#FF97FF\", \"opacity\": 0.5, \"size\": [2.0], \"sizemode\": \"area\", \"sizeref\": 0.125, \"symbol\": \"circle\"}, \"mode\": \"markers\", \"name\": \"DECEPTIVE PRACTICE\", \"orientation\": \"v\", \"showlegend\": true, \"x\": [-87.82000000000001], \"xaxis\": \"x\", \"y\": [41.94], \"yaxis\": \"y\", \"type\": \"scatter\"}], \"name\": \"16\"}, {\"data\": [{\"hovertemplate\": \"Primary Type=THEFT<br>t=17<br>Longitude=%{x}<br>Latitude=%{y}<br>size=%{marker.size}<extra></extra>\", \"legendgroup\": \"THEFT\", \"marker\": {\"color\": \"#636efa\", \"opacity\": 0.5, \"size\": [2.0, 2.0, 2.0, 2.0, 2.0, 2.0, 2.0, 2.0], \"sizemode\": \"area\", \"sizeref\": 0.125, \"symbol\": \"circle\"}, \"mode\": \"markers\", \"name\": \"THEFT\", \"orientation\": \"v\", \"showlegend\": true, \"x\": [-87.78, -87.78, -87.77, -87.75, -87.73, -87.65, -87.63, -87.63], \"xaxis\": \"x\", \"y\": [41.87, 41.95, 41.9, 41.87, 41.84, 41.93, 41.81, 41.82], \"yaxis\": \"y\", \"type\": \"scatter\"}, {\"hovertemplate\": \"Primary Type=BATTERY<br>t=17<br>Longitude=%{x}<br>Latitude=%{y}<br>size=%{marker.size}<extra></extra>\", \"legendgroup\": \"BATTERY\", \"marker\": {\"color\": \"#EF553B\", \"opacity\": 0.5, \"size\": [2.0, 2.0, 2.0, 2.0, 2.0, 2.0, 2.0, 2.0, 2.0, 2.0, 2.0, 2.0, 2.0, 2.0, 2.0], \"sizemode\": \"area\", \"sizeref\": 0.125, \"symbol\": \"circle\"}, \"mode\": \"markers\", \"name\": \"BATTERY\", \"orientation\": \"v\", \"showlegend\": true, \"x\": [-87.78, -87.77, -87.75, -87.74, -87.73, -87.72, -87.72, -87.72, -87.67, -87.66, -87.66, -87.63, -87.62, -87.62, -87.59], \"xaxis\": \"x\", \"y\": [41.93, 41.79, 41.87, 41.79, 41.89, 41.87, 41.88, 41.910000000000004, 41.81, 41.730000000000004, 41.76, 41.71, 41.77, 41.78, 41.77], \"yaxis\": \"y\", \"type\": \"scatter\"}, {\"hovertemplate\": \"Primary Type=CRIMINAL DAMAGE<br>t=17<br>Longitude=%{x}<br>Latitude=%{y}<br>size=%{marker.size}<extra></extra>\", \"legendgroup\": \"CRIMINAL DAMAGE\", \"marker\": {\"color\": \"#00cc96\", \"opacity\": 0.5, \"size\": [2.0, 2.0, 2.0, 2.0, 2.0, 2.0, 2.0], \"sizemode\": \"area\", \"sizeref\": 0.125, \"symbol\": \"circle\"}, \"mode\": \"markers\", \"name\": \"CRIMINAL DAMAGE\", \"orientation\": \"v\", \"showlegend\": true, \"x\": [-87.76, -87.69, -87.69, -87.67, -87.66, -87.66, -87.65], \"xaxis\": \"x\", \"y\": [41.92, 41.78, 41.88, 41.93, 41.78, 41.89, 41.83], \"yaxis\": \"y\", \"type\": \"scatter\"}, {\"hovertemplate\": \"Primary Type=ASSAULT<br>t=17<br>Longitude=%{x}<br>Latitude=%{y}<br>size=%{marker.size}<extra></extra>\", \"legendgroup\": \"ASSAULT\", \"marker\": {\"color\": \"#ab63fa\", \"opacity\": 0.5, \"size\": [2.0, 2.0, 2.0, 2.0, 2.0], \"sizemode\": \"area\", \"sizeref\": 0.125, \"symbol\": \"circle\"}, \"mode\": \"markers\", \"name\": \"ASSAULT\", \"orientation\": \"v\", \"showlegend\": true, \"x\": [-87.81, -87.62, -87.59, -87.58, -87.58], \"xaxis\": \"x\", \"y\": [41.980000000000004, 41.77, 41.76, 41.75, 41.76], \"yaxis\": \"y\", \"type\": \"scatter\"}, {\"hovertemplate\": \"Primary Type=OTHER OFFENSE<br>t=17<br>Longitude=%{x}<br>Latitude=%{y}<br>size=%{marker.size}<extra></extra>\", \"legendgroup\": \"OTHER OFFENSE\", \"marker\": {\"color\": \"#FFA15A\", \"opacity\": 0.5, \"size\": [2.0, 2.0, 2.0], \"sizemode\": \"area\", \"sizeref\": 0.125, \"symbol\": \"circle\"}, \"mode\": \"markers\", \"name\": \"OTHER OFFENSE\", \"orientation\": \"v\", \"showlegend\": true, \"x\": [-87.76, -87.73, -87.73], \"xaxis\": \"x\", \"y\": [41.9, 41.79, 41.83], \"yaxis\": \"y\", \"type\": \"scatter\"}, {\"hovertemplate\": \"Primary Type=BURGLARY<br>t=17<br>Longitude=%{x}<br>Latitude=%{y}<br>size=%{marker.size}<extra></extra>\", \"legendgroup\": \"BURGLARY\", \"marker\": {\"color\": \"#19d3f3\", \"opacity\": 0.5, \"size\": [2.0, 2.0, 2.0, 2.0], \"sizemode\": \"area\", \"sizeref\": 0.125, \"symbol\": \"circle\"}, \"mode\": \"markers\", \"name\": \"BURGLARY\", \"orientation\": \"v\", \"showlegend\": true, \"x\": [-87.72, -87.71000000000001, -87.69, -87.68], \"xaxis\": \"x\", \"y\": [41.85, 41.79, 41.92, 41.92], \"yaxis\": \"y\", \"type\": \"scatter\"}, {\"hovertemplate\": \"Primary Type=NARCOTICS<br>t=17<br>Longitude=%{x}<br>Latitude=%{y}<br>size=%{marker.size}<extra></extra>\", \"legendgroup\": \"NARCOTICS\", \"marker\": {\"color\": \"#B6E880\", \"opacity\": 0.5, \"size\": [2.0], \"sizemode\": \"area\", \"sizeref\": 0.125, \"symbol\": \"circle\"}, \"mode\": \"markers\", \"name\": \"NARCOTICS\", \"orientation\": \"v\", \"showlegend\": true, \"x\": [-87.67], \"xaxis\": \"x\", \"y\": [41.74], \"yaxis\": \"y\", \"type\": \"scatter\"}, {\"hovertemplate\": \"Primary Type=DECEPTIVE PRACTICE<br>t=17<br>Longitude=%{x}<br>Latitude=%{y}<br>size=%{marker.size}<extra></extra>\", \"legendgroup\": \"DECEPTIVE PRACTICE\", \"marker\": {\"color\": \"#FF97FF\", \"opacity\": 0.5, \"size\": [2.0], \"sizemode\": \"area\", \"sizeref\": 0.125, \"symbol\": \"circle\"}, \"mode\": \"markers\", \"name\": \"DECEPTIVE PRACTICE\", \"orientation\": \"v\", \"showlegend\": true, \"x\": [-87.68], \"xaxis\": \"x\", \"y\": [41.94], \"yaxis\": \"y\", \"type\": \"scatter\"}], \"name\": \"17\"}, {\"data\": [{\"hovertemplate\": \"Primary Type=THEFT<br>t=18<br>Longitude=%{x}<br>Latitude=%{y}<br>size=%{marker.size}<extra></extra>\", \"legendgroup\": \"THEFT\", \"marker\": {\"color\": \"#636efa\", \"opacity\": 0.5, \"size\": [2.0, 2.0, 2.0, 2.0, 2.0, 2.0, 2.0, 2.0, 2.0, 2.0, 2.0], \"sizemode\": \"area\", \"sizeref\": 0.125, \"symbol\": \"circle\"}, \"mode\": \"markers\", \"name\": \"THEFT\", \"orientation\": \"v\", \"showlegend\": true, \"x\": [-87.77, -87.72, -87.71000000000001, -87.67, -87.65, -87.65, -87.64, -87.63, -87.63, -87.63, -87.59], \"xaxis\": \"x\", \"y\": [41.9, 41.88, 41.99, 41.76, 41.9, 41.95, 41.96, 41.75, 41.87, 41.89, 41.77], \"yaxis\": \"y\", \"type\": \"scatter\"}, {\"hovertemplate\": \"Primary Type=BATTERY<br>t=18<br>Longitude=%{x}<br>Latitude=%{y}<br>size=%{marker.size}<extra></extra>\", \"legendgroup\": \"BATTERY\", \"marker\": {\"color\": \"#EF553B\", \"opacity\": 0.5, \"size\": [2.0, 2.0, 2.0, 2.0, 2.0, 2.0, 2.0, 2.0, 2.0], \"sizemode\": \"area\", \"sizeref\": 0.125, \"symbol\": \"circle\"}, \"mode\": \"markers\", \"name\": \"BATTERY\", \"orientation\": \"v\", \"showlegend\": true, \"x\": [-87.68, -87.68, -87.67, -87.67, -87.64, -87.62, -87.60000000000001, -87.57000000000001, -87.57000000000001], \"xaxis\": \"x\", \"y\": [41.88, 41.92, 41.89, 41.9, 41.93, 41.800000000000004, 41.74, 41.75, 41.76], \"yaxis\": \"y\", \"type\": \"scatter\"}, {\"hovertemplate\": \"Primary Type=CRIMINAL DAMAGE<br>t=18<br>Longitude=%{x}<br>Latitude=%{y}<br>size=%{marker.size}<extra></extra>\", \"legendgroup\": \"CRIMINAL DAMAGE\", \"marker\": {\"color\": \"#00cc96\", \"opacity\": 0.5, \"size\": [2.0, 2.0, 2.0, 2.0], \"sizemode\": \"area\", \"sizeref\": 0.125, \"symbol\": \"circle\"}, \"mode\": \"markers\", \"name\": \"CRIMINAL DAMAGE\", \"orientation\": \"v\", \"showlegend\": true, \"x\": [-87.78, -87.74, -87.64, -87.59], \"xaxis\": \"x\", \"y\": [41.910000000000004, 41.93, 41.72, 41.75], \"yaxis\": \"y\", \"type\": \"scatter\"}, {\"hovertemplate\": \"Primary Type=ASSAULT<br>t=18<br>Longitude=%{x}<br>Latitude=%{y}<br>size=%{marker.size}<extra></extra>\", \"legendgroup\": \"ASSAULT\", \"marker\": {\"color\": \"#ab63fa\", \"opacity\": 0.5, \"size\": [2.0, 2.0, 2.0, 2.0, 2.0, 2.0, 2.0, 2.0], \"sizemode\": \"area\", \"sizeref\": 0.125, \"symbol\": \"circle\"}, \"mode\": \"markers\", \"name\": \"ASSAULT\", \"orientation\": \"v\", \"showlegend\": true, \"x\": [-87.75, -87.72, -87.71000000000001, -87.69, -87.68, -87.67, -87.63, -87.61], \"xaxis\": \"x\", \"y\": [41.89, 41.9, 41.910000000000004, 41.76, 41.910000000000004, 41.68, 41.75, 41.75], \"yaxis\": \"y\", \"type\": \"scatter\"}, {\"hovertemplate\": \"Primary Type=OTHER OFFENSE<br>t=18<br>Longitude=%{x}<br>Latitude=%{y}<br>size=%{marker.size}<extra></extra>\", \"legendgroup\": \"OTHER OFFENSE\", \"marker\": {\"color\": \"#FFA15A\", \"opacity\": 0.5, \"size\": [2.0, 2.0, 2.0, 2.0, 2.0, 2.0], \"sizemode\": \"area\", \"sizeref\": 0.125, \"symbol\": \"circle\"}, \"mode\": \"markers\", \"name\": \"OTHER OFFENSE\", \"orientation\": \"v\", \"showlegend\": true, \"x\": [-87.7, -87.69, -87.68, -87.66, -87.65, -87.65], \"xaxis\": \"x\", \"y\": [41.99, 41.76, 41.86, 41.77, 41.76, 41.800000000000004], \"yaxis\": \"y\", \"type\": \"scatter\"}, {\"hovertemplate\": \"Primary Type=BURGLARY<br>t=18<br>Longitude=%{x}<br>Latitude=%{y}<br>size=%{marker.size}<extra></extra>\", \"legendgroup\": \"BURGLARY\", \"marker\": {\"color\": \"#19d3f3\", \"opacity\": 0.5, \"size\": [2.0, 2.0], \"sizemode\": \"area\", \"sizeref\": 0.125, \"symbol\": \"circle\"}, \"mode\": \"markers\", \"name\": \"BURGLARY\", \"orientation\": \"v\", \"showlegend\": true, \"x\": [-87.64, -87.63], \"xaxis\": \"x\", \"y\": [41.72, 41.76], \"yaxis\": \"y\", \"type\": \"scatter\"}, {\"hovertemplate\": \"Primary Type=MOTOR VEHICLE THEFT<br>t=18<br>Longitude=%{x}<br>Latitude=%{y}<br>size=%{marker.size}<extra></extra>\", \"legendgroup\": \"MOTOR VEHICLE THEFT\", \"marker\": {\"color\": \"#FF6692\", \"opacity\": 0.5, \"size\": [2.0, 2.0], \"sizemode\": \"area\", \"sizeref\": 0.125, \"symbol\": \"circle\"}, \"mode\": \"markers\", \"name\": \"MOTOR VEHICLE THEFT\", \"orientation\": \"v\", \"showlegend\": true, \"x\": [-87.77, -87.60000000000001], \"xaxis\": \"x\", \"y\": [41.79, 41.74], \"yaxis\": \"y\", \"type\": \"scatter\"}, {\"hovertemplate\": \"Primary Type=NARCOTICS<br>t=18<br>Longitude=%{x}<br>Latitude=%{y}<br>size=%{marker.size}<extra></extra>\", \"legendgroup\": \"NARCOTICS\", \"marker\": {\"color\": \"#B6E880\", \"opacity\": 0.5, \"size\": [2.0, 2.0, 2.0], \"sizemode\": \"area\", \"sizeref\": 0.125, \"symbol\": \"circle\"}, \"mode\": \"markers\", \"name\": \"NARCOTICS\", \"orientation\": \"v\", \"showlegend\": true, \"x\": [-87.77, -87.7, -87.65], \"xaxis\": \"x\", \"y\": [41.89, 41.9, 41.75], \"yaxis\": \"y\", \"type\": \"scatter\"}, {\"hovertemplate\": \"Primary Type=DECEPTIVE PRACTICE<br>t=18<br>Longitude=%{x}<br>Latitude=%{y}<br>size=%{marker.size}<extra></extra>\", \"legendgroup\": \"DECEPTIVE PRACTICE\", \"marker\": {\"color\": \"#FF97FF\", \"opacity\": 0.5, \"size\": [2.0, 2.0, 2.0], \"sizemode\": \"area\", \"sizeref\": 0.125, \"symbol\": \"circle\"}, \"mode\": \"markers\", \"name\": \"DECEPTIVE PRACTICE\", \"orientation\": \"v\", \"showlegend\": true, \"x\": [-87.72, -87.72, -87.63], \"xaxis\": \"x\", \"y\": [41.92, 41.93, 41.71], \"yaxis\": \"y\", \"type\": \"scatter\"}], \"name\": \"18\"}, {\"data\": [{\"hovertemplate\": \"Primary Type=THEFT<br>t=19<br>Longitude=%{x}<br>Latitude=%{y}<br>size=%{marker.size}<extra></extra>\", \"legendgroup\": \"THEFT\", \"marker\": {\"color\": \"#636efa\", \"opacity\": 0.5, \"size\": [4.0, 2.0, 2.0, 2.0, 2.0, 2.0, 2.0, 2.0, 2.0, 2.0, 2.0, 2.0, 2.0, 2.0, 2.0, 2.0, 2.0, 4.0, 2.0, 2.0, 2.0, 2.0, 2.0], \"sizemode\": \"area\", \"sizeref\": 0.125, \"symbol\": \"circle\"}, \"mode\": \"markers\", \"name\": \"THEFT\", \"orientation\": \"v\", \"showlegend\": true, \"x\": [-87.91, -87.73, -87.73, -87.71000000000001, -87.71000000000001, -87.7, -87.7, -87.7, -87.69, -87.69, -87.69, -87.67, -87.67, -87.66, -87.65, -87.65, -87.65, -87.64, -87.62, -87.61, -87.61, -87.59, -87.59], \"xaxis\": \"x\", \"y\": [41.97, 41.87, 41.9, 41.81, 41.99, 41.9, 41.97, 42.0, 41.67, 41.800000000000004, 41.99, 41.800000000000004, 41.94, 41.88, 41.75, 41.77, 41.9, 41.86, 41.74, 41.75, 41.81, 41.76, 41.800000000000004], \"yaxis\": \"y\", \"type\": \"scatter\"}, {\"hovertemplate\": \"Primary Type=BATTERY<br>t=19<br>Longitude=%{x}<br>Latitude=%{y}<br>size=%{marker.size}<extra></extra>\", \"legendgroup\": \"BATTERY\", \"marker\": {\"color\": \"#EF553B\", \"opacity\": 0.5, \"size\": [2.0, 2.0, 2.0, 4.0, 2.0, 2.0, 2.0, 2.0, 2.0, 2.0, 2.0, 2.0, 2.0, 2.0, 4.0, 2.0, 2.0], \"sizemode\": \"area\", \"sizeref\": 0.125, \"symbol\": \"circle\"}, \"mode\": \"markers\", \"name\": \"BATTERY\", \"orientation\": \"v\", \"showlegend\": true, \"x\": [-87.76, -87.76, -87.75, -87.73, -87.73, -87.72, -87.71000000000001, -87.71000000000001, -87.7, -87.68, -87.67, -87.67, -87.65, -87.63, -87.59, -87.58, -87.57000000000001], \"xaxis\": \"x\", \"y\": [41.9, 41.92, 41.92, 41.88, 41.9, 41.86, 41.800000000000004, 41.96, 41.86, 41.99, 41.85, 42.0, 41.730000000000004, 41.88, 41.76, 41.74, 41.77], \"yaxis\": \"y\", \"type\": \"scatter\"}, {\"hovertemplate\": \"Primary Type=CRIMINAL DAMAGE<br>t=19<br>Longitude=%{x}<br>Latitude=%{y}<br>size=%{marker.size}<extra></extra>\", \"legendgroup\": \"CRIMINAL DAMAGE\", \"marker\": {\"color\": \"#00cc96\", \"opacity\": 0.5, \"size\": [2.0, 4.0, 2.0, 2.0, 2.0, 2.0], \"sizemode\": \"area\", \"sizeref\": 0.125, \"symbol\": \"circle\"}, \"mode\": \"markers\", \"name\": \"CRIMINAL DAMAGE\", \"orientation\": \"v\", \"showlegend\": true, \"x\": [-87.74, -87.7, -87.69, -87.67, -87.67, -87.67], \"xaxis\": \"x\", \"y\": [41.74, 42.0, 41.85, 41.79, 41.93, 41.980000000000004], \"yaxis\": \"y\", \"type\": \"scatter\"}, {\"hovertemplate\": \"Primary Type=ASSAULT<br>t=19<br>Longitude=%{x}<br>Latitude=%{y}<br>size=%{marker.size}<extra></extra>\", \"legendgroup\": \"ASSAULT\", \"marker\": {\"color\": \"#ab63fa\", \"opacity\": 0.5, \"size\": [2.0, 2.0, 2.0, 2.0, 2.0, 2.0, 2.0, 2.0, 2.0], \"sizemode\": \"area\", \"sizeref\": 0.125, \"symbol\": \"circle\"}, \"mode\": \"markers\", \"name\": \"ASSAULT\", \"orientation\": \"v\", \"showlegend\": true, \"x\": [-87.72, -87.7, -87.69, -87.68, -87.66, -87.66, -87.64, -87.61, -87.54], \"xaxis\": \"x\", \"y\": [41.87, 41.92, 41.82, 41.85, 41.71, 41.87, 41.89, 41.65, 41.71], \"yaxis\": \"y\", \"type\": \"scatter\"}, {\"hovertemplate\": \"Primary Type=OTHER OFFENSE<br>t=19<br>Longitude=%{x}<br>Latitude=%{y}<br>size=%{marker.size}<extra></extra>\", \"legendgroup\": \"OTHER OFFENSE\", \"marker\": {\"color\": \"#FFA15A\", \"opacity\": 0.5, \"size\": [2.0, 2.0, 2.0, 2.0, 2.0, 2.0, 2.0, 2.0, 2.0, 2.0, 2.0], \"sizemode\": \"area\", \"sizeref\": 0.125, \"symbol\": \"circle\"}, \"mode\": \"markers\", \"name\": \"OTHER OFFENSE\", \"orientation\": \"v\", \"showlegend\": true, \"x\": [-87.84, -87.7, -87.68, -87.67, -87.66, -87.65, -87.65, -87.64, -87.64, -87.62, -87.62], \"xaxis\": \"x\", \"y\": [41.94, 42.01, 41.77, 41.730000000000004, 41.76, 41.68, 41.71, 41.72, 41.87, 41.75, 41.82], \"yaxis\": \"y\", \"type\": \"scatter\"}, {\"hovertemplate\": \"Primary Type=BURGLARY<br>t=19<br>Longitude=%{x}<br>Latitude=%{y}<br>size=%{marker.size}<extra></extra>\", \"legendgroup\": \"BURGLARY\", \"marker\": {\"color\": \"#19d3f3\", \"opacity\": 0.5, \"size\": [2.0, 2.0, 2.0, 2.0], \"sizemode\": \"area\", \"sizeref\": 0.125, \"symbol\": \"circle\"}, \"mode\": \"markers\", \"name\": \"BURGLARY\", \"orientation\": \"v\", \"showlegend\": true, \"x\": [-87.7, -87.69, -87.68, -87.67], \"xaxis\": \"x\", \"y\": [41.99, 41.77, 41.79, 41.82], \"yaxis\": \"y\", \"type\": \"scatter\"}, {\"hovertemplate\": \"Primary Type=MOTOR VEHICLE THEFT<br>t=19<br>Longitude=%{x}<br>Latitude=%{y}<br>size=%{marker.size}<extra></extra>\", \"legendgroup\": \"MOTOR VEHICLE THEFT\", \"marker\": {\"color\": \"#FF6692\", \"opacity\": 0.5, \"size\": [2.0, 2.0, 2.0], \"sizemode\": \"area\", \"sizeref\": 0.125, \"symbol\": \"circle\"}, \"mode\": \"markers\", \"name\": \"MOTOR VEHICLE THEFT\", \"orientation\": \"v\", \"showlegend\": true, \"x\": [-87.75, -87.69, -87.58], \"xaxis\": \"x\", \"y\": [41.910000000000004, 41.96, 41.77], \"yaxis\": \"y\", \"type\": \"scatter\"}, {\"hovertemplate\": \"Primary Type=NARCOTICS<br>t=19<br>Longitude=%{x}<br>Latitude=%{y}<br>size=%{marker.size}<extra></extra>\", \"legendgroup\": \"NARCOTICS\", \"marker\": {\"color\": \"#B6E880\", \"opacity\": 0.5, \"size\": [2.0, 2.0, 2.0, 2.0], \"sizemode\": \"area\", \"sizeref\": 0.125, \"symbol\": \"circle\"}, \"mode\": \"markers\", \"name\": \"NARCOTICS\", \"orientation\": \"v\", \"showlegend\": true, \"x\": [-87.77, -87.65, -87.64, -87.59], \"xaxis\": \"x\", \"y\": [41.88, 41.77, 41.86, 41.74], \"yaxis\": \"y\", \"type\": \"scatter\"}, {\"hovertemplate\": \"Primary Type=DECEPTIVE PRACTICE<br>t=19<br>Longitude=%{x}<br>Latitude=%{y}<br>size=%{marker.size}<extra></extra>\", \"legendgroup\": \"DECEPTIVE PRACTICE\", \"marker\": {\"color\": \"#FF97FF\", \"opacity\": 0.5, \"size\": [2.0, 2.0, 2.0, 2.0, 2.0], \"sizemode\": \"area\", \"sizeref\": 0.125, \"symbol\": \"circle\"}, \"mode\": \"markers\", \"name\": \"DECEPTIVE PRACTICE\", \"orientation\": \"v\", \"showlegend\": true, \"x\": [-87.71000000000001, -87.7, -87.68, -87.67, -87.63], \"xaxis\": \"x\", \"y\": [41.74, 41.97, 41.910000000000004, 41.67, 41.85], \"yaxis\": \"y\", \"type\": \"scatter\"}], \"name\": \"19\"}]);\n",
       "                        }).then(function(){\n",
       "                            \n",
       "var gd = document.getElementById('f423dbc0-31b4-4870-abb8-25304d80eeba');\n",
       "var x = new MutationObserver(function (mutations, observer) {{\n",
       "        var display = window.getComputedStyle(gd).display;\n",
       "        if (!display || display === 'none') {{\n",
       "            console.log([gd, 'removed!']);\n",
       "            Plotly.purge(gd);\n",
       "            observer.disconnect();\n",
       "        }}\n",
       "}});\n",
       "\n",
       "// Listen for the removal of the full notebook cells\n",
       "var notebookContainer = gd.closest('#notebook-container');\n",
       "if (notebookContainer) {{\n",
       "    x.observe(notebookContainer, {childList: true});\n",
       "}}\n",
       "\n",
       "// Listen for the clearing of the current output cell\n",
       "var outputEl = gd.closest('.output');\n",
       "if (outputEl) {{\n",
       "    x.observe(outputEl, {childList: true});\n",
       "}}\n",
       "\n",
       "                        })\n",
       "                };\n",
       "                });\n",
       "            </script>\n",
       "        </div>"
      ]
     },
     "metadata": {},
     "output_type": "display_data"
    }
   ],
   "source": [
    "import plotly.express as px\n",
    "\n",
    "points['size'] = 2*points['count']\n",
    "\n",
    "fig = px.scatter(\n",
    "    data_frame=points, \n",
    "    x=\"Longitude\", \n",
    "    y=\"Latitude\", \n",
    "    title=\"Animated Crime Over Time\",\n",
    "#     facet_col=\"Primary Type\",\n",
    "#     facet_col_wrap=3,\n",
    "    width=800, \n",
    "    height=800,\n",
    "    opacity=.5,\n",
    "    size=\"size\",\n",
    "    size_max=points['size'].max(),\n",
    "    color='Primary Type',\n",
    "#     marginal_x='violin',\n",
    "    animation_frame=\"t\",\n",
    "#     animation_group=\"t\",\n",
    "#     color=\"count\",\n",
    ")\n",
    "\n",
    "fig.update_layout(\n",
    "    margin=dict(l=20, r=50, t=50, b=20),\n",
    "    paper_bgcolor=\"LightSteelBlue\",\n",
    "#     transition ={'duration': 1},\n",
    "#     frame={'duration': 100},\n",
    ")\n",
    "\n",
    "fig.layout.updatemenus[0].buttons[0].args[1][\"frame\"][\"duration\"] = 500\n",
    "fig.layout.updatemenus[0].buttons[0].args[1][\"transition\"][\"duration\"] = 0\n",
    "\n",
    "fig"
   ]
  },
  {
   "cell_type": "markdown",
   "metadata": {},
   "source": [
    "---"
   ]
  }
 ],
 "metadata": {
  "kernelspec": {
   "display_name": "Python 3",
   "language": "python",
   "name": "python3"
  },
  "language_info": {
   "codemirror_mode": {
    "name": "ipython",
    "version": 3
   },
   "file_extension": ".py",
   "mimetype": "text/x-python",
   "name": "python",
   "nbconvert_exporter": "python",
   "pygments_lexer": "ipython3",
   "version": "3.8.3"
  },
  "varInspector": {
   "cols": {
    "lenName": 16,
    "lenType": 16,
    "lenVar": 40
   },
   "kernels_config": {
    "python": {
     "delete_cmd_postfix": "",
     "delete_cmd_prefix": "del ",
     "library": "var_list.py",
     "varRefreshCmd": "print(var_dic_list())"
    },
    "r": {
     "delete_cmd_postfix": ") ",
     "delete_cmd_prefix": "rm(",
     "library": "var_list.r",
     "varRefreshCmd": "cat(var_dic_list()) "
    }
   },
   "types_to_exclude": [
    "module",
    "function",
    "builtin_function_or_method",
    "instance",
    "_Feature"
   ],
   "window_display": false
  }
 },
 "nbformat": 4,
 "nbformat_minor": 4
}
