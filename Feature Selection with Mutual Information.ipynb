{
 "cells": [
  {
   "cell_type": "markdown",
   "metadata": {},
   "source": [
    "## Feature Selection with Mutual Information\n",
    "\n",
    "The aim of this notebook:\n",
    "- Look at column features and how they influence a cell's self-exciting property (mutual info)"
   ]
  },
  {
   "cell_type": "code",
   "execution_count": 1,
   "metadata": {},
   "outputs": [],
   "source": [
    "import os\n",
    "import logging as log\n",
    "from time import strftime\n",
    "from copy import deepcopy\n",
    "from torch import nn, optim\n",
    "import torch.nn.functional as F\n",
    "from utils.data_processing import *\n",
    "from logger.logger import setup_logging\n",
    "from utils.configs import BaseConf\n",
    "from utils.utils import write_json, Timer, get_data_sub_paths, pshape, get_data_resolutions\n",
    "from models.kangkang_fnn_models import KangFeedForwardNetwork, SimpleKangFNN\n",
    "from dataloaders.flat_loader import FlatDataLoaders, MockLoader, MockLoaders\n",
    "from datasets.flat_dataset import FlatDataGroup\n",
    "\n",
    "from dataloaders.cell_loader import CellDataLoaders\n",
    "from datasets.cell_dataset import CellDataGroup\n",
    "\n",
    "from utils.metrics import PRCurvePlotter, ROCCurvePlotter, LossPlotter, PerTimeStepPlotter\n",
    "from sklearn.metrics import accuracy_score, average_precision_score, roc_auc_score\n",
    "from models.model_result import ModelResult, ModelMetrics, save_metrics\n",
    "from utils.mock_data import mock_fnn_data_classification\n",
    "from utils.plots import im\n",
    "from trainers.generic_trainer import train_model\n",
    "from models.kangkang_fnn_models import train_epoch_for_fnn\n",
    "from utils.configs import BaseConf\n",
    "from utils.metrics import best_threshold, get_y_pred\n",
    "from dataloaders.grid_loader import GridDataLoaders\n",
    "from datasets.grid_dataset import GridDataGroup\n",
    "\n",
    "from utils.mock_data import mock_fnn_data_classification\n",
    "import matplotlib.pyplot as plt\n",
    "from utils.plots import im\n",
    "from utils.metrics import best_threshold, get_y_pred, get_y_pred_by_thresholds, best_thresholds\n",
    "from models.model_result import ModelResult, ModelMetrics, save_metrics, compare_all_models,\\\n",
    "                                get_models_metrics, get_models_results\n",
    "from pprint import pprint\n",
    "from time import time\n",
    "from utils.setup import setup"
   ]
  },
  {
   "cell_type": "code",
   "execution_count": 20,
   "metadata": {},
   "outputs": [],
   "source": [
    "conf = BaseConf()\n",
    "\n",
    "conf.model_name = f\"Mutual Info\"\n",
    "\n",
    "conf.data_path = f\"./data/processed/{data_sub_path}/\"\n",
    "\n",
    "if not os.path.exists(conf.data_path):\n",
    "    raise Exception(f\"Directory ({conf.data_path}) needs to exist.\")\n",
    "\n",
    "conf.model_path = f\"{conf.data_path}models/{conf.model_name}/\"\n",
    "os.makedirs(conf.data_path, exist_ok=True)\n",
    "os.makedirs(conf.model_path, exist_ok=True)\n",
    "\n",
    "setup_logging(save_dir=conf.model_path,\n",
    "              log_config='./logger/standard_logger_config.json',\n",
    "              default_level=log.INFO)\n",
    "\n",
    "with np.load(conf.data_path + \"generated_data.npz\") as zip_file:  # context helper ensures zip_file is closed\n",
    "    sparse_crimes = zip_file[\"crime_types_grids\"]\n",
    "    crime_feature_indices = zip_file[\"crime_feature_indices\"]\n",
    "\n",
    "\n",
    "shaper = Shaper(data=sparse_crimes,\n",
    "                conf=conf)\n",
    "\n",
    "#     return conf, shaper, sparse_crimes, crime_feature_indices\n"
   ]
  },
  {
   "cell_type": "code",
   "execution_count": null,
   "metadata": {},
   "outputs": [],
   "source": []
  },
  {
   "cell_type": "code",
   "execution_count": 2,
   "metadata": {},
   "outputs": [
    {
     "name": "stdout",
     "output_type": "stream",
     "text": [
      "array(['T12H-X850M-Y880M_2013-01-01_2017-01-01',\n",
      "       'T1H-X1700M-Y1760M_2013-01-01_2017-01-01',\n",
      "       'T24H-X1275M-Y1320M_2012-01-01_2019-01-01',\n",
      "       'T24H-X1700M-Y1760M_2012-01-01_2019-01-01',\n",
      "       'T24H-X255M-Y220M_2013-01-01_2017-01-01',\n",
      "       'T24H-X425M-Y440M_2012-01-01_2019-01-01',\n",
      "       'T24H-X425M-Y440M_2013-01-01_2017-01-01',\n",
      "       'T24H-X850M-Y880M_2012-01-01_2019-01-01',\n",
      "       'T24H-X850M-Y880M_2013-01-01_2017-01-01',\n",
      "       'T24H-X85M-Y110M_2013-01-01_2017-01-01',\n",
      "       'T3H-X850M-Y880M_2013-01-01_2017-01-01',\n",
      "       'T6H-X850M-Y880M_2013-01-01_2017-01-01'], dtype='<U40')\n"
     ]
    }
   ],
   "source": [
    "data_sub_paths = get_data_sub_paths()\n",
    "pprint(np.sort(data_sub_paths))\n",
    "\n",
    "data_sub_path = 'T24H-X850M-Y880M_2013-01-01_2017-01-01'"
   ]
  },
  {
   "cell_type": "code",
   "execution_count": 3,
   "metadata": {},
   "outputs": [],
   "source": [
    "conf, shaper, sparse_crimes, crime_feature_indices = setup(data_sub_path=data_sub_path)"
   ]
  },
  {
   "cell_type": "code",
   "execution_count": 4,
   "metadata": {},
   "outputs": [],
   "source": [
    "from utils.preprocessing import Shaper"
   ]
  },
  {
   "cell_type": "code",
   "execution_count": 5,
   "metadata": {},
   "outputs": [
    {
     "name": "stdout",
     "output_type": "stream",
     "text": [
      "'TOTAL':0,\n",
      "'THEFT':1,\n",
      "'BATTERY':2,\n",
      "'CRIMINAL DAMAGE':3,\n",
      "'NARCOTICS':4,\n",
      "'ASSAULT':5,\n",
      "'BURGLARY':6,\n",
      "'MOTOR VEHICLE THEFT':7,\n",
      "'ROBBERY':8,\n",
      "'Arrest':9,\n"
     ]
    }
   ],
   "source": [
    "for i,k in enumerate(crime_feature_indices):\n",
    "    print(f\"'{k}':{i},\")"
   ]
  },
  {
   "cell_type": "code",
   "execution_count": 6,
   "metadata": {},
   "outputs": [
    {
     "name": "stdout",
     "output_type": "stream",
     "text": [
      "0\n",
      "-1\n"
     ]
    }
   ],
   "source": [
    "i = 0\n",
    "crimes = sparse_crimes[:,i:i+1]\n",
    "print(conf.shaper_threshold) # sum over all time should be above this threshold\n",
    "print(conf.shaper_top_k) # if larger than 0 we filter out only the top k most active cells of the data grid\n",
    "new_shaper = Shaper(crimes, conf)"
   ]
  },
  {
   "cell_type": "code",
   "execution_count": 11,
   "metadata": {},
   "outputs": [],
   "source": [
    "dense_crimes = shaper.squeeze(sparse_crimes)\n",
    "from utils.utils import describe_array"
   ]
  },
  {
   "cell_type": "code",
   "execution_count": 19,
   "metadata": {},
   "outputs": [
    {
     "name": "stdout",
     "output_type": "stream",
     "text": [
      "____________________________________________________________\n",
      "{'max': 43.0,\n",
      " 'mean': 0.084798899185383,\n",
      " 'min': 0.0,\n",
      " 'shape': (1461, 772),\n",
      " 'std': 0.37116642461852944}\n",
      "____________________________________________________________\n"
     ]
    }
   ],
   "source": [
    "print(describe_array(dense_crimes[:,4]))"
   ]
  },
  {
   "cell_type": "code",
   "execution_count": 56,
   "metadata": {},
   "outputs": [],
   "source": [
    "dense_crimes[dense_crimes > 0] = 1"
   ]
  },
  {
   "cell_type": "code",
   "execution_count": 57,
   "metadata": {},
   "outputs": [],
   "source": [
    "c_now = dense_crimes[:-1,1:-1]\n",
    "c_prev = dense_crimes[1:,1:-1]"
   ]
  },
  {
   "cell_type": "code",
   "execution_count": 58,
   "metadata": {},
   "outputs": [],
   "source": [
    "c_now_flt = np.reshape(c_now.swapaxes(1,2),(-1,8))\n",
    "c_prev_flt = np.reshape(c_prev.swapaxes(1,2),(-1,8))"
   ]
  },
  {
   "cell_type": "code",
   "execution_count": 59,
   "metadata": {},
   "outputs": [],
   "source": [
    "df_now = pd.DataFrame(c_now_flt,columns=crime_feature_indices[1:-1])\n",
    "df_prev = pd.DataFrame(c_prev_flt,columns=crime_feature_indices[1:-1])"
   ]
  },
  {
   "cell_type": "code",
   "execution_count": 60,
   "metadata": {},
   "outputs": [
    {
     "data": {
      "text/html": [
       "<div>\n",
       "<style scoped>\n",
       "    .dataframe tbody tr th:only-of-type {\n",
       "        vertical-align: middle;\n",
       "    }\n",
       "\n",
       "    .dataframe tbody tr th {\n",
       "        vertical-align: top;\n",
       "    }\n",
       "\n",
       "    .dataframe thead th {\n",
       "        text-align: right;\n",
       "    }\n",
       "</style>\n",
       "<table border=\"1\" class=\"dataframe\">\n",
       "  <thead>\n",
       "    <tr style=\"text-align: right;\">\n",
       "      <th></th>\n",
       "      <th>THEFT</th>\n",
       "      <th>BATTERY</th>\n",
       "      <th>CRIMINAL DAMAGE</th>\n",
       "      <th>NARCOTICS</th>\n",
       "      <th>ASSAULT</th>\n",
       "      <th>BURGLARY</th>\n",
       "      <th>MOTOR VEHICLE THEFT</th>\n",
       "      <th>ROBBERY</th>\n",
       "    </tr>\n",
       "  </thead>\n",
       "  <tbody>\n",
       "    <tr>\n",
       "      <th>THEFT</th>\n",
       "      <td>1.000000</td>\n",
       "      <td>0.105854</td>\n",
       "      <td>0.075943</td>\n",
       "      <td>0.068029</td>\n",
       "      <td>0.066417</td>\n",
       "      <td>0.050817</td>\n",
       "      <td>0.047021</td>\n",
       "      <td>0.060383</td>\n",
       "    </tr>\n",
       "    <tr>\n",
       "      <th>BATTERY</th>\n",
       "      <td>0.105854</td>\n",
       "      <td>1.000000</td>\n",
       "      <td>0.101798</td>\n",
       "      <td>0.139691</td>\n",
       "      <td>0.104406</td>\n",
       "      <td>0.061343</td>\n",
       "      <td>0.049696</td>\n",
       "      <td>0.079825</td>\n",
       "    </tr>\n",
       "    <tr>\n",
       "      <th>CRIMINAL DAMAGE</th>\n",
       "      <td>0.075943</td>\n",
       "      <td>0.101798</td>\n",
       "      <td>1.000000</td>\n",
       "      <td>0.074156</td>\n",
       "      <td>0.061469</td>\n",
       "      <td>0.051847</td>\n",
       "      <td>0.038608</td>\n",
       "      <td>0.047310</td>\n",
       "    </tr>\n",
       "    <tr>\n",
       "      <th>NARCOTICS</th>\n",
       "      <td>0.068029</td>\n",
       "      <td>0.139691</td>\n",
       "      <td>0.074156</td>\n",
       "      <td>1.000000</td>\n",
       "      <td>0.086472</td>\n",
       "      <td>0.047265</td>\n",
       "      <td>0.044761</td>\n",
       "      <td>0.069765</td>\n",
       "    </tr>\n",
       "    <tr>\n",
       "      <th>ASSAULT</th>\n",
       "      <td>0.066417</td>\n",
       "      <td>0.104406</td>\n",
       "      <td>0.061469</td>\n",
       "      <td>0.086472</td>\n",
       "      <td>1.000000</td>\n",
       "      <td>0.036869</td>\n",
       "      <td>0.031553</td>\n",
       "      <td>0.050848</td>\n",
       "    </tr>\n",
       "    <tr>\n",
       "      <th>BURGLARY</th>\n",
       "      <td>0.050817</td>\n",
       "      <td>0.061343</td>\n",
       "      <td>0.051847</td>\n",
       "      <td>0.047265</td>\n",
       "      <td>0.036869</td>\n",
       "      <td>1.000000</td>\n",
       "      <td>0.028230</td>\n",
       "      <td>0.033261</td>\n",
       "    </tr>\n",
       "    <tr>\n",
       "      <th>MOTOR VEHICLE THEFT</th>\n",
       "      <td>0.047021</td>\n",
       "      <td>0.049696</td>\n",
       "      <td>0.038608</td>\n",
       "      <td>0.044761</td>\n",
       "      <td>0.031553</td>\n",
       "      <td>0.028230</td>\n",
       "      <td>1.000000</td>\n",
       "      <td>0.029594</td>\n",
       "    </tr>\n",
       "    <tr>\n",
       "      <th>ROBBERY</th>\n",
       "      <td>0.060383</td>\n",
       "      <td>0.079825</td>\n",
       "      <td>0.047310</td>\n",
       "      <td>0.069765</td>\n",
       "      <td>0.050848</td>\n",
       "      <td>0.033261</td>\n",
       "      <td>0.029594</td>\n",
       "      <td>1.000000</td>\n",
       "    </tr>\n",
       "  </tbody>\n",
       "</table>\n",
       "</div>"
      ],
      "text/plain": [
       "                        THEFT   BATTERY  CRIMINAL DAMAGE  NARCOTICS   ASSAULT  \\\n",
       "THEFT                1.000000  0.105854         0.075943   0.068029  0.066417   \n",
       "BATTERY              0.105854  1.000000         0.101798   0.139691  0.104406   \n",
       "CRIMINAL DAMAGE      0.075943  0.101798         1.000000   0.074156  0.061469   \n",
       "NARCOTICS            0.068029  0.139691         0.074156   1.000000  0.086472   \n",
       "ASSAULT              0.066417  0.104406         0.061469   0.086472  1.000000   \n",
       "BURGLARY             0.050817  0.061343         0.051847   0.047265  0.036869   \n",
       "MOTOR VEHICLE THEFT  0.047021  0.049696         0.038608   0.044761  0.031553   \n",
       "ROBBERY              0.060383  0.079825         0.047310   0.069765  0.050848   \n",
       "\n",
       "                     BURGLARY  MOTOR VEHICLE THEFT   ROBBERY  \n",
       "THEFT                0.050817             0.047021  0.060383  \n",
       "BATTERY              0.061343             0.049696  0.079825  \n",
       "CRIMINAL DAMAGE      0.051847             0.038608  0.047310  \n",
       "NARCOTICS            0.047265             0.044761  0.069765  \n",
       "ASSAULT              0.036869             0.031553  0.050848  \n",
       "BURGLARY             1.000000             0.028230  0.033261  \n",
       "MOTOR VEHICLE THEFT  0.028230             1.000000  0.029594  \n",
       "ROBBERY              0.033261             0.029594  1.000000  "
      ]
     },
     "execution_count": 60,
     "metadata": {},
     "output_type": "execute_result"
    }
   ],
   "source": [
    "df_now.corr()"
   ]
  },
  {
   "cell_type": "code",
   "execution_count": null,
   "metadata": {},
   "outputs": [],
   "source": []
  },
  {
   "cell_type": "code",
   "execution_count": null,
   "metadata": {},
   "outputs": [],
   "source": []
  },
  {
   "cell_type": "code",
   "execution_count": null,
   "metadata": {},
   "outputs": [],
   "source": []
  },
  {
   "cell_type": "code",
   "execution_count": 66,
   "metadata": {},
   "outputs": [],
   "source": [
    "X = dense_crimes[:-1,:-1].swapaxes(1,2).reshape(-1,9)\n",
    "y = dense_crimes[1:,0].reshape(-1)\n",
    "y[y > 0] = 1\n",
    "from sklearn.feature_selection import mutual_info_classif"
   ]
  },
  {
   "cell_type": "code",
   "execution_count": 67,
   "metadata": {},
   "outputs": [
    {
     "data": {
      "text/plain": [
       "array([0.07804144, 0.02078052, 0.02245209, 0.01046461, 0.01601758,\n",
       "       0.0073597 , 0.00517525, 0.00221414, 0.00494581])"
      ]
     },
     "execution_count": 67,
     "metadata": {},
     "output_type": "execute_result"
    }
   ],
   "source": [
    "mutual_info_classif(X,y)"
   ]
  },
  {
   "cell_type": "code",
   "execution_count": null,
   "metadata": {},
   "outputs": [],
   "source": []
  }
 ],
 "metadata": {
  "kernelspec": {
   "display_name": "Python 3",
   "language": "python",
   "name": "python3"
  },
  "language_info": {
   "codemirror_mode": {
    "name": "ipython",
    "version": 3
   },
   "file_extension": ".py",
   "mimetype": "text/x-python",
   "name": "python",
   "nbconvert_exporter": "python",
   "pygments_lexer": "ipython3",
   "version": "3.8.3"
  },
  "varInspector": {
   "cols": {
    "lenName": 16,
    "lenType": 16,
    "lenVar": 40
   },
   "kernels_config": {
    "python": {
     "delete_cmd_postfix": "",
     "delete_cmd_prefix": "del ",
     "library": "var_list.py",
     "varRefreshCmd": "print(var_dic_list())"
    },
    "r": {
     "delete_cmd_postfix": ") ",
     "delete_cmd_prefix": "rm(",
     "library": "var_list.r",
     "varRefreshCmd": "cat(var_dic_list()) "
    }
   },
   "types_to_exclude": [
    "module",
    "function",
    "builtin_function_or_method",
    "instance",
    "_Feature"
   ],
   "window_display": false
  }
 },
 "nbformat": 4,
 "nbformat_minor": 4
}
