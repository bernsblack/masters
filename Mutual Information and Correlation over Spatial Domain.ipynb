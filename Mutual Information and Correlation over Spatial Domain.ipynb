{
 "cells": [
  {
   "cell_type": "markdown",
   "metadata": {},
   "source": [
    "### Mutual information and correlation over spatial domain"
   ]
  },
  {
   "cell_type": "code",
   "execution_count": 1,
   "metadata": {},
   "outputs": [],
   "source": [
    "from logger.logger import setup_logging\n",
    "from utils.configs import BaseConf\n",
    "from utils.utils import get_data_sub_paths\n",
    "from utils.setup import setup\n",
    "from utils.preprocessing import Shaper\n",
    "from pprint import pprint\n",
    "import numpy as np\n",
    "from utils.utils import describe_array\n",
    "from scipy.stats import pearsonr\n",
    "import plotly.graph_objects as go\n",
    "from sparse_discrete_table import new_discrete_table,quick_cond_mutual_info, quick_mutual_info, SparseDiscreteTable"
   ]
  },
  {
   "cell_type": "code",
   "execution_count": 2,
   "metadata": {},
   "outputs": [
    {
     "name": "stdout",
     "output_type": "stream",
     "text": [
      "array(['T12H-X850M-Y880M_2013-01-01_2017-01-01',\n",
      "       'T1H-X1700M-Y1760M_2013-01-01_2017-01-01',\n",
      "       'T24H-X1275M-Y1320M_2012-01-01_2019-01-01',\n",
      "       'T24H-X1700M-Y1760M_2012-01-01_2019-01-01',\n",
      "       'T24H-X255M-Y220M_2013-01-01_2017-01-01',\n",
      "       'T24H-X425M-Y440M_2012-01-01_2019-01-01',\n",
      "       'T24H-X425M-Y440M_2013-01-01_2017-01-01',\n",
      "       'T24H-X850M-Y880M_2012-01-01_2019-01-01',\n",
      "       'T24H-X850M-Y880M_2013-01-01_2017-01-01',\n",
      "       'T24H-X85M-Y110M_2013-01-01_2017-01-01',\n",
      "       'T3H-X850M-Y880M_2013-01-01_2017-01-01',\n",
      "       'T6H-X850M-Y880M_2013-01-01_2017-01-01'], dtype='<U40')\n"
     ]
    }
   ],
   "source": [
    "data_sub_paths = get_data_sub_paths()\n",
    "pprint(np.sort(data_sub_paths))\n",
    "\n",
    "data_sub_path = 'T24H-X425M-Y440M_2012-01-01_2019-01-01'"
   ]
  },
  {
   "cell_type": "code",
   "execution_count": 3,
   "metadata": {},
   "outputs": [],
   "source": [
    "conf, shaper, sparse_crimes, crime_feature_indices = setup(data_sub_path=data_sub_path)"
   ]
  },
  {
   "cell_type": "code",
   "execution_count": 165,
   "metadata": {},
   "outputs": [
    {
     "name": "stdout",
     "output_type": "stream",
     "text": [
      "'TOTAL':0,\n",
      "'THEFT':1,\n",
      "'BATTERY':2,\n",
      "'CRIMINAL DAMAGE':3,\n",
      "'NARCOTICS':4,\n",
      "'ASSAULT':5,\n",
      "'BURGLARY':6,\n",
      "'MOTOR VEHICLE THEFT':7,\n",
      "'ROBBERY':8,\n",
      "'Arrest':9,\n"
     ]
    }
   ],
   "source": [
    "for i,k in enumerate(crime_feature_indices):\n",
    "    print(f\"'{k}':{i},\")"
   ]
  },
  {
   "cell_type": "code",
   "execution_count": 166,
   "metadata": {},
   "outputs": [
    {
     "name": "stdout",
     "output_type": "stream",
     "text": [
      "0\n",
      "-1\n"
     ]
    }
   ],
   "source": [
    "i = 0\n",
    "crimes = sparse_crimes[:,i:i+1]\n",
    "print(conf.shaper_threshold) # sum over all time should be above this threshold\n",
    "print(conf.shaper_top_k) # if larger than 0 we filter out only the top k most active cells of the data grid\n",
    "new_shaper = Shaper(crimes, conf)"
   ]
  },
  {
   "cell_type": "code",
   "execution_count": 167,
   "metadata": {},
   "outputs": [],
   "source": [
    "dense_crimes = shaper.squeeze(sparse_crimes)"
   ]
  },
  {
   "cell_type": "code",
   "execution_count": 168,
   "metadata": {},
   "outputs": [
    {
     "data": {
      "text/plain": [
       "(2557, 10, 94, 66)"
      ]
     },
     "execution_count": 168,
     "metadata": {},
     "output_type": "execute_result"
    }
   ],
   "source": [
    "n,c,h,w = sparse_crimes.shape\n",
    "n,c,h,w"
   ]
  },
  {
   "cell_type": "code",
   "execution_count": 169,
   "metadata": {},
   "outputs": [],
   "source": [
    "def geo_correlation(dense_grid, i, t=0, filter_self=False):\n",
    "    \"\"\"\n",
    "    dense_grid: crime counts nd. (n,l) being index in axis 1 or l\n",
    "    filter_self: set the selected cell value lower to make the colorbar \n",
    "             more readable - select cell wil obviously have highest correlation\n",
    "    \"\"\"\n",
    "    n,l = dense_grid.shape\n",
    "    centre = dense_grid[:,i]\n",
    "    \n",
    "    rs = []\n",
    "    pvs = []\n",
    "    \n",
    "    if t == 0:    \n",
    "        for j in range(l):\n",
    "            r, pv = pearsonr(centre, dense_grid[:,j])\n",
    "            rs.append(r)\n",
    "            pvs.append(pv)\n",
    "    else:\n",
    "        for j in range(l):\n",
    "            r, pv = pearsonr(centre[t:], dense_grid[:-t,j])\n",
    "            rs.append(r)\n",
    "            pvs.append(pv)\n",
    "            \n",
    "    if filter_self:\n",
    "        rs[i] = 0\n",
    "                        \n",
    "    rs = np.array(rs)\n",
    "    pvs = np.array(pvs)\n",
    "    return rs,pvs"
   ]
  },
  {
   "cell_type": "code",
   "execution_count": 170,
   "metadata": {},
   "outputs": [],
   "source": [
    "def heatmap(img,pv):\n",
    "    h,w = img.shape\n",
    "    hm = go.Heatmap(\n",
    "        z=img,\n",
    "        text=pv,\n",
    "    )\n",
    "    \n",
    "    fw = go.FigureWidget(\n",
    "        data=[hm],\n",
    "        layout=dict(\n",
    "            clickmode='event+select',\n",
    "            width=600,\n",
    "            height=800,\n",
    "        )\n",
    "    )\n",
    "    return fw"
   ]
  },
  {
   "cell_type": "code",
   "execution_count": 171,
   "metadata": {},
   "outputs": [],
   "source": [
    "dc = dense_crimes[:,0]\n",
    "dc = np.round(np.log2(1 + dc)) # scale\n",
    "topk = dc.mean(0).argsort()[::-1]"
   ]
  },
  {
   "cell_type": "code",
   "execution_count": 172,
   "metadata": {},
   "outputs": [],
   "source": [
    "# only use a single day of the week\n",
    "# dow_i = np.array([i for i in range(len(dc)-7) if i % 7 == 0]) + 0\n",
    "# dc = dc[dow_i]"
   ]
  },
  {
   "cell_type": "markdown",
   "metadata": {},
   "source": [
    "### Geo-correlation"
   ]
  },
  {
   "cell_type": "code",
   "execution_count": 173,
   "metadata": {},
   "outputs": [],
   "source": [
    "i = topk[0]\n",
    "y,x = shaper.i_to_yx(i)\n",
    "t=0\n",
    "filter_self=False\n",
    "\n",
    "state = dict(\n",
    "    x=x,\n",
    "    y=y,\n",
    "    i=i,\n",
    "    t=t,\n",
    "    filter_self=filter_self,\n",
    ")\n",
    "\n",
    "gcr,gcpv = geo_correlation(dc,i,t,filter_self)\n",
    "geo_corr_grid = shaper.unsqueeze(gcr.reshape(1,1,-1))[0,0]\n",
    "geo_pv_grid = shaper.unsqueeze(gcpv.reshape(1,1,-1))[0,0]"
   ]
  },
  {
   "cell_type": "code",
   "execution_count": 174,
   "metadata": {},
   "outputs": [],
   "source": [
    "from ipywidgets import widgets"
   ]
  },
  {
   "cell_type": "code",
   "execution_count": 175,
   "metadata": {},
   "outputs": [],
   "source": [
    "def get_widget_value(change):\n",
    "    if isinstance(change, dict) and change.get('name') == 'value':\n",
    "        return change.get('new')\n",
    "    return None"
   ]
  },
  {
   "cell_type": "code",
   "execution_count": 176,
   "metadata": {
    "scrolled": false
   },
   "outputs": [
    {
     "data": {
      "application/vnd.jupyter.widget-view+json": {
       "model_id": "ea0cb28897f1456ab7f34868eb16a02c",
       "version_major": 2,
       "version_minor": 0
      },
      "text/plain": [
       "VBox(children=(Checkbox(value=False, description='Filter self'), IntSlider(value=0, continuous_update=False, d…"
      ]
     },
     "metadata": {},
     "output_type": "display_data"
    }
   ],
   "source": [
    "fw = heatmap(geo_corr_grid, geo_pv_grid)\n",
    "\n",
    "def draw():\n",
    "    global fw, state, dc\n",
    "        \n",
    "    x = state['x']\n",
    "    y = state['y']\n",
    "    t = state['t']        \n",
    "    filter_self = state['filter_self']\n",
    "    \n",
    "    i = shaper.yx_to_i(y,x)\n",
    "    if i is None:\n",
    "        fw.update_layout(title={\"text\":f\"current cell: invalid coordinate\"})\n",
    "        return\n",
    "    \n",
    "    gcr,gcpv = geo_correlation(dc,i,t, filter_self)\n",
    "    geo_corr_grid = shaper.unsqueeze(gcr.reshape(1,1,-1))[0,0]\n",
    "    geo_pv_grid = shaper.unsqueeze(gcpv.reshape(1,1,-1))[0,0]\n",
    "    \n",
    "    with fw.batch_update():\n",
    "        fw.update_layout(title={\"text\":f\"current cell: y,x = {y,x}\"})\n",
    "        fw.data[0].z = geo_corr_grid\n",
    "        fw.data[0].text = geo_pv_grid\n",
    "\n",
    "def set_state(trace,points,selector):\n",
    "    global state    \n",
    "    \n",
    "    y = points.ys[0]\n",
    "    x = points.xs[0]\n",
    "\n",
    "    state[\"x\"] = x\n",
    "    state[\"y\"] = y\n",
    "    draw()\n",
    "\n",
    "    \n",
    "def on_change_offset_slider(change):\n",
    "    global state\n",
    "    value = get_widget_value(change)\n",
    "    if value is not None:\n",
    "        state[\"t\"] = value\n",
    "        draw()\n",
    "    \n",
    "offset_slider = widgets.IntSlider(\n",
    "    value=0,\n",
    "    min=0, \n",
    "    max=30,\n",
    "    step=1,\n",
    "    description='Offset:',\n",
    "    continuous_update=False,\n",
    ")\n",
    "offset_slider.observe(on_change_offset_slider)\n",
    "\n",
    "filter_self_checkbox = widgets.Checkbox(\n",
    "    value=state['filter_self'],\n",
    "    description='Filter self',\n",
    ")\n",
    "\n",
    "\n",
    "def set_filter_self(change):\n",
    "    value = get_widget_value(change)\n",
    "    if value is not None:\n",
    "        state['filter_self'] = value \n",
    "        draw()\n",
    "\n",
    "filter_self_checkbox.observe(set_filter_self)\n",
    "\n",
    "    \n",
    "fw.data[0].on_click(set_state)\n",
    "# fw.data[0].on_selection(set_state|)\n",
    "widgets.VBox([    \n",
    "    filter_self_checkbox,\n",
    "    offset_slider,\n",
    "    fw,\n",
    "])"
   ]
  },
  {
   "cell_type": "markdown",
   "metadata": {},
   "source": [
    "### Mutual Information Grids"
   ]
  },
  {
   "cell_type": "code",
   "execution_count": 158,
   "metadata": {},
   "outputs": [],
   "source": [
    "from sparse_discrete_table import quick_mutual_info, quick_cond_mutual_info\n",
    "\n",
    "def mutual_info_over_time(a, max_offset=35,norm=True, lognorm=True, include_self=False):\n",
    "    \"\"\"\n",
    "    a: np.ndarray (N,1) with the counts over time\n",
    "    max_offset: furthest we compare to the signal in time\n",
    "    norm: if the mutual information should be normalised between 0 and 1\n",
    "    lognorm: if the array 'a' should be normalised: round(log2(1 + a))\n",
    "    \"\"\"\n",
    "    if lognorm:\n",
    "        a = np.round(np.log2(1 + a))\n",
    "    mis = []\n",
    "    if include_self:\n",
    "        mi = quick_mutual_info(a,a,norm)\n",
    "        mis.append(mi)        \n",
    "    for t in range(1,max_offset+1):\n",
    "        mi = quick_mutual_info(a[t:],a[:-t],norm)\n",
    "        mis.append(mi)\n",
    "    \n",
    "    offsets = np.arange(1,len(mis)+1)\n",
    "    return mis, offsets\n",
    "\n",
    "def conditional_mutual_info_over_time(a, max_offset=35,norm=False, lognorm=True, include_self=False):\n",
    "    \"\"\"\n",
    "    a: np.ndarray (N,1) with the counts over time\n",
    "    max_offset: furthest we compare to the signal in time\n",
    "    norm: if the mutual information should be normalised between 0 and 1\n",
    "    lognorm: if the array 'a' should be normalised: round(log2(1 + a))\n",
    "    \"\"\"    \n",
    "    if lognorm:\n",
    "        a = np.round(np.log2(1 + a)).reshape(-1,1)\n",
    "        \n",
    "    dow = np.arange(len(a)) % 7\n",
    "    cmis = []\n",
    "    if include_self:\n",
    "        cond = np.stack([dow,dow],axis=1)\n",
    "        cmi = quick_cond_mutual_info(a,a,cond,norm)\n",
    "        cmis.append(cmi)        \n",
    "    for t in range(1,max_offset+1):\n",
    "        cond = np.stack([dow[t:],dow[:-t]],axis=1)\n",
    "        cmi = quick_cond_mutual_info(a[t:],a[:-t],cond,norm)\n",
    "        cmis.append(cmi)\n",
    "        \n",
    "    offsets = np.arange(1,len(cmis)+1)\n",
    "    return cmis, offsets"
   ]
  },
  {
   "cell_type": "code",
   "execution_count": 159,
   "metadata": {},
   "outputs": [],
   "source": [
    "def geo_mutual_info(dense_grid, i, t=0, condition=False, filter_self=False, lognorm=True):\n",
    "    \"\"\"\n",
    "    dense_grid: crime counts nd. (n,l)\n",
    "     being index in axis 1 or l\n",
    "    \"\"\"\n",
    "    if lognorm:\n",
    "        dense_grid = np.round(np.log2(1 + dense_grid))\n",
    "    \n",
    "    n,l = dense_grid.shape\n",
    "    centre = dense_grid[:,i]\n",
    "    dow  = np.arange(len(centre))\n",
    "        \n",
    "    mis = [] \n",
    "    if t == 0:    \n",
    "        for j in range(l):\n",
    "            if condition:\n",
    "                cond = dow\n",
    "                mi = quick_cond_mutual_info(centre, dense_grid[:,j], cond,True)\n",
    "            else:\n",
    "                mi = quick_mutual_info(centre, dense_grid[:,j],True)\n",
    "            mis.append(mi)\n",
    "    else:\n",
    "        for j in range(l):\n",
    "            if condition:\n",
    "                cond = np.stack([dow[t:],dow[:-t]], axis=1)\n",
    "                mi = quick_cond_mutual_info(centre[t:], dense_grid[:-t,j],cond, True)\n",
    "            else:            \n",
    "                mi = quick_mutual_info(centre[t:], dense_grid[:-t,j], True)\n",
    "            mis.append(mi)    \n",
    "               \n",
    "    if filter_self:\n",
    "        mis[i] = 0\n",
    "    mis = np.array(mis)\n",
    "    return mis"
   ]
  },
  {
   "cell_type": "code",
   "execution_count": 160,
   "metadata": {},
   "outputs": [],
   "source": [
    "state = dict(\n",
    "    i=topk[0],\n",
    "    t=0,\n",
    ")\n",
    "\n",
    "geo_mi = geo_mutual_info(dc,state['i'],state['t'],False)\n",
    "geo_mi_grid = shaper.unsqueeze(geo_mi.reshape(1,1,-1))[0,0]"
   ]
  },
  {
   "cell_type": "code",
   "execution_count": 161,
   "metadata": {
    "scrolled": false
   },
   "outputs": [
    {
     "data": {
      "application/vnd.jupyter.widget-view+json": {
       "model_id": "fdc4894ea666466a84f357dde9fbc4db",
       "version_major": 2,
       "version_minor": 0
      },
      "text/plain": [
       "VBox(children=(IntSlider(value=0, continuous_update=False, description='Offset:', max=30), FigureWidget({\n",
       "    …"
      ]
     },
     "metadata": {},
     "output_type": "display_data"
    },
    {
     "ename": "KeyError",
     "evalue": "'x'",
     "output_type": "error",
     "traceback": [
      "\u001b[0;31m---------------------------------------------------------------------------\u001b[0m",
      "\u001b[0;31mKeyError\u001b[0m                                  Traceback (most recent call last)",
      "\u001b[0;32m~/anaconda3/lib/python3.8/site-packages/ipywidgets/widgets/widget.py\u001b[0m in \u001b[0;36m_handle_msg\u001b[0;34m(self, msg)\u001b[0m\n\u001b[1;32m    674\u001b[0m                 \u001b[0;32mif\u001b[0m \u001b[0;34m'buffer_paths'\u001b[0m \u001b[0;32min\u001b[0m \u001b[0mdata\u001b[0m\u001b[0;34m:\u001b[0m\u001b[0;34m\u001b[0m\u001b[0;34m\u001b[0m\u001b[0m\n\u001b[1;32m    675\u001b[0m                     \u001b[0m_put_buffers\u001b[0m\u001b[0;34m(\u001b[0m\u001b[0mstate\u001b[0m\u001b[0;34m,\u001b[0m \u001b[0mdata\u001b[0m\u001b[0;34m[\u001b[0m\u001b[0;34m'buffer_paths'\u001b[0m\u001b[0;34m]\u001b[0m\u001b[0;34m,\u001b[0m \u001b[0mmsg\u001b[0m\u001b[0;34m[\u001b[0m\u001b[0;34m'buffers'\u001b[0m\u001b[0;34m]\u001b[0m\u001b[0;34m)\u001b[0m\u001b[0;34m\u001b[0m\u001b[0;34m\u001b[0m\u001b[0m\n\u001b[0;32m--> 676\u001b[0;31m                 \u001b[0mself\u001b[0m\u001b[0;34m.\u001b[0m\u001b[0mset_state\u001b[0m\u001b[0;34m(\u001b[0m\u001b[0mstate\u001b[0m\u001b[0;34m)\u001b[0m\u001b[0;34m\u001b[0m\u001b[0;34m\u001b[0m\u001b[0m\n\u001b[0m\u001b[1;32m    677\u001b[0m \u001b[0;34m\u001b[0m\u001b[0m\n\u001b[1;32m    678\u001b[0m         \u001b[0;31m# Handle a state request.\u001b[0m\u001b[0;34m\u001b[0m\u001b[0;34m\u001b[0m\u001b[0;34m\u001b[0m\u001b[0m\n",
      "\u001b[0;32m~/anaconda3/lib/python3.8/site-packages/ipywidgets/widgets/widget.py\u001b[0m in \u001b[0;36mset_state\u001b[0;34m(self, sync_data)\u001b[0m\n\u001b[1;32m    543\u001b[0m                     from_json = self.trait_metadata(name, 'from_json',\n\u001b[1;32m    544\u001b[0m                                                     self._trait_from_json)\n\u001b[0;32m--> 545\u001b[0;31m                     \u001b[0mself\u001b[0m\u001b[0;34m.\u001b[0m\u001b[0mset_trait\u001b[0m\u001b[0;34m(\u001b[0m\u001b[0mname\u001b[0m\u001b[0;34m,\u001b[0m \u001b[0mfrom_json\u001b[0m\u001b[0;34m(\u001b[0m\u001b[0msync_data\u001b[0m\u001b[0;34m[\u001b[0m\u001b[0mname\u001b[0m\u001b[0;34m]\u001b[0m\u001b[0;34m,\u001b[0m \u001b[0mself\u001b[0m\u001b[0;34m)\u001b[0m\u001b[0;34m)\u001b[0m\u001b[0;34m\u001b[0m\u001b[0;34m\u001b[0m\u001b[0m\n\u001b[0m\u001b[1;32m    546\u001b[0m \u001b[0;34m\u001b[0m\u001b[0m\n\u001b[1;32m    547\u001b[0m     \u001b[0;32mdef\u001b[0m \u001b[0msend\u001b[0m\u001b[0;34m(\u001b[0m\u001b[0mself\u001b[0m\u001b[0;34m,\u001b[0m \u001b[0mcontent\u001b[0m\u001b[0;34m,\u001b[0m \u001b[0mbuffers\u001b[0m\u001b[0;34m=\u001b[0m\u001b[0;32mNone\u001b[0m\u001b[0;34m)\u001b[0m\u001b[0;34m:\u001b[0m\u001b[0;34m\u001b[0m\u001b[0;34m\u001b[0m\u001b[0m\n",
      "\u001b[0;32m~/anaconda3/lib/python3.8/contextlib.py\u001b[0m in \u001b[0;36m__exit__\u001b[0;34m(self, type, value, traceback)\u001b[0m\n\u001b[1;32m    118\u001b[0m         \u001b[0;32mif\u001b[0m \u001b[0mtype\u001b[0m \u001b[0;32mis\u001b[0m \u001b[0;32mNone\u001b[0m\u001b[0;34m:\u001b[0m\u001b[0;34m\u001b[0m\u001b[0;34m\u001b[0m\u001b[0m\n\u001b[1;32m    119\u001b[0m             \u001b[0;32mtry\u001b[0m\u001b[0;34m:\u001b[0m\u001b[0;34m\u001b[0m\u001b[0;34m\u001b[0m\u001b[0m\n\u001b[0;32m--> 120\u001b[0;31m                 \u001b[0mnext\u001b[0m\u001b[0;34m(\u001b[0m\u001b[0mself\u001b[0m\u001b[0;34m.\u001b[0m\u001b[0mgen\u001b[0m\u001b[0;34m)\u001b[0m\u001b[0;34m\u001b[0m\u001b[0;34m\u001b[0m\u001b[0m\n\u001b[0m\u001b[1;32m    121\u001b[0m             \u001b[0;32mexcept\u001b[0m \u001b[0mStopIteration\u001b[0m\u001b[0;34m:\u001b[0m\u001b[0;34m\u001b[0m\u001b[0;34m\u001b[0m\u001b[0m\n\u001b[1;32m    122\u001b[0m                 \u001b[0;32mreturn\u001b[0m \u001b[0;32mFalse\u001b[0m\u001b[0;34m\u001b[0m\u001b[0;34m\u001b[0m\u001b[0m\n",
      "\u001b[0;32m~/anaconda3/lib/python3.8/site-packages/traitlets/traitlets.py\u001b[0m in \u001b[0;36mhold_trait_notifications\u001b[0;34m(self)\u001b[0m\n\u001b[1;32m   1129\u001b[0m                 \u001b[0;32mfor\u001b[0m \u001b[0mchanges\u001b[0m \u001b[0;32min\u001b[0m \u001b[0mcache\u001b[0m\u001b[0;34m.\u001b[0m\u001b[0mvalues\u001b[0m\u001b[0;34m(\u001b[0m\u001b[0;34m)\u001b[0m\u001b[0;34m:\u001b[0m\u001b[0;34m\u001b[0m\u001b[0;34m\u001b[0m\u001b[0m\n\u001b[1;32m   1130\u001b[0m                     \u001b[0;32mfor\u001b[0m \u001b[0mchange\u001b[0m \u001b[0;32min\u001b[0m \u001b[0mchanges\u001b[0m\u001b[0;34m:\u001b[0m\u001b[0;34m\u001b[0m\u001b[0;34m\u001b[0m\u001b[0m\n\u001b[0;32m-> 1131\u001b[0;31m                         \u001b[0mself\u001b[0m\u001b[0;34m.\u001b[0m\u001b[0mnotify_change\u001b[0m\u001b[0;34m(\u001b[0m\u001b[0mchange\u001b[0m\u001b[0;34m)\u001b[0m\u001b[0;34m\u001b[0m\u001b[0;34m\u001b[0m\u001b[0m\n\u001b[0m\u001b[1;32m   1132\u001b[0m \u001b[0;34m\u001b[0m\u001b[0m\n\u001b[1;32m   1133\u001b[0m     \u001b[0;32mdef\u001b[0m \u001b[0m_notify_trait\u001b[0m\u001b[0;34m(\u001b[0m\u001b[0mself\u001b[0m\u001b[0;34m,\u001b[0m \u001b[0mname\u001b[0m\u001b[0;34m,\u001b[0m \u001b[0mold_value\u001b[0m\u001b[0;34m,\u001b[0m \u001b[0mnew_value\u001b[0m\u001b[0;34m)\u001b[0m\u001b[0;34m:\u001b[0m\u001b[0;34m\u001b[0m\u001b[0;34m\u001b[0m\u001b[0m\n",
      "\u001b[0;32m~/anaconda3/lib/python3.8/site-packages/ipywidgets/widgets/widget.py\u001b[0m in \u001b[0;36mnotify_change\u001b[0;34m(self, change)\u001b[0m\n\u001b[1;32m    604\u001b[0m                 \u001b[0;31m# Send new state to front-end\u001b[0m\u001b[0;34m\u001b[0m\u001b[0;34m\u001b[0m\u001b[0;34m\u001b[0m\u001b[0m\n\u001b[1;32m    605\u001b[0m                 \u001b[0mself\u001b[0m\u001b[0;34m.\u001b[0m\u001b[0msend_state\u001b[0m\u001b[0;34m(\u001b[0m\u001b[0mkey\u001b[0m\u001b[0;34m=\u001b[0m\u001b[0mname\u001b[0m\u001b[0;34m)\u001b[0m\u001b[0;34m\u001b[0m\u001b[0;34m\u001b[0m\u001b[0m\n\u001b[0;32m--> 606\u001b[0;31m         \u001b[0msuper\u001b[0m\u001b[0;34m(\u001b[0m\u001b[0mWidget\u001b[0m\u001b[0;34m,\u001b[0m \u001b[0mself\u001b[0m\u001b[0;34m)\u001b[0m\u001b[0;34m.\u001b[0m\u001b[0mnotify_change\u001b[0m\u001b[0;34m(\u001b[0m\u001b[0mchange\u001b[0m\u001b[0;34m)\u001b[0m\u001b[0;34m\u001b[0m\u001b[0;34m\u001b[0m\u001b[0m\n\u001b[0m\u001b[1;32m    607\u001b[0m \u001b[0;34m\u001b[0m\u001b[0m\n\u001b[1;32m    608\u001b[0m     \u001b[0;32mdef\u001b[0m \u001b[0m__repr__\u001b[0m\u001b[0;34m(\u001b[0m\u001b[0mself\u001b[0m\u001b[0;34m)\u001b[0m\u001b[0;34m:\u001b[0m\u001b[0;34m\u001b[0m\u001b[0;34m\u001b[0m\u001b[0m\n",
      "\u001b[0;32m~/anaconda3/lib/python3.8/site-packages/traitlets/traitlets.py\u001b[0m in \u001b[0;36mnotify_change\u001b[0;34m(self, change)\u001b[0m\n\u001b[1;32m   1174\u001b[0m                 \u001b[0mc\u001b[0m \u001b[0;34m=\u001b[0m \u001b[0mgetattr\u001b[0m\u001b[0;34m(\u001b[0m\u001b[0mself\u001b[0m\u001b[0;34m,\u001b[0m \u001b[0mc\u001b[0m\u001b[0;34m.\u001b[0m\u001b[0mname\u001b[0m\u001b[0;34m)\u001b[0m\u001b[0;34m\u001b[0m\u001b[0;34m\u001b[0m\u001b[0m\n\u001b[1;32m   1175\u001b[0m \u001b[0;34m\u001b[0m\u001b[0m\n\u001b[0;32m-> 1176\u001b[0;31m             \u001b[0mc\u001b[0m\u001b[0;34m(\u001b[0m\u001b[0mchange\u001b[0m\u001b[0;34m)\u001b[0m\u001b[0;34m\u001b[0m\u001b[0;34m\u001b[0m\u001b[0m\n\u001b[0m\u001b[1;32m   1177\u001b[0m \u001b[0;34m\u001b[0m\u001b[0m\n\u001b[1;32m   1178\u001b[0m     \u001b[0;32mdef\u001b[0m \u001b[0m_add_notifiers\u001b[0m\u001b[0;34m(\u001b[0m\u001b[0mself\u001b[0m\u001b[0;34m,\u001b[0m \u001b[0mhandler\u001b[0m\u001b[0;34m,\u001b[0m \u001b[0mname\u001b[0m\u001b[0;34m,\u001b[0m \u001b[0mtype\u001b[0m\u001b[0;34m)\u001b[0m\u001b[0;34m:\u001b[0m\u001b[0;34m\u001b[0m\u001b[0;34m\u001b[0m\u001b[0m\n",
      "\u001b[0;32m<ipython-input-161-79755e01046b>\u001b[0m in \u001b[0;36mon_change_offset\u001b[0;34m(change)\u001b[0m\n\u001b[1;32m     56\u001b[0m     \u001b[0;32mif\u001b[0m \u001b[0mvalue\u001b[0m \u001b[0;32mis\u001b[0m \u001b[0;32mnot\u001b[0m \u001b[0;32mNone\u001b[0m\u001b[0;34m:\u001b[0m\u001b[0;34m\u001b[0m\u001b[0;34m\u001b[0m\u001b[0m\n\u001b[1;32m     57\u001b[0m         \u001b[0mstate\u001b[0m\u001b[0;34m[\u001b[0m\u001b[0;34m\"t\"\u001b[0m\u001b[0;34m]\u001b[0m \u001b[0;34m=\u001b[0m \u001b[0mvalue\u001b[0m\u001b[0;34m\u001b[0m\u001b[0;34m\u001b[0m\u001b[0m\n\u001b[0;32m---> 58\u001b[0;31m         \u001b[0mdraw\u001b[0m\u001b[0;34m(\u001b[0m\u001b[0;34m)\u001b[0m\u001b[0;34m\u001b[0m\u001b[0;34m\u001b[0m\u001b[0m\n\u001b[0m\u001b[1;32m     59\u001b[0m \u001b[0;34m\u001b[0m\u001b[0m\n\u001b[1;32m     60\u001b[0m offset_slider = widgets.IntSlider(\n",
      "\u001b[0;32m<ipython-input-161-79755e01046b>\u001b[0m in \u001b[0;36mdraw\u001b[0;34m()\u001b[0m\n\u001b[1;32m     22\u001b[0m     \u001b[0;32mglobal\u001b[0m \u001b[0mfw\u001b[0m\u001b[0;34m,\u001b[0m \u001b[0mstate\u001b[0m\u001b[0;34m,\u001b[0m \u001b[0mdc\u001b[0m\u001b[0;34m\u001b[0m\u001b[0;34m\u001b[0m\u001b[0m\n\u001b[1;32m     23\u001b[0m \u001b[0;34m\u001b[0m\u001b[0m\n\u001b[0;32m---> 24\u001b[0;31m     \u001b[0mx\u001b[0m \u001b[0;34m=\u001b[0m \u001b[0mstate\u001b[0m\u001b[0;34m[\u001b[0m\u001b[0;34m'x'\u001b[0m\u001b[0;34m]\u001b[0m\u001b[0;34m\u001b[0m\u001b[0;34m\u001b[0m\u001b[0m\n\u001b[0m\u001b[1;32m     25\u001b[0m     \u001b[0my\u001b[0m \u001b[0;34m=\u001b[0m \u001b[0mstate\u001b[0m\u001b[0;34m[\u001b[0m\u001b[0;34m'y'\u001b[0m\u001b[0;34m]\u001b[0m\u001b[0;34m\u001b[0m\u001b[0;34m\u001b[0m\u001b[0m\n\u001b[1;32m     26\u001b[0m     \u001b[0mt\u001b[0m \u001b[0;34m=\u001b[0m \u001b[0mstate\u001b[0m\u001b[0;34m[\u001b[0m\u001b[0;34m't'\u001b[0m\u001b[0;34m]\u001b[0m\u001b[0;34m\u001b[0m\u001b[0;34m\u001b[0m\u001b[0m\n",
      "\u001b[0;31mKeyError\u001b[0m: 'x'"
     ]
    }
   ],
   "source": [
    "fw = go.FigureWidget(\n",
    "    data=[\n",
    "        go.Heatmap(            \n",
    "            z=geo_mi_grid,\n",
    "            text=geo_mi_grid,\n",
    "            zmin=0,\n",
    "            zmax=.03,\n",
    "        ),\n",
    "#         go.Surface(            \n",
    "#             z=geo_mi_grid,\n",
    "#             text=geo_mi_grid,\n",
    "#         ),                \n",
    "    ],\n",
    "    layout=dict(\n",
    "        clickmode='event+select',\n",
    "        width=600,\n",
    "        height=800,\n",
    "    )\n",
    ")\n",
    "\n",
    "def draw():\n",
    "    global fw, state, dc\n",
    "    \n",
    "    x = state['x']\n",
    "    y = state['y']\n",
    "    t = state['t']\n",
    "        \n",
    "    i = shaper.yx_to_i(y,x)\n",
    "    if i is None:\n",
    "        fw.update_layout(title={\"text\":f\"current cell: invalid coordinate\"})\n",
    "        return\n",
    "    \n",
    "    geo_mi = geo_mutual_info(dc,i,t,False)\n",
    "    geo_mi_grid = shaper.unsqueeze(geo_mi.reshape(1,1,-1))[0,0]\n",
    "    \n",
    "    with fw.batch_update():\n",
    "        fw.data[0].z = geo_mi_grid\n",
    "        fw.update_layout(title={\"text\":f\"y,x = {y,x}\"})\n",
    "\n",
    "def on_click_heatmap(trace,points,selector):\n",
    "    global state    \n",
    "    \n",
    "    y = points.ys[0]\n",
    "    x = points.xs[0]\n",
    "#     print(f\"click {x},{y} => {mm[y,x]}\")\n",
    "#     print(f\"click {i} => {dm[i]}\")    \n",
    "    \n",
    "    state[\"x\"] = x\n",
    "    state[\"y\"] = y    \n",
    "    draw()\n",
    "\n",
    "    \n",
    "def on_change_offset(change):\n",
    "    global state\n",
    "    value = get_widget_value(change)\n",
    "    if value is not None:\n",
    "        state[\"t\"] = value\n",
    "        draw()\n",
    "    \n",
    "offset_slider = widgets.IntSlider(\n",
    "    value=0,\n",
    "    min=0, \n",
    "    max=30,\n",
    "    step=1,\n",
    "    description='Offset:',\n",
    "    continuous_update=False,\n",
    ")\n",
    "\n",
    "# callback registers\n",
    "offset_slider.observe(on_change_offset)\n",
    "fw.data[0].on_click(on_click_heatmap)\n",
    "\n",
    "\n",
    "\n",
    "widgets.VBox([    \n",
    "    offset_slider,\n",
    "    fw,\n",
    "])"
   ]
  },
  {
   "cell_type": "code",
   "execution_count": null,
   "metadata": {},
   "outputs": [],
   "source": []
  }
 ],
 "metadata": {
  "kernelspec": {
   "display_name": "Python 3",
   "language": "python",
   "name": "python3"
  },
  "language_info": {
   "codemirror_mode": {
    "name": "ipython",
    "version": 3
   },
   "file_extension": ".py",
   "mimetype": "text/x-python",
   "name": "python",
   "nbconvert_exporter": "python",
   "pygments_lexer": "ipython3",
   "version": "3.8.3"
  }
 },
 "nbformat": 4,
 "nbformat_minor": 4
}
