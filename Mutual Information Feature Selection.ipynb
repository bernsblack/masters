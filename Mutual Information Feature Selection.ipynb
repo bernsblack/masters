{
 "cells": [
  {
   "cell_type": "markdown",
   "metadata": {},
   "source": [
    "## Mutual Information Feature Selection\n",
    "\n",
    "The aim of this notebook:\n",
    "- Look at column features and how they influence a cell's self-exciting property (mutual info)"
   ]
  },
  {
   "cell_type": "markdown",
   "metadata": {},
   "source": [
    "# Why conditional mutual information is larger than mutual information\n",
    "The conditional variable has more possible states and therfore the join has a higher entropy - the maximum value it can take on can therefore be higher - to make plots easier to read we can normalize the mutual information with the mutual information of the target signal with itself.\n",
    "\n",
    "$I(X;Y) = H(X) + H(Y) - H(X,Y)$\n",
    "\n",
    "\n",
    "$I(X;Y|Z) = H(X,Z) + H(Y,Z) - H(X,Y,Z) - H(Z)$"
   ]
  },
  {
   "cell_type": "markdown",
   "metadata": {},
   "source": [
    "# Interactive Plotly Plots"
   ]
  },
  {
   "cell_type": "code",
   "execution_count": 1,
   "metadata": {},
   "outputs": [],
   "source": [
    "from sparse_discrete_table import SparseDiscreteTable, build_discrete_table\n",
    "from ipywidgets import widgets\n",
    "import pandas as pd\n",
    "import numpy as np\n",
    "import plotly.graph_objs as go\n",
    "import plotly.express as px\n",
    "from utils.data_processing import time_series_to_time_index\n",
    "from pprint import pprint"
   ]
  },
  {
   "cell_type": "code",
   "execution_count": 2,
   "metadata": {},
   "outputs": [],
   "source": [
    "from sparse_discrete_table import quick_mutual_info, quick_cond_mutual_info\n",
    "from sparse_discrete_table import mutual_info_over_time, conditional_mutual_info_over_time\n",
    "from utils.interactive import filter_frame, get_total_counts, new_bins, new_int_bins\n",
    "from utils.interactive import get_mean_map, bin_data_frame, State"
   ]
  },
  {
   "cell_type": "code",
   "execution_count": 3,
   "metadata": {},
   "outputs": [],
   "source": [
    "pd.set_option('mode.chained_assignment', None)"
   ]
  },
  {
   "cell_type": "markdown",
   "metadata": {},
   "source": [
    "`Just for reference where Crimes_Chicago_2001_to_2019_datetime_fmt came from:`\n",
    "```python\n",
    "# was used to convert original csv to dataframe and string dates to datetime format\n",
    "df = pd.read_csv(\"data/original/Crimes_Chicago_2001_to_2019.csv\")\n",
    "df['Date'] = pd.DatetimeIndex(pd.to_datetime(df['Date']))\n",
    "df = df[[\n",
    "    'ID',\n",
    "    'Date',\n",
    "    'Primary Type',\n",
    "    'Arrest',\n",
    "    'Latitude',\n",
    "    'Longitude',\n",
    "]].dropna()\n",
    "df.to_pickle(\"data/raw/Crimes_Chicago_2001_to_2019_datetime_fmt.pkl\") # Dates are type datetime not string\n",
    "```"
   ]
  },
  {
   "cell_type": "code",
   "execution_count": 4,
   "metadata": {},
   "outputs": [],
   "source": [
    "df = pd.read_pickle(\"data/raw/Crimes_Chicago_2001_to_2019_datetime_fmt.pkl\")"
   ]
  },
  {
   "cell_type": "code",
   "execution_count": 5,
   "metadata": {},
   "outputs": [],
   "source": [
    "from pandas.api.types import CategoricalDtype\n",
    "\n",
    "\n",
    "crime_categories = [\n",
    "        \"THEFT\",\n",
    "        \"BATTERY\",\n",
    "        \"CRIMINAL DAMAGE\",\n",
    "        \"NARCOTICS\",\n",
    "        \"ASSAULT\",\n",
    "        \"BURGLARY\",\n",
    "        \"MOTOR VEHICLE THEFT\",\n",
    "        \"ROBBERY\",\n",
    "]\n",
    "\n",
    "\n",
    "# Label encode the crime catgegories - makes histograms faster\n",
    "CrimeType = CategoricalDtype(categories=crime_categories, ordered=True)\n",
    "df['Primary Type'] = df['Primary Type'].astype(CrimeType)\n",
    "\n",
    "category_mask = df['Primary Type'].isin(crime_categories)"
   ]
  },
  {
   "cell_type": "code",
   "execution_count": 6,
   "metadata": {},
   "outputs": [],
   "source": [
    "# used to remove the anomalies\n",
    "LAT_MIN, LAT_MAX = 41.6445, 42.0228\n",
    "\n",
    "LON_MIN, LON_MAX = -87.9344, -87.5244\n",
    "\n",
    "FREQ = '1D' # '1H' #\n",
    "\n",
    "if FREQ == '1D':\n",
    "    DATE_MIN, DATE_MAX = '2012-01-01', '2019-01-01'\n",
    "else:\n",
    "    DATE_MIN, DATE_MAX = '2012-01-01', '2012-10-01'\n",
    "\n",
    "\n",
    "lon_mask = (df.Longitude > LON_MIN) & (df.Longitude < LON_MAX)\n",
    "lat_mask = (df.Latitude > LAT_MIN) & (df.Latitude < LAT_MAX)\n",
    "date_mask = (df.Date >= DATE_MIN) & (df.Date < DATE_MAX)"
   ]
  },
  {
   "cell_type": "code",
   "execution_count": 7,
   "metadata": {},
   "outputs": [],
   "source": [
    "df = df[lon_mask & lat_mask & date_mask & category_mask]"
   ]
  },
  {
   "cell_type": "code",
   "execution_count": 8,
   "metadata": {},
   "outputs": [],
   "source": [
    "df['c'] = df['Primary Type'].cat.codes"
   ]
  },
  {
   "cell_type": "code",
   "execution_count": 9,
   "metadata": {},
   "outputs": [],
   "source": [
    "df['t'] = time_series_to_time_index(t_series=df.Date, t_step=FREQ, floor=True)"
   ]
  },
  {
   "cell_type": "code",
   "execution_count": 10,
   "metadata": {},
   "outputs": [],
   "source": [
    "# date selectors\n",
    "date_range = pd.date_range(df.Date.min().ceil(FREQ), df.Date.max().floor(FREQ), freq=FREQ)"
   ]
  },
  {
   "cell_type": "code",
   "execution_count": 11,
   "metadata": {},
   "outputs": [
    {
     "name": "stdout",
     "output_type": "stream",
     "text": [
      "ratio_xy: 0.8127895963778615\n",
      "lat_per_metre: 9.003326781922841e-06\n",
      "lon_per_metre: 1.2003344797182708e-05\n"
     ]
    }
   ],
   "source": [
    "from geopy import distance\n",
    "from utils.utils import ffloor, fceil\n",
    "\n",
    "# get meter per degree estimat\n",
    "coord_series = df[['Latitude', 'Longitude']]\n",
    "\n",
    "lat_min, lon_min = coord_series.min()\n",
    "lat_max, lon_max = coord_series.max()\n",
    "\n",
    "lat_mean, lon_mean = coord_series.mean()\n",
    "\n",
    "dy = distance.distance((lat_min, lon_min), (lat_max, lon_min)).m\n",
    "dx = distance.distance((lat_min, lon_min), (lat_min, lon_max)).m\n",
    "\n",
    "lat_per_metre = (lat_max - lat_min)/dy\n",
    "lon_per_metre = (lon_max - lon_min)/dx\n",
    "\n",
    "ratio_xy = dx/dy\n",
    "print(f\"ratio_xy: {ratio_xy}\")\n",
    "print(f\"lat_per_metre: {lat_per_metre}\")\n",
    "print(f\"lon_per_metre: {lon_per_metre}\")"
   ]
  },
  {
   "cell_type": "markdown",
   "metadata": {},
   "source": [
    "### Very important  - all the meta data is mapped from intervals of 0.001 in the lat and lon space with ratios of 8 and 11 to ensure that the grids cels are square"
   ]
  },
  {
   "cell_type": "markdown",
   "metadata": {},
   "source": [
    "#### Confirm the make_grid technique and hist product the same output"
   ]
  },
  {
   "cell_type": "code",
   "execution_count": 12,
   "metadata": {},
   "outputs": [
    {
     "name": "stdout",
     "output_type": "stream",
     "text": [
      "{'dlat': 0.008,\n",
      " 'dlon': 0.01,\n",
      " 'x in metres': 850.0,\n",
      " 'x_scale': 10,\n",
      " 'y in metres': 880.0,\n",
      " 'y_scale': 8}\n"
     ]
    },
    {
     "data": {
      "text/plain": [
       "'\\nall the meta data is mapped from intervals of 0.001 in \\nthe lat and lon space with ratios of 8 and 11 to ensure that the grids cels are square\\n'"
      ]
     },
     "execution_count": 12,
     "metadata": {},
     "output_type": "execute_result"
    }
   ],
   "source": [
    "# [20,16] - [10,8] - [5,4] - [3,2] - [1,1]\n",
    "x_scale, y_scale = 10,8 #3,2\n",
    "xy_scale = np.array([x_scale, y_scale])  # must be integer so that we can easily sample demographic data\n",
    "dlon, dlat = xy_scale * np.array([0.001, 0.001])\n",
    "meta_info = {}\n",
    "meta_info[\"x_scale\"] = x_scale\n",
    "meta_info[\"y_scale\"] = y_scale\n",
    "meta_info[\"dlon\"] = float(dlon)\n",
    "meta_info[\"dlat\"] = float(dlat)\n",
    "meta_info[\"x in metres\"] = 85000 * float(dlon)\n",
    "meta_info[\"y in metres\"] = 110000 * float(dlat)\n",
    "\n",
    "pprint(meta_info)\n",
    "\n",
    "# use perfect squares perfect squares\n",
    "\"\"\"\n",
    "all the meta data is mapped from intervals of 0.001 in \n",
    "the lat and lon space with ratios of 8 and 11 to ensure that the grids cels are square\n",
    "\"\"\"\n",
    "# cell_size_m = 430\n",
    "# dlat = cell_size_m*lat_per_metre\n",
    "# dlon = cell_size_m*lon_per_metre\n",
    " \n",
    "# use increments of 0.001"
   ]
  },
  {
   "cell_type": "code",
   "execution_count": 13,
   "metadata": {},
   "outputs": [
    {
     "data": {
      "text/plain": [
       "{'block_size_index': 2,\n",
       " 'callbacks': [],\n",
       " 'conditional_temporal_variables': ['Day of Week'],\n",
       " 'crime_types': ['THEFT',\n",
       "                 'BATTERY',\n",
       "                 'CRIMINAL DAMAGE',\n",
       "                 'NARCOTICS',\n",
       "                 'ASSAULT',\n",
       "                 'BURGLARY',\n",
       "                 'MOTOR VEHICLE THEFT',\n",
       "                 'ROBBERY'],\n",
       " 'date_indices': (0, 2556),\n",
       " 'date_max': '2019-01-01',\n",
       " 'date_min': '2012-01-01',\n",
       " 'date_range': DatetimeIndex(['2012-01-01', '2012-01-02', '2012-01-03', '2012-01-04',\n",
       "               '2012-01-05', '2012-01-06', '2012-01-07', '2012-01-08',\n",
       "               '2012-01-09', '2012-01-10',\n",
       "               ...\n",
       "               '2018-12-22', '2018-12-23', '2018-12-24', '2018-12-25',\n",
       "               '2018-12-26', '2018-12-27', '2018-12-28', '2018-12-29',\n",
       "               '2018-12-30', '2018-12-31'],\n",
       "              dtype='datetime64[ns]', length=2557, freq='D'),\n",
       " 'dlat': 0.008,\n",
       " 'dlon': 0.01,\n",
       " 'freq': '1D',\n",
       " 'lat_max': 42.0228,\n",
       " 'lat_min': 41.6445,\n",
       " 'lon_max': -87.5244,\n",
       " 'lon_min': -87.9344,\n",
       " 'mi_max_offset': 35,\n",
       " 'time_index': 0,\n",
       " 'total_lat_max': 42.0228,\n",
       " 'total_lat_min': 41.6445,\n",
       " 'total_lon_max': -87.5244,\n",
       " 'total_lon_min': -87.9344}"
      ]
     },
     "execution_count": 13,
     "metadata": {},
     "output_type": "execute_result"
    }
   ],
   "source": [
    "from pprint import pformat        \n",
    "        \n",
    "def default_state():\n",
    "    return  State(\n",
    "        dlon=dlon,\n",
    "        dlat=dlat,\n",
    "        lon_max = LON_MAX,\n",
    "        lon_min = LON_MIN,\n",
    "        lat_max = LAT_MAX,\n",
    "        lat_min = LAT_MIN,     \n",
    "        total_lon_max = LON_MAX,\n",
    "        total_lon_min = LON_MIN,\n",
    "        total_lat_max = LAT_MAX,\n",
    "        total_lat_min = LAT_MIN,         \n",
    "        date_min = DATE_MIN,\n",
    "        date_max = DATE_MAX,                \n",
    "        time_index = 0,\n",
    "        date_indices = (0,len(date_range)-1),\n",
    "        date_range = pd.date_range(df.Date.min().ceil(FREQ), df.Date.max().floor(FREQ), freq=FREQ),\n",
    "        freq=FREQ,\n",
    "        crime_types = [*crime_categories],    \n",
    "        mi_max_offset = 35,\n",
    "        block_size_index=2,    \n",
    "        conditional_temporal_variables= [\"Day of Week\"],# [\"Hour\", \"Day of Week\", \"Time of Month\", \"Time of Year\"],\n",
    "    )\n",
    "    \n",
    "state = default_state()\n",
    "state"
   ]
  },
  {
   "cell_type": "code",
   "execution_count": 14,
   "metadata": {},
   "outputs": [],
   "source": [
    "tbins, cbins, ybins, xbins = new_bins(df, state)"
   ]
  },
  {
   "cell_type": "markdown",
   "metadata": {},
   "source": [
    "`Reference for code to compare grids with previous generation techniques:`\n",
    "```python\n",
    "file_location = \"data/processed/T24H-X425M-Y440M_2013-01-01_2017-01-01/\"\n",
    "\n",
    "generated_data = np.load(file_location + \"generated_data.npz\")\n",
    "x_range = generated_data['x_range']\n",
    "y_range = generated_data['y_range']\n",
    "t_range = pd.read_pickle(file_location + \"t_range.pkl\")\n",
    "\n",
    "crime_types_grids = generated_data['crime_types_grids'] \n",
    "\n",
    "xbins  = x_range - dlon/2\n",
    "xbins = np.array([*xbins,xbins[-1]+dlon])\n",
    "\n",
    "ybins  = y_range - dlat/2\n",
    "ybins = np.array([*ybins,ybins[-1]+dlat])\n",
    "\n",
    "import json\n",
    "\n",
    "with open(file_location + \"info.json\", \"r\") as f:\n",
    "    meta_info = json.load(f)\n",
    "         \n",
    "meta_info\n",
    "```"
   ]
  },
  {
   "cell_type": "markdown",
   "metadata": {},
   "source": [
    "### Widget Plot"
   ]
  },
  {
   "cell_type": "code",
   "execution_count": 15,
   "metadata": {},
   "outputs": [],
   "source": [
    "# reset state\n",
    "state.crime_types = [*crime_categories]\n",
    "\n",
    "state.date_indices = (0,len(date_range)-1)\n",
    "state.date_min, state.date_max = date_range[[*state.date_indices]]\n",
    "\n",
    "state.date_range = pd.date_range(\n",
    "    state.date_min.ceil(state.freq), \n",
    "    state.date_max.floor(state.freq), \n",
    "    freq=state.freq, \n",
    ")"
   ]
  },
  {
   "cell_type": "code",
   "execution_count": 16,
   "metadata": {},
   "outputs": [],
   "source": [
    "font_dict = dict(\n",
    "    family=\"Time New Roman\",     \n",
    "    size=14,\n",
    "#     color=\"RebeccaPurple\",\n",
    ")\n",
    "\n",
    "# quick plotly plot builders\n",
    "def new_scatter(title, ylabel, xlabel, font_dict=None):\n",
    "    return go.FigureWidget(\n",
    "        data=go.Scatter(),\n",
    "        layout=dict(\n",
    "            title_text=title,\n",
    "            title_x=0.5,        \n",
    "            xaxis_title=xlabel,\n",
    "            yaxis_title=ylabel,\n",
    "            legend_title=\"Legend Title\",\n",
    "            font=font_dict,\n",
    "        ),\n",
    "    )\n",
    "\n",
    "\n",
    "def new_heatmap(z):\n",
    "    return go.Figure(\n",
    "        data=go.Heatmap(z=z),\n",
    "        layout=dict(\n",
    "            height=600,\n",
    "#             width=ratio_xy*fig_height,\n",
    "            yaxis=dict(scaleanchor=\"x\", scaleratio=1/ratio_xy),\n",
    "        ),    \n",
    "    )"
   ]
  },
  {
   "cell_type": "code",
   "execution_count": 17,
   "metadata": {},
   "outputs": [],
   "source": [
    "fig_total_counts = new_scatter(title=\"Total Crimes\",ylabel=\"Total Counts\",xlabel=\"Date Time\")"
   ]
  },
  {
   "cell_type": "code",
   "execution_count": 18,
   "metadata": {},
   "outputs": [],
   "source": [
    "# MI Plots on a single curve\n",
    "fig_mi_cmi = go.FigureWidget(\n",
    "        data=[\n",
    "            go.Scatter(\n",
    "                name=\"$I(C_t;C_{t-k})$\",#\"Mutual Information\",\n",
    "            ),\n",
    "            go.Scatter(\n",
    "                name=\"$I(C_t;C_{t-k}|D_t;D_{t-k})$\", #\"Condtional Mutual Information\",\n",
    "            ),\n",
    "        ],\n",
    "        layout=dict(\n",
    "            title_text=\"Mutual and Condtional Mutual Information\",\n",
    "            title_x=0.5,        \n",
    "            xaxis_title=\"Offest in days (k)\",\n",
    "            yaxis_title=\"Normalised Score [0,1]\",\n",
    "            legend_title=\"Curves\",\n",
    "#             font=font_dict,\n",
    "        ),\n",
    "    )\n",
    "\n",
    "line_mi, line_cmi = fig_mi_cmi.data"
   ]
  },
  {
   "cell_type": "code",
   "execution_count": 19,
   "metadata": {},
   "outputs": [],
   "source": [
    "counts_mean = get_mean_map(df, state)"
   ]
  },
  {
   "cell_type": "code",
   "execution_count": 20,
   "metadata": {},
   "outputs": [],
   "source": [
    "scattergl = go.Scattergl(\n",
    "    hoverinfo='skip',\n",
    "    mode='markers',\n",
    "    name='scattergl',\n",
    "    marker_color='red',\n",
    ")\n",
    "\n",
    "heatmapgl = go.Heatmap(\n",
    "    z=counts_mean,\n",
    "    x=xbins,\n",
    "    y=ybins, \n",
    "    hoverinfo='skip',\n",
    "    colorscale='viridis',\n",
    "    opacity=1,\n",
    "    name='heatmapgl',\n",
    ")\n",
    "\n",
    "\n",
    "fig_height = 600\n",
    "fig_app = go.FigureWidget(\n",
    "    data=[heatmapgl, scattergl],\n",
    "    layout=dict(\n",
    "        margin={\"r\":50,\"t\":30,\"l\":0,\"b\":0},\n",
    "        height=fig_height,\n",
    "#         width=fig_height*ratio_xy,\n",
    "        yaxis=dict(scaleanchor=\"x\", scaleratio=1/ratio_xy),\n",
    "        clickmode='event+select',\n",
    "    ),\n",
    ")\n",
    "\n",
    "scattergl = fig_app.data[1]\n",
    "heatmapgl = fig_app.data[0]"
   ]
  },
  {
   "cell_type": "markdown",
   "metadata": {},
   "source": [
    "#### Update figures based on state"
   ]
  },
  {
   "cell_type": "code",
   "execution_count": 21,
   "metadata": {},
   "outputs": [],
   "source": [
    "block_size_changed = True"
   ]
  },
  {
   "cell_type": "code",
   "execution_count": 22,
   "metadata": {},
   "outputs": [],
   "source": [
    "def construct_temporal_information(data_frame, state, month_divisions=3, year_divisions=24):\n",
    "    sub_dt = date_range[data_frame.t.min():data_frame.t.max()+1]\n",
    "\n",
    "    conds_dict = dict()\n",
    "    \n",
    "    if \"Hour\" in state.conditional_temporal_variables:\n",
    "        conds_dict[\"Hour\"] = sub_dt.hour\n",
    "                \n",
    "    if \"Day of Week\" in state.conditional_temporal_variables:\n",
    "        conds_dict[\"Day of Week\"] = sub_dt.dayofweek\n",
    "\n",
    "    if \"Time of Month\" in state.conditional_temporal_variables:\n",
    "        conds_dict[\"Time of Month\"] = np.floor((month_divisions-1e-8)*sub_dt.day/sub_dt.days_in_month)\n",
    "\n",
    "    if \"Time of Year\" in state.conditional_temporal_variables:\n",
    "        conds_dict[\"Time of Year\"] = np.floor((year_divisions-1e-8)*sub_dt.dayofyear/(365 + sub_dt.is_leap_year*1))\n",
    "    \n",
    "    conds = pd.DataFrame(conds_dict)\n",
    "    \n",
    "    return conds"
   ]
  },
  {
   "cell_type": "code",
   "execution_count": 29,
   "metadata": {},
   "outputs": [],
   "source": [
    "if FREQ == '1D':\n",
    "    cycles = 7,\n",
    "elif FREQ == '1H':\n",
    "    cycles = 7,7*24\n",
    "else:\n",
    "    raise Exception(f\"FREQ={FREQ} is not a valid value: 24H or 1D\")\n",
    "\n",
    "log_norm = True\n",
    "\n",
    "# global updater\n",
    "def draw(state):  \n",
    "    global block_size_changed\n",
    "    sub = filter_frame(df, state)\n",
    "    total_counts_y, total_counts_x = get_total_counts(sub, state, date_range)\n",
    "    \n",
    "    cycles = 1,\n",
    "    conds = construct_temporal_information(\n",
    "        data_frame=sub,\n",
    "        state=state,\n",
    "        month_divisions=3,\n",
    "        year_divisions=24,\n",
    "    )\n",
    "    \n",
    "    mi_y, mi_x = mutual_info_over_time(\n",
    "        a=total_counts_y, \n",
    "        max_offset=state.mi_max_offset,\n",
    "        norm=False,#True, \n",
    "        log_norm=log_norm,\n",
    "        include_self=False,\n",
    "    )\n",
    "    cmi_y, cmi_x = conditional_mutual_info_over_time(\n",
    "        a=total_counts_y,\n",
    "        max_offset=state.mi_max_offset,\n",
    "        norm=False,#True, \n",
    "        log_norm=log_norm,\n",
    "        include_self=False,\n",
    "        cycles=cycles,\n",
    "        conds=conds,\n",
    "    )\n",
    "    \n",
    "    slide = sub[sub.t == state.time_index]\n",
    "    \n",
    "    with fig_app.batch_update():\n",
    "        if block_size_changed:\n",
    "            mean_map, xbins, ybins = get_mean_map(df, state)\n",
    "            block_size_changed = False\n",
    "            \n",
    "            heatmapgl.x = xbins\n",
    "            heatmapgl.y = ybins\n",
    "            heatmapgl.z = mean_map\n",
    "        \n",
    "        \n",
    "        scattergl.x=slide.Longitude\n",
    "        scattergl.y=slide.Latitude\n",
    "        \n",
    "        fig_total_counts.data[0].x = total_counts_x\n",
    "        fig_total_counts.data[0].y = total_counts_y\n",
    "        \n",
    "        line_mi.x = mi_x\n",
    "        line_mi.y = mi_y\n",
    "        \n",
    "        line_cmi.x = cmi_x\n",
    "        line_cmi.y = cmi_y\n",
    "        \n",
    "        fig_mi_cmi.update_layout(\n",
    "            title_text=f\"Mutual and Condtional Mutual Information\\ncondtioned on {state.conditional_temporal_variables}\")"
   ]
  },
  {
   "cell_type": "code",
   "execution_count": 30,
   "metadata": {},
   "outputs": [],
   "source": [
    "def scattergl_on_select(trace,points,selector):\n",
    "    global lat_filter, lon_filter\n",
    "    if trace.name == 'scattergl':                \n",
    "        state.lon_min, state.lon_max = selector.xrange\n",
    "        state.lat_min, state.lat_max = selector.yrange\n",
    "        \n",
    "        draw(state)\n",
    "            \n",
    "scattergl.on_selection(scattergl_on_select)"
   ]
  },
  {
   "cell_type": "code",
   "execution_count": 31,
   "metadata": {},
   "outputs": [],
   "source": [
    "# widget setup\n",
    "from ipywidgets import Layout, widgets\n",
    "\n",
    "# helper functions\n",
    "def get_widget_index(change):\n",
    "    if isinstance(change, dict) and change.get('name') == 'index':\n",
    "        return change.get('new')\n",
    "    return None\n",
    "\n",
    "def get_widget_value(change):\n",
    "    if isinstance(change, dict) and change.get('name') == 'value':\n",
    "        return change.get('new')\n",
    "    return None"
   ]
  },
  {
   "cell_type": "markdown",
   "metadata": {},
   "source": [
    "#### Widgets and how they should update state"
   ]
  },
  {
   "cell_type": "code",
   "execution_count": 32,
   "metadata": {},
   "outputs": [],
   "source": [
    "# time index date display label\n",
    "current_date_label = widgets.Label(f'Date: {date_range[state.time_index].strftime(\"%c\")}')\n",
    "\n",
    "# time index selector\n",
    "time_index_slider = widgets.IntSlider(\n",
    "    value=0,\n",
    "    min=0,\n",
    "    max=len(date_range)-1,\n",
    "    step=1,\n",
    "    description='Time Index:',\n",
    "    continuous_update=False,\n",
    "    layout=Layout(width='80%'),\n",
    ")\n",
    "\n",
    "def on_change_time_index(change):\n",
    "    global current_date_label, state\n",
    "    time_index = get_widget_value(change)\n",
    "    if time_index:\n",
    "        current_date_label.value = f'Date: {date_range[time_index].strftime(\"%c\")}'\n",
    "        state.time_index = time_index\n",
    "        draw(state)\n",
    "        \n",
    "time_index_slider.observe(on_change_time_index)\n",
    "\n",
    "play_button = widgets.Play(\n",
    "    value=0,\n",
    "    min=time_index_slider.min,\n",
    "    max=time_index_slider.max,\n",
    "    step=1,\n",
    "    interval=800,\n",
    "    description=\"Press play\",\n",
    "    disabled=False\n",
    ")\n",
    "widgets.jslink((play_button, 'value'), (time_index_slider, 'value'))\n",
    "\n",
    "\n",
    "# Date Slider\n",
    "date_range_slider = widgets.SelectionRangeSlider(\n",
    "    options=[d.strftime('%y/%m/%d') for d in date_range],\n",
    "    index=(0, len(date_range)-1),\n",
    "    description='Date Range:',\n",
    "    disabled=False,\n",
    "    orientation = 'horizontal',\n",
    "    layout=Layout(width='95%'),\n",
    "    continuous_update=False,\n",
    ")\n",
    "\n",
    "def on_change_date_range_slider(change):\n",
    "    global state, time_index_slider\n",
    "    \n",
    "    index = get_widget_index(change)\n",
    "    if index:        \n",
    "        i, j = index\n",
    "        \n",
    "        time_index_slider.value = i \n",
    "        time_index_slider.min = i\n",
    "        time_index_slider.max = j\n",
    "                \n",
    "        state.update(\n",
    "            date_range_indices=(i,j),  \n",
    "            date_min=date_range[i],\n",
    "            date_max=date_range[j],        \n",
    "        )\n",
    "        draw(state)\n",
    "\n",
    "date_range_slider.observe(on_change_date_range_slider)\n",
    "\n",
    "\n",
    "# crime type selector\n",
    "def on_change_crime_types(button):\n",
    "    global state\n",
    "    if button.button_style == \"\":\n",
    "        button.button_style = \"success\"\n",
    "        state.crime_types.append(button.description)\n",
    "    else:\n",
    "        button.button_style = \"\"\n",
    "        state.crime_types.remove(button.description)\n",
    "    draw(state)\n",
    "    \n",
    "def new_buttons(names,all_selected=False):\n",
    "    global state\n",
    "    buttons = []\n",
    "    \n",
    "    if all_selected:\n",
    "        state.crime_types = [*names]\n",
    "        button_style = \"success\"\n",
    "    else:\n",
    "        state.crime_types = []\n",
    "        button_style = \"\"\n",
    "        \n",
    "    for name in names:\n",
    "        button = widgets.Button(\n",
    "            description=name,\n",
    "            tooltip=name,\n",
    "            disabled=False,\n",
    "            button_style=button_style, # 'success', 'info', 'warning', 'danger' or ''\n",
    "        )\n",
    "        \n",
    "        button.on_click(on_change_crime_types)\n",
    "        \n",
    "        buttons.append(button)\n",
    "    return buttons\n",
    "    \n",
    "    \n",
    "time_selectors = widgets.VBox([\n",
    "    widgets.HBox([date_range_slider]),\n",
    "    widgets.HBox([time_index_slider])    \n",
    "])    \n",
    "\n",
    "buttons = new_buttons(names=crime_categories, all_selected=True)\n",
    "crime_selectors = widgets.VBox([\n",
    "    widgets.HBox(buttons[:4]),\n",
    "    widgets.HBox(buttons[4:]),\n",
    "])\n",
    "\n",
    "# Spatial block size selection widget\n",
    "dlon_dlat_opts = list(map(tuple,(np.array([[40,32], [20,16],[10,8], [5,4], [3,2], [1,1]]) * np.array([0.001, 0.001]))))\n",
    "dx_dly_opts = list(map(tuple,(np.array([[40,32], [20,16],[10,8], [5,4], [3,2], [1,1]]) * np.array([85, 110]))))\n",
    "\n",
    "dropdown_block_size = widgets.Dropdown(\n",
    "    options=[(v, i) for i,v in enumerate(dx_dly_opts)],\n",
    "    value=state.block_size_index,\n",
    "    description='dx, dy:',\n",
    "    disabled=False,\n",
    ")\n",
    "\n",
    "def on_change_dropdown_block_size(change):\n",
    "    global state, block_size_changed\n",
    "    value = get_widget_value(change)\n",
    "    if value is not None:  \n",
    "        state.block_size_index = value\n",
    "        state.dlon, state.dlat = dlon_dlat_opts[value]\n",
    "        block_size_changed = True\n",
    "        draw(state)\n",
    "        \n",
    "dropdown_block_size.observe(on_change_dropdown_block_size)\n",
    "\n",
    "\n",
    "# widgets combinations and setup\n",
    "row0 = widgets.HBox([play_button, crime_selectors, dropdown_block_size])\n",
    "row1 = time_selectors\n",
    "\n",
    "controller = widgets.VBox([row0, row1, current_date_label])"
   ]
  },
  {
   "cell_type": "code",
   "execution_count": 33,
   "metadata": {},
   "outputs": [],
   "source": [
    "# state.conditional_temporal_variables = [\"Hour\", \"Day of Week\", \"Time of Month\", \"Time of Year\"]\n",
    "state.conditional_temporal_variables = [ \"Day of Week\" ] #[\"Day of Week\", \"Time of Month\", \"Time of Year\"]"
   ]
  },
  {
   "cell_type": "code",
   "execution_count": 34,
   "metadata": {
    "scrolled": false
   },
   "outputs": [
    {
     "data": {
      "application/vnd.jupyter.widget-view+json": {
       "model_id": "55cbe71791dd4de78f253d3455e8a44f",
       "version_major": 2,
       "version_minor": 0
      },
      "text/plain": [
       "VBox(children=(FigureWidget({\n",
       "    'data': [{'name': '$I(C_t;C_{t-k})$',\n",
       "              'type': 'scatter',\n",
       "     …"
      ]
     },
     "metadata": {},
     "output_type": "display_data"
    }
   ],
   "source": [
    "state.mi_max_offset = 400\n",
    "draw(state)\n",
    "widgets.VBox([fig_mi_cmi, fig_total_counts, controller, fig_app])"
   ]
  },
  {
   "cell_type": "code",
   "execution_count": 36,
   "metadata": {},
   "outputs": [
    {
     "data": {
      "text/plain": [
       "{'start_date': '2012-01-01',\n",
       " 'end_date': '2019-01-01',\n",
       " 'dT': '1D',\n",
       " 'x_scale': 10,\n",
       " 'y_scale': 8,\n",
       " 'lat_max': 41.981,\n",
       " 'lat_min': 41.835,\n",
       " 'lon_max': -87.609,\n",
       " 'lon_min': -87.801,\n",
       " 'root': './',\n",
       " 'crime_types': ['THEFT',\n",
       "  'BATTERY',\n",
       "  'CRIMINAL DAMAGE',\n",
       "  'NARCOTICS',\n",
       "  'ASSAULT',\n",
       "  'BURGLARY',\n",
       "  'MOTOR VEHICLE THEFT',\n",
       "  'ROBBERY']}"
      ]
     },
     "execution_count": 36,
     "metadata": {},
     "output_type": "execute_result"
    }
   ],
   "source": [
    "from utils.interactive import state_to_conf\n",
    "state_to_conf(state)"
   ]
  },
  {
   "cell_type": "markdown",
   "metadata": {},
   "source": [
    "### Save selected subset limits to json file to be generated at later stage"
   ]
  },
  {
   "cell_type": "code",
   "execution_count": 37,
   "metadata": {},
   "outputs": [
    {
     "name": "stdout",
     "output_type": "stream",
     "text": [
      "Saving file with ref: c52\n"
     ]
    }
   ],
   "source": [
    "from datetime import datetime\n",
    "from utils.interactive import state_to_conf\n",
    "from utils.utils import write_json\n",
    "\n",
    "SAVE_SELECTION = False\n",
    "if SAVE_SELECTION:\n",
    "    conf = state_to_conf(state)\n",
    "#     ref = datetime.now().isoformat().split('.')[0]\n",
    "    ref = hex((hash(conf.__repr__()) % 3000) + 300).split('x')[1]\n",
    "    \n",
    "    print(f\"Saving file with ref: {ref}\")\n",
    "    write_json(\n",
    "        data=conf,\n",
    "        file_name=f\"./config/generate_data_{ref}.json\",\n",
    "    )"
   ]
  },
  {
   "cell_type": "markdown",
   "metadata": {},
   "source": [
    "### Statistics on selection"
   ]
  },
  {
   "cell_type": "code",
   "execution_count": null,
   "metadata": {},
   "outputs": [],
   "source": [
    "sub = filter_frame(df, state)\n",
    "\n",
    "binned_data, bins = bin_data_frame(sub, state)\n",
    "\n",
    "sub_dt = date_range[sub.t.min():sub.t.max()+1]\n",
    "counts_sum = binned_data.sum(-1).sum(-1)\n",
    "\n",
    "print(len(counts_sum),len(sub_dt))\n",
    "assert len(counts_sum) == len(sub_dt)\n",
    "\n",
    "\n",
    "data_dict = {k: counts_sum[:,i]   for i,k in enumerate(state.crime_types)}\n",
    "# data_dict['Date'] = sub_dt\n",
    "# data_dict['Hour'] = sub_dt.hour\n",
    "# data_dict['Weekday'] = sub_dt.dayofweek\n",
    "\n",
    "tota_counts_by_type = pd.DataFrame(data_dict)\n",
    "tota_counts_by_type"
   ]
  },
  {
   "cell_type": "code",
   "execution_count": null,
   "metadata": {},
   "outputs": [],
   "source": [
    "\n",
    "# counts_sum = np.round(np.log2(1 + counts_sum))\n",
    "\n",
    "# cap = 33\n",
    "# counts_sum[counts_sum > cap] = cap\n",
    "\n",
    "traces = []\n",
    "for i,k in enumerate(state.crime_types):\n",
    "    traces.append(\n",
    "#         go.Scatter(\n",
    "#             y=counts_sum[:,i],\n",
    "#             name=k,\n",
    "#         ),\n",
    "        go.Histogram(\n",
    "            x=counts_sum[:,i],\n",
    "            name=k,\n",
    "            opacity=0.4,\n",
    "            histnorm='probability density',\n",
    "        ),\n",
    "#         go.Violin(\n",
    "#             y=counts_sum[:,i],\n",
    "#             name=k,\n",
    "#             opacity=0.4,\n",
    "#         ),   \n",
    "    )\n",
    "    \n",
    "fig = go.Figure(traces, layout=dict(height=600))\n",
    "fig.update_layout(barmode='overlay')\n",
    "fig.show()"
   ]
  },
  {
   "cell_type": "code",
   "execution_count": null,
   "metadata": {},
   "outputs": [],
   "source": [
    "# distribution of selection counts\n",
    "\n",
    "\n",
    "fig = px.histogram(\n",
    "    tota_counts_by_type.melt(),\n",
    "    histnorm='probability density',\n",
    "    title=\"Crime Count Distribution\",\n",
    "#     color=\"variable\",\n",
    "    facet_col=\"variable\",\n",
    "    facet_col_wrap=1,\n",
    "    opacity=.3,\n",
    ")\n",
    "\n",
    "fig.update_layout(barmode='overlay', height=1200, width=500)\n",
    "fig.show()"
   ]
  },
  {
   "cell_type": "code",
   "execution_count": null,
   "metadata": {},
   "outputs": [],
   "source": [
    "# distribution of selection counts\n",
    "total_counts_y, total_counts_x = get_total_counts(sub, state, date_range)\n",
    "fig = px.histogram(pd.DataFrame({\"Crime Count\":total_counts_y}),\n",
    "             histnorm='probability density',title=\"Crime Count Distribution\")\n",
    "fig.update_layout(title={'x':0.5})\n",
    "fig.update_yaxes(title_text='Probability')\n",
    "fig.update_xaxes(title_text='Crime Count')\n",
    "fig.show()"
   ]
  },
  {
   "cell_type": "code",
   "execution_count": null,
   "metadata": {
    "scrolled": false
   },
   "outputs": [],
   "source": [
    "sub_dow_name = pd.DataFrame({'day of week name': sub.Date.dt.day_name()})\n",
    "sub_dow = pd.DataFrame({'day of week': sub.Date.dt.dayofweek})\n",
    "sub_hour = pd.DataFrame({'hour of day': sub.Date.dt.hour})\n",
    "sub_cat = pd.concat([sub, sub_dow, sub_dow_name, sub_hour], axis=1)\n",
    "sub_cat['crimes'] = np.ones(len(sub))\n",
    "\n",
    "\n",
    "# distribution of selection counts\n",
    "total_counts_y, total_counts_x = get_total_counts(sub, state, date_range)\n",
    "\n",
    "fig = px.histogram(pd.DataFrame({\"Crime Counts\":total_counts_y}),\n",
    "             histnorm='probability density',title=\"Crime Count Distribution\")\n",
    "fig.update_yaxes(title_text='Probability')\n",
    "fig.update_xaxes(title_text='Crime Count')\n",
    "fig.update_layout(title={'x':0.5})\n",
    "fig.show()\n",
    "\n",
    "# log normed distribution\n",
    "log_scaled_counts_y = np.round(np.log2(1+ total_counts_y))\n",
    "fig = px.histogram(pd.DataFrame({\"Log Scaled Crime Counts\":log_scaled_counts_y}),\n",
    "             histnorm='probability density',title=\"Log Crime Count Distribution log2(1+x)\")\n",
    "fig.update_yaxes(title_text='Probability')\n",
    "fig.update_xaxes(title_text='Log Crime Count')\n",
    "fig.update_layout(title={'x':0.5})\n",
    "fig.show()\n",
    "\n",
    "# distribution of crime type\n",
    "fig = px.histogram(\n",
    "    data_frame=sub_cat,\n",
    "    x='Primary Type',\n",
    "    y='crimes', \n",
    "    histnorm='probability density',\n",
    "    title=\"Crime Type Distribution\",\n",
    ")\n",
    "fig.update_layout(title={'x':0.5})\n",
    "fig.update_yaxes(title_text='Probability')\n",
    "fig.update_xaxes(title_text='Crime Count')\n",
    "fig.show()\n",
    "\n",
    "\n",
    "# crime distirbution distribution of hour of day by type\n",
    "fig = px.histogram(\n",
    "    data_frame=sub_cat,\n",
    "    x='hour of day',\n",
    "    y='crimes', \n",
    "    facet_col='Primary Type',\n",
    "    facet_col_wrap=2,\n",
    "    height=800,\n",
    "    histnorm='probability density',\n",
    "    title=\"Crime Type Distribution by Hour\",\n",
    ")\n",
    "fig.update_layout(title={'x':0.5})\n",
    "fig.update_yaxes(title_text='Probability',col=1)\n",
    "fig.update_xaxes(title_text='Hour of Day')\n",
    "fig.show()\n",
    "\n",
    "# distribution of day of week\n",
    "fig = px.histogram(\n",
    "    data_frame=sub_cat,\n",
    "    x='day of week',\n",
    "    y='crimes', \n",
    "    facet_col='Primary Type',\n",
    "    facet_col_wrap=2,\n",
    "    height=800,\n",
    "    histnorm='probability density',\n",
    "    title=\"Crime Type Distribution by Weekday\",\n",
    ")\n",
    "fig.update_layout(title={'x':0.5})\n",
    "fig.update_yaxes(title_text='Probability',col=1)\n",
    "fig.update_xaxes(title_text='Day of Week')\n",
    "fig.show()"
   ]
  },
  {
   "cell_type": "code",
   "execution_count": null,
   "metadata": {},
   "outputs": [],
   "source": [
    "for i in enumerate(['mon', 'tue', 'wed', 'thu', 'fri', 'sat', 'sun']):\n",
    "    print(i)"
   ]
  },
  {
   "cell_type": "code",
   "execution_count": null,
   "metadata": {},
   "outputs": [],
   "source": [
    "# binned_data, bins = bin_data_frame(df,state)\n",
    "mean_map = counts_mean = get_mean_map(df, state)\n",
    "new_heatmap(z=mean_map)"
   ]
  },
  {
   "cell_type": "markdown",
   "metadata": {},
   "source": [
    "### Geo-plots"
   ]
  },
  {
   "cell_type": "code",
   "execution_count": null,
   "metadata": {},
   "outputs": [],
   "source": [
    "from utils.plots import hist2d_to_geo\n",
    "\n",
    "# get block infos for whole df\n",
    "binned_data, bins = bin_data_frame(df,state)\n",
    "\n",
    "counts_sum = binned_data.sum(0).sum(0)\n",
    "counts_mean = binned_data.mean(0).mean(0)\n",
    "\n",
    "blocks_geo, blocks_info = hist2d_to_geo(counts_mean,xbins,ybins,filter_zero=True)\n",
    "\n",
    "sub = df.sample(5_000)"
   ]
  },
  {
   "cell_type": "code",
   "execution_count": null,
   "metadata": {},
   "outputs": [],
   "source": [
    "mapbox_access_token = open(\".mapbox_token\").read()\n",
    "# mapbox_access_token = \"open-street-map\"\n",
    "mapbox_access_token\n",
    "\n",
    "on_state = ('#f050ae', 8)\n",
    "off_state = ('#ffab00', 8)\n",
    "\n",
    "mapbox_styles = {\n",
    "    \"sat\": \"mapbox://styles/bernsblack/ckecz0wr52pfc1at7tvu43fmj\", \n",
    "    \"mono\": \"mapbox://styles/bernsblack/ckecyyizy065w19psrikmeo5d\",\n",
    "    \"dark\": \"mapbox://styles/bernsblack/ckeikbchd254619s57np6iyum\",\n",
    "}\n",
    "\n",
    "color_palette = [\"#33a8c7\",\"#52e3e1\",\"#a0e426\",\"#fdf148\",\"#ffab00\",\"#f77976\",\"#f050ae\",\"#d883ff\",\"#9336fd\"]"
   ]
  },
  {
   "cell_type": "code",
   "execution_count": null,
   "metadata": {},
   "outputs": [],
   "source": [
    "heatmap_geo = go.Choroplethmapbox(\n",
    "    geojson=blocks_geo,\n",
    "    locations=blocks_info.id,\n",
    "    z=blocks_info.value,\n",
    "    colorscale=\"Viridis\",\n",
    "    zmin=blocks_info.value.min(),\n",
    "    zmax=blocks_info.value.max(),\n",
    "    marker_opacity=0.5,\n",
    "    marker_line_width=0,\n",
    "    name='heatmap',\n",
    "    hoverinfo='text',\n",
    "    hovertext=blocks_info[['y','x','value']],\n",
    ")\n",
    "\n",
    "# scatter_geo = go.Scattermapbox(\n",
    "#     lon=sub.Longitude,\n",
    "#     lat=sub.Latitude,\n",
    "#     opacity=.4,\n",
    "#     hoverinfo='skip',\n",
    "#     name='scatter',\n",
    "# )\n",
    "\n",
    "scatter_geo = []\n",
    "for cat in crime_categories:\n",
    "    tmp = sub[sub[\"Primary Type\"] == cat]\n",
    "    scatter = go.Scattermapbox(\n",
    "        lon=tmp.Longitude,\n",
    "        lat=tmp.Latitude,\n",
    "        opacity=.4,\n",
    "        hoverinfo='skip',\n",
    "        name=cat,\n",
    "    )\n",
    "    scatter_geo.append(scatter)\n",
    "    \n",
    "    \n",
    "\n",
    "fig_geo = go.FigureWidget(data=[heatmap_geo, *scatter_geo])\n",
    "\n",
    "fig_geo.update_layout(\n",
    "    clickmode='event+select',\n",
    "    mapbox_style=mapbox_styles[\"sat\"],\n",
    "    mapbox_accesstoken=mapbox_access_token,\n",
    "    mapbox_zoom=10,\n",
    "    mapbox_center = {\"lat\": np.mean(ybins), \"lon\": np.mean(xbins)},\n",
    "    margin={\"r\":0,\"t\":30,\"l\":0,\"b\":10},\n",
    "    height=500,\n",
    "    showlegend=True,\n",
    "    legend=dict(\n",
    "        yanchor=\"top\",\n",
    "        y=0.99,\n",
    "        xanchor=\"left\",\n",
    "        x=0.01,\n",
    "    ),\n",
    ")\n",
    "\n",
    "def heatmap_geo_on_select(trace,points,selector):\n",
    "    global state\n",
    "    \n",
    "    inds = points.point_inds\n",
    "    selection = blocks_info.iloc[inds]\n",
    "    _,_,f_x_min,f_y_min = selection.min()\n",
    "    _,_,f_x_max,f_y_max = selection.max()\n",
    "\n",
    "    state.lon_min, state.lon_max = xbins[[f_x_min,f_x_max]]\n",
    "    state.lat_min, state.lat_max = ybins[[f_y_min,f_y_max]]\n",
    "    \n",
    "    \n",
    "heatmap_geo = fig_geo.data[0]    \n",
    "heatmap_geo.on_selection(heatmap_geo_on_select)\n",
    "\n",
    "fig_geo"
   ]
  },
  {
   "cell_type": "markdown",
   "metadata": {},
   "source": [
    "---\n",
    "### Animated Crime Over Time"
   ]
  },
  {
   "cell_type": "code",
   "execution_count": null,
   "metadata": {},
   "outputs": [],
   "source": [
    "def new_ffloor(delta):\n",
    "    def res(value): \n",
    "        return ffloor(value, delta)\n",
    "    return res\n",
    "\n",
    "\n",
    "\n",
    "sub = df[['t', 'Longitude', 'Latitude','c', 'Primary Type', 'Date']].sample(10_000).copy()\n",
    "sub['date_str'] = sub.Date.dt.floor(FREQ).dt.strftime('%c')\n",
    "sub['count'] = np.ones_like(sub.t)\n",
    "ff = new_ffloor(0.01)\n",
    "sub[['Longitude', 'Latitude']] = sub[['Longitude', 'Latitude']].apply(ff)\n",
    "\n",
    "gb = sub.groupby(by=['Longitude', 'Latitude','t','c'])\n",
    "points = gb.first()\n",
    "points['count'] = gb.count()['count']\n",
    "# points['count'] = points['count'].apply(lambda x: np.log2(1+x))\n",
    "points['count'] = points['count']/points['count'].min()\n",
    "points = points.reset_index()\n",
    "points = points.sort_values(['t','c'])\n",
    "\n",
    "points = points[points.t < 4*5]\n",
    "points"
   ]
  },
  {
   "cell_type": "code",
   "execution_count": null,
   "metadata": {},
   "outputs": [],
   "source": [
    "import plotly.express as px\n",
    "\n",
    "points['size'] = 10*points['count']\n",
    "\n",
    "fig = px.scatter(\n",
    "    data_frame=points, \n",
    "    x=\"Longitude\", \n",
    "    y=\"Latitude\", \n",
    "    title=\"Animated Crime Over Time\",\n",
    "#     facet_col=\"Primary Type\",\n",
    "#     facet_col_wrap=3,\n",
    "    width=800, \n",
    "    height=800,\n",
    "    opacity=.5,\n",
    "    size=\"size\",\n",
    "    size_max=points['size'].max(),\n",
    "    color='Primary Type',\n",
    "#     marginal_x='violin',\n",
    "    animation_frame=\"t\",\n",
    "#     animation_group=\"t\",\n",
    "#     color=\"count\",\n",
    ")\n",
    "\n",
    "fig.update_layout(\n",
    "    margin=dict(l=20, r=50, t=50, b=20),\n",
    "    paper_bgcolor=\"LightSteelBlue\",\n",
    "#     transition ={'duration': 1},\n",
    "#     frame={'duration': 100},\n",
    ")\n",
    "\n",
    "fig.layout.updatemenus[0].buttons[0].args[1][\"frame\"][\"duration\"] = 500\n",
    "fig.layout.updatemenus[0].buttons[0].args[1][\"transition\"][\"duration\"] = 0\n",
    "\n",
    "fig"
   ]
  },
  {
   "cell_type": "markdown",
   "metadata": {},
   "source": [
    "---\n",
    "## 2D Histogram"
   ]
  },
  {
   "cell_type": "code",
   "execution_count": null,
   "metadata": {},
   "outputs": [],
   "source": [
    "# display distribution of a sample of the data\n",
    "fig_height=1000\n",
    "px.density_heatmap(\n",
    "    data_frame=df.sample(10000),\n",
    "    x=\"Longitude\",\n",
    "    y=\"Latitude\", \n",
    "    marginal_x=\"histogram\",\n",
    "    marginal_y=\"histogram\",\n",
    "    height=fig_height,\n",
    "    width=ratio_xy*fig_height,\n",
    "    nbinsx=nx,\n",
    "    nbinsy=ny,\n",
    ")"
   ]
  },
  {
   "cell_type": "markdown",
   "metadata": {},
   "source": [
    "---"
   ]
  },
  {
   "cell_type": "code",
   "execution_count": null,
   "metadata": {},
   "outputs": [],
   "source": []
  }
 ],
 "metadata": {
  "kernelspec": {
   "display_name": "Python 3",
   "language": "python",
   "name": "python3"
  },
  "language_info": {
   "codemirror_mode": {
    "name": "ipython",
    "version": 3
   },
   "file_extension": ".py",
   "mimetype": "text/x-python",
   "name": "python",
   "nbconvert_exporter": "python",
   "pygments_lexer": "ipython3",
   "version": "3.8.3"
  },
  "varInspector": {
   "cols": {
    "lenName": 16,
    "lenType": 16,
    "lenVar": 40
   },
   "kernels_config": {
    "python": {
     "delete_cmd_postfix": "",
     "delete_cmd_prefix": "del ",
     "library": "var_list.py",
     "varRefreshCmd": "print(var_dic_list())"
    },
    "r": {
     "delete_cmd_postfix": ") ",
     "delete_cmd_prefix": "rm(",
     "library": "var_list.r",
     "varRefreshCmd": "cat(var_dic_list()) "
    }
   },
   "types_to_exclude": [
    "module",
    "function",
    "builtin_function_or_method",
    "instance",
    "_Feature"
   ],
   "window_display": false
  }
 },
 "nbformat": 4,
 "nbformat_minor": 4
}
