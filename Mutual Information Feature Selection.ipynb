{
 "cells": [
  {
   "cell_type": "markdown",
   "metadata": {},
   "source": [
    "## Mutual Information Feature Selection\n",
    "\n",
    "The aim of this notebook:\n",
    "- Look at column features and how they influence a cell's self-exciting property (mutual info)"
   ]
  },
  {
   "cell_type": "code",
   "execution_count": null,
   "metadata": {},
   "outputs": [],
   "source": [
    "# import os\n",
    "# import logging as log\n",
    "# from time import strftime\n",
    "# from copy import deepcopy\n",
    "# from torch import nn, optim\n",
    "# import torch.nn.functional as F\n",
    "# from logger.logger import setup_logging\n",
    "# from utils.configs import BaseConf\n",
    "# from utils.utils import write_json, Timer, get_data_sub_paths, pshape, get_data_resolutions\n",
    "# from models.kangkang_fnn_models import KangFeedForwardNetwork, SimpleKangFNN\n",
    "# from dataloaders.flat_loader import FlatDataLoaders, MockLoader, MockLoaders\n",
    "# from datasets.flat_dataset import FlatDataGroup\n",
    "\n",
    "# from dataloaders.cell_loader import CellDataLoaders\n",
    "# from datasets.cell_dataset import CellDataGroup\n",
    "\n",
    "# from utils.metrics import PRCurvePlotter, ROCCurvePlotter, LossPlotter, PerTimeStepPlotter\n",
    "# from sklearn.metrics import accuracy_score, average_precision_score, roc_auc_score\n",
    "# from models.model_result import ModelResult, ModelMetrics, save_metrics\n",
    "# from utils.mock_data import mock_fnn_data_classification\n",
    "# from utils.plots import im\n",
    "# from trainers.generic_trainer import train_model\n",
    "# from models.kangkang_fnn_models import train_epoch_for_fnn\n",
    "# from utils.configs import BaseConf\n",
    "# from utils.metrics import best_threshold, get_y_pred\n",
    "# from dataloaders.grid_loader import GridDataLoaders\n",
    "# from datasets.grid_dataset import GridDataGroup\n",
    "\n",
    "# from utils.mock_data import mock_fnn_data_classification\n",
    "# import matplotlib.pyplot as plt\n",
    "# from utils.plots import im\n",
    "# from utils.metrics import best_threshold, get_y_pred, get_y_pred_by_thresholds, best_thresholds\n",
    "# from models.model_result import ModelResult, ModelMetrics, save_metrics, compare_all_models,\\\n",
    "#                                 get_models_metrics, get_models_results\n",
    "from pprint import pprint\n",
    "from time import time\n",
    "from utils.setup import setup\n",
    "\n",
    "from utils.preprocessing import Shaper"
   ]
  },
  {
   "cell_type": "markdown",
   "metadata": {},
   "source": [
    "# Why conditional mutual information is larger than mutual information\n",
    "The conditional variable has more possible states and therfore the join has a higher entropy - the maximum value it can take on can therefore be higher - to make plots easier to read we can normalize the mutual information with the mutual information of the target signal with itself.\n",
    "\n",
    "$I(X;Y) = H(X) + H(Y) - H(X,Y)$\n",
    "\n",
    "\n",
    "$I(X;Y|Z) = H(X,Z) + H(Y,Z) - H(X,Y,Z) - H(Z)$"
   ]
  },
  {
   "cell_type": "code",
   "execution_count": null,
   "metadata": {},
   "outputs": [],
   "source": [
    "from sparse_discrete_table import SparseDiscreteTable, build_discrete_table\n",
    "from ipywidgets import widgets\n",
    "import numpy as np\n",
    "import matplotlib.pyplot as plt\n",
    "from scipy.stats import pearsonr\n",
    "import plotly.graph_objects as go"
   ]
  },
  {
   "cell_type": "markdown",
   "metadata": {},
   "source": [
    "# Interactive Plotly Plots"
   ]
  },
  {
   "cell_type": "code",
   "execution_count": null,
   "metadata": {},
   "outputs": [],
   "source": [
    "import pandas as pd\n",
    "import numpy as np\n",
    "import plotly.graph_objs as go\n",
    "import plotly.express as px\n",
    "from utils.data_processing import time_series_to_time_index\n",
    "from pprint import pprint"
   ]
  },
  {
   "cell_type": "code",
   "execution_count": null,
   "metadata": {},
   "outputs": [],
   "source": [
    "pd.set_option('mode.chained_assignment', None)"
   ]
  },
  {
   "cell_type": "code",
   "execution_count": null,
   "metadata": {},
   "outputs": [],
   "source": [
    "mapbox_access_token = open(\".mapbox_token\").read()\n",
    "# mapbox_access_token = \"open-street-map\"\n",
    "mapbox_access_token\n",
    "\n",
    "on_state = ('#f050ae', 8)\n",
    "off_state = ('#ffab00', 8)\n",
    "\n",
    "mapbox_styles = {\n",
    "    \"sat\": \"mapbox://styles/bernsblack/ckecz0wr52pfc1at7tvu43fmj\", \n",
    "    \"mono\": \"mapbox://styles/bernsblack/ckecyyizy065w19psrikmeo5d\",\n",
    "    \"dark\": \"mapbox://styles/bernsblack/ckeikbchd254619s57np6iyum\",\n",
    "}\n",
    "\n",
    "color_palette = [\"#33a8c7\",\"#52e3e1\",\"#a0e426\",\"#fdf148\",\"#ffab00\",\"#f77976\",\"#f050ae\",\"#d883ff\",\"#9336fd\"]"
   ]
  },
  {
   "cell_type": "markdown",
   "metadata": {},
   "source": [
    "`Just for reference where Crimes_Chicago_2001_to_2019_datetime_fmt came from:`\n",
    "```python\n",
    "# was used to convert original csv to dataframe and string dates to datetime format\n",
    "df = pd.read_csv(\"data/original/Crimes_Chicago_2001_to_2019.csv\")\n",
    "df['Date'] = pd.DatetimeIndex(pd.to_datetime(df['Date']))\n",
    "df = df[[\n",
    "    'ID',\n",
    "    'Date',\n",
    "    'Primary Type',\n",
    "    'Arrest',\n",
    "    'Latitude',\n",
    "    'Longitude',\n",
    "]].dropna()\n",
    "df.to_pickle(\"data/raw/Crimes_Chicago_2001_to_2019_datetime_fmt.pkl\") # Dates are type datetime not string\n",
    "```"
   ]
  },
  {
   "cell_type": "code",
   "execution_count": null,
   "metadata": {},
   "outputs": [],
   "source": [
    "df = pd.read_pickle(\"data/raw/Crimes_Chicago_2001_to_2019_datetime_fmt.pkl\")"
   ]
  },
  {
   "cell_type": "code",
   "execution_count": null,
   "metadata": {},
   "outputs": [],
   "source": [
    "# used to remove the anomalies\n",
    "LAT_MAX = 42.0228\n",
    "LON_MAX = -87.5244\n",
    "\n",
    "LAT_MIN = 41.6445\n",
    "LON_MIN = -87.9344\n",
    "\n",
    "lon_limits = (df.Longitude > LON_MIN) & (df.Longitude < LON_MAX)\n",
    "lat_limits = (df.Latitude > LAT_MIN) & (df.Latitude < LAT_MAX)\n",
    "date_limits = (df.Date >= '2014-01-01') & (df.Date < '2017-01-01')"
   ]
  },
  {
   "cell_type": "code",
   "execution_count": null,
   "metadata": {},
   "outputs": [],
   "source": [
    "df = df[lon_limits & lat_limits & date_limits]"
   ]
  },
  {
   "cell_type": "code",
   "execution_count": null,
   "metadata": {},
   "outputs": [],
   "source": [
    "# filter out rare crime categories\n",
    "# top_k_crimes_cats = len(color_palette)\n",
    "# crime_categories = list(df['Primary Type'].value_counts().index)[:top_k_crimes_cats]\n",
    "crime_categories = [\n",
    "        \"THEFT\",\n",
    "        \"BATTERY\",\n",
    "        \"CRIMINAL DAMAGE\",\n",
    "        \"NARCOTICS\",\n",
    "        \"ASSAULT\",\n",
    "        \"BURGLARY\",\n",
    "        \"MOTOR VEHICLE THEFT\",\n",
    "        \"ROBBERY\",\n",
    "]\n",
    "\n",
    "df = df[df['Primary Type'].isin(crime_categories)]"
   ]
  },
  {
   "cell_type": "code",
   "execution_count": null,
   "metadata": {},
   "outputs": [],
   "source": [
    "from pandas.api.types import CategoricalDtype\n",
    "# Label encode the crime catgegories - makes histograms faster\n",
    "CrimeType = CategoricalDtype(categories=crime_categories, ordered=True)\n",
    "df['Primary Type'] = df['Primary Type'].astype(CrimeType)\n",
    "df['c'] = df['Primary Type'].cat.codes"
   ]
  },
  {
   "cell_type": "code",
   "execution_count": null,
   "metadata": {},
   "outputs": [],
   "source": [
    "df['t'] = time_series_to_time_index(t_series=df.Date, t_step='1D', floor=True)\n",
    "# df['t'] = time_series_to_time_index(t_series=df.Date, t_step='1H', floor=True)"
   ]
  },
  {
   "cell_type": "code",
   "execution_count": null,
   "metadata": {},
   "outputs": [],
   "source": [
    "from utils.utils import ffloor, fceil"
   ]
  },
  {
   "cell_type": "code",
   "execution_count": null,
   "metadata": {},
   "outputs": [],
   "source": [
    "from geopy import distance\n",
    "\n",
    "# get meter per degree estimat\n",
    "coord_series = df[['Latitude', 'Longitude']]\n",
    "\n",
    "lat_min, lon_min = coord_series.min()\n",
    "lat_max, lon_max = coord_series.max()\n",
    "\n",
    "lat_mean, lon_mean = coord_series.mean()\n",
    "\n",
    "dy = distance.distance((lat_min, lon_min), (lat_max, lon_min)).m\n",
    "dx = distance.distance((lat_min, lon_min), (lat_min, lon_max)).m\n",
    "\n",
    "lat_per_metre = (lat_max - lat_min)/dy\n",
    "lon_per_metre = (lon_max - lon_min)/dx\n",
    "\n",
    "ratio_xy = dx/dy\n",
    "print(f\"ratio_xy: {ratio_xy}\")\n",
    "print(f\"lat_per_metre: {lat_per_metre}\")\n",
    "print(f\"lon_per_metre: {lon_per_metre}\")"
   ]
  },
  {
   "cell_type": "markdown",
   "metadata": {},
   "source": [
    "### Very important  - all the meta data is mapped from intervals of 0.001 in the lat and lon space with ratios of 8 and 11 to ensure that the grids cels are square"
   ]
  },
  {
   "cell_type": "markdown",
   "metadata": {},
   "source": [
    "#### Confirm the make_grid technique and hist product the same output"
   ]
  },
  {
   "cell_type": "code",
   "execution_count": null,
   "metadata": {},
   "outputs": [],
   "source": [
    "# [20,16] - [10,8] - [5,4] - [3,2] - [1,1]\n",
    "x_scale, y_scale = 5,4#3,2\n",
    "xy_scale = np.array([x_scale, y_scale])  # must be integer so that we can easily sample demographic data\n",
    "dlon, dlat = xy_scale * np.array([0.001, 0.001])\n",
    "meta_info = {}\n",
    "meta_info[\"x_scale\"] = x_scale\n",
    "meta_info[\"y_scale\"] = y_scale\n",
    "meta_info[\"dlon\"] = float(dlon)\n",
    "meta_info[\"dlat\"] = float(dlat)\n",
    "meta_info[\"x in metres\"] = 85000 * float(dlon)\n",
    "meta_info[\"y in metres\"] = 110000 * float(dlat)\n",
    "\n",
    "pprint(meta_info)\n",
    "\n",
    "# use perfect squares perfect squares\n",
    "\"\"\"\n",
    "all the meta data is mapped from intervals of 0.001 in \n",
    "the lat and lon space with ratios of 8 and 11 to ensure that the grids cels are square\n",
    "\"\"\"\n",
    "# cell_size_m = 430\n",
    "# dlat = cell_size_m*lat_per_metre\n",
    "# dlon = cell_size_m*lon_per_metre\n",
    " \n",
    "# use increments of 0.001\n",
    "\n",
    "xbins = np.arange(ffloor(lon_min, dlon),fceil(lon_max,dlon), dlon)\n",
    "nx = len(xbins)\n",
    "\n",
    "ybins = np.arange(ffloor(lat_min, dlat),fceil(lat_max,dlat), dlat)\n",
    "ny = len(ybins)\n",
    "\n",
    "nt = int(np.ceil(df['t'].max()))\n",
    "tbins = np.arange(int(np.floor(df['t'].min())),nt+2,1)\n",
    "\n",
    "nc = len(crime_categories)\n",
    "cbins = np.arange(0,nc+1,1)"
   ]
  },
  {
   "cell_type": "code",
   "execution_count": null,
   "metadata": {},
   "outputs": [],
   "source": [
    "# display distribution of a sample of the data\n",
    "fig_height=1000\n",
    "fig = px.density_heatmap(\n",
    "    data_frame=df.sample(10000),\n",
    "    x=\"Longitude\",\n",
    "    y=\"Latitude\", \n",
    "    marginal_x=\"histogram\",\n",
    "    marginal_y=\"histogram\",\n",
    "    height=fig_height,\n",
    "    width=ratio_xy*fig_height,\n",
    "    nbinsx=nx,\n",
    "    nbinsy=ny,\n",
    ")\n",
    "fig.show()"
   ]
  },
  {
   "cell_type": "markdown",
   "metadata": {},
   "source": [
    "`Reference for code to compare grids with previous generation techniques:`\n",
    "```python\n",
    "file_location = \"data/processed/T24H-X425M-Y440M_2013-01-01_2017-01-01/\"\n",
    "\n",
    "generated_data = np.load(file_location + \"generated_data.npz\")\n",
    "x_range = generated_data['x_range']\n",
    "y_range = generated_data['y_range']\n",
    "t_range = pd.read_pickle(file_location + \"t_range.pkl\")\n",
    "\n",
    "crime_types_grids = generated_data['crime_types_grids'] \n",
    "\n",
    "xbins  = x_range - dlon/2\n",
    "xbins = np.array([*xbins,xbins[-1]+dlon])\n",
    "\n",
    "ybins  = y_range - dlat/2\n",
    "ybins = np.array([*ybins,ybins[-1]+dlat])\n",
    "\n",
    "import json\n",
    "\n",
    "with open(file_location + \"info.json\", \"r\") as f:\n",
    "    meta_info = json.load(f)\n",
    "         \n",
    "meta_info\n",
    "```"
   ]
  },
  {
   "cell_type": "code",
   "execution_count": null,
   "metadata": {},
   "outputs": [],
   "source": [
    "def new_tbins(t_min, t_max):\n",
    "    return np.arange(t_min-0.5,t_max+1.5,1)"
   ]
  },
  {
   "cell_type": "code",
   "execution_count": null,
   "metadata": {
    "scrolled": false
   },
   "outputs": [],
   "source": [
    "lines = []\n",
    "for crime_category in crime_categories:\n",
    "\n",
    "    sub = df[df['Primary Type'].isin([crime_category])]\n",
    "\n",
    "    tbins = new_tbins(sub.t.min(), sub.t.max())\n",
    "    sub_date_range = pd.date_range(sub.Date.min(), sub.Date.max(), freq='1D')\n",
    "\n",
    "    counts, edges = np.histogramdd(\n",
    "        sample=sub[['t', 'c', 'Latitude', 'Longitude']].values,\n",
    "        bins=(tbins, cbins, ybins, xbins),\n",
    "    ) # (nt, nc, ny, nx))\n",
    "\n",
    "    tbins, cbins, ybins, xbins = edges\n",
    "\n",
    "    counts_sum  = counts.sum(1)\n",
    "    counts_mean = counts_sum.mean(0)\n",
    "\n",
    "    total_crime = counts_sum.sum(1).sum(1)\n",
    "\n",
    "    lines.append(go.Scatter(\n",
    "        y=total_crime,\n",
    "        x=sub_date_range, \n",
    "        name=crime_category,\n",
    "    ))\n",
    "    \n",
    "go.Figure(lines)"
   ]
  },
  {
   "cell_type": "code",
   "execution_count": null,
   "metadata": {},
   "outputs": [],
   "source": [
    "df[\"DoMPercentage\"] = np.round(100 * df.Date.dt.day / df.Date.dt.days_in_month)"
   ]
  },
  {
   "cell_type": "code",
   "execution_count": null,
   "metadata": {},
   "outputs": [],
   "source": [
    "df[\"DoYPercentage\"] = (100 * df.Date.dt.dayofyear / 366)"
   ]
  },
  {
   "cell_type": "code",
   "execution_count": null,
   "metadata": {},
   "outputs": [],
   "source": [
    "df"
   ]
  },
  {
   "cell_type": "code",
   "execution_count": null,
   "metadata": {},
   "outputs": [],
   "source": [
    "df[\"Hour of Day\"] = df.Date.dt.hour\n",
    "df[\"count\"] = 1\n",
    "px.histogram(\n",
    "    df,\n",
    "    x=\"Hour of Day\",\n",
    "    y=\"count\",\n",
    "#     color=\"Primary Type\",\n",
    "    facet_col=\"Primary Type\",\n",
    "    facet_col_wrap=2,\n",
    "    histnorm='probability density',\n",
    "    height=2000,\n",
    "#     opacity=0.1,\n",
    ").show()"
   ]
  },
  {
   "cell_type": "code",
   "execution_count": null,
   "metadata": {},
   "outputs": [],
   "source": [
    "df[\"Day of Week\"] = df.Date.dt.day_name()\n",
    "df[\"count\"] = 1\n",
    "px.histogram(\n",
    "    df,\n",
    "    x=\"Day of Week\",\n",
    "    y=\"count\",\n",
    "#     color=\"Primary Type\",\n",
    "    facet_col=\"Primary Type\",\n",
    "    facet_col_wrap=4,\n",
    "    histnorm='probability density',\n",
    "    height=1000,\n",
    "#     opacity=0.1,\n",
    ")"
   ]
  },
  {
   "cell_type": "code",
   "execution_count": null,
   "metadata": {},
   "outputs": [],
   "source": [
    "px.histogram(\n",
    "    df,\n",
    "    x=\"DoYPercentage\",\n",
    "    y=\"count\",\n",
    "#     color=\"Primary Type\",\n",
    "    facet_col=\"Primary Type\",\n",
    "    facet_col_wrap=2,\n",
    "    histnorm='probability density',\n",
    "    height=1000,\n",
    "#     opacity=0.1,\n",
    ")"
   ]
  },
  {
   "cell_type": "code",
   "execution_count": null,
   "metadata": {},
   "outputs": [],
   "source": [
    "px.histogram(\n",
    "    df,\n",
    "    x=\"DoMPercentage\",\n",
    "    y=\"count\",\n",
    "#     color=\"Primary Type\",\n",
    "    facet_col=\"Primary Type\",\n",
    "    facet_col_wrap=2,\n",
    "    histnorm='probability density',\n",
    "    height=1000,\n",
    "#     opacity=0.1,\n",
    ")"
   ]
  },
  {
   "cell_type": "code",
   "execution_count": 7,
   "metadata": {},
   "outputs": [],
   "source": [
    "from dataclasses import dataclass\n",
    "\n",
    "@dataclass\n",
    "class State:\n",
    "    lon_filter: list\n",
    "    lat_filter: list\n",
    "    date_range_filter: tuple\n",
    "    time_index: int\n",
    "    selected_crime_types: list\n",
    "    \n",
    "    \n",
    "state = State(\n",
    "    lon_filter=[],\n",
    "    lat_filter=[],\n",
    "    date_range_filter=[],\n",
    "    time_index=[],\n",
    "    selected_crime_types=[],\n",
    ")"
   ]
  },
  {
   "cell_type": "code",
   "execution_count": null,
   "metadata": {},
   "outputs": [],
   "source": [
    "from utils.plots import hist2d_to_geo"
   ]
  },
  {
   "cell_type": "code",
   "execution_count": null,
   "metadata": {},
   "outputs": [],
   "source": [
    "blocks, values = hist2d_to_geo(counts_mean,xbins,ybins,filter_zero=True)"
   ]
  },
  {
   "cell_type": "code",
   "execution_count": null,
   "metadata": {},
   "outputs": [],
   "source": [
    "sub = df.sample(1000)"
   ]
  },
  {
   "cell_type": "markdown",
   "metadata": {},
   "source": [
    "### Setup plots"
   ]
  },
  {
   "cell_type": "code",
   "execution_count": null,
   "metadata": {},
   "outputs": [],
   "source": [
    "heatmap = go.Choroplethmapbox(\n",
    "    geojson=blocks,\n",
    "    locations=values.id,\n",
    "    z=values.value,\n",
    "    colorscale=\"Viridis\",\n",
    "    zmin=values.value.min(),\n",
    "    zmax=values.value.max(),\n",
    "    marker_opacity=0.5,\n",
    "    marker_line_width=0,\n",
    "    name='heatmap',\n",
    "    hoverinfo='text',\n",
    "    hovertext=values[['y','x','value']],\n",
    ")\n",
    "\n",
    "scatter = go.Scattermapbox(\n",
    "    lon=sub.Longitude,\n",
    "    lat=sub.Latitude,\n",
    "    opacity=.4,\n",
    "    hoverinfo='skip',\n",
    "    name='scatter',\n",
    ")\n",
    "\n",
    "fig = go.FigureWidget(data=[heatmap, scatter])\n",
    "\n",
    "fig.update_layout(\n",
    "    clickmode='event+select',\n",
    "    mapbox_style=mapbox_styles[\"sat\"],\n",
    "    mapbox_accesstoken=mapbox_access_token,\n",
    "    mapbox_zoom=10,\n",
    "    mapbox_center = {\"lat\": np.mean(ybins), \"lon\": np.mean(xbins)},\n",
    "    margin={\"r\":0,\"t\":30,\"l\":0,\"b\":10},\n",
    "    height=500,\n",
    "#     showlegend=True,\n",
    "#     legend=dict(\n",
    "#         yanchor=\"top\",\n",
    "#         y=0.99,\n",
    "#         xanchor=\"left\",\n",
    "#         x=0.01,\n",
    "#     ),\n",
    ")\n",
    "\n",
    "def heatmap_on_select(trace,points,selector):\n",
    "    global lat_filter, lon_filter\n",
    "    \n",
    "    inds = points.point_inds\n",
    "    selection = values.iloc[inds]\n",
    "    _,_,f_x_min,f_y_min = selection.min()\n",
    "    _,_,f_x_max,f_y_max = selection.max()\n",
    "\n",
    "    lon_filter = xbins[[f_x_min,f_x_max]]\n",
    "    lat_filter = ybins[[f_y_min,f_y_max]]\n",
    "    \n",
    "    \n",
    "heatmap = fig.data[0]    \n",
    "# heatmap.on_click(callback_fn)\n",
    "heatmap.on_selection(heatmap_on_select)\n",
    "\n",
    "fig"
   ]
  },
  {
   "cell_type": "code",
   "execution_count": null,
   "metadata": {},
   "outputs": [],
   "source": [
    "scattergl = go.Scattergl(\n",
    "    x=sub.Longitude,\n",
    "    y=sub.Latitude,\n",
    "    opacity=.6,\n",
    "    hoverinfo='skip',\n",
    "    mode='markers',\n",
    "    name='scattergl',\n",
    "#     marker_symbol=\"x-thin\", # \"cross\",\n",
    "    marker_color='red',\n",
    "#     hovertext=\"\",\n",
    ")\n",
    "\n",
    "heatmapgl = go.Heatmap(\n",
    "    z=counts_mean,\n",
    "    x=xbins,\n",
    "    y=ybins, \n",
    "    hoverinfo='skip',\n",
    "    colorscale='viridis',\n",
    "    opacity=1,\n",
    "    name='heatmapgl',\n",
    ")\n",
    "\n",
    "\n",
    "fig_height = 600\n",
    "\n",
    "fig2 = go.FigureWidget(\n",
    "    data=[heatmapgl, scattergl],\n",
    "    layout=dict(\n",
    "        margin={\"r\":50,\"t\":30,\"l\":0,\"b\":0},\n",
    "        height=fig_height,\n",
    "#         width=fig_height*ratio_xy,\n",
    "        yaxis=dict(scaleanchor=\"x\", scaleratio=1/ratio_xy),\n",
    "        clickmode='event+select',\n",
    "    ),\n",
    ")\n",
    "\n",
    "scattergl = fig2.data[1]"
   ]
  },
  {
   "cell_type": "code",
   "execution_count": null,
   "metadata": {},
   "outputs": [],
   "source": [
    "# spatial filters\n",
    "if lon_filter is not None:\n",
    "    f_lon_min, f_lon_max = lon_filter\n",
    "    lon_mask = (df.Longitude >= f_lon_min) & (df.Longitude <= f_lon_max)\n",
    "\n",
    "if lat_filter is not None:\n",
    "    f_lat_min, f_lat_max = lat_filter\n",
    "    lat_mask = (df.Latitude >= f_lat_min) & (df.Latitude <= f_lat_max)\n",
    "\n",
    "\n",
    "# time filters\n",
    "f_date_min, f_date_max = date_range[[*date_range_filter]]\n",
    "date_range_mask = (df.Date >= f_date_min) & (df.Date <= f_date_max) \n",
    "\n",
    "# crime type filters\n",
    "crime_types_mask = df['Primary Type'].isin(selected_crime_types)\n",
    "\n",
    "selected_mask = date_range_mask & crime_types_mask\n",
    "\n",
    "if lat_filter and lon_filter:\n",
    "    selected_mask = selected_mask & lon_mask & lat_mask\n",
    "\n",
    "sub = df[selected_mask]\n",
    "\n",
    "nt = int(np.ceil(sub['t'].max()))\n",
    "tbins = np.arange(int(np.floor(sub['t'].min())),nt+2,1)\n",
    "\n",
    "counts, edges = np.histogram(sub.t,bins=tbins)\n",
    "\n",
    "fline = go.FigureWidget(\n",
    "    go.Scatter(\n",
    "        y=counts,\n",
    "        x=date_range[edges[:-1]], \n",
    "        name=crime_category,\n",
    "    ),    \n",
    ")"
   ]
  },
  {
   "cell_type": "code",
   "execution_count": null,
   "metadata": {},
   "outputs": [],
   "source": []
  },
  {
   "cell_type": "code",
   "execution_count": 2,
   "metadata": {},
   "outputs": [],
   "source": [
    "# global updater\n",
    "def update_data():\n",
    "    global df, sub, lon_filter, lat_filter, date_range_filter, time_index, tbins, nt\n",
    "    \n",
    "    # spatial filters\n",
    "    if lon_filter is not None:\n",
    "        f_lon_min, f_lon_max = lon_filter\n",
    "        lon_mask = (df.Longitude >= f_lon_min) & (df.Longitude <= f_lon_max)\n",
    "    \n",
    "    if lat_filter is not None:\n",
    "        f_lat_min, f_lat_max = lat_filter\n",
    "        lat_mask = (df.Latitude >= f_lat_min) & (df.Latitude <= f_lat_max)\n",
    "    \n",
    "    \n",
    "    # time filters\n",
    "    f_date_min, f_date_max = date_range[[*date_range_filter]]\n",
    "    date_range_mask = (df.Date >= f_date_min) & (df.Date <= f_date_max) \n",
    "    \n",
    "    # crime type filters\n",
    "    crime_types_mask = df['Primary Type'].isin(selected_crime_types)\n",
    "    \n",
    "    selected_mask = date_range_mask & crime_types_mask\n",
    "    \n",
    "    if lat_filter and lon_filter:\n",
    "        selected_mask = selected_mask & lon_mask & lat_mask\n",
    "    \n",
    "    sub = df[selected_mask]\n",
    "    \n",
    "    nt = int(np.ceil(sub['t'].max()))\n",
    "    tbins = np.arange(int(np.floor(sub['t'].min())),nt+2,1)\n",
    "    \n",
    "    counts, edges = np.histogram(sub.t,bins=tbins)\n",
    "        # todo implement histo\n",
    "#     counts, edges = np.histogramdd(\n",
    "#         sample=sub[['t', 'c', 'Latitude', 'Longitude']].values,\n",
    "#         bins=(tbins, cbins, ybins, xbins),\n",
    "#     )\n",
    "    \n",
    "#     series = sub.groupby(by=['t'])['ID'].count().reset_index(name=\"Count\") # dont use - too mayn missing values\n",
    "    \n",
    "    with fig2.batch_update():\n",
    "        scattergl.x=sub.Longitude\n",
    "        scattergl.y=sub.Latitude\n",
    "        \n",
    "        fline.data[0].x = date_range[edges[:-1]] # edges[:-1]   #series.t\n",
    "        fline.data[0].y = counts   #series[\"Count\"]"
   ]
  },
  {
   "cell_type": "code",
   "execution_count": 3,
   "metadata": {},
   "outputs": [
    {
     "ename": "NameError",
     "evalue": "name 'scattergl' is not defined",
     "output_type": "error",
     "traceback": [
      "\u001b[0;31m---------------------------------------------------------------------------\u001b[0m",
      "\u001b[0;31mNameError\u001b[0m                                 Traceback (most recent call last)",
      "\u001b[0;32m<ipython-input-3-201585e4a798>\u001b[0m in \u001b[0;36m<module>\u001b[0;34m\u001b[0m\n\u001b[1;32m      8\u001b[0m \u001b[0;34m\u001b[0m\u001b[0m\n\u001b[1;32m      9\u001b[0m \u001b[0;34m\u001b[0m\u001b[0m\n\u001b[0;32m---> 10\u001b[0;31m \u001b[0mscattergl\u001b[0m\u001b[0;34m.\u001b[0m\u001b[0mon_selection\u001b[0m\u001b[0;34m(\u001b[0m\u001b[0mscattergl_on_select\u001b[0m\u001b[0;34m)\u001b[0m\u001b[0;34m\u001b[0m\u001b[0;34m\u001b[0m\u001b[0m\n\u001b[0m",
      "\u001b[0;31mNameError\u001b[0m: name 'scattergl' is not defined"
     ]
    }
   ],
   "source": [
    "def scattergl_on_select(trace,points,selector):\n",
    "    global lat_filter, lon_filter\n",
    "    if trace.name == 'scattergl':                \n",
    "        lon_filter = selector.xrange\n",
    "        lat_filter = selector.yrange\n",
    "        \n",
    "        update_data()\n",
    "        \n",
    "    \n",
    "scattergl.on_selection(scattergl_on_select)"
   ]
  },
  {
   "cell_type": "markdown",
   "metadata": {},
   "source": [
    "### Setup widgets\n",
    "TODO: split widgets into 2 types:\n",
    "- Filter base data\n",
    "- Select data (point in time and space)"
   ]
  },
  {
   "cell_type": "code",
   "execution_count": null,
   "metadata": {},
   "outputs": [],
   "source": [
    "# widget setup\n",
    "from ipywidgets import Layout, widgets\n",
    "\n",
    "# helper functions\n",
    "def get_widget_index(change):\n",
    "    if isinstance(change, dict) and change.get('name') == 'index':\n",
    "        return change.get('new')\n",
    "    return None\n",
    "\n",
    "def get_widget_value(change):\n",
    "    if isinstance(change, dict) and change.get('name') == 'value':\n",
    "        return change.get('new')\n",
    "    return None\n",
    "\n",
    "\n",
    "# date selectors\n",
    "date_range = pd.date_range(df.Date.min().ceil('1D'), df.Date.max().floor('1D'), freq='1D')\n",
    "\n",
    "date_range_filter = (0,-1)\n",
    "\n",
    "date_range_slider = widgets.SelectionRangeSlider(\n",
    "    options=[d.strftime('%y/%m/%d') for d in date_range],\n",
    "    index=(0, len(date_range)-1),\n",
    "    description='Date Range:',\n",
    "    disabled=False,\n",
    "    orientation = 'horizontal',\n",
    "    layout=Layout(width='95%'),\n",
    "    continuous_update=False,\n",
    ")\n",
    "\n",
    "def set_date_range_filter(change):\n",
    "    global date_range_filter\n",
    "    \n",
    "    index = get_widget_index(change)\n",
    "    if index:\n",
    "        date_range_filter = index\n",
    "        update_data()\n",
    "\n",
    "date_range_slider.observe(set_date_range_filter)\n",
    "\n",
    "\n",
    "# date display label\n",
    "current_date_label = widgets.Label(f'Date: {date_range[0]}')\n",
    "\n",
    "# time index selector\n",
    "time_index_slider = widgets.IntSlider(\n",
    "    value=0,\n",
    "    min=0,\n",
    "    max=len(date_range)-1,\n",
    "    step=1,\n",
    "    description='Time Index:',\n",
    "    continuous_update=False,\n",
    "    layout=Layout(width='80%'),\n",
    ")\n",
    "\n",
    "def time_index_change(change):\n",
    "    global current_date_label, time_index\n",
    "    time_index = get_widget_value(change)\n",
    "    if time_index:\n",
    "        current_date_label.value = f'Date: {date_range[time_index]}'\n",
    "        \n",
    "time_index_slider.observe(time_index_change)\n",
    "\n",
    "play_button = widgets.Play(\n",
    "    value=0,\n",
    "    min=time_index_slider.min,\n",
    "    max=time_index_slider.max,\n",
    "    step=1,\n",
    "    interval=500,\n",
    "    description=\"Press play\",\n",
    "    disabled=False\n",
    ")\n",
    "\n",
    "widgets.jslink((play_button, 'value'), (time_index_slider, 'value'))\n",
    "\n",
    "time_selectors = widgets.VBox([\n",
    "    widgets.HBox([date_range_slider]),\n",
    "    widgets.HBox([time_index_slider])    \n",
    "])\n",
    "\n",
    "\n",
    "# crime type selector\n",
    "selected_crime_types = []\n",
    "\n",
    "def set_selected_crime_types(button):\n",
    "    global selected_crime_types\n",
    "    if button.button_style == \"\":\n",
    "        button.button_style = \"success\"\n",
    "        selected_crime_types.append(button.description)\n",
    "    else:\n",
    "        button.button_style = \"\"\n",
    "        selected_crime_types.remove(button.description)\n",
    "    update_data()\n",
    "    \n",
    "def new_buttons(names,all_selected=False):\n",
    "    global selected_crime_types\n",
    "    buttons = []\n",
    "    \n",
    "    if all_selected:\n",
    "        selected_crime_types = [*names]\n",
    "        button_style = \"success\"\n",
    "    else:\n",
    "        selected_crime_types = []\n",
    "        button_style = \"\"\n",
    "        \n",
    "    for name in names:\n",
    "        button = widgets.Button(\n",
    "            description=name,\n",
    "            tooltip=name,\n",
    "            disabled=False,\n",
    "            button_style=button_style, # 'success', 'info', 'warning', 'danger' or ''\n",
    "        )\n",
    "        \n",
    "        button.on_click(set_selected_crime_types)\n",
    "        \n",
    "        buttons.append(button)\n",
    "    return buttons\n",
    "    \n",
    "buttons = new_buttons(names=crime_categories, all_selected=True)\n",
    "crime_selectors = widgets.VBox([\n",
    "    widgets.HBox(buttons[:3]),\n",
    "    widgets.HBox(buttons[3:6]),\n",
    "    widgets.HBox(buttons[6:]),\n",
    "])\n",
    "\n",
    "\n",
    "# widgets combinations and setup\n",
    "row0 = widgets.HBox([play_button, crime_selectors])\n",
    "row1 = time_selectors\n",
    "\n",
    "controller = widgets.VBox([row0, row1,current_date_label])"
   ]
  },
  {
   "cell_type": "code",
   "execution_count": null,
   "metadata": {
    "scrolled": false
   },
   "outputs": [],
   "source": [
    "date_range_filter = (0,-1)\n",
    "update_data()\n",
    "widgets.VBox([fline, controller, fig2])"
   ]
  },
  {
   "cell_type": "markdown",
   "metadata": {},
   "source": [
    "---\n",
    "### Animated Crime Over Time"
   ]
  },
  {
   "cell_type": "code",
   "execution_count": null,
   "metadata": {},
   "outputs": [],
   "source": [
    "def new_ffloor(delta):\n",
    "    def res(value): \n",
    "        return ffloor(value, delta)\n",
    "    return res\n",
    "\n",
    "\n",
    "\n",
    "sub = df[['t', 'Longitude', 'Latitude','c', 'Primary Type', 'Date']].sample(10_000).copy()\n",
    "sub['date_str'] = sub.Date.dt.floor('1D').dt.strftime('%c')\n",
    "sub['count'] = np.ones_like(sub.t)\n",
    "ff = new_ffloor(0.01)\n",
    "sub[['Longitude', 'Latitude']] = sub[['Longitude', 'Latitude']].apply(ff)\n",
    "\n",
    "gb = sub.groupby(by=['Longitude', 'Latitude','t','c'])\n",
    "points = gb.first()\n",
    "points['count'] = gb.count()['count']\n",
    "# points['count'] = points['count'].apply(lambda x: np.log2(1+x))\n",
    "points['count'] = points['count']/points['count'].min()\n",
    "points = points.reset_index()\n",
    "points = points.sort_values(['t','c'])\n",
    "\n",
    "points = points[points.t < 4*5]\n",
    "points"
   ]
  },
  {
   "cell_type": "code",
   "execution_count": null,
   "metadata": {},
   "outputs": [],
   "source": [
    "import plotly.express as px\n",
    "\n",
    "points['size'] = 10*points['count']\n",
    "\n",
    "fig = px.scatter(\n",
    "    data_frame=points, \n",
    "    x=\"Longitude\", \n",
    "    y=\"Latitude\", \n",
    "    title=\"Animated Crime Over Time\",\n",
    "#     facet_col=\"Primary Type\",\n",
    "#     facet_col_wrap=3,\n",
    "    width=800, \n",
    "    height=800,\n",
    "    opacity=.5,\n",
    "    size=\"size\",\n",
    "    size_max=points['size'].max(),\n",
    "    color='Primary Type',\n",
    "#     marginal_x='violin',\n",
    "    animation_frame=\"t\",\n",
    "#     animation_group=\"t\",\n",
    "#     color=\"count\",\n",
    ")\n",
    "\n",
    "fig.update_layout(\n",
    "    margin=dict(l=20, r=50, t=50, b=20),\n",
    "    paper_bgcolor=\"LightSteelBlue\",\n",
    "#     transition ={'duration': 1},\n",
    "#     frame={'duration': 100},\n",
    ")\n",
    "\n",
    "fig.layout.updatemenus[0].buttons[0].args[1][\"frame\"][\"duration\"] = 500\n",
    "fig.layout.updatemenus[0].buttons[0].args[1][\"transition\"][\"duration\"] = 0\n",
    "\n",
    "fig"
   ]
  },
  {
   "cell_type": "markdown",
   "metadata": {},
   "source": [
    "---"
   ]
  },
  {
   "cell_type": "code",
   "execution_count": null,
   "metadata": {},
   "outputs": [],
   "source": []
  }
 ],
 "metadata": {
  "kernelspec": {
   "display_name": "Python 3",
   "language": "python",
   "name": "python3"
  },
  "language_info": {
   "codemirror_mode": {
    "name": "ipython",
    "version": 3
   },
   "file_extension": ".py",
   "mimetype": "text/x-python",
   "name": "python",
   "nbconvert_exporter": "python",
   "pygments_lexer": "ipython3",
   "version": "3.8.3"
  },
  "varInspector": {
   "cols": {
    "lenName": 16,
    "lenType": 16,
    "lenVar": 40
   },
   "kernels_config": {
    "python": {
     "delete_cmd_postfix": "",
     "delete_cmd_prefix": "del ",
     "library": "var_list.py",
     "varRefreshCmd": "print(var_dic_list())"
    },
    "r": {
     "delete_cmd_postfix": ") ",
     "delete_cmd_prefix": "rm(",
     "library": "var_list.r",
     "varRefreshCmd": "cat(var_dic_list()) "
    }
   },
   "types_to_exclude": [
    "module",
    "function",
    "builtin_function_or_method",
    "instance",
    "_Feature"
   ],
   "window_display": false
  }
 },
 "nbformat": 4,
 "nbformat_minor": 4
}
